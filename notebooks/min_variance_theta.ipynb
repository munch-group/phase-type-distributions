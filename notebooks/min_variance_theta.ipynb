{
 "cells": [
  {
   "cell_type": "markdown",
   "id": "f2055bf6-961c-46c6-955d-1f3fd666fcb0",
   "metadata": {},
   "source": [
    "# Minimum variance theta"
   ]
  },
  {
   "cell_type": "code",
   "execution_count": 1,
   "id": "9c08ba81-4a6a-46b5-b522-143bef2f0dcb",
   "metadata": {},
   "outputs": [
    {
     "name": "stderr",
     "output_type": "stream",
     "text": [
      "Indlæser krævet pakke: viridisLite\n",
      "\n"
     ]
    }
   ],
   "source": [
    "library(ggplot2)\n",
    "library(viridis)\n",
    "library(grid)\n",
    "library(gridExtra)\n",
    "library(\"IRdisplay\")"
   ]
  },
  {
   "cell_type": "markdown",
   "id": "3cbc8fb0-13e2-4503-a6c3-9fb35354762a",
   "metadata": {},
   "source": [
    "R header:"
   ]
  },
  {
   "cell_type": "code",
   "execution_count": 2,
   "id": "86adfb53-bddb-4c3b-9e14-88e56682daf8",
   "metadata": {
    "tags": []
   },
   "outputs": [
    {
     "name": "stderr",
     "output_type": "stream",
     "text": [
      "── \u001b[1mAttaching core tidyverse packages\u001b[22m ──────────────────────────────────────────────────────────────── tidyverse 2.0.0 ──\n",
      "\u001b[32m✔\u001b[39m \u001b[34mdplyr    \u001b[39m 1.1.2     \u001b[32m✔\u001b[39m \u001b[34mreadr    \u001b[39m 2.1.4\n",
      "\u001b[32m✔\u001b[39m \u001b[34mforcats  \u001b[39m 1.0.0     \u001b[32m✔\u001b[39m \u001b[34mstringr  \u001b[39m 1.5.1\n",
      "\u001b[32m✔\u001b[39m \u001b[34mlubridate\u001b[39m 1.9.2     \u001b[32m✔\u001b[39m \u001b[34mtibble   \u001b[39m 3.2.1\n",
      "\u001b[32m✔\u001b[39m \u001b[34mpurrr    \u001b[39m 1.0.1     \u001b[32m✔\u001b[39m \u001b[34mtidyr    \u001b[39m 1.3.0\n",
      "── \u001b[1mConflicts\u001b[22m ────────────────────────────────────────────────────────────────────────────────── tidyverse_conflicts() ──\n",
      "\u001b[31m✖\u001b[39m \u001b[34mdplyr\u001b[39m::\u001b[32mcombine()\u001b[39m masks \u001b[34mgridExtra\u001b[39m::combine()\n",
      "\u001b[31m✖\u001b[39m \u001b[34mdplyr\u001b[39m::\u001b[32mfilter()\u001b[39m  masks \u001b[34mstats\u001b[39m::filter()\n",
      "\u001b[31m✖\u001b[39m \u001b[34mdplyr\u001b[39m::\u001b[32mlag()\u001b[39m     masks \u001b[34mstats\u001b[39m::lag()\n",
      "\u001b[36mℹ\u001b[39m Use the conflicted package (\u001b[3m\u001b[34m<http://conflicted.r-lib.org/>\u001b[39m\u001b[23m) to force all conflicts to become errors\n",
      "Indlæser krævet pakke: usethis\n",
      "\n",
      "Skipping install of 'ptdalgorithms' from a local remote, the SHA1 (1.0.0) has not changed since last install.\n",
      "  Use `force = TRUE` to force installation\n",
      "\n"
     ]
    }
   ],
   "source": [
    "library(tidyverse)\n",
    "library(devtools)\n",
    "#remove.packages(\"ptdalgorithms\")\n",
    "# devtools::install_github(\"TobiasRoikjer/PtDAlgorithms\")\n",
    "devtools::install_local('../../PtDAlgorithms', quiet=FALSE)\n",
    "library(ptdalgorithms)"
   ]
  },
  {
   "cell_type": "code",
   "execution_count": 3,
   "id": "ecaa1454-4877-4f79-82fb-99c898dc6c22",
   "metadata": {},
   "outputs": [],
   "source": [
    "# remove.packages(\"ptdalgorithms\")"
   ]
  },
  {
   "cell_type": "code",
   "execution_count": 4,
   "id": "1ad2e9d3-efab-4078-a0c4-8614a56e3283",
   "metadata": {},
   "outputs": [],
   "source": [
    "# install.packages(\"remotes\")\n",
    "# remotes::install_github(\"Thell/RcppMP\")"
   ]
  },
  {
   "cell_type": "code",
   "execution_count": 5,
   "id": "4fa4e08c-8f47-4313-ba40-6071498efae6",
   "metadata": {},
   "outputs": [],
   "source": [
    "# # GNUMPLIB\n",
    "# ./configure --prefix=$CONDA_PREFIX --enable-cxx\n"
   ]
  },
  {
   "cell_type": "code",
   "execution_count": 6,
   "id": "32d36d9a-a455-4128-aedb-d6715d907711",
   "metadata": {},
   "outputs": [],
   "source": [
    "# !export LIBS=\"-L/Users/kmt/miniconda3/envs/phasetype/lib\"\n",
    "# !export CPPFLAGS=\"-I/Users/kmt/miniconda3/envs/phasetype/include\""
   ]
  },
  {
   "cell_type": "code",
   "execution_count": 7,
   "id": "33a96990-d7e0-44e2-9d19-d72821f8a427",
   "metadata": {},
   "outputs": [],
   "source": [
    "Rcpp::sourceCpp(\"./cpp/coalescent.cpp\")"
   ]
  },
  {
   "cell_type": "code",
   "execution_count": 8,
   "id": "5505b75e-b7b3-4979-95e4-b92a104efa80",
   "metadata": {},
   "outputs": [],
   "source": [
    "source(\"plot_functions.R\")"
   ]
  },
  {
   "cell_type": "code",
   "execution_count": 9,
   "id": "b89a3416-96d7-44af-a98e-2522c66791e7",
   "metadata": {},
   "outputs": [],
   "source": [
    "theme_set(theme_bw())\n",
    "\n",
    "despine <- theme(panel.border = element_blank(), panel.grid.major = element_blank(),\n",
    "panel.grid.minor = element_blank(), axis.line = element_line(colour = \"black\"),\n",
    "                text=element_text(family=\"Arial\"))"
   ]
  },
  {
   "cell_type": "code",
   "execution_count": 10,
   "id": "60f54dc3-a834-464e-91ce-e23c773df974",
   "metadata": {},
   "outputs": [],
   "source": [
    "# p <- ggplot(data=iris, aes(x = Sepal.Length, y = Sepal.Width)) +\n",
    "#       geom_point(aes(color=Species, shape=Species)) + despine\n",
    "\n",
    "# ggplotly(width=600, height=400)"
   ]
  },
  {
   "cell_type": "code",
   "execution_count": 11,
   "id": "a3fb4aab-8efd-4ddd-81df-9e77bca51925",
   "metadata": {
    "scrolled": true
   },
   "outputs": [],
   "source": [
    "despine <- theme(panel.border = element_blank(), panel.grid.major = element_blank(),\n",
    "    panel.grid.minor = element_blank(), axis.line = element_line(colour = \"black\"),\n",
    "                text=element_text(size=17)) \n",
    "\n",
    "options(repr.plot.width=10, repr.plot.height=7)\n",
    "\n",
    "# ggplot(data=iris, aes(x = Sepal.Length, y = Sepal.Width)) +\n",
    "#       geom_point(aes(color=Species, shape=Species), size=5, alpha=0.5) + scale_color_brewer(palette=\"Set1\") + despine"
   ]
  },
  {
   "cell_type": "markdown",
   "id": "8014a4d7-27dc-42b6-9a29-8fd323e76896",
   "metadata": {},
   "source": [
    "## Generate standard coalescent state space"
   ]
  },
  {
   "cell_type": "markdown",
   "id": "4da49bca-8d8f-4cff-8075-ff455fcc5579",
   "metadata": {},
   "source": [
    "If you want to generate the state space:"
   ]
  },
  {
   "cell_type": "code",
   "execution_count": 12,
   "id": "c3a46c23-c426-4714-8507-ddeaecc95b11",
   "metadata": {},
   "outputs": [],
   "source": [
    "standard_coalescent <- function(n) {\n",
    "    \n",
    "    # n <- 4\n",
    "      \n",
    "    state_vector_length <- n + 1\n",
    "    graph <- create_graph(state_vector_length)\n",
    "    starting_vertex <- vertex_at(graph, 1)\n",
    "    initial_state <- c(rep(0, n), 0)\n",
    "    initial_state[1] <- n\n",
    "    \n",
    "    add_edge(\n",
    "      starting_vertex,\n",
    "      create_vertex(graph, initial_state),\n",
    "      1\n",
    "    )\n",
    "    index <- 2\n",
    "    \n",
    "    while (index <= vertices_length(graph)) {\n",
    "      vertex <- vertex_at(graph, index)\n",
    "      \n",
    "      # loop over all classes of lineages\n",
    "      for (i in 1:n) {\n",
    "        for (j in i:n) {\n",
    "          state <- vertex$state\n",
    "          \n",
    "          # if same class, there need to be at least two to coalesce\n",
    "          if (i == j) {\n",
    "            if (state[i] < 2) {\n",
    "              next;\n",
    "            }\n",
    "            # coal rate\n",
    "            rate <- state[i] * (state[i] - 1) / 2\n",
    "          } else {\n",
    "            # else at least one in each class to coalesce\n",
    "            if (state[i] < 1 || state[j] < 1) {\n",
    "              next;\n",
    "            }\n",
    "            # number of combinations\n",
    "            rate <- state[i] * state[j]\n",
    "          }\n",
    "          \n",
    "          # copy state\n",
    "          child_state <- state\n",
    "          # update child state\n",
    "          child_state[i] <- child_state[i] - 1\n",
    "          child_state[j] <- child_state[j] - 1\n",
    "          child_state[i+j] <- child_state[i+j] + 1\n",
    "\n",
    "          add_edge(\n",
    "              vertex,\n",
    "              find_or_create_vertex(graph, child_state),\n",
    "              rate, c(rate)\n",
    "            )\n",
    "        }\n",
    "      }\n",
    "          \n",
    "      index <- index + 1\n",
    "    }\n",
    "    return(graph)\n",
    "}\n",
    "# states <- t(sapply(1:vertices_length(graph), function(index) vertex_at(graph, index)$state ))\n",
    "# ipv <- graph_as_matrix(graph)$IPV\n",
    "# sim <- graph_as_matrix(graph)$SIM"
   ]
  },
  {
   "cell_type": "markdown",
   "id": "9e978670-43ce-494d-baf6-e41301785c03",
   "metadata": {},
   "source": [
    "## Minimum variance theta"
   ]
  },
  {
   "cell_type": "code",
   "execution_count": 13,
   "id": "34b00f33-ef82-4ea8-a321-3082b95e3fad",
   "metadata": {},
   "outputs": [
    {
     "data": {
      "text/html": [
       "<style>\n",
       ".list-inline {list-style: none; margin:0; padding: 0}\n",
       ".list-inline>li {display: inline-block}\n",
       ".list-inline>li:not(:last-child)::after {content: \"\\00b7\"; padding: 0 .5ex}\n",
       "</style>\n",
       "<ol class=list-inline><li>672.320797219442</li><li>168.095459438562</li><li>74.6444191838305</li></ol>\n"
      ],
      "text/latex": [
       "\\begin{enumerate*}\n",
       "\\item 672.320797219442\n",
       "\\item 168.095459438562\n",
       "\\item 74.6444191838305\n",
       "\\end{enumerate*}\n"
      ],
      "text/markdown": [
       "1. 672.320797219442\n",
       "2. 168.095459438562\n",
       "3. 74.6444191838305\n",
       "\n",
       "\n"
      ],
      "text/plain": [
       "[1] 672.32080 168.09546  74.64442"
      ]
     },
     "metadata": {},
     "output_type": "display_data"
    }
   ],
   "source": [
    "theta <- 0.00128\n",
    "n <- 4\n",
    "graph <- standard_coalescent(n)\n",
    "rewards <- states(graph)\n",
    "v <- theta * (1/seq(1, n-1))\n",
    "A <- (theta)**2/4 * solve(get_cov_mat(graph, t(rewards))[1:(n-1),1:(n-1)]) + diag(v)\n",
    "w <- A %*% v / c(t(v) %*% A %*% v)\n",
    "c(w)"
   ]
  },
  {
   "cell_type": "code",
   "execution_count": 14,
   "id": "3abedbc2-38f9-4301-b01d-ff228b2a5b18",
   "metadata": {},
   "outputs": [
    {
     "data": {
      "text/html": [
       "<table class=\"dataframe\">\n",
       "<caption>A matrix: 1 × 1 of type dbl</caption>\n",
       "<tbody>\n",
       "\t<tr><td>1</td></tr>\n",
       "</tbody>\n",
       "</table>\n"
      ],
      "text/latex": [
       "A matrix: 1 × 1 of type dbl\n",
       "\\begin{tabular}{l}\n",
       "\t 1\\\\\n",
       "\\end{tabular}\n"
      ],
      "text/markdown": [
       "\n",
       "A matrix: 1 × 1 of type dbl\n",
       "\n",
       "| 1 |\n",
       "\n"
      ],
      "text/plain": [
       "     [,1]\n",
       "[1,] 1   "
      ]
     },
     "metadata": {},
     "output_type": "display_data"
    }
   ],
   "source": [
    "v %*% w"
   ]
  },
  {
   "cell_type": "code",
   "execution_count": 15,
   "id": "e7c5736a-6cc7-42da-b4dc-3e01e0e0ed13",
   "metadata": {},
   "outputs": [
    {
     "data": {
      "text/html": [
       "<style>\n",
       ".list-inline {list-style: none; margin:0; padding: 0}\n",
       ".list-inline>li {display: inline-block}\n",
       ".list-inline>li:not(:last-child)::after {content: \"\\00b7\"; padding: 0 .5ex}\n",
       "</style>\n",
       "<ol class=list-inline><li>0.885013766880818</li><li>0.258424019929199</li><li>-0.0426773305362528</li></ol>\n"
      ],
      "text/latex": [
       "\\begin{enumerate*}\n",
       "\\item 0.885013766880818\n",
       "\\item 0.258424019929199\n",
       "\\item -0.0426773305362528\n",
       "\\end{enumerate*}\n"
      ],
      "text/markdown": [
       "1. 0.885013766880818\n",
       "2. 0.258424019929199\n",
       "3. -0.0426773305362528\n",
       "\n",
       "\n"
      ],
      "text/plain": [
       "[1]  0.88501377  0.25842402 -0.04267733"
      ]
     },
     "metadata": {},
     "output_type": "display_data"
    }
   ],
   "source": [
    "n <- 4\n",
    "graph <- standard_coalescent(n)\n",
    "rewards <- states(graph)\n",
    "v <- 1/seq(1, n-1)\n",
    "A <- solve(get_cov_mat(graph, t(rewards))[1:(n-1),1:(n-1)]) + diag(v)\n",
    "w <- A %*% v / c(t(v) %*% A %*% v)\n",
    "c(w)"
   ]
  },
  {
   "cell_type": "code",
   "execution_count": 16,
   "id": "2da5fb9e-def1-4869-8765-926321e1f5ac",
   "metadata": {},
   "outputs": [
    {
     "data": {
      "text/html": [
       "1.83333333333333"
      ],
      "text/latex": [
       "1.83333333333333"
      ],
      "text/markdown": [
       "1.83333333333333"
      ],
      "text/plain": [
       "[1] 1.833333"
      ]
     },
     "metadata": {},
     "output_type": "display_data"
    }
   ],
   "source": [
    "some_obs_sfs <- v \n",
    "sum(some_obs_sfs)"
   ]
  },
  {
   "cell_type": "code",
   "execution_count": 17,
   "id": "b38c38ab-007d-42fa-9728-6642c7d95aec",
   "metadata": {},
   "outputs": [
    {
     "data": {
      "text/html": [
       "1"
      ],
      "text/latex": [
       "1"
      ],
      "text/markdown": [
       "1"
      ],
      "text/plain": [
       "[1] 1"
      ]
     },
     "metadata": {},
     "output_type": "display_data"
    }
   ],
   "source": [
    "sum(some_obs_sfs * w)"
   ]
  },
  {
   "cell_type": "code",
   "execution_count": 18,
   "id": "b2c2e0a4-d854-4d5a-a0da-1f6dd32138ae",
   "metadata": {},
   "outputs": [
    {
     "data": {
      "text/html": [
       "<table class=\"dataframe\">\n",
       "<caption>A matrix: 3 × 1 of type dbl</caption>\n",
       "<tbody>\n",
       "\t<tr><td> 1.129926</td></tr>\n",
       "\t<tr><td> 1.934805</td></tr>\n",
       "\t<tr><td>-7.810548</td></tr>\n",
       "</tbody>\n",
       "</table>\n"
      ],
      "text/latex": [
       "A matrix: 3 × 1 of type dbl\n",
       "\\begin{tabular}{l}\n",
       "\t  1.129926\\\\\n",
       "\t  1.934805\\\\\n",
       "\t -7.810548\\\\\n",
       "\\end{tabular}\n"
      ],
      "text/markdown": [
       "\n",
       "A matrix: 3 × 1 of type dbl\n",
       "\n",
       "|  1.129926 |\n",
       "|  1.934805 |\n",
       "| -7.810548 |\n",
       "\n"
      ],
      "text/plain": [
       "     [,1]     \n",
       "[1,]  1.129926\n",
       "[2,]  1.934805\n",
       "[3,] -7.810548"
      ]
     },
     "metadata": {},
     "output_type": "display_data"
    }
   ],
   "source": [
    "some_obs_sfs / w"
   ]
  },
  {
   "cell_type": "code",
   "execution_count": 19,
   "id": "6c9484fa-7a79-41d0-98f3-ac00e4352962",
   "metadata": {},
   "outputs": [
    {
     "data": {
      "text/html": [
       "1"
      ],
      "text/latex": [
       "1"
      ],
      "text/markdown": [
       "1"
      ],
      "text/plain": [
       "[1] 1"
      ]
     },
     "metadata": {},
     "output_type": "display_data"
    }
   ],
   "source": [
    "sum(some_obs_sfs * w)"
   ]
  },
  {
   "cell_type": "code",
   "execution_count": 20,
   "id": "72183c64-dcfc-4788-8647-c6bdf454d340",
   "metadata": {},
   "outputs": [
    {
     "data": {
      "text/html": [
       "2.0180608365019"
      ],
      "text/latex": [
       "2.0180608365019"
      ],
      "text/markdown": [
       "2.0180608365019"
      ],
      "text/plain": [
       "[1] 2.018061"
      ]
     },
     "metadata": {},
     "output_type": "display_data"
    }
   ],
   "source": [
    "sum(some_obs_sfs) * sum(w)"
   ]
  },
  {
   "cell_type": "code",
   "execution_count": 21,
   "id": "17db6055-0be1-41b4-b32d-05f4fee7be8d",
   "metadata": {},
   "outputs": [
    {
     "data": {
      "text/html": [
       "1.36111111111111"
      ],
      "text/latex": [
       "1.36111111111111"
      ],
      "text/markdown": [
       "1.36111111111111"
      ],
      "text/plain": [
       "[1] 1.361111"
      ]
     },
     "metadata": {},
     "output_type": "display_data"
    }
   ],
   "source": [
    "sum(some_obs_sfs * v)"
   ]
  },
  {
   "cell_type": "code",
   "execution_count": null,
   "id": "d519410e-6271-43d8-88f1-0d4beefde966",
   "metadata": {},
   "outputs": [],
   "source": []
  },
  {
   "cell_type": "code",
   "execution_count": null,
   "id": "b0691fcd-7076-4904-afda-f76e408c3b6b",
   "metadata": {},
   "outputs": [],
   "source": []
  },
  {
   "cell_type": "code",
   "execution_count": null,
   "id": "5836a126-ece4-47aa-b6e7-0145bb3c9b84",
   "metadata": {},
   "outputs": [],
   "source": []
  },
  {
   "cell_type": "code",
   "execution_count": null,
   "id": "b6fcce6c-f939-43dd-8af6-22c6101fe425",
   "metadata": {},
   "outputs": [],
   "source": []
  }
 ],
 "metadata": {
  "kernelspec": {
   "display_name": "R",
   "language": "R",
   "name": "ir"
  },
  "language_info": {
   "codemirror_mode": "r",
   "file_extension": ".r",
   "mimetype": "text/x-r-source",
   "name": "R",
   "pygments_lexer": "r",
   "version": "4.3.1"
  }
 },
 "nbformat": 4,
 "nbformat_minor": 5
}
