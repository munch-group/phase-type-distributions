{
 "cells": [
  {
   "cell_type": "code",
   "execution_count": 1,
   "id": "b78584f6-65ac-4c0f-b209-954b2f3d5109",
   "metadata": {
    "vscode": {
     "languageId": "r"
    }
   },
   "outputs": [
    {
     "name": "stderr",
     "output_type": "stream",
     "text": [
      "Indlæser krævet pakke: viridisLite\n",
      "\n",
      "── \u001b[1mAttaching core tidyverse packages\u001b[22m ──────────────────────────────────────────────────────────────── tidyverse 2.0.0 ──\n",
      "\u001b[32m✔\u001b[39m \u001b[34mdplyr    \u001b[39m 1.1.2     \u001b[32m✔\u001b[39m \u001b[34mreadr    \u001b[39m 2.1.4\n",
      "\u001b[32m✔\u001b[39m \u001b[34mforcats  \u001b[39m 1.0.0     \u001b[32m✔\u001b[39m \u001b[34mstringr  \u001b[39m 1.5.1\n",
      "\u001b[32m✔\u001b[39m \u001b[34mlubridate\u001b[39m 1.9.2     \u001b[32m✔\u001b[39m \u001b[34mtibble   \u001b[39m 3.2.1\n",
      "\u001b[32m✔\u001b[39m \u001b[34mpurrr    \u001b[39m 1.0.1     \u001b[32m✔\u001b[39m \u001b[34mtidyr    \u001b[39m 1.3.0\n",
      "── \u001b[1mConflicts\u001b[22m ────────────────────────────────────────────────────────────────────────────────── tidyverse_conflicts() ──\n",
      "\u001b[31m✖\u001b[39m \u001b[34mdplyr\u001b[39m::\u001b[32mcombine()\u001b[39m masks \u001b[34mgridExtra\u001b[39m::combine()\n",
      "\u001b[31m✖\u001b[39m \u001b[34mdplyr\u001b[39m::\u001b[32mfilter()\u001b[39m  masks \u001b[34mstats\u001b[39m::filter()\n",
      "\u001b[31m✖\u001b[39m \u001b[34mdplyr\u001b[39m::\u001b[32mlag()\u001b[39m     masks \u001b[34mstats\u001b[39m::lag()\n",
      "\u001b[36mℹ\u001b[39m Use the conflicted package (\u001b[3m\u001b[34m<http://conflicted.r-lib.org/>\u001b[39m\u001b[23m) to force all conflicts to become errors\n",
      "Indlæser krævet pakke: usethis\n",
      "\n"
     ]
    }
   ],
   "source": [
    "library(ggplot2)\n",
    "library(viridis)\n",
    "library(grid)\n",
    "library(gridExtra)\n",
    "library(\"IRdisplay\")\n",
    "library(tidyverse)\n",
    "\n",
    "library(devtools)\n",
    "#remove.packages(\"ptdalgorithms\")\n",
    "# devtools::install_github(\"TobiasRoikjer/PtDAlgorithms\")\n",
    "#devtools::install_local('../../PtDAlgorithms', quiet=FALSE)\n",
    "library(ptdalgorithms)\n",
    "\n",
    "source(\"plot_functions.R\")\n",
    "\n",
    "theme_set(theme_bw())\n",
    "despine <- theme(panel.border = element_blank(), panel.grid.major = element_blank(),\n",
    "    panel.grid.minor = element_blank(), axis.line = element_line(colour = \"black\"),\n",
    "                # text=element_text(size=17)\n",
    "                # text=element_text(family=\"Arial\")\n",
    "                ) "
   ]
  },
  {
   "cell_type": "code",
   "execution_count": 2,
   "id": "4df20e1c-19da-47b4-8262-32f5e15e45e5",
   "metadata": {
    "vscode": {
     "languageId": "r"
    }
   },
   "outputs": [],
   "source": [
    "# # epoque_nr <- 1\n",
    "# epoques <- c(0, 1, 2)\n",
    "# pop_sizes <- c(1, 5, 10)\n",
    "# n_samples <- 10\n",
    "\n",
    "# epoque_nr <- 1\n",
    "# epoques <- c(0, 1, 2)\n",
    "# pop_sizes <- c(1, 0.5, 1)\n",
    "# n_samples <- 4\n",
    "\n",
    "# epoque_nr <- 1\n",
    "# epoques <- c(0, 1, 2)\n",
    "# pop_sizes <- c(1, 100, 1)\n",
    "# n_samples <- 10"
   ]
  },
  {
   "cell_type": "markdown",
   "id": "14f96e4f-5a1d-4486-9593-b34893c94844",
   "metadata": {},
   "source": [
    "# R version of add_epoque"
   ]
  },
  {
   "cell_type": "code",
   "execution_count": 19,
   "id": "ebe54622-d89d-40a5-aae1-fbed894f99ac",
   "metadata": {
    "vscode": {
     "languageId": "r"
    }
   },
   "outputs": [],
   "source": [
    "epoque_coalescent <- function(n, size, graph=NULL, edge_trans=NULL, epoque=0) {\n",
    "\n",
    "    state_vector_length <- n + 1\n",
    "\n",
    "    if (is.null(graph)) {\n",
    "    \n",
    "        graph <- create_graph(state_vector_length)\n",
    "        starting_vertex <- vertex_at(graph, 1)\n",
    "        initial_state <- c(rep(0, n), epoque)\n",
    "        initial_state[1] <- n\n",
    "        \n",
    "        add_edge(\n",
    "          starting_vertex,\n",
    "          create_vertex(graph, initial_state),\n",
    "          1\n",
    "        )\n",
    "        index <- 2\n",
    "        \n",
    "    } else {\n",
    "        nr_states <- vertices_length(graph)\n",
    "        for (i in 2:(nr_states-1)) {\n",
    "            if (is.nan(edge_trans[i-1])) {\n",
    "                next;\n",
    "            }\n",
    "            vertex <- vertex_at(graph, i)\n",
    "            state <- vertex$state\n",
    "            sister_state <- state\n",
    "            sister_state[length(sister_state)] <- epoque\n",
    "            add_edge(\n",
    "              vertex,\n",
    "              find_or_create_vertex(graph, sister_state),\n",
    "              edge_trans[i-1], c(edge_trans[i-1]) # -1 becuase first index is 2 and first element of edge_trans is 1\n",
    "            )\n",
    "        }\n",
    "        index <- nr_states + 1\n",
    "    }\n",
    "\n",
    "    while (index <= vertices_length(graph)) {\n",
    "      vertex <- vertex_at(graph, index)\n",
    "\n",
    "        # loop over all classes of lineages\n",
    "      for (i in 1:n) {\n",
    "        for (j in i:n) {\n",
    "          state <- vertex$state\n",
    "\n",
    "          # if same class, there need to be at least two to coalesce\n",
    "          if (i == j) {\n",
    "            if (state[i] < 2) {\n",
    "              next; # an absorbing state that is not the last state\n",
    "            }\n",
    "            # coal rate\n",
    "            rate <- state[i] * (state[i] - 1) / 2\n",
    "          } else {\n",
    "            # else at least one in each class to coalesce\n",
    "            if (state[i] < 1 || state[j] < 1) {\n",
    "              next;\n",
    "            }\n",
    "            # number of combinations\n",
    "            rate <- state[i] * state[j]\n",
    "          }\n",
    "\n",
    "          rate = rate / size\n",
    "            \n",
    "          # copy state\n",
    "          child_state <- state\n",
    "            \n",
    "          # update child state\n",
    "          child_state[i] <- child_state[i] - 1\n",
    "          child_state[j] <- child_state[j] - 1\n",
    "          child_state[i+j] <- child_state[i+j] + 1\n",
    "\n",
    "          add_edge(\n",
    "              vertex,\n",
    "              find_or_create_vertex(graph, child_state),\n",
    "              rate, c(rate)\n",
    "            )\n",
    "        }\n",
    "      }\n",
    "        \n",
    "      index <- index + 1\n",
    "    }\n",
    "    if (epoque == 0) {\n",
    "        return(graph)\n",
    "    }\n",
    "}\n",
    "\n",
    "add_epoque <- function(n, size, graph, epoque_trans, epoque)\n",
    "    return(epoque_coalescent(n, size, graph, epoque_trans, epoque))"
   ]
  },
  {
   "cell_type": "markdown",
   "id": "b61669e3-10de-4569-8935-6b555ac87890",
   "metadata": {},
   "source": [
    "## Check that I get the same as Janek for n=10"
   ]
  },
  {
   "cell_type": "code",
   "execution_count": 20,
   "id": "41585e3d-7425-40c2-bde0-8b5fa6c1a7eb",
   "metadata": {},
   "outputs": [],
   "source": [
    "janek <- c(8.807791589074768, 177.8449395799212, 5388.12207361224, 216313.46645481227, 10829024.877199283)"
   ]
  },
  {
   "cell_type": "code",
   "execution_count": 21,
   "id": "95628f4a-82ad-452f-9640-cbb2527d08c3",
   "metadata": {},
   "outputs": [],
   "source": [
    "epoques <- c(0, 1, 2)\n",
    "pop_sizes <- c(1, 5, 10)\n",
    "n_samples <- 10"
   ]
  },
  {
   "cell_type": "code",
   "execution_count": 22,
   "id": "7ac2ea2e-8bc2-468d-adb2-f6b6bd3548b6",
   "metadata": {
    "vscode": {
     "languageId": "r"
    }
   },
   "outputs": [
    {
     "data": {
      "text/html": [
       "<style>\n",
       ".list-inline {list-style: none; margin:0; padding: 0}\n",
       ".list-inline>li {display: inline-block}\n",
       ".list-inline>li:not(:last-child)::after {content: \"\\00b7\"; padding: 0 .5ex}\n",
       "</style>\n",
       "<ol class=list-inline><li>1.8</li><li>4.39814184933233</li><li>14.1722637944066</li><li>58.1365672687915</li><li>293.229090404423</li></ol>\n"
      ],
      "text/latex": [
       "\\begin{enumerate*}\n",
       "\\item 1.8\n",
       "\\item 4.39814184933233\n",
       "\\item 14.1722637944066\n",
       "\\item 58.1365672687915\n",
       "\\item 293.229090404423\n",
       "\\end{enumerate*}\n"
      ],
      "text/markdown": [
       "1. 1.8\n",
       "2. 4.39814184933233\n",
       "3. 14.1722637944066\n",
       "4. 58.1365672687915\n",
       "5. 293.229090404423\n",
       "\n",
       "\n"
      ],
      "text/plain": [
       "[1]   1.800000   4.398142  14.172264  58.136567 293.229090"
      ]
     },
     "metadata": {},
     "output_type": "display_data"
    }
   ],
   "source": [
    "graph <- epoque_coalescent(n_samples, pop_sizes[1])\n",
    "moments(graph, 5)"
   ]
  },
  {
   "cell_type": "code",
   "execution_count": 23,
   "id": "9752aacb-09c8-4b8d-919b-036f80bd39be",
   "metadata": {
    "vscode": {
     "languageId": "r"
    }
   },
   "outputs": [
    {
     "data": {
      "text/html": [
       "<style>\n",
       ".list-inline {list-style: none; margin:0; padding: 0}\n",
       ".list-inline>li {display: inline-block}\n",
       ".list-inline>li:not(:last-child)::after {content: \"\\00b7\"; padding: 0 .5ex}\n",
       "</style>\n",
       "<ol class=list-inline><li>5.23139447607954</li><li>53.1237374637108</li><li>805.234287519312</li><li>16174.7729610499</li><li>404992.48713242</li></ol>\n"
      ],
      "text/latex": [
       "\\begin{enumerate*}\n",
       "\\item 5.23139447607954\n",
       "\\item 53.1237374637108\n",
       "\\item 805.234287519312\n",
       "\\item 16174.7729610499\n",
       "\\item 404992.48713242\n",
       "\\end{enumerate*}\n"
      ],
      "text/markdown": [
       "1. 5.23139447607954\n",
       "2. 53.1237374637108\n",
       "3. 805.234287519312\n",
       "4. 16174.7729610499\n",
       "5. 404992.48713242\n",
       "\n",
       "\n"
      ],
      "text/plain": [
       "[1] 5.231394e+00 5.312374e+01 8.052343e+02 1.617477e+04 4.049925e+05"
      ]
     },
     "metadata": {},
     "output_type": "display_data"
    }
   ],
   "source": [
    "x <- stop_probability(graph, epoques[2])\n",
    "stop_probs <- x[2:(length(x)-1)]\n",
    "x <- accumulated_visiting_time(graph, epoques[2])\n",
    "accum_v_time <- x[2:(length(x)-1)]\n",
    "epoque_trans_rates <- stop_probs / accum_v_time\n",
    "add_epoque(n_samples, pop_sizes[2], graph, epoque_trans_rates, 2)\n",
    "moments(graph, 5)"
   ]
  },
  {
   "cell_type": "code",
   "execution_count": 24,
   "id": "3b7a25e7-c5be-4c72-9957-30b79d75cf6f",
   "metadata": {
    "vscode": {
     "languageId": "r"
    }
   },
   "outputs": [
    {
     "data": {
      "text/html": [
       "<style>\n",
       ".list-inline {list-style: none; margin:0; padding: 0}\n",
       ".list-inline>li {display: inline-block}\n",
       ".list-inline>li:not(:last-child)::after {content: \"\\00b7\"; padding: 0 .5ex}\n",
       "</style>\n",
       "<ol class=list-inline><li>8.82384323100548</li><li>175.719893068682</li><li>5304.45559566138</li><li>212763.876309921</li><li>10648555.4597396</li></ol>\n"
      ],
      "text/latex": [
       "\\begin{enumerate*}\n",
       "\\item 8.82384323100548\n",
       "\\item 175.719893068682\n",
       "\\item 5304.45559566138\n",
       "\\item 212763.876309921\n",
       "\\item 10648555.4597396\n",
       "\\end{enumerate*}\n"
      ],
      "text/markdown": [
       "1. 8.82384323100548\n",
       "2. 175.719893068682\n",
       "3. 5304.45559566138\n",
       "4. 212763.876309921\n",
       "5. 10648555.4597396\n",
       "\n",
       "\n"
      ],
      "text/plain": [
       "[1] 8.823843e+00 1.757199e+02 5.304456e+03 2.127639e+05 1.064856e+07"
      ]
     },
     "metadata": {},
     "output_type": "display_data"
    }
   ],
   "source": [
    "x <- stop_probability(graph, epoques[3])\n",
    "stop_probs <- x[2:(length(x)-1)]\n",
    "x <- accumulated_visiting_time(graph, epoques[3])\n",
    "accum_v_time <- x[2:(length(x)-1)]\n",
    "epoque_trans_rates <- stop_probs / accum_v_time\n",
    "add_epoque(n_samples, pop_sizes[3], graph, epoque_trans_rates, 3)\n",
    "moments(graph, 5)"
   ]
  },
  {
   "cell_type": "code",
   "execution_count": 25,
   "id": "c35fc052-5c7d-456d-9985-c973599cf04f",
   "metadata": {
    "vscode": {
     "languageId": "r"
    }
   },
   "outputs": [
    {
     "data": {
      "text/html": [
       "<style>\n",
       ".list-inline {list-style: none; margin:0; padding: 0}\n",
       ".list-inline>li {display: inline-block}\n",
       ".list-inline>li:not(:last-child)::after {content: \"\\00b7\"; padding: 0 .5ex}\n",
       "</style>\n",
       "<ol class=list-inline><li>8.82384323100548</li><li>175.719893068682</li><li>5304.45559566138</li><li>212763.876309921</li><li>10648555.4597396</li></ol>\n"
      ],
      "text/latex": [
       "\\begin{enumerate*}\n",
       "\\item 8.82384323100548\n",
       "\\item 175.719893068682\n",
       "\\item 5304.45559566138\n",
       "\\item 212763.876309921\n",
       "\\item 10648555.4597396\n",
       "\\end{enumerate*}\n"
      ],
      "text/markdown": [
       "1. 8.82384323100548\n",
       "2. 175.719893068682\n",
       "3. 5304.45559566138\n",
       "4. 212763.876309921\n",
       "5. 10648555.4597396\n",
       "\n",
       "\n"
      ],
      "text/plain": [
       "[1] 8.823843e+00 1.757199e+02 5.304456e+03 2.127639e+05 1.064856e+07"
      ]
     },
     "metadata": {},
     "output_type": "display_data"
    }
   ],
   "source": [
    "mine <- moments(graph, 5)\n",
    "mine"
   ]
  },
  {
   "cell_type": "code",
   "execution_count": 26,
   "id": "7a728d51-87cb-459c-b53c-3b11806616fc",
   "metadata": {},
   "outputs": [
    {
     "data": {
      "text/html": [
       "<style>\n",
       ".list-inline {list-style: none; margin:0; padding: 0}\n",
       ".list-inline>li {display: inline-block}\n",
       ".list-inline>li:not(:last-child)::after {content: \"\\00b7\"; padding: 0 .5ex}\n",
       "</style>\n",
       "<ol class=list-inline><li>8.80779158907477</li><li>177.844939579921</li><li>5388.12207361224</li><li>216313.466454812</li><li>10829024.8771993</li></ol>\n"
      ],
      "text/latex": [
       "\\begin{enumerate*}\n",
       "\\item 8.80779158907477\n",
       "\\item 177.844939579921\n",
       "\\item 5388.12207361224\n",
       "\\item 216313.466454812\n",
       "\\item 10829024.8771993\n",
       "\\end{enumerate*}\n"
      ],
      "text/markdown": [
       "1. 8.80779158907477\n",
       "2. 177.844939579921\n",
       "3. 5388.12207361224\n",
       "4. 216313.466454812\n",
       "5. 10829024.8771993\n",
       "\n",
       "\n"
      ],
      "text/plain": [
       "[1] 8.807792e+00 1.778449e+02 5.388122e+03 2.163135e+05 1.082902e+07"
      ]
     },
     "metadata": {},
     "output_type": "display_data"
    }
   ],
   "source": [
    "janek"
   ]
  },
  {
   "cell_type": "code",
   "execution_count": 27,
   "id": "fe8d1c52-3ab4-4e51-b7bd-6090232dcfe3",
   "metadata": {
    "vscode": {
     "languageId": "r"
    }
   },
   "outputs": [
    {
     "data": {
      "text/html": [
       "<style>\n",
       ".list-inline {list-style: none; margin:0; padding: 0}\n",
       ".list-inline>li {display: inline-block}\n",
       ".list-inline>li:not(:last-child)::after {content: \"\\00b7\"; padding: 0 .5ex}\n",
       "</style>\n",
       "<ol class=list-inline><li>0.00182243661971077</li><li>-0.0119488725192805</li><li>-0.0155279477353734</li><li>-0.0164094737284086</li><li>-0.0166653433255688</li></ol>\n"
      ],
      "text/latex": [
       "\\begin{enumerate*}\n",
       "\\item 0.00182243661971077\n",
       "\\item -0.0119488725192805\n",
       "\\item -0.0155279477353734\n",
       "\\item -0.0164094737284086\n",
       "\\item -0.0166653433255688\n",
       "\\end{enumerate*}\n"
      ],
      "text/markdown": [
       "1. 0.00182243661971077\n",
       "2. -0.0119488725192805\n",
       "3. -0.0155279477353734\n",
       "4. -0.0164094737284086\n",
       "5. -0.0166653433255688\n",
       "\n",
       "\n"
      ],
      "text/plain": [
       "[1]  0.001822437 -0.011948873 -0.015527948 -0.016409474 -0.016665343"
      ]
     },
     "metadata": {},
     "output_type": "display_data"
    }
   ],
   "source": [
    "(mine - janek) / janek"
   ]
  },
  {
   "cell_type": "markdown",
   "id": "945b1047-5cc2-4b8c-9f62-3473d66125fc",
   "metadata": {},
   "source": [
    "### SFS"
   ]
  },
  {
   "cell_type": "code",
   "execution_count": 28,
   "id": "2b9921da-b33f-4193-ba52-c791cef0a89c",
   "metadata": {
    "vscode": {
     "languageId": "r"
    }
   },
   "outputs": [],
   "source": [
    "rewards <- sapply(1:vertices_length(graph), function(index) vertex_at(graph, index)$state )"
   ]
  },
  {
   "cell_type": "code",
   "execution_count": 29,
   "id": "557be0a2-c515-49f2-8d11-6011e0ec219b",
   "metadata": {
    "vscode": {
     "languageId": "r"
    }
   },
   "outputs": [
    {
     "data": {
      "image/png": "[encoded data removed]",
      "text/plain": [
       "plot without title"
      ]
     },
     "metadata": {
      "image/png": {
       "height": 420,
       "width": 420
      }
     },
     "output_type": "display_data"
    }
   ],
   "source": [
    "plot_sfs(graph, rewards) + labs(y = \"branch length\", x = \"ton\") +  \n",
    "                  scale_x_continuous(breaks = 1:9)+ theme(legend.position = \"none\") + labs(x='nr descendants')"
   ]
  },
  {
   "cell_type": "markdown",
   "id": "84a6cb90-9695-4433-84cc-130e0729acd7",
   "metadata": {},
   "source": [
    "### SFS using dist context"
   ]
  },
  {
   "cell_type": "code",
   "execution_count": 30,
   "id": "b4f56a85-345f-439a-96b3-cdf3d4753a88",
   "metadata": {
    "vscode": {
     "languageId": "r"
    }
   },
   "outputs": [
    {
     "data": {
      "image/png": "[encoded data removed]",
      "text/plain": [
       "plot without title"
      ]
     },
     "metadata": {
      "image/png": {
       "height": 420,
       "width": 420
      }
     },
     "output_type": "display_data"
    }
   ],
   "source": [
    "distr_cont_graph <- epoque_coalescent(n_samples, pop_sizes[1])\n",
    "rewards <- sapply(1:vertices_length(distr_cont_graph), function(index) vertex_at(distr_cont_graph, index)$state )\n",
    "\n",
    "tmrca_pdf <- c()\n",
    "time <- c()\n",
    "\n",
    "#ctx <- distribution_context(distr_cont_graph, 1000)\n",
    "ctx <- distribution_context(distr_cont_graph)\n",
    "prev_size <- 0\n",
    "while (distribution_context_state(ctx)$cdf < 0.999) { \n",
    "    tmrca_pdf[[(length(tmrca_pdf) + 1)]] <- distribution_context_state(ctx)$pdf\n",
    "    time[[(length(time) + 1)]] <- distribution_context_state(ctx)$time\n",
    "    \n",
    "    size <- pop_sizes[findInterval(distribution_context_state(ctx)$time, epoques)]\n",
    "    if (size != prev_size) {\n",
    "        graph_update_weights_parameterized(distr_cont_graph, c(1/size))\n",
    "    }\n",
    "    prev_size <- size\n",
    "    distribution_context_step(ctx)\n",
    "}\n",
    "expected_visits <- distribution_context_accumulated_visiting_time(ctx)\n",
    "sfs <- c()\n",
    "for (i in 1:(dim(rewards)[1]-1)) {\n",
    "    sfs <- c(sfs, sum(expected_visits * rewards[i, ]))\n",
    "}\n",
    "data.frame(ton=seq(1,length(sfs)), brlen=sfs) %>%\n",
    "ggplot(aes(x=ton, y=brlen, fill=ton)) + \n",
    "  geom_bar(stat = \"identity\", width=0.8) + scale_fill_viridis() + despine"
   ]
  },
  {
   "cell_type": "markdown",
   "id": "62bb46a6-4f8a-4974-85b1-7ac5b839bd50",
   "metadata": {},
   "source": [
    "## Sample size 4"
   ]
  },
  {
   "cell_type": "code",
   "execution_count": 31,
   "id": "1415c9ee-a596-43f2-8c7f-befef889d280",
   "metadata": {},
   "outputs": [],
   "source": [
    "epoques <- c(0, 1, 2)\n",
    "pop_sizes <- c(1, 5, 10)\n",
    "n_samples <- 3"
   ]
  },
  {
   "cell_type": "markdown",
   "id": "8c816889-bc75-4d86-9983-9e94917c28e6",
   "metadata": {},
   "source": [
    "### Epoque 1"
   ]
  },
  {
   "cell_type": "code",
   "execution_count": null,
   "id": "d53453f1-9c27-4cbd-8eac-504235f3820f",
   "metadata": {},
   "outputs": [],
   "source": []
  },
  {
   "cell_type": "code",
   "execution_count": 32,
   "id": "0af55d6e-4672-477a-973d-5808950abdb8",
   "metadata": {
    "vscode": {
     "languageId": "r"
    }
   },
   "outputs": [
    {
     "data": {
      "text/html": [
       "<dl>\n",
       "\t<dt>$states</dt>\n",
       "\t\t<dd><table class=\"dataframe\">\n",
       "<caption>A matrix: 2 × 4 of type dbl</caption>\n",
       "<tbody>\n",
       "\t<tr><td>3</td><td>0</td><td>0</td><td>0</td></tr>\n",
       "\t<tr><td>1</td><td>1</td><td>0</td><td>0</td></tr>\n",
       "</tbody>\n",
       "</table>\n",
       "</dd>\n",
       "\t<dt>$SIM</dt>\n",
       "\t\t<dd><table class=\"dataframe\">\n",
       "<caption>A matrix: 2 × 2 of type dbl</caption>\n",
       "<tbody>\n",
       "\t<tr><td>-3</td><td> 3</td></tr>\n",
       "\t<tr><td> 0</td><td>-1</td></tr>\n",
       "</tbody>\n",
       "</table>\n",
       "</dd>\n",
       "\t<dt>$IPV</dt>\n",
       "\t\t<dd><style>\n",
       ".list-inline {list-style: none; margin:0; padding: 0}\n",
       ".list-inline>li {display: inline-block}\n",
       ".list-inline>li:not(:last-child)::after {content: \"\\00b7\"; padding: 0 .5ex}\n",
       "</style>\n",
       "<ol class=list-inline><li>1</li><li>0</li></ol>\n",
       "</dd>\n",
       "\t<dt>$indices</dt>\n",
       "\t\t<dd><style>\n",
       ".list-inline {list-style: none; margin:0; padding: 0}\n",
       ".list-inline>li {display: inline-block}\n",
       ".list-inline>li:not(:last-child)::after {content: \"\\00b7\"; padding: 0 .5ex}\n",
       "</style>\n",
       "<ol class=list-inline><li>2</li><li>3</li></ol>\n",
       "</dd>\n",
       "</dl>\n"
      ],
      "text/latex": [
       "\\begin{description}\n",
       "\\item[\\$states] A matrix: 2 × 4 of type dbl\n",
       "\\begin{tabular}{llll}\n",
       "\t 3 & 0 & 0 & 0\\\\\n",
       "\t 1 & 1 & 0 & 0\\\\\n",
       "\\end{tabular}\n",
       "\n",
       "\\item[\\$SIM] A matrix: 2 × 2 of type dbl\n",
       "\\begin{tabular}{ll}\n",
       "\t -3 &  3\\\\\n",
       "\t  0 & -1\\\\\n",
       "\\end{tabular}\n",
       "\n",
       "\\item[\\$IPV] \\begin{enumerate*}\n",
       "\\item 1\n",
       "\\item 0\n",
       "\\end{enumerate*}\n",
       "\n",
       "\\item[\\$indices] \\begin{enumerate*}\n",
       "\\item 2\n",
       "\\item 3\n",
       "\\end{enumerate*}\n",
       "\n",
       "\\end{description}\n"
      ],
      "text/markdown": [
       "$states\n",
       ":   \n",
       "A matrix: 2 × 4 of type dbl\n",
       "\n",
       "| 3 | 0 | 0 | 0 |\n",
       "| 1 | 1 | 0 | 0 |\n",
       "\n",
       "\n",
       "$SIM\n",
       ":   \n",
       "A matrix: 2 × 2 of type dbl\n",
       "\n",
       "| -3 |  3 |\n",
       "|  0 | -1 |\n",
       "\n",
       "\n",
       "$IPV\n",
       ":   1. 1\n",
       "2. 0\n",
       "\n",
       "\n",
       "\n",
       "$indices\n",
       ":   1. 2\n",
       "2. 3\n",
       "\n",
       "\n",
       "\n",
       "\n",
       "\n"
      ],
      "text/plain": [
       "$states\n",
       "     [,1] [,2] [,3] [,4]\n",
       "[1,]    3    0    0    0\n",
       "[2,]    1    1    0    0\n",
       "\n",
       "$SIM\n",
       "     [,1] [,2]\n",
       "[1,]   -3    3\n",
       "[2,]    0   -1\n",
       "\n",
       "$IPV\n",
       "[1] 1 0\n",
       "\n",
       "$indices\n",
       "[1] 2 3\n"
      ]
     },
     "metadata": {},
     "output_type": "display_data"
    }
   ],
   "source": [
    "graph <- epoque_coalescent(n_samples, pop_sizes[1])\n",
    "graph_as_matrix(graph)"
   ]
  },
  {
   "cell_type": "code",
   "execution_count": 33,
   "id": "04bd692d-658e-4cea-9556-22fe13ff41a5",
   "metadata": {
    "vscode": {
     "languageId": "r"
    }
   },
   "outputs": [
    {
     "data": {
      "image/svg+xml": [
       "<?xml version=\"1.0\" encoding=\"UTF-8\" standalone=\"no\"?>\n",
       "<!DOCTYPE svg PUBLIC \"-//W3C//DTD SVG 1.1//EN\"\n",
       " \"http://www.w3.org/Graphics/SVG/1.1/DTD/svg11.dtd\">\n",
       "<!-- Generated by graphviz version 8.1.0 (0)\n",
       " -->\n",
       "<!-- Title: G Pages: 1 -->\n",
       "<svg width=\"576pt\" height=\"159pt\"\n",
       " viewBox=\"0.00 0.00 576.00 159.21\" xmlns=\"http://www.w3.org/2000/svg\" xmlns:xlink=\"http://www.w3.org/1999/xlink\">\n",
       "<g id=\"graph0\" class=\"graph\" transform=\"scale(0.97676 0.97676) rotate(0) translate(36 127)\">\n",
       "<title>G</title>\n",
       "<polygon fill=\"white\" stroke=\"none\" points=\"-36,36 -36,-127 553.71,-127 553.71,36 -36,36\"/>\n",
       "<g id=\"clust3\" class=\"cluster\">\n",
       "<title>cluster_300</title>\n",
       "<polygon fill=\"whitesmoke\" stroke=\"whitesmoke\" points=\"125.5,-8 125.5,-83 215.92,-83 215.92,-8 125.5,-8\"/>\n",
       "<text text-anchor=\"middle\" x=\"170.71\" y=\"-65.7\" font-family=\"Helvetica,Arial,sans-serif\" font-size=\"14.00\">300</text>\n",
       "</g>\n",
       "<g id=\"clust4\" class=\"cluster\">\n",
       "<title>cluster_110</title>\n",
       "<polygon fill=\"whitesmoke\" stroke=\"whitesmoke\" points=\"279.42,-8 279.42,-83 369.84,-83 369.84,-8 279.42,-8\"/>\n",
       "<text text-anchor=\"middle\" x=\"324.63\" y=\"-65.7\" font-family=\"Helvetica,Arial,sans-serif\" font-size=\"14.00\">110</text>\n",
       "</g>\n",
       "<!-- Absorb -->\n",
       "<g id=\"node1\" class=\"node\">\n",
       "<title>Absorb</title>\n",
       "<ellipse fill=\"white\" stroke=\"lightgrey\" cx=\"479.52\" cy=\"-34\" rx=\"38.18\" ry=\"18\"/>\n",
       "<text text-anchor=\"middle\" x=\"479.52\" y=\"-28.2\" font-family=\"Helvetica,Arial,sans-serif\" font-size=\"14.00\">Absorb</text>\n",
       "</g>\n",
       "<!-- IPV -->\n",
       "<g id=\"node2\" class=\"node\">\n",
       "<title>IPV</title>\n",
       "<ellipse fill=\"white\" stroke=\"lightgrey\" cx=\"27\" cy=\"-34\" rx=\"27\" ry=\"18\"/>\n",
       "<text text-anchor=\"middle\" x=\"27\" y=\"-28.2\" font-family=\"Helvetica,Arial,sans-serif\" font-size=\"14.00\">IPV</text>\n",
       "</g>\n",
       "<!-- 3,0,0,0 -->\n",
       "<g id=\"node3\" class=\"node\">\n",
       "<title>3,0,0,0</title>\n",
       "<ellipse fill=\"white\" stroke=\"black\" cx=\"170.71\" cy=\"-34\" rx=\"37.21\" ry=\"18\"/>\n",
       "<text text-anchor=\"middle\" x=\"170.71\" y=\"-28.2\" font-family=\"Helvetica,Arial,sans-serif\" font-size=\"14.00\">3,0,0,0</text>\n",
       "</g>\n",
       "<!-- IPV&#45;&gt;3,0,0,0 -->\n",
       "<g id=\"edge1\" class=\"edge\">\n",
       "<title>IPV&#45;&gt;3,0,0,0</title>\n",
       "<path fill=\"none\" stroke=\"#30d7b2\" d=\"M54.32,-34C73.38,-34 99.65,-34 122.32,-34\"/>\n",
       "<polygon fill=\"#30d7b2\" stroke=\"#30d7b2\" points=\"122.11,-37.5 132.11,-34 122.11,-30.5 122.11,-37.5\"/>\n",
       "<text text-anchor=\"middle\" x=\"93.75\" y=\"-35.7\" font-family=\"Helvetica,Arial,sans-serif\" font-size=\"14.00\" fill=\"#30d7b2\">1</text>\n",
       "</g>\n",
       "<!-- 1,1,0,0 -->\n",
       "<g id=\"node4\" class=\"node\">\n",
       "<title>1,1,0,0</title>\n",
       "<ellipse fill=\"white\" stroke=\"black\" cx=\"324.63\" cy=\"-34\" rx=\"37.21\" ry=\"18\"/>\n",
       "<text text-anchor=\"middle\" x=\"324.63\" y=\"-28.2\" font-family=\"Helvetica,Arial,sans-serif\" font-size=\"14.00\">1,1,0,0</text>\n",
       "</g>\n",
       "<!-- 3,0,0,0&#45;&gt;1,1,0,0 -->\n",
       "<g id=\"edge2\" class=\"edge\">\n",
       "<title>3,0,0,0&#45;&gt;1,1,0,0</title>\n",
       "<path fill=\"none\" stroke=\"#c3e7fb\" d=\"M208.1,-34C228.52,-34 254.24,-34 276.23,-34\"/>\n",
       "<polygon fill=\"#c3e7fb\" stroke=\"#c3e7fb\" points=\"276.01,-37.5 286.01,-34 276.01,-30.5 276.01,-37.5\"/>\n",
       "<text text-anchor=\"middle\" x=\"247.67\" y=\"-35.7\" font-family=\"Helvetica,Arial,sans-serif\" font-size=\"14.00\" fill=\"#c3e7fb\">3</text>\n",
       "</g>\n",
       "<!-- 1,1,0,0&#45;&gt;Absorb -->\n",
       "<g id=\"edge3\" class=\"edge\">\n",
       "<title>1,1,0,0&#45;&gt;Absorb</title>\n",
       "<path fill=\"none\" stroke=\"#1ed640\" d=\"M362.25,-34C382.58,-34 408.12,-34 430.09,-34\"/>\n",
       "<polygon fill=\"#1ed640\" stroke=\"#1ed640\" points=\"429.87,-37.5 439.87,-34 429.87,-30.5 429.87,-37.5\"/>\n",
       "<text text-anchor=\"middle\" x=\"401.59\" y=\"-35.7\" font-family=\"Helvetica,Arial,sans-serif\" font-size=\"14.00\" fill=\"#1ed640\">1</text>\n",
       "</g>\n",
       "</g>\n",
       "</svg>\n"
      ]
     },
     "metadata": {},
     "output_type": "display_data"
    }
   ],
   "source": [
    "gam <- graph_as_matrix(graph)\n",
    "plot_graph(gam, subgraphs=TRUE, rainbow=TRUE, size=c(8, 8), align=TRUE,\n",
    "           fontsize=14, ranksep=1, nodesep=0.5,          \n",
    "           subgraphfun=function(state) paste(state[-length(state)], collapse=\"\"))"
   ]
  },
  {
   "cell_type": "markdown",
   "id": "3d504c04-de6e-4b5e-af60-11fcdf9de389",
   "metadata": {},
   "source": [
    "### Epoque 2"
   ]
  },
  {
   "cell_type": "code",
   "execution_count": 34,
   "id": "2c3c3d99-6bc0-4877-9fc3-e5e05fee4370",
   "metadata": {
    "vscode": {
     "languageId": "r"
    }
   },
   "outputs": [
    {
     "data": {
      "text/html": [
       "<style>\n",
       ".list-inline {list-style: none; margin:0; padding: 0}\n",
       ".list-inline>li {display: inline-block}\n",
       ".list-inline>li:not(:last-child)::after {content: \"\\00b7\"; padding: 0 .5ex}\n",
       "</style>\n",
       "<ol class=list-inline><li>0.156436575901728</li><li>1.00738133596122</li></ol>\n"
      ],
      "text/latex": [
       "\\begin{enumerate*}\n",
       "\\item 0.156436575901728\n",
       "\\item 1.00738133596122\n",
       "\\end{enumerate*}\n"
      ],
      "text/markdown": [
       "1. 0.156436575901728\n",
       "2. 1.00738133596122\n",
       "\n",
       "\n"
      ],
      "text/plain": [
       "[1] 0.1564366 1.0073813"
      ]
     },
     "metadata": {},
     "output_type": "display_data"
    }
   ],
   "source": [
    "x <- stop_probability(graph, epoques[2])\n",
    "stop_probs <- x[2:(length(x)-1)]\n",
    "x <- accumulated_visiting_time(graph, epoques[2])\n",
    "accum_v_time <- x[2:(length(x)-1)]\n",
    "epoque_trans_rates <- stop_probs / accum_v_time\n",
    "epoque_trans_rates[which(accum_v_time == 0)] <- 0\n",
    "epoque_trans_rates"
   ]
  },
  {
   "cell_type": "code",
   "execution_count": 35,
   "id": "f7762405-1f98-412e-8795-e4523b8c0d82",
   "metadata": {
    "vscode": {
     "languageId": "r"
    }
   },
   "outputs": [],
   "source": [
    "add_epoque(n_samples, pop_sizes[2], graph, epoque_trans_rates, 2)"
   ]
  },
  {
   "cell_type": "code",
   "execution_count": 36,
   "id": "c81c5464-dbdf-42fe-8ad6-c40fab948edb",
   "metadata": {
    "vscode": {
     "languageId": "r"
    }
   },
   "outputs": [
    {
     "data": {
      "image/svg+xml": [
       "<?xml version=\"1.0\" encoding=\"UTF-8\" standalone=\"no\"?>\n",
       "<!DOCTYPE svg PUBLIC \"-//W3C//DTD SVG 1.1//EN\"\n",
       " \"http://www.w3.org/Graphics/SVG/1.1/DTD/svg11.dtd\">\n",
       "<!-- Generated by graphviz version 8.1.0 (0)\n",
       " -->\n",
       "<!-- Title: G Pages: 1 -->\n",
       "<svg width=\"576pt\" height=\"241pt\"\n",
       " viewBox=\"0.00 0.00 576.00 241.37\" xmlns=\"http://www.w3.org/2000/svg\" xmlns:xlink=\"http://www.w3.org/1999/xlink\">\n",
       "<g id=\"graph0\" class=\"graph\" transform=\"scale(0.890669 0.890669) rotate(0) translate(36 235)\">\n",
       "<title>G</title>\n",
       "<polygon fill=\"white\" stroke=\"none\" points=\"-36,36 -36,-235 610.71,-235 610.71,36 -36,36\"/>\n",
       "<g id=\"clust3\" class=\"cluster\">\n",
       "<title>cluster_300</title>\n",
       "<polygon fill=\"whitesmoke\" stroke=\"whitesmoke\" points=\"125.5,-8 125.5,-191 215.92,-191 215.92,-8 125.5,-8\"/>\n",
       "<text text-anchor=\"middle\" x=\"170.71\" y=\"-173.7\" font-family=\"Helvetica,Arial,sans-serif\" font-size=\"14.00\">300</text>\n",
       "</g>\n",
       "<g id=\"clust4\" class=\"cluster\">\n",
       "<title>cluster_110</title>\n",
       "<polygon fill=\"whitesmoke\" stroke=\"whitesmoke\" points=\"325.17,-8 325.17,-191 415.59,-191 415.59,-8 325.17,-8\"/>\n",
       "<text text-anchor=\"middle\" x=\"370.38\" y=\"-173.7\" font-family=\"Helvetica,Arial,sans-serif\" font-size=\"14.00\">110</text>\n",
       "</g>\n",
       "<!-- Absorb -->\n",
       "<g id=\"node1\" class=\"node\">\n",
       "<title>Absorb</title>\n",
       "<ellipse fill=\"white\" stroke=\"lightgrey\" cx=\"536.52\" cy=\"-88\" rx=\"38.18\" ry=\"18\"/>\n",
       "<text text-anchor=\"middle\" x=\"536.52\" y=\"-82.2\" font-family=\"Helvetica,Arial,sans-serif\" font-size=\"14.00\">Absorb</text>\n",
       "</g>\n",
       "<!-- IPV -->\n",
       "<g id=\"node2\" class=\"node\">\n",
       "<title>IPV</title>\n",
       "<ellipse fill=\"white\" stroke=\"lightgrey\" cx=\"27\" cy=\"-34\" rx=\"27\" ry=\"18\"/>\n",
       "<text text-anchor=\"middle\" x=\"27\" y=\"-28.2\" font-family=\"Helvetica,Arial,sans-serif\" font-size=\"14.00\">IPV</text>\n",
       "</g>\n",
       "<!-- 3,0,0,0 -->\n",
       "<g id=\"node3\" class=\"node\">\n",
       "<title>3,0,0,0</title>\n",
       "<ellipse fill=\"white\" stroke=\"black\" cx=\"170.71\" cy=\"-34\" rx=\"37.21\" ry=\"18\"/>\n",
       "<text text-anchor=\"middle\" x=\"170.71\" y=\"-28.2\" font-family=\"Helvetica,Arial,sans-serif\" font-size=\"14.00\">3,0,0,0</text>\n",
       "</g>\n",
       "<!-- IPV&#45;&gt;3,0,0,0 -->\n",
       "<g id=\"edge1\" class=\"edge\">\n",
       "<title>IPV&#45;&gt;3,0,0,0</title>\n",
       "<path fill=\"none\" stroke=\"#6dec6d\" d=\"M54.32,-34C73.38,-34 99.65,-34 122.32,-34\"/>\n",
       "<polygon fill=\"#6dec6d\" stroke=\"#6dec6d\" points=\"122.11,-37.5 132.11,-34 122.11,-30.5 122.11,-37.5\"/>\n",
       "<text text-anchor=\"middle\" x=\"93.75\" y=\"-35.7\" font-family=\"Helvetica,Arial,sans-serif\" font-size=\"14.00\" fill=\"#6dec6d\">1</text>\n",
       "</g>\n",
       "<!-- 3,0,0,2 -->\n",
       "<g id=\"node4\" class=\"node\">\n",
       "<title>3,0,0,2</title>\n",
       "<ellipse fill=\"white\" stroke=\"black\" cx=\"170.71\" cy=\"-142\" rx=\"37.21\" ry=\"18\"/>\n",
       "<text text-anchor=\"middle\" x=\"170.71\" y=\"-136.2\" font-family=\"Helvetica,Arial,sans-serif\" font-size=\"14.00\">3,0,0,2</text>\n",
       "</g>\n",
       "<!-- 3,0,0,0&#45;&gt;3,0,0,2 -->\n",
       "<g id=\"edge3\" class=\"edge\">\n",
       "<title>3,0,0,0&#45;&gt;3,0,0,2</title>\n",
       "<path fill=\"none\" stroke=\"#03fc19\" d=\"M170.71,-52.32C170.71,-68.84 170.71,-93.44 170.71,-112.69\"/>\n",
       "<polygon fill=\"#03fc19\" stroke=\"#03fc19\" points=\"167.21,-112.59 170.71,-122.59 174.21,-112.59 167.21,-112.59\"/>\n",
       "<text text-anchor=\"middle\" x=\"160.21\" y=\"-82.2\" font-family=\"Helvetica,Arial,sans-serif\" font-size=\"14.00\" fill=\"#03fc19\">1.56e&#45;01</text>\n",
       "</g>\n",
       "<!-- 1,1,0,0 -->\n",
       "<g id=\"node5\" class=\"node\">\n",
       "<title>1,1,0,0</title>\n",
       "<ellipse fill=\"white\" stroke=\"black\" cx=\"370.38\" cy=\"-34\" rx=\"37.21\" ry=\"18\"/>\n",
       "<text text-anchor=\"middle\" x=\"370.38\" y=\"-28.2\" font-family=\"Helvetica,Arial,sans-serif\" font-size=\"14.00\">1,1,0,0</text>\n",
       "</g>\n",
       "<!-- 3,0,0,0&#45;&gt;1,1,0,0 -->\n",
       "<g id=\"edge2\" class=\"edge\">\n",
       "<title>3,0,0,0&#45;&gt;1,1,0,0</title>\n",
       "<path fill=\"none\" stroke=\"#e911f5\" d=\"M207.96,-34C239.95,-34 286.78,-34 321.77,-34\"/>\n",
       "<polygon fill=\"#e911f5\" stroke=\"#e911f5\" points=\"321.68,-37.5 331.68,-34 321.68,-30.5 321.68,-37.5\"/>\n",
       "<text text-anchor=\"middle\" x=\"270.54\" y=\"-35.7\" font-family=\"Helvetica,Arial,sans-serif\" font-size=\"14.00\" fill=\"#e911f5\">3</text>\n",
       "</g>\n",
       "<!-- 1,1,0,2 -->\n",
       "<g id=\"node6\" class=\"node\">\n",
       "<title>1,1,0,2</title>\n",
       "<ellipse fill=\"white\" stroke=\"black\" cx=\"370.38\" cy=\"-142\" rx=\"37.21\" ry=\"18\"/>\n",
       "<text text-anchor=\"middle\" x=\"370.38\" y=\"-136.2\" font-family=\"Helvetica,Arial,sans-serif\" font-size=\"14.00\">1,1,0,2</text>\n",
       "</g>\n",
       "<!-- 3,0,0,2&#45;&gt;1,1,0,2 -->\n",
       "<g id=\"edge5\" class=\"edge\">\n",
       "<title>3,0,0,2&#45;&gt;1,1,0,2</title>\n",
       "<path fill=\"none\" stroke=\"#a138df\" d=\"M207.96,-142C239.95,-142 286.78,-142 321.77,-142\"/>\n",
       "<polygon fill=\"#a138df\" stroke=\"#a138df\" points=\"321.68,-145.5 331.68,-142 321.68,-138.5 321.68,-145.5\"/>\n",
       "<text text-anchor=\"middle\" x=\"270.54\" y=\"-143.7\" font-family=\"Helvetica,Arial,sans-serif\" font-size=\"14.00\" fill=\"#a138df\">6.00e&#45;01</text>\n",
       "</g>\n",
       "<!-- 1,1,0,0&#45;&gt;Absorb -->\n",
       "<g id=\"edge6\" class=\"edge\">\n",
       "<title>1,1,0,0&#45;&gt;Absorb</title>\n",
       "<path fill=\"none\" stroke=\"#1e44a4\" d=\"M401.87,-44.03C427.88,-52.59 465.51,-64.97 494.22,-74.41\"/>\n",
       "<polygon fill=\"#1e44a4\" stroke=\"#1e44a4\" points=\"492.76,-77.95 503.36,-77.75 494.95,-71.3 492.76,-77.95\"/>\n",
       "<text text-anchor=\"middle\" x=\"452.96\" y=\"-63.7\" font-family=\"Helvetica,Arial,sans-serif\" font-size=\"14.00\" fill=\"#1e44a4\">1</text>\n",
       "</g>\n",
       "<!-- 1,1,0,0&#45;&gt;1,1,0,2 -->\n",
       "<g id=\"edge4\" class=\"edge\">\n",
       "<title>1,1,0,0&#45;&gt;1,1,0,2</title>\n",
       "<path fill=\"none\" stroke=\"#fbfd03\" d=\"M370.38,-52.32C370.38,-68.84 370.38,-93.44 370.38,-112.69\"/>\n",
       "<polygon fill=\"#fbfd03\" stroke=\"#fbfd03\" points=\"366.88,-112.59 370.38,-122.59 373.88,-112.59 366.88,-112.59\"/>\n",
       "<text text-anchor=\"middle\" x=\"359.88\" y=\"-82.2\" font-family=\"Helvetica,Arial,sans-serif\" font-size=\"14.00\" fill=\"#fbfd03\">1.01e+00</text>\n",
       "</g>\n",
       "<!-- 1,1,0,2&#45;&gt;Absorb -->\n",
       "<g id=\"edge7\" class=\"edge\">\n",
       "<title>1,1,0,2&#45;&gt;Absorb</title>\n",
       "<path fill=\"none\" stroke=\"#f31ebb\" d=\"M401.87,-131.97C427.88,-123.41 465.51,-111.03 494.22,-101.59\"/>\n",
       "<polygon fill=\"#f31ebb\" stroke=\"#f31ebb\" points=\"494.95,-104.7 503.36,-98.25 492.76,-98.05 494.95,-104.7\"/>\n",
       "<text text-anchor=\"middle\" x=\"452.96\" y=\"-119.7\" font-family=\"Helvetica,Arial,sans-serif\" font-size=\"14.00\" fill=\"#f31ebb\">0.2</text>\n",
       "</g>\n",
       "</g>\n",
       "</svg>\n"
      ]
     },
     "metadata": {},
     "output_type": "display_data"
    }
   ],
   "source": [
    "gam <- graph_as_matrix(graph)\n",
    "plot_graph(gam, subgraphs=TRUE, rainbow=TRUE, size=c(8, 8), align=TRUE,\n",
    "           fontsize=14, ranksep=1, nodesep=0.5,          \n",
    "           subgraphfun=function(state) paste(state[-length(state)], collapse=\"\"))"
   ]
  },
  {
   "cell_type": "markdown",
   "id": "18032e9c-da64-439c-bc2b-41693ae5e97d",
   "metadata": {},
   "source": [
    "### Epoque 3"
   ]
  },
  {
   "cell_type": "code",
   "execution_count": 37,
   "id": "4f68c35c-dd08-4ddb-bfb1-65f35898dd47",
   "metadata": {
    "vscode": {
     "languageId": "r"
    }
   },
   "outputs": [
    {
     "data": {
      "text/html": [
       "<style>\n",
       ".list-inline {list-style: none; margin:0; padding: 0}\n",
       ".list-inline>li {display: inline-block}\n",
       ".list-inline>li:not(:last-child)::after {content: \"\\00b7\"; padding: 0 .5ex}\n",
       "</style>\n",
       "<ol class=list-inline><li>0.00567668552983986</li><li>0.0935439189960331</li><li>0</li><li>0.352565380939486</li><li>0.717168476843765</li></ol>\n"
      ],
      "text/latex": [
       "\\begin{enumerate*}\n",
       "\\item 0.00567668552983986\n",
       "\\item 0.0935439189960331\n",
       "\\item 0\n",
       "\\item 0.352565380939486\n",
       "\\item 0.717168476843765\n",
       "\\end{enumerate*}\n"
      ],
      "text/markdown": [
       "1. 0.00567668552983986\n",
       "2. 0.0935439189960331\n",
       "3. 0\n",
       "4. 0.352565380939486\n",
       "5. 0.717168476843765\n",
       "\n",
       "\n"
      ],
      "text/plain": [
       "[1] 0.005676686 0.093543919 0.000000000 0.352565381 0.717168477"
      ]
     },
     "metadata": {},
     "output_type": "display_data"
    }
   ],
   "source": [
    "x <- stop_probability(graph, epoques[3])\n",
    "stop_probs <- x[2:(length(x)-1)]\n",
    "x <- accumulated_visiting_time(graph, epoques[3])\n",
    "accum_v_time <- x[2:(length(x)-1)]\n",
    "epoque_trans_rates <- stop_probs / accum_v_time\n",
    "epoque_trans_rates[which(accum_v_time == 0)] <- 0\n",
    "epoque_trans_rates"
   ]
  },
  {
   "cell_type": "code",
   "execution_count": 38,
   "id": "618a3d2c-9ee9-4b66-9ddb-30eb68fbd2c0",
   "metadata": {},
   "outputs": [
    {
     "data": {
      "text/html": [
       "3"
      ],
      "text/latex": [
       "3"
      ],
      "text/markdown": [
       "3"
      ],
      "text/plain": [
       "[1] 3"
      ]
     },
     "metadata": {},
     "output_type": "display_data"
    }
   ],
   "source": [
    "which(accum_v_time == 0)"
   ]
  },
  {
   "cell_type": "code",
   "execution_count": 39,
   "id": "e86a403a-4f13-4e43-b923-efccee687eec",
   "metadata": {
    "vscode": {
     "languageId": "r"
    }
   },
   "outputs": [],
   "source": [
    "add_epoque(n_samples, pop_sizes[3], graph, epoque_trans_rates, 3)"
   ]
  },
  {
   "cell_type": "code",
   "execution_count": 40,
   "id": "2e05eb22-24f8-4492-b549-e525d5a2a9af",
   "metadata": {
    "vscode": {
     "languageId": "r"
    }
   },
   "outputs": [
    {
     "data": {
      "text/html": [
       "<dl>\n",
       "\t<dt>$states</dt>\n",
       "\t\t<dd><table class=\"dataframe\">\n",
       "<caption>A matrix: 7 × 4 of type dbl</caption>\n",
       "<tbody>\n",
       "\t<tr><td>3</td><td>0</td><td>0</td><td>0</td></tr>\n",
       "\t<tr><td>1</td><td>1</td><td>0</td><td>0</td></tr>\n",
       "\t<tr><td>3</td><td>0</td><td>0</td><td>2</td></tr>\n",
       "\t<tr><td>0</td><td>0</td><td>1</td><td>0</td></tr>\n",
       "\t<tr><td>1</td><td>1</td><td>0</td><td>2</td></tr>\n",
       "\t<tr><td>3</td><td>0</td><td>0</td><td>3</td></tr>\n",
       "\t<tr><td>1</td><td>1</td><td>0</td><td>3</td></tr>\n",
       "</tbody>\n",
       "</table>\n",
       "</dd>\n",
       "\t<dt>$SIM</dt>\n",
       "\t\t<dd><table class=\"dataframe\">\n",
       "<caption>A matrix: 7 × 7 of type dbl</caption>\n",
       "<tbody>\n",
       "\t<tr><td>-3.162113</td><td> 3.000000</td><td> 0.1564366</td><td>0</td><td> 0.0000000</td><td> 0.005676686</td><td> 0.00000000</td></tr>\n",
       "\t<tr><td> 0.000000</td><td>-2.100925</td><td> 0.0000000</td><td>1</td><td> 1.0073813</td><td> 0.000000000</td><td> 0.09354392</td></tr>\n",
       "\t<tr><td> 0.000000</td><td> 0.000000</td><td>-0.9525654</td><td>0</td><td> 0.6000000</td><td> 0.352565381</td><td> 0.00000000</td></tr>\n",
       "\t<tr><td> 0.000000</td><td> 0.000000</td><td> 0.0000000</td><td>0</td><td> 0.0000000</td><td> 0.000000000</td><td> 0.00000000</td></tr>\n",
       "\t<tr><td> 0.000000</td><td> 0.000000</td><td> 0.0000000</td><td>0</td><td>-0.9171685</td><td> 0.000000000</td><td> 0.71716848</td></tr>\n",
       "\t<tr><td> 0.000000</td><td> 0.000000</td><td> 0.0000000</td><td>0</td><td> 0.0000000</td><td>-0.300000000</td><td> 0.30000000</td></tr>\n",
       "\t<tr><td> 0.000000</td><td> 0.000000</td><td> 0.0000000</td><td>0</td><td> 0.0000000</td><td> 0.000000000</td><td>-0.10000000</td></tr>\n",
       "</tbody>\n",
       "</table>\n",
       "</dd>\n",
       "\t<dt>$IPV</dt>\n",
       "\t\t<dd><style>\n",
       ".list-inline {list-style: none; margin:0; padding: 0}\n",
       ".list-inline>li {display: inline-block}\n",
       ".list-inline>li:not(:last-child)::after {content: \"\\00b7\"; padding: 0 .5ex}\n",
       "</style>\n",
       "<ol class=list-inline><li>1</li><li>0</li><li>0</li><li>0</li><li>0</li><li>0</li><li>0</li></ol>\n",
       "</dd>\n",
       "\t<dt>$indices</dt>\n",
       "\t\t<dd><style>\n",
       ".list-inline {list-style: none; margin:0; padding: 0}\n",
       ".list-inline>li {display: inline-block}\n",
       ".list-inline>li:not(:last-child)::after {content: \"\\00b7\"; padding: 0 .5ex}\n",
       "</style>\n",
       "<ol class=list-inline><li>2</li><li>3</li><li>5</li><li>4</li><li>6</li><li>8</li><li>9</li></ol>\n",
       "</dd>\n",
       "</dl>\n"
      ],
      "text/latex": [
       "\\begin{description}\n",
       "\\item[\\$states] A matrix: 7 × 4 of type dbl\n",
       "\\begin{tabular}{llll}\n",
       "\t 3 & 0 & 0 & 0\\\\\n",
       "\t 1 & 1 & 0 & 0\\\\\n",
       "\t 3 & 0 & 0 & 2\\\\\n",
       "\t 0 & 0 & 1 & 0\\\\\n",
       "\t 1 & 1 & 0 & 2\\\\\n",
       "\t 3 & 0 & 0 & 3\\\\\n",
       "\t 1 & 1 & 0 & 3\\\\\n",
       "\\end{tabular}\n",
       "\n",
       "\\item[\\$SIM] A matrix: 7 × 7 of type dbl\n",
       "\\begin{tabular}{lllllll}\n",
       "\t -3.162113 &  3.000000 &  0.1564366 & 0 &  0.0000000 &  0.005676686 &  0.00000000\\\\\n",
       "\t  0.000000 & -2.100925 &  0.0000000 & 1 &  1.0073813 &  0.000000000 &  0.09354392\\\\\n",
       "\t  0.000000 &  0.000000 & -0.9525654 & 0 &  0.6000000 &  0.352565381 &  0.00000000\\\\\n",
       "\t  0.000000 &  0.000000 &  0.0000000 & 0 &  0.0000000 &  0.000000000 &  0.00000000\\\\\n",
       "\t  0.000000 &  0.000000 &  0.0000000 & 0 & -0.9171685 &  0.000000000 &  0.71716848\\\\\n",
       "\t  0.000000 &  0.000000 &  0.0000000 & 0 &  0.0000000 & -0.300000000 &  0.30000000\\\\\n",
       "\t  0.000000 &  0.000000 &  0.0000000 & 0 &  0.0000000 &  0.000000000 & -0.10000000\\\\\n",
       "\\end{tabular}\n",
       "\n",
       "\\item[\\$IPV] \\begin{enumerate*}\n",
       "\\item 1\n",
       "\\item 0\n",
       "\\item 0\n",
       "\\item 0\n",
       "\\item 0\n",
       "\\item 0\n",
       "\\item 0\n",
       "\\end{enumerate*}\n",
       "\n",
       "\\item[\\$indices] \\begin{enumerate*}\n",
       "\\item 2\n",
       "\\item 3\n",
       "\\item 5\n",
       "\\item 4\n",
       "\\item 6\n",
       "\\item 8\n",
       "\\item 9\n",
       "\\end{enumerate*}\n",
       "\n",
       "\\end{description}\n"
      ],
      "text/markdown": [
       "$states\n",
       ":   \n",
       "A matrix: 7 × 4 of type dbl\n",
       "\n",
       "| 3 | 0 | 0 | 0 |\n",
       "| 1 | 1 | 0 | 0 |\n",
       "| 3 | 0 | 0 | 2 |\n",
       "| 0 | 0 | 1 | 0 |\n",
       "| 1 | 1 | 0 | 2 |\n",
       "| 3 | 0 | 0 | 3 |\n",
       "| 1 | 1 | 0 | 3 |\n",
       "\n",
       "\n",
       "$SIM\n",
       ":   \n",
       "A matrix: 7 × 7 of type dbl\n",
       "\n",
       "| -3.162113 |  3.000000 |  0.1564366 | 0 |  0.0000000 |  0.005676686 |  0.00000000 |\n",
       "|  0.000000 | -2.100925 |  0.0000000 | 1 |  1.0073813 |  0.000000000 |  0.09354392 |\n",
       "|  0.000000 |  0.000000 | -0.9525654 | 0 |  0.6000000 |  0.352565381 |  0.00000000 |\n",
       "|  0.000000 |  0.000000 |  0.0000000 | 0 |  0.0000000 |  0.000000000 |  0.00000000 |\n",
       "|  0.000000 |  0.000000 |  0.0000000 | 0 | -0.9171685 |  0.000000000 |  0.71716848 |\n",
       "|  0.000000 |  0.000000 |  0.0000000 | 0 |  0.0000000 | -0.300000000 |  0.30000000 |\n",
       "|  0.000000 |  0.000000 |  0.0000000 | 0 |  0.0000000 |  0.000000000 | -0.10000000 |\n",
       "\n",
       "\n",
       "$IPV\n",
       ":   1. 1\n",
       "2. 0\n",
       "3. 0\n",
       "4. 0\n",
       "5. 0\n",
       "6. 0\n",
       "7. 0\n",
       "\n",
       "\n",
       "\n",
       "$indices\n",
       ":   1. 2\n",
       "2. 3\n",
       "3. 5\n",
       "4. 4\n",
       "5. 6\n",
       "6. 8\n",
       "7. 9\n",
       "\n",
       "\n",
       "\n",
       "\n",
       "\n"
      ],
      "text/plain": [
       "$states\n",
       "     [,1] [,2] [,3] [,4]\n",
       "[1,]    3    0    0    0\n",
       "[2,]    1    1    0    0\n",
       "[3,]    3    0    0    2\n",
       "[4,]    0    0    1    0\n",
       "[5,]    1    1    0    2\n",
       "[6,]    3    0    0    3\n",
       "[7,]    1    1    0    3\n",
       "\n",
       "$SIM\n",
       "          [,1]      [,2]       [,3] [,4]       [,5]         [,6]        [,7]\n",
       "[1,] -3.162113  3.000000  0.1564366    0  0.0000000  0.005676686  0.00000000\n",
       "[2,]  0.000000 -2.100925  0.0000000    1  1.0073813  0.000000000  0.09354392\n",
       "[3,]  0.000000  0.000000 -0.9525654    0  0.6000000  0.352565381  0.00000000\n",
       "[4,]  0.000000  0.000000  0.0000000    0  0.0000000  0.000000000  0.00000000\n",
       "[5,]  0.000000  0.000000  0.0000000    0 -0.9171685  0.000000000  0.71716848\n",
       "[6,]  0.000000  0.000000  0.0000000    0  0.0000000 -0.300000000  0.30000000\n",
       "[7,]  0.000000  0.000000  0.0000000    0  0.0000000  0.000000000 -0.10000000\n",
       "\n",
       "$IPV\n",
       "[1] 1 0 0 0 0 0 0\n",
       "\n",
       "$indices\n",
       "[1] 2 3 5 4 6 8 9\n"
      ]
     },
     "metadata": {},
     "output_type": "display_data"
    }
   ],
   "source": [
    "gam <- graph_as_matrix(graph)\n",
    "gam"
   ]
  },
  {
   "cell_type": "code",
   "execution_count": 41,
   "id": "e04b5d13-67f7-4e56-b06a-352b3d35641f",
   "metadata": {
    "vscode": {
     "languageId": "r"
    }
   },
   "outputs": [
    {
     "data": {
      "image/svg+xml": [
       "<?xml version=\"1.0\" encoding=\"UTF-8\" standalone=\"no\"?>\n",
       "<!DOCTYPE svg PUBLIC \"-//W3C//DTD SVG 1.1//EN\"\n",
       " \"http://www.w3.org/Graphics/SVG/1.1/DTD/svg11.dtd\">\n",
       "<!-- Generated by graphviz version 8.1.0 (0)\n",
       " -->\n",
       "<!-- Title: G Pages: 1 -->\n",
       "<svg width=\"576pt\" height=\"298pt\"\n",
       " viewBox=\"0.00 0.00 576.00 297.88\" xmlns=\"http://www.w3.org/2000/svg\" xmlns:xlink=\"http://www.w3.org/1999/xlink\">\n",
       "<g id=\"graph0\" class=\"graph\" transform=\"scale(0.739114 0.739114) rotate(0) translate(36 367.03)\">\n",
       "<title>G</title>\n",
       "<polygon fill=\"white\" stroke=\"none\" points=\"-36,36 -36,-367.03 743.31,-367.03 743.31,36 -36,36\"/>\n",
       "<g id=\"clust4\" class=\"cluster\">\n",
       "<title>cluster_300</title>\n",
       "<polygon fill=\"whitesmoke\" stroke=\"whitesmoke\" points=\"171.25,-32.03 171.25,-323.03 261.67,-323.03 261.67,-32.03 171.25,-32.03\"/>\n",
       "<text text-anchor=\"middle\" x=\"216.46\" y=\"-305.73\" font-family=\"Helvetica,Arial,sans-serif\" font-size=\"14.00\">300</text>\n",
       "</g>\n",
       "<g id=\"clust5\" class=\"cluster\">\n",
       "<title>cluster_110</title>\n",
       "<polygon fill=\"whitesmoke\" stroke=\"whitesmoke\" points=\"408.71,-32.03 408.71,-323.03 499.13,-323.03 499.13,-32.03 408.71,-32.03\"/>\n",
       "<text text-anchor=\"middle\" x=\"453.92\" y=\"-305.73\" font-family=\"Helvetica,Arial,sans-serif\" font-size=\"14.00\">110</text>\n",
       "</g>\n",
       "<g id=\"clust6\" class=\"cluster\">\n",
       "<title>cluster_001</title>\n",
       "<polygon fill=\"whitesmoke\" stroke=\"whitesmoke\" points=\"608.89,-248.03 608.89,-323.03 699.31,-323.03 699.31,-248.03 608.89,-248.03\"/>\n",
       "<text text-anchor=\"middle\" x=\"654.1\" y=\"-305.73\" font-family=\"Helvetica,Arial,sans-serif\" font-size=\"14.00\">001</text>\n",
       "</g>\n",
       "<!-- Absorb -->\n",
       "<g id=\"node1\" class=\"node\">\n",
       "<title>Absorb</title>\n",
       "<ellipse fill=\"white\" stroke=\"lightgrey\" cx=\"654.1\" cy=\"-58.03\" rx=\"38.18\" ry=\"18\"/>\n",
       "<text text-anchor=\"middle\" x=\"654.1\" y=\"-52.23\" font-family=\"Helvetica,Arial,sans-serif\" font-size=\"14.00\">Absorb</text>\n",
       "</g>\n",
       "<!-- IPV -->\n",
       "<g id=\"node2\" class=\"node\">\n",
       "<title>IPV</title>\n",
       "<ellipse fill=\"white\" stroke=\"lightgrey\" cx=\"27\" cy=\"-274.03\" rx=\"27\" ry=\"18\"/>\n",
       "<text text-anchor=\"middle\" x=\"27\" y=\"-268.23\" font-family=\"Helvetica,Arial,sans-serif\" font-size=\"14.00\">IPV</text>\n",
       "</g>\n",
       "<!-- 3,0,0,0 -->\n",
       "<g id=\"node3\" class=\"node\">\n",
       "<title>3,0,0,0</title>\n",
       "<ellipse fill=\"white\" stroke=\"black\" cx=\"216.46\" cy=\"-274.03\" rx=\"37.21\" ry=\"18\"/>\n",
       "<text text-anchor=\"middle\" x=\"216.46\" y=\"-268.23\" font-family=\"Helvetica,Arial,sans-serif\" font-size=\"14.00\">3,0,0,0</text>\n",
       "</g>\n",
       "<!-- IPV&#45;&gt;3,0,0,0 -->\n",
       "<g id=\"edge1\" class=\"edge\">\n",
       "<title>IPV&#45;&gt;3,0,0,0</title>\n",
       "<path fill=\"none\" stroke=\"#8205be\" d=\"M54.46,-274.03C83.91,-274.03 132.09,-274.03 168.08,-274.03\"/>\n",
       "<polygon fill=\"#8205be\" stroke=\"#8205be\" points=\"167.83,-277.53 177.83,-274.03 167.83,-270.53 167.83,-277.53\"/>\n",
       "<text text-anchor=\"middle\" x=\"116.62\" y=\"-275.73\" font-family=\"Helvetica,Arial,sans-serif\" font-size=\"14.00\" fill=\"#8205be\">1</text>\n",
       "</g>\n",
       "<!-- 3,0,0,2 -->\n",
       "<g id=\"node4\" class=\"node\">\n",
       "<title>3,0,0,2</title>\n",
       "<ellipse fill=\"white\" stroke=\"black\" cx=\"216.46\" cy=\"-58.03\" rx=\"37.21\" ry=\"18\"/>\n",
       "<text text-anchor=\"middle\" x=\"216.46\" y=\"-52.23\" font-family=\"Helvetica,Arial,sans-serif\" font-size=\"14.00\">3,0,0,2</text>\n",
       "</g>\n",
       "<!-- 3,0,0,0&#45;&gt;3,0,0,2 -->\n",
       "<g id=\"edge3\" class=\"edge\">\n",
       "<title>3,0,0,0&#45;&gt;3,0,0,2</title>\n",
       "<path fill=\"none\" stroke=\"#1148f6\" d=\"M192.18,-260.36C165.47,-243.76 124.03,-213.03 106.64,-173.53 88.03,-131.28 140.34,-95.04 179.02,-74.92\"/>\n",
       "<polygon fill=\"#1148f6\" stroke=\"#1148f6\" points=\"180.14,-77.77 187.51,-70.16 177,-71.52 180.14,-77.77\"/>\n",
       "<text text-anchor=\"middle\" x=\"116.62\" y=\"-160.23\" font-family=\"Helvetica,Arial,sans-serif\" font-size=\"14.00\" fill=\"#1148f6\">1.56e&#45;01</text>\n",
       "</g>\n",
       "<!-- 3,0,0,3 -->\n",
       "<g id=\"node5\" class=\"node\">\n",
       "<title>3,0,0,3</title>\n",
       "<ellipse fill=\"white\" stroke=\"black\" cx=\"216.46\" cy=\"-166.03\" rx=\"37.21\" ry=\"18\"/>\n",
       "<text text-anchor=\"middle\" x=\"216.46\" y=\"-160.23\" font-family=\"Helvetica,Arial,sans-serif\" font-size=\"14.00\">3,0,0,3</text>\n",
       "</g>\n",
       "<!-- 3,0,0,0&#45;&gt;3,0,0,3 -->\n",
       "<g id=\"edge4\" class=\"edge\">\n",
       "<title>3,0,0,0&#45;&gt;3,0,0,3</title>\n",
       "<path fill=\"none\" stroke=\"#337e8c\" d=\"M216.46,-255.62C216.46,-239.07 216.46,-214.47 216.46,-195.23\"/>\n",
       "<polygon fill=\"#337e8c\" stroke=\"#337e8c\" points=\"219.96,-195.35 216.46,-185.35 212.96,-195.35 219.96,-195.35\"/>\n",
       "<text text-anchor=\"middle\" x=\"205.96\" y=\"-214.23\" font-family=\"Helvetica,Arial,sans-serif\" font-size=\"14.00\" fill=\"#337e8c\">5.68e&#45;03</text>\n",
       "</g>\n",
       "<!-- 1,1,0,0 -->\n",
       "<g id=\"node6\" class=\"node\">\n",
       "<title>1,1,0,0</title>\n",
       "<ellipse fill=\"white\" stroke=\"black\" cx=\"453.92\" cy=\"-274.03\" rx=\"37.21\" ry=\"18\"/>\n",
       "<text text-anchor=\"middle\" x=\"453.92\" y=\"-268.23\" font-family=\"Helvetica,Arial,sans-serif\" font-size=\"14.00\">1,1,0,0</text>\n",
       "</g>\n",
       "<!-- 3,0,0,0&#45;&gt;1,1,0,0 -->\n",
       "<g id=\"edge2\" class=\"edge\">\n",
       "<title>3,0,0,0&#45;&gt;1,1,0,0</title>\n",
       "<path fill=\"none\" stroke=\"#5b7a40\" d=\"M253.99,-274.03C294.72,-274.03 360.72,-274.03 405.42,-274.03\"/>\n",
       "<polygon fill=\"#5b7a40\" stroke=\"#5b7a40\" points=\"405.3,-277.53 415.3,-274.03 405.3,-270.53 405.3,-277.53\"/>\n",
       "<text text-anchor=\"middle\" x=\"318.17\" y=\"-275.73\" font-family=\"Helvetica,Arial,sans-serif\" font-size=\"14.00\" fill=\"#5b7a40\">3</text>\n",
       "</g>\n",
       "<!-- 3,0,0,2&#45;&gt;Absorb -->\n",
       "<g id=\"edge12\" class=\"edge\">\n",
       "<title>3,0,0,2&#45;&gt;Absorb</title>\n",
       "<path fill=\"none\" stroke=\"#be35c3\" d=\"M245.82,-46.65C278.27,-34.29 333.31,-15.33 382.67,-8.03 445.32,1.24 462.93,3.7 525.17,-8.03 557.71,-14.16 592.59,-28.35 617.7,-40.06\"/>\n",
       "<polygon fill=\"#be35c3\" stroke=\"#be35c3\" points=\"615.96,-43.58 626.49,-44.73 618.97,-37.26 615.96,-43.58\"/>\n",
       "<text text-anchor=\"middle\" x=\"453.92\" y=\"-9.73\" font-family=\"Helvetica,Arial,sans-serif\" font-size=\"14.00\" fill=\"#be35c3\">5.55111512312578e&#45;17</text>\n",
       "</g>\n",
       "<!-- 3,0,0,2&#45;&gt;3,0,0,3 -->\n",
       "<g id=\"edge9\" class=\"edge\">\n",
       "<title>3,0,0,2&#45;&gt;3,0,0,3</title>\n",
       "<path fill=\"none\" stroke=\"#7a29ef\" d=\"M216.46,-76.35C216.46,-92.87 216.46,-117.47 216.46,-136.72\"/>\n",
       "<polygon fill=\"#7a29ef\" stroke=\"#7a29ef\" points=\"212.96,-136.62 216.46,-146.62 219.96,-136.62 212.96,-136.62\"/>\n",
       "<text text-anchor=\"middle\" x=\"205.96\" y=\"-106.23\" font-family=\"Helvetica,Arial,sans-serif\" font-size=\"14.00\" fill=\"#7a29ef\">3.53e&#45;01</text>\n",
       "</g>\n",
       "<!-- 1,1,0,2 -->\n",
       "<g id=\"node7\" class=\"node\">\n",
       "<title>1,1,0,2</title>\n",
       "<ellipse fill=\"white\" stroke=\"black\" cx=\"453.92\" cy=\"-58.03\" rx=\"37.21\" ry=\"18\"/>\n",
       "<text text-anchor=\"middle\" x=\"453.92\" y=\"-52.23\" font-family=\"Helvetica,Arial,sans-serif\" font-size=\"14.00\">1,1,0,2</text>\n",
       "</g>\n",
       "<!-- 3,0,0,2&#45;&gt;1,1,0,2 -->\n",
       "<g id=\"edge8\" class=\"edge\">\n",
       "<title>3,0,0,2&#45;&gt;1,1,0,2</title>\n",
       "<path fill=\"none\" stroke=\"#ca339f\" d=\"M253.99,-58.03C294.72,-58.03 360.72,-58.03 405.42,-58.03\"/>\n",
       "<polygon fill=\"#ca339f\" stroke=\"#ca339f\" points=\"405.3,-61.53 415.3,-58.03 405.3,-54.53 405.3,-61.53\"/>\n",
       "<text text-anchor=\"middle\" x=\"318.17\" y=\"-59.73\" font-family=\"Helvetica,Arial,sans-serif\" font-size=\"14.00\" fill=\"#ca339f\">6.00e&#45;01</text>\n",
       "</g>\n",
       "<!-- 1,1,0,3 -->\n",
       "<g id=\"node8\" class=\"node\">\n",
       "<title>1,1,0,3</title>\n",
       "<ellipse fill=\"white\" stroke=\"black\" cx=\"453.92\" cy=\"-166.03\" rx=\"37.21\" ry=\"18\"/>\n",
       "<text text-anchor=\"middle\" x=\"453.92\" y=\"-160.23\" font-family=\"Helvetica,Arial,sans-serif\" font-size=\"14.00\">1,1,0,3</text>\n",
       "</g>\n",
       "<!-- 3,0,0,3&#45;&gt;1,1,0,3 -->\n",
       "<g id=\"edge11\" class=\"edge\">\n",
       "<title>3,0,0,3&#45;&gt;1,1,0,3</title>\n",
       "<path fill=\"none\" stroke=\"#33828c\" d=\"M253.99,-166.03C294.72,-166.03 360.72,-166.03 405.42,-166.03\"/>\n",
       "<polygon fill=\"#33828c\" stroke=\"#33828c\" points=\"405.3,-169.53 415.3,-166.03 405.3,-162.53 405.3,-169.53\"/>\n",
       "<text text-anchor=\"middle\" x=\"318.17\" y=\"-167.73\" font-family=\"Helvetica,Arial,sans-serif\" font-size=\"14.00\" fill=\"#33828c\">3.00e&#45;01</text>\n",
       "</g>\n",
       "<!-- 1,1,0,0&#45;&gt;1,1,0,2 -->\n",
       "<g id=\"edge6\" class=\"edge\">\n",
       "<title>1,1,0,0&#45;&gt;1,1,0,2</title>\n",
       "<path fill=\"none\" stroke=\"#71c246\" d=\"M426.96,-261.18C375.23,-234.74 270.69,-171.71 312.29,-111.53 333.24,-81.23 373.7,-68.07 406.03,-62.36\"/>\n",
       "<polygon fill=\"#71c246\" stroke=\"#71c246\" points=\"406.31,-65.71 415.64,-60.7 405.22,-58.79 406.31,-65.71\"/>\n",
       "<text text-anchor=\"middle\" x=\"318.17\" y=\"-113.23\" font-family=\"Helvetica,Arial,sans-serif\" font-size=\"14.00\" fill=\"#71c246\">1.01e+00</text>\n",
       "</g>\n",
       "<!-- 1,1,0,0&#45;&gt;1,1,0,3 -->\n",
       "<g id=\"edge7\" class=\"edge\">\n",
       "<title>1,1,0,0&#45;&gt;1,1,0,3</title>\n",
       "<path fill=\"none\" stroke=\"#fd0060\" d=\"M453.92,-255.62C453.92,-239.07 453.92,-214.47 453.92,-195.23\"/>\n",
       "<polygon fill=\"#fd0060\" stroke=\"#fd0060\" points=\"457.42,-195.35 453.92,-185.35 450.42,-195.35 457.42,-195.35\"/>\n",
       "<text text-anchor=\"middle\" x=\"443.42\" y=\"-214.23\" font-family=\"Helvetica,Arial,sans-serif\" font-size=\"14.00\" fill=\"#fd0060\">9.35e&#45;02</text>\n",
       "</g>\n",
       "<!-- 0,0,1,0 -->\n",
       "<g id=\"node9\" class=\"node\">\n",
       "<title>0,0,1,0</title>\n",
       "<ellipse fill=\"white\" stroke=\"black\" cx=\"654.1\" cy=\"-274.03\" rx=\"37.21\" ry=\"18\"/>\n",
       "<text text-anchor=\"middle\" x=\"654.1\" y=\"-268.23\" font-family=\"Helvetica,Arial,sans-serif\" font-size=\"14.00\">0,0,1,0</text>\n",
       "</g>\n",
       "<!-- 1,1,0,0&#45;&gt;0,0,1,0 -->\n",
       "<g id=\"edge5\" class=\"edge\">\n",
       "<title>1,1,0,0&#45;&gt;0,0,1,0</title>\n",
       "<path fill=\"none\" stroke=\"#b3536f\" d=\"M491.27,-274.03C523.43,-274.03 570.58,-274.03 605.7,-274.03\"/>\n",
       "<polygon fill=\"#b3536f\" stroke=\"#b3536f\" points=\"605.65,-277.53 615.65,-274.03 605.65,-270.53 605.65,-277.53\"/>\n",
       "<text text-anchor=\"middle\" x=\"570.54\" y=\"-275.73\" font-family=\"Helvetica,Arial,sans-serif\" font-size=\"14.00\" fill=\"#b3536f\">1</text>\n",
       "</g>\n",
       "<!-- 1,1,0,2&#45;&gt;Absorb -->\n",
       "<g id=\"edge13\" class=\"edge\">\n",
       "<title>1,1,0,2&#45;&gt;Absorb</title>\n",
       "<path fill=\"none\" stroke=\"#63f244\" d=\"M491.27,-58.03C523.13,-58.03 569.7,-58.03 604.71,-58.03\"/>\n",
       "<polygon fill=\"#63f244\" stroke=\"#63f244\" points=\"604.64,-61.53 614.64,-58.03 604.64,-54.53 604.64,-61.53\"/>\n",
       "<text text-anchor=\"middle\" x=\"570.54\" y=\"-59.73\" font-family=\"Helvetica,Arial,sans-serif\" font-size=\"14.00\" fill=\"#63f244\">0.2</text>\n",
       "</g>\n",
       "<!-- 1,1,0,2&#45;&gt;1,1,0,3 -->\n",
       "<g id=\"edge10\" class=\"edge\">\n",
       "<title>1,1,0,2&#45;&gt;1,1,0,3</title>\n",
       "<path fill=\"none\" stroke=\"#368bfe\" d=\"M453.92,-76.35C453.92,-92.87 453.92,-117.47 453.92,-136.72\"/>\n",
       "<polygon fill=\"#368bfe\" stroke=\"#368bfe\" points=\"450.42,-136.62 453.92,-146.62 457.42,-136.62 450.42,-136.62\"/>\n",
       "<text text-anchor=\"middle\" x=\"443.42\" y=\"-106.23\" font-family=\"Helvetica,Arial,sans-serif\" font-size=\"14.00\" fill=\"#368bfe\">7.17e&#45;01</text>\n",
       "</g>\n",
       "<!-- 1,1,0,3&#45;&gt;Absorb -->\n",
       "<g id=\"edge14\" class=\"edge\">\n",
       "<title>1,1,0,3&#45;&gt;Absorb</title>\n",
       "<path fill=\"none\" stroke=\"#a785a7\" d=\"M479.62,-152.57C514.63,-133.49 578.84,-98.5 618.55,-76.86\"/>\n",
       "<polygon fill=\"#a785a7\" stroke=\"#a785a7\" points=\"619.99,-79.52 627.09,-71.66 616.64,-73.37 619.99,-79.52\"/>\n",
       "<text text-anchor=\"middle\" x=\"570.54\" y=\"-106.73\" font-family=\"Helvetica,Arial,sans-serif\" font-size=\"14.00\" fill=\"#a785a7\">0.1</text>\n",
       "</g>\n",
       "</g>\n",
       "</svg>\n"
      ]
     },
     "metadata": {},
     "output_type": "display_data"
    }
   ],
   "source": [
    "plot_graph(gam, subgraphs=TRUE, rainbow=TRUE, size=c(8, 8), align=TRUE,\n",
    "           fontsize=14, ranksep=1, nodesep=0.5,          \n",
    "           subgraphfun=function(state) paste(state[-length(state)], collapse=\"\"))"
   ]
  },
  {
   "cell_type": "markdown",
   "id": "0e009b20-2c67-4f05-ad94-cb7375a53fa7",
   "metadata": {},
   "source": [
    "# C++ version of add_epoque"
   ]
  },
  {
   "cell_type": "markdown",
   "id": "e73d434d-7343-4760-a0bc-fca3eb1cdbba",
   "metadata": {},
   "source": [
    "# for now I assume there is an empty slot at the end of the state vector that can be used to label epoque. It would be better if add_epoque somehow added a state slot at the end to the state vector and then put a 1 in that. That way the state vector would grow by one for each added epoque and the those extra slots would have 0 or 1 in them "
   ]
  },
  {
   "cell_type": "code",
   "execution_count": 46,
   "id": "39ebe141-b03a-4896-acb9-e8f3c0d1eb23",
   "metadata": {
    "vscode": {
     "languageId": "r"
    }
   },
   "outputs": [
    {
     "name": "stderr",
     "output_type": "stream",
     "text": [
      "Downloading GitHub repo munch-group/PtDAlgorithms@HEAD\n",
      "\n"
     ]
    },
    {
     "name": "stdout",
     "output_type": "stream",
     "text": [
      "\n",
      "\u001b[36m──\u001b[39m \u001b[36mR CMD build\u001b[39m \u001b[36m─────────────────────────────────────────────────────────────────────────────────────────────────────────\u001b[39m\n",
      "\u001b[32m✔\u001b[39m  \u001b[90mchecking for file ‘/private/var/folders/s6/srs8qkh52w1_h32d65z95tth0000gn/T/RtmpZlprLP/remotes3d9c2c558c47/munch-group-PtDAlgorithms-0bbd4d1/DESCRIPTION’\u001b[39m\u001b[36m\u001b[36m (440ms)\u001b[36m\u001b[39m\n",
      "\u001b[90m─\u001b[39m\u001b[90m  \u001b[39m\u001b[90mpreparing ‘ptdalgorithms’:\u001b[39m\u001b[36m\u001b[39m\n",
      "\u001b[32m✔\u001b[39m  \u001b[90mchecking DESCRIPTION meta-information\u001b[39m\u001b[36m\u001b[39m\n",
      "\u001b[90m─\u001b[39m\u001b[90m  \u001b[39m\u001b[90mcleaning src\u001b[39m\u001b[36m\u001b[39m\n",
      "\u001b[90m─\u001b[39m\u001b[90m  \u001b[39m\u001b[90mchecking for LF line-endings in source and make files and shell scripts\u001b[39m\u001b[36m\u001b[39m\n",
      "\u001b[90m─\u001b[39m\u001b[90m  \u001b[39m\u001b[90mchecking for empty or unneeded directories\u001b[39m\u001b[36m\u001b[39m\n",
      "   Omitted ‘LazyData’ from DESCRIPTION\n",
      "\u001b[90m─\u001b[39m\u001b[90m  \u001b[39m\u001b[90mbuilding ‘ptdalgorithms_1.0.0.tar.gz’\u001b[39m\u001b[36m\u001b[39m\n",
      "   \n",
      "\r"
     ]
    }
   ],
   "source": [
    "#library(plotly)\n",
    "library(ggplot2)\n",
    "library(viridis)\n",
    "library(grid)\n",
    "library(gridExtra)\n",
    "library(\"IRdisplay\")\n",
    "\n",
    "library(tidyverse)\n",
    "library(devtools)\n",
    "#remove.packages(\"ptdalgorithms\")\n",
    "# devtools::install_github(\"TobiasRoikjer/PtDAlgorithms\")\n",
    "\n",
    "#remove.packages(\"ptdalgorithms\")\n",
    "devtools::install_github(\"munch-group/PtDAlgorithms\")\n",
    "#devtools::install_local('../../PtDAlgorithms', quiet=FALSE)"
   ]
  },
  {
   "cell_type": "code",
   "execution_count": 1,
   "id": "c0813749-a3c9-46b7-8247-ec879ec1fa8a",
   "metadata": {},
   "outputs": [],
   "source": [
    "standard_coalescent <- function(n) {\n",
    "          \n",
    "    state_vector_length <- n + 1\n",
    "    graph <- create_graph(state_vector_length)\n",
    "    starting_vertex <- vertex_at(graph, 1)\n",
    "    initial_state <- c(rep(0, n), 0)\n",
    "    initial_state[1] <- n\n",
    "    \n",
    "    add_edge(\n",
    "      starting_vertex,\n",
    "      find_or_create_vertex(graph, initial_state),\n",
    "      1\n",
    "    )\n",
    "    index <- 2\n",
    "    \n",
    "    while (index <= vertices_length(graph)) {\n",
    "      vertex <- vertex_at(graph, index)\n",
    "      \n",
    "      # loop over all classes of lineages\n",
    "      for (i in 1:n) {\n",
    "        for (j in i:n) {\n",
    "          state <- vertex$state\n",
    "          \n",
    "          # if same class, there need to be at least two to coalesce\n",
    "          if (i == j) {\n",
    "            if (state[i] < 2) {\n",
    "              next;\n",
    "            }\n",
    "            # coal rate\n",
    "            rate <- state[i] * (state[i] - 1) / 2\n",
    "          } else {\n",
    "            # else at least one in each class to coalesce\n",
    "            if (state[i] < 1 || state[j] < 1) {\n",
    "              next;\n",
    "            }\n",
    "            # number of combinations\n",
    "            rate <- state[i] * state[j]\n",
    "          }\n",
    "          \n",
    "          # copy state\n",
    "          child_state <- state\n",
    "          # update child state\n",
    "          child_state[i] <- child_state[i] - 1\n",
    "          child_state[j] <- child_state[j] - 1\n",
    "          child_state[i+j] <- child_state[i+j] + 1\n",
    "\n",
    "          add_edge(\n",
    "              vertex,\n",
    "              find_or_create_vertex(graph, child_state),\n",
    "              rate, c(rate)\n",
    "            )\n",
    "        }\n",
    "      }\n",
    "          \n",
    "      index <- index + 1\n",
    "    }\n",
    "    return(graph)\n",
    "}\n",
    "# graph <- standard_coalescent(4)\n",
    "# graph_update_weights_parameterized(graph, c(1))\n",
    "# graph_as_matrix(graph)"
   ]
  },
  {
   "cell_type": "code",
   "execution_count": 2,
   "id": "0dae9a50-ce3f-4b3c-bc34-9780923c7913",
   "metadata": {},
   "outputs": [],
   "source": [
    "epoques <- c(0, 1, 2)\n",
    "pop_sizes <- c(1, 5, 10)\n",
    "n_samples <- 3"
   ]
  },
  {
   "cell_type": "code",
   "execution_count": 3,
   "id": "fe1b7d29-9201-4e1a-9b11-0cc1ecdea82b",
   "metadata": {
    "vscode": {
     "languageId": "r"
    }
   },
   "outputs": [
    {
     "name": "stderr",
     "output_type": "stream",
     "text": [
      "Indlæser krævet pakke: viridisLite\n",
      "\n",
      "── \u001b[1mAttaching core tidyverse packages\u001b[22m ──────────────────────────────────────────────────────────────── tidyverse 2.0.0 ──\n",
      "\u001b[32m✔\u001b[39m \u001b[34mdplyr    \u001b[39m 1.1.2     \u001b[32m✔\u001b[39m \u001b[34mreadr    \u001b[39m 2.1.4\n",
      "\u001b[32m✔\u001b[39m \u001b[34mforcats  \u001b[39m 1.0.0     \u001b[32m✔\u001b[39m \u001b[34mstringr  \u001b[39m 1.5.1\n",
      "\u001b[32m✔\u001b[39m \u001b[34mlubridate\u001b[39m 1.9.2     \u001b[32m✔\u001b[39m \u001b[34mtibble   \u001b[39m 3.2.1\n",
      "\u001b[32m✔\u001b[39m \u001b[34mpurrr    \u001b[39m 1.0.1     \u001b[32m✔\u001b[39m \u001b[34mtidyr    \u001b[39m 1.3.0\n",
      "── \u001b[1mConflicts\u001b[22m ────────────────────────────────────────────────────────────────────────────────── tidyverse_conflicts() ──\n",
      "\u001b[31m✖\u001b[39m \u001b[34mdplyr\u001b[39m::\u001b[32mcombine()\u001b[39m masks \u001b[34mgridExtra\u001b[39m::combine()\n",
      "\u001b[31m✖\u001b[39m \u001b[34mdplyr\u001b[39m::\u001b[32mfilter()\u001b[39m  masks \u001b[34mstats\u001b[39m::filter()\n",
      "\u001b[31m✖\u001b[39m \u001b[34mdplyr\u001b[39m::\u001b[32mlag()\u001b[39m     masks \u001b[34mstats\u001b[39m::lag()\n",
      "\u001b[36mℹ\u001b[39m Use the conflicted package (\u001b[3m\u001b[34m<http://conflicted.r-lib.org/>\u001b[39m\u001b[23m) to force all conflicts to become errors\n",
      "Indlæser krævet pakke: usethis\n",
      "\n"
     ]
    }
   ],
   "source": [
    "library(ggplot2)\n",
    "library(viridis)\n",
    "library(grid)\n",
    "library(gridExtra)\n",
    "library(\"IRdisplay\")\n",
    "\n",
    "library(tidyverse)\n",
    "library(devtools)\n",
    "library(ptdalgorithms)\n",
    "\n",
    "source(\"plot_functions.R\")\n",
    "\n",
    "theme_set(theme_bw())\n",
    "\n",
    "despine <- theme(panel.border = element_blank(), panel.grid.major = element_blank(),\n",
    "panel.grid.minor = element_blank(), axis.line = element_line(colour = \"black\"),\n",
    "                # text=element_text(family=\"Arial\")\n",
    "                )"
   ]
  },
  {
   "cell_type": "code",
   "execution_count": 4,
   "id": "21b7b86f-29ef-4558-9246-41c14fe0ad67",
   "metadata": {},
   "outputs": [],
   "source": [
    "# Rcpp::sourceCpp(\"./add_epoque.cpp\")\n",
    "# for (x in 1:1) {\n",
    "#     graph <- standard_coalescent(n_samples)\n",
    "#     gam <- graph_as_matrix(graph)\n",
    "#     add_epoque(graph, c(1/5), 1)\n",
    "#     add_epoque(graph, c(1/10), 2)\n",
    "#     print(moments(graph, 5))\n",
    "# }"
   ]
  },
  {
   "cell_type": "code",
   "execution_count": 5,
   "id": "25390151-65e1-4a85-9d5e-fa1afaf1e735",
   "metadata": {},
   "outputs": [],
   "source": [
    "# graph <- standard_coalescent(n_samples)\n",
    "# gam <- graph_as_matrix(graph)\n",
    "# add_epoque(graph, c(1/5), 1)\n",
    "# add_epoque(graph, c(1/10), 2)\n",
    "# moments(graph, 5)"
   ]
  },
  {
   "cell_type": "code",
   "execution_count": 6,
   "id": "c871cb73-6652-4830-b535-c90277409b23",
   "metadata": {
    "vscode": {
     "languageId": "r"
    }
   },
   "outputs": [],
   "source": [
    "Rcpp::sourceCpp(\"./add_epoque.cpp\")"
   ]
  },
  {
   "cell_type": "code",
   "execution_count": 7,
   "id": "fdd24af6-f813-42dc-ba1c-7100c15d2fc9",
   "metadata": {
    "vscode": {
     "languageId": "r"
    }
   },
   "outputs": [],
   "source": [
    "graph <- standard_coalescent(n_samples)\n",
    "gam <- graph_as_matrix(graph)"
   ]
  },
  {
   "cell_type": "code",
   "execution_count": 8,
   "id": "96b34c1d-0472-4be1-9dd2-8945c86994d0",
   "metadata": {},
   "outputs": [
    {
     "data": {
      "text/html": [
       "<style>\n",
       ".list-inline {list-style: none; margin:0; padding: 0}\n",
       ".list-inline>li {display: inline-block}\n",
       ".list-inline>li:not(:last-child)::after {content: \"\\00b7\"; padding: 0 .5ex}\n",
       "</style>\n",
       "<ol class=list-inline><li>1.33333333333333</li><li>2.88888888888889</li><li>8.88888888888889</li><li>35.8518518518518</li><li>179.753086419753</li></ol>\n"
      ],
      "text/latex": [
       "\\begin{enumerate*}\n",
       "\\item 1.33333333333333\n",
       "\\item 2.88888888888889\n",
       "\\item 8.88888888888889\n",
       "\\item 35.8518518518518\n",
       "\\item 179.753086419753\n",
       "\\end{enumerate*}\n"
      ],
      "text/markdown": [
       "1. 1.33333333333333\n",
       "2. 2.88888888888889\n",
       "3. 8.88888888888889\n",
       "4. 35.8518518518518\n",
       "5. 179.753086419753\n",
       "\n",
       "\n"
      ],
      "text/plain": [
       "[1]   1.333333   2.888889   8.888889  35.851852 179.753086"
      ]
     },
     "metadata": {},
     "output_type": "display_data"
    }
   ],
   "source": [
    "moments(graph, 5)"
   ]
  },
  {
   "cell_type": "code",
   "execution_count": 9,
   "id": "8f6ade31-f2e3-4a6a-be14-c920b5b43333",
   "metadata": {},
   "outputs": [
    {
     "data": {
      "image/svg+xml": [
       "<?xml version=\"1.0\" encoding=\"UTF-8\" standalone=\"no\"?>\n",
       "<!DOCTYPE svg PUBLIC \"-//W3C//DTD SVG 1.1//EN\"\n",
       " \"http://www.w3.org/Graphics/SVG/1.1/DTD/svg11.dtd\">\n",
       "<!-- Generated by graphviz version 8.1.0 (0)\n",
       " -->\n",
       "<!-- Title: G Pages: 1 -->\n",
       "<svg width=\"576pt\" height=\"159pt\"\n",
       " viewBox=\"0.00 0.00 576.00 159.21\" xmlns=\"http://www.w3.org/2000/svg\" xmlns:xlink=\"http://www.w3.org/1999/xlink\">\n",
       "<g id=\"graph0\" class=\"graph\" transform=\"scale(0.97676 0.97676) rotate(0) translate(36 127)\">\n",
       "<title>G</title>\n",
       "<polygon fill=\"white\" stroke=\"none\" points=\"-36,36 -36,-127 553.71,-127 553.71,36 -36,36\"/>\n",
       "<g id=\"clust3\" class=\"cluster\">\n",
       "<title>cluster_300</title>\n",
       "<polygon fill=\"whitesmoke\" stroke=\"whitesmoke\" points=\"125.5,-8 125.5,-83 215.92,-83 215.92,-8 125.5,-8\"/>\n",
       "<text text-anchor=\"middle\" x=\"170.71\" y=\"-65.7\" font-family=\"Helvetica,Arial,sans-serif\" font-size=\"14.00\">300</text>\n",
       "</g>\n",
       "<g id=\"clust4\" class=\"cluster\">\n",
       "<title>cluster_110</title>\n",
       "<polygon fill=\"whitesmoke\" stroke=\"whitesmoke\" points=\"279.42,-8 279.42,-83 369.84,-83 369.84,-8 279.42,-8\"/>\n",
       "<text text-anchor=\"middle\" x=\"324.63\" y=\"-65.7\" font-family=\"Helvetica,Arial,sans-serif\" font-size=\"14.00\">110</text>\n",
       "</g>\n",
       "<!-- Absorb -->\n",
       "<g id=\"node1\" class=\"node\">\n",
       "<title>Absorb</title>\n",
       "<ellipse fill=\"white\" stroke=\"lightgrey\" cx=\"479.52\" cy=\"-34\" rx=\"38.18\" ry=\"18\"/>\n",
       "<text text-anchor=\"middle\" x=\"479.52\" y=\"-28.2\" font-family=\"Helvetica,Arial,sans-serif\" font-size=\"14.00\">Absorb</text>\n",
       "</g>\n",
       "<!-- IPV -->\n",
       "<g id=\"node2\" class=\"node\">\n",
       "<title>IPV</title>\n",
       "<ellipse fill=\"white\" stroke=\"lightgrey\" cx=\"27\" cy=\"-34\" rx=\"27\" ry=\"18\"/>\n",
       "<text text-anchor=\"middle\" x=\"27\" y=\"-28.2\" font-family=\"Helvetica,Arial,sans-serif\" font-size=\"14.00\">IPV</text>\n",
       "</g>\n",
       "<!-- 3,0,0,0 -->\n",
       "<g id=\"node3\" class=\"node\">\n",
       "<title>3,0,0,0</title>\n",
       "<ellipse fill=\"white\" stroke=\"black\" cx=\"170.71\" cy=\"-34\" rx=\"37.21\" ry=\"18\"/>\n",
       "<text text-anchor=\"middle\" x=\"170.71\" y=\"-28.2\" font-family=\"Helvetica,Arial,sans-serif\" font-size=\"14.00\">3,0,0,0</text>\n",
       "</g>\n",
       "<!-- IPV&#45;&gt;3,0,0,0 -->\n",
       "<g id=\"edge1\" class=\"edge\">\n",
       "<title>IPV&#45;&gt;3,0,0,0</title>\n",
       "<path fill=\"none\" stroke=\"#9c34d1\" d=\"M54.32,-34C73.38,-34 99.65,-34 122.32,-34\"/>\n",
       "<polygon fill=\"#9c34d1\" stroke=\"#9c34d1\" points=\"122.11,-37.5 132.11,-34 122.11,-30.5 122.11,-37.5\"/>\n",
       "<text text-anchor=\"middle\" x=\"93.75\" y=\"-35.7\" font-family=\"Helvetica,Arial,sans-serif\" font-size=\"14.00\" fill=\"#9c34d1\">1</text>\n",
       "</g>\n",
       "<!-- 1,1,0,0 -->\n",
       "<g id=\"node4\" class=\"node\">\n",
       "<title>1,1,0,0</title>\n",
       "<ellipse fill=\"white\" stroke=\"black\" cx=\"324.63\" cy=\"-34\" rx=\"37.21\" ry=\"18\"/>\n",
       "<text text-anchor=\"middle\" x=\"324.63\" y=\"-28.2\" font-family=\"Helvetica,Arial,sans-serif\" font-size=\"14.00\">1,1,0,0</text>\n",
       "</g>\n",
       "<!-- 3,0,0,0&#45;&gt;1,1,0,0 -->\n",
       "<g id=\"edge2\" class=\"edge\">\n",
       "<title>3,0,0,0&#45;&gt;1,1,0,0</title>\n",
       "<path fill=\"none\" stroke=\"#67a993\" d=\"M208.1,-34C228.52,-34 254.24,-34 276.23,-34\"/>\n",
       "<polygon fill=\"#67a993\" stroke=\"#67a993\" points=\"276.01,-37.5 286.01,-34 276.01,-30.5 276.01,-37.5\"/>\n",
       "<text text-anchor=\"middle\" x=\"247.67\" y=\"-35.7\" font-family=\"Helvetica,Arial,sans-serif\" font-size=\"14.00\" fill=\"#67a993\">3</text>\n",
       "</g>\n",
       "<!-- 1,1,0,0&#45;&gt;Absorb -->\n",
       "<g id=\"edge3\" class=\"edge\">\n",
       "<title>1,1,0,0&#45;&gt;Absorb</title>\n",
       "<path fill=\"none\" stroke=\"#07ef7b\" d=\"M362.25,-34C382.58,-34 408.12,-34 430.09,-34\"/>\n",
       "<polygon fill=\"#07ef7b\" stroke=\"#07ef7b\" points=\"429.87,-37.5 439.87,-34 429.87,-30.5 429.87,-37.5\"/>\n",
       "<text text-anchor=\"middle\" x=\"401.59\" y=\"-35.7\" font-family=\"Helvetica,Arial,sans-serif\" font-size=\"14.00\" fill=\"#07ef7b\">1</text>\n",
       "</g>\n",
       "</g>\n",
       "</svg>\n"
      ]
     },
     "metadata": {},
     "output_type": "display_data"
    }
   ],
   "source": [
    "plot_graph(gam, subgraphs=TRUE, rainbow=TRUE, size=c(8, 8), align=TRUE,\n",
    "           fontsize=14, ranksep=1, nodesep=0.5,          \n",
    "           subgraphfun=function(state) paste(state[-length(state)], collapse=\"\"))"
   ]
  },
  {
   "cell_type": "code",
   "execution_count": 10,
   "id": "e472c05f-c913-425a-a52a-9881d71b75ed",
   "metadata": {
    "vscode": {
     "languageId": "r"
    }
   },
   "outputs": [
    {
     "data": {
      "text/html": [
       "<dl>\n",
       "\t<dt>$states</dt>\n",
       "\t\t<dd><table class=\"dataframe\">\n",
       "<caption>A matrix: 4 × 4 of type dbl</caption>\n",
       "<tbody>\n",
       "\t<tr><td>3</td><td>0</td><td>0</td><td>0</td></tr>\n",
       "\t<tr><td>1</td><td>1</td><td>0</td><td>0</td></tr>\n",
       "\t<tr><td>3</td><td>0</td><td>0</td><td>4</td></tr>\n",
       "\t<tr><td>1</td><td>1</td><td>0</td><td>4</td></tr>\n",
       "</tbody>\n",
       "</table>\n",
       "</dd>\n",
       "\t<dt>$SIM</dt>\n",
       "\t\t<dd><table class=\"dataframe\">\n",
       "<caption>A matrix: 4 × 4 of type dbl</caption>\n",
       "<tbody>\n",
       "\t<tr><td>-3.156437</td><td> 3.000000</td><td> 0.1564366</td><td> 0.000000</td></tr>\n",
       "\t<tr><td> 0.000000</td><td>-2.007381</td><td> 0.0000000</td><td> 1.007381</td></tr>\n",
       "\t<tr><td> 0.000000</td><td> 0.000000</td><td>-0.6000000</td><td> 0.600000</td></tr>\n",
       "\t<tr><td> 0.000000</td><td> 0.000000</td><td> 0.0000000</td><td>-0.200000</td></tr>\n",
       "</tbody>\n",
       "</table>\n",
       "</dd>\n",
       "\t<dt>$IPV</dt>\n",
       "\t\t<dd><style>\n",
       ".list-inline {list-style: none; margin:0; padding: 0}\n",
       ".list-inline>li {display: inline-block}\n",
       ".list-inline>li:not(:last-child)::after {content: \"\\00b7\"; padding: 0 .5ex}\n",
       "</style>\n",
       "<ol class=list-inline><li>1</li><li>0</li><li>0</li><li>0</li></ol>\n",
       "</dd>\n",
       "\t<dt>$indices</dt>\n",
       "\t\t<dd><style>\n",
       ".list-inline {list-style: none; margin:0; padding: 0}\n",
       ".list-inline>li {display: inline-block}\n",
       ".list-inline>li:not(:last-child)::after {content: \"\\00b7\"; padding: 0 .5ex}\n",
       "</style>\n",
       "<ol class=list-inline><li>2</li><li>3</li><li>5</li><li>6</li></ol>\n",
       "</dd>\n",
       "</dl>\n"
      ],
      "text/latex": [
       "\\begin{description}\n",
       "\\item[\\$states] A matrix: 4 × 4 of type dbl\n",
       "\\begin{tabular}{llll}\n",
       "\t 3 & 0 & 0 & 0\\\\\n",
       "\t 1 & 1 & 0 & 0\\\\\n",
       "\t 3 & 0 & 0 & 4\\\\\n",
       "\t 1 & 1 & 0 & 4\\\\\n",
       "\\end{tabular}\n",
       "\n",
       "\\item[\\$SIM] A matrix: 4 × 4 of type dbl\n",
       "\\begin{tabular}{llll}\n",
       "\t -3.156437 &  3.000000 &  0.1564366 &  0.000000\\\\\n",
       "\t  0.000000 & -2.007381 &  0.0000000 &  1.007381\\\\\n",
       "\t  0.000000 &  0.000000 & -0.6000000 &  0.600000\\\\\n",
       "\t  0.000000 &  0.000000 &  0.0000000 & -0.200000\\\\\n",
       "\\end{tabular}\n",
       "\n",
       "\\item[\\$IPV] \\begin{enumerate*}\n",
       "\\item 1\n",
       "\\item 0\n",
       "\\item 0\n",
       "\\item 0\n",
       "\\end{enumerate*}\n",
       "\n",
       "\\item[\\$indices] \\begin{enumerate*}\n",
       "\\item 2\n",
       "\\item 3\n",
       "\\item 5\n",
       "\\item 6\n",
       "\\end{enumerate*}\n",
       "\n",
       "\\end{description}\n"
      ],
      "text/markdown": [
       "$states\n",
       ":   \n",
       "A matrix: 4 × 4 of type dbl\n",
       "\n",
       "| 3 | 0 | 0 | 0 |\n",
       "| 1 | 1 | 0 | 0 |\n",
       "| 3 | 0 | 0 | 4 |\n",
       "| 1 | 1 | 0 | 4 |\n",
       "\n",
       "\n",
       "$SIM\n",
       ":   \n",
       "A matrix: 4 × 4 of type dbl\n",
       "\n",
       "| -3.156437 |  3.000000 |  0.1564366 |  0.000000 |\n",
       "|  0.000000 | -2.007381 |  0.0000000 |  1.007381 |\n",
       "|  0.000000 |  0.000000 | -0.6000000 |  0.600000 |\n",
       "|  0.000000 |  0.000000 |  0.0000000 | -0.200000 |\n",
       "\n",
       "\n",
       "$IPV\n",
       ":   1. 1\n",
       "2. 0\n",
       "3. 0\n",
       "4. 0\n",
       "\n",
       "\n",
       "\n",
       "$indices\n",
       ":   1. 2\n",
       "2. 3\n",
       "3. 5\n",
       "4. 6\n",
       "\n",
       "\n",
       "\n",
       "\n",
       "\n"
      ],
      "text/plain": [
       "$states\n",
       "     [,1] [,2] [,3] [,4]\n",
       "[1,]    3    0    0    0\n",
       "[2,]    1    1    0    0\n",
       "[3,]    3    0    0    4\n",
       "[4,]    1    1    0    4\n",
       "\n",
       "$SIM\n",
       "          [,1]      [,2]       [,3]      [,4]\n",
       "[1,] -3.156437  3.000000  0.1564366  0.000000\n",
       "[2,]  0.000000 -2.007381  0.0000000  1.007381\n",
       "[3,]  0.000000  0.000000 -0.6000000  0.600000\n",
       "[4,]  0.000000  0.000000  0.0000000 -0.200000\n",
       "\n",
       "$IPV\n",
       "[1] 1 0 0 0\n",
       "\n",
       "$indices\n",
       "[1] 2 3 5 6\n"
      ]
     },
     "metadata": {},
     "output_type": "display_data"
    }
   ],
   "source": [
    "add_epoque(graph, c(1/5), 1)\n",
    "gam <- graph_as_matrix(graph)\n",
    "gam"
   ]
  },
  {
   "cell_type": "code",
   "execution_count": 11,
   "id": "b209cb30-9d2d-400a-aa20-1b7c646d9bde",
   "metadata": {},
   "outputs": [
    {
     "data": {
      "text/html": [
       "<style>\n",
       ".list-inline {list-style: none; margin:0; padding: 0}\n",
       ".list-inline>li {display: inline-block}\n",
       ".list-inline>li:not(:last-child)::after {content: \"\\00b7\"; padding: 0 .5ex}\n",
       "</style>\n",
       "<ol class=list-inline><li>3</li><li>6</li></ol>\n"
      ],
      "text/latex": [
       "\\begin{enumerate*}\n",
       "\\item 3\n",
       "\\item 6\n",
       "\\end{enumerate*}\n"
      ],
      "text/markdown": [
       "1. 3\n",
       "2. 6\n",
       "\n",
       "\n"
      ],
      "text/plain": [
       "[1] 3 6"
      ]
     },
     "metadata": {},
     "output_type": "display_data"
    }
   ],
   "source": [
    "absorbing_parents(graph)"
   ]
  },
  {
   "cell_type": "code",
   "execution_count": 12,
   "id": "c3b22c22-0217-4282-8037-a97ee37f4335",
   "metadata": {},
   "outputs": [
    {
     "data": {
      "image/svg+xml": [
       "<?xml version=\"1.0\" encoding=\"UTF-8\" standalone=\"no\"?>\n",
       "<!DOCTYPE svg PUBLIC \"-//W3C//DTD SVG 1.1//EN\"\n",
       " \"http://www.w3.org/Graphics/SVG/1.1/DTD/svg11.dtd\">\n",
       "<!-- Generated by graphviz version 8.1.0 (0)\n",
       " -->\n",
       "<!-- Title: G Pages: 1 -->\n",
       "<svg width=\"576pt\" height=\"241pt\"\n",
       " viewBox=\"0.00 0.00 576.00 241.37\" xmlns=\"http://www.w3.org/2000/svg\" xmlns:xlink=\"http://www.w3.org/1999/xlink\">\n",
       "<g id=\"graph0\" class=\"graph\" transform=\"scale(0.890669 0.890669) rotate(0) translate(36 235)\">\n",
       "<title>G</title>\n",
       "<polygon fill=\"white\" stroke=\"none\" points=\"-36,36 -36,-235 610.71,-235 610.71,36 -36,36\"/>\n",
       "<g id=\"clust3\" class=\"cluster\">\n",
       "<title>cluster_300</title>\n",
       "<polygon fill=\"whitesmoke\" stroke=\"whitesmoke\" points=\"125.5,-8 125.5,-191 215.92,-191 215.92,-8 125.5,-8\"/>\n",
       "<text text-anchor=\"middle\" x=\"170.71\" y=\"-173.7\" font-family=\"Helvetica,Arial,sans-serif\" font-size=\"14.00\">300</text>\n",
       "</g>\n",
       "<g id=\"clust4\" class=\"cluster\">\n",
       "<title>cluster_110</title>\n",
       "<polygon fill=\"whitesmoke\" stroke=\"whitesmoke\" points=\"325.17,-8 325.17,-191 415.59,-191 415.59,-8 325.17,-8\"/>\n",
       "<text text-anchor=\"middle\" x=\"370.38\" y=\"-173.7\" font-family=\"Helvetica,Arial,sans-serif\" font-size=\"14.00\">110</text>\n",
       "</g>\n",
       "<!-- Absorb -->\n",
       "<g id=\"node1\" class=\"node\">\n",
       "<title>Absorb</title>\n",
       "<ellipse fill=\"white\" stroke=\"lightgrey\" cx=\"536.52\" cy=\"-88\" rx=\"38.18\" ry=\"18\"/>\n",
       "<text text-anchor=\"middle\" x=\"536.52\" y=\"-82.2\" font-family=\"Helvetica,Arial,sans-serif\" font-size=\"14.00\">Absorb</text>\n",
       "</g>\n",
       "<!-- IPV -->\n",
       "<g id=\"node2\" class=\"node\">\n",
       "<title>IPV</title>\n",
       "<ellipse fill=\"white\" stroke=\"lightgrey\" cx=\"27\" cy=\"-34\" rx=\"27\" ry=\"18\"/>\n",
       "<text text-anchor=\"middle\" x=\"27\" y=\"-28.2\" font-family=\"Helvetica,Arial,sans-serif\" font-size=\"14.00\">IPV</text>\n",
       "</g>\n",
       "<!-- 3,0,0,0 -->\n",
       "<g id=\"node3\" class=\"node\">\n",
       "<title>3,0,0,0</title>\n",
       "<ellipse fill=\"white\" stroke=\"black\" cx=\"170.71\" cy=\"-34\" rx=\"37.21\" ry=\"18\"/>\n",
       "<text text-anchor=\"middle\" x=\"170.71\" y=\"-28.2\" font-family=\"Helvetica,Arial,sans-serif\" font-size=\"14.00\">3,0,0,0</text>\n",
       "</g>\n",
       "<!-- IPV&#45;&gt;3,0,0,0 -->\n",
       "<g id=\"edge1\" class=\"edge\">\n",
       "<title>IPV&#45;&gt;3,0,0,0</title>\n",
       "<path fill=\"none\" stroke=\"#46442f\" d=\"M54.32,-34C73.38,-34 99.65,-34 122.32,-34\"/>\n",
       "<polygon fill=\"#46442f\" stroke=\"#46442f\" points=\"122.11,-37.5 132.11,-34 122.11,-30.5 122.11,-37.5\"/>\n",
       "<text text-anchor=\"middle\" x=\"93.75\" y=\"-35.7\" font-family=\"Helvetica,Arial,sans-serif\" font-size=\"14.00\" fill=\"#46442f\">1</text>\n",
       "</g>\n",
       "<!-- 3,0,0,4 -->\n",
       "<g id=\"node4\" class=\"node\">\n",
       "<title>3,0,0,4</title>\n",
       "<ellipse fill=\"white\" stroke=\"black\" cx=\"170.71\" cy=\"-142\" rx=\"37.21\" ry=\"18\"/>\n",
       "<text text-anchor=\"middle\" x=\"170.71\" y=\"-136.2\" font-family=\"Helvetica,Arial,sans-serif\" font-size=\"14.00\">3,0,0,4</text>\n",
       "</g>\n",
       "<!-- 3,0,0,0&#45;&gt;3,0,0,4 -->\n",
       "<g id=\"edge3\" class=\"edge\">\n",
       "<title>3,0,0,0&#45;&gt;3,0,0,4</title>\n",
       "<path fill=\"none\" stroke=\"#f53349\" d=\"M170.71,-52.32C170.71,-68.84 170.71,-93.44 170.71,-112.69\"/>\n",
       "<polygon fill=\"#f53349\" stroke=\"#f53349\" points=\"167.21,-112.59 170.71,-122.59 174.21,-112.59 167.21,-112.59\"/>\n",
       "<text text-anchor=\"middle\" x=\"160.21\" y=\"-82.2\" font-family=\"Helvetica,Arial,sans-serif\" font-size=\"14.00\" fill=\"#f53349\">1.56e&#45;01</text>\n",
       "</g>\n",
       "<!-- 1,1,0,0 -->\n",
       "<g id=\"node5\" class=\"node\">\n",
       "<title>1,1,0,0</title>\n",
       "<ellipse fill=\"white\" stroke=\"black\" cx=\"370.38\" cy=\"-34\" rx=\"37.21\" ry=\"18\"/>\n",
       "<text text-anchor=\"middle\" x=\"370.38\" y=\"-28.2\" font-family=\"Helvetica,Arial,sans-serif\" font-size=\"14.00\">1,1,0,0</text>\n",
       "</g>\n",
       "<!-- 3,0,0,0&#45;&gt;1,1,0,0 -->\n",
       "<g id=\"edge2\" class=\"edge\">\n",
       "<title>3,0,0,0&#45;&gt;1,1,0,0</title>\n",
       "<path fill=\"none\" stroke=\"#684068\" d=\"M207.96,-34C239.95,-34 286.78,-34 321.77,-34\"/>\n",
       "<polygon fill=\"#684068\" stroke=\"#684068\" points=\"321.68,-37.5 331.68,-34 321.68,-30.5 321.68,-37.5\"/>\n",
       "<text text-anchor=\"middle\" x=\"270.54\" y=\"-35.7\" font-family=\"Helvetica,Arial,sans-serif\" font-size=\"14.00\" fill=\"#684068\">3</text>\n",
       "</g>\n",
       "<!-- 1,1,0,4 -->\n",
       "<g id=\"node6\" class=\"node\">\n",
       "<title>1,1,0,4</title>\n",
       "<ellipse fill=\"white\" stroke=\"black\" cx=\"370.38\" cy=\"-142\" rx=\"37.21\" ry=\"18\"/>\n",
       "<text text-anchor=\"middle\" x=\"370.38\" y=\"-136.2\" font-family=\"Helvetica,Arial,sans-serif\" font-size=\"14.00\">1,1,0,4</text>\n",
       "</g>\n",
       "<!-- 3,0,0,4&#45;&gt;1,1,0,4 -->\n",
       "<g id=\"edge5\" class=\"edge\">\n",
       "<title>3,0,0,4&#45;&gt;1,1,0,4</title>\n",
       "<path fill=\"none\" stroke=\"#bfa8bb\" d=\"M207.96,-142C239.95,-142 286.78,-142 321.77,-142\"/>\n",
       "<polygon fill=\"#bfa8bb\" stroke=\"#bfa8bb\" points=\"321.68,-145.5 331.68,-142 321.68,-138.5 321.68,-145.5\"/>\n",
       "<text text-anchor=\"middle\" x=\"270.54\" y=\"-143.7\" font-family=\"Helvetica,Arial,sans-serif\" font-size=\"14.00\" fill=\"#bfa8bb\">6.00e&#45;01</text>\n",
       "</g>\n",
       "<!-- 1,1,0,0&#45;&gt;Absorb -->\n",
       "<g id=\"edge6\" class=\"edge\">\n",
       "<title>1,1,0,0&#45;&gt;Absorb</title>\n",
       "<path fill=\"none\" stroke=\"#d6a1b3\" d=\"M401.87,-44.03C427.88,-52.59 465.51,-64.97 494.22,-74.41\"/>\n",
       "<polygon fill=\"#d6a1b3\" stroke=\"#d6a1b3\" points=\"492.76,-77.95 503.36,-77.75 494.95,-71.3 492.76,-77.95\"/>\n",
       "<text text-anchor=\"middle\" x=\"452.96\" y=\"-63.7\" font-family=\"Helvetica,Arial,sans-serif\" font-size=\"14.00\" fill=\"#d6a1b3\">1</text>\n",
       "</g>\n",
       "<!-- 1,1,0,0&#45;&gt;1,1,0,4 -->\n",
       "<g id=\"edge4\" class=\"edge\">\n",
       "<title>1,1,0,0&#45;&gt;1,1,0,4</title>\n",
       "<path fill=\"none\" stroke=\"#ee7319\" d=\"M370.38,-52.32C370.38,-68.84 370.38,-93.44 370.38,-112.69\"/>\n",
       "<polygon fill=\"#ee7319\" stroke=\"#ee7319\" points=\"366.88,-112.59 370.38,-122.59 373.88,-112.59 366.88,-112.59\"/>\n",
       "<text text-anchor=\"middle\" x=\"359.88\" y=\"-82.2\" font-family=\"Helvetica,Arial,sans-serif\" font-size=\"14.00\" fill=\"#ee7319\">1.01e+00</text>\n",
       "</g>\n",
       "<!-- 1,1,0,4&#45;&gt;Absorb -->\n",
       "<g id=\"edge7\" class=\"edge\">\n",
       "<title>1,1,0,4&#45;&gt;Absorb</title>\n",
       "<path fill=\"none\" stroke=\"#cf4931\" d=\"M401.87,-131.97C427.88,-123.41 465.51,-111.03 494.22,-101.59\"/>\n",
       "<polygon fill=\"#cf4931\" stroke=\"#cf4931\" points=\"494.95,-104.7 503.36,-98.25 492.76,-98.05 494.95,-104.7\"/>\n",
       "<text text-anchor=\"middle\" x=\"452.96\" y=\"-119.7\" font-family=\"Helvetica,Arial,sans-serif\" font-size=\"14.00\" fill=\"#cf4931\">0.2</text>\n",
       "</g>\n",
       "</g>\n",
       "</svg>\n"
      ]
     },
     "metadata": {},
     "output_type": "display_data"
    }
   ],
   "source": [
    "gam <- graph_as_matrix(graph)\n",
    "plot_graph(gam, subgraphs=TRUE, rainbow=TRUE, size=c(8, 8), align=TRUE,\n",
    "           fontsize=14, ranksep=1, nodesep=0.5,          \n",
    "           subgraphfun=function(state) paste(state[-length(state)], collapse=\"\"))"
   ]
  },
  {
   "cell_type": "code",
   "execution_count": 13,
   "id": "d80cc534-aaca-4433-9492-4d60e6f5d6f2",
   "metadata": {},
   "outputs": [
    {
     "data": {
      "text/html": [
       "<style>\n",
       ".list-inline {list-style: none; margin:0; padding: 0}\n",
       ".list-inline>li {display: inline-block}\n",
       ".list-inline>li:not(:last-child)::after {content: \"\\00b7\"; padding: 0 .5ex}\n",
       "</style>\n",
       "<ol class=list-inline><li>3.50552682499834</li><li>32.4967469462018</li><li>483.576205859869</li><li>9670.1722881137</li><li>241814.652660032</li></ol>\n"
      ],
      "text/latex": [
       "\\begin{enumerate*}\n",
       "\\item 3.50552682499834\n",
       "\\item 32.4967469462018\n",
       "\\item 483.576205859869\n",
       "\\item 9670.1722881137\n",
       "\\item 241814.652660032\n",
       "\\end{enumerate*}\n"
      ],
      "text/markdown": [
       "1. 3.50552682499834\n",
       "2. 32.4967469462018\n",
       "3. 483.576205859869\n",
       "4. 9670.1722881137\n",
       "5. 241814.652660032\n",
       "\n",
       "\n"
      ],
      "text/plain": [
       "[1] 3.505527e+00 3.249675e+01 4.835762e+02 9.670172e+03 2.418147e+05"
      ]
     },
     "metadata": {},
     "output_type": "display_data"
    }
   ],
   "source": [
    "moments(graph, 5)"
   ]
  },
  {
   "cell_type": "code",
   "execution_count": 14,
   "id": "998083a4",
   "metadata": {
    "vscode": {
     "languageId": "r"
    }
   },
   "outputs": [],
   "source": [
    "add_epoque(graph, c(1/10), 2)\n",
    "gam <- graph_as_matrix(graph)"
   ]
  },
  {
   "cell_type": "code",
   "execution_count": 15,
   "id": "0d75ec46-df39-4798-8219-58f677bb36dc",
   "metadata": {},
   "outputs": [
    {
     "data": {
      "text/html": [
       "<dl>\n",
       "\t<dt>$states</dt>\n",
       "\t\t<dd><table class=\"dataframe\">\n",
       "<caption>A matrix: 6 × 4 of type dbl</caption>\n",
       "<tbody>\n",
       "\t<tr><td>3</td><td>0</td><td>0</td><td>0</td></tr>\n",
       "\t<tr><td>1</td><td>1</td><td>0</td><td>0</td></tr>\n",
       "\t<tr><td>3</td><td>0</td><td>0</td><td>4</td></tr>\n",
       "\t<tr><td>1</td><td>1</td><td>0</td><td>4</td></tr>\n",
       "\t<tr><td>3</td><td>0</td><td>0</td><td>6</td></tr>\n",
       "\t<tr><td>1</td><td>1</td><td>0</td><td>6</td></tr>\n",
       "</tbody>\n",
       "</table>\n",
       "</dd>\n",
       "\t<dt>$SIM</dt>\n",
       "\t\t<dd><table class=\"dataframe\">\n",
       "<caption>A matrix: 6 × 6 of type dbl</caption>\n",
       "<tbody>\n",
       "\t<tr><td>-3.163826</td><td> 3.000000</td><td> 0.1564366</td><td> 0.000000</td><td> 0.00738916</td><td> 0.0000000</td></tr>\n",
       "\t<tr><td> 0.000000</td><td>-2.256711</td><td> 0.0000000</td><td> 1.007381</td><td> 0.00000000</td><td> 0.2493295</td></tr>\n",
       "\t<tr><td> 0.000000</td><td> 0.000000</td><td>-0.6000000</td><td> 0.600000</td><td> 0.00000000</td><td> 0.0000000</td></tr>\n",
       "\t<tr><td> 0.000000</td><td> 0.000000</td><td> 0.0000000</td><td>-1.213371</td><td> 0.00000000</td><td> 1.0133708</td></tr>\n",
       "\t<tr><td> 0.000000</td><td> 0.000000</td><td> 0.0000000</td><td> 0.000000</td><td>-0.30000000</td><td> 0.3000000</td></tr>\n",
       "\t<tr><td> 0.000000</td><td> 0.000000</td><td> 0.0000000</td><td> 0.000000</td><td> 0.00000000</td><td>-0.1000000</td></tr>\n",
       "</tbody>\n",
       "</table>\n",
       "</dd>\n",
       "\t<dt>$IPV</dt>\n",
       "\t\t<dd><style>\n",
       ".list-inline {list-style: none; margin:0; padding: 0}\n",
       ".list-inline>li {display: inline-block}\n",
       ".list-inline>li:not(:last-child)::after {content: \"\\00b7\"; padding: 0 .5ex}\n",
       "</style>\n",
       "<ol class=list-inline><li>1</li><li>0</li><li>0</li><li>0</li><li>0</li><li>0</li></ol>\n",
       "</dd>\n",
       "\t<dt>$indices</dt>\n",
       "\t\t<dd><style>\n",
       ".list-inline {list-style: none; margin:0; padding: 0}\n",
       ".list-inline>li {display: inline-block}\n",
       ".list-inline>li:not(:last-child)::after {content: \"\\00b7\"; padding: 0 .5ex}\n",
       "</style>\n",
       "<ol class=list-inline><li>2</li><li>3</li><li>5</li><li>6</li><li>7</li><li>8</li></ol>\n",
       "</dd>\n",
       "</dl>\n"
      ],
      "text/latex": [
       "\\begin{description}\n",
       "\\item[\\$states] A matrix: 6 × 4 of type dbl\n",
       "\\begin{tabular}{llll}\n",
       "\t 3 & 0 & 0 & 0\\\\\n",
       "\t 1 & 1 & 0 & 0\\\\\n",
       "\t 3 & 0 & 0 & 4\\\\\n",
       "\t 1 & 1 & 0 & 4\\\\\n",
       "\t 3 & 0 & 0 & 6\\\\\n",
       "\t 1 & 1 & 0 & 6\\\\\n",
       "\\end{tabular}\n",
       "\n",
       "\\item[\\$SIM] A matrix: 6 × 6 of type dbl\n",
       "\\begin{tabular}{llllll}\n",
       "\t -3.163826 &  3.000000 &  0.1564366 &  0.000000 &  0.00738916 &  0.0000000\\\\\n",
       "\t  0.000000 & -2.256711 &  0.0000000 &  1.007381 &  0.00000000 &  0.2493295\\\\\n",
       "\t  0.000000 &  0.000000 & -0.6000000 &  0.600000 &  0.00000000 &  0.0000000\\\\\n",
       "\t  0.000000 &  0.000000 &  0.0000000 & -1.213371 &  0.00000000 &  1.0133708\\\\\n",
       "\t  0.000000 &  0.000000 &  0.0000000 &  0.000000 & -0.30000000 &  0.3000000\\\\\n",
       "\t  0.000000 &  0.000000 &  0.0000000 &  0.000000 &  0.00000000 & -0.1000000\\\\\n",
       "\\end{tabular}\n",
       "\n",
       "\\item[\\$IPV] \\begin{enumerate*}\n",
       "\\item 1\n",
       "\\item 0\n",
       "\\item 0\n",
       "\\item 0\n",
       "\\item 0\n",
       "\\item 0\n",
       "\\end{enumerate*}\n",
       "\n",
       "\\item[\\$indices] \\begin{enumerate*}\n",
       "\\item 2\n",
       "\\item 3\n",
       "\\item 5\n",
       "\\item 6\n",
       "\\item 7\n",
       "\\item 8\n",
       "\\end{enumerate*}\n",
       "\n",
       "\\end{description}\n"
      ],
      "text/markdown": [
       "$states\n",
       ":   \n",
       "A matrix: 6 × 4 of type dbl\n",
       "\n",
       "| 3 | 0 | 0 | 0 |\n",
       "| 1 | 1 | 0 | 0 |\n",
       "| 3 | 0 | 0 | 4 |\n",
       "| 1 | 1 | 0 | 4 |\n",
       "| 3 | 0 | 0 | 6 |\n",
       "| 1 | 1 | 0 | 6 |\n",
       "\n",
       "\n",
       "$SIM\n",
       ":   \n",
       "A matrix: 6 × 6 of type dbl\n",
       "\n",
       "| -3.163826 |  3.000000 |  0.1564366 |  0.000000 |  0.00738916 |  0.0000000 |\n",
       "|  0.000000 | -2.256711 |  0.0000000 |  1.007381 |  0.00000000 |  0.2493295 |\n",
       "|  0.000000 |  0.000000 | -0.6000000 |  0.600000 |  0.00000000 |  0.0000000 |\n",
       "|  0.000000 |  0.000000 |  0.0000000 | -1.213371 |  0.00000000 |  1.0133708 |\n",
       "|  0.000000 |  0.000000 |  0.0000000 |  0.000000 | -0.30000000 |  0.3000000 |\n",
       "|  0.000000 |  0.000000 |  0.0000000 |  0.000000 |  0.00000000 | -0.1000000 |\n",
       "\n",
       "\n",
       "$IPV\n",
       ":   1. 1\n",
       "2. 0\n",
       "3. 0\n",
       "4. 0\n",
       "5. 0\n",
       "6. 0\n",
       "\n",
       "\n",
       "\n",
       "$indices\n",
       ":   1. 2\n",
       "2. 3\n",
       "3. 5\n",
       "4. 6\n",
       "5. 7\n",
       "6. 8\n",
       "\n",
       "\n",
       "\n",
       "\n",
       "\n"
      ],
      "text/plain": [
       "$states\n",
       "     [,1] [,2] [,3] [,4]\n",
       "[1,]    3    0    0    0\n",
       "[2,]    1    1    0    0\n",
       "[3,]    3    0    0    4\n",
       "[4,]    1    1    0    4\n",
       "[5,]    3    0    0    6\n",
       "[6,]    1    1    0    6\n",
       "\n",
       "$SIM\n",
       "          [,1]      [,2]       [,3]      [,4]        [,5]       [,6]\n",
       "[1,] -3.163826  3.000000  0.1564366  0.000000  0.00738916  0.0000000\n",
       "[2,]  0.000000 -2.256711  0.0000000  1.007381  0.00000000  0.2493295\n",
       "[3,]  0.000000  0.000000 -0.6000000  0.600000  0.00000000  0.0000000\n",
       "[4,]  0.000000  0.000000  0.0000000 -1.213371  0.00000000  1.0133708\n",
       "[5,]  0.000000  0.000000  0.0000000  0.000000 -0.30000000  0.3000000\n",
       "[6,]  0.000000  0.000000  0.0000000  0.000000  0.00000000 -0.1000000\n",
       "\n",
       "$IPV\n",
       "[1] 1 0 0 0 0 0\n",
       "\n",
       "$indices\n",
       "[1] 2 3 5 6 7 8\n"
      ]
     },
     "metadata": {},
     "output_type": "display_data"
    }
   ],
   "source": [
    "gam"
   ]
  },
  {
   "cell_type": "code",
   "execution_count": 16,
   "id": "cccdcfc4-c673-4805-b217-33c9fb7e9e0c",
   "metadata": {
    "vscode": {
     "languageId": "r"
    }
   },
   "outputs": [
    {
     "data": {
      "image/svg+xml": [
       "<?xml version=\"1.0\" encoding=\"UTF-8\" standalone=\"no\"?>\n",
       "<!DOCTYPE svg PUBLIC \"-//W3C//DTD SVG 1.1//EN\"\n",
       " \"http://www.w3.org/Graphics/SVG/1.1/DTD/svg11.dtd\">\n",
       "<!-- Generated by graphviz version 8.1.0 (0)\n",
       " -->\n",
       "<!-- Title: G Pages: 1 -->\n",
       "<svg width=\"576pt\" height=\"314pt\"\n",
       " viewBox=\"0.00 0.00 576.00 313.56\" xmlns=\"http://www.w3.org/2000/svg\" xmlns:xlink=\"http://www.w3.org/1999/xlink\">\n",
       "<g id=\"graph0\" class=\"graph\" transform=\"scale(0.827343 0.827343) rotate(0) translate(36 343)\">\n",
       "<title>G</title>\n",
       "<polygon fill=\"white\" stroke=\"none\" points=\"-36,36 -36,-343 660.21,-343 660.21,36 -36,36\"/>\n",
       "<g id=\"clust3\" class=\"cluster\">\n",
       "<title>cluster_300</title>\n",
       "<polygon fill=\"whitesmoke\" stroke=\"whitesmoke\" points=\"171.25,-10 171.25,-265 261.67,-265 261.67,-10 171.25,-10\"/>\n",
       "<text text-anchor=\"middle\" x=\"216.46\" y=\"-247.7\" font-family=\"Helvetica,Arial,sans-serif\" font-size=\"14.00\">300</text>\n",
       "</g>\n",
       "<g id=\"clust4\" class=\"cluster\">\n",
       "<title>cluster_110</title>\n",
       "<polygon fill=\"whitesmoke\" stroke=\"whitesmoke\" points=\"374.67,-8 374.67,-299 465.09,-299 465.09,-8 374.67,-8\"/>\n",
       "<text text-anchor=\"middle\" x=\"419.88\" y=\"-281.7\" font-family=\"Helvetica,Arial,sans-serif\" font-size=\"14.00\">110</text>\n",
       "</g>\n",
       "<!-- Absorb -->\n",
       "<g id=\"node1\" class=\"node\">\n",
       "<title>Absorb</title>\n",
       "<ellipse fill=\"white\" stroke=\"lightgrey\" cx=\"586.02\" cy=\"-142\" rx=\"38.18\" ry=\"18\"/>\n",
       "<text text-anchor=\"middle\" x=\"586.02\" y=\"-136.2\" font-family=\"Helvetica,Arial,sans-serif\" font-size=\"14.00\">Absorb</text>\n",
       "</g>\n",
       "<!-- IPV -->\n",
       "<g id=\"node2\" class=\"node\">\n",
       "<title>IPV</title>\n",
       "<ellipse fill=\"white\" stroke=\"lightgrey\" cx=\"27\" cy=\"-36\" rx=\"27\" ry=\"18\"/>\n",
       "<text text-anchor=\"middle\" x=\"27\" y=\"-30.2\" font-family=\"Helvetica,Arial,sans-serif\" font-size=\"14.00\">IPV</text>\n",
       "</g>\n",
       "<!-- 3,0,0,0 -->\n",
       "<g id=\"node3\" class=\"node\">\n",
       "<title>3,0,0,0</title>\n",
       "<ellipse fill=\"white\" stroke=\"black\" cx=\"216.46\" cy=\"-36\" rx=\"37.21\" ry=\"18\"/>\n",
       "<text text-anchor=\"middle\" x=\"216.46\" y=\"-30.2\" font-family=\"Helvetica,Arial,sans-serif\" font-size=\"14.00\">3,0,0,0</text>\n",
       "</g>\n",
       "<!-- IPV&#45;&gt;3,0,0,0 -->\n",
       "<g id=\"edge1\" class=\"edge\">\n",
       "<title>IPV&#45;&gt;3,0,0,0</title>\n",
       "<path fill=\"none\" stroke=\"#07f9dd\" d=\"M54.46,-36C83.91,-36 132.09,-36 168.08,-36\"/>\n",
       "<polygon fill=\"#07f9dd\" stroke=\"#07f9dd\" points=\"167.83,-39.5 177.83,-36 167.83,-32.5 167.83,-39.5\"/>\n",
       "<text text-anchor=\"middle\" x=\"116.62\" y=\"-37.7\" font-family=\"Helvetica,Arial,sans-serif\" font-size=\"14.00\" fill=\"#07f9dd\">1</text>\n",
       "</g>\n",
       "<!-- 3,0,0,4 -->\n",
       "<g id=\"node4\" class=\"node\">\n",
       "<title>3,0,0,4</title>\n",
       "<ellipse fill=\"white\" stroke=\"black\" cx=\"216.46\" cy=\"-216\" rx=\"37.21\" ry=\"18\"/>\n",
       "<text text-anchor=\"middle\" x=\"216.46\" y=\"-210.2\" font-family=\"Helvetica,Arial,sans-serif\" font-size=\"14.00\">3,0,0,4</text>\n",
       "</g>\n",
       "<!-- 3,0,0,0&#45;&gt;3,0,0,4 -->\n",
       "<g id=\"edge3\" class=\"edge\">\n",
       "<title>3,0,0,0&#45;&gt;3,0,0,4</title>\n",
       "<path fill=\"none\" stroke=\"#f0fe76\" d=\"M185.78,-46.59C146.69,-61.97 86.47,-93.13 106.64,-133.5 121.55,-163.35 152.97,-185.22 178.4,-198.91\"/>\n",
       "<polygon fill=\"#f0fe76\" stroke=\"#f0fe76\" points=\"176.66,-202.47 187.15,-203.93 179.86,-196.24 176.66,-202.47\"/>\n",
       "<text text-anchor=\"middle\" x=\"116.62\" y=\"-120.2\" font-family=\"Helvetica,Arial,sans-serif\" font-size=\"14.00\" fill=\"#f0fe76\">1.56e&#45;01</text>\n",
       "</g>\n",
       "<!-- 3,0,0,6 -->\n",
       "<g id=\"node5\" class=\"node\">\n",
       "<title>3,0,0,6</title>\n",
       "<ellipse fill=\"white\" stroke=\"black\" cx=\"216.46\" cy=\"-144\" rx=\"37.21\" ry=\"18\"/>\n",
       "<text text-anchor=\"middle\" x=\"216.46\" y=\"-138.2\" font-family=\"Helvetica,Arial,sans-serif\" font-size=\"14.00\">3,0,0,6</text>\n",
       "</g>\n",
       "<!-- 3,0,0,0&#45;&gt;3,0,0,6 -->\n",
       "<g id=\"edge4\" class=\"edge\">\n",
       "<title>3,0,0,0&#45;&gt;3,0,0,6</title>\n",
       "<path fill=\"none\" stroke=\"#4cd2d3\" d=\"M216.46,-54.32C216.46,-70.84 216.46,-95.44 216.46,-114.69\"/>\n",
       "<polygon fill=\"#4cd2d3\" stroke=\"#4cd2d3\" points=\"212.96,-114.59 216.46,-124.59 219.96,-114.59 212.96,-114.59\"/>\n",
       "<text text-anchor=\"middle\" x=\"205.96\" y=\"-84.2\" font-family=\"Helvetica,Arial,sans-serif\" font-size=\"14.00\" fill=\"#4cd2d3\">7.39e&#45;03</text>\n",
       "</g>\n",
       "<!-- 1,1,0,0 -->\n",
       "<g id=\"node6\" class=\"node\">\n",
       "<title>1,1,0,0</title>\n",
       "<ellipse fill=\"white\" stroke=\"black\" cx=\"419.88\" cy=\"-34\" rx=\"37.21\" ry=\"18\"/>\n",
       "<text text-anchor=\"middle\" x=\"419.88\" y=\"-28.2\" font-family=\"Helvetica,Arial,sans-serif\" font-size=\"14.00\">1,1,0,0</text>\n",
       "</g>\n",
       "<!-- 3,0,0,0&#45;&gt;1,1,0,0 -->\n",
       "<g id=\"edge2\" class=\"edge\">\n",
       "<title>3,0,0,0&#45;&gt;1,1,0,0</title>\n",
       "<path fill=\"none\" stroke=\"#963922\" d=\"M253.93,-35.64C286.91,-35.31 335.66,-34.83 371.62,-34.47\"/>\n",
       "<polygon fill=\"#963922\" stroke=\"#963922\" points=\"371.37,-37.96 381.33,-34.36 371.3,-30.96 371.37,-37.96\"/>\n",
       "<text text-anchor=\"middle\" x=\"318.17\" y=\"-36.7\" font-family=\"Helvetica,Arial,sans-serif\" font-size=\"14.00\" fill=\"#963922\">3</text>\n",
       "</g>\n",
       "<!-- 1,1,0,4 -->\n",
       "<g id=\"node7\" class=\"node\">\n",
       "<title>1,1,0,4</title>\n",
       "<ellipse fill=\"white\" stroke=\"black\" cx=\"419.88\" cy=\"-250\" rx=\"37.21\" ry=\"18\"/>\n",
       "<text text-anchor=\"middle\" x=\"419.88\" y=\"-244.2\" font-family=\"Helvetica,Arial,sans-serif\" font-size=\"14.00\">1,1,0,4</text>\n",
       "</g>\n",
       "<!-- 3,0,0,4&#45;&gt;1,1,0,4 -->\n",
       "<g id=\"edge7\" class=\"edge\">\n",
       "<title>3,0,0,4&#45;&gt;1,1,0,4</title>\n",
       "<path fill=\"none\" stroke=\"#dbb585\" d=\"M252.08,-221.84C285.76,-227.53 337.1,-236.2 373.92,-242.41\"/>\n",
       "<polygon fill=\"#dbb585\" stroke=\"#dbb585\" points=\"372.92,-245.96 383.37,-244.17 374.09,-239.06 372.92,-245.96\"/>\n",
       "<text text-anchor=\"middle\" x=\"318.17\" y=\"-238.7\" font-family=\"Helvetica,Arial,sans-serif\" font-size=\"14.00\" fill=\"#dbb585\">6.00e&#45;01</text>\n",
       "</g>\n",
       "<!-- 1,1,0,6 -->\n",
       "<g id=\"node8\" class=\"node\">\n",
       "<title>1,1,0,6</title>\n",
       "<ellipse fill=\"white\" stroke=\"black\" cx=\"419.88\" cy=\"-142\" rx=\"37.21\" ry=\"18\"/>\n",
       "<text text-anchor=\"middle\" x=\"419.88\" y=\"-136.2\" font-family=\"Helvetica,Arial,sans-serif\" font-size=\"14.00\">1,1,0,6</text>\n",
       "</g>\n",
       "<!-- 3,0,0,6&#45;&gt;1,1,0,6 -->\n",
       "<g id=\"edge9\" class=\"edge\">\n",
       "<title>3,0,0,6&#45;&gt;1,1,0,6</title>\n",
       "<path fill=\"none\" stroke=\"#ab3a33\" d=\"M253.93,-143.64C286.91,-143.31 335.66,-142.83 371.62,-142.47\"/>\n",
       "<polygon fill=\"#ab3a33\" stroke=\"#ab3a33\" points=\"371.37,-145.96 381.33,-142.36 371.3,-138.96 371.37,-145.96\"/>\n",
       "<text text-anchor=\"middle\" x=\"318.17\" y=\"-144.7\" font-family=\"Helvetica,Arial,sans-serif\" font-size=\"14.00\" fill=\"#ab3a33\">3.00e&#45;01</text>\n",
       "</g>\n",
       "<!-- 1,1,0,0&#45;&gt;Absorb -->\n",
       "<g id=\"edge10\" class=\"edge\">\n",
       "<title>1,1,0,0&#45;&gt;Absorb</title>\n",
       "<path fill=\"none\" stroke=\"#df1611\" d=\"M443.01,-48.57C471.53,-67.33 521.26,-100.05 553.66,-121.37\"/>\n",
       "<polygon fill=\"#df1611\" stroke=\"#df1611\" points=\"551.43,-124.75 561.71,-127.32 555.28,-118.9 551.43,-124.75\"/>\n",
       "<text text-anchor=\"middle\" x=\"502.46\" y=\"-92.7\" font-family=\"Helvetica,Arial,sans-serif\" font-size=\"14.00\" fill=\"#df1611\">1</text>\n",
       "</g>\n",
       "<!-- 1,1,0,0&#45;&gt;1,1,0,4 -->\n",
       "<g id=\"edge5\" class=\"edge\">\n",
       "<title>1,1,0,0&#45;&gt;1,1,0,4</title>\n",
       "<path fill=\"none\" stroke=\"#c76e15\" d=\"M384.53,-40.29C358.06,-47.05 323.61,-60.68 306.62,-87.5 273.37,-139.98 343.45,-199.31 387.58,-229.69\"/>\n",
       "<polygon fill=\"#c76e15\" stroke=\"#c76e15\" points=\"385.3,-233.05 395.55,-235.72 389.2,-227.24 385.3,-233.05\"/>\n",
       "<text text-anchor=\"middle\" x=\"318.17\" y=\"-89.2\" font-family=\"Helvetica,Arial,sans-serif\" font-size=\"14.00\" fill=\"#c76e15\">1.01e+00</text>\n",
       "</g>\n",
       "<!-- 1,1,0,0&#45;&gt;1,1,0,6 -->\n",
       "<g id=\"edge6\" class=\"edge\">\n",
       "<title>1,1,0,0&#45;&gt;1,1,0,6</title>\n",
       "<path fill=\"none\" stroke=\"#996ec9\" d=\"M419.88,-52.32C419.88,-68.84 419.88,-93.44 419.88,-112.69\"/>\n",
       "<polygon fill=\"#996ec9\" stroke=\"#996ec9\" points=\"416.38,-112.59 419.88,-122.59 423.38,-112.59 416.38,-112.59\"/>\n",
       "<text text-anchor=\"middle\" x=\"409.38\" y=\"-82.2\" font-family=\"Helvetica,Arial,sans-serif\" font-size=\"14.00\" fill=\"#996ec9\">2.49e&#45;01</text>\n",
       "</g>\n",
       "<!-- 1,1,0,4&#45;&gt;Absorb -->\n",
       "<g id=\"edge11\" class=\"edge\">\n",
       "<title>1,1,0,4&#45;&gt;Absorb</title>\n",
       "<path fill=\"none\" stroke=\"#0ce616\" d=\"M443.01,-235.43C471.53,-216.67 521.26,-183.95 553.66,-162.63\"/>\n",
       "<polygon fill=\"#0ce616\" stroke=\"#0ce616\" points=\"555.28,-165.1 561.71,-156.68 551.43,-159.25 555.28,-165.1\"/>\n",
       "<text text-anchor=\"middle\" x=\"502.46\" y=\"-203.7\" font-family=\"Helvetica,Arial,sans-serif\" font-size=\"14.00\" fill=\"#0ce616\">0.2</text>\n",
       "</g>\n",
       "<!-- 1,1,0,4&#45;&gt;1,1,0,6 -->\n",
       "<g id=\"edge8\" class=\"edge\">\n",
       "<title>1,1,0,4&#45;&gt;1,1,0,6</title>\n",
       "<path fill=\"none\" stroke=\"#eb09c0\" d=\"M419.88,-231.59C419.88,-215.04 419.88,-190.44 419.88,-171.2\"/>\n",
       "<polygon fill=\"#eb09c0\" stroke=\"#eb09c0\" points=\"423.38,-171.32 419.88,-161.32 416.38,-171.32 423.38,-171.32\"/>\n",
       "<text text-anchor=\"middle\" x=\"409.38\" y=\"-190.2\" font-family=\"Helvetica,Arial,sans-serif\" font-size=\"14.00\" fill=\"#eb09c0\">1.01e+00</text>\n",
       "</g>\n",
       "<!-- 1,1,0,6&#45;&gt;Absorb -->\n",
       "<g id=\"edge12\" class=\"edge\">\n",
       "<title>1,1,0,6&#45;&gt;Absorb</title>\n",
       "<path fill=\"none\" stroke=\"#49923b\" d=\"M457.31,-142C480.67,-142 511.28,-142 536.67,-142\"/>\n",
       "<polygon fill=\"#49923b\" stroke=\"#49923b\" points=\"536.56,-145.5 546.56,-142 536.56,-138.5 536.56,-145.5\"/>\n",
       "<text text-anchor=\"middle\" x=\"502.46\" y=\"-143.7\" font-family=\"Helvetica,Arial,sans-serif\" font-size=\"14.00\" fill=\"#49923b\">0.1</text>\n",
       "</g>\n",
       "</g>\n",
       "</svg>\n"
      ]
     },
     "metadata": {},
     "output_type": "display_data"
    }
   ],
   "source": [
    "plot_graph(gam, subgraphs=TRUE, rainbow=TRUE, size=c(8, 8), align=TRUE,\n",
    "           fontsize=14, ranksep=1, nodesep=0.5,          \n",
    "           subgraphfun=function(state) paste(state[-length(state)], collapse=\"\"))"
   ]
  },
  {
   "cell_type": "code",
   "execution_count": null,
   "id": "61803fe7-189d-44cb-bc04-2df339fb1da4",
   "metadata": {},
   "outputs": [],
   "source": [
    "absorbing_parents(graph)"
   ]
  },
  {
   "cell_type": "code",
   "execution_count": 45,
   "id": "f10b9632-926b-42aa-995f-e4c846f58162",
   "metadata": {},
   "outputs": [
    {
     "data": {
      "text/html": [
       "<style>\n",
       ".list-inline {list-style: none; margin:0; padding: 0}\n",
       ".list-inline>li {display: inline-block}\n",
       ".list-inline>li:not(:last-child)::after {content: \"\\00b7\"; padding: 0 .5ex}\n",
       "</style>\n",
       "<ol class=list-inline><li>3.31453436974882</li><li>29.7355794236399</li><li>439.552095436048</li><li>8777.00747039525</li><li>219389.308116722</li></ol>\n"
      ],
      "text/latex": [
       "\\begin{enumerate*}\n",
       "\\item 3.31453436974882\n",
       "\\item 29.7355794236399\n",
       "\\item 439.552095436048\n",
       "\\item 8777.00747039525\n",
       "\\item 219389.308116722\n",
       "\\end{enumerate*}\n"
      ],
      "text/markdown": [
       "1. 3.31453436974882\n",
       "2. 29.7355794236399\n",
       "3. 439.552095436048\n",
       "4. 8777.00747039525\n",
       "5. 219389.308116722\n",
       "\n",
       "\n"
      ],
      "text/plain": [
       "[1] 3.314534e+00 2.973558e+01 4.395521e+02 8.777007e+03 2.193893e+05"
      ]
     },
     "metadata": {},
     "output_type": "display_data"
    }
   ],
   "source": [
    "moments(graph, 5)"
   ]
  },
  {
   "cell_type": "code",
   "execution_count": null,
   "id": "24d63ce9-43e9-447b-ae95-842348c5b1c6",
   "metadata": {},
   "outputs": [],
   "source": []
  },
  {
   "cell_type": "code",
   "execution_count": null,
   "id": "569fd980-f8e9-4b89-8be3-eba238a0545d",
   "metadata": {},
   "outputs": [],
   "source": []
  },
  {
   "cell_type": "code",
   "execution_count": null,
   "id": "55be64e0-c4e1-4e58-b2b0-6e3cfe32ef7c",
   "metadata": {},
   "outputs": [],
   "source": []
  },
  {
   "cell_type": "code",
   "execution_count": null,
   "id": "3c85ca92-363a-4c5d-bcd1-88e72eb34ac7",
   "metadata": {},
   "outputs": [],
   "source": []
  },
  {
   "cell_type": "code",
   "execution_count": null,
   "id": "db7ec003-1840-4295-986e-eccf61d3d06d",
   "metadata": {},
   "outputs": [],
   "source": []
  },
  {
   "cell_type": "code",
   "execution_count": null,
   "id": "463606f6-bd63-4672-b68e-e4a7031dc4e1",
   "metadata": {},
   "outputs": [],
   "source": []
  },
  {
   "cell_type": "code",
   "execution_count": null,
   "id": "12298366-cdfd-44fc-851e-467225e40bd0",
   "metadata": {},
   "outputs": [],
   "source": []
  },
  {
   "cell_type": "code",
   "execution_count": null,
   "id": "e5f488ff-a35f-47d8-88ff-ae2881c90177",
   "metadata": {},
   "outputs": [],
   "source": []
  },
  {
   "cell_type": "code",
   "execution_count": null,
   "id": "abb88cae-c499-4bd1-8dc8-981c62998f42",
   "metadata": {},
   "outputs": [],
   "source": []
  },
  {
   "cell_type": "code",
   "execution_count": null,
   "id": "83469c89-8419-4de2-8ced-d15069441c3c",
   "metadata": {},
   "outputs": [],
   "source": []
  },
  {
   "cell_type": "code",
   "execution_count": null,
   "id": "cffb95b6-78d5-47dd-8de0-170499ec2357",
   "metadata": {},
   "outputs": [],
   "source": []
  }
 ],
 "metadata": {
  "kernelspec": {
   "display_name": "R",
   "language": "R",
   "name": "ir"
  },
  "language_info": {
   "codemirror_mode": "r",
   "file_extension": ".r",
   "mimetype": "text/x-r-source",
   "name": "R",
   "pygments_lexer": "r",
   "version": "4.3.1"
  }
 },
 "nbformat": 4,
 "nbformat_minor": 5
}
