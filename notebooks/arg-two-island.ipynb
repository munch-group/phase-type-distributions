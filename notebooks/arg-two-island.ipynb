{
 "cells": [
  {
   "cell_type": "markdown",
   "id": "c7f5a5d5-89bf-4911-8186-7829a795a255",
   "metadata": {},
   "source": [
    "# Continuous phase-type distribution of branch length two pop two loci"
   ]
  },
  {
   "cell_type": "code",
   "execution_count": null,
   "id": "54d6e470-b6b3-4492-a444-795f4fdc15cd",
   "metadata": {},
   "outputs": [],
   "source": [
    "#library(plotly)\n",
    "library(ggplot2)\n",
    "library(viridis)\n",
    "library(grid)\n",
    "library(gridExtra)\n",
    "library(parallel)\n",
    "library(\"IRdisplay\")\n",
    "library(repr)\n",
    "options(repr.plot.width=8, repr.plot.height=5.5)"
   ]
  },
  {
   "cell_type": "markdown",
   "id": "5381abaf-9972-4e0e-8148-7d82153b8c26",
   "metadata": {},
   "source": [
    "R header:"
   ]
  },
  {
   "cell_type": "code",
   "execution_count": null,
   "id": "827714b6-9b33-496f-b372-b4ea462866d7",
   "metadata": {
    "tags": []
   },
   "outputs": [],
   "source": [
    "library(tidyverse)\n",
    "library(devtools)\n",
    "#remove.packages(\"ptdalgorithms\")\n",
    "# devtools::install_github(\"TobiasRoikjer/PtDAlgorithms\")\n",
    "library(ptdalgorithms)"
   ]
  },
  {
   "cell_type": "code",
   "execution_count": null,
   "id": "5752cada-f28c-4ea0-a41f-5ab9ce9b407c",
   "metadata": {},
   "outputs": [],
   "source": [
    "# %%R\n",
    "# pkgbuild::check_build_tools(debug = TRUE)"
   ]
  },
  {
   "cell_type": "code",
   "execution_count": null,
   "id": "d8d5e3fd-3b19-40ca-a8e7-6cb0f163d64c",
   "metadata": {},
   "outputs": [],
   "source": [
    "theme_set(theme_bw())\n",
    "\n",
    "despine <- theme(panel.border = element_blank(), panel.grid.major = element_blank(),\n",
    "panel.grid.minor = element_blank(), axis.line = element_line(colour = \"black\"),\n",
    "                text=element_text(family=\"Arial\"))"
   ]
  },
  {
   "cell_type": "code",
   "execution_count": null,
   "id": "0c3aa2ac-2d57-454a-a92f-7d7b529cd0a7",
   "metadata": {},
   "outputs": [],
   "source": [
    "# p <- ggplot(data=iris, aes(x = Sepal.Length, y = Sepal.Width)) +\n",
    "#       geom_point(aes(color=Species, shape=Species)) + despine\n",
    "\n",
    "# ggplotly(width=600, height=400)"
   ]
  },
  {
   "cell_type": "code",
   "execution_count": null,
   "id": "2bb960dc-d795-4bbc-a650-14cb8b23d1a7",
   "metadata": {},
   "outputs": [],
   "source": [
    "despine <- theme(panel.border = element_blank(), panel.grid.major = element_blank(),\n",
    "    panel.grid.minor = element_blank(), axis.line = element_line(colour = \"black\"),\n",
    "                text=element_text(size=17)) \n",
    "\n",
    "options(repr.plot.width=10, repr.plot.height=7)\n",
    "\n",
    "ggplot(data=iris, aes(x = Sepal.Length, y = Sepal.Width)) +\n",
    "      geom_point(aes(color=Species, shape=Species), size=5, alpha=0.5) + scale_color_brewer(palette=\"Set1\") + despine"
   ]
  },
  {
   "cell_type": "markdown",
   "id": "27fa9854-a687-45fa-9f01-ebaf39f1228e",
   "metadata": {},
   "source": [
    "# Utility functions"
   ]
  },
  {
   "cell_type": "code",
   "execution_count": null,
   "id": "af20a5d2-2840-4619-85d1-0f8871257854",
   "metadata": {},
   "outputs": [],
   "source": [
    "# plot_sfs <- function(graph, rewards) {\n",
    "#     sfs <- sapply(1:(dim(rewards)[1]-1), function(i) expectation(graph, rewards[i,]))\n",
    "#     data.frame(\n",
    "#       ton=seq(1,length(sfs)),  \n",
    "#       brlen=sfs\n",
    "#       ) %>% ggplot(aes(x=ton, y=brlen, fill=ton)) + \n",
    "#       geom_bar(stat = \"identity\", width=0.8) + scale_fill_viridis() + \n",
    "#       despine\n",
    "# }\n",
    "\n",
    "# plot_sfs_dph <- function(graph, rewards, trunc=4) {\n",
    "#     result = data.frame()\n",
    "#     for (i in 1:(nrow(rewards)-1)) {\n",
    "#         x <- seq(from = 0, to = trunc, by = 0.01)\n",
    "#         pdf <- dph(x, reward_transform(graph, rewards[i, ]))\n",
    "#         df <- data.frame(prob = pdf, t=x, ton=i)\n",
    "#         result <- rbind(result, df)\n",
    "#     }\n",
    "#     result %>% ggplot(aes(y=prob, x=t, group=ton, color=ton)) +\n",
    "#         geom_line(linewidth=1) + scale_color_viridis() + despine\n",
    "# }\n",
    "\n",
    "get_exp_mat <- function(graph, rewards, s) \n",
    "{\n",
    "    exp_mat <- matrix(nrow=s+1,ncol=s+1)\n",
    "    for (i in 0:s) {\n",
    "      for (j in 0:s) {\n",
    "        exp_mat[i+1,j+1] <- expectation(graph, rewards[props_to_index(s, i, j, 1),] + rewards[props_to_index(s, i, j, 2),])\n",
    "      }\n",
    "    } \n",
    "    return(exp_mat)\n",
    "}\n",
    "                                  \n",
    "plot_exp_mat <- function(exp_mat) \n",
    "{  \n",
    "    df <- as.data.frame(exp_mat) #%>% gather()\n",
    "    df <- df %>% rownames_to_column('ton1') %>% gather('ton2', 'value', -c(ton1))\n",
    "\n",
    "    limit <- max(abs(df$value)) * c(-1, 1)\n",
    "    \n",
    "    ggplot(df, aes(ton1, ton2)) +\n",
    "        geom_tile(aes(fill = value)) + \n",
    "        geom_text(aes(label = round(value, 2))) +\n",
    "    scale_x_discrete(labels= seq(0, nrow(exp_mat))) + \n",
    "    scale_y_discrete(labels= seq(0, nrow(exp_mat))) + \n",
    "    scale_fill_distiller(palette = 'PiYG',direction = 1, limit=limit) +\n",
    "    theme_minimal() +\n",
    "     theme(panel.grid.major = element_blank(), \n",
    "            panel.grid.minor = element_blank(), \n",
    "            text=element_text(size=17))\n",
    "\n",
    "}\n",
    "\n",
    "get_cov_mat <- function(graph, rewards) \n",
    "{\n",
    "    n <- nrow(rewards)\n",
    "    cov_mat <- matrix(nrow=n-1,ncol=n-1)\n",
    "    for (i in 1:(n-1)) {\n",
    "        for (j in 1:(n-1)) {\n",
    "            cov_mat[i, j] <- covariance(graph, rewards[i,], rewards[j,])\n",
    "        }\n",
    "    }\n",
    "    return(cov_mat)\n",
    "}\n",
    "                  \n",
    "plot_cov_mat <- function(cov_mat) \n",
    "{\n",
    "   \n",
    "    df <- as.data.frame(cov_mat)\n",
    "    df <- df %>% rownames_to_column('ton1') %>% gather('ton2', 'value', -c(ton1))\n",
    "    \n",
    "    ggplot(df, aes(ton1, ton2)) +\n",
    "        geom_tile(aes(fill = value)) + \n",
    "        scale_y_discrete(labels= seq(1, nrow(cov_mat))) + \n",
    "        scale_fill_continuous(type = \"viridis\") + \n",
    "        theme_minimal() + \n",
    "        theme(panel.grid.major = element_blank(), panel.grid.minor = element_blank(), text=element_text(size=17)) \n",
    "\n",
    "}\n",
    "\n",
    "plot_graph <- function(gam, constrained=TRUE, size=c(6, 6), fontsize=10, rankdir=\"LR\")\n",
    "{\n",
    "\n",
    "    if (constrained) {\n",
    "        constrained <- 'true'\n",
    "    } else {\n",
    "        constrained <- 'false'\n",
    "    }\n",
    "\n",
    "    edge_templ <- '\"FROM\" -> \"TO\" [constraint=true, label=\"LABEL\",labelfloat=false];'\n",
    "    start_name <- 'IPV'\n",
    "    absorbing_name <- 'Absorb'\n",
    "    edges <- c()\n",
    "    for (i in 1:length(gam$IPV)) {\n",
    "        if (gam$IPV[i] > 0) {\n",
    "            edge <- edge_templ\n",
    "            edge <- sub('FROM', start_name, edge)\n",
    "            edge <- sub('TO', paste(gam$states[i,], collapse = \",\"), edge)\n",
    "            edge <- sub('LABEL', gam$SIM[i, 1], edge)\n",
    "            edges <- c(edges, edge)\n",
    "        }\n",
    "    }    \n",
    "    for (i in 1:nrow(gam$states)) {\n",
    "        for (j in 1:nrow(gam$states)) {\n",
    "            if ((i != j) && (gam$SIM[i, j] > 0)) {\n",
    "                edge <- edge_templ\n",
    "                edge <- sub('FROM', paste(gam$states[i,], collapse = \",\"), edge)\n",
    "                edge <- sub('TO', paste(gam$states[j,], collapse = \",\"), edge)\n",
    "                edge <- sub('LABEL', gam$SIM[i, j], edge)\n",
    "                edges <- c(edges, edge)\n",
    "            }\n",
    "        }\n",
    "    }\n",
    "    absorb_rates <- -rowSums(gam$SIM)\n",
    "    for (i in 1:nrow(gam$states)) {\n",
    "        if (absorb_rates[i] > 0) {\n",
    "            # edges <- c(edges, paste('\"', from, '\"', ' -> ', 'Absorb', '[constraint=true, label=\"', label, '\",labelfloat=false]', ';', sep='')) \n",
    "            edge <- edge_templ\n",
    "            edge <- sub('FROM', paste(gam$states[i,], collapse = \",\"), edge)\n",
    "            edge <- sub('TO', absorbing_name, edge)\n",
    "            edge <- sub('LABEL', absorb_rates[i], edge)\n",
    "            edges <- c(edges, edge)\n",
    "        }\n",
    "    }\n",
    "    graph_spec <- paste(edges, sep='\\n', collapse = '')\n",
    "    style_str <- '\n",
    "        rankdir=RANKDIR;\n",
    "        size=\"SIZEX,SIZEY\";\n",
    "        fontname=\"Helvetica,Arial,sans-serif\"\n",
    "    \tnode [fontname=\"Helvetica,Arial,sans-serif\", fontsize=FONTSIZE]\n",
    "    \tedge [fontname=\"Helvetica,Arial,sans-serif\", fontsize=FONTSIZE]\n",
    "        Absorb [style=filled,color=\"lightgrey\"]\n",
    "        IPV [style=filled,color=\"lightgrey\"]\n",
    "    '\n",
    "    style_str <- sub('SIZEX', size[1], style_str)\n",
    "    style_str <- sub('SIZEY', size[2], style_str)\n",
    "    style_str <- gsub('FONTSIZE', fontsize, style_str)    \n",
    "    style_str <- gsub('RANKDIR', rankdir, style_str)    \n",
    "    graph_string <- paste('digraph G {', style_str, graph_spec, '}', sep='\\n')\n",
    "    system(\"dot -Tsvg -o tmp.svg\", input=graph_string, intern=TRUE)\n",
    "    return(display_svg(file=\"tmp.svg\"))\n",
    "}\n",
    "\n",
    "plot_sim <- function(graph)\n",
    "{\n",
    "    gam <- graph_as_matrix(graph)\n",
    "    mat <- t(gam$SIM)\n",
    "    mat <- matrix(as.integer(mat > 0), dim(mat))\n",
    "    \n",
    "    rownames(mat) <- 1:nrow(mat)\n",
    "    colnames(mat) <- 1:ncol(mat)\n",
    "    df <- as.data.frame(mat)\n",
    "    df <- df %>% rownames_to_column('n') %>% gather('m', 'value', -c(n))\n",
    "    df$n <- as.numeric(df$n)\n",
    "    df$m <- as.numeric(df$m)\n",
    "    ggplot(df, aes(n, m)) +\n",
    "        geom_tile(aes(fill = value), show.legend = FALSE) + \n",
    "        scale_y_reverse() +\n",
    "        scale_fill_gradient(low=\"white\", high=\"black\") +\n",
    "        theme_minimal() + \n",
    "        theme(panel.grid.major = element_blank(), \n",
    "              panel.grid.minor = element_blank(), \n",
    "              axis.title.x = element_blank(),\n",
    "              axis.title.y = element_blank(),\n",
    "              text=element_text(size=17))\n",
    "}\n"
   ]
  },
  {
   "cell_type": "code",
   "execution_count": null,
   "id": "ac5b9e4a-5b7d-43a6-a746-086f290cb20f",
   "metadata": {},
   "outputs": [],
   "source": [
    "\n",
    "make_discrete <- function(mutation_graph, mutation_rate) {\n",
    "    # Takes a graph for a continuous distribution and turns\n",
    "    # it into a descrete one (inplace). Returns a matrix of\n",
    "    # rewards for computing marginal moments\n",
    "\n",
    "    # current nr of states in graph\n",
    "    vlength <- vertices_length(mutation_graph)\n",
    "\n",
    "    # number of fields in state vector (assumes all are the same length)\n",
    "    state_vector_length <- length(vertex_at(mutation_graph, 1)$state)\n",
    "\n",
    "    # list state vector fields to reward at each auxiliary node\n",
    "    rewarded_state_vector_indexes <- vector(mode = \"list\", length = state_vector_length)\n",
    "\n",
    "    # loop all but starting node\n",
    "    for (i in 2:vlength) {\n",
    "        vertex <- vertex_at(mutation_graph,i)\n",
    "        if (vertex$rate > 0) { # not absorbing\n",
    "            for (j in 1:length(vertex$state)) {\n",
    "                val <- vertex$state[j]\n",
    "                if (val > 0) { # only ones we may reward\n",
    "                    # add auxilliary node\n",
    "                    mutation_vertex <- create_vertex(mutation_graph, rep(0, state_vector_length))\n",
    "                    add_edge(mutation_vertex, vertex, 1)\n",
    "                    add_edge(vertex, mutation_vertex, mutation_rate*val)\n",
    "\n",
    "                    rewarded_state_vector_indexes[[mutation_vertex$index]] <- c(rewarded_state_vector_indexes[[j]], j)\n",
    "                }\n",
    "            }\n",
    "        }\n",
    "    }\n",
    "    # normalize graph\n",
    "    weights_were_multiplied_with <- normalize_graph(mutation_graph)\n",
    "\n",
    "    # build reward matrix\n",
    "    rewards <- matrix(nrow=vertices_length(mutation_graph),ncol=state_vector_length, 0)\n",
    "    for (state in seq_along(rewarded_state_vector_indexes)) {\n",
    "        for (i in rewarded_state_vector_indexes[[state]]) {\n",
    "            rewards[state, i] <- 1\n",
    "        }\n",
    "    }\n",
    "    rewards = t(rewards)\n",
    "    return(rewards)\n",
    "}\n",
    "\n",
    "# # self-transition rate:\n",
    "# mutation_rate <- 0.0001\n",
    "\n",
    "# # clone graph to get one to modify:\n",
    "# mutation_graph <- clone_graph(graph)\n",
    "\n",
    "# # add auxilliary states, normalize and return reward matrix:\n",
    "# rewards <- make_discrete(mutation_graph, mutation_rate)\n",
    "\n",
    "# # for plotting the new graph\n",
    "# gam <- graph_as_matrix(mutation_graph)\n",
    "\n",
    "# vertices_length(mutation_graph)"
   ]
  },
  {
   "cell_type": "markdown",
   "id": "16780e6c-0511-42fb-90e6-8471caf351a1",
   "metadata": {},
   "source": [
    "# State space\n",
    "\n",
    "## State space in R"
   ]
  },
  {
   "cell_type": "code",
   "execution_count": null,
   "id": "a4ab75fe-83f2-414b-9e0d-6b894af792ba",
   "metadata": {
    "tags": []
   },
   "outputs": [],
   "source": [
    "# r_construct_twolocus_island_graph <- function(s, N, M, R) {\n",
    "\n",
    "#     # number of populations\n",
    "#     p <- 2 # needs to be 2\n",
    "#     # state vector length\n",
    "#     n <- p*(s+1)**2\n",
    "\n",
    "#     graph <- create_graph(n)\n",
    "#     index <- 1\n",
    "#     # first_vertex <- create_vertex(graph, c(rep(0, s+2), s, rep(0, n-s-3))) # assumes that p=2\n",
    "#     state <- rep(0, n)\n",
    "#     state[conf_to_index(s, 1, 1, 1)] <- s\n",
    "#     first_vertex <- create_vertex(graph, state) # assumes that p=2\n",
    "#     add_edge(starting_vertex(graph), first_vertex, 1)\n",
    "\n",
    "#     index <- 2\n",
    "#     while (index <= vertices_length(graph)) {\n",
    "\n",
    "#       vertex <- vertex_at(graph, index)\n",
    "#       state <- vertex$state\n",
    "\n",
    "#       count <- 0\n",
    "#       for (i in 1:n) {\n",
    "#           count <- count + state[i]\n",
    "#       }\n",
    "#       if (count <= 1) {\n",
    "#           # Only one lineage, stop\n",
    "#           index <- index + 1\n",
    "#           next\n",
    "#       }    \n",
    "\n",
    "#       for (i in 1:n) {\n",
    "#         conf_i <- index_to_conf(s, i)\n",
    "\n",
    "#         # coalescence #########################\n",
    "#         for (j in i:n) {\n",
    "#           conf_j <- index_to_conf(s, j)\n",
    "\n",
    "#           if (conf_i@population != conf_j@population) {\n",
    "#             # different populations\n",
    "#             next\n",
    "#           }\n",
    "#           if (i == j) {\n",
    "#             if (state[i] < 2) {\n",
    "#               next;\n",
    "#             }\n",
    "#             rate <- state[i] * (state[i] - 1) / 2 / N\n",
    "#           } else {\n",
    "#             if (state[i] < 1 || state[j] < 1) {\n",
    "#               next;\n",
    "#             }\n",
    "#             rate <- state[i] * state[j] / N\n",
    "#           }\n",
    "\n",
    "#           child_state <- state\n",
    "\n",
    "#           # lineages with index i and j coalesce:  \n",
    "#           child_state[i] <- child_state[i] - 1\n",
    "#           child_state[j] <- child_state[j] - 1\n",
    "#           stopifnot(conf_i@locus1+conf_j@locus1 <= s)\n",
    "#           stopifnot(conf_i@locus2+conf_j@locus2 <= s)\n",
    "\n",
    "#           # coalescene into lineage with index k\n",
    "#           k = conf_to_index(s, conf_i@locus1+conf_j@locus1, conf_i@locus2+conf_j@locus2, conf_i@population)\n",
    "#           child_state[k] <- child_state[k] + 1\n",
    "\n",
    "#           child_vertex <- find_or_create_vertex(graph, child_state)\n",
    "#           add_edge(vertex, child_vertex, rate)\n",
    "#         }\n",
    "\n",
    "#         # recombination #######################\n",
    "#         if (state[i] > 0 && conf_i@locus1 > 0 && conf_i@locus2 > 0) {\n",
    "\n",
    "#           rate <- R\n",
    "#           child_state <- state\n",
    "\n",
    "#           # a lineage with index i recombines to produce lineages with index k and l\n",
    "#           k = conf_to_index(s, conf_i@locus1, 0, conf_i@population)\n",
    "#           l = conf_to_index(s, 0, conf_i@locus2, conf_i@population)\n",
    "#           child_state[i] <- child_state[i] - 1\n",
    "#           child_state[k] <- child_state[k] + 1\n",
    "#           child_state[l] <- child_state[l] + 1\n",
    "\n",
    "#           child_vertex <- find_or_create_vertex(graph, child_state)\n",
    "#           add_edge(vertex, child_vertex, rate)\n",
    "#         }\n",
    "\n",
    "#         # migration ###########################\n",
    "#         if (state[i] > 0) {\n",
    "\n",
    "#           rate <- M\n",
    "#           child_state <- state\n",
    "\n",
    "#           if (conf_i@population == 1) {\n",
    "#             m = 2\n",
    "#           } else {\n",
    "#             m = 1\n",
    "#           }\n",
    "#           # \n",
    "#           k = conf_to_index(s, conf_i@locus1, conf_i@locus2, m)\n",
    "#           child_state[i] <- child_state[i] - 1\n",
    "#           child_state[k] <- child_state[k] + 1\n",
    "\n",
    "#           child_vertex <- find_or_create_vertex(graph, child_state)\n",
    "#           add_edge(vertex, child_vertex, rate)\n",
    "#         }\n",
    "#       }\n",
    "\n",
    "#       index <- index + 1\n",
    "\n",
    "#       if ((index %% 50) == 0) {\n",
    "#         cat(index, vertices_length(graph), \"\\n\")\n",
    "#       }\n",
    "\n",
    "#     }\n",
    "    \n",
    "#     return(graph)\n",
    "# }\n",
    "\n",
    "# graph <- r_construct_twolocus_island_graph(2, 1, 0, 1)\n",
    "\n",
    "# states <- t(sapply(1:vertices_length(graph), function(index) vertex_at(graph, index)$state, simplify = FALSE))\n",
    "# ipv <- graph_as_matrix(graph)$IPV\n",
    "# sim <- graph_as_matrix(graph)$SIM\n",
    "\n",
    "# graph_as_matrix(graph)"
   ]
  },
  {
   "cell_type": "code",
   "execution_count": null,
   "id": "7dbd051b-06f3-4b47-b17e-e632cf73751b",
   "metadata": {},
   "outputs": [],
   "source": []
  },
  {
   "cell_type": "markdown",
   "id": "7dcdb307-09b4-4012-8300-c7be13c5b5d6",
   "metadata": {
    "tags": []
   },
   "source": [
    "## State space in C"
   ]
  },
  {
   "cell_type": "code",
   "execution_count": null,
   "id": "bbadf77c-2a6f-4d18-ab8b-60a6a00cbd69",
   "metadata": {},
   "outputs": [],
   "source": [
    "Rcpp::sourceCpp(\"./cpp/two_locus_two_island.cpp\")"
   ]
  },
  {
   "cell_type": "markdown",
   "id": "108a3eb6-89f4-4919-97d9-efeb53421d02",
   "metadata": {},
   "source": [
    "Zero-probability transistions are ignored, so the state space is reduced when either recombination rate or migration rate are zero.\n",
    "\n",
    "Each state has the following three properties:\n",
    "1. nr decendants at locus 1\n",
    "2. nr decendants at locus 2\n",
    "3. what population the lineage is currently in\n",
    "\n",
    "Rccp exports `construct_twolocus_island_graph`, `index_to_props`, and `props_to_index`:"
   ]
  },
  {
   "cell_type": "markdown",
   "id": "a1bd971a-af88-4f24-b5d1-e051b23a51cd",
   "metadata": {},
   "source": [
    "Sample size:"
   ]
  },
  {
   "cell_type": "code",
   "execution_count": null,
   "id": "5765388f-13a9-4a66-b489-96b7b2498590",
   "metadata": {},
   "outputs": [],
   "source": [
    "s <- 2"
   ]
  },
  {
   "cell_type": "markdown",
   "id": "a82127d3-d0e2-459e-ac9d-40b8f4289f27",
   "metadata": {},
   "source": [
    "# Sanity checks without migration"
   ]
  },
  {
   "cell_type": "markdown",
   "id": "d8f42155-7d52-4177-a6b4-a049f736b781",
   "metadata": {},
   "source": [
    "## ARG TMRCA without migration"
   ]
  },
  {
   "cell_type": "markdown",
   "id": "048bee65-a136-4e94-84a3-d97943056c70",
   "metadata": {},
   "source": [
    "The minimum of two independent exponential random variables (the loci are independent with large recombination rate) with parameters $\\lambda$ and $\\eta$ is also exponential with parameter $\\lambda+\\eta$. Also:\n",
    "\n",
    "$$\\mathbb{E}[\\min(X_1, X_2) + \\max(X_1, X_2)] = \\mathbb{E}[X_1 + X_2] = \\frac{1}{\\lambda} + \\frac{1}{\\eta}$$\n",
    "\n",
    "Because \n",
    "\n",
    "$$\\mathbb{E}[\\min(X_1, X_2)] = \\frac{1}{\\lambda + \\eta},$$\n",
    "\n",
    "we get\n",
    "\n",
    "$$\\mathbb{E}[\\min(X_1, X_2)] = \\frac{1}{\\lambda} + \\frac{1}{\\eta} - \\frac{1}{\\lambda + \\eta}$$\n",
    "\n",
    "So for a sample of two, and a coalescence rate of 1, the expected time to coalescence at *both* loci is $1 + 1 - \\frac{1}{1+1} = 1.5$. The time for the two loci to coalesce is 1. So the total ARG TMRCA should be 2.5:"
   ]
  },
  {
   "cell_type": "code",
   "execution_count": null,
   "id": "ff3914ab-a54e-478c-97d4-355daae1683d",
   "metadata": {},
   "outputs": [],
   "source": [
    "\n",
    "graph <- construct_twolocus_island_graph(2, 1, 1, 0, 0, 0)\n",
    "expectation(graph)"
   ]
  },
  {
   "cell_type": "code",
   "execution_count": null,
   "id": "95f83148-019c-4b48-924a-a31908165880",
   "metadata": {},
   "outputs": [],
   "source": [
    "graph <- construct_twolocus_island_graph(2, 1, 1, 0, 0, 10000000)\n",
    "expectation(graph)"
   ]
  },
  {
   "cell_type": "markdown",
   "id": "2a4000ba-6b4a-452d-846e-eb8a1f38fdca",
   "metadata": {},
   "source": [
    "__*Note for Tobias*__: `expectation` does not like null-edges:"
   ]
  },
  {
   "cell_type": "code",
   "execution_count": null,
   "id": "e99c210d-908e-4df0-ae8b-9e34ac66a30e",
   "metadata": {},
   "outputs": [],
   "source": [
    "# graph <- construct_twolocus_island_graph(2, 1, 1, 0, 0, 10000000, keep_null_edges=TRUE)\n",
    "# expectation(graph)"
   ]
  },
  {
   "cell_type": "markdown",
   "id": "f345efb4-3908-4a24-9985-7dabb77ca396",
   "metadata": {},
   "source": [
    "## Visualize graph"
   ]
  },
  {
   "cell_type": "code",
   "execution_count": null,
   "id": "fd620c79-8c50-44e7-808c-67ccde79bf74",
   "metadata": {},
   "outputs": [],
   "source": [
    "gam <- graph_as_matrix(graph)"
   ]
  },
  {
   "cell_type": "code",
   "execution_count": null,
   "id": "d518ef70-7296-4cbe-832f-14945a6b6ab4",
   "metadata": {},
   "outputs": [],
   "source": [
    "plot_graph(gam)"
   ]
  },
  {
   "cell_type": "code",
   "execution_count": null,
   "id": "10783c56-d4f3-499b-8250-737fb72d03b1",
   "metadata": {},
   "outputs": [],
   "source": [
    "index_to_props(s, 4)"
   ]
  },
  {
   "cell_type": "markdown",
   "id": "79c387a2-abe8-4a28-bcde-c773179a22c9",
   "metadata": {
    "tags": []
   },
   "source": [
    "## Two-locus SFS without recombination\n",
    "\n",
    "Expected ARG branches with i and j tons at each locus"
   ]
  },
  {
   "cell_type": "code",
   "execution_count": null,
   "id": "9eccba10-b5da-4895-b725-4aba63f8acca",
   "metadata": {},
   "outputs": [],
   "source": [
    "s <- 5\n",
    "\n",
    "graph <- construct_twolocus_island_graph(s, 1, 1, 0, 0, 0)\n",
    "rewards <- sapply(1:vertices_length(graph), function(index) vertex_at(graph, index)$state )\n",
    "print(vertices_length(graph))"
   ]
  },
  {
   "cell_type": "code",
   "execution_count": null,
   "id": "6f0ab2a6-3cb1-41ce-9955-ef74a3fe9e9b",
   "metadata": {},
   "outputs": [],
   "source": [
    "plot_sim(graph)"
   ]
  },
  {
   "cell_type": "code",
   "execution_count": null,
   "id": "02c34609-e519-4ddf-9c53-7a02a0030d07",
   "metadata": {},
   "outputs": [],
   "source": [
    "exp_mat <- matrix(nrow=s+1,ncol=s+1)\n",
    "for (i in 1:s) {\n",
    "  for (j in 1:s) {\n",
    "    exp_mat[i+1,j+1] <- expectation(graph, rewards[props_to_index(s, i, j, 1),] + rewards[props_to_index(s, i, j, 2),])\n",
    "  }\n",
    "}"
   ]
  },
  {
   "cell_type": "code",
   "execution_count": null,
   "id": "c5289cb0-6dc8-4277-9437-7f1fd4bf3d82",
   "metadata": {},
   "outputs": [],
   "source": [
    "nrow(rewards)"
   ]
  },
  {
   "cell_type": "code",
   "execution_count": null,
   "id": "ce5d6286-0ffc-4821-95f8-12618dcf24c8",
   "metadata": {},
   "outputs": [],
   "source": [
    "rewards"
   ]
  },
  {
   "cell_type": "code",
   "execution_count": null,
   "id": "e7f8620b-b83e-482c-9082-0ab82d9dbb76",
   "metadata": {},
   "outputs": [],
   "source": [
    "plot_exp_mat(get_exp_mat(graph, rewards, s))"
   ]
  },
  {
   "cell_type": "markdown",
   "id": "d925ae8d-60d8-4c2e-a86e-e287eb669617",
   "metadata": {
    "tags": []
   },
   "source": [
    "## Two-locus SFS with recombination\n",
    "\n",
    "Expected ARG branches with i and j tons at each locus"
   ]
  },
  {
   "cell_type": "code",
   "execution_count": null,
   "id": "435eba64-27cc-4b7e-b3a5-7f1fcd5e9361",
   "metadata": {},
   "outputs": [],
   "source": [
    "s <- 4\n",
    "graph <- construct_twolocus_island_graph(s, 1, 1, 0, 0, 5)\n",
    "rewards <- sapply(1:vertices_length(graph), function(index) vertex_at(graph, index)$state )\n",
    "expectation(graph)\n",
    "print(vertices_length(graph))"
   ]
  },
  {
   "cell_type": "code",
   "execution_count": null,
   "id": "5bf7d977-9efc-462f-8678-c39b4aca5598",
   "metadata": {},
   "outputs": [],
   "source": [
    "plot_sim(graph)"
   ]
  },
  {
   "cell_type": "code",
   "execution_count": null,
   "id": "8b425c47-ddf3-48ca-9678-2192124e5662",
   "metadata": {},
   "outputs": [],
   "source": [
    "exp_mat <- get_exp_mat(graph, rewards, s)"
   ]
  },
  {
   "cell_type": "code",
   "execution_count": null,
   "id": "76402e7a-faf5-470c-b496-0d2c1c98eded",
   "metadata": {},
   "outputs": [],
   "source": [
    "plot_exp_mat(exp_mat)"
   ]
  },
  {
   "cell_type": "markdown",
   "id": "141f354e-89d7-4744-a238-56964887bcf7",
   "metadata": {},
   "source": [
    "Marginal SFSs:"
   ]
  },
  {
   "cell_type": "code",
   "execution_count": null,
   "id": "74cb541c-a587-46eb-9ab9-725352905fad",
   "metadata": {},
   "outputs": [],
   "source": [
    "x <- colSums(exp_mat)\n",
    "sfs_locus1 <- x[c(-1, -length(x))]\n",
    "x <- rowSums(exp_mat)\n",
    "sfs_locus2 <- x[c(-1, -length(x))]"
   ]
  },
  {
   "cell_type": "markdown",
   "id": "191c5ee1-2f28-40d6-a47d-1a87e71d5db5",
   "metadata": {},
   "source": [
    "Fits expectations for a single locus:"
   ]
  },
  {
   "cell_type": "code",
   "execution_count": null,
   "id": "6923a39d-f1a3-4ede-bec8-562342599ba5",
   "metadata": {},
   "outputs": [],
   "source": [
    "grid.arrange(\n",
    "    data.frame(\n",
    "      ton=seq(1,length(sfs_locus1)),  \n",
    "      brlen=sfs_locus1\n",
    "      ) %>% ggplot(aes(y=brlen, x=ton, fill=ton)) + \n",
    "            geom_bar(stat = \"identity\", width=0.8) + \n",
    "            scale_fill_viridis() + \n",
    "            despine + \n",
    "            theme(legend.position = \"none\"),\n",
    "    data.frame(\n",
    "      ton=seq(1,length(sfs_locus2)),  \n",
    "      brlen=sfs_locus2\n",
    "      ) %>% ggplot(aes(y=brlen, x=ton, fill=ton)) + \n",
    "            geom_bar(stat = \"identity\", width=0.8) + \n",
    "            scale_fill_viridis() + \n",
    "            despine + \n",
    "            theme(legend.position = \"none\"),\n",
    "    nrow = 1)\n"
   ]
  },
  {
   "cell_type": "markdown",
   "id": "fb9fbc8f-f7ba-4303-8601-dec0383db2e7",
   "metadata": {},
   "source": [
    "# PDFs of ARG branch length with i and j descendants at each locus"
   ]
  },
  {
   "cell_type": "code",
   "execution_count": null,
   "id": "7fad24b3-530a-42c5-8f46-6361e81e010a",
   "metadata": {},
   "outputs": [],
   "source": [
    "result = data.frame()\n",
    "for (i in 1:(s-1)) {\n",
    "    for (j in 1:(s-1)) {\n",
    "        x <- seq(from = 0, to = 4, by = 0.01)\n",
    "        pdf <- dph(x, reward_transform(graph, rewards[props_to_index(s, i, j, 1),]))\n",
    "\n",
    "        df <- data.frame(prob = pdf, t=x, i_ton=i, j_ton=j, color=100*j+i)\n",
    "        result <- rbind(result, df)\n",
    "    }\n",
    "}\n",
    "#result %>% ggplot(aes(y=prob, x=t, color=ton, group=ton)) + geom_line(size=1)"
   ]
  },
  {
   "cell_type": "code",
   "execution_count": null,
   "id": "ba69abdb-a8ef-4230-90b5-4d73adda90a7",
   "metadata": {},
   "outputs": [],
   "source": [
    "ggplot(result, aes(y=prob, x=t)) + geom_line(linewidth=2, color='#238A8DFF') +\n",
    "    facet_grid(i_ton ~ j_ton) +\n",
    "    theme_bw() + theme(panel.grid.major = element_blank(), panel.grid.minor = element_blank(), strip.background = element_rect(fill=\"white\"))\n",
    "ggsave('~/Desktop/tmp.pdf', width=7, height=6)"
   ]
  },
  {
   "cell_type": "markdown",
   "id": "7a742926-7222-4630-8e63-7e13c8ccb2da",
   "metadata": {},
   "source": [
    "# ARG TMRCA without recombination\n",
    "\n",
    "Test the classical result that with symmetric migration and sampling from one population, the expectation should be the sum of the two population sizes (2) and independent of the migration rate. The variance is not and should fall with higher migration rate and asymptotically reach (4):"
   ]
  },
  {
   "cell_type": "code",
   "execution_count": null,
   "id": "6dd60ae2-835f-4a53-8257-e7544d45762a",
   "metadata": {},
   "outputs": [],
   "source": [
    "graph <- construct_twolocus_island_graph(2, 1, 1, 10000000000, 10000000000, 0)\n",
    "variance(graph)"
   ]
  },
  {
   "cell_type": "code",
   "execution_count": null,
   "id": "e5068d06-88f3-462f-be24-70fdc81b58bd",
   "metadata": {},
   "outputs": [],
   "source": [
    "expectation_migrates <- c()\n",
    "variance_migrates <- c()\n",
    "mig_rates <- 10^(-5:5)\n",
    "for (mig_rate in mig_rates) {\n",
    "    graph <- construct_twolocus_island_graph(2, 1, 1, mig_rate, mig_rate, 0)\n",
    "    expectation_migrates <- c(expectation_migrates, expectation(graph))\n",
    "    variance_migrates <- c(variance_migrates, variance(graph))   \n",
    "}"
   ]
  },
  {
   "cell_type": "code",
   "execution_count": null,
   "id": "2ecf399a-0da8-449e-b639-f11a3db3b599",
   "metadata": {},
   "outputs": [],
   "source": [
    "data.frame(mig_rates=mig_rates, expectation_migrates=expectation_migrates)"
   ]
  },
  {
   "cell_type": "code",
   "execution_count": null,
   "id": "fe567f23-d16c-4a6b-9a46-390b47083a34",
   "metadata": {},
   "outputs": [],
   "source": [
    "ggplot(data.frame(mig_rates=mig_rates, \n",
    "                         expectation_migrates=expectation_migrates),\n",
    "             aes(x=mig_rates, expectation_migrates)) +\n",
    "    geom_line() +\n",
    "    geom_line(data=data.frame(mig_rates=mig_rates, \n",
    "                         variance_migrates=variance_migrates),\n",
    "             aes(x=mig_rates, variance_migrates)) +\n",
    "        scale_x_continuous(trans='log10') + \n",
    "        scale_y_continuous(trans='log10') +\n",
    "        geom_hline(yintercept = 2, color='blue', linetype='dashed') +\n",
    "        geom_hline(yintercept = 4, color='red', linetype='dashed') + despine"
   ]
  },
  {
   "cell_type": "markdown",
   "id": "3042e81b-ef55-4909-9b06-65c68273955a",
   "metadata": {},
   "source": [
    "# Distribution of number of outgoing edes"
   ]
  },
  {
   "cell_type": "code",
   "execution_count": null,
   "id": "6bc0c5e5-c2bc-40e7-b06a-e9426ccb7adf",
   "metadata": {},
   "outputs": [],
   "source": [
    "s <- 5"
   ]
  },
  {
   "cell_type": "code",
   "execution_count": null,
   "id": "1d6b3533-a10e-4cd3-ab5d-c28e21af23e6",
   "metadata": {},
   "outputs": [],
   "source": [
    "graph <- construct_twolocus_island_graph(s, 1, 1, 0, 0, 1)\n",
    "print(vertices_length(graph))\n",
    "si <- sign(graph_as_matrix(graph)$SIM)\n",
    "diag(si) <- 0\n",
    "outgoing_edge_counts <- rowSums(si)\n",
    "# qplot(outgoing_edge_counts)"
   ]
  },
  {
   "cell_type": "code",
   "execution_count": null,
   "id": "f3e5620f-0eaa-4cf5-88ba-107b8723592d",
   "metadata": {},
   "outputs": [],
   "source": [
    "qplot(outgoing_edge_counts, bins=10)"
   ]
  },
  {
   "cell_type": "markdown",
   "id": "8e2c56e5-5e57-44c9-843c-c68188959baf",
   "metadata": {},
   "source": [
    "# Matrix sparcity"
   ]
  },
  {
   "cell_type": "code",
   "execution_count": null,
   "id": "4e75790f-c707-482c-8c9a-5d5f92753cab",
   "metadata": {},
   "outputs": [],
   "source": [
    "gam <- graph_as_matrix(graph)\n",
    "mean(as.integer(gam$SIM > 0))"
   ]
  },
  {
   "cell_type": "code",
   "execution_count": null,
   "id": "465d655c-5714-47e2-8e1f-2e74bcd5d31b",
   "metadata": {},
   "outputs": [],
   "source": [
    "plot_sim(graph)\n",
    "ggsave('~/Desktop/tmp.pdf')"
   ]
  },
  {
   "cell_type": "markdown",
   "id": "70b8847b-0038-407d-9244-f0cb4451f07d",
   "metadata": {
    "tags": []
   },
   "source": [
    "# Two-locus SFS\n",
    "\n",
    "Expected ARG branches with i and j tons at each locus"
   ]
  },
  {
   "cell_type": "code",
   "execution_count": null,
   "id": "71956908-1b52-4044-a340-4a3684d5e4bf",
   "metadata": {},
   "outputs": [],
   "source": [
    "# %%R -o s\n",
    "# s <- 4"
   ]
  },
  {
   "cell_type": "markdown",
   "id": "51501be0-03be-44f1-b358-62ae0df2ab89",
   "metadata": {},
   "source": [
    "No migration:"
   ]
  },
  {
   "cell_type": "code",
   "execution_count": null,
   "id": "b8c15957-24ca-468d-81a7-6ec18d42132b",
   "metadata": {},
   "outputs": [],
   "source": [
    "# %%R\n",
    "# graph <- construct_twolocus_island_graph(s, 1, 1, 1, 1, 1)\n",
    "# rewards <- sapply(1:vertices_length(graph), function(index) vertex_at(graph, index)$state )\n",
    "# vertices_length(graph)"
   ]
  },
  {
   "cell_type": "code",
   "execution_count": null,
   "id": "5e2bb3f0-c020-458d-82f6-2f3802042542",
   "metadata": {},
   "outputs": [],
   "source": [
    "# %%R\n",
    "\n",
    "# library(foreach)\n",
    "# foreach (i=1:3) %do% {\n",
    "#   sqrt(i)\n",
    "# }"
   ]
  },
  {
   "cell_type": "code",
   "execution_count": null,
   "id": "222ab743-9027-45e4-a5a1-07951e2f640f",
   "metadata": {},
   "outputs": [],
   "source": [
    "broadcast_props_to_index <- function(s, a, b, p) {\n",
    "    return((p-1)*(s + 1)**2 + a*(s + 1) + b + 1)\n",
    "}\n",
    "\n",
    "two_locus_expectation <- function(s, N, M, R) \n",
    "{\n",
    "    graph <- construct_twolocus_island_graph(s, N, N, M, M, R)\n",
    "    rewards <- sapply(1:vertices_length(graph), function(index) vertex_at(graph, index)$state )\n",
    "\n",
    "    exp_mat <- matrix(nrow=s+1,ncol=s+1)\n",
    "    for (i in 0:s) {\n",
    "      for (j in 0:s) {\n",
    "        exp_mat[i+1,j+1] <- expectation(graph, rewards[props_to_index(s, i, j, 1),] + rewards[props_to_index(s, i, j, 2),])\n",
    "      }\n",
    "    }\n",
    "    return(exp_mat)\n",
    "} "
   ]
  },
  {
   "cell_type": "code",
   "execution_count": null,
   "id": "ace783b2-0512-4dc3-b900-1c6c8c792f62",
   "metadata": {},
   "outputs": [],
   "source": [
    "exp_mat <- two_locus_expectation(s, 1, 1, 1)\n",
    "exp_mat"
   ]
  },
  {
   "cell_type": "code",
   "execution_count": null,
   "id": "1931d29e-6764-488f-96d0-b580a7930fa9",
   "metadata": {},
   "outputs": [],
   "source": [
    "plot_exp_mat(exp_mat) "
   ]
  },
  {
   "cell_type": "code",
   "execution_count": null,
   "id": "17e9dd76-836d-44ab-8c25-f23db152ee6a",
   "metadata": {},
   "outputs": [],
   "source": [
    "df <- as.data.frame(exp_mat) #%>% gather()\n",
    "df <- df %>% rownames_to_column('ton1') %>% gather('ton2', 'value', -c(ton1))\n",
    "\n",
    "ggplot(df, aes(ton1, ton2)) +\n",
    "    geom_tile(aes(fill = value)) + \n",
    "scale_x_discrete(labels= seq(0, nrow(exp_mat))) + \n",
    "scale_y_discrete(labels= seq(0, nrow(exp_mat))) + \n",
    "scale_fill_viridis() +\n",
    "theme_minimal() +\n",
    "theme(aspect=1) + labs(y = \"locus 2\", x = \"locus 1\", fill='expectation') +\n",
    " theme(panel.grid.major = element_blank(), \n",
    "        panel.grid.minor = element_blank(), \n",
    "        text=element_text(size=17))\n",
    "\n",
    "ggsave('~/Desktop/tmp.pdf', width=6, height=6)"
   ]
  },
  {
   "cell_type": "markdown",
   "id": "057dc64d-0633-41c8-8c86-7abf462a01ea",
   "metadata": {},
   "source": [
    "# Covriance between tons at locus one"
   ]
  },
  {
   "cell_type": "code",
   "execution_count": null,
   "id": "981ae047-6af5-48f4-8a31-5736cd9cc60b",
   "metadata": {},
   "outputs": [],
   "source": [
    "broadcast_props_to_index <- function(s, a, b, p) {\n",
    "    return((p-1)*(s + 1)**2 + a*(s + 1) + b + 1)\n",
    "}\n",
    "\n",
    "ton_covariance_within_locus <- function(s, N, M, R) \n",
    "{\n",
    "    graph <- construct_twolocus_island_graph(s, N, N, M, M, R)\n",
    "    rewards <- sapply(1:vertices_length(graph), function(index) vertex_at(graph, index)$state )\n",
    "\n",
    "    locus1_rewards <- function(i) {\n",
    "        colSums(rewards[broadcast_props_to_index(s, i, 1:s, 1),]) + colSums(rewards[broadcast_props_to_index(s, i, 1:s, 2),])\n",
    "    }\n",
    "\n",
    "    fun <- function(a, b) mapply(function(i, j) covariance(graph, locus1_rewards(i), locus1_rewards(j)), a, b)\n",
    "    cov_mat <- outer(1:(s-1), 1:(s-1), fun)\n",
    "    return(cov_mat)\n",
    "}    "
   ]
  },
  {
   "cell_type": "markdown",
   "id": "60371654-0985-4028-8cfb-ee6af788ba2c",
   "metadata": {},
   "source": [
    "No migration and no recombination:"
   ]
  },
  {
   "cell_type": "code",
   "execution_count": null,
   "id": "d90b696c-87a1-4731-b909-ba0772fceab2",
   "metadata": {},
   "outputs": [],
   "source": [
    "cov_mat_no_mig <- ton_covariance_within_locus(s, 1, 0, 0) "
   ]
  },
  {
   "cell_type": "code",
   "execution_count": null,
   "id": "3f1775a8-9b43-43c2-9408-7530651e3f55",
   "metadata": {},
   "outputs": [],
   "source": [
    "plot_cov_mat(cov_mat_no_mig)"
   ]
  },
  {
   "cell_type": "code",
   "execution_count": null,
   "id": "2cc15eca-5e52-4424-9407-f1c28652039c",
   "metadata": {},
   "outputs": [],
   "source": [
    "plot_cov_mat(cov_mat_no_mig) + theme(aspect=1) + labs(y = \"nr descendants\", x = \"nr descendants\", fill='covariance')\n",
    "ggsave('~/Desktop/tmp.pdf', width=4.7, height=4.7)"
   ]
  },
  {
   "cell_type": "markdown",
   "id": "654c2ccb-2061-477f-aaed-88848f21fcdf",
   "metadata": {},
   "source": [
    "# Covriance between tons between loci"
   ]
  },
  {
   "cell_type": "code",
   "execution_count": null,
   "id": "5f7fd985-c153-4f71-b219-2a87e29c3cf0",
   "metadata": {
    "tags": []
   },
   "outputs": [],
   "source": [
    "broadcast_props_to_index <- function(s, a, b, p) {\n",
    "    return((p-1)*(s + 1)**2 + a*(s + 1) + b + 1)\n",
    "}\n",
    "\n",
    "ton_covariance_between_loci <- function(s, N, M, R) \n",
    "{\n",
    "    graph <- construct_twolocus_island_graph(s, N, N, M, M, R)\n",
    "    rewards <- sapply(1:vertices_length(graph), function(index) vertex_at(graph, index)$state )\n",
    "\n",
    "    locus1_rewards <- function(i) {\n",
    "        colSums(rewards[broadcast_props_to_index(s, i, 1:s, 1),]) + colSums(rewards[broadcast_props_to_index(s, i, 1:s, 2),])\n",
    "    }\n",
    "    locus2_rewards <- function(j) {\n",
    "        colSums(rewards[broadcast_props_to_index(s, 1:s, j, 1),]) + colSums(rewards[broadcast_props_to_index(s, 1:s, j, 2),])\n",
    "    }\n",
    "\n",
    "    fun <- function(a, b) mapply(function(i, j) covariance(graph, locus1_rewards(i), locus2_rewards(j)), a, b)\n",
    "    cov_mat <- outer(1:(s-1), 1:(s-1), fun)\n",
    "    return(cov_mat)\n",
    "}    "
   ]
  },
  {
   "cell_type": "markdown",
   "id": "f3cd8c4d-3185-4c48-a6d3-25c037b7cae0",
   "metadata": {},
   "source": [
    "No migration and no recombination:"
   ]
  },
  {
   "cell_type": "code",
   "execution_count": null,
   "id": "7bfc41e5-1762-4cd0-80fc-4840472e4889",
   "metadata": {},
   "outputs": [],
   "source": [
    "cov_mat_no_rec_no_mig <- ton_covariance_between_loci(s, 1, 0, 0) "
   ]
  },
  {
   "cell_type": "code",
   "execution_count": null,
   "id": "ccd1dc92-bb51-4ed0-ab76-dd2e4d3b2dbf",
   "metadata": {},
   "outputs": [],
   "source": [
    "plot_cov_mat(cov_mat_no_rec_no_mig) + theme(aspect=0.95) + labs(y = \"nr descendants\", x = \"nr descendants\", fill='covariance')"
   ]
  },
  {
   "cell_type": "markdown",
   "id": "a84b4bdb-2481-415f-8d46-d6b5715f60b6",
   "metadata": {},
   "source": [
    "With recombination:"
   ]
  },
  {
   "cell_type": "code",
   "execution_count": null,
   "id": "1c0d93df-e51f-4e81-9939-e3480a4e36c2",
   "metadata": {},
   "outputs": [],
   "source": [
    "cov_mat_no_mig <- ton_covariance_between_loci(s, 1, 0, 1)\n",
    "plot_cov_mat(cov_mat_no_mig) + theme(aspect=0.95) + labs(y = \"nr descendants\", x = \"nr descendants\", fill='covariance')\n",
    "ggsave('~/Desktop/tmp.pdf', width=4.7, height=4.7)"
   ]
  },
  {
   "cell_type": "code",
   "execution_count": null,
   "id": "a087953a-0461-4cdd-864e-d42589dbdc42",
   "metadata": {},
   "outputs": [],
   "source": [
    "cov_mat_low_rec <- ton_covariance_between_loci(s, 1, 0, 0.1) \n",
    "plot_cov_mat(cov_mat_low_rec) + theme(aspect=0.95) + labs(y = \"nr descendants\", x = \"nr descendants\", fill='covariance')"
   ]
  },
  {
   "cell_type": "code",
   "execution_count": null,
   "id": "dc825e93-ff3b-4e9c-8ff2-0fc972177f3a",
   "metadata": {},
   "outputs": [],
   "source": [
    "cov_mat_mig <- ton_covariance_between_loci(s, 1, 0.1, 1) \n",
    "plot_cov_mat(cov_mat_mig)  + theme(aspect=0.95) + labs(y = \"nr descendants\", x = \"nr descendants\", fill='covariance')"
   ]
  },
  {
   "cell_type": "markdown",
   "id": "7caddd36-7442-4f51-876c-d48dbb2b1924",
   "metadata": {},
   "source": [
    "# Two locus two islands"
   ]
  },
  {
   "cell_type": "markdown",
   "id": "4570a6a2-b297-48dc-87e8-b1ef5fa8a776",
   "metadata": {},
   "source": [
    "# Covariance of ARG branches in the two populations\n",
    "\n",
    "Covariance of two-locus \"ton\" branch length (e.g. singletons at locus 1 and doubletons at locus 2) spent in each population."
   ]
  },
  {
   "cell_type": "code",
   "execution_count": null,
   "id": "95c75908-a68c-4926-b077-cc4df96328d8",
   "metadata": {},
   "outputs": [],
   "source": [
    "graph <- construct_twolocus_island_graph(s, 1, 1, 1, 1, 1)\n",
    "rewards <- sapply(1:vertices_length(graph), function(index) vertex_at(graph, index)$state )"
   ]
  },
  {
   "cell_type": "code",
   "execution_count": null,
   "id": "ca5ad910-1173-4bd9-a6f3-6a067f8dd3be",
   "metadata": {},
   "outputs": [],
   "source": [
    "fun <- function(a, b) {\n",
    "    mapply(function(i, j) covariance(graph, \n",
    "                                     rewards[props_to_index(s, i, j, 1),], \n",
    "                                     rewards[props_to_index(s, i, j, 2),]), \n",
    "           a, b)\n",
    "}\n",
    "cov_mat <- outer(1:(s-1), 1:(s-1), fun)"
   ]
  },
  {
   "cell_type": "code",
   "execution_count": null,
   "id": "ce5bc48f-0929-4147-8f83-11f0e7fea930",
   "metadata": {},
   "outputs": [],
   "source": [
    "plot_cov_mat(cov_mat) + theme(aspect=0.95) + labs(y = \"nr descendants\", x = \"nr descendants\", fill='covariance')\n",
    "ggsave('~/Desktop/tmp.pdf', width=4.7, height=4.7)"
   ]
  },
  {
   "cell_type": "markdown",
   "id": "44f0a22d-fc05-4f60-9451-351abf27a311",
   "metadata": {},
   "source": [
    "Shows that when there are hte same number of decendants at each locus (mostly becuase of no recombination) then the covariance is highest. Mostly for small tons where there are many lineages to back and forth between popoulations."
   ]
  },
  {
   "cell_type": "code",
   "execution_count": null,
   "id": "0b47cf7f-548c-42eb-b426-fdada83ecca6",
   "metadata": {
    "tags": []
   },
   "outputs": [],
   "source": [
    "# %%R\n",
    "\n",
    "# setClass(\"conf\", slots=list(locus1=\"numeric\", locus2=\"numeric\", population=\"numeric\"))\n",
    "\n",
    "# obj <- new(\"conf\", locus1=3, locus2=2, population=1)\n",
    "# obj@population\n",
    "\n",
    "# r_index_to_props <- function(s, i) {\n",
    "#     #' returns the locus1, locus2, population\n",
    "#     #' conformation of lineages represented by\n",
    "#     #' state vector index i.\n",
    "#     stopifnot(i > 0)\n",
    "#     d <- s + 1 # dim\n",
    "#     idx <- i - 1\n",
    "#     p <- idx %/% d**2\n",
    "#     stopifnot(i <= 2*d**2)\n",
    "#     a <- (idx - p*d**2) %/% d\n",
    "#     b <- (idx - p*d**2) %% d\n",
    "#     return(new(\"conf\", locus1=a, locus2=b, population=p+1))\n",
    "# }\n",
    "# r_props_to_index <- function(s, a, b, p) {\n",
    "#     #' returns the state vector index representing\n",
    "#     #' the locus1, locus2, population conformation.\n",
    "#     d <- s + 1\n",
    "#     i = (p-1)*d**2 + a*d + b + 1\n",
    "#     return(i)\n",
    "# }"
   ]
  },
  {
   "cell_type": "markdown",
   "id": "4e3c639a-ddb4-425b-958e-e9b446b90733",
   "metadata": {},
   "source": [
    "# Fit landscapes"
   ]
  },
  {
   "cell_type": "markdown",
   "id": "2ec94aaa-a1a1-424f-b9df-85bbdb9626b7",
   "metadata": {},
   "source": [
    "## Discrete versions"
   ]
  },
  {
   "cell_type": "code",
   "execution_count": null,
   "id": "1853fb28-72a3-4394-95d4-ceb01baa189f",
   "metadata": {},
   "outputs": [],
   "source": [
    "# disc_two_locus_expectation <- function(s, N, M, R) \n",
    "# {    \n",
    "#     graph <- construct_twolocus_island_graph(s, N, N, M, M, R)\n",
    "\n",
    "#     mutation_graph <- clone_graph(graph)\n",
    "#     rewards <- make_discrete(mutation_graph, mutation_rate)\n",
    "    \n",
    "#     exp_mat <- matrix(nrow=s+1,ncol=s+1)\n",
    "#     for (i in 0:s) {\n",
    "#       for (j in 0:s) {\n",
    "#         exp_mat[i+1,j+1] <- expectation(mutation_graph, rewards[props_to_index(s, i, j, 1),] + rewards[props_to_index(s, i, j, 2),])\n",
    "#       }\n",
    "#     }\n",
    "#     return(exp_mat)\n",
    "# } \n",
    "\n",
    "\n",
    "# self-transition rate:\n",
    "mutation_rate <- 0.0001\n",
    "\n",
    "disc_two_locus_expectation <- function(s, N, M, R) \n",
    "{    \n",
    "    graph <- construct_twolocus_island_graph(s, N, N, M, M, R)\n",
    "\n",
    "    mutation_graph <- clone_graph(graph)\n",
    "    rewards <- make_discrete(mutation_graph, mutation_rate)\n",
    "    \n",
    "    exp_mat <- matrix(nrow=s-1,ncol=s-1)\n",
    "    for (i in 1:(s-1)) {\n",
    "      for (j in 1:(s-1)) {\n",
    "        exp_mat[i,j] <- expectation(mutation_graph, rewards[props_to_index(s, i, j, 1),] + rewards[props_to_index(s, i, j, 2),])\n",
    "      }\n",
    "    }\n",
    "    return(exp_mat)\n",
    "} \n",
    "\n",
    "disc_ton_covariance_within_locus <- function(s, N, M, R) \n",
    "{\n",
    "    graph <- construct_twolocus_island_graph(s, N, N, M, M, R)\n",
    "    \n",
    "    mutation_graph <- clone_graph(graph)\n",
    "    rewards <- make_discrete(mutation_graph, mutation_rate)\n",
    "    \n",
    "    locus1_rewards <- function(i) {\n",
    "        colSums(rewards[broadcast_props_to_index(s, i, 1:s, 1),]) + colSums(rewards[broadcast_props_to_index(s, i, 1:s, 2),])\n",
    "    }\n",
    "\n",
    "    fun <- function(a, b) mapply(function(i, j) covariance(mutation_graph, locus1_rewards(i), locus1_rewards(j)), a, b)\n",
    "    cov_mat <- outer(1:(s-1), 1:(s-1), fun)\n",
    "    return(cov_mat)\n",
    "}  \n",
    "\n",
    "disc_ton_covariance_between_loci <- function(s, N, M, R) \n",
    "{\n",
    "    graph <- construct_twolocus_island_graph(s, N, N, M, M, R)\n",
    "\n",
    "    mutation_graph <- clone_graph(graph)\n",
    "    rewards <- make_discrete(mutation_graph, 1)\n",
    "    \n",
    "    locus1_rewards <- function(i) {\n",
    "        colSums(rewards[broadcast_props_to_index(s, i, 1:s, 1),]) + colSums(rewards[broadcast_props_to_index(s, i, 1:s, 2),])\n",
    "    }\n",
    "    locus2_rewards <- function(j) {\n",
    "        colSums(rewards[broadcast_props_to_index(s, 1:s, j, 1),]) + colSums(rewards[broadcast_props_to_index(s, 1:s, j, 2),])\n",
    "    }\n",
    "\n",
    "    fun <- function(a, b) mapply(function(i, j) covariance(mutation_graph, locus1_rewards(i), locus2_rewards(j)), a, b)\n",
    "    cov_mat <- outer(1:(s-1), 1:(s-1), fun)\n",
    "    return(cov_mat)\n",
    "} "
   ]
  },
  {
   "cell_type": "code",
   "execution_count": null,
   "id": "d6fb4562-f960-4cb1-abb3-1e2a625afb0b",
   "metadata": {},
   "outputs": [],
   "source": [
    "mat <- disc_two_locus_expectation(5, 1, 1, 1)\n",
    "plot_exp_mat(mat) +\n",
    "scale_x_discrete(labels= seq(0, nrow(exp_mat))) + \n",
    "scale_y_discrete(labels= seq(0, nrow(exp_mat))) + \n",
    "scale_fill_viridis() +\n",
    "theme_minimal() +\n",
    "theme(aspect=1) + labs(y = \"locus 2\", x = \"locus 1\", fill='expectation') +\n",
    " theme(panel.grid.major = element_blank(), \n",
    "        panel.grid.minor = element_blank(), \n",
    "        text=element_text(size=17))\n",
    "\n",
    "ggsave('~/Desktop/tmp.pdf', width=6, height=6)"
   ]
  },
  {
   "attachments": {},
   "cell_type": "markdown",
   "id": "ad76e866-3c56-440b-b9f1-605974181e18",
   "metadata": {},
   "source": [
    "mat <- disc_two_locus_expectation(5, 1, 1, 1)\n",
    "df <- as.data.frame(mat) #%>% gather()\n",
    "df <- df %>% rownames_to_column('ton1') %>% gather('ton2', 'value', -c(ton1))\n",
    "ggplot(df, aes(ton1, ton2)) +\n",
    "    geom_tile(aes(fill = value)) + \n",
    "scale_x_discrete(labels= seq(0, nrow(exp_mat))) + \n",
    "scale_y_discrete(labels= seq(0, nrow(exp_mat))) + \n",
    "scale_fill_viridis() +\n",
    "theme_minimal() +\n",
    "theme(aspect=1) + labs(y = \"locus 2\", x = \"locus 1\", fill='expectation') +\n",
    " theme(panel.grid.major = element_blank(), \n",
    "        panel.grid.minor = element_blank(), \n",
    "        text=element_text(size=17))\n",
    "\n",
    "ggsave('~/Desktop/tmp.pdf', width=6, height=6)"
   ]
  },
  {
   "cell_type": "code",
   "execution_count": null,
   "id": "f6d18f90-c3f1-4cae-8db3-6a0c3a291c36",
   "metadata": {},
   "outputs": [],
   "source": [
    "\n",
    "N <- 1\n",
    "for (M in c(0.1, 1, 10)) {\n",
    "    for (R in c(0.1, 1, 10)) {\n",
    "        file_name <- paste('~/Desktop/tmp_M=', M, '_R=', R, '.pdf', sep='')\n",
    "    \n",
    "        mat <- disc_ton_covariance_between_loci(5, N, M, R)\n",
    "        plot_cov_mat(mat) + theme(aspect=0.95) + labs(y = \"locus 2\", x = \"locus 1\", fill='covariance')\n",
    "        ggsave(file_name, width=4.7, height=4.7)\n",
    "    }\n",
    "}"
   ]
  },
  {
   "cell_type": "code",
   "execution_count": null,
   "id": "bdbff530-80a6-4d29-a09d-c2db0352cc8b",
   "metadata": {},
   "outputs": [],
   "source": [
    "N <- 1\n",
    "M <- 0.01\n",
    "\n",
    "for (R in c(0.1, 1, 10)) {\n",
    "    file_name <- paste('~/Desktop/tmp_M=', M, '_R=', R, '.pdf', sep='')\n",
    "\n",
    "    mat <- disc_ton_covariance_between_loci(5, N, M, R)\n",
    "    plot_cov_mat(mat) + theme(aspect=0.95) + labs(y = \"locus 2\", x = \"locus 1\", fill='covariance')\n",
    "    ggsave(file_name, width=4.7, height=4.7)\n",
    "}\n",
    "\n",
    "N <- 1\n",
    "M <- 0.1\n",
    "\n",
    "for (R in c(0.1, 1, 10)) {\n",
    "    file_name <- paste('~/Desktop/tmp_M=', M, '_R=', R, '.pdf', sep='')\n",
    "\n",
    "    mat <- disc_ton_covariance_between_loci(5, N, M, R)\n",
    "    plot_cov_mat(mat) + theme(aspect=0.95) + labs(y = \"locus 2\", x = \"locus 1\", fill='covariance')\n",
    "    ggsave(file_name, width=4.7, height=4.7)\n",
    "}"
   ]
  },
  {
   "cell_type": "code",
   "execution_count": null,
   "id": "93b32bf0-3199-4c70-8702-cb7a5f7fc332",
   "metadata": {},
   "outputs": [],
   "source": [
    "N <- 1\n",
    "R <- 1\n",
    "\n",
    "for (M in c(0.01, 0.1, 1)) {\n",
    "    file_name <- paste('~/Desktop/tmp_M=', M, '_R=', R, '.pdf', sep='')\n",
    "    mat <- disc_ton_covariance_between_loci(5, N, M, R)\n",
    "    plot_cov_mat(mat) + theme(aspect=0.95) + labs(y = \"locus 2\", x = \"locus 1\", fill='covariance')\n",
    "    ggsave(file_name, width=4.7, height=4.7)\n",
    "}"
   ]
  },
  {
   "cell_type": "code",
   "execution_count": null,
   "id": "5e028c22-953d-43cf-9166-40daa23ddc2f",
   "metadata": {},
   "outputs": [],
   "source": [
    "#disc_cov_mat_no_rec_no_mig <- disc_ton_covariance_between_loci(5, 1, 1, 0.5, 0.5, 20) "
   ]
  },
  {
   "cell_type": "markdown",
   "id": "54d7adf8-010b-4187-9bde-e91a37d64e4b",
   "metadata": {},
   "source": [
    "## Single core"
   ]
  },
  {
   "cell_type": "code",
   "execution_count": null,
   "id": "ccc33a9f-15d1-4f96-a8d7-03aceaa743e3",
   "metadata": {
    "scrolled": true,
    "tags": []
   },
   "outputs": [],
   "source": [
    "# s <- 5\n",
    "\n",
    "# expected_cov_mat <- ton_covariance_between_loci(s, 1, 0.5, 2)\n",
    "# # expected_cov_mat <- (expected_cov_mat - mean(expected_cov_mat)) / sd(expected_cov_mat)\n",
    "\n",
    "# expected_exp_mat <- two_locus_expectation(s, 1, 0.5, 2)\n",
    "# # expected_exp_mat <- (expected_exp_mat - mean(expected_exp_mat)) / sd(expected_exp_mat)\n",
    "\n",
    "\n",
    "# fit <- function(N, M) {\n",
    "#     observed_cov_mat <- ton_covariance_between_loci(s, N, M, 2)\n",
    "#     # observed_cov_mat <- (observed_cov_mat - mean(observed_cov_mat)) / sd(observed_cov_mat)\n",
    "    \n",
    "#     observed_exp_mat <- two_locus_expectation(s, N, M, 2)\n",
    "#     # observed_exp_mat <- (observed_exp_mat - mean(observed_exp_mat)) / sd(observed_exp_mat)\n",
    "    \n",
    "#     cov_fit <- abs(sum((observed_cov_mat - expected_cov_mat) / expected_cov_mat, na.rm=TRUE))\n",
    "#     exp_fit <- abs(sum((observed_exp_mat - expected_exp_mat) / expected_exp_mat, na.rm=TRUE))\n",
    "#     return(exp_fit + cov_fit)\n",
    "# }\n",
    "\n",
    "# n <- seq(0.5, 1.5, 0.05)\n",
    "# m <- seq(0.1, 1.1, 0.05)\n",
    "# params <- expand.grid(n, m)\n",
    "# fit_mat <- matrix(mapply(fit, params$Var1, params$Var2), nrow=length(n),ncol=length(m))\n",
    "\n",
    "# rownames(fit_mat) <- n\n",
    "# colnames(fit_mat) <- m\n",
    "\n",
    "# df <- as.data.frame(fit_mat) #%>% gather()\n",
    "# df <- df %>% rownames_to_column('n') %>% gather('m', 'value', -c(n))\n",
    "# df$n <- as.numeric(df$n)\n",
    "# df$m <- as.numeric(df$m)\n",
    "\n",
    "# ggplot(df, aes(n, m)) +\n",
    "#     geom_tile(aes(fill = value)) + \n",
    "#     geom_text(aes(label = round(value, 1))) +\n",
    "#         scale_fill_continuous(type = \"viridis\") + \n",
    "#         theme_minimal() + \n",
    "#         theme(panel.grid.major = element_blank(), \n",
    "#               panel.grid.minor = element_blank(), \n",
    "#               text=element_text(size=17))"
   ]
  },
  {
   "cell_type": "markdown",
   "id": "aec7f01a-0f1a-46cf-b4fe-7bc416e40c11",
   "metadata": {},
   "source": [
    "## Multiprocessing\n",
    "\n",
    "Experiemnts with the fit surface when fitting\n",
    "\n",
    "- The expectation (the standard SFS)\n",
    "- The covariance matrix for pairs of tons at the same locus (This cannot be obtained emprically from data - or can it)\n",
    "- The covariance matrix for pairs of tons at loci offset by some genetic distance."
   ]
  },
  {
   "cell_type": "code",
   "execution_count": null,
   "id": "de0e7a42-7257-48eb-b3f8-3738fbd30fb2",
   "metadata": {},
   "outputs": [],
   "source": [
    "rmsd <- function(a, b)\n",
    "{\n",
    "    stopifnot(dim(a) == dim(b), nrow(a) == ncol(a))\n",
    "    return( sqrt(sum((a - b)^2)/(dim(a)[1]^2)) )\n",
    "}\n",
    "\n",
    "apply_grid <- function(fun, a, b)\n",
    "{\n",
    "    named_params <- expand.grid(a, b)\n",
    "    param_list <- split(named_params, seq(nrow(named_params)))    \n",
    "    result_list <- mclapply(param_list, function(x) do.call(fit, as.list(as.vector(unlist(x)))), mc.cores=4L)\n",
    "    fit_mat <- matrix(unlist(result_list), nrow=length(a),ncol=length(b))\n",
    "    return(fit_mat)\n",
    "}\n",
    "\n",
    "plot_fit_mat <- function(fit_mat, labels=TRUE)\n",
    "{\n",
    "    df <- as.data.frame(fit_mat)\n",
    "    df <- df %>% rownames_to_column('n') %>% gather('m', 'value', -c(n))\n",
    "    df$n <- as.numeric(df$n)\n",
    "    df$m <- as.numeric(df$m)\n",
    "    \n",
    "    p <- ggplot(df, aes(n, m)) +\n",
    "        geom_tile(aes(fill = value)) + \n",
    "            scale_fill_continuous(type = \"viridis\", direction=-1) + \n",
    "            theme_minimal() + \n",
    "            theme(panel.grid.major = element_blank(), \n",
    "                  panel.grid.minor = element_blank(), \n",
    "                  text=element_text(size=17))\n",
    "    if (labels) {\n",
    "        p <- p + geom_text(aes(label = round(value, 1)), size=3) \n",
    "    }\n",
    "    return(p)\n",
    "}"
   ]
  },
  {
   "cell_type": "code",
   "execution_count": null,
   "id": "1643af33-bb5a-49bd-9f86-7f77b36d32bb",
   "metadata": {},
   "outputs": [],
   "source": [
    "s <- 5\n",
    "n <- seq(0.5, 1.5, 0.05)\n",
    "m <- seq(0.1, 1.1, 0.05)\n",
    "# m <- seq(0.01, 0.11, 0.005) "
   ]
  },
  {
   "cell_type": "markdown",
   "id": "6dace462-d7ab-47b9-b57c-ff80d7f34be6",
   "metadata": {},
   "source": [
    "----"
   ]
  },
  {
   "cell_type": "markdown",
   "id": "ea7dbbe6-c005-45b5-9810-eb23b4291536",
   "metadata": {},
   "source": [
    "A discrete version of one of the ones below:"
   ]
  },
  {
   "cell_type": "code",
   "execution_count": null,
   "id": "da226c69-47e3-4e78-b46d-58449e8f78e5",
   "metadata": {},
   "outputs": [],
   "source": [
    "# R <- 20\n",
    "# fit <- function(N, M)\n",
    "# {\n",
    "#     (rmsd(disc_ton_covariance_within_locus(s, N, M, R), within_cov_mat) +\n",
    "#      rmsd(disc_ton_covariance_between_loci(s, N, M, R), between_cov_mat) +\n",
    "#      rmsd(disc_two_locus_expectation(s, N, M, R), exp_mat)\n",
    "#     ) / 3\n",
    "# }\n",
    "# within_cov_mat <- disc_ton_covariance_within_locus(s, 1, 0.5, R)\n",
    "# between_cov_mat <- disc_ton_covariance_between_loci(s, 1, 0.5, R)\n",
    "# exp_mat <- disc_two_locus_expectation(s, 1, 0.5, R)\n",
    "# fit_mat <- apply_grid(fit, n, m)\n",
    "# rownames(fit_mat) <- n\n",
    "# colnames(fit_mat) <- m"
   ]
  },
  {
   "cell_type": "code",
   "execution_count": null,
   "id": "29b936e3-41f7-4e9e-9f99-2df5129cf5da",
   "metadata": {},
   "outputs": [],
   "source": [
    "# df <- as.data.frame(-log(fit_mat), 10)\n",
    "# df <- df %>% rownames_to_column('n') %>% gather('m', 'value', -c(n))\n",
    "# df$n <- as.numeric(df$n)\n",
    "# df$m <- as.numeric(df$m)\n",
    "# ggplot(df, aes(n, m)) +\n",
    "#     geom_tile(aes(fill = value)) + \n",
    "#     geom_text(aes(label = round(value, 1)), size=3) +\n",
    "#         scale_fill_continuous(type = \"viridis\", limits = c(1,30), direction=-1) + \n",
    "#         theme_minimal() + \n",
    "#         theme(panel.grid.major = element_blank(), \n",
    "#               panel.grid.minor = element_blank(), \n",
    "#               text=element_text(size=17))"
   ]
  },
  {
   "cell_type": "code",
   "execution_count": null,
   "id": "02c59f03-0af1-41b9-b20b-aa8a1f8acc24",
   "metadata": {},
   "outputs": [],
   "source": []
  },
  {
   "cell_type": "code",
   "execution_count": null,
   "id": "35cdb4fc-c17b-4a13-a8b1-f220d386d472",
   "metadata": {},
   "outputs": [],
   "source": [
    "# R <- 2\n",
    "# fit <- function(N, M)\n",
    "# {\n",
    "#     abs(sum((disc_ton_covariance_between_loci(s, N, M, R) - between_cov_mat) / between_cov_mat, na.rm=TRUE)) +   \n",
    "#     abs(sum((disc_two_locus_expectation(s, N, M, R) - exp_mat) / exp_mat, na.rm=TRUE))\n",
    "# }\n",
    "# between_cov_mat <- disc_ton_covariance_between_loci(s, 1, 0.5, R)\n",
    "# exp_mat <- disc_two_locus_expectation(s, 1, 0.5, R)\n",
    "# fit_mat <- apply_grid(fit, n, m)\n",
    "# rownames(fit_mat) <- n\n",
    "# colnames(fit_mat) <- m\n",
    "# plot_fit_mat(fit_mat)"
   ]
  },
  {
   "cell_type": "code",
   "execution_count": null,
   "id": "62bd89ed-6a59-41a7-b975-aa8f1d216464",
   "metadata": {},
   "outputs": [],
   "source": [
    "# graph <- construct_twolocus_island_graph(2, 1, 1, 1, 1, 1)\n",
    "# plot_sim(graph)"
   ]
  },
  {
   "cell_type": "markdown",
   "id": "39d27773-6774-4684-a7dd-ba3ecacd9d98",
   "metadata": {},
   "source": [
    "---"
   ]
  },
  {
   "cell_type": "code",
   "execution_count": null,
   "id": "8f061a23-2d46-4452-a68e-131f139f113b",
   "metadata": {},
   "outputs": [],
   "source": [
    "s <- 5\n",
    "\n",
    "# true_N <- 1\n",
    "# true_M <- 0.5\n",
    "# n <- seq(0.5, 1.5, 0.05)\n",
    "# m <- seq(0.1, 1.1, 0.05)\n",
    "\n",
    "true_N <- 1\n",
    "true_M <- 0.05\n",
    "n <- seq(0.5, 1.5, 0.05)\n",
    "m <- seq(0.01, 0.101, 0.005)"
   ]
  },
  {
   "cell_type": "code",
   "execution_count": null,
   "id": "68819e63-e147-48ea-bbab-f5b06966df06",
   "metadata": {},
   "outputs": [],
   "source": [
    "R <- 1\n",
    "fit <- function(N, M) {\n",
    "    exp_fit <- rmsd(two_locus_expectation(s, N, M, R), expected_exp_mat)\n",
    "    return(exp_fit)\n",
    "}\n",
    "expected_exp_mat <- two_locus_expectation(s, true_N, true_M, R)\n",
    "fit_mat <- apply_grid(fit, n, m)\n",
    "rownames(fit_mat) <- n\n",
    "colnames(fit_mat) <- m\n",
    "\n",
    "plot_fit_mat(fit_mat, labels=FALSE) + geom_point(data = data.frame(n=c(true_N), m=(true_M)), color='red') + labs(y='N', x='N', fill=\"RMSD\") + theme(aspect=1)\n",
    "ggsave('~/Desktop/expectation_fit.pdf', width=6, height=6)"
   ]
  },
  {
   "cell_type": "code",
   "execution_count": null,
   "id": "eb105384-50d7-42c0-9271-6468098a10ed",
   "metadata": {},
   "outputs": [],
   "source": [
    "R <- 1\n",
    "fit <- function(N, M) {\n",
    "    within_cov_fit <- rmsd(ton_covariance_within_locus(s, N, M, R), expected_within_cov_mat)\n",
    "    return(within_cov_fit)\n",
    "}\n",
    "expected_within_cov_mat <- ton_covariance_within_locus(s, true_N, true_M, R)\n",
    "fit_mat <- apply_grid(fit, n, m)\n",
    "rownames(fit_mat) <- n\n",
    "colnames(fit_mat) <- m\n",
    "plot_fit_mat(fit_mat, labels=FALSE) + geom_point(data = data.frame(n=c(true_N), m=(true_M)), color='red') + labs(y='N', x='N', fill=\"RMSD\") + theme(aspect=1)\n",
    "ggsave('~/Desktop/within-locus_fit.pdf', width=6, height=6)"
   ]
  },
  {
   "cell_type": "code",
   "execution_count": null,
   "id": "7fbd37cd-06e7-4a80-9457-32c21f7c4139",
   "metadata": {},
   "outputs": [],
   "source": [
    "R <- 1\n",
    "fit <- function(N, M) {\n",
    "    between_cov_fit <- rmsd(ton_covariance_between_loci(s, N, M, R), expected_between_cov_mat)\n",
    "    return(between_cov_fit)\n",
    "}\n",
    "expected_between_cov_mat <- ton_covariance_between_loci(s, true_N, true_M, R)\n",
    "fit_mat <- apply_grid(fit, n, m)\n",
    "rownames(fit_mat) <- n\n",
    "colnames(fit_mat) <- m\n",
    "plot_fit_mat(fit_mat, labels=FALSE) + geom_point(data = data.frame(n=c(true_N), m=(true_M)), color='red') + labs(y='N', x='N', fill=\"RMSD\") + theme(aspect=1)\n",
    "ggsave('~/Desktop/between-locus_fit.pdf', width=6, height=6)"
   ]
  },
  {
   "cell_type": "code",
   "execution_count": null,
   "id": "db7d410d-9741-4f0c-8a94-4e4999619034",
   "metadata": {},
   "outputs": [],
   "source": [
    "R <- 1\n",
    "fit <- function(N, M) {\n",
    "    between_cov_fit <- rmsd(ton_covariance_between_loci(s, N, M, R), expected_between_cov_mat)\n",
    "    exp_fit <- rmsd(two_locus_expectation(s, N, M, R), expected_exp_mat)\n",
    "    return(exp_fit + between_cov_fit)\n",
    "}\n",
    "expected_between_cov_mat <- ton_covariance_between_loci(s, true_N, true_M, R)\n",
    "expected_exp_mat <- two_locus_expectation(s, true_N, true_M, R)\n",
    "fit_mat <- apply_grid(fit, n, m)\n",
    "rownames(fit_mat) <- n\n",
    "colnames(fit_mat) <- m\n",
    "plot_fit_mat(fit_mat, labels=FALSE) + geom_point(data = data.frame(n=c(true_N), m=(true_M)), color='red') + labs(y='N', x='N', fill=\"RMSD\") + theme(aspect=1)\n",
    "ggsave('~/Desktop/expectation-between-loci_cov_fit.pdf', width=6, height=6)"
   ]
  },
  {
   "cell_type": "markdown",
   "id": "0e0e5817-6b79-44fc-a1a0-ec81dcb07cde",
   "metadata": {},
   "source": [
    "### expectation"
   ]
  },
  {
   "cell_type": "code",
   "execution_count": null,
   "id": "f7ae944b-c21d-445a-aed3-0723fd71d7bb",
   "metadata": {},
   "outputs": [],
   "source": [
    "R <- 1\n",
    "fit <- function(N, M) {\n",
    "    exp_fit <- rmsd(two_locus_expectation(s, N, M, R), expected_exp_mat)\n",
    "    return(exp_fit)\n",
    "}\n",
    "expected_exp_mat <- two_locus_expectation(s, true_N, true_M, R)\n",
    "fit_mat <- apply_grid(fit, n, m)\n",
    "rownames(fit_mat) <- n\n",
    "colnames(fit_mat) <- m\n",
    "\n",
    "plot_fit_mat(fit_mat, labels=FALSE) + geom_point(data = data.frame(n=c(true_N), m=(true_M)), color='red') + labs(y='N', x='N', fill=\"RMSD\") + theme(aspect=1)\n",
    "ggsave('~/Desktop/expectation_fit.pdf', width=6, height=6)"
   ]
  },
  {
   "cell_type": "code",
   "execution_count": null,
   "id": "d409bf10-2314-4326-9d9d-66e2e1ae5ab1",
   "metadata": {},
   "outputs": [],
   "source": [
    "R <- 2\n",
    "fit <- function(N, M) {\n",
    "    exp_fit <- abs(sum((two_locus_expectation(s, N, M, R) - expected_exp_mat) / expected_exp_mat, na.rm=TRUE))\n",
    "    return(exp_fit)\n",
    "}\n",
    "expected_exp_mat <- two_locus_expectation(s, true_N, true_M, R)\n",
    "fit_mat <- apply_grid(fit, n, m)\n",
    "rownames(fit_mat) <- n\n",
    "colnames(fit_mat) <- m\n",
    "plot_fit_mat(fit_mat)"
   ]
  },
  {
   "cell_type": "markdown",
   "id": "4a12175a-cfdd-46b4-89d0-17c93ccd6243",
   "metadata": {},
   "source": [
    "### within-locus covariance"
   ]
  },
  {
   "cell_type": "code",
   "execution_count": null,
   "id": "0288940b-5249-4b85-87fc-5d218bdd5835",
   "metadata": {},
   "outputs": [],
   "source": [
    "R <- 1\n",
    "fit <- function(N, M) {\n",
    "    within_cov_fit <- rmsd(ton_covariance_within_locus(s, N, M, R), expected_within_cov_mat)\n",
    "    return(within_cov_fit)\n",
    "}\n",
    "expected_within_cov_mat <- ton_covariance_within_locus(s, true_N, true_M, R)\n",
    "fit_mat <- apply_grid(fit, n, m)\n",
    "rownames(fit_mat) <- n\n",
    "colnames(fit_mat) <- m\n",
    "plot_fit_mat(fit_mat, labels=FALSE) + geom_point(data = data.frame(n=c(true_N), m=(true_M)), color='red') + labs(y='N', x='N', fill=\"RMSD\") + theme(aspect=1)\n",
    "ggsave('~/Desktop/within-locus_fit.pdf', width=6, height=6)"
   ]
  },
  {
   "cell_type": "markdown",
   "id": "0d743464-7ae6-42fd-8c06-223e040053e9",
   "metadata": {},
   "source": [
    "### cross-locus covariance"
   ]
  },
  {
   "cell_type": "code",
   "execution_count": null,
   "id": "b67e0d71-f6ed-49c4-9617-b65b91a4231c",
   "metadata": {},
   "outputs": [],
   "source": [
    "R <- 0.1\n",
    "fit <- function(N, M) {\n",
    "    between_cov_fit <- rmsd(ton_covariance_between_loci(s, N, M, R), expected_between_cov_mat)\n",
    "    return(between_cov_fit)\n",
    "}\n",
    "expected_between_cov_mat <- ton_covariance_between_loci(s, true_N, true_M, R)\n",
    "fit_mat <- apply_grid(fit, n, m)\n",
    "rownames(fit_mat) <- n\n",
    "colnames(fit_mat) <- m\n",
    "plot_fit_mat(fit_mat)"
   ]
  },
  {
   "cell_type": "code",
   "execution_count": null,
   "id": "52e85eef-a44b-4737-9fd0-95b0fed4d7b2",
   "metadata": {},
   "outputs": [],
   "source": [
    "R <- 0.5\n",
    "fit <- function(N, M) {\n",
    "    between_cov_fit <- rmsd(ton_covariance_between_loci(s, N, M, R), expected_between_cov_mat)\n",
    "    return(between_cov_fit)\n",
    "}\n",
    "expected_between_cov_mat <- ton_covariance_between_loci(s, true_N, true_M, R)\n",
    "fit_mat <- apply_grid(fit, n, m)\n",
    "rownames(fit_mat) <- n\n",
    "colnames(fit_mat) <- m\n",
    "plot_fit_mat(fit_mat)"
   ]
  },
  {
   "cell_type": "code",
   "execution_count": null,
   "id": "639a88e8-e503-4dd2-bc75-105d28104285",
   "metadata": {},
   "outputs": [],
   "source": [
    "R <- 1\n",
    "fit <- function(N, M) {\n",
    "    between_cov_fit <- rmsd(ton_covariance_between_loci(s, N, M, R), expected_between_cov_mat)\n",
    "    return(between_cov_fit)\n",
    "}\n",
    "expected_between_cov_mat <- ton_covariance_between_loci(s, true_N, true_M, R)\n",
    "fit_mat <- apply_grid(fit, n, m)\n",
    "rownames(fit_mat) <- n\n",
    "colnames(fit_mat) <- m\n",
    "plot_fit_mat(fit_mat, labels=FALSE) + geom_point(data = data.frame(n=c(true_N), m=(true_M)), color='red') + labs(y='N', x='N', fill=\"RMSD\") + theme(aspect=1)\n",
    "ggsave('~/Desktop/between-locus_fit.pdf', width=6, height=6)"
   ]
  },
  {
   "cell_type": "code",
   "execution_count": null,
   "id": "1ec79529-5351-48a3-8a09-ecd003888611",
   "metadata": {},
   "outputs": [],
   "source": [
    "fit <- function(N, M) {\n",
    "    between_cov_fit1 <- rmsd(ton_covariance_between_loci(s, N, M, 0.1), expected_between_cov_mat1)\n",
    "    between_cov_fit2 <- rmsd(ton_covariance_between_loci(s, N, M, 1), expected_between_cov_mat2)\n",
    "    return(between_cov_fit1 + between_cov_fit2)\n",
    "}\n",
    "expected_between_cov_mat1 <- ton_covariance_between_loci(s, true_N, true_M, 0.1)\n",
    "expected_between_cov_mat1 <- ton_covariance_between_loci(s, true_N, true_M, 1)\n",
    "fit_mat <- apply_grid(fit, n, m)\n",
    "rownames(fit_mat) <- n\n",
    "colnames(fit_mat) <- m\n",
    "plot_fit_mat(fit_mat)"
   ]
  },
  {
   "cell_type": "code",
   "execution_count": null,
   "id": "915ecac4-c5aa-438d-bc7c-5072143fd6ea",
   "metadata": {},
   "outputs": [],
   "source": [
    "# fit1 <- function(N, M) {\n",
    "#     between_cov_fit <- rmsd(ton_covariance_between_loci(s, N, M, 0.1), expected_between_cov_mat1)\n",
    "#     return(between_cov_fit)\n",
    "# }\n",
    "# expected_between_cov_mat1 <- ton_covariance_between_loci(s, true_N, true_M, 0.1)\n",
    "# fit_mat1 <- apply_grid(fit1, n, m)\n",
    "# rownames(fit_mat1) <- n\n",
    "# colnames(fit_mat1) <- m\n",
    "\n",
    "# fit2 <- function(N, M) {\n",
    "#     between_cov_fit <- rmsd(ton_covariance_between_loci(s, N, M, 1), expected_between_cov_mat)\n",
    "#     return(between_cov_fit)\n",
    "# }\n",
    "# expected_between_cov_mat2 <- ton_covariance_between_loci(s, true_N, true_M, 1)\n",
    "# fit_mat2 <- apply_grid(fit2, n, m)\n",
    "# rownames(fit_mat2) <- n\n",
    "# colnames(fit_mat2) <- m\n",
    "# fit_mat <- fit_mat1 + fit_mat2\n",
    "# plot_fit_mat(fit_mat)"
   ]
  },
  {
   "cell_type": "code",
   "execution_count": null,
   "id": "e3f15035-4e89-455a-8888-2752f836e15b",
   "metadata": {},
   "outputs": [],
   "source": [
    "R <- 1\n",
    "fit <- function(N, M) {\n",
    "    between_cov_fit <- rmsd(ton_covariance_between_loci(s, N, M, R), expected_between_cov_mat)\n",
    "    return(between_cov_fit)\n",
    "}\n",
    "expected_between_cov_mat <- ton_covariance_between_loci(s, true_N, true_M, R)\n",
    "fit_mat <- apply_grid(fit, n, m)\n",
    "rownames(fit_mat) <- n\n",
    "colnames(fit_mat) <- m\n",
    "plot_fit_mat(fit_mat, labels=FALSE) + geom_point(data = data.frame(n=c(true_N), m=(true_M)), color='red') + labs(y='N', x='N', fill=\"RMSD\") + theme(aspect=1)\n",
    "ggsave('~/Desktop/between-cov_fit.pdf', width=6, height=6)"
   ]
  },
  {
   "cell_type": "code",
   "execution_count": null,
   "id": "95c7ce05-acc3-4e61-aa9b-19323b3e95b0",
   "metadata": {},
   "outputs": [],
   "source": [
    "R <- 10\n",
    "fit <- function(N, M) {\n",
    "    between_cov_fit <- rmsd(ton_covariance_between_loci(s, N, M, R), expected_between_cov_mat)\n",
    "    return(between_cov_fit)\n",
    "}\n",
    "expected_between_cov_mat <- ton_covariance_between_loci(s, true_N, true_M, R)\n",
    "fit_mat <- apply_grid(fit, n, m)\n",
    "rownames(fit_mat) <- n\n",
    "colnames(fit_mat) <- m\n",
    "plot_fit_mat(fit_mat, labels=FALSE) + geom_point(data = data.frame(n=c(true_N), m=(true_M)), color='red') + labs(fill=\"RMSD\")"
   ]
  },
  {
   "cell_type": "markdown",
   "id": "63ede670-9fad-4df8-9a33-23979e4c6caa",
   "metadata": {},
   "source": [
    "### expectation, cross-locus covariance"
   ]
  },
  {
   "cell_type": "code",
   "execution_count": null,
   "id": "56624c1a-5087-4983-8eb4-082f40170033",
   "metadata": {},
   "outputs": [],
   "source": [
    "R <- 0.1\n",
    "fit <- function(N, M) {\n",
    "    between_cov_fit <- rsmd(ton_covariance_between_loci(s, N, M, R), expected_between_cov_mat)\n",
    "    exp_fit <- rsmd(two_locus_expectation(s, N, M, R), expected_exp_mat)\n",
    "    return(exp_fit + between_cov_fit)\n",
    "}\n",
    "expected_between_cov_mat <- ton_covariance_between_loci(s, true_N, true_M, R)\n",
    "expected_exp_mat <- two_locus_expectation(s, true_N, true_M, R)\n",
    "fit_mat <- apply_grid(fit, n, m)\n",
    "rownames(fit_mat) <- n\n",
    "colnames(fit_mat) <- m\n",
    "plot_fit_mat(fit_mat)"
   ]
  },
  {
   "cell_type": "code",
   "execution_count": null,
   "id": "3ca6bdc3-a86a-42fa-9c40-4e194066f4fe",
   "metadata": {},
   "outputs": [],
   "source": [
    "R <- 1\n",
    "fit <- function(N, M) {\n",
    "    between_cov_fit <- rmsd(ton_covariance_between_loci(s, N, M, R), expected_between_cov_mat)\n",
    "    exp_fit <- rmsd(two_locus_expectation(s, N, M, R), expected_exp_mat) / expected_exp_mat, na.rm=TRUE))\n",
    "    return(exp_fit + between_cov_fit)\n",
    "}\n",
    "expected_between_cov_mat <- ton_covariance_between_loci(s, true_N, true_M, R)\n",
    "expected_exp_mat <- two_locus_expectation(s, true_N, true_M, R)\n",
    "fit_mat <- apply_grid(fit, n, m)\n",
    "rownames(fit_mat) <- n\n",
    "colnames(fit_mat) <- m\n",
    "plot_fit_mat(fit_mat, labels=FALSE) + geom_point(data = data.frame(n=c(true_N), m=(true_M)), color='red') + labs(y='N', x='N', fill=\"RMSD\") + theme(aspect=1)\n",
    "ggsave('~/Desktop/expectation-between-loci_cov_fit.pdf', width=6, height=6)"
   ]
  },
  {
   "cell_type": "code",
   "execution_count": null,
   "id": "68679d0c-53b0-4557-a04a-3be4592dabd0",
   "metadata": {},
   "outputs": [],
   "source": [
    "R <- 10\n",
    "fit <- function(N, M) {\n",
    "    between_cov_fit <- rmsd(ton_covariance_between_loci(s, N, M, R), expected_between_cov_mat)\n",
    "    exp_fit <- rmsd(two_locus_expectation(s, N, M, R), expected_exp_mat)\n",
    "    return(exp_fit + between_cov_fit)\n",
    "}\n",
    "expected_between_cov_mat <- ton_covariance_between_loci(s, true_N, true_M, R)\n",
    "expected_exp_mat <- two_locus_expectation(s, true_N, true_M, R)\n",
    "fit_mat <- apply_grid(fit, n, m)\n",
    "rownames(fit_mat) <- n\n",
    "colnames(fit_mat) <- m\n",
    "plot_fit_mat(fit_mat)"
   ]
  },
  {
   "cell_type": "code",
   "execution_count": null,
   "id": "184721c4-6f72-48d0-8d2d-588848d2d2bb",
   "metadata": {},
   "outputs": [],
   "source": []
  },
  {
   "cell_type": "markdown",
   "id": "441d1719-1131-4d87-9c97-b0aea7b43346",
   "metadata": {},
   "source": [
    "### Standard optim"
   ]
  },
  {
   "cell_type": "code",
   "execution_count": null,
   "id": "fa2ea263-1f19-4901-9c68-06db66f808f6",
   "metadata": {
    "scrolled": true,
    "tags": []
   },
   "outputs": [],
   "source": [
    "# %%R\n",
    "# library(stats)\n",
    "\n",
    "# s <- 4\n",
    "# # fake empirical observation\n",
    "# expected_cov_mat <- disc_ton_covariance_between_loci(s, 1, 1, 0.5, 0.5, 1)\n",
    "# expected_exp_mat <- disc_two_locus_expectation(s, 1, 1, 0.5, 0.5, 1)\n",
    "\n",
    "# fit <- function(x) {\n",
    "#     N1 <- x[1]\n",
    "#     M1 <- x[2]\n",
    "#     N2 <- N1\n",
    "#     M2 <- M1\n",
    "#     # N1 <- x[1]\n",
    "#     # N2 <- x[2]\n",
    "#     # M1 <- x[3]\n",
    "#     # M2 <- x[4]\n",
    "#     observed_cov_mat <- disc_ton_covariance_between_loci(s, N1, N2, M1, M2, 0.5)\n",
    "#     observed_exp_mat <- disc_two_locus_expectation(s, N1, N2, M1, M2, 0.5)\n",
    "#     cov_fit <- abs(sum((observed_cov_mat - expected_cov_mat) / expected_cov_mat, na.rm=TRUE))\n",
    "#     exp_fit <- abs(sum((observed_exp_mat - expected_exp_mat) / expected_exp_mat, na.rm=TRUE))\n",
    "#     return(exp_fit + cov_fit)\n",
    "# }\n",
    "\n",
    "# outoptim <- optim(c(2, 0.01), fit)\n",
    "# #outoptim <- optim(c(2, 2, 0.01, 0.01), fit)"
   ]
  },
  {
   "cell_type": "code",
   "execution_count": null,
   "id": "3f8ca4a2-9be2-430e-acdb-c9beb64cae33",
   "metadata": {},
   "outputs": [],
   "source": [
    "# %%R\n",
    "# outoptim"
   ]
  },
  {
   "cell_type": "markdown",
   "id": "b58feaac-f94c-4e2e-9112-a7a9d8fc42e0",
   "metadata": {
    "tags": []
   },
   "source": [
    "### Differential evolution"
   ]
  },
  {
   "cell_type": "code",
   "execution_count": null,
   "id": "036b52ca-f5da-43e9-be2c-be24fb4efc29",
   "metadata": {},
   "outputs": [],
   "source": [
    "# not available for m1 with conda\n",
    "install.packages(\"DEoptim\")"
   ]
  },
  {
   "cell_type": "code",
   "execution_count": null,
   "id": "3d36814d-8442-42df-9a0a-a766f0421c35",
   "metadata": {
    "scrolled": true,
    "tags": []
   },
   "outputs": [],
   "source": [
    "library(parallel)\n",
    "library(foreach)\n",
    "library(DEoptim)\n",
    "\n",
    "# s <- 5\n",
    "# # fake empirical observation\n",
    "# expected_cov_mat <- disc_ton_covariance_between_loci(s, 1, 0.5, 20)\n",
    "# expected_exp_mat <- disc_two_locus_expectation(s, 1, 0.5, 20)\n",
    "\n",
    "# fit <- function(x) {\n",
    "#     N1 <- x[1]\n",
    "#     M1 <- x[2]\n",
    "#     N2 <- N1\n",
    "#     M2 <- M1\n",
    "#     observed_cov_mat <- disc_ton_covariance_between_loci(s, N1, N2, M1, M2, 1)\n",
    "#     observed_exp_mat <- disc_two_locus_expectation(s, N1, N2, M1, M2, 1)\n",
    "#     cov_fit <- abs(sum((observed_cov_mat - expected_cov_mat) / expected_cov_mat, na.rm=TRUE))\n",
    "#     exp_fit <- abs(sum((observed_exp_mat - expected_exp_mat) / expected_exp_mat, na.rm=TRUE))\n",
    "#     return(exp_fit + cov_fit)\n",
    "# }\n",
    "\n",
    "fit_wrap <- function(x) {\n",
    "    N <- x[1]\n",
    "    M <- x[2]\n",
    "    return(fit(N, M))\n",
    "}\n",
    "\n",
    "controls = DEoptim.control(#itermax = 400,\n",
    "                           #NP=20, \n",
    "                            strategy=1,\n",
    "                          storepopfrom = 1, \n",
    "                          storepopfreq = 1, \n",
    "                        parallelType=2)\n",
    "outDEoptim <- DEoptim(fit_wrap, c(0.5, 0.1), c(1.5, 1.1), controls)\n",
    "#outDEoptim <- DEoptim(fit_wrap, c(0.5, 0), c(5, 1), controls)\n",
    "#outDEoptim <- DEoptim(fit_wrap, c(0.5, 0.5, 0.1, 0.1), c(1.5, 1.5, 1.1, 1.1), controls)\n",
    "\n"
   ]
  },
  {
   "cell_type": "code",
   "execution_count": null,
   "id": "e10b289f-983e-4553-9ecf-12d6567dc823",
   "metadata": {},
   "outputs": [],
   "source": [
    "summary(outDEoptim)"
   ]
  },
  {
   "cell_type": "code",
   "execution_count": null,
   "id": "72313310-ab92-4229-9501-fc6dad0dc036",
   "metadata": {},
   "outputs": [],
   "source": [
    "plot(outDEoptim, plot.type=\"bestmemit\")"
   ]
  },
  {
   "cell_type": "markdown",
   "id": "457b89cd-f68d-4a20-aea9-409ec056a4b1",
   "metadata": {},
   "source": [
    "## Covariance betwen pop1/pop2 descendang configurations at each locus"
   ]
  },
  {
   "cell_type": "code",
   "execution_count": null,
   "id": "28fb2558-3e86-469d-9a53-a804c225fc37",
   "metadata": {},
   "outputs": [],
   "source": [
    "p1 <- 0:(s-1)\n",
    "p2 <- 0:(s-1)\n",
    "l1 <- expand.grid(p1=p1, p2=p2)\n",
    "l2 <- expand.grid(p1=p1, p2=p2)"
   ]
  },
  {
   "cell_type": "code",
   "execution_count": null,
   "id": "d1581e43-1c5a-4c0c-9a3e-ed5d3c76b691",
   "metadata": {},
   "outputs": [],
   "source": [
    "df <- do.call(cbind.data.frame,Map(expand.grid,l1=l1,l2=l2))\n",
    "df <- df[order(df$p1.l1, df$p2.l1, df$p1.l2, df$p2.l2),]"
   ]
  },
  {
   "cell_type": "code",
   "execution_count": null,
   "id": "d5193eac-f4cb-4f04-88f1-8b1b196ba0e7",
   "metadata": {},
   "outputs": [],
   "source": [
    "fun <- function(row) {\n",
    "    covariance(graph, \n",
    "                                     rewards[props_to_index(s, row[1], row[2], 1),], \n",
    "                                     rewards[props_to_index(s, row[3], row[4], 2),])\n",
    "}"
   ]
  },
  {
   "cell_type": "code",
   "execution_count": null,
   "id": "8116a04f-4248-4319-bbd7-54a7fd954359",
   "metadata": {},
   "outputs": [],
   "source": [
    "m <- matrix(apply(df, 1, fun), c(s**2, s**2))\n",
    "colnames(m) <- apply(l1, 1, paste, collapse=\",\")\n",
    "rownames(m) <- apply(l2, 1, paste, collapse=\",\")\n",
    "m"
   ]
  },
  {
   "cell_type": "code",
   "execution_count": null,
   "id": "0d0f9a08-2c2f-4a3f-a4ac-edbf0042a41c",
   "metadata": {},
   "outputs": [],
   "source": [
    "plot_cov_mat <- function(cov_mat) {\n",
    "   \n",
    "    df <- as.data.frame(cov_mat)\n",
    "    df <- df %>% rownames_to_column('ton1') %>% gather('ton2', 'value', -c(ton1))\n",
    "    \n",
    "    ggplot(df, aes(ton1, ton2)) +\n",
    "        geom_tile(aes(fill = value)) + \n",
    "#        scale_y_discrete(labels= seq(1, nrow(cov_mat))) + \n",
    "        scale_fill_continuous(type = \"viridis\") + \n",
    "        theme_minimal() + \n",
    "        theme(panel.grid.major = element_blank(), panel.grid.minor = element_blank(), text=element_text(size=17)) \n",
    "\n",
    "}\n",
    "plot_cov_mat(m)"
   ]
  },
  {
   "cell_type": "markdown",
   "id": "5608df96-5946-452c-bb2d-825b19e49b54",
   "metadata": {},
   "source": [
    "## Time-inhomgeneous coalescent"
   ]
  },
  {
   "cell_type": "markdown",
   "id": "bc789a6a-198f-4228-8379-149627368b3c",
   "metadata": {},
   "source": [
    "# TODO: \n",
    "\n",
    "Implement something like `cdf_timeinhom` from `coalescent-R.ipynb`"
   ]
  },
  {
   "cell_type": "markdown",
   "id": "3fce705a-3c1e-4530-8a84-31700f062e3f",
   "metadata": {},
   "source": [
    "# Turn it it an IM model"
   ]
  },
  {
   "cell_type": "code",
   "execution_count": null,
   "id": "5d5aeeb8-06ad-403d-b4b5-d7df9f764b15",
   "metadata": {},
   "outputs": [],
   "source": [
    "# library(ggplot2)\n",
    "library(viridis)\n",
    "library(grid)\n",
    "library(gridExtra)\n",
    "library(parallel)\n",
    "library(\"IRdisplay\")\n",
    "library(tidyverse)\n",
    "library(devtools)\n",
    "library(ptdalgorithms)\n",
    "theme_set(theme_bw())\n",
    "despine <- theme(panel.border = element_blank(), panel.grid.major = element_blank(),\n",
    "    panel.grid.minor = element_blank(), axis.line = element_line(colour = \"black\"),\n",
    "                text=element_text(size=17)) \n",
    "options(repr.plot.width=10, repr.plot.height=7)\n",
    "\n",
    "source(\"plot_functions.r\")\n",
    "Rcpp::sourceCpp(\"./cpp/two_locus_two_island.cpp\")\n",
    "Rcpp::sourceCpp(\"./cpp/add_epoque.cpp\")"
   ]
  },
  {
   "cell_type": "code",
   "execution_count": null,
   "id": "014e1d59-ec8b-4850-800d-0694809055ab",
   "metadata": {},
   "outputs": [],
   "source": [
    "broadcast_props_to_index <- function(s, a, b, p) {\n",
    "    return((p-1)*(s + 1)**2 + a*(s + 1) + b + 1)\n",
    "}\n",
    "\n",
    "two_locus_expectation <- function(s, N, M, R) \n",
    "{\n",
    "    graph <- construct_twolocus_island_graph(s, N, N, M, M, R)\n",
    "    rewards <- sapply(1:vertices_length(graph), function(index) vertex_at(graph, index)$state )\n",
    "\n",
    "    exp_mat <- matrix(nrow=s+1,ncol=s+1)\n",
    "    for (i in 0:s) {\n",
    "      for (j in 0:s) {\n",
    "        exp_mat[i+1,j+1] <- expectation(graph, rewards[props_to_index(s, i, j, 1),] + rewards[props_to_index(s, i, j, 2),])\n",
    "      }\n",
    "    }\n",
    "    return(exp_mat)\n",
    "} \n",
    "                      \n",
    "make_discrete <- function(mutation_graph, mutation_rate) {\n",
    "    # Takes a graph for a continuous distribution and turns\n",
    "    # it into a descrete one (inplace). Returns a matrix of\n",
    "    # rewards for computing marginal moments\n",
    "\n",
    "    # current nr of states in graph\n",
    "    vlength <- vertices_length(mutation_graph)\n",
    "\n",
    "    # number of fields in state vector (assumes all are the same length)\n",
    "    state_vector_length <- length(vertex_at(mutation_graph, 1)$state)\n",
    "\n",
    "    # list state vector fields to reward at each auxiliary node\n",
    "    rewarded_state_vector_indexes <- vector(mode = \"list\", length = state_vector_length)\n",
    "\n",
    "    # loop all but starting node\n",
    "    for (i in 2:vlength) {\n",
    "        vertex <- vertex_at(mutation_graph,i)\n",
    "        if (vertex$rate > 0) { # not absorbing\n",
    "            for (j in 1:length(vertex$state)) {\n",
    "                val <- vertex$state[j]\n",
    "                if (val > 0) { # only ones we may reward\n",
    "                    # add auxilliary node\n",
    "                    mutation_vertex <- create_vertex(mutation_graph, rep(0, state_vector_length))\n",
    "                    add_edge(mutation_vertex, vertex, 1)\n",
    "                    add_edge(vertex, mutation_vertex, mutation_rate*val)\n",
    "\n",
    "                    rewarded_state_vector_indexes[[mutation_vertex$index]] <- c(rewarded_state_vector_indexes[[j]], j)\n",
    "                }\n",
    "            }\n",
    "        }\n",
    "    }\n",
    "    # normalize graph\n",
    "    weights_were_multiplied_with <- normalize_graph(mutation_graph)\n",
    "\n",
    "    # build reward matrix\n",
    "    rewards <- matrix(nrow=vertices_length(mutation_graph),ncol=state_vector_length, 0)\n",
    "    for (state in seq_along(rewarded_state_vector_indexes)) {\n",
    "        for (i in rewarded_state_vector_indexes[[state]]) {\n",
    "            rewards[state, i] <- 1\n",
    "        }\n",
    "    }\n",
    "    rewards = t(rewards)\n",
    "    return(rewards)\n",
    "}\n",
    "\n",
    "# # self-transition rate:\n",
    "# mutation_rate <- 0.0001\n",
    "\n",
    "# # clone graph to get one to modify:\n",
    "# mutation_graph <- clone_graph(graph)\n",
    "\n",
    "# # add auxilliary states, normalize and return reward matrix:\n",
    "# rewards <- make_discrete(mutation_graph, mutation_rate)\n",
    "\n",
    "# # for plotting the new graph\n",
    "# gam <- graph_as_matrix(mutation_graph)\n",
    "\n",
    "# vertices_length(mutation_graph)"
   ]
  },
  {
   "cell_type": "code",
   "execution_count": null,
   "id": "f2d7a948-521d-4823-8773-261f54a0660e",
   "metadata": {},
   "outputs": [],
   "source": [
    "add_epoques_to_graph <- function(graph, epoque_params, times) {\n",
    "  for (i in seq_len(nrow(epoque_params))) {\n",
    "    add_epoque(graph, epoque_params[i,], times[i])\n",
    "  }\n",
    "    \n",
    "  gam <- graph_as_matrix(graph)\n",
    "  graph <- matrix_as_graph(gam$IPV, gam$SIM, gam$states)\n",
    "    \n",
    "  return(graph)\n",
    "}"
   ]
  },
  {
   "cell_type": "code",
   "execution_count": null,
   "id": "69c3f63f-b4c0-4505-80f1-caa214395ce3",
   "metadata": {},
   "outputs": [],
   "source": [
    "Sys.getenv('R_MAX_VSIZE')"
   ]
  },
  {
   "cell_type": "code",
   "execution_count": null,
   "id": "eaf8fc78-7a89-486c-923f-34bb49ac265e",
   "metadata": {},
   "outputs": [],
   "source": [
    "#Sys.setenv('R_MAX_VSIZE'=8000000000) "
   ]
  },
  {
   "cell_type": "code",
   "execution_count": null,
   "id": "18f32162-6d6e-46d6-92bc-8dfa872aef18",
   "metadata": {},
   "outputs": [],
   "source": [
    "inv_N1 <- 1/c(1)\n",
    "inv_N2 <- 1/c(1)\n",
    "M1 <- c(0)\n",
    "M2 <- c(10000)\n",
    "R <- c(1)\n",
    "epoque_params <- cbind(inv_N1, inv_N2, M1, M2, R)\n",
    "times <- c(4)\n",
    "\n",
    "s <- 5\n",
    "graph <- construct_twolocus_island_graph(s, 1, 1, 1, 1, 0.5, epoques=TRUE)\n",
    "graph <- add_epoques_to_graph(graph, epoque_params, times)\n",
    "rewards <- sapply(1:vertices_length(graph), function(index) head(vertex_at(graph, index)$state, -1))  # need the head to clip off the epoque slot...\n",
    "\n",
    "mutation_graph <- clone_graph(graph)\n",
    "print(vertices_length(mutation_graph))\n",
    "rewards <- make_discrete(mutation_graph, 1)\n",
    "\n",
    "locus1_rewards <- function(i) {\n",
    "    colSums(rewards[broadcast_props_to_index(s, i, 1:s, 1),]) + colSums(rewards[broadcast_props_to_index(s, i, 1:s, 2),])\n",
    "}\n",
    "locus2_rewards <- function(j) {\n",
    "    colSums(rewards[broadcast_props_to_index(s, 1:s, j, 1),]) + colSums(rewards[broadcast_props_to_index(s, 1:s, j, 2),])\n",
    "}\n",
    "\n",
    "fun <- function(a, b) mapply(function(i, j) covariance(mutation_graph, locus1_rewards(i), locus2_rewards(j)), a, b)\n",
    "cov_mat <- outer(1:(s-1), 1:(s-1), fun)\n",
    "\n",
    "plot_cov_mat(cov_mat) + theme(aspect=0.95) + labs(y = '\"tons\" locus 2', x = '\"tons\" locus 1', fill='covariance')"
   ]
  },
  {
   "cell_type": "code",
   "execution_count": null,
   "id": "ae8bcf41-4606-43ae-bfd6-318c19598a75",
   "metadata": {},
   "outputs": [],
   "source": [
    "inv_N1 <- 1/c(1)\n",
    "inv_N2 <- 1/c(1)\n",
    "M1 <- c(0)\n",
    "M2 <- c(10000)\n",
    "R <- c(1)\n",
    "epoque_params <- cbind(inv_N1, inv_N2, M1, M2, R)\n",
    "times <- c(4)\n",
    "\n",
    "s <- 6\n",
    "graph <- construct_twolocus_island_graph(s, 1, 1, 1, 1, 0.5, epoques=TRUE)\n",
    "graph <- add_epoques_to_graph(graph, epoque_params, times)\n",
    "rewards <- sapply(1:vertices_length(graph), function(index) head(vertex_at(graph, index)$state, -1))  # need the head to clip off the epoque slot...\n",
    "\n",
    "mutation_graph <- clone_graph(graph)\n",
    "print(vertices_length(mutation_graph))\n",
    "rewards <- make_discrete(mutation_graph, 1)\n",
    "\n",
    "locus1_rewards <- function(i) {\n",
    "    colSums(rewards[broadcast_props_to_index(s, i, 1:s, 1),]) + colSums(rewards[broadcast_props_to_index(s, i, 1:s, 2),])\n",
    "}\n",
    "locus2_rewards <- function(j) {\n",
    "    colSums(rewards[broadcast_props_to_index(s, 1:s, j, 1),]) + colSums(rewards[broadcast_props_to_index(s, 1:s, j, 2),])\n",
    "}\n",
    "\n",
    "fun <- function(a, b) mapply(function(i, j) covariance(mutation_graph, locus1_rewards(i), locus2_rewards(j)), a, b)\n",
    "cov_mat <- outer(1:(s-1), 1:(s-1), fun)\n",
    "\n",
    "plot_cov_mat(cov_mat) + theme(aspect=0.95) + labs(y = '\"tons\" locus 2', x = '\"tons\" locus 1', fill='covariance')"
   ]
  },
  {
   "cell_type": "code",
   "execution_count": null,
   "id": "0454596a-8a95-4b1b-94e3-4a0bc1dc0ad0",
   "metadata": {},
   "outputs": [],
   "source": [
    "inv_N1 <- 1/c(1)\n",
    "inv_N2 <- 1/c(1)\n",
    "M1 <- c(0)\n",
    "M2 <- c(10000)\n",
    "R <- c(1)\n",
    "epoque_params <- cbind(inv_N1, inv_N2, M1, M2, R)\n",
    "times <- c(4)\n",
    "\n",
    "s <- 7\n",
    "graph <- construct_twolocus_island_graph(s, 1, 1, 1, 1, 0.5, epoques=TRUE)\n",
    "graph <- add_epoques_to_graph(graph, epoque_params, times)\n",
    "rewards <- sapply(1:vertices_length(graph), function(index) head(vertex_at(graph, index)$state, -1))  # need the head to clip off the epoque slot...\n",
    "\n",
    "mutation_graph <- clone_graph(graph)\n",
    "print(vertices_length(mutation_graph))\n",
    "rewards <- make_discrete(mutation_graph, 1)\n",
    "\n",
    "locus1_rewards <- function(i) {\n",
    "    colSums(rewards[broadcast_props_to_index(s, i, 1:s, 1),]) + colSums(rewards[broadcast_props_to_index(s, i, 1:s, 2),])\n",
    "}\n",
    "locus2_rewards <- function(j) {\n",
    "    colSums(rewards[broadcast_props_to_index(s, 1:s, j, 1),]) + colSums(rewards[broadcast_props_to_index(s, 1:s, j, 2),])\n",
    "}\n",
    "\n",
    "fun <- function(a, b) mapply(function(i, j) covariance(mutation_graph, locus1_rewards(i), locus2_rewards(j)), a, b)\n",
    "cov_mat <- outer(1:(s-1), 1:(s-1), fun)\n",
    "\n",
    "plot_cov_mat(cov_mat) + theme(aspect=0.95) + labs(y = '\"tons\" locus 2', x = '\"tons\" locus 1', fill='covariance')"
   ]
  },
  {
   "cell_type": "code",
   "execution_count": 9,
   "id": "dd52c38b-5169-4ca9-b0ae-5e052e0ce491",
   "metadata": {},
   "outputs": [],
   "source": [
    "\n",
    "# self-transition rate:\n",
    "mutation_rate <- 5e-10 * 20000 * 30\n",
    "\n",
    "disc_two_locus_expectation <- function(s, N, M, R, T) \n",
    "{    \n",
    "    graph <- construct_twolocus_island_graph(s, N, N, M, M, R, epoques=TRUE)\n",
    "    inv_N1 <- 1/c(N)\n",
    "    inv_N2 <- 1/c(N)\n",
    "    M1 <- c(0)\n",
    "    M2 <- c(10000)\n",
    "    R <- c(R)\n",
    "    epoque_params <- cbind(inv_N1, inv_N2, M1, M2, R)\n",
    "    times <- c(T)\n",
    "    graph <- add_epoques_to_graph(graph, epoque_params, times)\n",
    "\n",
    "    mutation_graph <- clone_graph(graph)\n",
    "    rewards <- make_discrete(mutation_graph, mutation_rate)\n",
    "    \n",
    "    exp_mat <- matrix(nrow=s-1,ncol=s-1)\n",
    "    for (i in 1:(s-1)) {\n",
    "      for (j in 1:(s-1)) {\n",
    "        exp_mat[i,j] <- expectation(mutation_graph, rewards[props_to_index(s, i, j, 1),] + rewards[props_to_index(s, i, j, 2),])\n",
    "      }\n",
    "    }\n",
    "    return(exp_mat)\n",
    "} \n",
    "\n",
    "disc_ton_covariance_within_locus <- function(s, N, M, R, T) \n",
    "{\n",
    "    graph <- construct_twolocus_island_graph(s, N, N, M, M, R, epoques=TRUE)\n",
    "    inv_N1 <- 1/c(N)\n",
    "    inv_N2 <- 1/c(N)\n",
    "    M1 <- c(0)\n",
    "    M2 <- c(10000)\n",
    "    R <- c(R)\n",
    "    epoque_params <- cbind(inv_N1, inv_N2, M1, M2, R)\n",
    "    times <- c(T)\n",
    "    graph <- add_epoques_to_graph(graph, epoque_params, times)\n",
    "    \n",
    "    mutation_graph <- clone_graph(graph)\n",
    "    rewards <- make_discrete(mutation_graph, mutation_rate)\n",
    "    \n",
    "    locus1_rewards <- function(i) {\n",
    "        colSums(rewards[broadcast_props_to_index(s, i, 1:s, 1),]) + colSums(rewards[broadcast_props_to_index(s, i, 1:s, 2),])\n",
    "    }\n",
    "\n",
    "    fun <- function(a, b) mapply(function(i, j) covariance(mutation_graph, locus1_rewards(i), locus1_rewards(j)), a, b)\n",
    "    cov_mat <- outer(1:(s-1), 1:(s-1), fun)\n",
    "    return(cov_mat)\n",
    "}  \n",
    "\n",
    "disc_ton_covariance_between_loci <- function(s, N, M, R, T) \n",
    "{\n",
    "    graph <- construct_twolocus_island_graph(s, N, N, M, M, R, epoques=TRUE)\n",
    "    inv_N1 <- 1/c(N)\n",
    "    inv_N2 <- 1/c(N)\n",
    "    M1 <- c(0)\n",
    "    M2 <- c(10000)\n",
    "    R <- c(R)\n",
    "    epoque_params <- cbind(inv_N1, inv_N2, M1, M2, R)\n",
    "    times <- c(T)\n",
    "    graph <- add_epoques_to_graph(graph, epoque_params, times)\n",
    "    \n",
    "    mutation_graph <- clone_graph(graph)\n",
    "    rewards <- make_discrete(mutation_graph, 1)\n",
    "    \n",
    "    locus1_rewards <- function(i) {\n",
    "        colSums(rewards[broadcast_props_to_index(s, i, 1:s, 1),]) + colSums(rewards[broadcast_props_to_index(s, i, 1:s, 2),])\n",
    "    }\n",
    "    locus2_rewards <- function(j) {\n",
    "        colSums(rewards[broadcast_props_to_index(s, 1:s, j, 1),]) + colSums(rewards[broadcast_props_to_index(s, 1:s, j, 2),])\n",
    "    }\n",
    "\n",
    "    fun <- function(a, b) mapply(function(i, j) covariance(mutation_graph, locus1_rewards(i), locus2_rewards(j)), a, b)\n",
    "    cov_mat <- outer(1:(s-1), 1:(s-1), fun)\n",
    "    return(cov_mat)\n",
    "} "
   ]
  },
  {
   "cell_type": "code",
   "execution_count": 10,
   "id": "6dcbba22-db40-4be1-ada2-b69080b459b7",
   "metadata": {},
   "outputs": [
    {
     "ename": "ERROR",
     "evalue": "Error in make_discrete(mutation_graph, mutation_rate): could not find function \"make_discrete\"\n",
     "output_type": "error",
     "traceback": [
      "Error in make_discrete(mutation_graph, mutation_rate): could not find function \"make_discrete\"\nTraceback:\n",
      "1. disc_two_locus_expectation(5, 1, 1, 0.5, 4)"
     ]
    }
   ],
   "source": [
    "mat <- disc_two_locus_expectation(5, 1, 1, 0.5, 4)\n",
    "plot_exp_mat(mat) +\n",
    "scale_x_discrete(labels= seq(0, nrow(exp_mat))) + \n",
    "scale_y_discrete(labels= seq(0, nrow(exp_mat))) + \n",
    "scale_fill_viridis() +\n",
    "theme_minimal() +\n",
    "theme(aspect=1) + labs(y = \"locus 2\", x = \"locus 1\", fill='expectation') +\n",
    " theme(panel.grid.major = element_blank(), \n",
    "        panel.grid.minor = element_blank(), \n",
    "        text=element_text(size=17))\n",
    "\n",
    "ggsave('~/Desktop/tmp.pdf', width=6, height=6)"
   ]
  },
  {
   "cell_type": "markdown",
   "id": "0b043ab1-c7bc-44b6-af43-91ce6667f7e3",
   "metadata": {},
   "source": [
    "----"
   ]
  }
 ],
 "metadata": {
  "kernelspec": {
   "display_name": "R",
   "language": "R",
   "name": "ir"
  },
  "language_info": {
   "codemirror_mode": "r",
   "file_extension": ".r",
   "mimetype": "text/x-r-source",
   "name": "R",
   "pygments_lexer": "r",
   "version": "4.3.1"
  }
 },
 "nbformat": 4,
 "nbformat_minor": 5
}
