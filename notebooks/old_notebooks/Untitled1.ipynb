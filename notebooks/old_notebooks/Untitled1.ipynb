{
 "cells": [
  {
   "cell_type": "code",
   "execution_count": 4,
   "id": "75c72945-107b-401a-8e9d-666f9991a96f",
   "metadata": {},
   "outputs": [
    {
     "ename": "ERROR",
     "evalue": "Error in parse(text = x, srcfile = src): <text>:2:1: unexpected input\n1: # proxies for internet access on the cluster\n2: %env http_proxy=http://proxy-default:3128\n   ^\n",
     "output_type": "error",
     "traceback": [
      "Error in parse(text = x, srcfile = src): <text>:2:1: unexpected input\n1: # proxies for internet access on the cluster\n2: %env http_proxy=http://proxy-default:3128\n   ^\nTraceback:\n"
     ]
    }
   ],
   "source": [
    "# proxies for internet access on the cluster\n",
    "%env http_proxy=http://proxy-default:3128\n",
    "%env https_proxy=http://proxy-default:3128"
   ]
  },
  {
   "cell_type": "code",
   "execution_count": 1,
   "id": "683637cb-b742-4464-8c9b-6185c7665f70",
   "metadata": {},
   "outputs": [
    {
     "name": "stderr",
     "output_type": "stream",
     "text": [
      "Indlæser krævet pakke: usethis\n",
      "\n"
     ]
    },
    {
     "ename": "ERROR",
     "evalue": "Error: Failed to install 'unknown package' from GitHub:\n  Failed to connect to api.github.com port 443 after 1039 ms: Opkobling nægtet\n",
     "output_type": "error",
     "traceback": [
      "Error: Failed to install 'unknown package' from GitHub:\n  Failed to connect to api.github.com port 443 after 1039 ms: Opkobling nægtet\nTraceback:\n",
      "1. devtools::install_github(\"TobiasRoikjer/PtDAlgorithms\")",
      "2. pkgbuild::with_build_tools({\n .     ellipsis::check_dots_used(action = getOption(\"devtools.ellipsis_action\", \n .         rlang::warn))\n .     {\n .         remotes <- lapply(repo, github_remote, ref = ref, subdir = subdir, \n .             auth_token = auth_token, host = host)\n .         install_remotes(remotes, auth_token = auth_token, host = host, \n .             dependencies = dependencies, upgrade = upgrade, force = force, \n .             quiet = quiet, build = build, build_opts = build_opts, \n .             build_manual = build_manual, build_vignettes = build_vignettes, \n .             repos = repos, type = type, ...)\n .     }\n . }, required = FALSE)",
      "3. install_remotes(remotes, auth_token = auth_token, host = host, \n .     dependencies = dependencies, upgrade = upgrade, force = force, \n .     quiet = quiet, build = build, build_opts = build_opts, build_manual = build_manual, \n .     build_vignettes = build_vignettes, repos = repos, type = type, \n .     ...)",
      "4. tryCatch(res[[i]] <- install_remote(remotes[[i]], ...), error = function(e) {\n .     stop(remote_install_error(remotes[[i]], e))\n . })",
      "5. tryCatchList(expr, classes, parentenv, handlers)",
      "6. tryCatchOne(expr, names, parentenv, handlers[[1L]])",
      "7. value[[3L]](cond)"
     ]
    }
   ],
   "source": [
    "#library(tidyverse)\n",
    "library(devtools)\n",
    "#remove.packages(\"ptdalgorithms\")\n",
    "devtools::install_github(\"TobiasRoikjer/PtDAlgorithms\")\n",
    "library(ptdalgorithms)"
   ]
  },
  {
   "cell_type": "code",
   "execution_count": null,
   "id": "cab5ab5c-0d41-41c1-9d18-e8cbafa90fe4",
   "metadata": {},
   "outputs": [],
   "source": []
  },
  {
   "cell_type": "code",
   "execution_count": 2,
   "id": "2e045496-f402-4129-b214-1bd23c859296",
   "metadata": {},
   "outputs": [],
   "source": [
    "Rcpp::sourceCpp(\"./coalescent.cpp\")"
   ]
  },
  {
   "cell_type": "code",
   "execution_count": null,
   "id": "03574a14-db53-4477-9081-f10afb876c71",
   "metadata": {},
   "outputs": [],
   "source": []
  }
 ],
 "metadata": {
  "kernelspec": {
   "display_name": "R",
   "language": "R",
   "name": "ir"
  },
  "language_info": {
   "codemirror_mode": "r",
   "file_extension": ".r",
   "mimetype": "text/x-r-source",
   "name": "R",
   "pygments_lexer": "r",
   "version": "4.1.3"
  }
 },
 "nbformat": 4,
 "nbformat_minor": 5
}
