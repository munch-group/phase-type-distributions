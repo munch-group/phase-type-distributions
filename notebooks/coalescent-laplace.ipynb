{
 "cells": [
  {
   "cell_type": "code",
   "execution_count": 26,
   "id": "fa42f45e-8795-417c-8239-6c0260139441",
   "metadata": {},
   "outputs": [],
   "source": [
    "library(ggplot2)\n",
    "library(viridis)\n",
    "library(grid)\n",
    "library(gridExtra)\n",
    "library(tidyverse)\n",
    "library(devtools)\n",
    "library(\"IRdisplay\")\n",
    "theme_set(theme_bw())\n",
    "despine <- theme(panel.border = element_blank(), panel.grid.major = element_blank(),\n",
    "panel.grid.minor = element_blank(), axis.line = element_line(colour = \"black\"),\n",
    "                text=element_text(family=\"Arial\", size=17))\n",
    "options(repr.plot.width=10, repr.plot.height=7)\n",
    "source(\"plot_functions.R\")"
   ]
  },
  {
   "cell_type": "code",
   "execution_count": 27,
   "id": "66ad404a-c8a0-4035-a67d-642b888f15fb",
   "metadata": {},
   "outputs": [],
   "source": [
    "#load_all(\"../../PtDAlgorithms\")"
   ]
  },
  {
   "cell_type": "code",
   "execution_count": 28,
   "id": "b01db628-b7c1-4525-9281-2279300ad5c6",
   "metadata": {
    "tags": []
   },
   "outputs": [],
   "source": [
    "# #remove.packages(\"ptdalgorithms\")\n",
    "# devtools::install_github(\"munch-group/PtDAlgorithms\")\n",
    "library(ptdalgorithms)"
   ]
  },
  {
   "cell_type": "markdown",
   "id": "14f96e4f-5a1d-4486-9593-b34893c94844",
   "metadata": {},
   "source": [
    "# R code for the coalescent state space"
   ]
  },
  {
   "cell_type": "code",
   "execution_count": 29,
   "id": "a3bbb3fb-4a7a-4ccf-b111-e328db7af34c",
   "metadata": {},
   "outputs": [
    {
     "data": {
      "text/html": [
       "<dl>\n",
       "\t<dt>$states</dt>\n",
       "\t\t<dd><table class=\"dataframe\">\n",
       "<caption>A matrix: 4 × 5 of type dbl</caption>\n",
       "<tbody>\n",
       "\t<tr><td>4</td><td>0</td><td>0</td><td>0</td><td>0</td></tr>\n",
       "\t<tr><td>2</td><td>1</td><td>0</td><td>0</td><td>0</td></tr>\n",
       "\t<tr><td>0</td><td>2</td><td>0</td><td>0</td><td>0</td></tr>\n",
       "\t<tr><td>1</td><td>0</td><td>1</td><td>0</td><td>0</td></tr>\n",
       "</tbody>\n",
       "</table>\n",
       "</dd>\n",
       "\t<dt>$SIM</dt>\n",
       "\t\t<dd><table class=\"dataframe\">\n",
       "<caption>A matrix: 4 × 4 of type dbl</caption>\n",
       "<tbody>\n",
       "\t<tr><td>0</td><td>0</td><td>0</td><td>0</td></tr>\n",
       "\t<tr><td>0</td><td>0</td><td>0</td><td>0</td></tr>\n",
       "\t<tr><td>0</td><td>0</td><td>0</td><td>0</td></tr>\n",
       "\t<tr><td>0</td><td>0</td><td>0</td><td>0</td></tr>\n",
       "</tbody>\n",
       "</table>\n",
       "</dd>\n",
       "\t<dt>$IPV</dt>\n",
       "\t\t<dd><style>\n",
       ".list-inline {list-style: none; margin:0; padding: 0}\n",
       ".list-inline>li {display: inline-block}\n",
       ".list-inline>li:not(:last-child)::after {content: \"\\00b7\"; padding: 0 .5ex}\n",
       "</style>\n",
       "<ol class=list-inline><li>1</li><li>0</li><li>0</li><li>0</li></ol>\n",
       "</dd>\n",
       "\t<dt>$indices</dt>\n",
       "\t\t<dd><style>\n",
       ".list-inline {list-style: none; margin:0; padding: 0}\n",
       ".list-inline>li {display: inline-block}\n",
       ".list-inline>li:not(:last-child)::after {content: \"\\00b7\"; padding: 0 .5ex}\n",
       "</style>\n",
       "<ol class=list-inline><li>2</li><li>3</li><li>4</li><li>5</li></ol>\n",
       "</dd>\n",
       "</dl>\n"
      ],
      "text/latex": [
       "\\begin{description}\n",
       "\\item[\\$states] A matrix: 4 × 5 of type dbl\n",
       "\\begin{tabular}{lllll}\n",
       "\t 4 & 0 & 0 & 0 & 0\\\\\n",
       "\t 2 & 1 & 0 & 0 & 0\\\\\n",
       "\t 0 & 2 & 0 & 0 & 0\\\\\n",
       "\t 1 & 0 & 1 & 0 & 0\\\\\n",
       "\\end{tabular}\n",
       "\n",
       "\\item[\\$SIM] A matrix: 4 × 4 of type dbl\n",
       "\\begin{tabular}{llll}\n",
       "\t 0 & 0 & 0 & 0\\\\\n",
       "\t 0 & 0 & 0 & 0\\\\\n",
       "\t 0 & 0 & 0 & 0\\\\\n",
       "\t 0 & 0 & 0 & 0\\\\\n",
       "\\end{tabular}\n",
       "\n",
       "\\item[\\$IPV] \\begin{enumerate*}\n",
       "\\item 1\n",
       "\\item 0\n",
       "\\item 0\n",
       "\\item 0\n",
       "\\end{enumerate*}\n",
       "\n",
       "\\item[\\$indices] \\begin{enumerate*}\n",
       "\\item 2\n",
       "\\item 3\n",
       "\\item 4\n",
       "\\item 5\n",
       "\\end{enumerate*}\n",
       "\n",
       "\\end{description}\n"
      ],
      "text/markdown": [
       "$states\n",
       ":   \n",
       "A matrix: 4 × 5 of type dbl\n",
       "\n",
       "| 4 | 0 | 0 | 0 | 0 |\n",
       "| 2 | 1 | 0 | 0 | 0 |\n",
       "| 0 | 2 | 0 | 0 | 0 |\n",
       "| 1 | 0 | 1 | 0 | 0 |\n",
       "\n",
       "\n",
       "$SIM\n",
       ":   \n",
       "A matrix: 4 × 4 of type dbl\n",
       "\n",
       "| 0 | 0 | 0 | 0 |\n",
       "| 0 | 0 | 0 | 0 |\n",
       "| 0 | 0 | 0 | 0 |\n",
       "| 0 | 0 | 0 | 0 |\n",
       "\n",
       "\n",
       "$IPV\n",
       ":   1. 1\n",
       "2. 0\n",
       "3. 0\n",
       "4. 0\n",
       "\n",
       "\n",
       "\n",
       "$indices\n",
       ":   1. 2\n",
       "2. 3\n",
       "3. 4\n",
       "4. 5\n",
       "\n",
       "\n",
       "\n",
       "\n",
       "\n"
      ],
      "text/plain": [
       "$states\n",
       "     [,1] [,2] [,3] [,4] [,5]\n",
       "[1,]    4    0    0    0    0\n",
       "[2,]    2    1    0    0    0\n",
       "[3,]    0    2    0    0    0\n",
       "[4,]    1    0    1    0    0\n",
       "\n",
       "$SIM\n",
       "     [,1] [,2] [,3] [,4]\n",
       "[1,]    0    0    0    0\n",
       "[2,]    0    0    0    0\n",
       "[3,]    0    0    0    0\n",
       "[4,]    0    0    0    0\n",
       "\n",
       "$IPV\n",
       "[1] 1 0 0 0\n",
       "\n",
       "$indices\n",
       "[1] 2 3 4 5\n"
      ]
     },
     "metadata": {},
     "output_type": "display_data"
    }
   ],
   "source": [
    "standard_coalescent <- function(n) {\n",
    "          \n",
    "    state_vector_length <- n + 1\n",
    "    graph <- create_graph(state_vector_length)\n",
    "    starting_vertex <- vertex_at(graph, 1)\n",
    "    initial_state <- c(rep(0, n), 0)\n",
    "    initial_state[1] <- n\n",
    "    \n",
    "    add_edge(\n",
    "      starting_vertex,\n",
    "      create_vertex(graph, initial_state),\n",
    "      1\n",
    "    )\n",
    "    index <- 2\n",
    "    \n",
    "    while (index <= vertices_length(graph)) {\n",
    "      vertex <- vertex_at(graph, index)\n",
    "      \n",
    "      # loop over all classes of lineages\n",
    "      for (i in 1:n) {\n",
    "        for (j in i:n) {\n",
    "          state <- vertex$state\n",
    "          \n",
    "          # if same class, there need to be at least two to coalesce\n",
    "          if (i == j) {\n",
    "            if (state[i] < 2) {\n",
    "              next;\n",
    "            }\n",
    "            # coal rate\n",
    "            rate <- state[i] * (state[i] - 1) / 2\n",
    "          } else {\n",
    "            # else at least one in each class to coalesce\n",
    "            if (state[i] < 1 || state[j] < 1) {\n",
    "              next;\n",
    "            }\n",
    "            # number of combinations\n",
    "            rate <- state[i] * state[j]\n",
    "          }\n",
    "          \n",
    "          # copy state\n",
    "          child_state <- state\n",
    "          # update child state\n",
    "          child_state[i] <- child_state[i] - 1\n",
    "          child_state[j] <- child_state[j] - 1\n",
    "          child_state[i+j] <- child_state[i+j] + 1\n",
    "\n",
    "          add_edge(\n",
    "              vertex,\n",
    "              find_or_create_vertex(graph, child_state),\n",
    "              rate, c(rate)\n",
    "            )\n",
    "        }\n",
    "      }\n",
    "          \n",
    "      index <- index + 1\n",
    "    }\n",
    "    return(graph)\n",
    "}\n",
    "graph <- standard_coalescent(4)\n",
    "graph_update_weights_parameterized(graph, c(0, 0, 0, 0, 0))\n",
    "graph_as_matrix(graph)"
   ]
  },
  {
   "cell_type": "markdown",
   "id": "f219b1e9-bcd0-4eed-97d5-fbdd8dbd676f",
   "metadata": {},
   "source": [
    "# Laplace tranform\n",
    "\n",
    "In the matrix formulation, the Laplace transform for a continuous phase-type distribtion is defined as:\n",
    "\n",
    "$ E[e^{-\\theta \\tau}] = \\mathbf{\\alpha} (\\theta\\, \\mathbf{I} − \\mathbf{S})^{−1}\\mathbf{s}$ \n",
    "\n",
    "where $\\mathbf{s}$ is a vector of ones for states with non-zero rates to absorbing states and zeros otherwise. The $\\theta$ is time-homogeneous, so it can only represent a global mutation rate if there are only two seuqences. So, here we pretend it is a recombination rate in an ARG and that we are interested in the probability that two loci separated by recombination distance $\\theta$ are represented by the same tree in our sample. "
   ]
  },
  {
   "cell_type": "code",
   "execution_count": 30,
   "id": "d85465c2-07aa-4758-9239-69291d91e905",
   "metadata": {},
   "outputs": [],
   "source": [
    "theta <- 0.345"
   ]
  },
  {
   "cell_type": "markdown",
   "id": "f42de784-4ddd-45b1-8fde-c7e1e5d4ecaa",
   "metadata": {},
   "source": [
    "## Casper's code"
   ]
  },
  {
   "cell_type": "markdown",
   "id": "be24b517-753e-4652-914a-031f73d17fc4",
   "metadata": {},
   "source": [
    "Specification in matrix terms:"
   ]
  },
  {
   "cell_type": "code",
   "execution_count": 31,
   "id": "67e2aa4c-71cb-41e8-a4ab-361b274942a5",
   "metadata": {},
   "outputs": [],
   "source": [
    "S <- rbind(c(-6, 6, 0, 0), \n",
    "           c(0, -3, 1, 2), \n",
    "           c(0, 0, -1, 0), \n",
    "           c(0, 0, 0, -1))\n",
    "alpha <- c(1, 0, 0, 0)  # starting state\n",
    "n <- length(alpha)"
   ]
  },
  {
   "cell_type": "markdown",
   "id": "caa4864d-f1ab-4b7a-a6fb-19e9fb4e81b9",
   "metadata": {},
   "source": [
    "Matrix computation of Laplace transform and expected waiting times:"
   ]
  },
  {
   "cell_type": "code",
   "execution_count": 32,
   "id": "c746f937-adfd-4cfa-96d2-d902815e5e01",
   "metadata": {},
   "outputs": [
    {
     "data": {
      "text/html": [
       "<style>\n",
       ".list-inline {list-style: none; margin:0; padding: 0}\n",
       ".list-inline>li {display: inline-block}\n",
       ".list-inline>li:not(:last-child)::after {content: \"\\00b7\"; padding: 0 .5ex}\n",
       "</style>\n",
       "<ol class=list-inline><li>0.630554271786468</li><li>0.66681114241419</li><li>0.743494423791822</li><li>0.743494423791822</li></ol>\n"
      ],
      "text/latex": [
       "\\begin{enumerate*}\n",
       "\\item 0.630554271786468\n",
       "\\item 0.66681114241419\n",
       "\\item 0.743494423791822\n",
       "\\item 0.743494423791822\n",
       "\\end{enumerate*}\n"
      ],
      "text/markdown": [
       "1. 0.630554271786468\n",
       "2. 0.66681114241419\n",
       "3. 0.743494423791822\n",
       "4. 0.743494423791822\n",
       "\n",
       "\n"
      ],
      "text/plain": [
       "[1] 0.6305543 0.6668111 0.7434944 0.7434944"
      ]
     },
     "metadata": {},
     "output_type": "display_data"
    }
   ],
   "source": [
    "s0 <- - S %*% rep(1, n)\n",
    "c(solve(theta * diag(n) - S, s0))"
   ]
  },
  {
   "cell_type": "markdown",
   "id": "334af8c0-6b07-4756-8495-2bc4220873f5",
   "metadata": {},
   "source": [
    "Laplace transform by instead modifying S and the rewards:"
   ]
  },
  {
   "cell_type": "code",
   "execution_count": 33,
   "id": "4edbba88-c2d2-4c57-b95d-ad197c42f8b7",
   "metadata": {},
   "outputs": [
    {
     "data": {
      "text/html": [
       "<style>\n",
       ".list-inline {list-style: none; margin:0; padding: 0}\n",
       ".list-inline>li {display: inline-block}\n",
       ".list-inline>li:not(:last-child)::after {content: \"\\00b7\"; padding: 0 .5ex}\n",
       "</style>\n",
       "<ol class=list-inline><li>0.630554271786468</li><li>0.630554271786468</li><li>0.66681114241419</li><li>0.743494423791822</li><li>0.743494423791822</li><li>0</li></ol>\n"
      ],
      "text/latex": [
       "\\begin{enumerate*}\n",
       "\\item 0.630554271786468\n",
       "\\item 0.630554271786468\n",
       "\\item 0.66681114241419\n",
       "\\item 0.743494423791822\n",
       "\\item 0.743494423791822\n",
       "\\item 0\n",
       "\\end{enumerate*}\n"
      ],
      "text/markdown": [
       "1. 0.630554271786468\n",
       "2. 0.630554271786468\n",
       "3. 0.66681114241419\n",
       "4. 0.743494423791822\n",
       "5. 0.743494423791822\n",
       "6. 0\n",
       "\n",
       "\n"
      ],
      "text/plain": [
       "[1] 0.6305543 0.6305543 0.6668111 0.7434944 0.7434944 0.0000000"
      ]
     },
     "metadata": {},
     "output_type": "display_data"
    }
   ],
   "source": [
    "S_new <- S - theta * diag(n)\n",
    "graph <- matrix_as_graph(alpha, S_new)\n",
    "expected_waiting_time(graph, c(0, s0, 0))"
   ]
  },
  {
   "cell_type": "code",
   "execution_count": 35,
   "id": "38943441-709e-484f-b59a-01af2b35df28",
   "metadata": {},
   "outputs": [
    {
     "data": {
      "text/html": [
       "<dl>\n",
       "\t<dt>$states</dt>\n",
       "\t\t<dd><table class=\"dataframe\">\n",
       "<caption>A matrix: 4 × 1 of type dbl</caption>\n",
       "<tbody>\n",
       "\t<tr><td>0</td></tr>\n",
       "\t<tr><td>0</td></tr>\n",
       "\t<tr><td>0</td></tr>\n",
       "\t<tr><td>0</td></tr>\n",
       "</tbody>\n",
       "</table>\n",
       "</dd>\n",
       "\t<dt>$SIM</dt>\n",
       "\t\t<dd><table class=\"dataframe\">\n",
       "<caption>A matrix: 4 × 4 of type dbl</caption>\n",
       "<tbody>\n",
       "\t<tr><td>-6.345</td><td> 6.000</td><td> 0.000</td><td> 0.000</td></tr>\n",
       "\t<tr><td> 0.000</td><td>-3.345</td><td> 1.000</td><td> 2.000</td></tr>\n",
       "\t<tr><td> 0.000</td><td> 0.000</td><td>-1.345</td><td> 0.000</td></tr>\n",
       "\t<tr><td> 0.000</td><td> 0.000</td><td> 0.000</td><td>-1.345</td></tr>\n",
       "</tbody>\n",
       "</table>\n",
       "</dd>\n",
       "\t<dt>$IPV</dt>\n",
       "\t\t<dd><style>\n",
       ".list-inline {list-style: none; margin:0; padding: 0}\n",
       ".list-inline>li {display: inline-block}\n",
       ".list-inline>li:not(:last-child)::after {content: \"\\00b7\"; padding: 0 .5ex}\n",
       "</style>\n",
       "<ol class=list-inline><li>1</li><li>0</li><li>0</li><li>0</li></ol>\n",
       "</dd>\n",
       "\t<dt>$indices</dt>\n",
       "\t\t<dd><style>\n",
       ".list-inline {list-style: none; margin:0; padding: 0}\n",
       ".list-inline>li {display: inline-block}\n",
       ".list-inline>li:not(:last-child)::after {content: \"\\00b7\"; padding: 0 .5ex}\n",
       "</style>\n",
       "<ol class=list-inline><li>2</li><li>3</li><li>4</li><li>5</li></ol>\n",
       "</dd>\n",
       "</dl>\n"
      ],
      "text/latex": [
       "\\begin{description}\n",
       "\\item[\\$states] A matrix: 4 × 1 of type dbl\n",
       "\\begin{tabular}{l}\n",
       "\t 0\\\\\n",
       "\t 0\\\\\n",
       "\t 0\\\\\n",
       "\t 0\\\\\n",
       "\\end{tabular}\n",
       "\n",
       "\\item[\\$SIM] A matrix: 4 × 4 of type dbl\n",
       "\\begin{tabular}{llll}\n",
       "\t -6.345 &  6.000 &  0.000 &  0.000\\\\\n",
       "\t  0.000 & -3.345 &  1.000 &  2.000\\\\\n",
       "\t  0.000 &  0.000 & -1.345 &  0.000\\\\\n",
       "\t  0.000 &  0.000 &  0.000 & -1.345\\\\\n",
       "\\end{tabular}\n",
       "\n",
       "\\item[\\$IPV] \\begin{enumerate*}\n",
       "\\item 1\n",
       "\\item 0\n",
       "\\item 0\n",
       "\\item 0\n",
       "\\end{enumerate*}\n",
       "\n",
       "\\item[\\$indices] \\begin{enumerate*}\n",
       "\\item 2\n",
       "\\item 3\n",
       "\\item 4\n",
       "\\item 5\n",
       "\\end{enumerate*}\n",
       "\n",
       "\\end{description}\n"
      ],
      "text/markdown": [
       "$states\n",
       ":   \n",
       "A matrix: 4 × 1 of type dbl\n",
       "\n",
       "| 0 |\n",
       "| 0 |\n",
       "| 0 |\n",
       "| 0 |\n",
       "\n",
       "\n",
       "$SIM\n",
       ":   \n",
       "A matrix: 4 × 4 of type dbl\n",
       "\n",
       "| -6.345 |  6.000 |  0.000 |  0.000 |\n",
       "|  0.000 | -3.345 |  1.000 |  2.000 |\n",
       "|  0.000 |  0.000 | -1.345 |  0.000 |\n",
       "|  0.000 |  0.000 |  0.000 | -1.345 |\n",
       "\n",
       "\n",
       "$IPV\n",
       ":   1. 1\n",
       "2. 0\n",
       "3. 0\n",
       "4. 0\n",
       "\n",
       "\n",
       "\n",
       "$indices\n",
       ":   1. 2\n",
       "2. 3\n",
       "3. 4\n",
       "4. 5\n",
       "\n",
       "\n",
       "\n",
       "\n",
       "\n"
      ],
      "text/plain": [
       "$states\n",
       "     [,1]\n",
       "[1,]    0\n",
       "[2,]    0\n",
       "[3,]    0\n",
       "[4,]    0\n",
       "\n",
       "$SIM\n",
       "       [,1]   [,2]   [,3]   [,4]\n",
       "[1,] -6.345  6.000  0.000  0.000\n",
       "[2,]  0.000 -3.345  1.000  2.000\n",
       "[3,]  0.000  0.000 -1.345  0.000\n",
       "[4,]  0.000  0.000  0.000 -1.345\n",
       "\n",
       "$IPV\n",
       "[1] 1 0 0 0\n",
       "\n",
       "$indices\n",
       "[1] 2 3 4 5\n"
      ]
     },
     "metadata": {},
     "output_type": "display_data"
    }
   ],
   "source": [
    "graph_as_matrix(graph)"
   ]
  },
  {
   "cell_type": "code",
   "execution_count": 34,
   "id": "feab3cb2-ae2b-40f9-93f7-ed6d02cde0b9",
   "metadata": {},
   "outputs": [
    {
     "data": {
      "image/svg+xml": [
       "<?xml version=\"1.0\" encoding=\"UTF-8\" standalone=\"no\"?>\n",
       "<!DOCTYPE svg PUBLIC \"-//W3C//DTD SVG 1.1//EN\"\n",
       " \"http://www.w3.org/Graphics/SVG/1.1/DTD/svg11.dtd\">\n",
       "<!-- Generated by graphviz version 8.1.0 (0)\n",
       " -->\n",
       "<!-- Title: G Pages: 1 -->\n",
       "<svg width=\"432pt\" height=\"226pt\"\n",
       " viewBox=\"0.00 0.00 432.00 225.57\" xmlns=\"http://www.w3.org/2000/svg\" xmlns:xlink=\"http://www.w3.org/1999/xlink\">\n",
       "<g id=\"graph0\" class=\"graph\" transform=\"scale(0.978221 0.978221) rotate(0) translate(36 194.59)\">\n",
       "<title>G</title>\n",
       "<polygon fill=\"white\" stroke=\"none\" points=\"-36,36 -36,-194.59 405.62,-194.59 405.62,36 -36,36\"/>\n",
       "<!-- Absorb -->\n",
       "<g id=\"node1\" class=\"node\">\n",
       "<title>Absorb</title>\n",
       "<ellipse fill=\"white\" stroke=\"lightgrey\" cx=\"331.43\" cy=\"-41.59\" rx=\"38.18\" ry=\"18\"/>\n",
       "<text text-anchor=\"middle\" x=\"331.43\" y=\"-35.79\" font-family=\"Helvetica,Arial,sans-serif\" font-size=\"14.00\">Absorb</text>\n",
       "</g>\n",
       "<!-- IPV -->\n",
       "<g id=\"node2\" class=\"node\">\n",
       "<title>IPV</title>\n",
       "<ellipse fill=\"white\" stroke=\"lightgrey\" cx=\"27\" cy=\"-41.59\" rx=\"27\" ry=\"18\"/>\n",
       "<text text-anchor=\"middle\" x=\"27\" y=\"-35.79\" font-family=\"Helvetica,Arial,sans-serif\" font-size=\"14.00\">IPV</text>\n",
       "</g>\n",
       "<!-- 0 -->\n",
       "<g id=\"node3\" class=\"node\">\n",
       "<title>0</title>\n",
       "<ellipse fill=\"white\" stroke=\"black\" cx=\"160.5\" cy=\"-41.59\" rx=\"27\" ry=\"18\"/>\n",
       "<text text-anchor=\"middle\" x=\"160.5\" y=\"-35.79\" font-family=\"Helvetica,Arial,sans-serif\" font-size=\"14.00\">0</text>\n",
       "</g>\n",
       "<!-- IPV&#45;&gt;0 -->\n",
       "<g id=\"edge1\" class=\"edge\">\n",
       "<title>IPV&#45;&gt;0</title>\n",
       "<path fill=\"none\" stroke=\"#000000\" d=\"M54.29,-41.59C73.83,-41.59 100.73,-41.59 122.44,-41.59\"/>\n",
       "<polygon fill=\"#000000\" stroke=\"#000000\" points=\"122.25,-45.09 132.25,-41.59 122.25,-38.09 122.25,-45.09\"/>\n",
       "<text text-anchor=\"middle\" x=\"93.75\" y=\"-43.29\" font-family=\"Helvetica,Arial,sans-serif\" font-size=\"14.00\" fill=\"#000000\">1</text>\n",
       "</g>\n",
       "<!-- 0&#45;&gt;Absorb -->\n",
       "<g id=\"edge5\" class=\"edge\">\n",
       "<title>0&#45;&gt;Absorb</title>\n",
       "<path fill=\"none\" stroke=\"#000000\" d=\"M179.41,-54.99C191.24,-62.99 207.48,-72.38 223.5,-76.59 249.27,-83.36 277.94,-72.98 299.1,-61.81\"/>\n",
       "<polygon fill=\"#000000\" stroke=\"#000000\" points=\"300.54,-64.45 307.54,-56.5 297.11,-58.35 300.54,-64.45\"/>\n",
       "<text text-anchor=\"middle\" x=\"240.38\" y=\"-80.29\" font-family=\"Helvetica,Arial,sans-serif\" font-size=\"14.00\" fill=\"#000000\">0.345</text>\n",
       "</g>\n",
       "<!-- 0&#45;&gt;Absorb -->\n",
       "<g id=\"edge6\" class=\"edge\">\n",
       "<title>0&#45;&gt;Absorb</title>\n",
       "<path fill=\"none\" stroke=\"#000000\" d=\"M187.9,-41.59C213.02,-41.59 251.43,-41.59 282.05,-41.59\"/>\n",
       "<polygon fill=\"#000000\" stroke=\"#000000\" points=\"281.94,-45.09 291.94,-41.59 281.94,-38.09 281.94,-45.09\"/>\n",
       "<text text-anchor=\"middle\" x=\"240.38\" y=\"-43.29\" font-family=\"Helvetica,Arial,sans-serif\" font-size=\"14.00\" fill=\"#000000\">0.345</text>\n",
       "</g>\n",
       "<!-- 0&#45;&gt;Absorb -->\n",
       "<g id=\"edge7\" class=\"edge\">\n",
       "<title>0&#45;&gt;Absorb</title>\n",
       "<path fill=\"none\" stroke=\"#000000\" d=\"M184.38,-32.8C195.92,-28.82 210.25,-24.58 223.5,-22.59 245.37,-19.32 269.65,-23.03 289.53,-28.02\"/>\n",
       "<polygon fill=\"#000000\" stroke=\"#000000\" points=\"288.52,-31.64 299.08,-30.88 290.35,-24.88 288.52,-31.64\"/>\n",
       "<text text-anchor=\"middle\" x=\"240.38\" y=\"-24.29\" font-family=\"Helvetica,Arial,sans-serif\" font-size=\"14.00\" fill=\"#000000\">1.345</text>\n",
       "</g>\n",
       "<!-- 0&#45;&gt;Absorb -->\n",
       "<g id=\"edge8\" class=\"edge\">\n",
       "<title>0&#45;&gt;Absorb</title>\n",
       "<path fill=\"none\" stroke=\"#000000\" d=\"M178.13,-27.47C189.94,-18.41 206.64,-7.45 223.5,-2.59 250.34,5.15 280.14,-7.55 301.45,-20.48\"/>\n",
       "<polygon fill=\"#000000\" stroke=\"#000000\" points=\"299.3,-23.9 309.6,-26.36 303.08,-18.01 299.3,-23.9\"/>\n",
       "<text text-anchor=\"middle\" x=\"240.38\" y=\"-4.29\" font-family=\"Helvetica,Arial,sans-serif\" font-size=\"14.00\" fill=\"#000000\">1.345</text>\n",
       "</g>\n",
       "<!-- 0&#45;&gt;0 -->\n",
       "<g id=\"edge2\" class=\"edge\">\n",
       "<title>0&#45;&gt;0</title>\n",
       "<path fill=\"none\" stroke=\"#000000\" d=\"M156.47,-59.75C155.86,-69.13 157.2,-77.59 160.5,-77.59 162.41,-77.59 163.66,-74.76 164.26,-70.56\"/>\n",
       "<polygon fill=\"#000000\" stroke=\"#000000\" points=\"167.78,-70.83 164.53,-60.75 160.78,-70.66 167.78,-70.83\"/>\n",
       "<text text-anchor=\"middle\" x=\"160.5\" y=\"-79.29\" font-family=\"Helvetica,Arial,sans-serif\" font-size=\"14.00\" fill=\"#000000\">6</text>\n",
       "</g>\n",
       "<!-- 0&#45;&gt;0 -->\n",
       "<g id=\"edge3\" class=\"edge\">\n",
       "<title>0&#45;&gt;0</title>\n",
       "<path fill=\"none\" stroke=\"#000000\" d=\"M153.87,-59.29C150.21,-76.59 152.42,-95.59 160.5,-95.59 166.94,-95.59 169.65,-83.52 168.64,-69.87\"/>\n",
       "<polygon fill=\"#000000\" stroke=\"#000000\" points=\"172,-69.7 167.13,-60.29 165.07,-70.68 172,-69.7\"/>\n",
       "<text text-anchor=\"middle\" x=\"160.5\" y=\"-97.29\" font-family=\"Helvetica,Arial,sans-serif\" font-size=\"14.00\" fill=\"#000000\">1</text>\n",
       "</g>\n",
       "<!-- 0&#45;&gt;0 -->\n",
       "<g id=\"edge4\" class=\"edge\">\n",
       "<title>0&#45;&gt;0</title>\n",
       "<path fill=\"none\" stroke=\"#000000\" d=\"M152.28,-58.95C144.53,-83.41 147.27,-113.59 160.5,-113.59 171.87,-113.59 175.49,-91.3 171.37,-69.51\"/>\n",
       "<polygon fill=\"#000000\" stroke=\"#000000\" points=\"174.55,-68.79 168.72,-59.95 167.76,-70.5 174.55,-68.79\"/>\n",
       "<text text-anchor=\"middle\" x=\"160.5\" y=\"-115.29\" font-family=\"Helvetica,Arial,sans-serif\" font-size=\"14.00\" fill=\"#000000\">2</text>\n",
       "</g>\n",
       "</g>\n",
       "</svg>\n"
      ]
     },
     "metadata": {},
     "output_type": "display_data"
    }
   ],
   "source": [
    "plot_graph(graph_as_matrix(graph), fontsize=14, ranksep=1, nodesep=0.25)"
   ]
  },
  {
   "cell_type": "markdown",
   "id": "aa101be4-e8c8-47a0-bf04-5d0d883357b0",
   "metadata": {},
   "source": [
    "## Laplace transformation as graph operations"
   ]
  },
  {
   "cell_type": "markdown",
   "id": "8234a21f-62d2-4ddb-942a-5f2a603ecf5a",
   "metadata": {},
   "source": [
    "I wrote a `laplace_transform` R function using the C/C++ backend that makes it easy (and fast) to do the transform inside the graph framework. It modifies the graph inplace and returns the s vector required for rewards to produce the final transformation:\n",
    "\n",
    "```\n",
    "laplace_rewards = laplace_transform(graph, theta=0.345)\n",
    "```"
   ]
  },
  {
   "cell_type": "code",
   "execution_count": 36,
   "id": "79d215c5-b897-4ac4-9a4b-fe89dac996c0",
   "metadata": {},
   "outputs": [],
   "source": [
    "Rcpp::sourceCpp(\"./cpp/laplace_transform.cpp\")"
   ]
  },
  {
   "cell_type": "code",
   "execution_count": 10,
   "id": "365239a3-6309-43f8-8a37-ef236f574bc4",
   "metadata": {},
   "outputs": [
    {
     "data": {
      "text/html": [
       "0.27583779697705"
      ],
      "text/latex": [
       "0.27583779697705"
      ],
      "text/markdown": [
       "0.27583779697705"
      ],
      "text/plain": [
       "[1] 0.2758378"
      ]
     },
     "metadata": {},
     "output_type": "display_data"
    }
   ],
   "source": [
    "graph <- standard_coalescent(20)\n",
    "laplace_transform(graph, theta=1e-5)"
   ]
  },
  {
   "cell_type": "code",
   "execution_count": 11,
   "id": "b7c3725a-5377-49ed-a47c-bec9a24fe694",
   "metadata": {},
   "outputs": [
    {
     "data": {
      "text/html": [
       "0.472542195819915"
      ],
      "text/latex": [
       "0.472542195819915"
      ],
      "text/markdown": [
       "0.472542195819915"
      ],
      "text/plain": [
       "[1] 0.4725422"
      ]
     },
     "metadata": {},
     "output_type": "display_data"
    }
   ],
   "source": [
    "laplace_transform(graph, theta=0.345)"
   ]
  },
  {
   "cell_type": "code",
   "execution_count": 12,
   "id": "0a2f09fe-1d67-46ac-b918-272c30bf528a",
   "metadata": {},
   "outputs": [
    {
     "data": {
      "text/html": [
       "0.510294970167255"
      ],
      "text/latex": [
       "0.510294970167255"
      ],
      "text/markdown": [
       "0.510294970167255"
      ],
      "text/plain": [
       "[1] 0.510295"
      ]
     },
     "metadata": {},
     "output_type": "display_data"
    }
   ],
   "source": [
    "laplace_transform(graph, theta=1e-5)"
   ]
  },
  {
   "cell_type": "code",
   "execution_count": 13,
   "id": "4cd5db25-1a94-49fe-bba9-60d87a5db364",
   "metadata": {},
   "outputs": [],
   "source": [
    "lseq <- function(from=1, to=100000, length.out=6) {\n",
    "  # logarithmic spaced sequence\n",
    "  # blatantly stolen from library(\"emdbook\"), because need only this\n",
    "  exp(seq(log(from), log(to), length.out = length.out))\n",
    "}"
   ]
  },
  {
   "cell_type": "code",
   "execution_count": 14,
   "id": "acd1f2bf-21d1-4f0d-833d-7a341e6c1853",
   "metadata": {},
   "outputs": [
    {
     "data": {
      "image/png": "[encoded data removed]",
      "text/plain": [
       "plot without title"
      ]
     },
     "metadata": {
      "image/png": {
       "height": 420,
       "width": 600
      }
     },
     "output_type": "display_data"
    }
   ],
   "source": [
    "# theta <- seq(1e-6, 2e-6, 1e-7)\n",
    "theta <- lseq(1e-4, 10, 100)\n",
    "fun <- function(x) {\n",
    "    graph <- standard_coalescent(10)\n",
    "    return(laplace_transform(graph, theta=x))\n",
    "}\n",
    "plot(theta, sapply(theta, fun))"
   ]
  },
  {
   "cell_type": "code",
   "execution_count": 39,
   "id": "90a56905-21cb-45d9-bf5d-160221ae1bb8",
   "metadata": {},
   "outputs": [
    {
     "data": {
      "text/html": [
       "<style>\n",
       ".list-inline {list-style: none; margin:0; padding: 0}\n",
       ".list-inline>li {display: inline-block}\n",
       ".list-inline>li:not(:last-child)::after {content: \"\\00b7\"; padding: 0 .5ex}\n",
       "</style>\n",
       "<ol class=list-inline><li>0</li><li>0</li><li>0</li><li>1</li><li>1</li><li>0</li></ol>\n"
      ],
      "text/latex": [
       "\\begin{enumerate*}\n",
       "\\item 0\n",
       "\\item 0\n",
       "\\item 0\n",
       "\\item 1\n",
       "\\item 1\n",
       "\\item 0\n",
       "\\end{enumerate*}\n"
      ],
      "text/markdown": [
       "1. 0\n",
       "2. 0\n",
       "3. 0\n",
       "4. 1\n",
       "5. 1\n",
       "6. 0\n",
       "\n",
       "\n"
      ],
      "text/plain": [
       "[1] 0 0 0 1 1 0"
      ]
     },
     "metadata": {},
     "output_type": "display_data"
    }
   ],
   "source": [
    "graph <- standard_coalescent(4)\n",
    "laplace_rewards <- rep(0, vertices_length(graph))\n",
    "abs_parents <- absorbing_parents(graph)\n",
    "laplace_rewards[absorbing_parents(graph)] <- 1\n",
    "laplace_rewards"
   ]
  },
  {
   "cell_type": "code",
   "execution_count": 40,
   "id": "970d1a7d-6973-4b23-a513-73bd16585a40",
   "metadata": {},
   "outputs": [
    {
     "data": {
      "image/svg+xml": [
       "<?xml version=\"1.0\" encoding=\"UTF-8\" standalone=\"no\"?>\n",
       "<!DOCTYPE svg PUBLIC \"-//W3C//DTD SVG 1.1//EN\"\n",
       " \"http://www.w3.org/Graphics/SVG/1.1/DTD/svg11.dtd\">\n",
       "<!-- Generated by graphviz version 8.1.0 (0)\n",
       " -->\n",
       "<!-- Title: G Pages: 1 -->\n",
       "<svg width=\"432pt\" height=\"89pt\"\n",
       " viewBox=\"0.00 0.00 432.00 88.87\" xmlns=\"http://www.w3.org/2000/svg\" xmlns:xlink=\"http://www.w3.org/1999/xlink\">\n",
       "<g id=\"graph0\" class=\"graph\" transform=\"scale(0.548575 0.548575) rotate(0) translate(36 126)\">\n",
       "<title>G</title>\n",
       "<polygon fill=\"white\" stroke=\"none\" points=\"-36,36 -36,-126 751.49,-126 751.49,36 -36,36\"/>\n",
       "<!-- Absorb -->\n",
       "<g id=\"node1\" class=\"node\">\n",
       "<title>Absorb</title>\n",
       "<ellipse fill=\"white\" stroke=\"lightgrey\" cx=\"677.31\" cy=\"-45\" rx=\"38.18\" ry=\"18\"/>\n",
       "<text text-anchor=\"middle\" x=\"677.31\" y=\"-39.2\" font-family=\"Helvetica,Arial,sans-serif\" font-size=\"14.00\">Absorb</text>\n",
       "</g>\n",
       "<!-- IPV -->\n",
       "<g id=\"node2\" class=\"node\">\n",
       "<title>IPV</title>\n",
       "<ellipse fill=\"white\" stroke=\"lightgrey\" cx=\"27\" cy=\"-45\" rx=\"27\" ry=\"18\"/>\n",
       "<text text-anchor=\"middle\" x=\"27\" y=\"-39.2\" font-family=\"Helvetica,Arial,sans-serif\" font-size=\"14.00\">IPV</text>\n",
       "</g>\n",
       "<!-- 4,0,0,0,0 -->\n",
       "<g id=\"node3\" class=\"node\">\n",
       "<title>4,0,0,0,0</title>\n",
       "<ellipse fill=\"white\" stroke=\"black\" cx=\"178.02\" cy=\"-45\" rx=\"44.52\" ry=\"18\"/>\n",
       "<text text-anchor=\"middle\" x=\"178.02\" y=\"-39.2\" font-family=\"Helvetica,Arial,sans-serif\" font-size=\"14.00\">4,0,0,0,0</text>\n",
       "</g>\n",
       "<!-- IPV&#45;&gt;4,0,0,0,0 -->\n",
       "<g id=\"edge1\" class=\"edge\">\n",
       "<title>IPV&#45;&gt;4,0,0,0,0</title>\n",
       "<path fill=\"none\" stroke=\"#000000\" d=\"M54.3,-45C73.13,-45 99.15,-45 122.39,-45\"/>\n",
       "<polygon fill=\"#000000\" stroke=\"#000000\" points=\"122.18,-48.5 132.18,-45 122.18,-41.5 122.18,-48.5\"/>\n",
       "<text text-anchor=\"middle\" x=\"93.75\" y=\"-46.7\" font-family=\"Helvetica,Arial,sans-serif\" font-size=\"14.00\" fill=\"#000000\">1</text>\n",
       "</g>\n",
       "<!-- 2,1,0,0,0 -->\n",
       "<g id=\"node4\" class=\"node\">\n",
       "<title>2,1,0,0,0</title>\n",
       "<ellipse fill=\"white\" stroke=\"black\" cx=\"346.56\" cy=\"-45\" rx=\"44.52\" ry=\"18\"/>\n",
       "<text text-anchor=\"middle\" x=\"346.56\" y=\"-39.2\" font-family=\"Helvetica,Arial,sans-serif\" font-size=\"14.00\">2,1,0,0,0</text>\n",
       "</g>\n",
       "<!-- 4,0,0,0,0&#45;&gt;2,1,0,0,0 -->\n",
       "<g id=\"edge2\" class=\"edge\">\n",
       "<title>4,0,0,0,0&#45;&gt;2,1,0,0,0</title>\n",
       "<path fill=\"none\" stroke=\"#000000\" d=\"M222.78,-45C243.64,-45 268.8,-45 290.9,-45\"/>\n",
       "<polygon fill=\"#000000\" stroke=\"#000000\" points=\"290.81,-48.5 300.81,-45 290.81,-41.5 290.81,-48.5\"/>\n",
       "<text text-anchor=\"middle\" x=\"262.29\" y=\"-46.7\" font-family=\"Helvetica,Arial,sans-serif\" font-size=\"14.00\" fill=\"#000000\">6</text>\n",
       "</g>\n",
       "<!-- 0,2,0,0,0 -->\n",
       "<g id=\"node5\" class=\"node\">\n",
       "<title>0,2,0,0,0</title>\n",
       "<ellipse fill=\"white\" stroke=\"black\" cx=\"515.11\" cy=\"-72\" rx=\"44.52\" ry=\"18\"/>\n",
       "<text text-anchor=\"middle\" x=\"515.11\" y=\"-66.2\" font-family=\"Helvetica,Arial,sans-serif\" font-size=\"14.00\">0,2,0,0,0</text>\n",
       "</g>\n",
       "<!-- 2,1,0,0,0&#45;&gt;0,2,0,0,0 -->\n",
       "<g id=\"edge3\" class=\"edge\">\n",
       "<title>2,1,0,0,0&#45;&gt;0,2,0,0,0</title>\n",
       "<path fill=\"none\" stroke=\"#000000\" d=\"M388.3,-51.6C410.68,-55.23 438.67,-59.77 462.56,-63.64\"/>\n",
       "<polygon fill=\"#000000\" stroke=\"#000000\" points=\"461.78,-67.22 472.21,-65.37 462.9,-60.31 461.78,-67.22\"/>\n",
       "<text text-anchor=\"middle\" x=\"430.83\" y=\"-59.7\" font-family=\"Helvetica,Arial,sans-serif\" font-size=\"14.00\" fill=\"#000000\">1</text>\n",
       "</g>\n",
       "<!-- 1,0,1,0,0 -->\n",
       "<g id=\"node6\" class=\"node\">\n",
       "<title>1,0,1,0,0</title>\n",
       "<ellipse fill=\"white\" stroke=\"black\" cx=\"515.11\" cy=\"-18\" rx=\"44.52\" ry=\"18\"/>\n",
       "<text text-anchor=\"middle\" x=\"515.11\" y=\"-12.2\" font-family=\"Helvetica,Arial,sans-serif\" font-size=\"14.00\">1,0,1,0,0</text>\n",
       "</g>\n",
       "<!-- 2,1,0,0,0&#45;&gt;1,0,1,0,0 -->\n",
       "<g id=\"edge4\" class=\"edge\">\n",
       "<title>2,1,0,0,0&#45;&gt;1,0,1,0,0</title>\n",
       "<path fill=\"none\" stroke=\"#000000\" d=\"M388.3,-38.4C410.68,-34.77 438.67,-30.23 462.56,-26.36\"/>\n",
       "<polygon fill=\"#000000\" stroke=\"#000000\" points=\"462.9,-29.69 472.21,-24.63 461.78,-22.78 462.9,-29.69\"/>\n",
       "<text text-anchor=\"middle\" x=\"430.83\" y=\"-33.7\" font-family=\"Helvetica,Arial,sans-serif\" font-size=\"14.00\" fill=\"#000000\">2</text>\n",
       "</g>\n",
       "<!-- 0,2,0,0,0&#45;&gt;Absorb -->\n",
       "<g id=\"edge5\" class=\"edge\">\n",
       "<title>0,2,0,0,0&#45;&gt;Absorb</title>\n",
       "<path fill=\"none\" stroke=\"#000000\" d=\"M556.53,-65.19C578.94,-61.41 606.88,-56.7 630.15,-52.78\"/>\n",
       "<polygon fill=\"#000000\" stroke=\"#000000\" points=\"630.53,-56.1 639.81,-50.98 629.36,-49.19 630.53,-56.1\"/>\n",
       "<text text-anchor=\"middle\" x=\"599.38\" y=\"-59.7\" font-family=\"Helvetica,Arial,sans-serif\" font-size=\"14.00\" fill=\"#000000\">1</text>\n",
       "</g>\n",
       "<!-- 1,0,1,0,0&#45;&gt;Absorb -->\n",
       "<g id=\"edge6\" class=\"edge\">\n",
       "<title>1,0,1,0,0&#45;&gt;Absorb</title>\n",
       "<path fill=\"none\" stroke=\"#000000\" d=\"M556.53,-24.81C578.94,-28.59 606.88,-33.3 630.15,-37.22\"/>\n",
       "<polygon fill=\"#000000\" stroke=\"#000000\" points=\"629.36,-40.81 639.81,-39.02 630.53,-33.9 629.36,-40.81\"/>\n",
       "<text text-anchor=\"middle\" x=\"599.38\" y=\"-34.7\" font-family=\"Helvetica,Arial,sans-serif\" font-size=\"14.00\" fill=\"#000000\">1</text>\n",
       "</g>\n",
       "</g>\n",
       "</svg>\n"
      ]
     },
     "metadata": {},
     "output_type": "display_data"
    }
   ],
   "source": [
    "plot_graph(graph_as_matrix(graph), fontsize=14, ranksep=1, nodesep=0.25)"
   ]
  },
  {
   "cell_type": "code",
   "execution_count": 41,
   "id": "b650226d-bf8f-4153-b45c-4f7af21f1479",
   "metadata": {},
   "outputs": [
    {
     "data": {
      "text/html": [
       "<dl>\n",
       "\t<dt>$states</dt>\n",
       "\t\t<dd><table class=\"dataframe\">\n",
       "<caption>A matrix: 4 × 5 of type dbl</caption>\n",
       "<tbody>\n",
       "\t<tr><td>4</td><td>0</td><td>0</td><td>0</td><td>0</td></tr>\n",
       "\t<tr><td>2</td><td>1</td><td>0</td><td>0</td><td>0</td></tr>\n",
       "\t<tr><td>0</td><td>2</td><td>0</td><td>0</td><td>0</td></tr>\n",
       "\t<tr><td>1</td><td>0</td><td>1</td><td>0</td><td>0</td></tr>\n",
       "</tbody>\n",
       "</table>\n",
       "</dd>\n",
       "\t<dt>$SIM</dt>\n",
       "\t\t<dd><table class=\"dataframe\">\n",
       "<caption>A matrix: 4 × 4 of type dbl</caption>\n",
       "<tbody>\n",
       "\t<tr><td>-6</td><td> 6</td><td> 0</td><td> 0</td></tr>\n",
       "\t<tr><td> 0</td><td>-3</td><td> 1</td><td> 2</td></tr>\n",
       "\t<tr><td> 0</td><td> 0</td><td>-1</td><td> 0</td></tr>\n",
       "\t<tr><td> 0</td><td> 0</td><td> 0</td><td>-1</td></tr>\n",
       "</tbody>\n",
       "</table>\n",
       "</dd>\n",
       "\t<dt>$IPV</dt>\n",
       "\t\t<dd><style>\n",
       ".list-inline {list-style: none; margin:0; padding: 0}\n",
       ".list-inline>li {display: inline-block}\n",
       ".list-inline>li:not(:last-child)::after {content: \"\\00b7\"; padding: 0 .5ex}\n",
       "</style>\n",
       "<ol class=list-inline><li>1</li><li>0</li><li>0</li><li>0</li></ol>\n",
       "</dd>\n",
       "\t<dt>$indices</dt>\n",
       "\t\t<dd><style>\n",
       ".list-inline {list-style: none; margin:0; padding: 0}\n",
       ".list-inline>li {display: inline-block}\n",
       ".list-inline>li:not(:last-child)::after {content: \"\\00b7\"; padding: 0 .5ex}\n",
       "</style>\n",
       "<ol class=list-inline><li>2</li><li>3</li><li>4</li><li>5</li></ol>\n",
       "</dd>\n",
       "</dl>\n"
      ],
      "text/latex": [
       "\\begin{description}\n",
       "\\item[\\$states] A matrix: 4 × 5 of type dbl\n",
       "\\begin{tabular}{lllll}\n",
       "\t 4 & 0 & 0 & 0 & 0\\\\\n",
       "\t 2 & 1 & 0 & 0 & 0\\\\\n",
       "\t 0 & 2 & 0 & 0 & 0\\\\\n",
       "\t 1 & 0 & 1 & 0 & 0\\\\\n",
       "\\end{tabular}\n",
       "\n",
       "\\item[\\$SIM] A matrix: 4 × 4 of type dbl\n",
       "\\begin{tabular}{llll}\n",
       "\t -6 &  6 &  0 &  0\\\\\n",
       "\t  0 & -3 &  1 &  2\\\\\n",
       "\t  0 &  0 & -1 &  0\\\\\n",
       "\t  0 &  0 &  0 & -1\\\\\n",
       "\\end{tabular}\n",
       "\n",
       "\\item[\\$IPV] \\begin{enumerate*}\n",
       "\\item 1\n",
       "\\item 0\n",
       "\\item 0\n",
       "\\item 0\n",
       "\\end{enumerate*}\n",
       "\n",
       "\\item[\\$indices] \\begin{enumerate*}\n",
       "\\item 2\n",
       "\\item 3\n",
       "\\item 4\n",
       "\\item 5\n",
       "\\end{enumerate*}\n",
       "\n",
       "\\end{description}\n"
      ],
      "text/markdown": [
       "$states\n",
       ":   \n",
       "A matrix: 4 × 5 of type dbl\n",
       "\n",
       "| 4 | 0 | 0 | 0 | 0 |\n",
       "| 2 | 1 | 0 | 0 | 0 |\n",
       "| 0 | 2 | 0 | 0 | 0 |\n",
       "| 1 | 0 | 1 | 0 | 0 |\n",
       "\n",
       "\n",
       "$SIM\n",
       ":   \n",
       "A matrix: 4 × 4 of type dbl\n",
       "\n",
       "| -6 |  6 |  0 |  0 |\n",
       "|  0 | -3 |  1 |  2 |\n",
       "|  0 |  0 | -1 |  0 |\n",
       "|  0 |  0 |  0 | -1 |\n",
       "\n",
       "\n",
       "$IPV\n",
       ":   1. 1\n",
       "2. 0\n",
       "3. 0\n",
       "4. 0\n",
       "\n",
       "\n",
       "\n",
       "$indices\n",
       ":   1. 2\n",
       "2. 3\n",
       "3. 4\n",
       "4. 5\n",
       "\n",
       "\n",
       "\n",
       "\n",
       "\n"
      ],
      "text/plain": [
       "$states\n",
       "     [,1] [,2] [,3] [,4] [,5]\n",
       "[1,]    4    0    0    0    0\n",
       "[2,]    2    1    0    0    0\n",
       "[3,]    0    2    0    0    0\n",
       "[4,]    1    0    1    0    0\n",
       "\n",
       "$SIM\n",
       "     [,1] [,2] [,3] [,4]\n",
       "[1,]   -6    6    0    0\n",
       "[2,]    0   -3    1    2\n",
       "[3,]    0    0   -1    0\n",
       "[4,]    0    0    0   -1\n",
       "\n",
       "$IPV\n",
       "[1] 1 0 0 0\n",
       "\n",
       "$indices\n",
       "[1] 2 3 4 5\n"
      ]
     },
     "metadata": {},
     "output_type": "display_data"
    }
   ],
   "source": [
    "graph_as_matrix(graph)"
   ]
  },
  {
   "cell_type": "code",
   "execution_count": 42,
   "id": "90e2b0a3-2cdf-4ff1-9039-5efaea277089",
   "metadata": {},
   "outputs": [],
   "source": [
    "laplace_graph <- add_edge_weight_to_absorbing(graph, theta)"
   ]
  },
  {
   "cell_type": "code",
   "execution_count": 43,
   "id": "a1f95561-9bd1-403b-8251-220d3705c924",
   "metadata": {},
   "outputs": [
    {
     "data": {
      "image/svg+xml": [
       "<?xml version=\"1.0\" encoding=\"UTF-8\" standalone=\"no\"?>\n",
       "<!DOCTYPE svg PUBLIC \"-//W3C//DTD SVG 1.1//EN\"\n",
       " \"http://www.w3.org/Graphics/SVG/1.1/DTD/svg11.dtd\">\n",
       "<!-- Generated by graphviz version 8.1.0 (0)\n",
       " -->\n",
       "<!-- Title: G Pages: 1 -->\n",
       "<svg width=\"432pt\" height=\"118pt\"\n",
       " viewBox=\"0.00 0.00 432.00 118.19\" xmlns=\"http://www.w3.org/2000/svg\" xmlns:xlink=\"http://www.w3.org/1999/xlink\">\n",
       "<g id=\"graph0\" class=\"graph\" transform=\"scale(0.516132 0.516132) rotate(0) translate(36 193)\">\n",
       "<title>G</title>\n",
       "<polygon fill=\"white\" stroke=\"none\" points=\"-36,36 -36,-193 800.99,-193 800.99,36 -36,36\"/>\n",
       "<!-- Absorb -->\n",
       "<g id=\"node1\" class=\"node\">\n",
       "<title>Absorb</title>\n",
       "<ellipse fill=\"white\" stroke=\"lightgrey\" cx=\"726.81\" cy=\"-101\" rx=\"38.18\" ry=\"18\"/>\n",
       "<text text-anchor=\"middle\" x=\"726.81\" y=\"-95.2\" font-family=\"Helvetica,Arial,sans-serif\" font-size=\"14.00\">Absorb</text>\n",
       "</g>\n",
       "<!-- IPV -->\n",
       "<g id=\"node2\" class=\"node\">\n",
       "<title>IPV</title>\n",
       "<ellipse fill=\"white\" stroke=\"lightgrey\" cx=\"27\" cy=\"-137\" rx=\"27\" ry=\"18\"/>\n",
       "<text text-anchor=\"middle\" x=\"27\" y=\"-131.2\" font-family=\"Helvetica,Arial,sans-serif\" font-size=\"14.00\">IPV</text>\n",
       "</g>\n",
       "<!-- 4,0,0,0,0 -->\n",
       "<g id=\"node3\" class=\"node\">\n",
       "<title>4,0,0,0,0</title>\n",
       "<ellipse fill=\"white\" stroke=\"black\" cx=\"178.02\" cy=\"-137\" rx=\"44.52\" ry=\"18\"/>\n",
       "<text text-anchor=\"middle\" x=\"178.02\" y=\"-131.2\" font-family=\"Helvetica,Arial,sans-serif\" font-size=\"14.00\">4,0,0,0,0</text>\n",
       "</g>\n",
       "<!-- IPV&#45;&gt;4,0,0,0,0 -->\n",
       "<g id=\"edge1\" class=\"edge\">\n",
       "<title>IPV&#45;&gt;4,0,0,0,0</title>\n",
       "<path fill=\"none\" stroke=\"#000000\" d=\"M54.3,-137C73.13,-137 99.15,-137 122.39,-137\"/>\n",
       "<polygon fill=\"#000000\" stroke=\"#000000\" points=\"122.18,-140.5 132.18,-137 122.18,-133.5 122.18,-140.5\"/>\n",
       "<text text-anchor=\"middle\" x=\"93.75\" y=\"-138.7\" font-family=\"Helvetica,Arial,sans-serif\" font-size=\"14.00\" fill=\"#000000\">1</text>\n",
       "</g>\n",
       "<!-- 4,0,0,0,0&#45;&gt;Absorb -->\n",
       "<g id=\"edge5\" class=\"edge\">\n",
       "<title>4,0,0,0,0&#45;&gt;Absorb</title>\n",
       "<path fill=\"none\" stroke=\"#000000\" d=\"M222.55,-139.29C300.42,-142.73 468.55,-147.26 609.13,-131 634.66,-128.05 662.57,-121.02 684.69,-114.5\"/>\n",
       "<polygon fill=\"#000000\" stroke=\"#000000\" points=\"685.49,-117.61 694.04,-111.37 683.46,-110.92 685.49,-117.61\"/>\n",
       "<text text-anchor=\"middle\" x=\"455.58\" y=\"-143.7\" font-family=\"Helvetica,Arial,sans-serif\" font-size=\"14.00\" fill=\"#000000\">0.345</text>\n",
       "</g>\n",
       "<!-- 2,1,0,0,0 -->\n",
       "<g id=\"node4\" class=\"node\">\n",
       "<title>2,1,0,0,0</title>\n",
       "<ellipse fill=\"white\" stroke=\"black\" cx=\"346.56\" cy=\"-105\" rx=\"44.52\" ry=\"18\"/>\n",
       "<text text-anchor=\"middle\" x=\"346.56\" y=\"-99.2\" font-family=\"Helvetica,Arial,sans-serif\" font-size=\"14.00\">2,1,0,0,0</text>\n",
       "</g>\n",
       "<!-- 4,0,0,0,0&#45;&gt;2,1,0,0,0 -->\n",
       "<g id=\"edge2\" class=\"edge\">\n",
       "<title>4,0,0,0,0&#45;&gt;2,1,0,0,0</title>\n",
       "<path fill=\"none\" stroke=\"#000000\" d=\"M218.91,-129.34C241.8,-124.94 270.75,-119.38 295.19,-114.68\"/>\n",
       "<polygon fill=\"#000000\" stroke=\"#000000\" points=\"295.55,-117.98 304.71,-112.66 294.23,-111.11 295.55,-117.98\"/>\n",
       "<text text-anchor=\"middle\" x=\"262.29\" y=\"-122.7\" font-family=\"Helvetica,Arial,sans-serif\" font-size=\"14.00\" fill=\"#000000\">6</text>\n",
       "</g>\n",
       "<!-- 2,1,0,0,0&#45;&gt;Absorb -->\n",
       "<g id=\"edge6\" class=\"edge\">\n",
       "<title>2,1,0,0,0&#45;&gt;Absorb</title>\n",
       "<path fill=\"none\" stroke=\"#000000\" d=\"M390.03,-109.43C402,-110.49 415.04,-111.47 427.08,-112 489.39,-114.74 640.47,-107.68 652.63,-107 660.86,-106.54 669.6,-105.93 678.07,-105.28\"/>\n",
       "<polygon fill=\"#000000\" stroke=\"#000000\" points=\"678.29,-108.69 687.98,-104.4 677.73,-101.71 678.29,-108.69\"/>\n",
       "<text text-anchor=\"middle\" x=\"564.61\" y=\"-113.7\" font-family=\"Helvetica,Arial,sans-serif\" font-size=\"14.00\" fill=\"#000000\">0.345</text>\n",
       "</g>\n",
       "<!-- 0,2,0,0,0 -->\n",
       "<g id=\"node5\" class=\"node\">\n",
       "<title>0,2,0,0,0</title>\n",
       "<ellipse fill=\"white\" stroke=\"black\" cx=\"564.61\" cy=\"-72\" rx=\"44.52\" ry=\"18\"/>\n",
       "<text text-anchor=\"middle\" x=\"564.61\" y=\"-66.2\" font-family=\"Helvetica,Arial,sans-serif\" font-size=\"14.00\">0,2,0,0,0</text>\n",
       "</g>\n",
       "<!-- 2,1,0,0,0&#45;&gt;0,2,0,0,0 -->\n",
       "<g id=\"edge3\" class=\"edge\">\n",
       "<title>2,1,0,0,0&#45;&gt;0,2,0,0,0</title>\n",
       "<path fill=\"none\" stroke=\"#000000\" d=\"M388.71,-98.72C423.7,-93.37 474.12,-85.67 511.84,-79.91\"/>\n",
       "<polygon fill=\"#000000\" stroke=\"#000000\" points=\"512.26,-83.23 521.61,-78.26 511.2,-76.31 512.26,-83.23\"/>\n",
       "<text text-anchor=\"middle\" x=\"455.58\" y=\"-94.7\" font-family=\"Helvetica,Arial,sans-serif\" font-size=\"14.00\" fill=\"#000000\">1</text>\n",
       "</g>\n",
       "<!-- 1,0,1,0,0 -->\n",
       "<g id=\"node6\" class=\"node\">\n",
       "<title>1,0,1,0,0</title>\n",
       "<ellipse fill=\"white\" stroke=\"black\" cx=\"564.61\" cy=\"-18\" rx=\"44.52\" ry=\"18\"/>\n",
       "<text text-anchor=\"middle\" x=\"564.61\" y=\"-12.2\" font-family=\"Helvetica,Arial,sans-serif\" font-size=\"14.00\">1,0,1,0,0</text>\n",
       "</g>\n",
       "<!-- 2,1,0,0,0&#45;&gt;1,0,1,0,0 -->\n",
       "<g id=\"edge4\" class=\"edge\">\n",
       "<title>2,1,0,0,0&#45;&gt;1,0,1,0,0</title>\n",
       "<path fill=\"none\" stroke=\"#000000\" d=\"M374.8,-90.65C389.98,-82.9 409.36,-73.43 427.08,-66 457.05,-53.44 491.58,-41.32 518.42,-32.4\"/>\n",
       "<polygon fill=\"#000000\" stroke=\"#000000\" points=\"519.27,-35.47 527.67,-29.02 517.08,-28.82 519.27,-35.47\"/>\n",
       "<text text-anchor=\"middle\" x=\"455.58\" y=\"-67.7\" font-family=\"Helvetica,Arial,sans-serif\" font-size=\"14.00\" fill=\"#000000\">2.69e+00</text>\n",
       "</g>\n",
       "<!-- 0,2,0,0,0&#45;&gt;Absorb -->\n",
       "<g id=\"edge7\" class=\"edge\">\n",
       "<title>0,2,0,0,0&#45;&gt;Absorb</title>\n",
       "<path fill=\"none\" stroke=\"#000000\" d=\"M605.62,-79.24C628.18,-83.33 656.46,-88.45 679.92,-92.69\"/>\n",
       "<polygon fill=\"#000000\" stroke=\"#000000\" points=\"679.2,-96.3 689.66,-94.64 680.44,-89.41 679.2,-96.3\"/>\n",
       "<text text-anchor=\"middle\" x=\"648.88\" y=\"-89.7\" font-family=\"Helvetica,Arial,sans-serif\" font-size=\"14.00\" fill=\"#000000\">1</text>\n",
       "</g>\n",
       "<!-- 1,0,1,0,0&#45;&gt;Absorb -->\n",
       "<g id=\"edge8\" class=\"edge\">\n",
       "<title>1,0,1,0,0&#45;&gt;Absorb</title>\n",
       "<path fill=\"none\" stroke=\"#000000\" d=\"M593.15,-32.27C620.15,-46.26 661.43,-67.65 690.76,-82.84\"/>\n",
       "<polygon fill=\"#000000\" stroke=\"#000000\" points=\"688.73,-86.25 699.22,-87.74 691.95,-80.03 688.73,-86.25\"/>\n",
       "<text text-anchor=\"middle\" x=\"648.88\" y=\"-63.7\" font-family=\"Helvetica,Arial,sans-serif\" font-size=\"14.00\" fill=\"#000000\">2</text>\n",
       "</g>\n",
       "</g>\n",
       "</svg>\n"
      ]
     },
     "metadata": {},
     "output_type": "display_data"
    }
   ],
   "source": [
    "plot_graph(graph_as_matrix(laplace_graph), fontsize=14, ranksep=1, nodesep=0.25)"
   ]
  },
  {
   "cell_type": "code",
   "execution_count": 45,
   "id": "a819976c-6320-4283-85a8-80e3b7327c70",
   "metadata": {},
   "outputs": [
    {
     "data": {
      "image/svg+xml": [
       "<?xml version=\"1.0\" encoding=\"UTF-8\" standalone=\"no\"?>\n",
       "<!DOCTYPE svg PUBLIC \"-//W3C//DTD SVG 1.1//EN\"\n",
       " \"http://www.w3.org/Graphics/SVG/1.1/DTD/svg11.dtd\">\n",
       "<!-- Generated by graphviz version 8.1.0 (0)\n",
       " -->\n",
       "<!-- Title: G Pages: 1 -->\n",
       "<svg width=\"432pt\" height=\"124pt\"\n",
       " viewBox=\"0.00 0.00 432.00 123.50\" xmlns=\"http://www.w3.org/2000/svg\" xmlns:xlink=\"http://www.w3.org/1999/xlink\">\n",
       "<g id=\"graph0\" class=\"graph\" transform=\"scale(0.762361 0.762361) rotate(0) translate(36 126)\">\n",
       "<title>G</title>\n",
       "<polygon fill=\"white\" stroke=\"none\" points=\"-36,36 -36,-126 530.66,-126 530.66,36 -36,36\"/>\n",
       "<!-- Absorb -->\n",
       "<g id=\"node1\" class=\"node\">\n",
       "<title>Absorb</title>\n",
       "<ellipse fill=\"white\" stroke=\"lightgrey\" cx=\"456.48\" cy=\"-47\" rx=\"38.18\" ry=\"18\"/>\n",
       "<text text-anchor=\"middle\" x=\"456.48\" y=\"-41.2\" font-family=\"Helvetica,Arial,sans-serif\" font-size=\"14.00\">Absorb</text>\n",
       "</g>\n",
       "<!-- IPV -->\n",
       "<g id=\"node2\" class=\"node\">\n",
       "<title>IPV</title>\n",
       "<ellipse fill=\"white\" stroke=\"lightgrey\" cx=\"27\" cy=\"-45\" rx=\"27\" ry=\"18\"/>\n",
       "<text text-anchor=\"middle\" x=\"27\" y=\"-39.2\" font-family=\"Helvetica,Arial,sans-serif\" font-size=\"14.00\">IPV</text>\n",
       "</g>\n",
       "<!-- 1,0,1,0,0 -->\n",
       "<g id=\"node3\" class=\"node\">\n",
       "<title>1,0,1,0,0</title>\n",
       "<ellipse fill=\"white\" stroke=\"black\" cx=\"294.27\" cy=\"-72\" rx=\"44.52\" ry=\"18\"/>\n",
       "<text text-anchor=\"middle\" x=\"294.27\" y=\"-66.2\" font-family=\"Helvetica,Arial,sans-serif\" font-size=\"14.00\">1,0,1,0,0</text>\n",
       "</g>\n",
       "<!-- IPV&#45;&gt;1,0,1,0,0 -->\n",
       "<g id=\"edge1\" class=\"edge\">\n",
       "<title>IPV&#45;&gt;1,0,1,0,0</title>\n",
       "<path fill=\"none\" stroke=\"#000000\" d=\"M53.92,-47.64C96.82,-52 183.44,-60.82 239.87,-66.56\"/>\n",
       "<polygon fill=\"#000000\" stroke=\"#000000\" points=\"239.42,-70.14 249.73,-67.67 240.13,-63.18 239.42,-70.14\"/>\n",
       "<text text-anchor=\"middle\" x=\"151.88\" y=\"-64.7\" font-family=\"Helvetica,Arial,sans-serif\" font-size=\"14.00\" fill=\"#000000\">0.630417651694247</text>\n",
       "</g>\n",
       "<!-- 0,2,0,0,0 -->\n",
       "<g id=\"node4\" class=\"node\">\n",
       "<title>0,2,0,0,0</title>\n",
       "<ellipse fill=\"white\" stroke=\"black\" cx=\"294.27\" cy=\"-18\" rx=\"44.52\" ry=\"18\"/>\n",
       "<text text-anchor=\"middle\" x=\"294.27\" y=\"-12.2\" font-family=\"Helvetica,Arial,sans-serif\" font-size=\"14.00\">0,2,0,0,0</text>\n",
       "</g>\n",
       "<!-- IPV&#45;&gt;0,2,0,0,0 -->\n",
       "<g id=\"edge2\" class=\"edge\">\n",
       "<title>IPV&#45;&gt;0,2,0,0,0</title>\n",
       "<path fill=\"none\" stroke=\"#000000\" d=\"M52.9,-38.96C64.17,-36.44 77.69,-33.71 90,-32 140.07,-25.06 197.58,-21.51 238.62,-19.72\"/>\n",
       "<polygon fill=\"#000000\" stroke=\"#000000\" points=\"238.63,-23.18 248.47,-19.27 238.34,-16.19 238.63,-23.18\"/>\n",
       "<text text-anchor=\"middle\" x=\"151.88\" y=\"-33.7\" font-family=\"Helvetica,Arial,sans-serif\" font-size=\"14.00\" fill=\"#000000\">0.234356004347304</text>\n",
       "</g>\n",
       "<!-- 1,0,1,0,0&#45;&gt;Absorb -->\n",
       "<g id=\"edge3\" class=\"edge\">\n",
       "<title>1,0,1,0,0&#45;&gt;Absorb</title>\n",
       "<path fill=\"none\" stroke=\"#000000\" d=\"M336.11,-65.63C358.36,-62.15 385.98,-57.85 409.04,-54.25\"/>\n",
       "<polygon fill=\"#000000\" stroke=\"#000000\" points=\"409.28,-57.6 418.62,-52.6 408.2,-50.68 409.28,-57.6\"/>\n",
       "<text text-anchor=\"middle\" x=\"378.54\" y=\"-60.7\" font-family=\"Helvetica,Arial,sans-serif\" font-size=\"14.00\" fill=\"#000000\">2</text>\n",
       "</g>\n",
       "<!-- 0,2,0,0,0&#45;&gt;Absorb -->\n",
       "<g id=\"edge4\" class=\"edge\">\n",
       "<title>0,2,0,0,0&#45;&gt;Absorb</title>\n",
       "<path fill=\"none\" stroke=\"#000000\" d=\"M335.28,-25.24C357.85,-29.33 386.13,-34.45 409.59,-38.69\"/>\n",
       "<polygon fill=\"#000000\" stroke=\"#000000\" points=\"408.86,-42.3 419.33,-40.64 410.11,-35.41 408.86,-42.3\"/>\n",
       "<text text-anchor=\"middle\" x=\"378.54\" y=\"-34.7\" font-family=\"Helvetica,Arial,sans-serif\" font-size=\"14.00\" fill=\"#000000\">1</text>\n",
       "</g>\n",
       "</g>\n",
       "</svg>\n"
      ]
     },
     "metadata": {},
     "output_type": "display_data"
    }
   ],
   "source": [
    "plot_graph(graph_as_matrix(reward_transform(laplace_graph, laplace_rewards)), fontsize=14, ranksep=1, nodesep=0.25)"
   ]
  },
  {
   "cell_type": "code",
   "execution_count": 90,
   "id": "524cc426-b4b8-478a-815a-653382b0997e",
   "metadata": {},
   "outputs": [
    {
     "data": {
      "text/html": [
       "<dl>\n",
       "\t<dt>$states</dt>\n",
       "\t\t<dd><table class=\"dataframe\">\n",
       "<caption>A matrix: 4 × 6 of type dbl</caption>\n",
       "<tbody>\n",
       "\t<tr><td>4</td><td>0</td><td>0</td><td>0</td><td>0</td><td>1</td></tr>\n",
       "\t<tr><td>2</td><td>1</td><td>0</td><td>0</td><td>0</td><td>1</td></tr>\n",
       "\t<tr><td>0</td><td>2</td><td>0</td><td>0</td><td>0</td><td>1</td></tr>\n",
       "\t<tr><td>1</td><td>0</td><td>1</td><td>0</td><td>0</td><td>1</td></tr>\n",
       "</tbody>\n",
       "</table>\n",
       "</dd>\n",
       "\t<dt>$SIM</dt>\n",
       "\t\t<dd><table class=\"dataframe\">\n",
       "<caption>A matrix: 4 × 4 of type dbl</caption>\n",
       "<tbody>\n",
       "\t<tr><td>-6.345</td><td> 6.000</td><td> 0.000</td><td> 0.000</td></tr>\n",
       "\t<tr><td> 0.000</td><td>-3.345</td><td> 1.000</td><td> 2.000</td></tr>\n",
       "\t<tr><td> 0.000</td><td> 0.000</td><td>-1.345</td><td> 0.000</td></tr>\n",
       "\t<tr><td> 0.000</td><td> 0.000</td><td> 0.000</td><td>-1.345</td></tr>\n",
       "</tbody>\n",
       "</table>\n",
       "</dd>\n",
       "\t<dt>$IPV</dt>\n",
       "\t\t<dd><style>\n",
       ".list-inline {list-style: none; margin:0; padding: 0}\n",
       ".list-inline>li {display: inline-block}\n",
       ".list-inline>li:not(:last-child)::after {content: \"\\00b7\"; padding: 0 .5ex}\n",
       "</style>\n",
       "<ol class=list-inline><li>1</li><li>0</li><li>0</li><li>0</li></ol>\n",
       "</dd>\n",
       "\t<dt>$indices</dt>\n",
       "\t\t<dd><style>\n",
       ".list-inline {list-style: none; margin:0; padding: 0}\n",
       ".list-inline>li {display: inline-block}\n",
       ".list-inline>li:not(:last-child)::after {content: \"\\00b7\"; padding: 0 .5ex}\n",
       "</style>\n",
       "<ol class=list-inline><li>2</li><li>3</li><li>4</li><li>5</li></ol>\n",
       "</dd>\n",
       "</dl>\n"
      ],
      "text/latex": [
       "\\begin{description}\n",
       "\\item[\\$states] A matrix: 4 × 6 of type dbl\n",
       "\\begin{tabular}{llllll}\n",
       "\t 4 & 0 & 0 & 0 & 0 & 1\\\\\n",
       "\t 2 & 1 & 0 & 0 & 0 & 1\\\\\n",
       "\t 0 & 2 & 0 & 0 & 0 & 1\\\\\n",
       "\t 1 & 0 & 1 & 0 & 0 & 1\\\\\n",
       "\\end{tabular}\n",
       "\n",
       "\\item[\\$SIM] A matrix: 4 × 4 of type dbl\n",
       "\\begin{tabular}{llll}\n",
       "\t -6.345 &  6.000 &  0.000 &  0.000\\\\\n",
       "\t  0.000 & -3.345 &  1.000 &  2.000\\\\\n",
       "\t  0.000 &  0.000 & -1.345 &  0.000\\\\\n",
       "\t  0.000 &  0.000 &  0.000 & -1.345\\\\\n",
       "\\end{tabular}\n",
       "\n",
       "\\item[\\$IPV] \\begin{enumerate*}\n",
       "\\item 1\n",
       "\\item 0\n",
       "\\item 0\n",
       "\\item 0\n",
       "\\end{enumerate*}\n",
       "\n",
       "\\item[\\$indices] \\begin{enumerate*}\n",
       "\\item 2\n",
       "\\item 3\n",
       "\\item 4\n",
       "\\item 5\n",
       "\\end{enumerate*}\n",
       "\n",
       "\\end{description}\n"
      ],
      "text/markdown": [
       "$states\n",
       ":   \n",
       "A matrix: 4 × 6 of type dbl\n",
       "\n",
       "| 4 | 0 | 0 | 0 | 0 | 1 |\n",
       "| 2 | 1 | 0 | 0 | 0 | 1 |\n",
       "| 0 | 2 | 0 | 0 | 0 | 1 |\n",
       "| 1 | 0 | 1 | 0 | 0 | 1 |\n",
       "\n",
       "\n",
       "$SIM\n",
       ":   \n",
       "A matrix: 4 × 4 of type dbl\n",
       "\n",
       "| -6.345 |  6.000 |  0.000 |  0.000 |\n",
       "|  0.000 | -3.345 |  1.000 |  2.000 |\n",
       "|  0.000 |  0.000 | -1.345 |  0.000 |\n",
       "|  0.000 |  0.000 |  0.000 | -1.345 |\n",
       "\n",
       "\n",
       "$IPV\n",
       ":   1. 1\n",
       "2. 0\n",
       "3. 0\n",
       "4. 0\n",
       "\n",
       "\n",
       "\n",
       "$indices\n",
       ":   1. 2\n",
       "2. 3\n",
       "3. 4\n",
       "4. 5\n",
       "\n",
       "\n",
       "\n",
       "\n",
       "\n"
      ],
      "text/plain": [
       "$states\n",
       "     [,1] [,2] [,3] [,4] [,5] [,6]\n",
       "[1,]    4    0    0    0    0    1\n",
       "[2,]    2    1    0    0    0    1\n",
       "[3,]    0    2    0    0    0    1\n",
       "[4,]    1    0    1    0    0    1\n",
       "\n",
       "$SIM\n",
       "       [,1]   [,2]   [,3]   [,4]\n",
       "[1,] -6.345  6.000  0.000  0.000\n",
       "[2,]  0.000 -3.345  1.000  2.000\n",
       "[3,]  0.000  0.000 -1.345  0.000\n",
       "[4,]  0.000  0.000  0.000 -1.345\n",
       "\n",
       "$IPV\n",
       "[1] 1 0 0 0\n",
       "\n",
       "$indices\n",
       "[1] 2 3 4 5\n"
      ]
     },
     "metadata": {},
     "output_type": "display_data"
    }
   ],
   "source": [
    "graph_as_matrix(laplace_graph)"
   ]
  },
  {
   "cell_type": "code",
   "execution_count": 91,
   "id": "2836fa25-74eb-4274-b6a1-a845c60c94c6",
   "metadata": {},
   "outputs": [
    {
     "data": {
      "text/html": [
       "<style>\n",
       ".list-inline {list-style: none; margin:0; padding: 0}\n",
       ".list-inline>li {display: inline-block}\n",
       ".list-inline>li:not(:last-child)::after {content: \"\\00b7\"; padding: 0 .5ex}\n",
       "</style>\n",
       "<ol class=list-inline><li>0.630554271786468</li><li>0.630554271786468</li><li>0.66681114241419</li><li>0.743494423791822</li><li>0.743494423791822</li><li>0</li></ol>\n"
      ],
      "text/latex": [
       "\\begin{enumerate*}\n",
       "\\item 0.630554271786468\n",
       "\\item 0.630554271786468\n",
       "\\item 0.66681114241419\n",
       "\\item 0.743494423791822\n",
       "\\item 0.743494423791822\n",
       "\\item 0\n",
       "\\end{enumerate*}\n"
      ],
      "text/markdown": [
       "1. 0.630554271786468\n",
       "2. 0.630554271786468\n",
       "3. 0.66681114241419\n",
       "4. 0.743494423791822\n",
       "5. 0.743494423791822\n",
       "6. 0\n",
       "\n",
       "\n"
      ],
      "text/plain": [
       "[1] 0.6305543 0.6305543 0.6668111 0.7434944 0.7434944 0.0000000"
      ]
     },
     "metadata": {},
     "output_type": "display_data"
    }
   ],
   "source": [
    "expected_waiting_time(laplace_graph, laplace_rewards)"
   ]
  },
  {
   "cell_type": "code",
   "execution_count": null,
   "id": "2c2bb82a-b5e1-4bdc-a4f0-831e39fbdf65",
   "metadata": {},
   "outputs": [],
   "source": []
  },
  {
   "cell_type": "code",
   "execution_count": null,
   "id": "61cdef58-d022-4d2b-9b7b-d51222b7d994",
   "metadata": {},
   "outputs": [],
   "source": [
    "laplace_transform(graph, theta=0.345)"
   ]
  },
  {
   "cell_type": "code",
   "execution_count": null,
   "id": "95e28202-dfc1-47e0-928a-a169a9ab1e5c",
   "metadata": {},
   "outputs": [],
   "source": []
  },
  {
   "cell_type": "code",
   "execution_count": null,
   "id": "7a68107b-859c-4e6d-8586-e12f5c3f6476",
   "metadata": {},
   "outputs": [],
   "source": []
  },
  {
   "cell_type": "code",
   "execution_count": null,
   "id": "99298863-3618-4127-98f7-9aeb007460c4",
   "metadata": {},
   "outputs": [],
   "source": [
    "grid_graph <- function(n) {\n",
    "          \n",
    "    state_vector_length <- 2\n",
    "    graph <- create_graph(state_vector_length)\n",
    "    starting_vertex <- vertex_at(graph, 1)\n",
    "    initial_state <- c(1, 1)\n",
    "    \n",
    "    add_edge(\n",
    "      starting_vertex,\n",
    "        find_or_create_vertex(graph, initial_state), 1, c(1) ) \n",
    "      # create_vertex(graph, initial_state), 1, c(1))  \n",
    "    index <- 2\n",
    "    \n",
    "    while (index <= vertices_length(graph)) {\n",
    "      vertex <- vertex_at(graph, index)\n",
    "\n",
    "      state <- vertex$state\n",
    "\n",
    "      if (0 < state[1] && 0 < state[2]) {\n",
    "\n",
    "          if (state[1] == state[2]) {\n",
    "              child_state <- state\n",
    "              child_state[1] <- 0\n",
    "              child_state[2] <- 0       \n",
    "              add_edge(vertex, find_or_create_vertex(graph, child_state), 1, c(1) )                \n",
    "           }\n",
    "            \n",
    "          child_state <- state\n",
    "          child_state[1] <- child_state[1] + 1\n",
    "          if (0 < child_state[1] && child_state[1] < n && 0 < child_state[2] && child_state[2] < n) {\n",
    "              add_edge(vertex, find_or_create_vertex(graph, child_state), 1, c(1))\n",
    "          }\n",
    "          child_state <- state\n",
    "          child_state[1] <- child_state[1] - 1\n",
    "          if (0 < child_state[1] && child_state[1] < n && 0 < child_state[2] && child_state[2] < n) {\n",
    "              add_edge(vertex, find_or_create_vertex(graph, child_state), 1, c(1))\n",
    "          }\n",
    "          child_state <- state\n",
    "          child_state[2] <- child_state[2] + 1\n",
    "          if (0 < child_state[1] && child_state[1] < n && 0 < child_state[2] && child_state[2] < n) {\n",
    "              add_edge(vertex, find_or_create_vertex(graph, child_state), 1, c(1))\n",
    "          }\n",
    "          child_state <- state\n",
    "          child_state[2] <- child_state[2] - 1\n",
    "          if (0 < child_state[1] && child_state[1] < n && 0 < child_state[2] && child_state[2] < n) {\n",
    "              add_edge(vertex, find_or_create_vertex(graph, child_state), 1, c(1))\n",
    "          }\n",
    "      }\n",
    "    index <- index + 1\n",
    "    }\n",
    "    return(graph)\n",
    "}"
   ]
  },
  {
   "cell_type": "code",
   "execution_count": null,
   "id": "b4be46d9-3770-48e7-80cf-7fc6645154f4",
   "metadata": {},
   "outputs": [],
   "source": [
    "graph <- grid_graph(4)\n",
    "#graph_as_matrix(graph)\n",
    "vertices_length(graph)"
   ]
  },
  {
   "cell_type": "code",
   "execution_count": null,
   "id": "b98a6b87-b097-4be2-9ea8-290765af5f88",
   "metadata": {},
   "outputs": [],
   "source": [
    "#plot_graph(graph_as_matrix(graph))"
   ]
  },
  {
   "cell_type": "code",
   "execution_count": null,
   "id": "1a72e0dc-13ba-46ed-a369-98169678b0a5",
   "metadata": {},
   "outputs": [],
   "source": [
    "times <- c()\n",
    "for (i in 1:10) {\n",
    "    start <- proc.time()[3]\n",
    "    expect <- expectation(graph)\n",
    "#    prob = laplace_transform(graph, theta=3)\n",
    "    end <- proc.time()[3]\n",
    "    times <- c(times, (end - start))\n",
    "}\n",
    "mean(times)"
   ]
  },
  {
   "cell_type": "code",
   "execution_count": null,
   "id": "212d1515-68ba-43f3-b8e9-6c9aab336677",
   "metadata": {},
   "outputs": [],
   "source": []
  },
  {
   "cell_type": "code",
   "execution_count": null,
   "id": "d6258531-9224-4f08-a3bc-be49c1a073c4",
   "metadata": {},
   "outputs": [],
   "source": []
  },
  {
   "cell_type": "markdown",
   "id": "4a5a4a78-c375-4ac2-9e09-d080605089d1",
   "metadata": {},
   "source": [
    "That way you can take, say, a standard coalescent,"
   ]
  },
  {
   "cell_type": "code",
   "execution_count": 19,
   "id": "3cc2d7d1-00c3-4578-8a35-2564608f33d9",
   "metadata": {},
   "outputs": [
    {
     "data": {
      "image/svg+xml": [
       "<?xml version=\"1.0\" encoding=\"UTF-8\" standalone=\"no\"?>\n",
       "<!DOCTYPE svg PUBLIC \"-//W3C//DTD SVG 1.1//EN\"\n",
       " \"http://www.w3.org/Graphics/SVG/1.1/DTD/svg11.dtd\">\n",
       "<!-- Generated by graphviz version 8.1.0 (0)\n",
       " -->\n",
       "<!-- Title: G Pages: 1 -->\n",
       "<svg width=\"432pt\" height=\"89pt\"\n",
       " viewBox=\"0.00 0.00 432.00 88.87\" xmlns=\"http://www.w3.org/2000/svg\" xmlns:xlink=\"http://www.w3.org/1999/xlink\">\n",
       "<g id=\"graph0\" class=\"graph\" transform=\"scale(0.548575 0.548575) rotate(0) translate(36 126)\">\n",
       "<title>G</title>\n",
       "<polygon fill=\"white\" stroke=\"none\" points=\"-36,36 -36,-126 751.49,-126 751.49,36 -36,36\"/>\n",
       "<!-- Absorb -->\n",
       "<g id=\"node1\" class=\"node\">\n",
       "<title>Absorb</title>\n",
       "<ellipse fill=\"white\" stroke=\"lightgrey\" cx=\"677.31\" cy=\"-45\" rx=\"38.18\" ry=\"18\"/>\n",
       "<text text-anchor=\"middle\" x=\"677.31\" y=\"-39.2\" font-family=\"Helvetica,Arial,sans-serif\" font-size=\"14.00\">Absorb</text>\n",
       "</g>\n",
       "<!-- IPV -->\n",
       "<g id=\"node2\" class=\"node\">\n",
       "<title>IPV</title>\n",
       "<ellipse fill=\"white\" stroke=\"lightgrey\" cx=\"27\" cy=\"-45\" rx=\"27\" ry=\"18\"/>\n",
       "<text text-anchor=\"middle\" x=\"27\" y=\"-39.2\" font-family=\"Helvetica,Arial,sans-serif\" font-size=\"14.00\">IPV</text>\n",
       "</g>\n",
       "<!-- 4,0,0,0,0 -->\n",
       "<g id=\"node3\" class=\"node\">\n",
       "<title>4,0,0,0,0</title>\n",
       "<ellipse fill=\"white\" stroke=\"black\" cx=\"178.02\" cy=\"-45\" rx=\"44.52\" ry=\"18\"/>\n",
       "<text text-anchor=\"middle\" x=\"178.02\" y=\"-39.2\" font-family=\"Helvetica,Arial,sans-serif\" font-size=\"14.00\">4,0,0,0,0</text>\n",
       "</g>\n",
       "<!-- IPV&#45;&gt;4,0,0,0,0 -->\n",
       "<g id=\"edge1\" class=\"edge\">\n",
       "<title>IPV&#45;&gt;4,0,0,0,0</title>\n",
       "<path fill=\"none\" stroke=\"#000000\" d=\"M54.3,-45C73.13,-45 99.15,-45 122.39,-45\"/>\n",
       "<polygon fill=\"#000000\" stroke=\"#000000\" points=\"122.18,-48.5 132.18,-45 122.18,-41.5 122.18,-48.5\"/>\n",
       "<text text-anchor=\"middle\" x=\"93.75\" y=\"-46.7\" font-family=\"Helvetica,Arial,sans-serif\" font-size=\"14.00\" fill=\"#000000\">1</text>\n",
       "</g>\n",
       "<!-- 2,1,0,0,0 -->\n",
       "<g id=\"node4\" class=\"node\">\n",
       "<title>2,1,0,0,0</title>\n",
       "<ellipse fill=\"white\" stroke=\"black\" cx=\"346.56\" cy=\"-45\" rx=\"44.52\" ry=\"18\"/>\n",
       "<text text-anchor=\"middle\" x=\"346.56\" y=\"-39.2\" font-family=\"Helvetica,Arial,sans-serif\" font-size=\"14.00\">2,1,0,0,0</text>\n",
       "</g>\n",
       "<!-- 4,0,0,0,0&#45;&gt;2,1,0,0,0 -->\n",
       "<g id=\"edge2\" class=\"edge\">\n",
       "<title>4,0,0,0,0&#45;&gt;2,1,0,0,0</title>\n",
       "<path fill=\"none\" stroke=\"#000000\" d=\"M222.78,-45C243.64,-45 268.8,-45 290.9,-45\"/>\n",
       "<polygon fill=\"#000000\" stroke=\"#000000\" points=\"290.81,-48.5 300.81,-45 290.81,-41.5 290.81,-48.5\"/>\n",
       "<text text-anchor=\"middle\" x=\"262.29\" y=\"-46.7\" font-family=\"Helvetica,Arial,sans-serif\" font-size=\"14.00\" fill=\"#000000\">6</text>\n",
       "</g>\n",
       "<!-- 0,2,0,0,0 -->\n",
       "<g id=\"node5\" class=\"node\">\n",
       "<title>0,2,0,0,0</title>\n",
       "<ellipse fill=\"white\" stroke=\"black\" cx=\"515.11\" cy=\"-72\" rx=\"44.52\" ry=\"18\"/>\n",
       "<text text-anchor=\"middle\" x=\"515.11\" y=\"-66.2\" font-family=\"Helvetica,Arial,sans-serif\" font-size=\"14.00\">0,2,0,0,0</text>\n",
       "</g>\n",
       "<!-- 2,1,0,0,0&#45;&gt;0,2,0,0,0 -->\n",
       "<g id=\"edge3\" class=\"edge\">\n",
       "<title>2,1,0,0,0&#45;&gt;0,2,0,0,0</title>\n",
       "<path fill=\"none\" stroke=\"#000000\" d=\"M388.3,-51.6C410.68,-55.23 438.67,-59.77 462.56,-63.64\"/>\n",
       "<polygon fill=\"#000000\" stroke=\"#000000\" points=\"461.78,-67.22 472.21,-65.37 462.9,-60.31 461.78,-67.22\"/>\n",
       "<text text-anchor=\"middle\" x=\"430.83\" y=\"-59.7\" font-family=\"Helvetica,Arial,sans-serif\" font-size=\"14.00\" fill=\"#000000\">1</text>\n",
       "</g>\n",
       "<!-- 1,0,1,0,0 -->\n",
       "<g id=\"node6\" class=\"node\">\n",
       "<title>1,0,1,0,0</title>\n",
       "<ellipse fill=\"white\" stroke=\"black\" cx=\"515.11\" cy=\"-18\" rx=\"44.52\" ry=\"18\"/>\n",
       "<text text-anchor=\"middle\" x=\"515.11\" y=\"-12.2\" font-family=\"Helvetica,Arial,sans-serif\" font-size=\"14.00\">1,0,1,0,0</text>\n",
       "</g>\n",
       "<!-- 2,1,0,0,0&#45;&gt;1,0,1,0,0 -->\n",
       "<g id=\"edge4\" class=\"edge\">\n",
       "<title>2,1,0,0,0&#45;&gt;1,0,1,0,0</title>\n",
       "<path fill=\"none\" stroke=\"#000000\" d=\"M388.3,-38.4C410.68,-34.77 438.67,-30.23 462.56,-26.36\"/>\n",
       "<polygon fill=\"#000000\" stroke=\"#000000\" points=\"462.9,-29.69 472.21,-24.63 461.78,-22.78 462.9,-29.69\"/>\n",
       "<text text-anchor=\"middle\" x=\"430.83\" y=\"-33.7\" font-family=\"Helvetica,Arial,sans-serif\" font-size=\"14.00\" fill=\"#000000\">2</text>\n",
       "</g>\n",
       "<!-- 0,2,0,0,0&#45;&gt;Absorb -->\n",
       "<g id=\"edge5\" class=\"edge\">\n",
       "<title>0,2,0,0,0&#45;&gt;Absorb</title>\n",
       "<path fill=\"none\" stroke=\"#000000\" d=\"M556.53,-65.19C578.94,-61.41 606.88,-56.7 630.15,-52.78\"/>\n",
       "<polygon fill=\"#000000\" stroke=\"#000000\" points=\"630.53,-56.1 639.81,-50.98 629.36,-49.19 630.53,-56.1\"/>\n",
       "<text text-anchor=\"middle\" x=\"599.38\" y=\"-59.7\" font-family=\"Helvetica,Arial,sans-serif\" font-size=\"14.00\" fill=\"#000000\">1</text>\n",
       "</g>\n",
       "<!-- 1,0,1,0,0&#45;&gt;Absorb -->\n",
       "<g id=\"edge6\" class=\"edge\">\n",
       "<title>1,0,1,0,0&#45;&gt;Absorb</title>\n",
       "<path fill=\"none\" stroke=\"#000000\" d=\"M556.53,-24.81C578.94,-28.59 606.88,-33.3 630.15,-37.22\"/>\n",
       "<polygon fill=\"#000000\" stroke=\"#000000\" points=\"629.36,-40.81 639.81,-39.02 630.53,-33.9 629.36,-40.81\"/>\n",
       "<text text-anchor=\"middle\" x=\"599.38\" y=\"-34.7\" font-family=\"Helvetica,Arial,sans-serif\" font-size=\"14.00\" fill=\"#000000\">1</text>\n",
       "</g>\n",
       "</g>\n",
       "</svg>\n"
      ]
     },
     "metadata": {},
     "output_type": "display_data"
    }
   ],
   "source": [
    "graph <- standard_coalescent(4)\n",
    "plot_graph(graph_as_matrix(graph), fontsize=14, ranksep=1, nodesep=0.25)"
   ]
  },
  {
   "cell_type": "markdown",
   "id": "38eddb12-6a31-49b0-861f-a4c08b8a2da3",
   "metadata": {},
   "source": [
    "add transition from each state to the absorbing state (add edges or add weight to existing ones), "
   ]
  },
  {
   "cell_type": "code",
   "execution_count": 20,
   "id": "765ed9d8-50d2-42f6-99dd-f1fdec29d2ae",
   "metadata": {},
   "outputs": [
    {
     "data": {
      "image/svg+xml": [
       "<?xml version=\"1.0\" encoding=\"UTF-8\" standalone=\"no\"?>\n",
       "<!DOCTYPE svg PUBLIC \"-//W3C//DTD SVG 1.1//EN\"\n",
       " \"http://www.w3.org/Graphics/SVG/1.1/DTD/svg11.dtd\">\n",
       "<!-- Generated by graphviz version 8.1.0 (0)\n",
       " -->\n",
       "<!-- Title: G Pages: 1 -->\n",
       "<svg width=\"432pt\" height=\"89pt\"\n",
       " viewBox=\"0.00 0.00 432.00 88.87\" xmlns=\"http://www.w3.org/2000/svg\" xmlns:xlink=\"http://www.w3.org/1999/xlink\">\n",
       "<g id=\"graph0\" class=\"graph\" transform=\"scale(0.548575 0.548575) rotate(0) translate(36 126)\">\n",
       "<title>G</title>\n",
       "<polygon fill=\"white\" stroke=\"none\" points=\"-36,36 -36,-126 751.49,-126 751.49,36 -36,36\"/>\n",
       "<!-- Absorb -->\n",
       "<g id=\"node1\" class=\"node\">\n",
       "<title>Absorb</title>\n",
       "<ellipse fill=\"white\" stroke=\"lightgrey\" cx=\"677.31\" cy=\"-45\" rx=\"38.18\" ry=\"18\"/>\n",
       "<text text-anchor=\"middle\" x=\"677.31\" y=\"-39.2\" font-family=\"Helvetica,Arial,sans-serif\" font-size=\"14.00\">Absorb</text>\n",
       "</g>\n",
       "<!-- IPV -->\n",
       "<g id=\"node2\" class=\"node\">\n",
       "<title>IPV</title>\n",
       "<ellipse fill=\"white\" stroke=\"lightgrey\" cx=\"27\" cy=\"-45\" rx=\"27\" ry=\"18\"/>\n",
       "<text text-anchor=\"middle\" x=\"27\" y=\"-39.2\" font-family=\"Helvetica,Arial,sans-serif\" font-size=\"14.00\">IPV</text>\n",
       "</g>\n",
       "<!-- 4,0,0,0,0 -->\n",
       "<g id=\"node3\" class=\"node\">\n",
       "<title>4,0,0,0,0</title>\n",
       "<ellipse fill=\"white\" stroke=\"black\" cx=\"178.02\" cy=\"-45\" rx=\"44.52\" ry=\"18\"/>\n",
       "<text text-anchor=\"middle\" x=\"178.02\" y=\"-39.2\" font-family=\"Helvetica,Arial,sans-serif\" font-size=\"14.00\">4,0,0,0,0</text>\n",
       "</g>\n",
       "<!-- IPV&#45;&gt;4,0,0,0,0 -->\n",
       "<g id=\"edge1\" class=\"edge\">\n",
       "<title>IPV&#45;&gt;4,0,0,0,0</title>\n",
       "<path fill=\"none\" stroke=\"#000000\" d=\"M54.3,-45C73.13,-45 99.15,-45 122.39,-45\"/>\n",
       "<polygon fill=\"#000000\" stroke=\"#000000\" points=\"122.18,-48.5 132.18,-45 122.18,-41.5 122.18,-48.5\"/>\n",
       "<text text-anchor=\"middle\" x=\"93.75\" y=\"-46.7\" font-family=\"Helvetica,Arial,sans-serif\" font-size=\"14.00\" fill=\"#000000\">1</text>\n",
       "</g>\n",
       "<!-- 2,1,0,0,0 -->\n",
       "<g id=\"node4\" class=\"node\">\n",
       "<title>2,1,0,0,0</title>\n",
       "<ellipse fill=\"white\" stroke=\"black\" cx=\"346.56\" cy=\"-45\" rx=\"44.52\" ry=\"18\"/>\n",
       "<text text-anchor=\"middle\" x=\"346.56\" y=\"-39.2\" font-family=\"Helvetica,Arial,sans-serif\" font-size=\"14.00\">2,1,0,0,0</text>\n",
       "</g>\n",
       "<!-- 4,0,0,0,0&#45;&gt;2,1,0,0,0 -->\n",
       "<g id=\"edge2\" class=\"edge\">\n",
       "<title>4,0,0,0,0&#45;&gt;2,1,0,0,0</title>\n",
       "<path fill=\"none\" stroke=\"#000000\" d=\"M222.78,-45C243.64,-45 268.8,-45 290.9,-45\"/>\n",
       "<polygon fill=\"#000000\" stroke=\"#000000\" points=\"290.81,-48.5 300.81,-45 290.81,-41.5 290.81,-48.5\"/>\n",
       "<text text-anchor=\"middle\" x=\"262.29\" y=\"-46.7\" font-family=\"Helvetica,Arial,sans-serif\" font-size=\"14.00\" fill=\"#000000\">6</text>\n",
       "</g>\n",
       "<!-- 0,2,0,0,0 -->\n",
       "<g id=\"node5\" class=\"node\">\n",
       "<title>0,2,0,0,0</title>\n",
       "<ellipse fill=\"white\" stroke=\"black\" cx=\"515.11\" cy=\"-72\" rx=\"44.52\" ry=\"18\"/>\n",
       "<text text-anchor=\"middle\" x=\"515.11\" y=\"-66.2\" font-family=\"Helvetica,Arial,sans-serif\" font-size=\"14.00\">0,2,0,0,0</text>\n",
       "</g>\n",
       "<!-- 2,1,0,0,0&#45;&gt;0,2,0,0,0 -->\n",
       "<g id=\"edge3\" class=\"edge\">\n",
       "<title>2,1,0,0,0&#45;&gt;0,2,0,0,0</title>\n",
       "<path fill=\"none\" stroke=\"#000000\" d=\"M388.3,-51.6C410.68,-55.23 438.67,-59.77 462.56,-63.64\"/>\n",
       "<polygon fill=\"#000000\" stroke=\"#000000\" points=\"461.78,-67.22 472.21,-65.37 462.9,-60.31 461.78,-67.22\"/>\n",
       "<text text-anchor=\"middle\" x=\"430.83\" y=\"-59.7\" font-family=\"Helvetica,Arial,sans-serif\" font-size=\"14.00\" fill=\"#000000\">1</text>\n",
       "</g>\n",
       "<!-- 1,0,1,0,0 -->\n",
       "<g id=\"node6\" class=\"node\">\n",
       "<title>1,0,1,0,0</title>\n",
       "<ellipse fill=\"white\" stroke=\"black\" cx=\"515.11\" cy=\"-18\" rx=\"44.52\" ry=\"18\"/>\n",
       "<text text-anchor=\"middle\" x=\"515.11\" y=\"-12.2\" font-family=\"Helvetica,Arial,sans-serif\" font-size=\"14.00\">1,0,1,0,0</text>\n",
       "</g>\n",
       "<!-- 2,1,0,0,0&#45;&gt;1,0,1,0,0 -->\n",
       "<g id=\"edge4\" class=\"edge\">\n",
       "<title>2,1,0,0,0&#45;&gt;1,0,1,0,0</title>\n",
       "<path fill=\"none\" stroke=\"#000000\" d=\"M388.3,-38.4C410.68,-34.77 438.67,-30.23 462.56,-26.36\"/>\n",
       "<polygon fill=\"#000000\" stroke=\"#000000\" points=\"462.9,-29.69 472.21,-24.63 461.78,-22.78 462.9,-29.69\"/>\n",
       "<text text-anchor=\"middle\" x=\"430.83\" y=\"-33.7\" font-family=\"Helvetica,Arial,sans-serif\" font-size=\"14.00\" fill=\"#000000\">2</text>\n",
       "</g>\n",
       "<!-- 0,2,0,0,0&#45;&gt;Absorb -->\n",
       "<g id=\"edge5\" class=\"edge\">\n",
       "<title>0,2,0,0,0&#45;&gt;Absorb</title>\n",
       "<path fill=\"none\" stroke=\"#000000\" d=\"M556.53,-65.19C578.94,-61.41 606.88,-56.7 630.15,-52.78\"/>\n",
       "<polygon fill=\"#000000\" stroke=\"#000000\" points=\"630.53,-56.1 639.81,-50.98 629.36,-49.19 630.53,-56.1\"/>\n",
       "<text text-anchor=\"middle\" x=\"599.38\" y=\"-59.7\" font-family=\"Helvetica,Arial,sans-serif\" font-size=\"14.00\" fill=\"#000000\">1</text>\n",
       "</g>\n",
       "<!-- 1,0,1,0,0&#45;&gt;Absorb -->\n",
       "<g id=\"edge6\" class=\"edge\">\n",
       "<title>1,0,1,0,0&#45;&gt;Absorb</title>\n",
       "<path fill=\"none\" stroke=\"#000000\" d=\"M556.53,-24.81C578.94,-28.59 606.88,-33.3 630.15,-37.22\"/>\n",
       "<polygon fill=\"#000000\" stroke=\"#000000\" points=\"629.36,-40.81 639.81,-39.02 630.53,-33.9 629.36,-40.81\"/>\n",
       "<text text-anchor=\"middle\" x=\"599.38\" y=\"-34.7\" font-family=\"Helvetica,Arial,sans-serif\" font-size=\"14.00\" fill=\"#000000\">1</text>\n",
       "</g>\n",
       "</g>\n",
       "</svg>\n"
      ]
     },
     "metadata": {},
     "output_type": "display_data"
    }
   ],
   "source": [
    "graph <- standard_coalescent(4)\n",
    "laplace_rewards = laplace_transform(graph, theta=0.345)\n",
    "plot_graph(graph_as_matrix(graph), fontsize=14, ranksep=1, nodesep=0.25)"
   ]
  },
  {
   "cell_type": "code",
   "execution_count": 21,
   "id": "1a8a83a7-d0b5-4061-a0cf-0d2c20e7f7c4",
   "metadata": {},
   "outputs": [
    {
     "data": {
      "text/html": [
       "0.848095495552799"
      ],
      "text/latex": [
       "0.848095495552799"
      ],
      "text/markdown": [
       "0.848095495552799"
      ],
      "text/plain": [
       "[1] 0.8480955"
      ]
     },
     "metadata": {},
     "output_type": "display_data"
    }
   ],
   "source": [
    "laplace_rewards"
   ]
  },
  {
   "cell_type": "markdown",
   "id": "eb8ac23f-fc81-4ed5-b8e1-89196cfe3161",
   "metadata": {},
   "source": [
    "Using the rewards, we can get expectations beginning in each state,"
   ]
  },
  {
   "cell_type": "code",
   "execution_count": null,
   "id": "0a02b1c3-7a08-4750-9c58-a90da0b8146b",
   "metadata": {},
   "outputs": [],
   "source": [
    "expected_waiting_time(graph, laplace_rewards)"
   ]
  },
  {
   "cell_type": "markdown",
   "id": "9b868453-5ccd-4603-927a-7be24c445fd6",
   "metadata": {},
   "source": [
    "or just the normal expectation:"
   ]
  },
  {
   "cell_type": "code",
   "execution_count": null,
   "id": "0257cf3a-e23a-4022-91b3-fd4fc804d91d",
   "metadata": {},
   "outputs": [],
   "source": [
    "expectation(graph, laplace_rewards)"
   ]
  },
  {
   "cell_type": "markdown",
   "id": "200bade2-c30c-46bb-8095-6588a71bef9c",
   "metadata": {},
   "source": [
    "The rewards serve to disregard accumulated waiting time at all but the states connected to an absorbing state before the transformation. So to get the graph corresponding to the completed laplace transform, we can just do the reward transformation:"
   ]
  },
  {
   "cell_type": "code",
   "execution_count": null,
   "id": "5b758710-6b40-472d-bbdc-509d24f66d71",
   "metadata": {},
   "outputs": [],
   "source": [
    "laplace_graph = reward_transform(graph, laplace_rewards)\n",
    "plot_graph(graph_as_matrix(laplace_graph), fontsize=14, ranksep=1, nodesep=0.25)"
   ]
  },
  {
   "cell_type": "markdown",
   "id": "29ee5cf7-452e-4b3f-ad35-d4395d12bfeb",
   "metadata": {},
   "source": [
    "Now it is a continuous phase-type distribution like any other, and we can use all the graph machinery to characterize it:"
   ]
  },
  {
   "cell_type": "markdown",
   "id": "fa982196-7e10-499e-8886-91c241f35b1d",
   "metadata": {},
   "source": [
    "Expectation:"
   ]
  },
  {
   "cell_type": "code",
   "execution_count": null,
   "id": "92233b78-9cf0-40ea-8241-c65089ed31db",
   "metadata": {},
   "outputs": [],
   "source": [
    "expectation(laplace_graph)"
   ]
  },
  {
   "cell_type": "markdown",
   "id": "a25b143a-5128-450d-b337-a125b074e8c4",
   "metadata": {},
   "source": [
    "Higher moments:"
   ]
  },
  {
   "cell_type": "code",
   "execution_count": null,
   "id": "7199fead-4b2a-4f2d-99f9-1dabf936291a",
   "metadata": {},
   "outputs": [],
   "source": [
    "moments(laplace_graph, 10)"
   ]
  },
  {
   "cell_type": "markdown",
   "id": "a064bb5c-feb2-4907-81cf-7ef04fc64b77",
   "metadata": {},
   "source": [
    "PDF:"
   ]
  },
  {
   "cell_type": "code",
   "execution_count": null,
   "id": "5bc0ea5d-7ceb-4bda-8093-d5879d27b937",
   "metadata": {},
   "outputs": [],
   "source": [
    "result = data.frame()\n",
    "for (u in seq(0, 2, 0.5)) {\n",
    "    graph <- standard_coalescent(4)\n",
    "    laplace_rewards = laplace_transform(graph, u)\n",
    "    x <- seq(from = 0, to = 10, by = 0.01)\n",
    "    pdf <- dph(x, reward_transform(graph, laplace_rewards))\n",
    "    df <- data.frame(density = pdf, probability=x, u=u)\n",
    "    result <- rbind(result, df)\n",
    "}\n",
    "result %>% ggplot(aes(y=density, x=probability, group=u, color=u)) +\n",
    "        geom_line(linewidth=1) + scale_color_viridis() + despine"
   ]
  },
  {
   "cell_type": "markdown",
   "id": "e5117428-94b0-4a1b-8be9-ad3a41ab88d0",
   "metadata": {},
   "source": [
    "# Guesstimating speed for Kasper's hex grid model"
   ]
  },
  {
   "cell_type": "markdown",
   "id": "672c6ef6-0355-4ee9-912f-0e8543c2d2e3",
   "metadata": {},
   "source": [
    "**Runs or connected states (most comparable to hex grid):**"
   ]
  },
  {
   "cell_type": "code",
   "execution_count": null,
   "id": "ef71d34e-5fd4-474d-a2d9-c8b14315edf7",
   "metadata": {},
   "outputs": [],
   "source": [
    "d <- 1000\n",
    "S <- matrix(0, d, d)\n",
    "for (i in 1:d)\n",
    "    S[i, min(d, i+1):min(d,(i+5))] = 1\n",
    "diag(S) <- 0\n",
    "r <- rowSums(S)\n",
    "r[length(r)] <- r[length(r)] + 1\n",
    "diag(S) <- -r\n",
    "#S"
   ]
  },
  {
   "cell_type": "code",
   "execution_count": null,
   "id": "2acabc96-0ede-4619-8a27-2a9f70ea1b65",
   "metadata": {},
   "outputs": [],
   "source": [
    "ipv <- c(1, rep(0, d-1))\n",
    "graph <- matrix_as_graph(ipv, S)\n",
    "times <- c()\n",
    "for (i in 1:10) {\n",
    "    start <- proc.time()[3]\n",
    "    prob = laplace_transform(graph, theta=3)\n",
    "    # laplace_rewards = laplace_transform(graph, theta=3)\n",
    "    # expectation(graph, laplace_rewards)    \n",
    "    end <- proc.time()[3]\n",
    "    times <- c(times, (end - start))\n",
    "}\n",
    "mean(times)"
   ]
  },
  {
   "cell_type": "markdown",
   "id": "ec6a1868-bc16-4038-befe-265be09fd44b",
   "metadata": {},
   "source": [
    "**Modulo connected states:**"
   ]
  },
  {
   "cell_type": "code",
   "execution_count": null,
   "id": "5c9c0dcc-50ea-491d-ae42-8e265107bfaa",
   "metadata": {},
   "outputs": [],
   "source": [
    "d <- 1000\n",
    "S <- matrix(as.integer(1:(d**2) %% 6 == 0), d, d, byrow=TRUE)\n",
    "diag(S) <- 0\n",
    "r <- rowSums(S)\n",
    "r[length(r)] <- r[length(r)] + 1\n",
    "diag(S) <- -r\n",
    "#S"
   ]
  },
  {
   "cell_type": "code",
   "execution_count": null,
   "id": "99e9aabb-25c2-43b8-bbc3-6f2cf26f492e",
   "metadata": {},
   "outputs": [],
   "source": [
    "ipv <- c(1, rep(0, d-1))\n",
    "graph <- matrix_as_graph(ipv, S)\n",
    "times <- c()\n",
    "for (i in 1:10) {\n",
    "    start <- proc.time()[3]\n",
    "    prob = laplace_transform(graph, theta=3)\n",
    "    # laplace_rewards = laplace_transform(graph, theta=3)\n",
    "    # expectation(graph, laplace_rewards)    \n",
    "    end <- proc.time()[3]\n",
    "    times <- c(times, (end - start))\n",
    "}\n",
    "mean(times)"
   ]
  },
  {
   "cell_type": "markdown",
   "id": "64244727-f0bb-4999-9622-8ea7c4129b9f",
   "metadata": {},
   "source": [
    "**Random connected states:**"
   ]
  },
  {
   "cell_type": "code",
   "execution_count": null,
   "id": "dc6ba29c-2450-48ee-8f80-43fd9da92fe3",
   "metadata": {},
   "outputs": [],
   "source": [
    "d <- 1000\n",
    "S <- matrix(0, d, d)\n",
    "for (i in 1:d)\n",
    "    S[i, sample(1:d, replace=FALSE, size=6)] = 1\n",
    "diag(S) <- 0\n",
    "r <- rowSums(S)\n",
    "r[length(r)] <- r[length(r)] + 1\n",
    "diag(S) <- -r\n",
    "#S"
   ]
  },
  {
   "cell_type": "code",
   "execution_count": null,
   "id": "398d2578-6438-4cdf-bb6c-8a76bd800ec8",
   "metadata": {},
   "outputs": [],
   "source": [
    "ipv <- c(1, rep(0, d-1))\n",
    "graph <- matrix_as_graph(ipv, S)\n",
    "times <- c()\n",
    "for (i in 1:10) {\n",
    "    start <- proc.time()[3]\n",
    "    prob = laplace_transform(graph, theta=3)\n",
    "    # laplace_rewards = laplace_transform(graph, theta=3)\n",
    "    # expectation(graph, laplace_rewards)\n",
    "    end <- proc.time()[3]\n",
    "    times <- c(times, (end - start))\n",
    "}\n",
    "mean(times)"
   ]
  },
  {
   "cell_type": "code",
   "execution_count": null,
   "id": "85773906-7486-43ff-b80c-66999028dc88",
   "metadata": {},
   "outputs": [],
   "source": [
    "grid_graph <- function(n) {\n",
    "          \n",
    "    state_vector_length <- 2\n",
    "    graph <- create_graph(state_vector_length)\n",
    "    starting_vertex <- vertex_at(graph, 1)\n",
    "    initial_state <- c(1, 1)\n",
    "    \n",
    "    add_edge(\n",
    "      starting_vertex,\n",
    "        find_or_create_vertex(graph, initial_state), 1, c(1) ) \n",
    "      # create_vertex(graph, initial_state), 1, c(1))  \n",
    "    index <- 2\n",
    "    \n",
    "    while (index <= vertices_length(graph)) {\n",
    "      vertex <- vertex_at(graph, index)\n",
    "\n",
    "      state <- vertex$state\n",
    "\n",
    "      if (0 < state[1] && 0 < state[2]) {\n",
    "\n",
    "          if (state[1] == state[2]) {\n",
    "              child_state <- state\n",
    "              child_state[1] <- 0\n",
    "              child_state[2] <- 0       \n",
    "              add_edge(vertex, find_or_create_vertex(graph, child_state), 1, c(1) )                \n",
    "           }\n",
    "            \n",
    "          child_state <- state\n",
    "          child_state[1] <- child_state[1] + 1\n",
    "          if (0 < child_state[1] && child_state[1] < n && 0 < child_state[2] && child_state[2] < n) {\n",
    "              add_edge(vertex, find_or_create_vertex(graph, child_state), 1, c(1))\n",
    "          }\n",
    "          child_state <- state\n",
    "          child_state[1] <- child_state[1] - 1\n",
    "          if (0 < child_state[1] && child_state[1] < n && 0 < child_state[2] && child_state[2] < n) {\n",
    "              add_edge(vertex, find_or_create_vertex(graph, child_state), 1, c(1))\n",
    "          }\n",
    "          child_state <- state\n",
    "          child_state[2] <- child_state[2] + 1\n",
    "          if (0 < child_state[1] && child_state[1] < n && 0 < child_state[2] && child_state[2] < n) {\n",
    "              add_edge(vertex, find_or_create_vertex(graph, child_state), 1, c(1))\n",
    "          }\n",
    "          child_state <- state\n",
    "          child_state[2] <- child_state[2] - 1\n",
    "          if (0 < child_state[1] && child_state[1] < n && 0 < child_state[2] && child_state[2] < n) {\n",
    "              add_edge(vertex, find_or_create_vertex(graph, child_state), 1, c(1))\n",
    "          }\n",
    "      }\n",
    "    index <- index + 1\n",
    "    }\n",
    "    return(graph)\n",
    "}"
   ]
  },
  {
   "cell_type": "code",
   "execution_count": null,
   "id": "ff27aa44-33fd-4b98-b93e-beb1f3eecf80",
   "metadata": {},
   "outputs": [],
   "source": []
  },
  {
   "cell_type": "code",
   "execution_count": null,
   "id": "4c400179-6c86-4724-9b6e-70c82a77b31d",
   "metadata": {},
   "outputs": [],
   "source": [
    "#plot_graph(graph_as_matrix(graph))"
   ]
  },
  {
   "cell_type": "code",
   "execution_count": null,
   "id": "c51955ae-e5ff-4076-919a-cbadac8806ab",
   "metadata": {},
   "outputs": [],
   "source": [
    "#graph_as_matrix(graph)"
   ]
  },
  {
   "cell_type": "code",
   "execution_count": null,
   "id": "8e450e16-d320-4cc8-9875-5138bcb7e80f",
   "metadata": {},
   "outputs": [],
   "source": [
    "graph <- grid_graph(1000)"
   ]
  },
  {
   "cell_type": "code",
   "execution_count": null,
   "id": "b3f07600-7321-4577-9f3f-3aa91f183fcf",
   "metadata": {},
   "outputs": [],
   "source": [
    "vertices_length(graph)"
   ]
  },
  {
   "cell_type": "code",
   "execution_count": null,
   "id": "a336b519-f0f5-4af0-bcaa-5120fdabff3d",
   "metadata": {},
   "outputs": [],
   "source": [
    "times <- c()\n",
    "for (i in 1:10) {\n",
    "    start <- proc.time()[3]\n",
    "    # expectation(graph)    \n",
    "    laplace_rewards = laplace_transform(graph, theta=3)\n",
    "    expectation(graph, laplace_rewards)    \n",
    "    end <- proc.time()[3]\n",
    "    times <- c(times, (end - start))\n",
    "}\n",
    "mean(times)"
   ]
  },
  {
   "cell_type": "code",
   "execution_count": null,
   "id": "22df25b2-2367-4265-810d-a61968ccf89f",
   "metadata": {},
   "outputs": [],
   "source": []
  }
 ],
 "metadata": {
  "kernelspec": {
   "display_name": "R",
   "language": "R",
   "name": "ir"
  },
  "language_info": {
   "codemirror_mode": "r",
   "file_extension": ".r",
   "mimetype": "text/x-r-source",
   "name": "R",
   "pygments_lexer": "r",
   "version": "4.3.1"
  }
 },
 "nbformat": 4,
 "nbformat_minor": 5
}
