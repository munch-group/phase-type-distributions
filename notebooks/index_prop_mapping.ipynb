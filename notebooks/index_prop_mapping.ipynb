{
 "cells": [
  {
   "cell_type": "code",
   "execution_count": 27,
   "id": "5c79e727-c40a-4ee6-ba5b-6f0a682818e1",
   "metadata": {},
   "outputs": [],
   "source": [
    "library(devtools)\n",
    "Rcpp::sourceCpp(\"./index_prop_mapping.cpp\")"
   ]
  },
  {
   "cell_type": "markdown",
   "id": "6a54356a-0828-4c25-bf6a-2664ee4fc9ef",
   "metadata": {},
   "source": [
    "# Models"
   ]
  },
  {
   "cell_type": "markdown",
   "id": "08b1f612-af06-482b-9fb9-822db77cd6e9",
   "metadata": {},
   "source": [
    "Sample size:"
   ]
  },
  {
   "cell_type": "code",
   "execution_count": null,
   "id": "ee177fef-e92b-4fe2-a139-a39e4113733d",
   "metadata": {},
   "outputs": [],
   "source": [
    "s <- 2"
   ]
  },
  {
   "cell_type": "markdown",
   "id": "b9634104-9e35-4189-b458-39bfb87514dd",
   "metadata": {},
   "source": [
    "## How to:"
   ]
  },
  {
   "cell_type": "code",
   "execution_count": 70,
   "id": "a22038a7-599d-4c8e-9381-38b5265b02f0",
   "metadata": {},
   "outputs": [],
   "source": [
    "# alias model specific functions to generic names\n",
    "props_to_index <- props_to_index_single_locus\n",
    "index_to_props <- index_to_props_single_locus"
   ]
  },
  {
   "cell_type": "code",
   "execution_count": 71,
   "id": "ca269d28-0bed-4c05-b508-c466de44f947",
   "metadata": {},
   "outputs": [
    {
     "data": {
      "text/html": [
       "3"
      ],
      "text/latex": [
       "3"
      ],
      "text/markdown": [
       "3"
      ],
      "text/plain": [
       "[1] 3"
      ]
     },
     "metadata": {},
     "output_type": "display_data"
    }
   ],
   "source": [
    "# compute size of state space (all arguments are given max value of s)\n",
    "state_size <- props_to_index(s, s)\n",
    "state_size"
   ]
  },
  {
   "cell_type": "code",
   "execution_count": 72,
   "id": "ee2b4061-6427-47a8-8512-a18431d72220",
   "metadata": {},
   "outputs": [
    {
     "data": {
      "text/html": [
       "4"
      ],
      "text/latex": [
       "4"
      ],
      "text/markdown": [
       "4"
      ],
      "text/plain": [
       "[1] 4"
      ]
     },
     "metadata": {},
     "output_type": "display_data"
    }
   ],
   "source": [
    "# just add bins if you need a frequency bin or something else\n",
    "state_size <- state_size + 1\n",
    "state_size"
   ]
  },
  {
   "cell_type": "code",
   "execution_count": 73,
   "id": "7b613e64-8780-4b26-a8a3-4f44c0e4272e",
   "metadata": {},
   "outputs": [
    {
     "data": {
      "text/html": [
       "<dl>\n",
       "\t<dt>$descendants</dt>\n",
       "\t\t<dd>1</dd>\n",
       "\t<dt>$population</dt>\n",
       "\t\t<dd>1</dd>\n",
       "</dl>\n"
      ],
      "text/latex": [
       "\\begin{description}\n",
       "\\item[\\$descendants] 1\n",
       "\\item[\\$population] 1\n",
       "\\end{description}\n"
      ],
      "text/markdown": [
       "$descendants\n",
       ":   1\n",
       "$population\n",
       ":   1\n",
       "\n",
       "\n"
      ],
      "text/plain": [
       "$descendants\n",
       "[1] 1\n",
       "\n",
       "$population\n",
       "[1] 1\n"
      ]
     },
     "metadata": {},
     "output_type": "display_data"
    }
   ],
   "source": [
    "# get lineage properties from state vector index:\n",
    "props <- index_to_props(s, 2)\n",
    "props"
   ]
  },
  {
   "cell_type": "code",
   "execution_count": 74,
   "id": "77061562-a96c-435f-b386-18951f6fe5a9",
   "metadata": {},
   "outputs": [
    {
     "data": {
      "text/html": [
       "2"
      ],
      "text/latex": [
       "2"
      ],
      "text/markdown": [
       "2"
      ],
      "text/plain": [
       "[1] 2"
      ]
     },
     "metadata": {},
     "output_type": "display_data"
    }
   ],
   "source": [
    "# get state vector index from lineage properties:\n",
    "props_to_index(s, props$descendants, props$population)"
   ]
  },
  {
   "cell_type": "markdown",
   "id": "400b18e4-5e17-42ec-ad1b-96dfc6804e4c",
   "metadata": {},
   "source": [
    "### Single locus, n populations\n",
    "\n",
    "Compute state size:"
   ]
  },
  {
   "cell_type": "code",
   "execution_count": 39,
   "id": "2975b98f-a3d4-437c-8c7c-ed9c1a3119d4",
   "metadata": {},
   "outputs": [
    {
     "data": {
      "text/html": [
       "3"
      ],
      "text/latex": [
       "3"
      ],
      "text/markdown": [
       "3"
      ],
      "text/plain": [
       "[1] 3"
      ]
     },
     "metadata": {},
     "output_type": "display_data"
    }
   ],
   "source": [
    "props_to_index <- props_to_index_single_locus\n",
    "index_to_props <- index_to_props_single_locus\n",
    "state_size <- props_to_index(s, s)\n",
    "state_size"
   ]
  },
  {
   "cell_type": "markdown",
   "id": "5ce9e97a-ebb9-418f-9cee-ca46729e8441",
   "metadata": {},
   "source": [
    "Map from index to properties and back:"
   ]
  },
  {
   "cell_type": "code",
   "execution_count": 40,
   "id": "fb0d532c-a515-42df-9efc-4323d5450f2a",
   "metadata": {},
   "outputs": [
    {
     "data": {
      "text/html": [
       "3"
      ],
      "text/latex": [
       "3"
      ],
      "text/markdown": [
       "3"
      ],
      "text/plain": [
       "[1] 3"
      ]
     },
     "metadata": {},
     "output_type": "display_data"
    }
   ],
   "source": [
    "index <- 3\n",
    "props <- index_to_props(s, index)\n",
    "props_to_index(s, props$descendants, props$population)"
   ]
  },
  {
   "cell_type": "markdown",
   "id": "32e5b254-999f-46c7-ac30-7afc8740f980",
   "metadata": {},
   "source": [
    "### Single locus with a derived variant, n populations\n",
    "\n",
    "Compute state size:"
   ]
  },
  {
   "cell_type": "code",
   "execution_count": 42,
   "id": "240c8981-ae72-4ba3-8768-cc13cc696c23",
   "metadata": {},
   "outputs": [
    {
     "data": {
      "text/html": [
       "9"
      ],
      "text/latex": [
       "9"
      ],
      "text/markdown": [
       "9"
      ],
      "text/plain": [
       "[1] 9"
      ]
     },
     "metadata": {},
     "output_type": "display_data"
    }
   ],
   "source": [
    "props_to_index <- props_to_index_single_locus_derived\n",
    "index_to_props <- index_to_props_single_locus_derived\n",
    "state_size <- props_to_index(s, s, s)\n",
    "state_size"
   ]
  },
  {
   "cell_type": "markdown",
   "id": "4259f831-a3e3-4800-89c6-ecc38e6f10ff",
   "metadata": {},
   "source": [
    "Map from index to properties and back:"
   ]
  },
  {
   "cell_type": "code",
   "execution_count": 43,
   "id": "6c7ee4a6-8f23-4887-aa34-6b5a874c9165",
   "metadata": {},
   "outputs": [
    {
     "data": {
      "text/html": [
       "3"
      ],
      "text/latex": [
       "3"
      ],
      "text/markdown": [
       "3"
      ],
      "text/plain": [
       "[1] 3"
      ]
     },
     "metadata": {},
     "output_type": "display_data"
    }
   ],
   "source": [
    "index <- 3\n",
    "props <- index_to_props(s, 3)\n",
    "props_to_index(s, props$descendants, props$is_derived, props$population)"
   ]
  },
  {
   "cell_type": "markdown",
   "id": "62d3de8b-8655-44e1-98e1-a2df176de99c",
   "metadata": {},
   "source": [
    "### Two loci, n populations\n",
    "\n",
    "Compute state size:"
   ]
  },
  {
   "cell_type": "code",
   "execution_count": 45,
   "id": "8c9c00d2-e1ec-43d4-9fed-16c4800c1470",
   "metadata": {},
   "outputs": [
    {
     "data": {
      "text/html": [
       "9"
      ],
      "text/latex": [
       "9"
      ],
      "text/markdown": [
       "9"
      ],
      "text/plain": [
       "[1] 9"
      ]
     },
     "metadata": {},
     "output_type": "display_data"
    }
   ],
   "source": [
    "props_to_index <- props_to_index_two_locus\n",
    "index_to_props <- index_to_props_two_locus\n",
    "state_size <- props_to_index(s, s, s)\n",
    "state_size"
   ]
  },
  {
   "cell_type": "markdown",
   "id": "c8b6e968-c4f5-4414-bca8-591948d1b2cf",
   "metadata": {},
   "source": [
    "Map from index to properties and back:"
   ]
  },
  {
   "cell_type": "code",
   "execution_count": 47,
   "id": "051f09e2-a067-4548-a61e-3a187e51c066",
   "metadata": {},
   "outputs": [
    {
     "data": {
      "text/html": [
       "3"
      ],
      "text/latex": [
       "3"
      ],
      "text/markdown": [
       "3"
      ],
      "text/plain": [
       "[1] 3"
      ]
     },
     "metadata": {},
     "output_type": "display_data"
    }
   ],
   "source": [
    "index <- 3\n",
    "props <- index_to_props(s, 3)\n",
    "props_to_index(s, props$descendants_l1, props$descendants_l2, props$population)"
   ]
  },
  {
   "cell_type": "markdown",
   "id": "185a2e86-90b5-4d2a-9636-8ba9a3ca7138",
   "metadata": {},
   "source": [
    "### Two loci with a derived variant, n populations\n",
    "\n",
    "Compute state size:"
   ]
  },
  {
   "cell_type": "code",
   "execution_count": 50,
   "id": "7cd9611e-acc1-4110-a55c-a883696cc337",
   "metadata": {},
   "outputs": [
    {
     "data": {
      "text/html": [
       "27"
      ],
      "text/latex": [
       "27"
      ],
      "text/markdown": [
       "27"
      ],
      "text/plain": [
       "[1] 27"
      ]
     },
     "metadata": {},
     "output_type": "display_data"
    }
   ],
   "source": [
    "props_to_index <- props_to_index_two_locus_derived\n",
    "index_to_props <- index_to_props_two_locus_derived\n",
    "state_size <- props_to_index(s, s, s, s)\n",
    "state_size"
   ]
  },
  {
   "cell_type": "markdown",
   "id": "d096ecd8-da83-4956-886e-3be45f85398b",
   "metadata": {},
   "source": [
    "Map from index to properties and back:"
   ]
  },
  {
   "cell_type": "code",
   "execution_count": 52,
   "id": "536916b8-aab8-4e14-a3b6-335149e90d3b",
   "metadata": {},
   "outputs": [
    {
     "data": {
      "text/html": [
       "3"
      ],
      "text/latex": [
       "3"
      ],
      "text/markdown": [
       "3"
      ],
      "text/plain": [
       "[1] 3"
      ]
     },
     "metadata": {},
     "output_type": "display_data"
    }
   ],
   "source": [
    "index <- 3\n",
    "props <- index_to_props(s, 3)\n",
    "props_to_index(s, props$descendants_l1, props$descendants_l2, props$is_derived, props$population)"
   ]
  },
  {
   "cell_type": "markdown",
   "id": "b48efcca-3bfb-4925-aaec-8a8f7f81f045",
   "metadata": {},
   "source": [
    "# Tests"
   ]
  },
  {
   "cell_type": "code",
   "execution_count": 29,
   "id": "c4c50fd9-fec1-40c6-a655-41ce987dd336",
   "metadata": {},
   "outputs": [],
   "source": [
    "props_to_index <- props_to_index_single_locus\n",
    "index_to_props <- index_to_props_single_locus\n",
    "state_size <- props_to_index(s, s)\n",
    "for (i in 1:state_size) {\n",
    "    props <- index_to_props(s, i)\n",
    "    stopifnot(i == props_to_index(s, props$descendants, props$population))    \n",
    "}\n",
    "state_size <- props_to_index(s, s, 1)\n",
    "for (i in 1:state_size) {\n",
    "    props <- index_to_props(s, i)\n",
    "    stopifnot(i == props_to_index(s, props$descendants, props$population))    \n",
    "}\n",
    "state_size <- props_to_index(s, s, 2)\n",
    "for (i in 1:state_size) {\n",
    "    props <- index_to_props(s, i)\n",
    "    stopifnot(i == props_to_index(s, props$descendants, props$population))    \n",
    "}"
   ]
  },
  {
   "cell_type": "code",
   "execution_count": 30,
   "id": "82edd013-3444-474d-a2c3-b4dce53d5730",
   "metadata": {},
   "outputs": [],
   "source": [
    "props_to_index <- props_to_index_single_locus_derived\n",
    "index_to_props <- index_to_props_single_locus_derived\n",
    "state_size <- props_to_index(s, s, s)\n",
    "for (i in 1:state_size) {\n",
    "    props <- index_to_props(s, i)\n",
    "    stopifnot(i == props_to_index(s, props$descendants, \n",
    "                                  props$is_derived, props$population))\n",
    "}\n",
    "state_size <- props_to_index(s, s, s, 1)\n",
    "for (i in 1:state_size) {\n",
    "    props <- index_to_props(s, i)\n",
    "    stopifnot(i == props_to_index(s, props$descendants, \n",
    "                                  props$is_derived, props$population))\n",
    "}\n",
    "state_size <- props_to_index(s, s, s, 2)\n",
    "for (i in 1:state_size) {\n",
    "    props <- index_to_props(s, i)\n",
    "    stopifnot(i == props_to_index(s, props$descendants, \n",
    "                                  props$is_derived, props$population))\n",
    "}"
   ]
  },
  {
   "cell_type": "code",
   "execution_count": 31,
   "id": "345b19d0-69e5-44fc-99c8-87555eb02e81",
   "metadata": {},
   "outputs": [],
   "source": [
    "props_to_index <- props_to_index_two_locus\n",
    "index_to_props <- index_to_props_two_locus\n",
    "state_size <- props_to_index(s, s, s)\n",
    "for (i in 1:state_size) {\n",
    "    props <- index_to_props(s, i)\n",
    "    stopifnot(i == props_to_index(s, props$descendants_l1, props$descendants_l2, props$population))\n",
    "}\n",
    "state_size <- props_to_index(s, s, s, 1)\n",
    "for (i in 1:state_size) {\n",
    "    props <- index_to_props(s, i)\n",
    "    stopifnot(i == props_to_index(s, props$descendants_l1, props$descendants_l2, props$population))\n",
    "}\n",
    "state_size <- props_to_index(s, s, s, 2)\n",
    "for (i in 1:state_size) {\n",
    "    props <- index_to_props(s, i)\n",
    "    stopifnot(i == props_to_index(s, props$descendants_l1, props$descendants_l2, props$population))\n",
    "}"
   ]
  },
  {
   "cell_type": "code",
   "execution_count": 32,
   "id": "90038691-024d-4892-9542-8e6b8d4ba573",
   "metadata": {},
   "outputs": [],
   "source": [
    "props_to_index <- props_to_index_two_locus_derived\n",
    "index_to_props <- index_to_props_two_locus_derived\n",
    "state_size <- props_to_index(s, s, s, s)\n",
    "for (i in 1:state_size) {\n",
    "    props <- index_to_props(s, i)\n",
    "    stopifnot(i == props_to_index(s, props$descendants_l1, props$descendants_l2, \n",
    "                                  props$is_derived, props$population))\n",
    "}\n",
    "state_size <- props_to_index(s, s, s, s, 1)\n",
    "for (i in 1:state_size) {\n",
    "    props <- index_to_props(s, i)\n",
    "    stopifnot(i == props_to_index(s, props$descendants_l1, props$descendants_l2, \n",
    "                                  props$is_derived, props$population))\n",
    "}\n",
    "state_size <- props_to_index(s, s, s, s, 2)\n",
    "for (i in 1:state_size) {\n",
    "    props <- index_to_props(s, i)\n",
    "    stopifnot(i == props_to_index(s, props$descendants_l1, props$descendants_l2, \n",
    "                                  props$is_derived, props$population))\n",
    "}"
   ]
  },
  {
   "cell_type": "code",
   "execution_count": null,
   "id": "e7676433-0c93-4ba7-886e-542e2b1fd237",
   "metadata": {},
   "outputs": [],
   "source": []
  },
  {
   "cell_type": "code",
   "execution_count": null,
   "id": "811450ca-a6fe-411c-993b-987195e1e40f",
   "metadata": {},
   "outputs": [],
   "source": []
  }
 ],
 "metadata": {
  "kernelspec": {
   "display_name": "R",
   "language": "R",
   "name": "ir"
  },
  "language_info": {
   "codemirror_mode": "r",
   "file_extension": ".r",
   "mimetype": "text/x-r-source",
   "name": "R",
   "pygments_lexer": "r",
   "version": "4.3.1"
  }
 },
 "nbformat": 4,
 "nbformat_minor": 5
}
