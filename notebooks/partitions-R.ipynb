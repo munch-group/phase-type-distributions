{
 "cells": [
  {
   "cell_type": "markdown",
   "id": "b48eb015-4af7-4d2c-ba30-712612279238",
   "metadata": {},
   "source": [
    "# Block coalescent"
   ]
  },
  {
   "cell_type": "code",
   "execution_count": 1,
   "id": "fa42f45e-8795-417c-8239-6c0260139441",
   "metadata": {},
   "outputs": [
    {
     "name": "stderr",
     "output_type": "stream",
     "text": [
      "Indlæser krævet pakke: viridisLite\n",
      "\n"
     ]
    }
   ],
   "source": [
    "#library(plotly)\n",
    "library(ggplot2)\n",
    "library(viridis)\n",
    "library(grid)\n",
    "library(gridExtra)\n",
    "library(\"IRdisplay\")"
   ]
  },
  {
   "cell_type": "markdown",
   "id": "e60c2692-773c-419f-aa1d-d54d7f972024",
   "metadata": {},
   "source": [
    "R header:"
   ]
  },
  {
   "cell_type": "code",
   "execution_count": 2,
   "id": "37fc70fa",
   "metadata": {
    "tags": []
   },
   "outputs": [
    {
     "name": "stderr",
     "output_type": "stream",
     "text": [
      "── \u001b[1mAttaching core tidyverse packages\u001b[22m ────────────────────────────────────────────────────────────────────────────────────────── tidyverse 2.0.0 ──\n",
      "\u001b[32m✔\u001b[39m \u001b[34mdplyr    \u001b[39m 1.1.2     \u001b[32m✔\u001b[39m \u001b[34mreadr    \u001b[39m 2.1.4\n",
      "\u001b[32m✔\u001b[39m \u001b[34mforcats  \u001b[39m 1.0.0     \u001b[32m✔\u001b[39m \u001b[34mstringr  \u001b[39m 1.5.1\n",
      "\u001b[32m✔\u001b[39m \u001b[34mlubridate\u001b[39m 1.9.2     \u001b[32m✔\u001b[39m \u001b[34mtibble   \u001b[39m 3.2.1\n",
      "\u001b[32m✔\u001b[39m \u001b[34mpurrr    \u001b[39m 1.0.1     \u001b[32m✔\u001b[39m \u001b[34mtidyr    \u001b[39m 1.3.0\n",
      "── \u001b[1mConflicts\u001b[22m ──────────────────────────────────────────────────────────────────────────────────────────────────────────── tidyverse_conflicts() ──\n",
      "\u001b[31m✖\u001b[39m \u001b[34mdplyr\u001b[39m::\u001b[32mcombine()\u001b[39m masks \u001b[34mgridExtra\u001b[39m::combine()\n",
      "\u001b[31m✖\u001b[39m \u001b[34mdplyr\u001b[39m::\u001b[32mfilter()\u001b[39m  masks \u001b[34mstats\u001b[39m::filter()\n",
      "\u001b[31m✖\u001b[39m \u001b[34mdplyr\u001b[39m::\u001b[32mlag()\u001b[39m     masks \u001b[34mstats\u001b[39m::lag()\n",
      "\u001b[36mℹ\u001b[39m Use the conflicted package (\u001b[3m\u001b[34m<http://conflicted.r-lib.org/>\u001b[39m\u001b[23m) to force all conflicts to become errors\n",
      "Indlæser krævet pakke: usethis\n",
      "\n"
     ]
    }
   ],
   "source": [
    "library(tidyverse)\n",
    "library(devtools)\n",
    "#remove.packages(\"ptdalgorithms\")\n",
    "# devtools::install_github(\"TobiasRoikjer/PtDAlgorithms\")\n",
    "#devtools::install_local('../../PtDAlgorithms', quiet=FALSE)\n",
    "library(ptdalgorithms)\n",
    "\n",
    "despine <- theme(panel.border = element_blank(), panel.grid.major = element_blank(),\n",
    "    panel.grid.minor = element_blank(), axis.line = element_line(colour = \"black\"),\n",
    "                # text=element_text(size=17)\n",
    "                # text=element_text(family=\"Arial\")\n",
    "                ) \n"
   ]
  },
  {
   "cell_type": "code",
   "execution_count": 3,
   "id": "695e54bf-3d9a-4cc4-bc65-43bb400d50a4",
   "metadata": {},
   "outputs": [],
   "source": [
    "# remove.packages(\"ptdalgorithms\")"
   ]
  },
  {
   "cell_type": "code",
   "execution_count": 4,
   "id": "69796c9d-976c-4169-8ce8-16a036c4f5c5",
   "metadata": {},
   "outputs": [],
   "source": [
    "# install.packages(\"remotes\")\n",
    "# remotes::install_github(\"Thell/RcppMP\")"
   ]
  },
  {
   "cell_type": "code",
   "execution_count": 5,
   "id": "3c737854-59f8-472c-8693-2ff23b63fa19",
   "metadata": {},
   "outputs": [],
   "source": [
    "# # GNUMPLIB\n",
    "# ./configure --prefix=$CONDA_PREFIX --enable-cxx\n"
   ]
  },
  {
   "cell_type": "code",
   "execution_count": 6,
   "id": "5d3da91f-f5d3-4fd9-8536-c3a9d133992d",
   "metadata": {},
   "outputs": [],
   "source": [
    "# !export LIBS=\"-L/Users/kmt/miniconda3/envs/phasetype/lib\"\n",
    "# !export CPPFLAGS=\"-I/Users/kmt/miniconda3/envs/phasetype/include\""
   ]
  },
  {
   "cell_type": "code",
   "execution_count": 7,
   "id": "91471179-2835-4926-a1f4-a621907a89f4",
   "metadata": {},
   "outputs": [],
   "source": [
    "# Rcpp::sourceCpp(\"./timeinhom-kingman.cpp\")"
   ]
  },
  {
   "cell_type": "code",
   "execution_count": 8,
   "id": "2b8005e7-139d-4fb4-90dd-e08c02cb2029",
   "metadata": {},
   "outputs": [],
   "source": [
    "source(\"plot_functions.R\")"
   ]
  },
  {
   "cell_type": "code",
   "execution_count": 9,
   "id": "33eed390-030c-496b-8e75-889ae6a6ba52",
   "metadata": {},
   "outputs": [],
   "source": [
    "theme_set(theme_bw())\n",
    "\n",
    "despine <- theme(panel.border = element_blank(), panel.grid.major = element_blank(),\n",
    "panel.grid.minor = element_blank(), axis.line = element_line(colour = \"black\"),\n",
    "                # text=element_text(family=\"Arial\")\n",
    "                )"
   ]
  },
  {
   "cell_type": "code",
   "execution_count": 69,
   "id": "fc3c7efe-79c9-456d-a2a0-787c47de7a95",
   "metadata": {},
   "outputs": [],
   "source": [
    "plot_sfs <- function(graph, rewards) {\n",
    "    sfs <- apply(rewards, 1, function(x) expectation(graph, x))\n",
    "    data.frame(\n",
    "      ton=seq(1,length(sfs)),  \n",
    "      brlen=sfs\n",
    "      ) %>% ggplot(aes(x=ton, y=brlen, fill=ton)) + \n",
    "      geom_bar(stat = \"identity\", width=0.8) + scale_fill_viridis() + \n",
    "          scale_x_continuous(breaks = 1:(dim(rewards)[1])) +\n",
    "          theme(legend.position = \"none\") + labs(x='nr descendants') +\n",
    "          labs(y = \"Total branch length\", x = \"Number of descendants\") +\n",
    "          despine\n",
    "}\n",
    "                 \n",
    "get_cov_mat <- function(graph, rewards) {\n",
    "    n <- nrow(rewards)\n",
    "    cov_mat <- matrix(nrow=n,ncol=n)\n",
    "    for (i in 1:(n)) {\n",
    "        for (j in 1:(n)) {\n",
    "            cov_mat[i, j] <- covariance(graph, rewards[i,], rewards[j,])\n",
    "        }\n",
    "    }\n",
    "    return(cov_mat)\n",
    "}\n",
    "                  \n",
    "plot_cov_mat <- function(cov_mat) {\n",
    "   \n",
    "    df <- as.data.frame(cov_mat)\n",
    "    df <- df %>% rownames_to_column('ton1') %>% gather('ton2', 'value', -c(ton1))\n",
    "    df$ton1 <- as.character(df$ton1)\n",
    "    df$ton2 <- gsub(\"V\",\"\",as.character(df$ton2))\n",
    "    df$ton1 <- factor(df$ton1, levels=unique(df$ton1[order(as.numeric(df$ton1))]))\n",
    "    df$ton2 <- factor(df$ton2, levels=unique(df$ton2[order(as.numeric(df$ton2))]))\n",
    "    \n",
    "    ggplot(df, aes(ton1, ton2)) +\n",
    "        geom_tile(aes(fill = value)) + \n",
    "        scale_y_discrete(labels= seq(1, nrow(cov_mat))) + \n",
    "        scale_fill_continuous(type = \"viridis\") + \n",
    "        theme_minimal() + \n",
    "        theme(panel.grid.major = element_blank(), panel.grid.minor = element_blank(), text=element_text(size=17)) \n",
    "\n",
    "}"
   ]
  },
  {
   "cell_type": "markdown",
   "id": "dda39bc0-8b80-4042-b4eb-f016f6ebc5b0",
   "metadata": {},
   "source": [
    "# Block coalescent"
   ]
  },
  {
   "cell_type": "code",
   "execution_count": 26,
   "id": "be33333b-a729-440a-ba4f-4577f5590a94",
   "metadata": {},
   "outputs": [],
   "source": [
    "block_coalescent <- function(n) {\n",
    "      \n",
    "    state_vector_length <- 1 + 1\n",
    "    graph <- create_graph(state_vector_length)\n",
    "    starting_vertex <- vertex_at(graph, 1)\n",
    "    initial_state <- c(0, 0)\n",
    "    initial_state[1] <- n\n",
    "    add_edge(starting_vertex, create_vertex(graph, initial_state), 1)\n",
    "    index <- 2\n",
    "    \n",
    "    while (index <= vertices_length(graph)) {\n",
    "      vertex <- vertex_at(graph, index)\n",
    "      state <- vertex$state\n",
    "      if (state[1] == 1) {\n",
    "        break\n",
    "      }\n",
    "      rate <- state[1] * (state[1] - 1) / 2\n",
    "      child_state <- state\n",
    "      child_state[1] <- child_state[1] - 1\n",
    "      add_edge(vertex, find_or_create_vertex(graph, child_state), rate)\n",
    "      index <- index + 1\n",
    "    }\n",
    "    return(graph)\n",
    "}"
   ]
  },
  {
   "cell_type": "code",
   "execution_count": 37,
   "id": "a92a5d69-084e-4b35-94f6-8ffa232d31dc",
   "metadata": {},
   "outputs": [],
   "source": [
    "n <- 4\n",
    "graph <- block_coalescent(n)\n",
    "gam <- graph_as_matrix(graph)"
   ]
  },
  {
   "cell_type": "code",
   "execution_count": 29,
   "id": "24db9112-8c15-4d70-b039-788d3851ab7b",
   "metadata": {},
   "outputs": [
    {
     "data": {
      "image/svg+xml": [
       "<?xml version=\"1.0\" encoding=\"UTF-8\" standalone=\"no\"?>\n",
       "<!DOCTYPE svg PUBLIC \"-//W3C//DTD SVG 1.1//EN\"\n",
       " \"http://www.w3.org/Graphics/SVG/1.1/DTD/svg11.dtd\">\n",
       "<!-- Generated by graphviz version 8.1.0 (0)\n",
       " -->\n",
       "<!-- Title: G Pages: 1 -->\n",
       "<svg width=\"432pt\" height=\"68pt\"\n",
       " viewBox=\"0.00 0.00 432.00 68.37\" xmlns=\"http://www.w3.org/2000/svg\" xmlns:xlink=\"http://www.w3.org/1999/xlink\">\n",
       "<g id=\"graph0\" class=\"graph\" transform=\"scale(0.633089 0.633089) rotate(0) translate(36 72)\">\n",
       "<title>G</title>\n",
       "<polygon fill=\"white\" stroke=\"none\" points=\"-36,36 -36,-72 646.37,-72 646.37,36 -36,36\"/>\n",
       "<!-- Absorb -->\n",
       "<g id=\"node1\" class=\"node\">\n",
       "<title>Absorb</title>\n",
       "<ellipse fill=\"white\" stroke=\"lightgrey\" cx=\"572.18\" cy=\"-18\" rx=\"38.18\" ry=\"18\"/>\n",
       "<text text-anchor=\"middle\" x=\"572.18\" y=\"-12.2\" font-family=\"Helvetica,Arial,sans-serif\" font-size=\"14.00\">Absorb</text>\n",
       "</g>\n",
       "<!-- IPV -->\n",
       "<g id=\"node2\" class=\"node\">\n",
       "<title>IPV</title>\n",
       "<ellipse fill=\"white\" stroke=\"lightgrey\" cx=\"27\" cy=\"-18\" rx=\"27\" ry=\"18\"/>\n",
       "<text text-anchor=\"middle\" x=\"27\" y=\"-12.2\" font-family=\"Helvetica,Arial,sans-serif\" font-size=\"14.00\">IPV</text>\n",
       "</g>\n",
       "<!-- 4,0 -->\n",
       "<g id=\"node3\" class=\"node\">\n",
       "<title>4,0</title>\n",
       "<ellipse fill=\"white\" stroke=\"black\" cx=\"160.5\" cy=\"-18\" rx=\"27\" ry=\"18\"/>\n",
       "<text text-anchor=\"middle\" x=\"160.5\" y=\"-12.2\" font-family=\"Helvetica,Arial,sans-serif\" font-size=\"14.00\">4,0</text>\n",
       "</g>\n",
       "<!-- IPV&#45;&gt;4,0 -->\n",
       "<g id=\"edge1\" class=\"edge\">\n",
       "<title>IPV&#45;&gt;4,0</title>\n",
       "<path fill=\"none\" stroke=\"#000000\" d=\"M54.29,-18C73.83,-18 100.73,-18 122.44,-18\"/>\n",
       "<polygon fill=\"#000000\" stroke=\"#000000\" points=\"122.25,-21.5 132.25,-18 122.25,-14.5 122.25,-21.5\"/>\n",
       "<text text-anchor=\"middle\" x=\"93.75\" y=\"-19.7\" font-family=\"Helvetica,Arial,sans-serif\" font-size=\"14.00\" fill=\"#000000\">1</text>\n",
       "</g>\n",
       "<!-- 3,0 -->\n",
       "<g id=\"node4\" class=\"node\">\n",
       "<title>3,0</title>\n",
       "<ellipse fill=\"white\" stroke=\"black\" cx=\"294\" cy=\"-18\" rx=\"27\" ry=\"18\"/>\n",
       "<text text-anchor=\"middle\" x=\"294\" y=\"-12.2\" font-family=\"Helvetica,Arial,sans-serif\" font-size=\"14.00\">3,0</text>\n",
       "</g>\n",
       "<!-- 4,0&#45;&gt;3,0 -->\n",
       "<g id=\"edge2\" class=\"edge\">\n",
       "<title>4,0&#45;&gt;3,0</title>\n",
       "<path fill=\"none\" stroke=\"#000000\" d=\"M187.79,-18C207.33,-18 234.23,-18 255.94,-18\"/>\n",
       "<polygon fill=\"#000000\" stroke=\"#000000\" points=\"255.75,-21.5 265.75,-18 255.75,-14.5 255.75,-21.5\"/>\n",
       "<text text-anchor=\"middle\" x=\"227.25\" y=\"-19.7\" font-family=\"Helvetica,Arial,sans-serif\" font-size=\"14.00\" fill=\"#000000\">6</text>\n",
       "</g>\n",
       "<!-- 2,0 -->\n",
       "<g id=\"node5\" class=\"node\">\n",
       "<title>2,0</title>\n",
       "<ellipse fill=\"white\" stroke=\"black\" cx=\"427.5\" cy=\"-18\" rx=\"27\" ry=\"18\"/>\n",
       "<text text-anchor=\"middle\" x=\"427.5\" y=\"-12.2\" font-family=\"Helvetica,Arial,sans-serif\" font-size=\"14.00\">2,0</text>\n",
       "</g>\n",
       "<!-- 3,0&#45;&gt;2,0 -->\n",
       "<g id=\"edge3\" class=\"edge\">\n",
       "<title>3,0&#45;&gt;2,0</title>\n",
       "<path fill=\"none\" stroke=\"#000000\" d=\"M321.29,-18C340.83,-18 367.73,-18 389.44,-18\"/>\n",
       "<polygon fill=\"#000000\" stroke=\"#000000\" points=\"389.25,-21.5 399.25,-18 389.25,-14.5 389.25,-21.5\"/>\n",
       "<text text-anchor=\"middle\" x=\"360.75\" y=\"-19.7\" font-family=\"Helvetica,Arial,sans-serif\" font-size=\"14.00\" fill=\"#000000\">3</text>\n",
       "</g>\n",
       "<!-- 2,0&#45;&gt;Absorb -->\n",
       "<g id=\"edge4\" class=\"edge\">\n",
       "<title>2,0&#45;&gt;Absorb</title>\n",
       "<path fill=\"none\" stroke=\"#000000\" d=\"M454.67,-18C473.68,-18 499.97,-18 522.76,-18\"/>\n",
       "<polygon fill=\"#000000\" stroke=\"#000000\" points=\"522.62,-21.5 532.62,-18 522.62,-14.5 522.62,-21.5\"/>\n",
       "<text text-anchor=\"middle\" x=\"494.25\" y=\"-19.7\" font-family=\"Helvetica,Arial,sans-serif\" font-size=\"14.00\" fill=\"#000000\">1</text>\n",
       "</g>\n",
       "</g>\n",
       "</svg>\n"
      ]
     },
     "metadata": {},
     "output_type": "display_data"
    }
   ],
   "source": [
    "plot_graph(graph_as_matrix(graph), fontsize=14, ranksep=1, nodesep=0.25)"
   ]
  },
  {
   "cell_type": "markdown",
   "id": "25aa87ca-3394-4995-91a1-78d3c7de2d7a",
   "metadata": {},
   "source": [
    "# SFS rewards for block coalescent\n",
    "\n",
    "For exchangeable samples, these map between the tree levels we can model very effectively and the SFS we can observe"
   ]
  },
  {
   "cell_type": "code",
   "execution_count": 30,
   "id": "c178ea9d-cfbd-4695-8b4c-c5126a16cdcc",
   "metadata": {},
   "outputs": [
    {
     "data": {
      "text/html": [
       "<table class=\"dataframe\">\n",
       "<caption>A matrix: 3 × 5 of type dbl</caption>\n",
       "<tbody>\n",
       "\t<tr><td>0</td><td>4</td><td>2</td><td>0.6666667</td><td>0</td></tr>\n",
       "\t<tr><td>0</td><td>0</td><td>1</td><td>0.6666667</td><td>0</td></tr>\n",
       "\t<tr><td>0</td><td>0</td><td>0</td><td>0.6666667</td><td>0</td></tr>\n",
       "</tbody>\n",
       "</table>\n"
      ],
      "text/latex": [
       "A matrix: 3 × 5 of type dbl\n",
       "\\begin{tabular}{lllll}\n",
       "\t 0 & 4 & 2 & 0.6666667 & 0\\\\\n",
       "\t 0 & 0 & 1 & 0.6666667 & 0\\\\\n",
       "\t 0 & 0 & 0 & 0.6666667 & 0\\\\\n",
       "\\end{tabular}\n"
      ],
      "text/markdown": [
       "\n",
       "A matrix: 3 × 5 of type dbl\n",
       "\n",
       "| 0 | 4 | 2 | 0.6666667 | 0 |\n",
       "| 0 | 0 | 1 | 0.6666667 | 0 |\n",
       "| 0 | 0 | 0 | 0.6666667 | 0 |\n",
       "\n"
      ],
      "text/plain": [
       "     [,1] [,2] [,3] [,4]      [,5]\n",
       "[1,] 0    4    2    0.6666667 0   \n",
       "[2,] 0    0    1    0.6666667 0   \n",
       "[3,] 0    0    0    0.6666667 0   "
      ]
     },
     "metadata": {},
     "output_type": "display_data"
    }
   ],
   "source": [
    "library(\"partitions\")\n",
    "\n",
    "lineage_partitions <- function(n) {\n",
    "    p <- parts(n)\n",
    "    return(apply(p, 2, function(x) {x[x!=0]}))\n",
    "}\n",
    "ton_counts <- function(p, n) {\n",
    "    result <- rep(0, n)\n",
    "    counts <- table(p)\n",
    "    for (i in seq(n)) {\n",
    "        c <- counts[names(counts)==i]\n",
    "        if (length(c)) {\n",
    "            result[i] <- c\n",
    "        }\n",
    "    }\n",
    "    return(result)\n",
    "}\n",
    "multinom_coef <- function(params) {\n",
    "    if (length(params) == 1) {\n",
    "        return(1)\n",
    "    }\n",
    "    return(choose(sum(params), params[length(params)]) * multinom_coef(params[-length(params)]))\n",
    "}\n",
    "get_block_rewards <- function(n) {\n",
    "    rewards <- matrix(0, n, n)\n",
    "    for (p in lineage_partitions(n)) {\n",
    "        counts <- ton_counts(p, n)\n",
    "        rewards[length(p), ] <- rewards[length(p), ] + counts * multinom_coef(counts)\n",
    "    }\n",
    "    rewards <- rewards[-1, -ncol(rewards)]\n",
    "    scale <- (2:n)/apply(rewards, 1, sum)\n",
    "    rewards <- rewards * scale\n",
    "    rewards <- t(rewards)[, ncol(rewards):1]\n",
    "    rewards <- cbind(rep(0, nrow(rewards)), rewards, rep(0, nrow(rewards)))\n",
    "    return(rewards)\n",
    "}\n",
    "n <- 4\n",
    "rewards <- get_block_rewards(n)\n",
    "rewards"
   ]
  },
  {
   "cell_type": "markdown",
   "id": "b0722519-3399-412f-bfa3-fa2157d80721",
   "metadata": {},
   "source": [
    "Precompute rewards for a range of sample sizes:"
   ]
  },
  {
   "cell_type": "code",
   "execution_count": 31,
   "id": "0d6cfb5a-b363-4985-a38c-72cba5814451",
   "metadata": {},
   "outputs": [],
   "source": [
    "# if (!require(\"BiocManager\", quietly = TRUE))\n",
    "#     install.packages(\"BiocManager\")\n",
    "\n",
    "# # The following initializes usage of Bioc devel\n",
    "# BiocManager::install(version='devel')\n",
    "\n",
    "# BiocManager::install(\"rhdf5\")"
   ]
  },
  {
   "cell_type": "code",
   "execution_count": 32,
   "id": "f206ee13-22ed-49e2-8319-ece1d2228fb5",
   "metadata": {},
   "outputs": [],
   "source": [
    "# library(rhdf5)\n",
    "# # h5createFile(\"myhdf5file.h5\")\n",
    "# h5f = H5Fopen(\"myhdf5file.h5\")\n",
    "\n",
    "# h5closeAll()"
   ]
  },
  {
   "cell_type": "code",
   "execution_count": 33,
   "id": "79484428-0c00-4e33-8db2-81b49b62e91f",
   "metadata": {},
   "outputs": [],
   "source": [
    "# for (n in 80:100) {\n",
    "#     start <- proc.time()[3]\n",
    "#     rewards <- get_block_rewards(n)\n",
    "#     end <- proc.time()[3]\n",
    "#     print(c(n, (end - start)[['elapsed']]))\n",
    "#     flush.console()\n",
    "# }"
   ]
  },
  {
   "cell_type": "code",
   "execution_count": 34,
   "id": "20d26f03-6e9a-44f0-aae7-7c543b0ad160",
   "metadata": {},
   "outputs": [],
   "source": [
    "library(parallel)\n",
    "\n",
    "redo_sfs_rewards <- FALSE\n",
    "\n",
    "if (redo_sfs_rewards) {\n",
    "    v <- 3:60\n",
    "    n <- as.list(v)\n",
    "    names(n) <- v\n",
    "    sfs_rewards <- mclapply(n, get_block_rewards, mc.cores=detectCores())\n",
    "    saveRDS(sfs_rewards, file=\"sfs_rewards.RData\")\n",
    "} else {\n",
    "    sfs_rewards <- readRDS(file=\"sfs_rewards.RData\")\n",
    "}"
   ]
  },
  {
   "cell_type": "code",
   "execution_count": 35,
   "id": "3f5b7c14-bbc4-4fe3-a896-68f0f9ccf6c6",
   "metadata": {},
   "outputs": [
    {
     "data": {
      "text/html": [
       "<table class=\"dataframe\">\n",
       "<caption>A matrix: 3 × 5 of type dbl</caption>\n",
       "<tbody>\n",
       "\t<tr><td>0</td><td>4</td><td>2</td><td>0.6666667</td><td>0</td></tr>\n",
       "\t<tr><td>0</td><td>0</td><td>1</td><td>0.6666667</td><td>0</td></tr>\n",
       "\t<tr><td>0</td><td>0</td><td>0</td><td>0.6666667</td><td>0</td></tr>\n",
       "</tbody>\n",
       "</table>\n"
      ],
      "text/latex": [
       "A matrix: 3 × 5 of type dbl\n",
       "\\begin{tabular}{lllll}\n",
       "\t 0 & 4 & 2 & 0.6666667 & 0\\\\\n",
       "\t 0 & 0 & 1 & 0.6666667 & 0\\\\\n",
       "\t 0 & 0 & 0 & 0.6666667 & 0\\\\\n",
       "\\end{tabular}\n"
      ],
      "text/markdown": [
       "\n",
       "A matrix: 3 × 5 of type dbl\n",
       "\n",
       "| 0 | 4 | 2 | 0.6666667 | 0 |\n",
       "| 0 | 0 | 1 | 0.6666667 | 0 |\n",
       "| 0 | 0 | 0 | 0.6666667 | 0 |\n",
       "\n"
      ],
      "text/plain": [
       "     [,1] [,2] [,3] [,4]      [,5]\n",
       "[1,] 0    4    2    0.6666667 0   \n",
       "[2,] 0    0    1    0.6666667 0   \n",
       "[3,] 0    0    0    0.6666667 0   "
      ]
     },
     "metadata": {},
     "output_type": "display_data"
    }
   ],
   "source": [
    "sfs_rewards[[as.character(4)]]"
   ]
  },
  {
   "cell_type": "code",
   "execution_count": 36,
   "id": "1a2182bd-5ef2-4fef-92a5-b3d4eedd7f3b",
   "metadata": {},
   "outputs": [],
   "source": [
    "# rewards <- get_block_rewards(n)\n",
    "# rewards"
   ]
  },
  {
   "cell_type": "code",
   "execution_count": 38,
   "id": "7a6cfc0d-0828-47fa-bc1b-e517130c7f13",
   "metadata": {},
   "outputs": [
    {
     "data": {
      "text/html": [
       "<style>\n",
       ".list-inline {list-style: none; margin:0; padding: 0}\n",
       ".list-inline>li {display: inline-block}\n",
       ".list-inline>li:not(:last-child)::after {content: \"\\00b7\"; padding: 0 .5ex}\n",
       "</style>\n",
       "<ol class=list-inline><li>2</li><li>1</li><li>0.666666666666667</li></ol>\n"
      ],
      "text/latex": [
       "\\begin{enumerate*}\n",
       "\\item 2\n",
       "\\item 1\n",
       "\\item 0.666666666666667\n",
       "\\end{enumerate*}\n"
      ],
      "text/markdown": [
       "1. 2\n",
       "2. 1\n",
       "3. 0.666666666666667\n",
       "\n",
       "\n"
      ],
      "text/plain": [
       "[1] 2.0000000 1.0000000 0.6666667"
      ]
     },
     "metadata": {},
     "output_type": "display_data"
    }
   ],
   "source": [
    "rewards <- sfs_rewards[[as.character(n)]]\n",
    "sfs_expectation <- apply(rewards, 1, function(x) expectation(graph, x))\n",
    "sfs_expectation"
   ]
  },
  {
   "cell_type": "code",
   "execution_count": 39,
   "id": "ec1214c8-ee02-4df7-b8b8-e377a8a8f3b3",
   "metadata": {},
   "outputs": [
    {
     "data": {
      "text/html": [
       "<style>\n",
       ".list-inline {list-style: none; margin:0; padding: 0}\n",
       ".list-inline>li {display: inline-block}\n",
       ".list-inline>li:not(:last-child)::after {content: \"\\00b7\"; padding: 0 .5ex}\n",
       "</style>\n",
       "<ol class=list-inline><li>1.33333333333333</li><li>0.555555555555556</li><li>0.444444444444444</li></ol>\n"
      ],
      "text/latex": [
       "\\begin{enumerate*}\n",
       "\\item 1.33333333333333\n",
       "\\item 0.555555555555556\n",
       "\\item 0.444444444444444\n",
       "\\end{enumerate*}\n"
      ],
      "text/markdown": [
       "1. 1.33333333333333\n",
       "2. 0.555555555555556\n",
       "3. 0.444444444444444\n",
       "\n",
       "\n"
      ],
      "text/plain": [
       "[1] 1.3333333 0.5555556 0.4444444"
      ]
     },
     "metadata": {},
     "output_type": "display_data"
    }
   ],
   "source": [
    "sfs_variance <- apply(rewards, 1, function(x) variance(graph, x))\n",
    "sfs_variance"
   ]
  },
  {
   "cell_type": "markdown",
   "id": "d562f9e7-2d08-4469-a9bd-aa4439fefa42",
   "metadata": {},
   "source": [
    "Compute the first `m` moments for each \"ton\" for `n` samples:"
   ]
  },
  {
   "cell_type": "code",
   "execution_count": 72,
   "id": "13d07646-3ee1-46bb-a259-5444a717dc2e",
   "metadata": {},
   "outputs": [
    {
     "data": {
      "text/html": [
       "<table class=\"dataframe\">\n",
       "<caption>A data.frame: 10 × 7</caption>\n",
       "<thead>\n",
       "\t<tr><th></th><th scope=col>1</th><th scope=col>2</th><th scope=col>3</th><th scope=col>4</th><th scope=col>5</th><th scope=col>6</th><th scope=col>7</th></tr>\n",
       "\t<tr><th></th><th scope=col>&lt;dbl&gt;</th><th scope=col>&lt;dbl&gt;</th><th scope=col>&lt;dbl&gt;</th><th scope=col>&lt;dbl&gt;</th><th scope=col>&lt;dbl&gt;</th><th scope=col>&lt;dbl&gt;</th><th scope=col>&lt;dbl&gt;</th></tr>\n",
       "</thead>\n",
       "<tbody>\n",
       "\t<tr><th scope=row>1</th><td>2.000000e+00</td><td>  1.000000</td><td> 0.6666667</td><td> 0.5000000</td><td> 0.4000000</td><td> 0.3333333</td><td> 0.2857143</td></tr>\n",
       "\t<tr><th scope=row>2</th><td>4.571429e+00</td><td>  1.206349</td><td> 0.5790476</td><td> 0.3555102</td><td> 0.2510658</td><td> 0.1950113</td><td> 0.1632653</td></tr>\n",
       "\t<tr><th scope=row>3</th><td>1.175510e+01</td><td>  1.714286</td><td> 0.6293437</td><td> 0.3361224</td><td> 0.2216676</td><td> 0.1678005</td><td> 0.1399417</td></tr>\n",
       "\t<tr><th scope=row>4</th><td>3.358601e+01</td><td>  2.816974</td><td> 0.8300391</td><td> 0.4024233</td><td> 0.2558018</td><td> 0.1918954</td><td> 0.1599334</td></tr>\n",
       "\t<tr><th scope=row>5</th><td>1.055560e+02</td><td>  5.273729</td><td> 1.2967891</td><td> 0.5880475</td><td> 0.3666063</td><td> 0.2741656</td><td> 0.2284762</td></tr>\n",
       "\t<tr><th scope=row>6</th><td>3.619063e+02</td><td> 11.111957</td><td> 2.3537585</td><td> 1.0193923</td><td> 0.6291395</td><td> 0.4700066</td><td> 0.3916735</td></tr>\n",
       "\t<tr><th scope=row>7</th><td>1.344224e+03</td><td> 26.083899</td><td> 4.8848375</td><td> 2.0501088</td><td> 1.2587268</td><td> 0.9400159</td><td> 0.7833471</td></tr>\n",
       "\t<tr><th scope=row>8</th><td>5.376894e+03</td><td> 67.624569</td><td>11.4383549</td><td> 4.6989110</td><td> 2.8774309</td><td> 2.1486089</td><td> 1.7905076</td></tr>\n",
       "\t<tr><th scope=row>9</th><td>2.304383e+04</td><td>192.200692</td><td>29.8838264</td><td>12.0995646</td><td> 7.3994005</td><td> 5.5249948</td><td> 4.6041624</td></tr>\n",
       "\t<tr><th scope=row>10</th><td>1.053432e+05</td><td>594.998340</td><td>86.2826482</td><td>34.5939730</td><td>21.1414228</td><td>15.7856996</td><td>13.1547497</td></tr>\n",
       "</tbody>\n",
       "</table>\n"
      ],
      "text/latex": [
       "A data.frame: 10 × 7\n",
       "\\begin{tabular}{r|lllllll}\n",
       "  & 1 & 2 & 3 & 4 & 5 & 6 & 7\\\\\n",
       "  & <dbl> & <dbl> & <dbl> & <dbl> & <dbl> & <dbl> & <dbl>\\\\\n",
       "\\hline\n",
       "\t1 & 2.000000e+00 &   1.000000 &  0.6666667 &  0.5000000 &  0.4000000 &  0.3333333 &  0.2857143\\\\\n",
       "\t2 & 4.571429e+00 &   1.206349 &  0.5790476 &  0.3555102 &  0.2510658 &  0.1950113 &  0.1632653\\\\\n",
       "\t3 & 1.175510e+01 &   1.714286 &  0.6293437 &  0.3361224 &  0.2216676 &  0.1678005 &  0.1399417\\\\\n",
       "\t4 & 3.358601e+01 &   2.816974 &  0.8300391 &  0.4024233 &  0.2558018 &  0.1918954 &  0.1599334\\\\\n",
       "\t5 & 1.055560e+02 &   5.273729 &  1.2967891 &  0.5880475 &  0.3666063 &  0.2741656 &  0.2284762\\\\\n",
       "\t6 & 3.619063e+02 &  11.111957 &  2.3537585 &  1.0193923 &  0.6291395 &  0.4700066 &  0.3916735\\\\\n",
       "\t7 & 1.344224e+03 &  26.083899 &  4.8848375 &  2.0501088 &  1.2587268 &  0.9400159 &  0.7833471\\\\\n",
       "\t8 & 5.376894e+03 &  67.624569 & 11.4383549 &  4.6989110 &  2.8774309 &  2.1486089 &  1.7905076\\\\\n",
       "\t9 & 2.304383e+04 & 192.200692 & 29.8838264 & 12.0995646 &  7.3994005 &  5.5249948 &  4.6041624\\\\\n",
       "\t10 & 1.053432e+05 & 594.998340 & 86.2826482 & 34.5939730 & 21.1414228 & 15.7856996 & 13.1547497\\\\\n",
       "\\end{tabular}\n"
      ],
      "text/markdown": [
       "\n",
       "A data.frame: 10 × 7\n",
       "\n",
       "| <!--/--> | 1 &lt;dbl&gt; | 2 &lt;dbl&gt; | 3 &lt;dbl&gt; | 4 &lt;dbl&gt; | 5 &lt;dbl&gt; | 6 &lt;dbl&gt; | 7 &lt;dbl&gt; |\n",
       "|---|---|---|---|---|---|---|---|\n",
       "| 1 | 2.000000e+00 |   1.000000 |  0.6666667 |  0.5000000 |  0.4000000 |  0.3333333 |  0.2857143 |\n",
       "| 2 | 4.571429e+00 |   1.206349 |  0.5790476 |  0.3555102 |  0.2510658 |  0.1950113 |  0.1632653 |\n",
       "| 3 | 1.175510e+01 |   1.714286 |  0.6293437 |  0.3361224 |  0.2216676 |  0.1678005 |  0.1399417 |\n",
       "| 4 | 3.358601e+01 |   2.816974 |  0.8300391 |  0.4024233 |  0.2558018 |  0.1918954 |  0.1599334 |\n",
       "| 5 | 1.055560e+02 |   5.273729 |  1.2967891 |  0.5880475 |  0.3666063 |  0.2741656 |  0.2284762 |\n",
       "| 6 | 3.619063e+02 |  11.111957 |  2.3537585 |  1.0193923 |  0.6291395 |  0.4700066 |  0.3916735 |\n",
       "| 7 | 1.344224e+03 |  26.083899 |  4.8848375 |  2.0501088 |  1.2587268 |  0.9400159 |  0.7833471 |\n",
       "| 8 | 5.376894e+03 |  67.624569 | 11.4383549 |  4.6989110 |  2.8774309 |  2.1486089 |  1.7905076 |\n",
       "| 9 | 2.304383e+04 | 192.200692 | 29.8838264 | 12.0995646 |  7.3994005 |  5.5249948 |  4.6041624 |\n",
       "| 10 | 1.053432e+05 | 594.998340 | 86.2826482 | 34.5939730 | 21.1414228 | 15.7856996 | 13.1547497 |\n",
       "\n"
      ],
      "text/plain": [
       "   1            2          3          4          5          6         \n",
       "1  2.000000e+00   1.000000  0.6666667  0.5000000  0.4000000  0.3333333\n",
       "2  4.571429e+00   1.206349  0.5790476  0.3555102  0.2510658  0.1950113\n",
       "3  1.175510e+01   1.714286  0.6293437  0.3361224  0.2216676  0.1678005\n",
       "4  3.358601e+01   2.816974  0.8300391  0.4024233  0.2558018  0.1918954\n",
       "5  1.055560e+02   5.273729  1.2967891  0.5880475  0.3666063  0.2741656\n",
       "6  3.619063e+02  11.111957  2.3537585  1.0193923  0.6291395  0.4700066\n",
       "7  1.344224e+03  26.083899  4.8848375  2.0501088  1.2587268  0.9400159\n",
       "8  5.376894e+03  67.624569 11.4383549  4.6989110  2.8774309  2.1486089\n",
       "9  2.304383e+04 192.200692 29.8838264 12.0995646  7.3994005  5.5249948\n",
       "10 1.053432e+05 594.998340 86.2826482 34.5939730 21.1414228 15.7856996\n",
       "   7         \n",
       "1   0.2857143\n",
       "2   0.1632653\n",
       "3   0.1399417\n",
       "4   0.1599334\n",
       "5   0.2284762\n",
       "6   0.3916735\n",
       "7   0.7833471\n",
       "8   1.7905076\n",
       "9   4.6041624\n",
       "10 13.1547497"
      ]
     },
     "metadata": {},
     "output_type": "display_data"
    }
   ],
   "source": [
    "n <- 8\n",
    "m <- 10\n",
    "graph <- block_coalescent(n)\n",
    "rewards <- sfs_rewards[[as.character(n)]]\n",
    "sfs_moments <- data.frame(apply(rewards, 1, function(x) moments(graph, m, x)))\n",
    "row.names(sfs_moments) <- 1:nr_moments\n",
    "names(sfs_moments) <- 1:(n-1)\n",
    "sfs_moments"
   ]
  },
  {
   "cell_type": "code",
   "execution_count": 74,
   "id": "b5a8237f-a678-42e7-bd12-31e1b6fb64e4",
   "metadata": {},
   "outputs": [
    {
     "data": {
      "image/png": "[encoded data removed]",
      "text/plain": [
       "plot without title"
      ]
     },
     "metadata": {
      "image/png": {
       "height": 420,
       "width": 420
      }
     },
     "output_type": "display_data"
    }
   ],
   "source": [
    "n <- 50\n",
    "graph <- block_coalescent(n)\n",
    "rewards <- sfs_rewards[[as.character(n)]]\n",
    "plot_cov_mat(get_cov_mat(graph, rewards))"
   ]
  },
  {
   "cell_type": "code",
   "execution_count": 75,
   "id": "20640289-fc36-4c90-b97b-7ac627b84c67",
   "metadata": {},
   "outputs": [
    {
     "data": {
      "image/png": "[encoded data removed]",
      "text/plain": [
       "plot without title"
      ]
     },
     "metadata": {
      "image/png": {
       "height": 420,
       "width": 420
      }
     },
     "output_type": "display_data"
    }
   ],
   "source": [
    "\n",
    "plot_sfs(graph, rewards) \n",
    "ggsave('~/Desktop/sfs.pdf', width=6, height=4) "
   ]
  }
 ],
 "metadata": {
  "kernelspec": {
   "display_name": "R",
   "language": "R",
   "name": "ir"
  },
  "language_info": {
   "codemirror_mode": "r",
   "file_extension": ".r",
   "mimetype": "text/x-r-source",
   "name": "R",
   "pygments_lexer": "r",
   "version": "4.3.1"
  }
 },
 "nbformat": 4,
 "nbformat_minor": 5
}
