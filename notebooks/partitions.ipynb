{
 "cells": [
  {
   "cell_type": "code",
   "execution_count": 1,
   "id": "2a792c6f-2075-42cc-89df-5171e5a8f5be",
   "metadata": {},
   "outputs": [
    {
     "data": {
      "text/plain": [
       "array([[0.        , 4.        , 2.        , 0.66666667, 0.        ],\n",
       "       [0.        , 0.        , 1.        , 0.66666667, 0.        ],\n",
       "       [0.        , 0.        , 0.        , 0.66666667, 0.        ]])"
      ]
     },
     "execution_count": 1,
     "metadata": {},
     "output_type": "execute_result"
    }
   ],
   "source": [
    "import numpy as np\n",
    "from scipy.special import binom\n",
    "from functools import cache\n",
    "from itertools import product\n",
    "\n",
    "# def combinations(a, b):\n",
    "#     for i in range(len(a)):\n",
    "#         for j in range(i, len(b)):\n",
    "#             yield a[i], b[j]\n",
    "\n",
    "def multinom(params):\n",
    "    if len(params) == 1:\n",
    "        return 1\n",
    "    return binom(sum(params), params[-1]) * multinom(params[:-1])\n",
    "    \n",
    "def _partitions(n):\n",
    "    if n == 0:\n",
    "        yield []\n",
    "        return\n",
    "    for p in partitions(n-1):\n",
    "        yield [1] + p\n",
    "        if p and (len(p) < 2 or p[1] > p[0]):\n",
    "            yield [p[0] + 1] + p[1:]\n",
    "\n",
    "@cache\n",
    "def partitions(n, size=None):\n",
    "    if size is None:\n",
    "        return tuple(_partitions(n))\n",
    "    return tuple(p for p in _partitions(n) if len(p) == size)\n",
    "\n",
    "# @cache\n",
    "# def partitions(n):\n",
    "#     return [p for p in _partitions(n) if len(p) == l]\n",
    "\n",
    "def multinom(counts):\n",
    "    if len(counts) == 1:\n",
    "        return 1\n",
    "    return binom(sum(counts), counts[-1]) * multinom(counts[:-1])\n",
    "\n",
    "# def ton_counts(p, n):\n",
    "#     return np.array([p.count(i) for i in range(0, n)])\n",
    "\n",
    "def coalescent_reward_matrix(n):\n",
    "    rewards = np.zeros((n, n))\n",
    "    for p in partitions(n):\n",
    "        # counts = ton_counts(p, n)\n",
    "        counts = np.array([p.count(i) for i in range(0, n)])\n",
    "        rewards[len(p)-1, :] += counts * multinom(counts)\n",
    "    rewards = np.delete(rewards, 0, axis=0)\n",
    "    rewards = np.delete(rewards, 0, axis=1)\n",
    "    scale = np.array(range(2, n+1)) / rewards.sum(axis=1)\n",
    "    rewards = rewards * scale[:, None]\n",
    "    rewards = np.flip(rewards, axis=0)\n",
    "    #reward_matrix = rewards.T\n",
    "    reward_matrix = np.c_[  np.zeros(n-1), rewards.T, np.zeros(n-1) ]\n",
    "    return reward_matrix\n",
    "\n",
    "coalescent_reward_matrix(4)"
   ]
  },
  {
   "cell_type": "code",
   "execution_count": 128,
   "id": "84031d85-6668-4e46-bedb-4b196de9849f",
   "metadata": {},
   "outputs": [
    {
     "data": {
      "text/plain": [
       "array([2., 1., 0.])"
      ]
     },
     "execution_count": 128,
     "metadata": {},
     "output_type": "execute_result"
    }
   ],
   "source": [
    "def coalescent_state_reward(n, l):\n",
    "    rewards = np.zeros(n+1)\n",
    "    for p in partitions(n, size=l):\n",
    "        # counts = ton_counts(p, n)\n",
    "        counts = np.array([p.count(i) for i in range(0, n+1)])\n",
    "        rewards = rewards + counts * multinom(counts)\n",
    "    rewards = np.delete(rewards, 0, axis=0)\n",
    "    if rewards.sum(): # so we can also call it with zero l\n",
    "        scale = l / rewards.sum()\n",
    "        rewards = rewards * scale\n",
    "    return rewards[:-1] # the last one is for 1 lineage remaining, which is only relevant for ARGs\n",
    "\n",
    "coalescent_state_reward(4, 3)"
   ]
  },
  {
   "cell_type": "code",
   "execution_count": 77,
   "id": "97a853ad-9c49-48f8-babf-b8fc541ce73b",
   "metadata": {},
   "outputs": [
    {
     "data": {
      "text/plain": [
       "array([[0.        , 4.        , 2.        , 0.66666667, 0.        ],\n",
       "       [0.        , 0.        , 1.        , 0.66666667, 0.        ],\n",
       "       [0.        , 0.        , 0.        , 0.66666667, 0.        ]])"
      ]
     },
     "execution_count": 77,
     "metadata": {},
     "output_type": "execute_result"
    }
   ],
   "source": [
    "n = 4\n",
    "lineage_counts = range(2,n+1)\n",
    "rewards = np.c_[ [coalescent_state_reward(n, x) for x in lineage_counts] ]\n",
    "rewards = np.flip(rewards, axis=0).T\n",
    "rewards = np.c_[  np.zeros(n-1), rewards, np.zeros(n-1) ]\n",
    "rewards"
   ]
  },
  {
   "cell_type": "code",
   "execution_count": 173,
   "id": "57a6c6e9-9a6b-4b58-af0f-924ed2bafe64",
   "metadata": {},
   "outputs": [
    {
     "data": {
      "text/plain": [
       "array([[0.        , 0.        , 0.        , 0.        , 0.        ],\n",
       "       [0.        , 1.33333333, 0.66666667, 0.        , 0.        ],\n",
       "       [0.        , 0.66666667, 0.33333333, 0.        , 0.        ],\n",
       "       [0.        , 0.        , 0.        , 0.        , 0.        ],\n",
       "       [0.        , 0.        , 0.        , 0.        , 0.        ]])"
      ]
     },
     "execution_count": 173,
     "metadata": {},
     "output_type": "execute_result"
    }
   ],
   "source": [
    "\n",
    "def ton_counts(p, n):\n",
    "    return np.array([p.count(i) for i in range(0, n)])\n",
    "\n",
    "def arg_state_reward(n, locus1, locus2, linked):\n",
    "\n",
    "    l1, l2 = locus1 - linked, locus2 - linked\n",
    "\n",
    "    def coal_rewards(l):\n",
    "        r = np.zeros(n+1)\n",
    "        for p in partitions(n, size=l):\n",
    "            counts = np.array([p.count(i) for i in range(0, n+1)])\n",
    "            r = r + counts * multinom(counts)\n",
    "        scale = l / r.sum()\n",
    "        r = r * scale            \n",
    "        return r\n",
    "\n",
    "    rewards = np.zeros((n+1, n+1))\n",
    "\n",
    "    part = partitions(n, size=linked)\n",
    "    for l1_p, l2_p in product(part, part):\n",
    "        for a, b in product(l1_p, l2_p):\n",
    "            rewards[a, b] += multinom(ton_counts(l1_p, n)) + multinom(ton_counts(l2_p, n)) \n",
    "    if rewards.sum():\n",
    "        scale = linked / rewards.sum() \n",
    "        rewards *= scale\n",
    "\n",
    "    if locus1 + locus2 == 0:\n",
    "        return rewards\n",
    "    if l1:\n",
    "        rewards[0, :] = coal_rewards(l1)\n",
    "    if l2:\n",
    "        rewards[:, 0] = coal_rewards(l2)\n",
    "\n",
    "    \n",
    "    return rewards  \n",
    "\n",
    "n, l1, l2, linked = 4, 3, 3, 3\n",
    "rewards = arg_state_reward(n, l1, l2, linked)\n",
    "rewards "
   ]
  },
  {
   "cell_type": "code",
   "execution_count": 166,
   "id": "c8700487-f9b9-42c0-bf61-21c5c8635a32",
   "metadata": {},
   "outputs": [
    {
     "name": "stdout",
     "output_type": "stream",
     "text": [
      "(485, 11, 11) 58685\n",
      "CPU times: user 6.06 s, sys: 16.7 ms, total: 6.08 s\n",
      "Wall time: 6.15 s\n"
     ]
    },
    {
     "data": {
      "text/plain": [
       "array([ 0.        ,  0.        ,  0.        ,  0.        ,  0.        ,\n",
       "        0.        ,  0.        ,  0.        ,  0.        ,  0.        ,\n",
       "        0.        ,  0.        ,  0.        ,  0.        ,  0.        ,\n",
       "        0.        ,  0.        ,  0.        ,  0.        ,  0.        ,\n",
       "        0.        ,  0.        ,  0.        ,  0.        ,  0.02222222,\n",
       "        0.        ,  0.        ,  0.02222222,  0.        ,  0.        ,\n",
       "        0.02222222,  0.        ,  0.        ,  0.02222222,  0.        ,\n",
       "        0.        ,  0.02222222,  0.        ,  0.        ,  0.02222222,\n",
       "        0.        ,  0.        ,  0.02222222,  0.        ,  0.        ,\n",
       "        0.02222222,  0.        ,  0.        ,  0.02222222,  0.        ,\n",
       "        0.        ,  0.        ,  0.        ,  0.02222222,  0.        ,\n",
       "        0.        ,  0.02222222,  0.13888889,  0.        ,  0.        ,\n",
       "        0.02222222,  0.13888889,  0.        ,  0.        ,  0.02222222,\n",
       "        0.13888889,  0.        ,  0.        ,  0.02222222,  0.13888889,\n",
       "        0.        ,  0.        ,  0.02222222,  0.13888889,  0.        ,\n",
       "        0.        ,  0.02222222,  0.13888889,  0.        ,  0.        ,\n",
       "        0.02222222,  0.13888889,  0.        ,  0.        ,  0.02222222,\n",
       "        0.13888889,  0.        ,  0.        ,  0.        ,  0.        ,\n",
       "        0.02222222,  0.        ,  0.        ,  0.02222222,  0.13888889,\n",
       "        0.        ,  0.        ,  0.02222222,  0.13888889,  0.44444444,\n",
       "        0.        ,  0.        ,  0.02222222,  0.13888889,  0.44444444,\n",
       "        0.        ,  0.        ,  0.02222222,  0.13888889,  0.44444444,\n",
       "        0.        ,  0.        ,  0.02222222,  0.13888889,  0.44444444,\n",
       "        0.        ,  0.        ,  0.02222222,  0.13888889,  0.44444444,\n",
       "        0.        ,  0.        ,  0.02222222,  0.13888889,  0.44444444,\n",
       "        0.        ,  0.        ,  0.02222222,  0.13888889,  0.44444444,\n",
       "        0.        ,  0.        ,  0.        ,  0.        ,  0.02222222,\n",
       "        0.        ,  0.        ,  0.02222222,  0.13888889,  0.        ,\n",
       "        0.        ,  0.02222222,  0.13888889,  0.44444444,  0.        ,\n",
       "        0.        ,  0.02222222,  0.13888889,  0.44444444,  0.95238095,\n",
       "        0.        ,  0.        ,  0.02222222,  0.13888889,  0.44444444,\n",
       "        0.95238095,  0.        ,  0.        ,  0.02222222,  0.13888889,\n",
       "        0.44444444,  0.95238095,  0.        ,  0.        ,  0.02222222,\n",
       "        0.13888889,  0.44444444,  0.95238095,  0.        ,  0.        ,\n",
       "        0.02222222,  0.13888889,  0.44444444,  0.95238095,  0.        ,\n",
       "        0.        ,  0.02222222,  0.13888889,  0.44444444,  0.95238095,\n",
       "        0.        ,  0.        ,  0.        ,  0.        ,  0.02222222,\n",
       "        0.        ,  0.        ,  0.02222222,  0.13888889,  0.        ,\n",
       "        0.        ,  0.02222222,  0.13888889,  0.44444444,  0.        ,\n",
       "        0.        ,  0.02222222,  0.13888889,  0.44444444,  0.95238095,\n",
       "        0.        ,  0.        ,  0.02222222,  0.13888889,  0.44444444,\n",
       "        0.95238095,  2.        ,  0.        ,  0.        ,  0.02222222,\n",
       "        0.13888889,  0.44444444,  0.95238095,  2.        ,  0.        ,\n",
       "        0.        ,  0.02222222,  0.13888889,  0.44444444,  0.95238095,\n",
       "        2.        ,  0.        ,  0.        ,  0.02222222,  0.13888889,\n",
       "        0.44444444,  0.95238095,  2.        ,  0.        ,  0.        ,\n",
       "        0.02222222,  0.13888889,  0.44444444,  0.95238095,  2.        ,\n",
       "        0.        ,  0.        ,  0.        ,  0.        ,  0.02222222,\n",
       "        0.        ,  0.        ,  0.02222222,  0.13888889,  0.        ,\n",
       "        0.        ,  0.02222222,  0.13888889,  0.44444444,  0.        ,\n",
       "        0.        ,  0.02222222,  0.13888889,  0.44444444,  0.95238095,\n",
       "        0.        ,  0.        ,  0.02222222,  0.13888889,  0.44444444,\n",
       "        0.95238095,  2.        ,  0.        ,  0.        ,  0.02222222,\n",
       "        0.13888889,  0.44444444,  0.95238095,  2.        ,  3.33333333,\n",
       "        0.        ,  0.        ,  0.02222222,  0.13888889,  0.44444444,\n",
       "        0.95238095,  2.        ,  3.33333333,  0.        ,  0.        ,\n",
       "        0.02222222,  0.13888889,  0.44444444,  0.95238095,  2.        ,\n",
       "        3.33333333,  0.        ,  0.        ,  0.02222222,  0.13888889,\n",
       "        0.44444444,  0.95238095,  2.        ,  3.33333333,  0.        ,\n",
       "        0.        ,  0.        ,  0.        ,  0.02222222,  0.        ,\n",
       "        0.        ,  0.02222222,  0.13888889,  0.        ,  0.        ,\n",
       "        0.02222222,  0.13888889,  0.44444444,  0.        ,  0.        ,\n",
       "        0.02222222,  0.13888889,  0.44444444,  0.95238095,  0.        ,\n",
       "        0.        ,  0.02222222,  0.13888889,  0.44444444,  0.95238095,\n",
       "        2.        ,  0.        ,  0.        ,  0.02222222,  0.13888889,\n",
       "        0.44444444,  0.95238095,  2.        ,  3.33333333,  0.        ,\n",
       "        0.        ,  0.02222222,  0.13888889,  0.44444444,  0.95238095,\n",
       "        2.        ,  3.33333333,  5.05555556,  0.        ,  0.        ,\n",
       "        0.02222222,  0.13888889,  0.44444444,  0.95238095,  2.        ,\n",
       "        3.33333333,  5.05555556,  0.        ,  0.        ,  0.02222222,\n",
       "        0.13888889,  0.44444444,  0.95238095,  2.        ,  3.33333333,\n",
       "        5.05555556,  0.        ,  0.        ,  0.        ,  0.        ,\n",
       "        0.02222222,  0.        ,  0.        ,  0.02222222,  0.13888889,\n",
       "        0.        ,  0.        ,  0.02222222,  0.13888889,  0.44444444,\n",
       "        0.        ,  0.        ,  0.02222222,  0.13888889,  0.44444444,\n",
       "        0.95238095,  0.        ,  0.        ,  0.02222222,  0.13888889,\n",
       "        0.44444444,  0.95238095,  2.        ,  0.        ,  0.        ,\n",
       "        0.02222222,  0.13888889,  0.44444444,  0.95238095,  2.        ,\n",
       "        3.33333333,  0.        ,  0.        ,  0.02222222,  0.13888889,\n",
       "        0.44444444,  0.95238095,  2.        ,  3.33333333,  5.05555556,\n",
       "        0.        ,  0.        ,  0.02222222,  0.13888889,  0.44444444,\n",
       "        0.95238095,  2.        ,  3.33333333,  5.05555556,  7.11111111,\n",
       "        0.        ,  0.        ,  0.02222222,  0.13888889,  0.44444444,\n",
       "        0.95238095,  2.        ,  3.33333333,  5.05555556,  7.11111111,\n",
       "        0.        ,  0.        ,  0.        ,  0.        ,  0.02222222,\n",
       "        0.        ,  0.        ,  0.02222222,  0.13888889,  0.        ,\n",
       "        0.        ,  0.02222222,  0.13888889,  0.44444444,  0.        ,\n",
       "        0.        ,  0.02222222,  0.13888889,  0.44444444,  0.95238095,\n",
       "        0.        ,  0.        ,  0.02222222,  0.13888889,  0.44444444,\n",
       "        0.95238095,  2.        ,  0.        ,  0.        ,  0.02222222,\n",
       "        0.13888889,  0.44444444,  0.95238095,  2.        ,  3.33333333,\n",
       "        0.        ,  0.        ,  0.02222222,  0.13888889,  0.44444444,\n",
       "        0.95238095,  2.        ,  3.33333333,  5.05555556,  0.        ,\n",
       "        0.        ,  0.02222222,  0.13888889,  0.44444444,  0.95238095,\n",
       "        2.        ,  3.33333333,  5.05555556,  7.11111111,  0.        ,\n",
       "        0.        ,  0.02222222,  0.13888889,  0.44444444,  0.95238095,\n",
       "        2.        ,  3.33333333,  5.05555556,  7.11111111, 10.        ])"
      ]
     },
     "execution_count": 166,
     "metadata": {},
     "output_type": "execute_result"
    }
   ],
   "source": [
    "%%time\n",
    "n = 10\n",
    "mat_list = []\n",
    "for locus1 in range(1, n+1):\n",
    "    for locus2 in range(1, n+1):\n",
    "        for linked in range(0, min(locus1, locus2)+1):\n",
    "            mat_list.append(arg_state_reward(n, locus1, locus2, linked))\n",
    "\n",
    "rewards = np.stack(mat_list)\n",
    "print(rewards.shape, rewards.size)\n",
    "rewards[:, 1, 1]"
   ]
  },
  {
   "cell_type": "markdown",
   "id": "9f38a6e1-d86c-4d84-9cac-129a86681e44",
   "metadata": {},
   "source": [
    "----"
   ]
  },
  {
   "cell_type": "code",
   "execution_count": null,
   "id": "daae5d55-c0bc-4718-838f-96ba70312939",
   "metadata": {},
   "outputs": [],
   "source": [
    "\n",
    "def ton_counts(p, n):\n",
    "    return np.array([p.count(i) for i in range(0, n)])\n",
    "\n",
    "def arg_state_reward(n, locus1, locus2, linked):\n",
    "    assert locus1 + locus2\n",
    "\n",
    "    rewards = np.zeros((n+1, n+1))\n",
    "    \n",
    "    l1, l2 = locus1 - linked, locus2 - linked\n",
    "\n",
    "    # the l1 have no descendants at locus2 so they fill the top row\n",
    "\n",
    "    # the l2 have no descendants at locus1 so they fill the left col\n",
    "\n",
    "    # the linked have a number 1-n of descendants at each locus\n",
    "    l1_part, l2_part = partitions(n, size=l1), partitions(n, size=l2)\n",
    "    print(l1_part, l2_part)\n",
    "    for l1_p, l2_p in product(l1_part, l2_part):\n",
    "        for a, b in product(l1_p, l2_p):\n",
    "            rewards[a, b] += multinom(ton_counts(l1_p, n)) + multinom(ton_counts(l2_p, n)) \n",
    "\n",
    "#    rewards = rewards / (l1 + l2)\n",
    "\n",
    "\n",
    "    scale = np.arange(n+1, 0, -1)[:, None] * np.arange(n+1, 0, -1)[None, :]\n",
    "    print(scale)\n",
    "\n",
    "    # scale = 1 / rewards.sum()  # I NEED TO SOMEHOW SCALE EACH CELL WITH THE NUMBER OF LIVE LINEAGES AT EACH LOCUS...\n",
    "    # rewards = rewards * scale\n",
    "    \n",
    "    return rewards / scale / 2    #/ rewards.sum(axis=1)\n",
    "\n",
    "n, l1, l2, linked = 4, 2, 2, 0\n",
    "rewards = arg_state_reward(n, l1, l2, linked)\n",
    "rewards "
   ]
  },
  {
   "cell_type": "code",
   "execution_count": null,
   "id": "8486fcf6-fa67-4a69-9cca-bdfa5028e02a",
   "metadata": {},
   "outputs": [],
   "source": []
  },
  {
   "cell_type": "markdown",
   "id": "9306d88b-c534-421c-bc3d-4bda0b312bb8",
   "metadata": {},
   "source": [
    "# I never realized the the highest ton-rewards are the the same for each level..."
   ]
  },
  {
   "cell_type": "code",
   "execution_count": 26,
   "id": "c88d6d99-048f-45e2-9404-234969ebe9d4",
   "metadata": {},
   "outputs": [
    {
     "data": {
      "text/plain": [
       "array([0.16666667, 0.33333333, 1.        ])"
      ]
     },
     "execution_count": 26,
     "metadata": {},
     "output_type": "execute_result"
    }
   ],
   "source": [
    "times = np.array([1/binom(x, 2) for x in range(n, 1, -1)])\n",
    "times"
   ]
  },
  {
   "cell_type": "code",
   "execution_count": 28,
   "id": "ee99cddf-5fe3-4200-b0dc-5a006a38a4f6",
   "metadata": {},
   "outputs": [
    {
     "data": {
      "text/plain": [
       "array([[4.        , 0.        , 0.        ],\n",
       "       [2.        , 1.        , 0.        ],\n",
       "       [0.66666667, 0.66666667, 0.66666667]])"
      ]
     },
     "execution_count": 28,
     "metadata": {},
     "output_type": "execute_result"
    }
   ],
   "source": [
    "rewards"
   ]
  },
  {
   "cell_type": "code",
   "execution_count": 7,
   "id": "05e663f9-175d-493d-bb36-dac2bb5d3bce",
   "metadata": {},
   "outputs": [
    {
     "data": {
      "text/plain": [
       "array([2.        , 1.        , 0.66666667])"
      ]
     },
     "execution_count": 7,
     "metadata": {},
     "output_type": "execute_result"
    }
   ],
   "source": [
    "sfs = (rewards * times[:, None]).sum(axis=0)\n",
    "sfs"
   ]
  },
  {
   "cell_type": "code",
   "execution_count": 8,
   "id": "a90086e5-b097-45e9-a99a-41285ce587bc",
   "metadata": {},
   "outputs": [
    {
     "data": {
      "image/png": "[encoded data removed]",
      "text/plain": [
       "<Figure size 640x480 with 1 Axes>"
      ]
     },
     "metadata": {},
     "output_type": "display_data"
    }
   ],
   "source": [
    "import matplotlib.pyplot as plt\n",
    "import seaborn as sns\n",
    "plt.bar(list(range(1, n)), sfs)\n",
    "sns.despine()"
   ]
  },
  {
   "cell_type": "markdown",
   "id": "c852ee51-c44d-44db-9a49-9d76d4a26c86",
   "metadata": {},
   "source": [
    "if i know the classes / pop locations at each state, I can compute the "
   ]
  },
  {
   "cell_type": "code",
   "execution_count": 6,
   "id": "d6acfbb2-b5cb-4198-8aaf-a8997afd9903",
   "metadata": {},
   "outputs": [
    {
     "data": {
      "text/plain": [
       "array([6, 5, 4, 3, 2])"
      ]
     },
     "execution_count": 6,
     "metadata": {},
     "output_type": "execute_result"
    }
   ],
   "source": [
    "np.array(range(n, 1, -1))"
   ]
  },
  {
   "cell_type": "code",
   "execution_count": 173,
   "id": "67f6504e-15aa-4c46-81e7-dc0866efd253",
   "metadata": {},
   "outputs": [
    {
     "name": "stdout",
     "output_type": "stream",
     "text": [
      "[10. 30. 40. 25.  6.]\n"
     ]
    },
    {
     "data": {
      "text/plain": [
       "array([[1.2, 1.2, 1.2, 1.2, 1.2],\n",
       "       [2.4, 1.8, 1.2, 0.6, 0. ],\n",
       "       [3.6, 1.8, 0.6, 0. , 0. ],\n",
       "       [4.8, 1.2, 0. , 0. , 0. ],\n",
       "       [6. , 0. , 0. , 0. , 0. ]])"
      ]
     },
     "execution_count": 173,
     "metadata": {},
     "output_type": "execute_result"
    }
   ],
   "source": [
    "import numpy as np\n",
    "from scipy.special import binom\n",
    "from itertools import permutations\n",
    "from collections import defaultdict\n",
    "import pprint\n",
    "\n",
    "def partitions(n):\n",
    "    if n == 0:\n",
    "        yield []\n",
    "        return\n",
    "    for p in partitions(n-1):\n",
    "        yield [1] + p\n",
    "        if p and (len(p) < 2 or p[1] > p[0]):\n",
    "            yield [p[0] + 1] + p[1:]\n",
    "\n",
    "def multinom(params):\n",
    "    if len(params) == 1:\n",
    "        return 1\n",
    "    return binom(sum(params), params[-1]) * multinom(params[:-1])\n",
    "\n",
    "# def parents(p, q):\n",
    "#     idx = np.array(list(range(n)))\n",
    "#     _p = np.array([p.count(i) for i in range(0, n)])\n",
    "#     _q = np.array([q.count(i) for i in range(0, n)])\n",
    "#     # is_parent = int(sum(np.array(_p)*idx != np.array(_q)*idx) == 2 and sum(np.array(_p)*idx - np.array(_q)*idx) == 0)\n",
    "#     is_parent = int(sum(np.array(_p)*idx - np.array(_q)*idx) == 0)\n",
    "#     nr_parent_permut = sum(all(np.array(x) == q) for x in set(permutations(q)))\n",
    "#     print(\"\\t\", p, q, _p, _q, is_parent, nr_parent_permut)\n",
    "#     return is_parent #* nr_parent_permut\n",
    "\n",
    "# d = defaultdict(list)\n",
    "# for p in partitions(n):\n",
    "#     d[len(p)].append(p)\n",
    "\n",
    "\n",
    "n = 6\n",
    "rewards = np.zeros((n, n))\n",
    "for p in partitions(n):\n",
    "    # print(p)\n",
    "    # if len(p) == 1:\n",
    "    #     factor = 1\n",
    "    # else:\n",
    "    #     for q in d[len(p)+1]:\n",
    "    #         factor += parents(p, q)\n",
    "    # rewards[len(p)-1] += np.array([p.count(i) for i in range(0, n)])\n",
    "    # rewards[len(p)-1] += np.array([p.count(i) for i in range(0, n)]) * factor\n",
    "    # rewards[len(p)-1] += np.array([p.count(i) for i in range(0, n)]) * len(set(permutations(p)))\n",
    "    rewards[len(p)-1] += np.array([p.count(i) for i in range(0, n)]) * multinom(np.array([p.count(i) for i in range(0, n)]))\n",
    "\n",
    "\n",
    "rewards = np.delete(rewards, 0, axis=0)\n",
    "rewards = np.delete(rewards, 0, axis=1)\n",
    "row_sums = rewards.sum(axis=1)\n",
    "rewards = rewards / row_sums[:, None] * n\n",
    "rewards"
   ]
  },
  {
   "cell_type": "code",
   "execution_count": 66,
   "id": "e0fa6b30-98df-4dbf-891e-756c1eee0efb",
   "metadata": {},
   "outputs": [
    {
     "data": {
      "text/plain": [
       "array([0, 1, 2, 3])"
      ]
     },
     "execution_count": 66,
     "metadata": {},
     "output_type": "execute_result"
    }
   ],
   "source": [
    "(range(n))"
   ]
  },
  {
   "cell_type": "code",
   "execution_count": 41,
   "id": "2b6daf3d-c7c1-4b11-8cb3-df34cf04ea8d",
   "metadata": {},
   "outputs": [
    {
     "data": {
      "text/plain": [
       "10.0"
      ]
     },
     "execution_count": 41,
     "metadata": {},
     "output_type": "execute_result"
    }
   ],
   "source": [
    "\n",
    "multinom([3, 2])"
   ]
  },
  {
   "cell_type": "code",
   "execution_count": 53,
   "id": "86315aef-d4eb-44c7-9fc2-46b17ba4b2b3",
   "metadata": {},
   "outputs": [
    {
     "data": {
      "text/plain": [
       "1"
      ]
     },
     "execution_count": 53,
     "metadata": {},
     "output_type": "execute_result"
    }
   ],
   "source": [
    "multinom([4])"
   ]
  },
  {
   "cell_type": "code",
   "execution_count": 106,
   "id": "52db52c7-9403-4bcf-a2f4-d28a6f0d7e74",
   "metadata": {},
   "outputs": [
    {
     "data": {
      "text/plain": [
       "2"
      ]
     },
     "execution_count": 106,
     "metadata": {},
     "output_type": "execute_result"
    }
   ],
   "source": [
    "p = np.array([1, 1, 2])\n",
    "sum(all(np.array(x) == p) for x in permutations(p))"
   ]
  },
  {
   "cell_type": "code",
   "execution_count": 94,
   "id": "113bac30-57fa-4241-99c1-d0ab81c50985",
   "metadata": {},
   "outputs": [
    {
     "data": {
      "text/plain": [
       "[array([1, 1, 2]),\n",
       " array([1, 2, 1]),\n",
       " array([1, 1, 2]),\n",
       " array([1, 2, 1]),\n",
       " array([2, 1, 1]),\n",
       " array([2, 1, 1])]"
      ]
     },
     "execution_count": 94,
     "metadata": {},
     "output_type": "execute_result"
    }
   ],
   "source": [
    "list(map(np.array, permutations(p)))"
   ]
  },
  {
   "cell_type": "code",
   "execution_count": 97,
   "id": "199750e8-f185-4e5e-a408-78ec84ed39f2",
   "metadata": {},
   "outputs": [
    {
     "data": {
      "text/plain": [
       "[(1, 1, 2), (1, 2, 1), (1, 1, 2), (1, 2, 1), (2, 1, 1), (2, 1, 1)]"
      ]
     },
     "execution_count": 97,
     "metadata": {},
     "output_type": "execute_result"
    }
   ],
   "source": [
    "list(permutations(p))"
   ]
  },
  {
   "cell_type": "code",
   "execution_count": null,
   "id": "40604458-f897-4243-a501-9aee46f9f191",
   "metadata": {},
   "outputs": [],
   "source": []
  }
 ],
 "metadata": {
  "kernelspec": {
   "display_name": "Python 3 (ipykernel)",
   "language": "python",
   "name": "python3"
  },
  "language_info": {
   "codemirror_mode": {
    "name": "ipython",
    "version": 3
   },
   "file_extension": ".py",
   "mimetype": "text/x-python",
   "name": "python",
   "nbconvert_exporter": "python",
   "pygments_lexer": "ipython3",
   "version": "3.11.4"
  }
 },
 "nbformat": 4,
 "nbformat_minor": 5
}
