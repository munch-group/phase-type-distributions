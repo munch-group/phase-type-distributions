{
 "cells": [
  {
   "cell_type": "code",
   "execution_count": null,
   "id": "b454efcb-a6cc-4ef8-97c7-b0a598c8610c",
   "metadata": {},
   "outputs": [
    {
     "name": "stderr",
     "output_type": "stream",
     "text": [
      "Removing package from ‘/Users/kmt/miniconda3/envs/phasetypes/lib/R/library’\n",
      "(as ‘lib’ is unspecified)\n",
      "\n",
      "Updating HTML index of packages in '.Library'\n",
      "\n",
      "Making 'packages.html' ...\n",
      " done\n",
      "\n",
      "Downloading GitHub repo TobiasRoikjer/PtDAlgorithms@HEAD\n",
      "\n"
     ]
    }
   ],
   "source": [
    "library(devtools)\n",
    "remove.packages(\"ptdalgorithms\")\n",
    "devtools::install_github(\"TobiasRoikjer/PtDAlgorithms\")\n",
    "library(ptdalgorithms)\n",
    "\n",
    "Rcpp::sourceCpp(\"./isolation_migration.cpp\")\n",
    "\n",
    "graph <- construct_im_graph(4,4,1,1,0.1,0.1)\n",
    "vertices_length(graph)\n",
    "\n",
    "for (i in 1:vertices_length(graph)) { edges(vertex_at(graph, i)) }"
   ]
  },
  {
   "cell_type": "code",
   "execution_count": null,
   "id": "976a9061-d879-4e89-b1fb-49218a161270",
   "metadata": {},
   "outputs": [],
   "source": []
  }
 ],
 "metadata": {
  "kernelspec": {
   "display_name": "R",
   "language": "R",
   "name": "ir"
  },
  "language_info": {
   "codemirror_mode": "r",
   "file_extension": ".r",
   "mimetype": "text/x-r-source",
   "name": "R",
   "pygments_lexer": "r",
   "version": "4.1.2"
  }
 },
 "nbformat": 4,
 "nbformat_minor": 5
}
