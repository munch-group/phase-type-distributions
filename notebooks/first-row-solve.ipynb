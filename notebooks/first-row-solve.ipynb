{
 "cells": [
  {
   "cell_type": "markdown",
   "id": "13337715-76a7-4945-9206-679493ceabad",
   "metadata": {},
   "source": [
    "# Standard coalescent"
   ]
  },
  {
   "cell_type": "code",
   "execution_count": 1,
   "id": "fa42f45e-8795-417c-8239-6c0260139441",
   "metadata": {},
   "outputs": [
    {
     "name": "stderr",
     "output_type": "stream",
     "text": [
      "Indlæser krævet pakke: viridisLite\n",
      "\n"
     ]
    }
   ],
   "source": [
    "library(ggplot2)\n",
    "library(viridis)\n",
    "library(grid)\n",
    "library(gridExtra)\n",
    "library(\"IRdisplay\")"
   ]
  },
  {
   "cell_type": "markdown",
   "id": "2d85b518-c7a8-4e9b-a93f-c9fa651ab72e",
   "metadata": {},
   "source": [
    "R header:"
   ]
  },
  {
   "cell_type": "code",
   "execution_count": 3,
   "id": "37fc70fa",
   "metadata": {
    "tags": []
   },
   "outputs": [
    {
     "name": "stderr",
     "output_type": "stream",
     "text": [
      "\u001b[1m\u001b[22m\u001b[36mℹ\u001b[39m Loading \u001b[34mptdalgorithms\u001b[39m\n"
     ]
    },
    {
     "name": "stdout",
     "output_type": "stream",
     "text": [
      "Exports from /Users/kmt/PtDalgorithms/src/ptdalgorithms.cpp:\n",
      "   SEXP create_graph(size_t state_length)\n",
      "   List find_or_create_vertex(SEXP phase_type_graph, IntegerVector state)\n",
      "   void add_edge(SEXP phase_type_vertex_from, SEXP phase_type_vertex_to, double weight, NumericVector parameterized_edge_state = NumericVector::create())\n",
      "   void graph_update_weights_parameterized(SEXP phase_type_graph, NumericVector scalars)\n",
      "   List vertices(SEXP phase_type_graph)\n",
      "   IntegerMatrix states(SEXP phase_type_graph)\n",
      "   int vertices_length(SEXP phase_type_graph)\n",
      "   List vertex_at(SEXP phase_type_graph, int index)\n",
      "   List starting_vertex(SEXP phase_type_graph)\n",
      "   List edges(SEXP phase_type_vertex)\n",
      "   SEXP create_vertex(SEXP phase_type_graph, IntegerVector state)\n",
      "   SEXP find_vertex(SEXP phase_type_graph, IntegerVector state)\n",
      "   List graph_as_matrix(SEXP phase_type_graph)\n",
      "   SEXP matrix_as_graph(NumericVector IPV, NumericMatrix SIM, Nullable <NumericMatrix> rewards = R_NilValue)\n",
      "   SEXP clone_graph(SEXP phase_type_graph)\n",
      "   List graph_as_dph_matrix(SEXP phase_type_graph)\n",
      "   SEXP expectation_dag(SEXP phase_type_graph, Nullable <NumericVector> rewards = R_NilValue)\n",
      "   SEXP reward_transform(SEXP phase_type_graph, NumericVector rewards)\n",
      "   SEXP dph_reward_transform(SEXP phase_type_graph, IntegerVector rewards)\n",
      "   NumericVector normalize_graph(SEXP phase_type_graph)\n",
      "   NumericVector normalize_dph_graph(SEXP phase_type_graph)\n",
      "   NumericVector expected_waiting_time(SEXP phase_type_graph, Nullable <NumericVector> rewards = R_NilValue)\n",
      "   NumericVector expected_residence_time(SEXP phase_type_graph, Nullable <NumericVector> rewards = R_NilValue)\n",
      "   NumericVector dph_expected_visits(SEXP phase_type_graph, Nullable <NumericVector> rewards = R_NilValue)\n",
      "   NumericVector moments(SEXP phase_type_graph, int power, Nullable <NumericVector> rewards = R_NilValue)\n",
      "   double expectation(SEXP phase_type_graph, Nullable <NumericVector> rewards = R_NilValue)\n",
      "   double variance(SEXP phase_type_graph, Nullable <NumericVector> rewards = R_NilValue)\n",
      "   double covariance(SEXP phase_type_graph, NumericVector rewards1, NumericVector rewards2)\n",
      "   double dph_expectation(SEXP phase_type_graph, Nullable <NumericVector> rewards = R_NilValue)\n",
      "   double dph_variance(SEXP phase_type_graph, Nullable <NumericVector> rewards = R_NilValue)\n",
      "   double dph_covariance(SEXP phase_type_graph, NumericVector rewards1, NumericVector rewards2)\n",
      "   bool is_graph_acyclic(SEXP phase_type_graph)\n",
      "   double defect(SEXP phase_type_graph)\n",
      "   NumericVector rph(int n, SEXP phase_type_graph, Nullable <NumericVector> rewards = R_NilValue)\n",
      "   NumericVector dph(NumericVector x, SEXP phase_type_graph, int granularity = 0)\n",
      "   NumericVector pph(NumericVector q, SEXP phase_type_graph, int granularity = 0)\n",
      "   NumericVector stop_probability(SEXP phase_type_graph, double time, int granularity = 0)\n",
      "   NumericVector accumulated_visiting_time(SEXP phase_type_graph, double time, int granularity = 0)\n",
      "   NumericMatrix rmph(int n, SEXP phase_type_graph, NumericMatrix rewards)\n",
      "   NumericVector random_sample_stop_vertex(int n, SEXP phase_type_graph, double time)\n",
      "   NumericVector rdph(int n, SEXP phase_type_graph, Nullable <NumericVector> rewards = R_NilValue)\n",
      "   NumericVector ddph(IntegerVector x, SEXP phase_type_graph)\n",
      "   NumericVector pdph(IntegerVector q, SEXP phase_type_graph)\n",
      "   NumericVector dph_stop_probability(SEXP phase_type_graph, int jumps)\n",
      "   NumericVector dph_accumulated_visits(SEXP phase_type_graph, int jumps)\n",
      "   NumericMatrix rmdph(int n, SEXP phase_type_graph, NumericMatrix rewards)\n",
      "   NumericVector dph_random_sample_stop_vertex(int n, SEXP phase_type_graph, int jumps)\n",
      "   SEXP distribution_context(SEXP phase_type_graph, int granularity = 0)\n",
      "   void distribution_context_step(SEXP probability_distribution_context)\n",
      "   List distribution_context_state(SEXP probability_distribution_context)\n",
      "   NumericVector distribution_context_stop_probability(SEXP probability_distribution_context)\n",
      "   NumericVector distribution_context_accumulated_visiting_time(SEXP probability_distribution_context)\n",
      "   SEXP dph_distribution_context(SEXP phase_type_graph)\n",
      "   void dph_distribution_context_step(SEXP probability_distribution_context)\n",
      "   List dph_distribution_context_state(SEXP probability_distribution_context)\n",
      "   NumericVector dph_distribution_context_stop_probability(SEXP probability_distribution_context)\n",
      "   NumericVector dph_distribution_context_accumulated_visits(SEXP probability_distribution_context)\n",
      "\n",
      "/Users/kmt/PtDalgorithms/src/RcppExports.cpp updated.\n",
      "/Users/kmt/PtDalgorithms/R/RcppExports.R updated.\n"
     ]
    },
    {
     "name": "stderr",
     "output_type": "stream",
     "text": [
      "\u001b[36mℹ\u001b[39m Re-compiling \u001b[34m\u001b[34mptdalgorithms\u001b[34m\u001b[39m (debug build)\n",
      "\n"
     ]
    },
    {
     "name": "stdout",
     "output_type": "stream",
     "text": [
      "\u001b[36m──\u001b[39m \u001b[36mR CMD INSTALL\u001b[39m \u001b[36m───────────────────────────────────────────────────────────────────────────────────────────────────────\u001b[39m\n",
      "\u001b[90m─\u001b[39m\u001b[90m  \u001b[39m\u001b[90minstalling *source* package ‘ptdalgorithms’ ...\u001b[39m\u001b[36m\u001b[36m (500ms)\u001b[36m\u001b[39m\n",
      "   ** using staged installation\n",
      "   ** libs\n",
      "   using C++ compiler: ‘clang version 18.1.8’\n",
      "   using SDK: ‘MacOSX14.4.sdk’\n",
      "   arm64-apple-darwin20.0.0-clang++ -std=gnu++17 -I\"/Users/kmt/miniconda3/envs/phasetype/lib/R/include\" -DNDEBUG  -I'/Users/kmt/miniconda3/envs/phasetype/lib/R/library/Rcpp/include' -D_FORTIFY_SOURCE=2 -isystem /Users/kmt/miniconda3/envs/phasetype/include -mmacosx-version-min=11.0 -mmacosx-version-min=11.0 -I/Users/kmt/miniconda3/envs/phasetype/include   -I../api/cpp -I../api/c -Ic/ -Icpp/ -fPIC  -ftree-vectorize -fPIC -fstack-protector-strong -O2 -pipe -stdlib=libc++ -fvisibility-inlines-hidden -fmessage-length=0 -isystem /Users/kmt/miniconda3/envs/phasetype/include -fdebug-prefix-map=/Users/runner/miniforge3/conda-bld/r-base-split_1723488724675/work=/usr/local/src/conda/r-base-4.4.1 -fdebug-prefix-map=/Users/kmt/miniconda3/envs/phasetype=/usr/local/src/conda-prefix  -UNDEBUG -Wall -pedantic -g -O0 -fdiagnostics-color=always  -c RcppExports.cpp -o RcppExports.o\n",
      "   In file included from RcppExports.cpp:4:\n",
      "   In file included from ./ptdalgorithms_types.h:10:\n",
      "   In file included from ./c/ptdalgorithms.h:1:\n",
      "   \u001b[1m./c/../../api/c/ptdalgorithms.h:208:22: \u001b[0m\u001b[0;1;35mwarning: \u001b[0m\u001b[1m'ptd_graph_expectation_dag' has C-linkage specified, but returns incomplete type 'struct ptd_clone_res' which could be incompatible with C [-Wreturn-type-c-linkage]\u001b[0m\n",
      "     208 | struct ptd_clone_res ptd_graph_expectation_dag(struct ptd_graph *graph, double *rewards);\u001b[0m\n",
      "         | \u001b[0;1;32m                     ^\n",
      "   \u001b[0mIn file included from RcppExports.cpp:4:\n",
      "   In file included from ./ptdalgorithms_types.h:11:\n",
      "   In file included from ./cpp/ptdalgorithmscpp.h:1:\n",
      "   \u001b[1m./cpp/../../api/cpp/ptdalgorithmscpp.h:813:16: \u001b[0m\u001b[0;1;35mwarning: \u001b[0m\u001b[1mclass 'ParameterizedEdge' was previously declared as a struct; this is valid, but may result in linker errors under the Microsoft C++ ABI [-Wmismatched-tags]\u001b[0m\n",
      "     813 |         friend class ParameterizedEdge;\u001b[0m\n",
      "         | \u001b[0;1;32m               ^\n",
      "   \u001b[0m\u001b[1m./cpp/../../api/cpp/ptdalgorithmscpp.h:52:12: \u001b[0m\u001b[0;1;36mnote: \u001b[0mprevious use is here\u001b[0m\n",
      "      52 |     struct ParameterizedEdge;\u001b[0m\n",
      "         | \u001b[0;1;32m           ^\n",
      "   \u001b[0m\u001b[1m./cpp/../../api/cpp/ptdalgorithmscpp.h:994:16: \u001b[0m\u001b[0;1;35mwarning: \u001b[0m\u001b[1mprivate field 'graph' is not used [-Wunused-private-field]\u001b[0m\n",
      "     994 |         Graph &graph;\u001b[0m\n",
      "         | \u001b[0;1;32m               ^\n",
      "   \u001b[0m\u001b[1m./cpp/../../api/cpp/ptdalgorithmscpp.h:1037:16: \u001b[0m\u001b[0;1;35mwarning: \u001b[0m\u001b[1mprivate field 'graph' is not used [-Wunused-private-field]\u001b[0m\n",
      "    1037 |         Graph &graph;\u001b[0m\n",
      "         | \u001b[0;1;32m               ^\n",
      "   \u001b[0m4 warnings generated.\n",
      "   arm64-apple-darwin20.0.0-clang++ -std=gnu++17 -I\"/Users/kmt/miniconda3/envs/phasetype/lib/R/include\" -DNDEBUG  -I'/Users/kmt/miniconda3/envs/phasetype/lib/R/library/Rcpp/include' -D_FORTIFY_SOURCE=2 -isystem /Users/kmt/miniconda3/envs/phasetype/include -mmacosx-version-min=11.0 -mmacosx-version-min=11.0 -I/Users/kmt/miniconda3/envs/phasetype/include   -I../api/cpp -I../api/c -Ic/ -Icpp/ -fPIC  -ftree-vectorize -fPIC -fstack-protector-strong -O2 -pipe -stdlib=libc++ -fvisibility-inlines-hidden -fmessage-length=0 -isystem /Users/kmt/miniconda3/envs/phasetype/include -fdebug-prefix-map=/Users/runner/miniforge3/conda-bld/r-base-split_1723488724675/work=/usr/local/src/conda/r-base-4.4.1 -fdebug-prefix-map=/Users/kmt/miniconda3/envs/phasetype=/usr/local/src/conda-prefix  -UNDEBUG -Wall -pedantic -g -O0 -fdiagnostics-color=always  -c ptdalgorithms.cpp -o ptdalgorithms.o\n",
      "   In file included from ptdalgorithms.cpp:42:\n",
      "   In file included from ./ptdalgorithms_types.h:10:\n",
      "   In file included from ./c/ptdalgorithms.h:1:\n",
      "   \u001b[1m./c/../../api/c/ptdalgorithms.h:208:22: \u001b[0m\u001b[0;1;35mwarning: \u001b[0m\u001b[1m'ptd_graph_expectation_dag' has C-linkage specified, but returns incomplete type 'struct ptd_clone_res' which could be incompatible with C [-Wreturn-type-c-linkage]\u001b[0m\n",
      "     208 | struct ptd_clone_res ptd_graph_expectation_dag(struct ptd_graph *graph, double *rewards);\u001b[0m\n",
      "         | \u001b[0;1;32m                     ^\n",
      "   \u001b[0mIn file included from ptdalgorithms.cpp:42:\n",
      "   In file included from ./ptdalgorithms_types.h:11:\n",
      "   In file included from ./cpp/ptdalgorithmscpp.h:1:\n",
      "   \u001b[1m./cpp/../../api/cpp/ptdalgorithmscpp.h:813:16: \u001b[0m\u001b[0;1;35mwarning: \u001b[0m\u001b[1mclass 'ParameterizedEdge' was previously declared as a struct; this is valid, but may result in linker errors under the Microsoft C++ ABI [-Wmismatched-tags]\u001b[0m\n",
      "     813 |         friend class ParameterizedEdge;\u001b[0m\n",
      "         | \u001b[0;1;32m               ^\n",
      "   \u001b[0m\u001b[1m./cpp/../../api/cpp/ptdalgorithmscpp.h:52:12: \u001b[0m\u001b[0;1;36mnote: \u001b[0mprevious use is here\u001b[0m\n",
      "      52 |     struct ParameterizedEdge;\u001b[0m\n",
      "         | \u001b[0;1;32m           ^\n",
      "   \u001b[0mIn file included from ptdalgorithms.cpp:42:\n",
      "   In file included from ./ptdalgorithms_types.h:10:\n",
      "   In file included from ./c/ptdalgorithms.h:1:\n",
      "   \u001b[1m./c/../../api/c/ptdalgorithms.h:407:17: \u001b[0m\u001b[0;1;35mwarning: \u001b[0m\u001b[1mtoken pasting of ',' and __VA_ARGS__ is a GNU extension [-Wgnu-zero-variadic-macro-arguments]\u001b[0m\n",
      "     407 |          message, ##__VA_ARGS__);                  \\\u001b[0m\n",
      "         | \u001b[0;1;32m                ^\n",
      "   \u001b[0m\u001b[1m./c/../../api/c/ptdalgorithms.h:407:17: \u001b[0m\u001b[0;1;35mwarning: \u001b[0m\u001b[1mtoken pasting of ',' and __VA_ARGS__ is a GNU extension [-Wgnu-zero-variadic-macro-arguments]\u001b[0m\n",
      "   \u001b[1m./c/../../api/c/ptdalgorithms.h:407:17: \u001b[0m\u001b[0;1;35mwarning: \u001b[0m\u001b[1mtoken pasting of ',' and __VA_ARGS__ is a GNU extension [-Wgnu-zero-variadic-macro-arguments]\u001b[0m\n",
      "   \u001b[1m./c/../../api/c/ptdalgorithms.h:391:15: \u001b[0m\u001b[0;1;35mwarning: \u001b[0m\u001b[1mtoken pasting of ',' and __VA_ARGS__ is a GNU extension [-Wgnu-zero-variadic-macro-arguments]\u001b[0m\n",
      "     391 |          error, ##__VA_ARGS__);                    \\\u001b[0m\n",
      "         | \u001b[0;1;32m              ^\n",
      "   \u001b[0mIn file included from ptdalgorithms.cpp:46:\n",
      "   \u001b[1m./c/ptdalgorithms.c:3328:9: \u001b[0m\u001b[0;1;35mwarning: \u001b[0m\u001b[1mvariable 'ri' set but not used [-Wunused-but-set-variable]\u001b[0m\n",
      "    3328 |     int ri = 0;\u001b[0m\n",
      "         | \u001b[0;1;32m        ^\n",
      "   \u001b[0mIn file included from ptdalgorithms.cpp:42:\n",
      "   In file included from ./ptdalgorithms_types.h:10:\n",
      "   In file included from ./c/ptdalgorithms.h:1:\n",
      "   \u001b[1m./c/../../api/c/ptdalgorithms.h:391:15: \u001b[0m\u001b[0;1;35mwarning: \u001b[0m\u001b[1mtoken pasting of ',' and __VA_ARGS__ is a GNU extension [-Wgnu-zero-variadic-macro-arguments]\u001b[0m\n",
      "     391 |          error, ##__VA_ARGS__);                    \\\u001b[0m\n",
      "         | \u001b[0;1;32m              ^\n",
      "   \u001b[0mIn file included from ptdalgorithms.cpp:46:\n",
      "   \u001b[1m./c/ptdalgorithms.c:296:13: \u001b[0m\u001b[0;1;35mwarning: \u001b[0m\u001b[1m'static' function 'ptd_avl_node_destroy' declared in header file should be declared 'static inline' [-Wunneeded-internal-declaration]\u001b[0m\n",
      "     296 | static void ptd_avl_node_destroy(struct ptd_avl_node *vertex) {\u001b[0m\n",
      "         | \u001b[0;1;32m            ^~~~~~~~~~~~~~~~~~~~\n",
      "   \u001b[0m\u001b[1m./c/ptdalgorithms.c:307:13: \u001b[0m\u001b[0;1;35mwarning: \u001b[0m\u001b[1m'static' function 'avl_free' declared in header file should be declared 'static inline' [-Wunneeded-internal-declaration]\u001b[0m\n",
      "     307 | static void avl_free(struct ptd_avl_node *vertex) {\u001b[0m\n",
      "         | \u001b[0;1;32m            ^~~~~~~~\n",
      "   \u001b[0m\u001b[1m./c/ptdalgorithms.c:453:15: \u001b[0m\u001b[0;1;35mwarning: \u001b[0m\u001b[1m'static' function 'avl_vec_get_size' declared in header file should be declared 'static inline' [-Wunneeded-internal-declaration]\u001b[0m\n",
      "     453 | static size_t avl_vec_get_size(struct ptd_avl_node *vertex) {\u001b[0m\n",
      "         | \u001b[0;1;32m              ^~~~~~~~~~~~~~~~\n",
      "   \u001b[0mIn file included from ptdalgorithms.cpp:42:\n",
      "   In file included from ./ptdalgorithms_types.h:11:\n",
      "   In file included from ./cpp/ptdalgorithmscpp.h:1:\n",
      "   \u001b[1m./cpp/../../api/cpp/ptdalgorithmscpp.h:830:16: \u001b[0m\u001b[0;1;35mwarning: \u001b[0m\u001b[1mprivate field 'state_size' is not used [-Wunused-private-field]\u001b[0m\n",
      "     830 |         size_t state_size;\u001b[0m\n",
      "         | \u001b[0;1;32m               ^\n",
      "   \u001b[0m\u001b[1m./cpp/../../api/cpp/ptdalgorithmscpp.h:994:16: \u001b[0m\u001b[0;1;35mwarning: \u001b[0m\u001b[1mprivate field 'graph' is not used [-Wunused-private-field]\u001b[0m\n",
      "     994 |         Graph &graph;\u001b[0m\n",
      "         | \u001b[0;1;32m               ^\n",
      "   \u001b[0m\u001b[1m./cpp/../../api/cpp/ptdalgorithmscpp.h:1037:16: \u001b[0m\u001b[0;1;35mwarning: \u001b[0m\u001b[1mprivate field 'graph' is not used [-Wunused-private-field]\u001b[0m\n",
      "    1037 |         Graph &graph;\u001b[0m\n",
      "         | \u001b[0;1;32m               ^\n",
      "   \u001b[0m14 warnings generated.\n",
      "   arm64-apple-darwin20.0.0-clang++ -std=gnu++17 -dynamiclib -Wl,-headerpad_max_install_names -undefined dynamic_lookup -L/Users/kmt/miniconda3/envs/phasetype/lib/R/lib -Wl,-dead_strip_dylibs -Wl,-headerpad_max_install_names -Wl,-dead_strip_dylibs -Wl,-rpath,/Users/kmt/miniconda3/envs/phasetype/lib -L/Users/kmt/miniconda3/envs/phasetype/lib -o ptdalgorithms.so RcppExports.o ptdalgorithms.o -L/Users/kmt/miniconda3/envs/phasetype/lib/R/lib -lR -Wl,-framework -Wl,CoreFoundation\n",
      "   installing to /private/var/folders/s6/srs8qkh52w1_h32d65z95tth0000gn/T/RtmpZA1U14/devtools_install_7dbf3b13551b/00LOCK-PtDalgorithms/00new/ptdalgorithms/libs\n",
      "   ** checking absolute paths in shared objects and dynamic libraries\n",
      "\u001b[90m─\u001b[39m\u001b[90m  \u001b[39m\u001b[90mDONE (ptdalgorithms)\u001b[39m\u001b[36m\u001b[39m\n",
      "\r"
     ]
    }
   ],
   "source": [
    "library(tidyverse)\n",
    "library(devtools)\n",
    "#remove.packages(\"ptdalgorithms\")\n",
    "# devtools::install_github(\"TobiasRoikjer/PtDAlgorithms\")\n",
    "#devtools::install_local('../../PtDAlgorithms', quiet=FALSE)\n",
    "devtools::load_all(path=\"../../PtDAlgorithms\", quiet=FALSE, recompile=TRUE)\n",
    "\n",
    "library(ptdalgorithms)"
   ]
  },
  {
   "cell_type": "code",
   "execution_count": 4,
   "id": "695e54bf-3d9a-4cc4-bc65-43bb400d50a4",
   "metadata": {},
   "outputs": [],
   "source": [
    "# remove.packages(\"ptdalgorithms\")"
   ]
  },
  {
   "cell_type": "code",
   "execution_count": 5,
   "id": "69796c9d-976c-4169-8ce8-16a036c4f5c5",
   "metadata": {},
   "outputs": [],
   "source": [
    "# install.packages(\"remotes\")\n",
    "# remotes::install_github(\"Thell/RcppMP\")"
   ]
  },
  {
   "cell_type": "code",
   "execution_count": 6,
   "id": "3c737854-59f8-472c-8693-2ff23b63fa19",
   "metadata": {},
   "outputs": [],
   "source": [
    "# # GNUMPLIB\n",
    "# ./configure --prefix=$CONDA_PREFIX --enable-cxx\n"
   ]
  },
  {
   "cell_type": "code",
   "execution_count": 7,
   "id": "5d3da91f-f5d3-4fd9-8536-c3a9d133992d",
   "metadata": {},
   "outputs": [],
   "source": [
    "# !export LIBS=\"-L/Users/kmt/miniconda3/envs/phasetype/lib\"\n",
    "# !export CPPFLAGS=\"-I/Users/kmt/miniconda3/envs/phasetype/include\""
   ]
  },
  {
   "cell_type": "code",
   "execution_count": 8,
   "id": "91471179-2835-4926-a1f4-a621907a89f4",
   "metadata": {},
   "outputs": [],
   "source": [
    "Rcpp::sourceCpp(\"./cpp/coalescent.cpp\")"
   ]
  },
  {
   "cell_type": "code",
   "execution_count": 9,
   "id": "2b8005e7-139d-4fb4-90dd-e08c02cb2029",
   "metadata": {},
   "outputs": [],
   "source": [
    "source(\"plot_functions.R\")"
   ]
  },
  {
   "cell_type": "code",
   "execution_count": 10,
   "id": "33eed390-030c-496b-8e75-889ae6a6ba52",
   "metadata": {},
   "outputs": [],
   "source": [
    "theme_set(theme_bw())\n",
    "\n",
    "despine <- theme(panel.border = element_blank(), panel.grid.major = element_blank(),\n",
    "panel.grid.minor = element_blank(), axis.line = element_line(colour = \"black\"),\n",
    "                text=element_text(family=\"Arial\"))"
   ]
  },
  {
   "cell_type": "code",
   "execution_count": 11,
   "id": "0cd9d033-7525-4718-a356-cd5c3b5f51d6",
   "metadata": {},
   "outputs": [],
   "source": [
    "# p <- ggplot(data=iris, aes(x = Sepal.Length, y = Sepal.Width)) +\n",
    "#       geom_point(aes(color=Species, shape=Species)) + despine\n",
    "\n",
    "# ggplotly(width=600, height=400)"
   ]
  },
  {
   "cell_type": "code",
   "execution_count": 12,
   "id": "c0454155-c8af-405b-a41a-ae5aa795a1a7",
   "metadata": {
    "scrolled": true
   },
   "outputs": [],
   "source": [
    "despine <- theme(panel.border = element_blank(), panel.grid.major = element_blank(),\n",
    "    panel.grid.minor = element_blank(), axis.line = element_line(colour = \"black\"),\n",
    "                text=element_text(size=17)) \n",
    "\n",
    "options(repr.plot.width=10, repr.plot.height=7)\n",
    "\n",
    "# ggplot(data=iris, aes(x = Sepal.Length, y = Sepal.Width)) +\n",
    "#       geom_point(aes(color=Species, shape=Species), size=5, alpha=0.5) + scale_color_brewer(palette=\"Set1\") + despine"
   ]
  },
  {
   "cell_type": "markdown",
   "id": "9fa28b9b-2c9d-41d5-be4b-9431c9c8c043",
   "metadata": {},
   "source": [
    "# Issue: after expectation is run, gam$SIM doubles, fix or tell user not to reuse graph_as_matrix(graph) as matrix result\n",
    "\n",
    "```\n",
    "graph <- standard_coalescent(4)\n",
    "print(graph_as_matrix(graph))\n",
    "expectation(graph)\n",
    "print(graph_as_matrix(graph))\n",
    "```"
   ]
  },
  {
   "cell_type": "markdown",
   "id": "14f96e4f-5a1d-4486-9593-b34893c94844",
   "metadata": {},
   "source": [
    "## Generate standard coalescent state space"
   ]
  },
  {
   "cell_type": "markdown",
   "id": "43564b3a-c3cc-4da3-8775-429b2c7c0b01",
   "metadata": {},
   "source": [
    "If you want to generate the state space:"
   ]
  },
  {
   "cell_type": "code",
   "execution_count": 13,
   "id": "13ca6238-eeb6-42af-a02b-61287ef27870",
   "metadata": {},
   "outputs": [],
   "source": [
    "standard_coalescent <- function(n) {\n",
    "    \n",
    "    # n <- 4\n",
    "      \n",
    "    state_vector_length <- n + 1\n",
    "    graph <- create_graph(state_vector_length)\n",
    "    starting_vertex <- vertex_at(graph, 1)\n",
    "    initial_state <- c(rep(0, n), 0)\n",
    "    initial_state[1] <- n\n",
    "    \n",
    "    add_edge(\n",
    "      starting_vertex,\n",
    "      create_vertex(graph, initial_state),\n",
    "      1\n",
    "    )\n",
    "    index <- 2\n",
    "    \n",
    "    while (index <= vertices_length(graph)) {\n",
    "      vertex <- vertex_at(graph, index)\n",
    "      \n",
    "      # loop over all classes of lineages\n",
    "      for (i in 1:n) {\n",
    "        for (j in i:n) {\n",
    "          state <- vertex$state\n",
    "          \n",
    "          # if same class, there need to be at least two to coalesce\n",
    "          if (i == j) {\n",
    "            if (state[i] < 2) {\n",
    "              next;\n",
    "            }\n",
    "            # coal rate\n",
    "            rate <- state[i] * (state[i] - 1) / 2\n",
    "          } else {\n",
    "            # else at least one in each class to coalesce\n",
    "            if (state[i] < 1 || state[j] < 1) {\n",
    "              next;\n",
    "            }\n",
    "            # number of combinations\n",
    "            rate <- state[i] * state[j]\n",
    "          }\n",
    "          \n",
    "          # copy state\n",
    "          child_state <- state\n",
    "          # update child state\n",
    "          child_state[i] <- child_state[i] - 1\n",
    "          child_state[j] <- child_state[j] - 1\n",
    "          child_state[i+j] <- child_state[i+j] + 1\n",
    "\n",
    "          add_edge(\n",
    "              vertex,\n",
    "              find_or_create_vertex(graph, child_state),\n",
    "              rate, c(rate)\n",
    "            )\n",
    "        }\n",
    "      }\n",
    "          \n",
    "      index <- index + 1\n",
    "    }\n",
    "    return(graph)\n",
    "}\n",
    "# states <- t(sapply(1:vertices_length(graph), function(index) vertex_at(graph, index)$state ))\n",
    "# ipv <- graph_as_matrix(graph)$IPV\n",
    "# sim <- graph_as_matrix(graph)$SIM"
   ]
  },
  {
   "cell_type": "code",
   "execution_count": 14,
   "id": "945a3303-68dc-46b3-a7d0-404b91e78729",
   "metadata": {
    "vscode": {
     "languageId": "r"
    }
   },
   "outputs": [
    {
     "name": "stdout",
     "output_type": "stream",
     "text": [
      "[1] 2 2\n"
     ]
    },
    {
     "ename": "ERROR",
     "evalue": "Error in eval(expr, envir, enclos): objekt 'kingman' blev ikke fundet\n",
     "output_type": "error",
     "traceback": [
      "Error in eval(expr, envir, enclos): objekt 'kingman' blev ikke fundet\nTraceback:\n",
      "1. state_space(initial_state, kingman, n)"
     ]
    }
   ],
   "source": [
    "state_space <- function(initial_state, fun, ...) {\n",
    "    \n",
    "    graph <- create_graph(length(initial_state))\n",
    "    starting_vertex <- vertex_at(graph, 1)\n",
    "    add_edge(\n",
    "      starting_vertex,\n",
    "      create_vertex(graph, initial_state),\n",
    "      1\n",
    "    )\n",
    "    index <- 2\n",
    "\n",
    "    while (index <= vertices_length(graph)) {\n",
    "      print(c(index, vertices_length(graph)))\n",
    "      vertex <- vertex_at(graph, index)\n",
    "      state <- vertex$state\n",
    "\n",
    "      result <- fun(state, graph=graph, ...)\n",
    "\n",
    "      if (length(result$states) > 0) {\n",
    "        for (i in 1:length(result$states)) {\n",
    "            add_edge(\n",
    "              vertex,\n",
    "              find_or_create_vertex(graph, c(result$states[[i]])),\n",
    "              c(result$rates[[i]]), c(result$rates[[i]])\n",
    "            )\n",
    "        }\n",
    "      }\n",
    "      index <- index + 1\n",
    "   }\n",
    "   return(graph)\n",
    "}\n",
    "\n",
    "\n",
    "\n",
    "# just give the state_space function an initial state, \n",
    "# a callback function and any arguments the callback function\n",
    "# that takes a \"state\" and \"graph\" argument and any other\n",
    "# arguments passed state_space:\n",
    "\n",
    "n <- 4\n",
    "initial_state = rep(0, n)\n",
    "initial_state[1] <- n\n",
    "\n",
    "graph <- state_space(initial_state, kingman, n)\n",
    "graph"
   ]
  },
  {
   "cell_type": "markdown",
   "id": "2586b312-329c-482c-bae9-107f4842c608",
   "metadata": {},
   "source": [
    "------"
   ]
  },
  {
   "cell_type": "markdown",
   "id": "65441276-29b0-478d-baa3-5cc7bda7b746",
   "metadata": {},
   "source": [
    "Just checking if I can do a \"first-row solve\" that is faster than R's solve."
   ]
  },
  {
   "cell_type": "code",
   "execution_count": 24,
   "id": "1b49faad-a9d1-4338-a24b-bb9054693875",
   "metadata": {},
   "outputs": [],
   "source": [
    "graph <- standard_coalescent(7)\n",
    "gam <- graph_as_matrix(graph)\n",
    "nr_states <- nrow(gam$states)"
   ]
  },
  {
   "cell_type": "code",
   "execution_count": 25,
   "id": "9b8b7c46-d8ed-491c-80ce-f152f2a53c34",
   "metadata": {},
   "outputs": [
    {
     "data": {
      "image/svg+xml": [
       "<?xml version=\"1.0\" encoding=\"UTF-8\" standalone=\"no\"?>\n",
       "<!DOCTYPE svg PUBLIC \"-//W3C//DTD SVG 1.1//EN\"\n",
       " \"http://www.w3.org/Graphics/SVG/1.1/DTD/svg11.dtd\">\n",
       "<!-- Generated by graphviz version 12.0.0 (0)\n",
       " -->\n",
       "<!-- Title: G Pages: 1 -->\n",
       "<svg width=\"720pt\" height=\"137pt\"\n",
       " viewBox=\"0.00 0.00 720.00 137.01\" xmlns=\"http://www.w3.org/2000/svg\" xmlns:xlink=\"http://www.w3.org/1999/xlink\">\n",
       "<g id=\"graph0\" class=\"graph\" transform=\"scale(0.422868 0.422868) rotate(0) translate(36 288)\">\n",
       "<title>G</title>\n",
       "<!-- Absorb -->\n",
       "<g id=\"node1\" class=\"node\">\n",
       "<title>Absorb</title>\n",
       "<ellipse fill=\"white\" stroke=\"lightgrey\" cx=\"1584.94\" cy=\"-162\" rx=\"45.72\" ry=\"18\"/>\n",
       "<text text-anchor=\"middle\" x=\"1584.94\" y=\"-155.05\" font-family=\"Helvetica,Arial,sans-serif\" font-size=\"16.00\">Absorb</text>\n",
       "</g>\n",
       "<!-- IPV -->\n",
       "<g id=\"node2\" class=\"node\">\n",
       "<title>IPV</title>\n",
       "<ellipse fill=\"white\" stroke=\"lightgrey\" cx=\"28.32\" cy=\"-90\" rx=\"28.32\" ry=\"18\"/>\n",
       "<text text-anchor=\"middle\" x=\"28.32\" y=\"-83.05\" font-family=\"Helvetica,Arial,sans-serif\" font-size=\"16.00\">IPV</text>\n",
       "</g>\n",
       "<!-- 1 -->\n",
       "<g id=\"node3\" class=\"node\">\n",
       "<title>1</title>\n",
       "<ellipse fill=\"white\" stroke=\"black\" cx=\"210.19\" cy=\"-90\" rx=\"81.55\" ry=\"18\"/>\n",
       "<text text-anchor=\"middle\" x=\"210.19\" y=\"-83.05\" font-family=\"Helvetica,Arial,sans-serif\" font-size=\"16.00\">7,0,0,0,0,0,0,0</text>\n",
       "</g>\n",
       "<!-- IPV&#45;&gt;1 -->\n",
       "<g id=\"edge1\" class=\"edge\">\n",
       "<title>IPV&#45;&gt;1</title>\n",
       "<path fill=\"none\" stroke=\"#49fe44\" d=\"M57.03,-90C73.39,-90 95.15,-90 117.08,-90\"/>\n",
       "<polygon fill=\"#49fe44\" stroke=\"#49fe44\" points=\"117.02,-93.5 127.02,-90 117.02,-86.5 117.02,-93.5\"/>\n",
       "<text text-anchor=\"middle\" x=\"88.01\" y=\"-74.8\" font-family=\"Helvetica,Arial,sans-serif\" font-size=\"16.00\" fill=\"#49fe44\">1</text>\n",
       "</g>\n",
       "<!-- 2 -->\n",
       "<g id=\"node4\" class=\"node\">\n",
       "<title>2</title>\n",
       "<ellipse fill=\"white\" stroke=\"black\" cx=\"445.28\" cy=\"-90\" rx=\"81.55\" ry=\"18\"/>\n",
       "<text text-anchor=\"middle\" x=\"445.28\" y=\"-83.05\" font-family=\"Helvetica,Arial,sans-serif\" font-size=\"16.00\">5,1,0,0,0,0,0,0</text>\n",
       "</g>\n",
       "<!-- 1&#45;&gt;2 -->\n",
       "<g id=\"edge2\" class=\"edge\">\n",
       "<title>1&#45;&gt;2</title>\n",
       "<path fill=\"none\" stroke=\"#a47292\" d=\"M292.06,-90C311.5,-90 332.4,-90 352.3,-90\"/>\n",
       "<polygon fill=\"#a47292\" stroke=\"#a47292\" points=\"352.04,-93.5 362.04,-90 352.04,-86.5 352.04,-93.5\"/>\n",
       "<text text-anchor=\"middle\" x=\"318.71\" y=\"-74.8\" font-family=\"Helvetica,Arial,sans-serif\" font-size=\"16.00\" fill=\"#a47292\">21</text>\n",
       "</g>\n",
       "<!-- 3 -->\n",
       "<g id=\"node5\" class=\"node\">\n",
       "<title>3</title>\n",
       "<ellipse fill=\"white\" stroke=\"black\" cx=\"680.38\" cy=\"-126\" rx=\"81.55\" ry=\"18\"/>\n",
       "<text text-anchor=\"middle\" x=\"680.38\" y=\"-119.05\" font-family=\"Helvetica,Arial,sans-serif\" font-size=\"16.00\">3,2,0,0,0,0,0,0</text>\n",
       "</g>\n",
       "<!-- 2&#45;&gt;3 -->\n",
       "<g id=\"edge3\" class=\"edge\">\n",
       "<title>2&#45;&gt;3</title>\n",
       "<path fill=\"none\" stroke=\"#34ecf6\" d=\"M513.08,-100.32C540.63,-104.57 572.75,-109.53 601.38,-113.95\"/>\n",
       "<polygon fill=\"#34ecf6\" stroke=\"#34ecf6\" points=\"600.66,-117.38 611.08,-115.45 601.73,-110.47 600.66,-117.38\"/>\n",
       "<text text-anchor=\"middle\" x=\"553.83\" y=\"-92.8\" font-family=\"Helvetica,Arial,sans-serif\" font-size=\"16.00\" fill=\"#34ecf6\">10</text>\n",
       "</g>\n",
       "<!-- 4 -->\n",
       "<g id=\"node6\" class=\"node\">\n",
       "<title>4</title>\n",
       "<ellipse fill=\"white\" stroke=\"black\" cx=\"680.38\" cy=\"-54\" rx=\"81.55\" ry=\"18\"/>\n",
       "<text text-anchor=\"middle\" x=\"680.38\" y=\"-47.05\" font-family=\"Helvetica,Arial,sans-serif\" font-size=\"16.00\">4,0,1,0,0,0,0,0</text>\n",
       "</g>\n",
       "<!-- 2&#45;&gt;4 -->\n",
       "<g id=\"edge4\" class=\"edge\">\n",
       "<title>2&#45;&gt;4</title>\n",
       "<path fill=\"none\" stroke=\"#f674a0\" d=\"M513.08,-79.68C540.63,-75.43 572.75,-70.47 601.38,-66.05\"/>\n",
       "<polygon fill=\"#f674a0\" stroke=\"#f674a0\" points=\"601.73,-69.53 611.08,-64.55 600.66,-62.62 601.73,-69.53\"/>\n",
       "<text text-anchor=\"middle\" x=\"558.33\" y=\"-56.8\" font-family=\"Helvetica,Arial,sans-serif\" font-size=\"16.00\" fill=\"#f674a0\">5</text>\n",
       "</g>\n",
       "<!-- 5 -->\n",
       "<g id=\"node7\" class=\"node\">\n",
       "<title>5</title>\n",
       "<ellipse fill=\"white\" stroke=\"black\" cx=\"915.48\" cy=\"-198\" rx=\"81.55\" ry=\"18\"/>\n",
       "<text text-anchor=\"middle\" x=\"915.48\" y=\"-191.05\" font-family=\"Helvetica,Arial,sans-serif\" font-size=\"16.00\">1,3,0,0,0,0,0,0</text>\n",
       "</g>\n",
       "<!-- 3&#45;&gt;5 -->\n",
       "<g id=\"edge5\" class=\"edge\">\n",
       "<title>3&#45;&gt;5</title>\n",
       "<path fill=\"none\" stroke=\"#08842e\" d=\"M729.4,-140.83C765.99,-152.13 816.55,-167.75 855.58,-179.81\"/>\n",
       "<polygon fill=\"#08842e\" stroke=\"#08842e\" points=\"854.49,-183.13 865.08,-182.74 856.56,-176.45 854.49,-183.13\"/>\n",
       "<text text-anchor=\"middle\" x=\"793.81\" y=\"-146.92\" font-family=\"Helvetica,Arial,sans-serif\" font-size=\"16.00\" fill=\"#08842e\">3</text>\n",
       "</g>\n",
       "<!-- 6 -->\n",
       "<g id=\"node8\" class=\"node\">\n",
       "<title>6</title>\n",
       "<ellipse fill=\"white\" stroke=\"black\" cx=\"915.48\" cy=\"-126\" rx=\"81.55\" ry=\"18\"/>\n",
       "<text text-anchor=\"middle\" x=\"915.48\" y=\"-119.05\" font-family=\"Helvetica,Arial,sans-serif\" font-size=\"16.00\">2,1,1,0,0,0,0,0</text>\n",
       "</g>\n",
       "<!-- 3&#45;&gt;6 -->\n",
       "<g id=\"edge6\" class=\"edge\">\n",
       "<title>3&#45;&gt;6</title>\n",
       "<path fill=\"none\" stroke=\"#dd1116\" d=\"M762.25,-126C781.69,-126 802.59,-126 822.49,-126\"/>\n",
       "<polygon fill=\"#dd1116\" stroke=\"#dd1116\" points=\"822.23,-129.5 832.23,-126 822.23,-122.5 822.23,-129.5\"/>\n",
       "<text text-anchor=\"middle\" x=\"793.41\" y=\"-110.8\" font-family=\"Helvetica,Arial,sans-serif\" font-size=\"16.00\" fill=\"#dd1116\">6</text>\n",
       "</g>\n",
       "<!-- 7 -->\n",
       "<g id=\"node9\" class=\"node\">\n",
       "<title>7</title>\n",
       "<ellipse fill=\"white\" stroke=\"black\" cx=\"915.48\" cy=\"-54\" rx=\"81.55\" ry=\"18\"/>\n",
       "<text text-anchor=\"middle\" x=\"915.48\" y=\"-47.05\" font-family=\"Helvetica,Arial,sans-serif\" font-size=\"16.00\">3,0,0,1,0,0,0,0</text>\n",
       "</g>\n",
       "<!-- 3&#45;&gt;7 -->\n",
       "<g id=\"edge7\" class=\"edge\">\n",
       "<title>3&#45;&gt;7</title>\n",
       "<path fill=\"none\" stroke=\"#ce627e\" d=\"M729.4,-111.17C765.99,-99.87 816.55,-84.25 855.58,-72.19\"/>\n",
       "<polygon fill=\"#ce627e\" stroke=\"#ce627e\" points=\"856.56,-75.55 865.08,-69.26 854.49,-68.87 856.56,-75.55\"/>\n",
       "<text text-anchor=\"middle\" x=\"793.81\" y=\"-74.68\" font-family=\"Helvetica,Arial,sans-serif\" font-size=\"16.00\" fill=\"#ce627e\">1</text>\n",
       "</g>\n",
       "<!-- 4&#45;&gt;6 -->\n",
       "<g id=\"edge8\" class=\"edge\">\n",
       "<title>4&#45;&gt;6</title>\n",
       "<path fill=\"none\" stroke=\"#39e90a\" d=\"M729.4,-68.83C765.99,-80.13 816.55,-95.75 855.58,-107.81\"/>\n",
       "<polygon fill=\"#39e90a\" stroke=\"#39e90a\" points=\"854.49,-111.13 865.08,-110.74 856.56,-104.45 854.49,-111.13\"/>\n",
       "<text text-anchor=\"middle\" x=\"802.81\" y=\"-74.92\" font-family=\"Helvetica,Arial,sans-serif\" font-size=\"16.00\" fill=\"#39e90a\">6</text>\n",
       "</g>\n",
       "<!-- 4&#45;&gt;7 -->\n",
       "<g id=\"edge9\" class=\"edge\">\n",
       "<title>4&#45;&gt;7</title>\n",
       "<path fill=\"none\" stroke=\"#11df44\" d=\"M762.25,-54C781.69,-54 802.59,-54 822.49,-54\"/>\n",
       "<polygon fill=\"#11df44\" stroke=\"#11df44\" points=\"822.23,-57.5 832.23,-54 822.23,-50.5 822.23,-57.5\"/>\n",
       "<text text-anchor=\"middle\" x=\"793.41\" y=\"-38.8\" font-family=\"Helvetica,Arial,sans-serif\" font-size=\"16.00\" fill=\"#11df44\">4</text>\n",
       "</g>\n",
       "<!-- 8 -->\n",
       "<g id=\"node10\" class=\"node\">\n",
       "<title>8</title>\n",
       "<ellipse fill=\"white\" stroke=\"black\" cx=\"1150.57\" cy=\"-234\" rx=\"81.55\" ry=\"18\"/>\n",
       "<text text-anchor=\"middle\" x=\"1150.57\" y=\"-227.05\" font-family=\"Helvetica,Arial,sans-serif\" font-size=\"16.00\">0,2,1,0,0,0,0,0</text>\n",
       "</g>\n",
       "<!-- 5&#45;&gt;8 -->\n",
       "<g id=\"edge10\" class=\"edge\">\n",
       "<title>5&#45;&gt;8</title>\n",
       "<path fill=\"none\" stroke=\"#63d8d3\" d=\"M983.27,-208.32C1010.83,-212.57 1042.95,-217.53 1071.57,-221.95\"/>\n",
       "<polygon fill=\"#63d8d3\" stroke=\"#63d8d3\" points=\"1070.85,-225.38 1081.27,-223.45 1071.92,-218.47 1070.85,-225.38\"/>\n",
       "<text text-anchor=\"middle\" x=\"1028.52\" y=\"-200.8\" font-family=\"Helvetica,Arial,sans-serif\" font-size=\"16.00\" fill=\"#63d8d3\">3</text>\n",
       "</g>\n",
       "<!-- 10 -->\n",
       "<g id=\"node12\" class=\"node\">\n",
       "<title>10</title>\n",
       "<ellipse fill=\"white\" stroke=\"black\" cx=\"1150.57\" cy=\"-162\" rx=\"81.55\" ry=\"18\"/>\n",
       "<text text-anchor=\"middle\" x=\"1150.57\" y=\"-155.05\" font-family=\"Helvetica,Arial,sans-serif\" font-size=\"16.00\">1,1,0,1,0,0,0,0</text>\n",
       "</g>\n",
       "<!-- 5&#45;&gt;10 -->\n",
       "<g id=\"edge11\" class=\"edge\">\n",
       "<title>5&#45;&gt;10</title>\n",
       "<path fill=\"none\" stroke=\"#ba1de4\" d=\"M983.27,-187.68C1010.83,-183.43 1042.95,-178.47 1071.57,-174.05\"/>\n",
       "<polygon fill=\"#ba1de4\" stroke=\"#ba1de4\" points=\"1071.92,-177.53 1081.27,-172.55 1070.85,-170.62 1071.92,-177.53\"/>\n",
       "<text text-anchor=\"middle\" x=\"1028.52\" y=\"-164.8\" font-family=\"Helvetica,Arial,sans-serif\" font-size=\"16.00\" fill=\"#ba1de4\">3</text>\n",
       "</g>\n",
       "<!-- 6&#45;&gt;8 -->\n",
       "<g id=\"edge12\" class=\"edge\">\n",
       "<title>6&#45;&gt;8</title>\n",
       "<path fill=\"none\" stroke=\"#17a579\" d=\"M953.93,-142.33C967.55,-148.38 983.04,-155.38 997.02,-162 1029.36,-177.3 1036.69,-182.7 1069.02,-198 1079.62,-203.01 1091.08,-208.25 1101.94,-213.12\"/>\n",
       "<polygon fill=\"#17a579\" stroke=\"#17a579\" points=\"1100.18,-216.17 1110.74,-217.05 1103.04,-209.78 1100.18,-216.17\"/>\n",
       "<text text-anchor=\"middle\" x=\"1037.52\" y=\"-164.8\" font-family=\"Helvetica,Arial,sans-serif\" font-size=\"16.00\" fill=\"#17a579\">1</text>\n",
       "</g>\n",
       "<!-- 9 -->\n",
       "<g id=\"node11\" class=\"node\">\n",
       "<title>9</title>\n",
       "<ellipse fill=\"white\" stroke=\"black\" cx=\"1150.57\" cy=\"-90\" rx=\"81.55\" ry=\"18\"/>\n",
       "<text text-anchor=\"middle\" x=\"1150.57\" y=\"-83.05\" font-family=\"Helvetica,Arial,sans-serif\" font-size=\"16.00\">1,0,2,0,0,0,0,0</text>\n",
       "</g>\n",
       "<!-- 6&#45;&gt;9 -->\n",
       "<g id=\"edge13\" class=\"edge\">\n",
       "<title>6&#45;&gt;9</title>\n",
       "<path fill=\"none\" stroke=\"#bdfd18\" d=\"M983.27,-115.68C1010.83,-111.43 1042.95,-106.47 1071.57,-102.05\"/>\n",
       "<polygon fill=\"#bdfd18\" stroke=\"#bdfd18\" points=\"1071.92,-105.53 1081.27,-100.55 1070.85,-98.62 1071.92,-105.53\"/>\n",
       "<text text-anchor=\"middle\" x=\"1028.52\" y=\"-92.8\" font-family=\"Helvetica,Arial,sans-serif\" font-size=\"16.00\" fill=\"#bdfd18\">2</text>\n",
       "</g>\n",
       "<!-- 6&#45;&gt;10 -->\n",
       "<g id=\"edge14\" class=\"edge\">\n",
       "<title>6&#45;&gt;10</title>\n",
       "<path fill=\"none\" stroke=\"#4983bf\" d=\"M983.27,-136.32C1010.83,-140.57 1042.95,-145.53 1071.57,-149.95\"/>\n",
       "<polygon fill=\"#4983bf\" stroke=\"#4983bf\" points=\"1070.85,-153.38 1081.27,-151.45 1071.92,-146.47 1070.85,-153.38\"/>\n",
       "<text text-anchor=\"middle\" x=\"1028.52\" y=\"-128.8\" font-family=\"Helvetica,Arial,sans-serif\" font-size=\"16.00\" fill=\"#4983bf\">2</text>\n",
       "</g>\n",
       "<!-- 11 -->\n",
       "<g id=\"node13\" class=\"node\">\n",
       "<title>11</title>\n",
       "<ellipse fill=\"white\" stroke=\"black\" cx=\"1150.57\" cy=\"-18\" rx=\"81.55\" ry=\"18\"/>\n",
       "<text text-anchor=\"middle\" x=\"1150.57\" y=\"-11.05\" font-family=\"Helvetica,Arial,sans-serif\" font-size=\"16.00\">2,0,0,0,1,0,0,0</text>\n",
       "</g>\n",
       "<!-- 6&#45;&gt;11 -->\n",
       "<g id=\"edge15\" class=\"edge\">\n",
       "<title>6&#45;&gt;11</title>\n",
       "<path fill=\"none\" stroke=\"#f2c82b\" d=\"M953.93,-109.67C967.55,-103.62 983.04,-96.62 997.02,-90 1029.36,-74.7 1036.69,-69.3 1069.02,-54 1079.62,-48.99 1091.08,-43.75 1101.94,-38.88\"/>\n",
       "<polygon fill=\"#f2c82b\" stroke=\"#f2c82b\" points=\"1103.04,-42.22 1110.74,-34.95 1100.18,-35.83 1103.04,-42.22\"/>\n",
       "<text text-anchor=\"middle\" x=\"1028.52\" y=\"-56.8\" font-family=\"Helvetica,Arial,sans-serif\" font-size=\"16.00\" fill=\"#f2c82b\">1</text>\n",
       "</g>\n",
       "<!-- 7&#45;&gt;10 -->\n",
       "<g id=\"edge16\" class=\"edge\">\n",
       "<title>7&#45;&gt;10</title>\n",
       "<path fill=\"none\" stroke=\"#801c0f\" d=\"M953.93,-70.33C967.55,-76.38 983.04,-83.38 997.02,-90 1029.36,-105.3 1036.69,-110.7 1069.02,-126 1079.62,-131.01 1091.08,-136.25 1101.94,-141.12\"/>\n",
       "<polygon fill=\"#801c0f\" stroke=\"#801c0f\" points=\"1100.18,-144.17 1110.74,-145.05 1103.04,-137.78 1100.18,-144.17\"/>\n",
       "<text text-anchor=\"middle\" x=\"1037.52\" y=\"-92.8\" font-family=\"Helvetica,Arial,sans-serif\" font-size=\"16.00\" fill=\"#801c0f\">3</text>\n",
       "</g>\n",
       "<!-- 7&#45;&gt;11 -->\n",
       "<g id=\"edge17\" class=\"edge\">\n",
       "<title>7&#45;&gt;11</title>\n",
       "<path fill=\"none\" stroke=\"#fdc33e\" d=\"M983.27,-43.68C1010.83,-39.43 1042.95,-34.47 1071.57,-30.05\"/>\n",
       "<polygon fill=\"#fdc33e\" stroke=\"#fdc33e\" points=\"1071.92,-33.53 1081.27,-28.55 1070.85,-26.62 1071.92,-33.53\"/>\n",
       "<text text-anchor=\"middle\" x=\"1028.52\" y=\"-20.8\" font-family=\"Helvetica,Arial,sans-serif\" font-size=\"16.00\" fill=\"#fdc33e\">3</text>\n",
       "</g>\n",
       "<!-- 12 -->\n",
       "<g id=\"node14\" class=\"node\">\n",
       "<title>12</title>\n",
       "<ellipse fill=\"white\" stroke=\"black\" cx=\"1385.67\" cy=\"-234\" rx=\"81.55\" ry=\"18\"/>\n",
       "<text text-anchor=\"middle\" x=\"1385.67\" y=\"-227.05\" font-family=\"Helvetica,Arial,sans-serif\" font-size=\"16.00\">0,0,1,1,0,0,0,0</text>\n",
       "</g>\n",
       "<!-- 8&#45;&gt;12 -->\n",
       "<g id=\"edge18\" class=\"edge\">\n",
       "<title>8&#45;&gt;12</title>\n",
       "<path fill=\"none\" stroke=\"#6523fe\" d=\"M1232.44,-234C1251.88,-234 1272.78,-234 1292.68,-234\"/>\n",
       "<polygon fill=\"#6523fe\" stroke=\"#6523fe\" points=\"1292.43,-237.5 1302.43,-234 1292.43,-230.5 1292.43,-237.5\"/>\n",
       "<text text-anchor=\"middle\" x=\"1263.6\" y=\"-218.8\" font-family=\"Helvetica,Arial,sans-serif\" font-size=\"16.00\" fill=\"#6523fe\">1</text>\n",
       "</g>\n",
       "<!-- 13 -->\n",
       "<g id=\"node15\" class=\"node\">\n",
       "<title>13</title>\n",
       "<ellipse fill=\"white\" stroke=\"black\" cx=\"1385.67\" cy=\"-162\" rx=\"81.55\" ry=\"18\"/>\n",
       "<text text-anchor=\"middle\" x=\"1385.67\" y=\"-155.05\" font-family=\"Helvetica,Arial,sans-serif\" font-size=\"16.00\">0,1,0,0,1,0,0,0</text>\n",
       "</g>\n",
       "<!-- 8&#45;&gt;13 -->\n",
       "<g id=\"edge19\" class=\"edge\">\n",
       "<title>8&#45;&gt;13</title>\n",
       "<path fill=\"none\" stroke=\"#ea14db\" d=\"M1199.59,-219.17C1236.18,-207.87 1286.74,-192.25 1325.78,-180.19\"/>\n",
       "<polygon fill=\"#ea14db\" stroke=\"#ea14db\" points=\"1326.75,-183.55 1335.27,-177.26 1324.68,-176.87 1326.75,-183.55\"/>\n",
       "<text text-anchor=\"middle\" x=\"1264\" y=\"-182.68\" font-family=\"Helvetica,Arial,sans-serif\" font-size=\"16.00\" fill=\"#ea14db\">2</text>\n",
       "</g>\n",
       "<!-- 9&#45;&gt;12 -->\n",
       "<g id=\"edge20\" class=\"edge\">\n",
       "<title>9&#45;&gt;12</title>\n",
       "<path fill=\"none\" stroke=\"#d88e64\" d=\"M1194.1,-105.56C1206.85,-111.11 1220.51,-118.01 1232.12,-126 1269.4,-151.66 1266.84,-172.34 1304.12,-198 1312.65,-203.87 1322.28,-209.15 1331.85,-213.74\"/>\n",
       "<polygon fill=\"#d88e64\" stroke=\"#d88e64\" points=\"1330.22,-216.84 1340.77,-217.81 1333.13,-210.47 1330.22,-216.84\"/>\n",
       "<text text-anchor=\"middle\" x=\"1263.62\" y=\"-146.8\" font-family=\"Helvetica,Arial,sans-serif\" font-size=\"16.00\" fill=\"#d88e64\">2</text>\n",
       "</g>\n",
       "<!-- 14 -->\n",
       "<g id=\"node16\" class=\"node\">\n",
       "<title>14</title>\n",
       "<ellipse fill=\"white\" stroke=\"black\" cx=\"1385.67\" cy=\"-90\" rx=\"81.55\" ry=\"18\"/>\n",
       "<text text-anchor=\"middle\" x=\"1385.67\" y=\"-83.05\" font-family=\"Helvetica,Arial,sans-serif\" font-size=\"16.00\">1,0,0,0,0,1,0,0</text>\n",
       "</g>\n",
       "<!-- 9&#45;&gt;14 -->\n",
       "<g id=\"edge21\" class=\"edge\">\n",
       "<title>9&#45;&gt;14</title>\n",
       "<path fill=\"none\" stroke=\"#cf9248\" d=\"M1232.44,-90C1251.88,-90 1272.78,-90 1292.68,-90\"/>\n",
       "<polygon fill=\"#cf9248\" stroke=\"#cf9248\" points=\"1292.43,-93.5 1302.43,-90 1292.43,-86.5 1292.43,-93.5\"/>\n",
       "<text text-anchor=\"middle\" x=\"1263.6\" y=\"-74.8\" font-family=\"Helvetica,Arial,sans-serif\" font-size=\"16.00\" fill=\"#cf9248\">1</text>\n",
       "</g>\n",
       "<!-- 10&#45;&gt;12 -->\n",
       "<g id=\"edge22\" class=\"edge\">\n",
       "<title>10&#45;&gt;12</title>\n",
       "<path fill=\"none\" stroke=\"#d7930e\" d=\"M1199.59,-176.83C1236.18,-188.13 1286.74,-203.75 1325.78,-215.81\"/>\n",
       "<polygon fill=\"#d7930e\" stroke=\"#d7930e\" points=\"1324.68,-219.13 1335.27,-218.74 1326.75,-212.45 1324.68,-219.13\"/>\n",
       "<text text-anchor=\"middle\" x=\"1273\" y=\"-182.92\" font-family=\"Helvetica,Arial,sans-serif\" font-size=\"16.00\" fill=\"#d7930e\">1</text>\n",
       "</g>\n",
       "<!-- 10&#45;&gt;13 -->\n",
       "<g id=\"edge23\" class=\"edge\">\n",
       "<title>10&#45;&gt;13</title>\n",
       "<path fill=\"none\" stroke=\"#327717\" d=\"M1232.44,-162C1251.88,-162 1272.78,-162 1292.68,-162\"/>\n",
       "<polygon fill=\"#327717\" stroke=\"#327717\" points=\"1292.43,-165.5 1302.43,-162 1292.43,-158.5 1292.43,-165.5\"/>\n",
       "<text text-anchor=\"middle\" x=\"1272.6\" y=\"-146.8\" font-family=\"Helvetica,Arial,sans-serif\" font-size=\"16.00\" fill=\"#327717\">1</text>\n",
       "</g>\n",
       "<!-- 10&#45;&gt;14 -->\n",
       "<g id=\"edge24\" class=\"edge\">\n",
       "<title>10&#45;&gt;14</title>\n",
       "<path fill=\"none\" stroke=\"#85032e\" d=\"M1199.59,-147.17C1236.18,-135.87 1286.74,-120.25 1325.78,-108.19\"/>\n",
       "<polygon fill=\"#85032e\" stroke=\"#85032e\" points=\"1326.75,-111.55 1335.27,-105.26 1324.68,-104.87 1326.75,-111.55\"/>\n",
       "<text text-anchor=\"middle\" x=\"1264\" y=\"-110.68\" font-family=\"Helvetica,Arial,sans-serif\" font-size=\"16.00\" fill=\"#85032e\">1</text>\n",
       "</g>\n",
       "<!-- 11&#45;&gt;13 -->\n",
       "<g id=\"edge25\" class=\"edge\">\n",
       "<title>11&#45;&gt;13</title>\n",
       "<path fill=\"none\" stroke=\"#812bc3\" d=\"M1194.1,-33.56C1206.85,-39.11 1220.51,-46.01 1232.12,-54 1269.4,-79.66 1266.84,-100.34 1304.12,-126 1312.65,-131.87 1322.28,-137.15 1331.85,-141.74\"/>\n",
       "<polygon fill=\"#812bc3\" stroke=\"#812bc3\" points=\"1330.22,-144.84 1340.77,-145.81 1333.13,-138.47 1330.22,-144.84\"/>\n",
       "<text text-anchor=\"middle\" x=\"1272.62\" y=\"-74.8\" font-family=\"Helvetica,Arial,sans-serif\" font-size=\"16.00\" fill=\"#812bc3\">1</text>\n",
       "</g>\n",
       "<!-- 11&#45;&gt;14 -->\n",
       "<g id=\"edge26\" class=\"edge\">\n",
       "<title>11&#45;&gt;14</title>\n",
       "<path fill=\"none\" stroke=\"#55454c\" d=\"M1199.59,-32.83C1236.18,-44.13 1286.74,-59.75 1325.78,-71.81\"/>\n",
       "<polygon fill=\"#55454c\" stroke=\"#55454c\" points=\"1324.68,-75.13 1335.27,-74.74 1326.75,-68.45 1324.68,-75.13\"/>\n",
       "<text text-anchor=\"middle\" x=\"1264\" y=\"-38.92\" font-family=\"Helvetica,Arial,sans-serif\" font-size=\"16.00\" fill=\"#55454c\">2</text>\n",
       "</g>\n",
       "<!-- 12&#45;&gt;Absorb -->\n",
       "<g id=\"edge27\" class=\"edge\">\n",
       "<title>12&#45;&gt;Absorb</title>\n",
       "<path fill=\"none\" stroke=\"#adc3bb\" d=\"M1429.47,-218.38C1462.05,-206.49 1506.75,-190.17 1539.68,-178.15\"/>\n",
       "<polygon fill=\"#adc3bb\" stroke=\"#adc3bb\" points=\"1540.75,-181.49 1548.94,-174.77 1538.35,-174.91 1540.75,-181.49\"/>\n",
       "<text text-anchor=\"middle\" x=\"1485.39\" y=\"-181.13\" font-family=\"Helvetica,Arial,sans-serif\" font-size=\"16.00\" fill=\"#adc3bb\">1</text>\n",
       "</g>\n",
       "<!-- 13&#45;&gt;Absorb -->\n",
       "<g id=\"edge28\" class=\"edge\">\n",
       "<title>13&#45;&gt;Absorb</title>\n",
       "<path fill=\"none\" stroke=\"#bc97c9\" d=\"M1467.48,-162C1487.65,-162 1508.86,-162 1527.57,-162\"/>\n",
       "<polygon fill=\"#bc97c9\" stroke=\"#bc97c9\" points=\"1527.35,-165.5 1537.35,-162 1527.35,-158.5 1527.35,-165.5\"/>\n",
       "<text text-anchor=\"middle\" x=\"1498.8\" y=\"-146.8\" font-family=\"Helvetica,Arial,sans-serif\" font-size=\"16.00\" fill=\"#bc97c9\">1</text>\n",
       "</g>\n",
       "<!-- 14&#45;&gt;Absorb -->\n",
       "<g id=\"edge29\" class=\"edge\">\n",
       "<title>14&#45;&gt;Absorb</title>\n",
       "<path fill=\"none\" stroke=\"#ffae1b\" d=\"M1429.47,-105.62C1462.05,-117.51 1506.75,-133.83 1539.68,-145.85\"/>\n",
       "<polygon fill=\"#ffae1b\" stroke=\"#ffae1b\" points=\"1538.35,-149.09 1548.94,-149.23 1540.75,-142.51 1538.35,-149.09\"/>\n",
       "<text text-anchor=\"middle\" x=\"1485.39\" y=\"-112.47\" font-family=\"Helvetica,Arial,sans-serif\" font-size=\"16.00\" fill=\"#ffae1b\">1</text>\n",
       "</g>\n",
       "</g>\n",
       "</svg>\n"
      ]
     },
     "metadata": {},
     "output_type": "display_data"
    }
   ],
   "source": [
    "plot_graph(graph_as_matrix(graph), size=c(10, 10), align=TRUE, rainbow=TRUE,\n",
    "               fontsize=16, ranksep=1, nodesep=0.5)\n",
    "         "
   ]
  },
  {
   "cell_type": "markdown",
   "id": "a60317ba-09d5-4555-88a1-cd6a895ab822",
   "metadata": {},
   "source": [
    "## Compute expected residence time in each state"
   ]
  },
  {
   "cell_type": "markdown",
   "id": "2efcfea3-0ff1-48ae-a9ad-2d760fa69ac3",
   "metadata": {},
   "source": [
    "### R version, that works (on DAGs only like coalescent)"
   ]
  },
  {
   "cell_type": "code",
   "execution_count": 31,
   "id": "88aa3dc6-1f02-472d-93b7-1aad97c00293",
   "metadata": {},
   "outputs": [],
   "source": [
    "residence_times <- function(graph) {\n",
    "    res <- rep(0, vertices_length(graph))\n",
    "    res[1] <- expectation(graph)\n",
    "    sca <- rep(0, vertices_length(graph))\n",
    "    sca[1] <- 1\n",
    "    start_idx <- starting_vertex(graph)$index\n",
    "    for (vertex in vertices(graph)) {\n",
    "        idx <- vertex$index\n",
    "        pushed <- 0\n",
    "        for (edge in edges(vertex)) {\n",
    "            child_idx <- edge$child$index\n",
    "            child_prob <- edge$weight / vertex$rate\n",
    "            wt <- 1/vertex$rate * sca[idx]            \n",
    "            # if (vertex$index == 1) {\n",
    "            if (idx == start_idx) {\n",
    "                wt <- 0\n",
    "            } \n",
    "            if (length(edges(edge$child)) > 0) { # don't push to absorbing\n",
    "                push <- (res[idx] - wt) * child_prob\n",
    "                res[child_idx] <- res[child_idx] + push\n",
    "                sca[child_idx] <- sca[child_idx] + sca[idx] * child_prob\n",
    "                pushed <- pushed + push\n",
    "            }\n",
    "        }\n",
    "        res[idx] <- res[idx] - pushed\n",
    "    }\n",
    "    return(res)\n",
    "}\n",
    "#residence_times(graph)"
   ]
  },
  {
   "cell_type": "code",
   "execution_count": 32,
   "id": "95dd57fe-23d5-45a2-83d9-2813cccafe9f",
   "metadata": {},
   "outputs": [
    {
     "data": {
      "text/html": [
       "<style>\n",
       ".list-inline {list-style: none; margin:0; padding: 0}\n",
       ".list-inline>li {display: inline-block}\n",
       ".list-inline>li:not(:last-child)::after {content: \"\\00b7\"; padding: 0 .5ex}\n",
       "</style>\n",
       "<ol class=list-inline><li>0</li><li>0.0476190476190477</li><li>0.0666666666666667</li><li>0.0666666666666667</li><li>0.0333333333333333</li><li>0.0333333333333333</li><li>0.1</li><li>0.0333333333333333</li><li>0.0666666666666667</li><li>0.133333333333333</li><li>0.0666666666666667</li><li>0.0666666666666667</li><li>0.333333333333333</li><li>0.333333333333333</li><li>0.333333333333333</li><li>0</li></ol>\n"
      ],
      "text/latex": [
       "\\begin{enumerate*}\n",
       "\\item 0\n",
       "\\item 0.0476190476190477\n",
       "\\item 0.0666666666666667\n",
       "\\item 0.0666666666666667\n",
       "\\item 0.0333333333333333\n",
       "\\item 0.0333333333333333\n",
       "\\item 0.1\n",
       "\\item 0.0333333333333333\n",
       "\\item 0.0666666666666667\n",
       "\\item 0.133333333333333\n",
       "\\item 0.0666666666666667\n",
       "\\item 0.0666666666666667\n",
       "\\item 0.333333333333333\n",
       "\\item 0.333333333333333\n",
       "\\item 0.333333333333333\n",
       "\\item 0\n",
       "\\end{enumerate*}\n"
      ],
      "text/markdown": [
       "1. 0\n",
       "2. 0.0476190476190477\n",
       "3. 0.0666666666666667\n",
       "4. 0.0666666666666667\n",
       "5. 0.0333333333333333\n",
       "6. 0.0333333333333333\n",
       "7. 0.1\n",
       "8. 0.0333333333333333\n",
       "9. 0.0666666666666667\n",
       "10. 0.133333333333333\n",
       "11. 0.0666666666666667\n",
       "12. 0.0666666666666667\n",
       "13. 0.333333333333333\n",
       "14. 0.333333333333333\n",
       "15. 0.333333333333333\n",
       "16. 0\n",
       "\n",
       "\n"
      ],
      "text/plain": [
       " [1] 0.00000000 0.04761905 0.06666667 0.06666667 0.03333333 0.03333333\n",
       " [7] 0.10000000 0.03333333 0.06666667 0.13333333 0.06666667 0.06666667\n",
       "[13] 0.33333333 0.33333333 0.33333333 0.00000000"
      ]
     },
     "metadata": {},
     "output_type": "display_data"
    }
   ],
   "source": [
    "residence_times(graph)"
   ]
  },
  {
   "cell_type": "markdown",
   "id": "4145423e-9f9f-4b96-b649-167ed20c980f",
   "metadata": {},
   "source": [
    "### C++ version that should work on graphs with cycles as well"
   ]
  },
  {
   "cell_type": "code",
   "execution_count": 33,
   "id": "318a4128-d87e-49f9-9384-497be66ca96a",
   "metadata": {},
   "outputs": [
    {
     "data": {
      "text/html": [
       "<style>\n",
       ".list-inline {list-style: none; margin:0; padding: 0}\n",
       ".list-inline>li {display: inline-block}\n",
       ".list-inline>li:not(:last-child)::after {content: \"\\00b7\"; padding: 0 .5ex}\n",
       "</style>\n",
       "<ol class=list-inline><li>0</li><li>21</li><li>7.38095238095239</li><li>1.14666666666667</li><li>-0.209523809523807</li><li>0.308571428571429</li><li>-6.0031746031746</li><li>-8.09523809523809</li><li>-2.81206349206349</li><li>-7.5447619047619</li><li>-3.2010582010582</li><li>-3.45714285714286</li><li>0</li><li>0</li><li>0</li><li>0</li></ol>\n"
      ],
      "text/latex": [
       "\\begin{enumerate*}\n",
       "\\item 0\n",
       "\\item 21\n",
       "\\item 7.38095238095239\n",
       "\\item 1.14666666666667\n",
       "\\item -0.209523809523807\n",
       "\\item 0.308571428571429\n",
       "\\item -6.0031746031746\n",
       "\\item -8.09523809523809\n",
       "\\item -2.81206349206349\n",
       "\\item -7.5447619047619\n",
       "\\item -3.2010582010582\n",
       "\\item -3.45714285714286\n",
       "\\item 0\n",
       "\\item 0\n",
       "\\item 0\n",
       "\\item 0\n",
       "\\end{enumerate*}\n"
      ],
      "text/markdown": [
       "1. 0\n",
       "2. 21\n",
       "3. 7.38095238095239\n",
       "4. 1.14666666666667\n",
       "5. -0.209523809523807\n",
       "6. 0.308571428571429\n",
       "7. -6.0031746031746\n",
       "8. -8.09523809523809\n",
       "9. -2.81206349206349\n",
       "10. -7.5447619047619\n",
       "11. -3.2010582010582\n",
       "12. -3.45714285714286\n",
       "13. 0\n",
       "14. 0\n",
       "15. 0\n",
       "16. 0\n",
       "\n",
       "\n"
      ],
      "text/plain": [
       " [1]  0.0000000 21.0000000  7.3809524  1.1466667 -0.2095238  0.3085714\n",
       " [7] -6.0031746 -8.0952381 -2.8120635 -7.5447619 -3.2010582 -3.4571429\n",
       "[13]  0.0000000  0.0000000  0.0000000  0.0000000"
      ]
     },
     "metadata": {},
     "output_type": "display_data"
    }
   ],
   "source": [
    "expected_residence_time(graph)"
   ]
  },
  {
   "cell_type": "code",
   "execution_count": null,
   "id": "764a0afd-46bd-4bfa-888a-0a178e4e6337",
   "metadata": {},
   "outputs": [],
   "source": []
  },
  {
   "cell_type": "code",
   "execution_count": null,
   "id": "ecc33d75-8cda-4102-a663-3886b68e7d09",
   "metadata": {},
   "outputs": [],
   "source": []
  },
  {
   "cell_type": "markdown",
   "id": "cc91505e-21d8-4a7b-b34f-86b2ebf7ce12",
   "metadata": {},
   "source": [
    "## To make general first-row-solve, it should handle all kinds of matrices, not only subintensity matrices with non-negative values and nagative diagonal"
   ]
  },
  {
   "cell_type": "markdown",
   "id": "f37bc6eb-2c0d-4b14-9919-e7a13f4c1ecd",
   "metadata": {},
   "source": [
    "---"
   ]
  },
  {
   "cell_type": "code",
   "execution_count": 28,
   "id": "954bffef-a4ec-4cd7-8fb0-aa86e010e9fe",
   "metadata": {},
   "outputs": [
    {
     "name": "stdout",
     "output_type": "stream",
     "text": [
      "  [,1] [,2] [,3] [,4]\n",
      "a    2    1    3    3\n",
      "b    5    3    5    4\n",
      "c    6    5    9    6\n",
      "d    1    3    2    2\n"
     ]
    },
    {
     "data": {
      "text/html": [
       "<table class=\"dataframe\">\n",
       "<caption>A matrix: 4 × 4 of type dbl</caption>\n",
       "<thead>\n",
       "\t<tr><th scope=col>a</th><th scope=col>b</th><th scope=col>c</th><th scope=col>d</th></tr>\n",
       "</thead>\n",
       "<tbody>\n",
       "\t<tr><td>-0.2702703</td><td> 0.56756757</td><td>-0.18918919</td><td>-0.1621622</td></tr>\n",
       "\t<tr><td>-0.3243243</td><td> 0.08108108</td><td>-0.02702703</td><td> 0.4054054</td></tr>\n",
       "\t<tr><td>-0.1621622</td><td>-0.45945946</td><td> 0.48648649</td><td>-0.2972973</td></tr>\n",
       "\t<tr><td> 0.7837838</td><td> 0.05405405</td><td>-0.35135135</td><td> 0.2702703</td></tr>\n",
       "</tbody>\n",
       "</table>\n"
      ],
      "text/latex": [
       "A matrix: 4 × 4 of type dbl\n",
       "\\begin{tabular}{llll}\n",
       " a & b & c & d\\\\\n",
       "\\hline\n",
       "\t -0.2702703 &  0.56756757 & -0.18918919 & -0.1621622\\\\\n",
       "\t -0.3243243 &  0.08108108 & -0.02702703 &  0.4054054\\\\\n",
       "\t -0.1621622 & -0.45945946 &  0.48648649 & -0.2972973\\\\\n",
       "\t  0.7837838 &  0.05405405 & -0.35135135 &  0.2702703\\\\\n",
       "\\end{tabular}\n"
      ],
      "text/markdown": [
       "\n",
       "A matrix: 4 × 4 of type dbl\n",
       "\n",
       "| a | b | c | d |\n",
       "|---|---|---|---|\n",
       "| -0.2702703 |  0.56756757 | -0.18918919 | -0.1621622 |\n",
       "| -0.3243243 |  0.08108108 | -0.02702703 |  0.4054054 |\n",
       "| -0.1621622 | -0.45945946 |  0.48648649 | -0.2972973 |\n",
       "|  0.7837838 |  0.05405405 | -0.35135135 |  0.2702703 |\n",
       "\n"
      ],
      "text/plain": [
       "     a          b           c           d         \n",
       "[1,] -0.2702703  0.56756757 -0.18918919 -0.1621622\n",
       "[2,] -0.3243243  0.08108108 -0.02702703  0.4054054\n",
       "[3,] -0.1621622 -0.45945946  0.48648649 -0.2972973\n",
       "[4,]  0.7837838  0.05405405 -0.35135135  0.2702703"
      ]
     },
     "metadata": {},
     "output_type": "display_data"
    }
   ],
   "source": [
    "# with 4x4 matrix\n",
    "a <- c(2, 1, 3, 3) \n",
    "b <- c(5, 3, 5, 4) \n",
    "c <- c(6, 5, 9, 6)\n",
    "d <- c(1, 3, 2, 2)\n",
    "xyz <- rbind(a, b, c, d) \n",
    "print(xyz)\n",
    "solve(a=xyz) "
   ]
  },
  {
   "cell_type": "code",
   "execution_count": 29,
   "id": "830580ed-0283-489d-9fbf-b42881f9c9dd",
   "metadata": {},
   "outputs": [
    {
     "data": {
      "text/html": [
       "<table class=\"dataframe\">\n",
       "<caption>A matrix: 4 × 4 of type dbl</caption>\n",
       "<tbody>\n",
       "\t<tr><td>-0.2702703</td><td> 0.56756757</td><td>-0.18918919</td><td>-0.1621622</td></tr>\n",
       "\t<tr><td>-0.3243243</td><td> 0.08108108</td><td>-0.02702703</td><td> 0.4054054</td></tr>\n",
       "\t<tr><td>-0.1621622</td><td>-0.45945946</td><td> 0.48648649</td><td>-0.2972973</td></tr>\n",
       "\t<tr><td> 0.7837838</td><td> 0.05405405</td><td>-0.35135135</td><td> 0.2702703</td></tr>\n",
       "</tbody>\n",
       "</table>\n"
      ],
      "text/latex": [
       "A matrix: 4 × 4 of type dbl\n",
       "\\begin{tabular}{llll}\n",
       "\t -0.2702703 &  0.56756757 & -0.18918919 & -0.1621622\\\\\n",
       "\t -0.3243243 &  0.08108108 & -0.02702703 &  0.4054054\\\\\n",
       "\t -0.1621622 & -0.45945946 &  0.48648649 & -0.2972973\\\\\n",
       "\t  0.7837838 &  0.05405405 & -0.35135135 &  0.2702703\\\\\n",
       "\\end{tabular}\n"
      ],
      "text/markdown": [
       "\n",
       "A matrix: 4 × 4 of type dbl\n",
       "\n",
       "| -0.2702703 |  0.56756757 | -0.18918919 | -0.1621622 |\n",
       "| -0.3243243 |  0.08108108 | -0.02702703 |  0.4054054 |\n",
       "| -0.1621622 | -0.45945946 |  0.48648649 | -0.2972973 |\n",
       "|  0.7837838 |  0.05405405 | -0.35135135 |  0.2702703 |\n",
       "\n"
      ],
      "text/plain": [
       "     [,1]       [,2]        [,3]        [,4]      \n",
       "[1,] -0.2702703  0.56756757 -0.18918919 -0.1621622\n",
       "[2,] -0.3243243  0.08108108 -0.02702703  0.4054054\n",
       "[3,] -0.1621622 -0.45945946  0.48648649 -0.2972973\n",
       "[4,]  0.7837838  0.05405405 -0.35135135  0.2702703"
      ]
     },
     "metadata": {},
     "output_type": "display_data"
    }
   ],
   "source": [
    "# with 4x4 matrix\n",
    "a <- c(2, 1, 3, 3) \n",
    "b <- c(5, 3, 5, 4) \n",
    "c <- c(6, 5, 9, 6)\n",
    "d <- c(1, 3, 2, 2)\n",
    "xyz <- rbind(a, b, c, d) \n",
    "m <- matrix(0, nrow=4, ncol=4)\n",
    "diag(m) <- 1\n",
    "solve(a=xyz) %*% m #%*% rep(1, 4)\n"
   ]
  },
  {
   "cell_type": "markdown",
   "id": "3401818f-06a3-4b1d-b5d2-160eb811a3ea",
   "metadata": {},
   "source": [
    "---"
   ]
  },
  {
   "cell_type": "code",
   "execution_count": 21,
   "id": "a34008d5-990f-49a3-aa99-714bc33be7a5",
   "metadata": {},
   "outputs": [
    {
     "data": {
      "text/html": [
       "5.55111512312578e-17"
      ],
      "text/latex": [
       "5.55111512312578e-17"
      ],
      "text/markdown": [
       "5.55111512312578e-17"
      ],
      "text/plain": [
       "[1] 5.551115e-17"
      ]
     },
     "metadata": {},
     "output_type": "display_data"
    }
   ],
   "source": [
    "v <- residence_times(matrix_as_graph(gam$IPV, gam$SIM))\n",
    "first_row_U_ptd <- v[2:(length(v)-1)]\n",
    "first_row_U_solve <- -solve(gam$SIM)[1, ]\n",
    "max(first_row_U_ptd - first_row_U_solve)"
   ]
  },
  {
   "cell_type": "code",
   "execution_count": 22,
   "id": "bd79abd3-30ed-4132-8e6f-9511dcdccd84",
   "metadata": {},
   "outputs": [
    {
     "data": {
      "text/html": [
       "<strong>elapsed:</strong> 0.00400000000081491"
      ],
      "text/latex": [
       "\\textbf{elapsed:} 0.00400000000081491"
      ],
      "text/markdown": [
       "**elapsed:** 0.00400000000081491"
      ],
      "text/plain": [
       "elapsed \n",
       "  0.004 "
      ]
     },
     "metadata": {},
     "output_type": "display_data"
    }
   ],
   "source": [
    "start <- proc.time()[3]\n",
    "v <- residence_times(matrix_as_graph(gam$IPV, gam$SIM))\n",
    "first_row_U_ptd <- v[2:(length(v)-1)]\n",
    "proc.time()[3] - start\n",
    "#first_row_U_ptd"
   ]
  },
  {
   "cell_type": "code",
   "execution_count": 23,
   "id": "c62897eb-1fc6-420a-8f75-704b99a82be6",
   "metadata": {},
   "outputs": [],
   "source": [
    "# start <- proc.time()[3]\n",
    "# v <- accumulated_visiting_time(graph, 100)\n",
    "# #v\n",
    "# first_row_U_ptd_acc <- v[2:(length(v)-1)]\n",
    "# proc.time()[3] - start"
   ]
  },
  {
   "cell_type": "code",
   "execution_count": 140,
   "id": "581fad03-9f05-41aa-a2eb-ab2fd5aef0a8",
   "metadata": {},
   "outputs": [],
   "source": [
    "# (first_row_U_ptd - first_row_U_ptd_acc)/first_row_U_ptd_acc"
   ]
  },
  {
   "cell_type": "code",
   "execution_count": 141,
   "id": "8f5db848-ddb7-4ad4-830b-3a739fcd81e1",
   "metadata": {},
   "outputs": [],
   "source": [
    "# max(abs((first_row_U_ptd - first_row_U_ptd_acc)/first_row_U_ptd_acc))"
   ]
  },
  {
   "cell_type": "code",
   "execution_count": 142,
   "id": "e09db043-83c0-46f5-9388-90bea487cf3c",
   "metadata": {},
   "outputs": [
    {
     "data": {
      "text/html": [
       "<style>\n",
       ".list-inline {list-style: none; margin:0; padding: 0}\n",
       ".list-inline>li {display: inline-block}\n",
       ".list-inline>li:not(:last-child)::after {content: \"\\00b7\"; padding: 0 .5ex}\n",
       "</style>\n",
       "<ol class=list-inline><li>0.0476190476190476</li><li>0.0666666666666667</li><li>0.0666666666666667</li><li>0.0333333333333333</li><li>0.0333333333333333</li><li>0.1</li><li>0.0333333333333333</li><li>0.0666666666666667</li><li>0.0666666666666667</li><li>0.133333333333333</li><li>0.0666666666666667</li><li>0.333333333333333</li><li>0.333333333333333</li><li>0.333333333333333</li></ol>\n"
      ],
      "text/latex": [
       "\\begin{enumerate*}\n",
       "\\item 0.0476190476190476\n",
       "\\item 0.0666666666666667\n",
       "\\item 0.0666666666666667\n",
       "\\item 0.0333333333333333\n",
       "\\item 0.0333333333333333\n",
       "\\item 0.1\n",
       "\\item 0.0333333333333333\n",
       "\\item 0.0666666666666667\n",
       "\\item 0.0666666666666667\n",
       "\\item 0.133333333333333\n",
       "\\item 0.0666666666666667\n",
       "\\item 0.333333333333333\n",
       "\\item 0.333333333333333\n",
       "\\item 0.333333333333333\n",
       "\\end{enumerate*}\n"
      ],
      "text/markdown": [
       "1. 0.0476190476190476\n",
       "2. 0.0666666666666667\n",
       "3. 0.0666666666666667\n",
       "4. 0.0333333333333333\n",
       "5. 0.0333333333333333\n",
       "6. 0.1\n",
       "7. 0.0333333333333333\n",
       "8. 0.0666666666666667\n",
       "9. 0.0666666666666667\n",
       "10. 0.133333333333333\n",
       "11. 0.0666666666666667\n",
       "12. 0.333333333333333\n",
       "13. 0.333333333333333\n",
       "14. 0.333333333333333\n",
       "\n",
       "\n"
      ],
      "text/plain": [
       " [1] 0.04761905 0.06666667 0.06666667 0.03333333 0.03333333 0.10000000\n",
       " [7] 0.03333333 0.06666667 0.06666667 0.13333333 0.06666667 0.33333333\n",
       "[13] 0.33333333 0.33333333"
      ]
     },
     "metadata": {},
     "output_type": "display_data"
    },
    {
     "data": {
      "text/html": [
       "<strong>elapsed:</strong> 0.00600000000122236"
      ],
      "text/latex": [
       "\\textbf{elapsed:} 0.00600000000122236"
      ],
      "text/markdown": [
       "**elapsed:** 0.00600000000122236"
      ],
      "text/plain": [
       "elapsed \n",
       "  0.006 "
      ]
     },
     "metadata": {},
     "output_type": "display_data"
    }
   ],
   "source": [
    "start <- proc.time()[3]\n",
    "first_row_U_solve <- -solve(gam$SIM)[1, ]\n",
    "first_row_U_solve\n",
    "proc.time()[3] - start"
   ]
  },
  {
   "cell_type": "code",
   "execution_count": 143,
   "id": "534e52f8-43f2-4a6d-a581-22340dedd141",
   "metadata": {
    "scrolled": true
   },
   "outputs": [
    {
     "data": {
      "text/html": [
       "<style>\n",
       ".list-inline {list-style: none; margin:0; padding: 0}\n",
       ".list-inline>li {display: inline-block}\n",
       ".list-inline>li:not(:last-child)::after {content: \"\\00b7\"; padding: 0 .5ex}\n",
       "</style>\n",
       "<ol class=list-inline><li>1.16573417585641e-15</li><li>0</li><li>0</li><li>0</li><li>0</li><li>-2.77555756156289e-16</li><li>0</li><li>0</li><li>0</li><li>0</li><li>0</li><li>-3.33066907387547e-16</li><li>-1.66533453693773e-16</li><li>-1.66533453693773e-16</li></ol>\n"
      ],
      "text/latex": [
       "\\begin{enumerate*}\n",
       "\\item 1.16573417585641e-15\n",
       "\\item 0\n",
       "\\item 0\n",
       "\\item 0\n",
       "\\item 0\n",
       "\\item -2.77555756156289e-16\n",
       "\\item 0\n",
       "\\item 0\n",
       "\\item 0\n",
       "\\item 0\n",
       "\\item 0\n",
       "\\item -3.33066907387547e-16\n",
       "\\item -1.66533453693773e-16\n",
       "\\item -1.66533453693773e-16\n",
       "\\end{enumerate*}\n"
      ],
      "text/markdown": [
       "1. 1.16573417585641e-15\n",
       "2. 0\n",
       "3. 0\n",
       "4. 0\n",
       "5. 0\n",
       "6. -2.77555756156289e-16\n",
       "7. 0\n",
       "8. 0\n",
       "9. 0\n",
       "10. 0\n",
       "11. 0\n",
       "12. -3.33066907387547e-16\n",
       "13. -1.66533453693773e-16\n",
       "14. -1.66533453693773e-16\n",
       "\n",
       "\n"
      ],
      "text/plain": [
       " [1]  1.165734e-15  0.000000e+00  0.000000e+00  0.000000e+00  0.000000e+00\n",
       " [6] -2.775558e-16  0.000000e+00  0.000000e+00  0.000000e+00  0.000000e+00\n",
       "[11]  0.000000e+00 -3.330669e-16 -1.665335e-16 -1.665335e-16"
      ]
     },
     "metadata": {},
     "output_type": "display_data"
    }
   ],
   "source": [
    "(first_row_U_ptd - first_row_U_solve)/first_row_U_solve"
   ]
  },
  {
   "cell_type": "code",
   "execution_count": 144,
   "id": "aa1cfd40-ada9-4bd0-9711-ca7eb1cf252c",
   "metadata": {},
   "outputs": [
    {
     "data": {
      "text/html": [
       "1.16573417585641e-15"
      ],
      "text/latex": [
       "1.16573417585641e-15"
      ],
      "text/markdown": [
       "1.16573417585641e-15"
      ],
      "text/plain": [
       "[1] 1.165734e-15"
      ]
     },
     "metadata": {},
     "output_type": "display_data"
    }
   ],
   "source": [
    "max(abs((first_row_U_ptd - first_row_U_solve)/first_row_U_solve))"
   ]
  }
 ],
 "metadata": {
  "kernelspec": {
   "display_name": "R",
   "language": "R",
   "name": "ir"
  },
  "language_info": {
   "codemirror_mode": "r",
   "file_extension": ".r",
   "mimetype": "text/x-r-source",
   "name": "R",
   "pygments_lexer": "r",
   "version": "4.4.1"
  }
 },
 "nbformat": 4,
 "nbformat_minor": 5
}
