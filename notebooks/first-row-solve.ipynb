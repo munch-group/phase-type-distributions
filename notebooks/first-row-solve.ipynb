{
 "cells": [
  {
   "cell_type": "markdown",
   "id": "13337715-76a7-4945-9206-679493ceabad",
   "metadata": {},
   "source": [
    "# Standard coalescent"
   ]
  },
  {
   "cell_type": "code",
   "execution_count": 1,
   "id": "fa42f45e-8795-417c-8239-6c0260139441",
   "metadata": {},
   "outputs": [
    {
     "name": "stderr",
     "output_type": "stream",
     "text": [
      "Indlæser krævet pakke: viridisLite\n",
      "\n"
     ]
    }
   ],
   "source": [
    "library(ggplot2)\n",
    "library(viridis)\n",
    "library(grid)\n",
    "library(gridExtra)\n",
    "library(\"IRdisplay\")"
   ]
  },
  {
   "cell_type": "markdown",
   "id": "2d85b518-c7a8-4e9b-a93f-c9fa651ab72e",
   "metadata": {},
   "source": [
    "R header:"
   ]
  },
  {
   "cell_type": "code",
   "execution_count": 2,
   "id": "37fc70fa",
   "metadata": {
    "tags": []
   },
   "outputs": [
    {
     "name": "stderr",
     "output_type": "stream",
     "text": [
      "── \u001b[1mAttaching core tidyverse packages\u001b[22m ──────────────────────────────────────────────────────────────── tidyverse 2.0.0 ──\n",
      "\u001b[32m✔\u001b[39m \u001b[34mdplyr    \u001b[39m 1.1.2     \u001b[32m✔\u001b[39m \u001b[34mreadr    \u001b[39m 2.1.4\n",
      "\u001b[32m✔\u001b[39m \u001b[34mforcats  \u001b[39m 1.0.0     \u001b[32m✔\u001b[39m \u001b[34mstringr  \u001b[39m 1.5.1\n",
      "\u001b[32m✔\u001b[39m \u001b[34mlubridate\u001b[39m 1.9.2     \u001b[32m✔\u001b[39m \u001b[34mtibble   \u001b[39m 3.2.1\n",
      "\u001b[32m✔\u001b[39m \u001b[34mpurrr    \u001b[39m 1.0.1     \u001b[32m✔\u001b[39m \u001b[34mtidyr    \u001b[39m 1.3.0\n",
      "── \u001b[1mConflicts\u001b[22m ────────────────────────────────────────────────────────────────────────────────── tidyverse_conflicts() ──\n",
      "\u001b[31m✖\u001b[39m \u001b[34mdplyr\u001b[39m::\u001b[32mcombine()\u001b[39m masks \u001b[34mgridExtra\u001b[39m::combine()\n",
      "\u001b[31m✖\u001b[39m \u001b[34mdplyr\u001b[39m::\u001b[32mfilter()\u001b[39m  masks \u001b[34mstats\u001b[39m::filter()\n",
      "\u001b[31m✖\u001b[39m \u001b[34mdplyr\u001b[39m::\u001b[32mlag()\u001b[39m     masks \u001b[34mstats\u001b[39m::lag()\n",
      "\u001b[36mℹ\u001b[39m Use the conflicted package (\u001b[3m\u001b[34m<http://conflicted.r-lib.org/>\u001b[39m\u001b[23m) to force all conflicts to become errors\n",
      "Indlæser krævet pakke: usethis\n",
      "\n",
      "Skipping install of 'ptdalgorithms' from a local remote, the SHA1 (1.0.0) has not changed since last install.\n",
      "  Use `force = TRUE` to force installation\n",
      "\n"
     ]
    }
   ],
   "source": [
    "library(tidyverse)\n",
    "library(devtools)\n",
    "#remove.packages(\"ptdalgorithms\")\n",
    "# devtools::install_github(\"TobiasRoikjer/PtDAlgorithms\")\n",
    "devtools::install_local('../../PtDAlgorithms', quiet=FALSE)\n",
    "library(ptdalgorithms)"
   ]
  },
  {
   "cell_type": "code",
   "execution_count": 3,
   "id": "695e54bf-3d9a-4cc4-bc65-43bb400d50a4",
   "metadata": {},
   "outputs": [],
   "source": [
    "# remove.packages(\"ptdalgorithms\")"
   ]
  },
  {
   "cell_type": "code",
   "execution_count": 4,
   "id": "69796c9d-976c-4169-8ce8-16a036c4f5c5",
   "metadata": {},
   "outputs": [],
   "source": [
    "# install.packages(\"remotes\")\n",
    "# remotes::install_github(\"Thell/RcppMP\")"
   ]
  },
  {
   "cell_type": "code",
   "execution_count": 5,
   "id": "3c737854-59f8-472c-8693-2ff23b63fa19",
   "metadata": {},
   "outputs": [],
   "source": [
    "# # GNUMPLIB\n",
    "# ./configure --prefix=$CONDA_PREFIX --enable-cxx\n"
   ]
  },
  {
   "cell_type": "code",
   "execution_count": 6,
   "id": "5d3da91f-f5d3-4fd9-8536-c3a9d133992d",
   "metadata": {},
   "outputs": [],
   "source": [
    "# !export LIBS=\"-L/Users/kmt/miniconda3/envs/phasetype/lib\"\n",
    "# !export CPPFLAGS=\"-I/Users/kmt/miniconda3/envs/phasetype/include\""
   ]
  },
  {
   "cell_type": "code",
   "execution_count": 7,
   "id": "91471179-2835-4926-a1f4-a621907a89f4",
   "metadata": {},
   "outputs": [],
   "source": [
    "Rcpp::sourceCpp(\"./cpp/coalescent.cpp\")"
   ]
  },
  {
   "cell_type": "code",
   "execution_count": 8,
   "id": "2b8005e7-139d-4fb4-90dd-e08c02cb2029",
   "metadata": {},
   "outputs": [],
   "source": [
    "source(\"plot_functions.R\")"
   ]
  },
  {
   "cell_type": "code",
   "execution_count": 9,
   "id": "33eed390-030c-496b-8e75-889ae6a6ba52",
   "metadata": {},
   "outputs": [],
   "source": [
    "theme_set(theme_bw())\n",
    "\n",
    "despine <- theme(panel.border = element_blank(), panel.grid.major = element_blank(),\n",
    "panel.grid.minor = element_blank(), axis.line = element_line(colour = \"black\"),\n",
    "                text=element_text(family=\"Arial\"))"
   ]
  },
  {
   "cell_type": "code",
   "execution_count": 10,
   "id": "0cd9d033-7525-4718-a356-cd5c3b5f51d6",
   "metadata": {},
   "outputs": [],
   "source": [
    "# p <- ggplot(data=iris, aes(x = Sepal.Length, y = Sepal.Width)) +\n",
    "#       geom_point(aes(color=Species, shape=Species)) + despine\n",
    "\n",
    "# ggplotly(width=600, height=400)"
   ]
  },
  {
   "cell_type": "code",
   "execution_count": 11,
   "id": "c0454155-c8af-405b-a41a-ae5aa795a1a7",
   "metadata": {
    "scrolled": true
   },
   "outputs": [],
   "source": [
    "despine <- theme(panel.border = element_blank(), panel.grid.major = element_blank(),\n",
    "    panel.grid.minor = element_blank(), axis.line = element_line(colour = \"black\"),\n",
    "                text=element_text(size=17)) \n",
    "\n",
    "options(repr.plot.width=10, repr.plot.height=7)\n",
    "\n",
    "# ggplot(data=iris, aes(x = Sepal.Length, y = Sepal.Width)) +\n",
    "#       geom_point(aes(color=Species, shape=Species), size=5, alpha=0.5) + scale_color_brewer(palette=\"Set1\") + despine"
   ]
  },
  {
   "cell_type": "markdown",
   "id": "9fa28b9b-2c9d-41d5-be4b-9431c9c8c043",
   "metadata": {},
   "source": [
    "# Issue: after expectation is run, gam$SIM doubles, fix or tell user not to reuse graph_as_matrix(graph) as matrix result\n",
    "\n",
    "```\n",
    "graph <- standard_coalescent(4)\n",
    "print(graph_as_matrix(graph))\n",
    "expectation(graph)\n",
    "print(graph_as_matrix(graph))\n",
    "```"
   ]
  },
  {
   "cell_type": "markdown",
   "id": "14f96e4f-5a1d-4486-9593-b34893c94844",
   "metadata": {},
   "source": [
    "## Generate standard coalescent state space"
   ]
  },
  {
   "cell_type": "markdown",
   "id": "43564b3a-c3cc-4da3-8775-429b2c7c0b01",
   "metadata": {},
   "source": [
    "If you want to generate the state space:"
   ]
  },
  {
   "cell_type": "code",
   "execution_count": 12,
   "id": "13ca6238-eeb6-42af-a02b-61287ef27870",
   "metadata": {},
   "outputs": [],
   "source": [
    "standard_coalescent <- function(n) {\n",
    "    \n",
    "    # n <- 4\n",
    "      \n",
    "    state_vector_length <- n + 1\n",
    "    graph <- create_graph(state_vector_length)\n",
    "    starting_vertex <- vertex_at(graph, 1)\n",
    "    initial_state <- c(rep(0, n), 0)\n",
    "    initial_state[1] <- n\n",
    "    \n",
    "    add_edge(\n",
    "      starting_vertex,\n",
    "      create_vertex(graph, initial_state),\n",
    "      1\n",
    "    )\n",
    "    index <- 2\n",
    "    \n",
    "    while (index <= vertices_length(graph)) {\n",
    "      vertex <- vertex_at(graph, index)\n",
    "      \n",
    "      # loop over all classes of lineages\n",
    "      for (i in 1:n) {\n",
    "        for (j in i:n) {\n",
    "          state <- vertex$state\n",
    "          \n",
    "          # if same class, there need to be at least two to coalesce\n",
    "          if (i == j) {\n",
    "            if (state[i] < 2) {\n",
    "              next;\n",
    "            }\n",
    "            # coal rate\n",
    "            rate <- state[i] * (state[i] - 1) / 2\n",
    "          } else {\n",
    "            # else at least one in each class to coalesce\n",
    "            if (state[i] < 1 || state[j] < 1) {\n",
    "              next;\n",
    "            }\n",
    "            # number of combinations\n",
    "            rate <- state[i] * state[j]\n",
    "          }\n",
    "          \n",
    "          # copy state\n",
    "          child_state <- state\n",
    "          # update child state\n",
    "          child_state[i] <- child_state[i] - 1\n",
    "          child_state[j] <- child_state[j] - 1\n",
    "          child_state[i+j] <- child_state[i+j] + 1\n",
    "\n",
    "          add_edge(\n",
    "              vertex,\n",
    "              find_or_create_vertex(graph, child_state),\n",
    "              rate, c(rate)\n",
    "            )\n",
    "        }\n",
    "      }\n",
    "          \n",
    "      index <- index + 1\n",
    "    }\n",
    "    return(graph)\n",
    "}\n",
    "# states <- t(sapply(1:vertices_length(graph), function(index) vertex_at(graph, index)$state ))\n",
    "# ipv <- graph_as_matrix(graph)$IPV\n",
    "# sim <- graph_as_matrix(graph)$SIM"
   ]
  },
  {
   "cell_type": "code",
   "execution_count": 13,
   "id": "945a3303-68dc-46b3-a7d0-404b91e78729",
   "metadata": {
    "vscode": {
     "languageId": "r"
    }
   },
   "outputs": [
    {
     "name": "stdout",
     "output_type": "stream",
     "text": [
      "[1] 2 2\n"
     ]
    },
    {
     "ename": "ERROR",
     "evalue": "Error in eval(expr, envir, enclos): objekt 'kingman' blev ikke fundet\n",
     "output_type": "error",
     "traceback": [
      "Error in eval(expr, envir, enclos): objekt 'kingman' blev ikke fundet\nTraceback:\n",
      "1. state_space(initial_state, kingman, n)"
     ]
    }
   ],
   "source": [
    "state_space <- function(initial_state, fun, ...) {\n",
    "    \n",
    "    graph <- create_graph(length(initial_state))\n",
    "    starting_vertex <- vertex_at(graph, 1)\n",
    "    add_edge(\n",
    "      starting_vertex,\n",
    "      create_vertex(graph, initial_state),\n",
    "      1\n",
    "    )\n",
    "    index <- 2\n",
    "\n",
    "    while (index <= vertices_length(graph)) {\n",
    "      print(c(index, vertices_length(graph)))\n",
    "      vertex <- vertex_at(graph, index)\n",
    "      state <- vertex$state\n",
    "\n",
    "      result <- fun(state, graph=graph, ...)\n",
    "\n",
    "      if (length(result$states) > 0) {\n",
    "        for (i in 1:length(result$states)) {\n",
    "            add_edge(\n",
    "              vertex,\n",
    "              find_or_create_vertex(graph, c(result$states[[i]])),\n",
    "              c(result$rates[[i]]), c(result$rates[[i]])\n",
    "            )\n",
    "        }\n",
    "      }\n",
    "      index <- index + 1\n",
    "   }\n",
    "   return(graph)\n",
    "}\n",
    "\n",
    "\n",
    "\n",
    "# just give the state_space function an initial state, \n",
    "# a callback function and any arguments the callback function\n",
    "# that takes a \"state\" and \"graph\" argument and any other\n",
    "# arguments passed state_space:\n",
    "\n",
    "n <- 4\n",
    "initial_state = rep(0, n)\n",
    "initial_state[1] <- n\n",
    "\n",
    "graph <- state_space(initial_state, kingman, n)\n",
    "graph"
   ]
  },
  {
   "cell_type": "markdown",
   "id": "2586b312-329c-482c-bae9-107f4842c608",
   "metadata": {},
   "source": [
    "------"
   ]
  },
  {
   "cell_type": "markdown",
   "id": "65441276-29b0-478d-baa3-5cc7bda7b746",
   "metadata": {},
   "source": [
    "Just checking if I can do a \"first-row solve\" that is faster than R's solve."
   ]
  },
  {
   "cell_type": "code",
   "execution_count": 128,
   "id": "1b49faad-a9d1-4338-a24b-bb9054693875",
   "metadata": {},
   "outputs": [],
   "source": [
    "graph <- standard_coalescent(7)\n",
    "gam <- graph_as_matrix(graph)\n",
    "nr_states <- nrow(gam$states)"
   ]
  },
  {
   "cell_type": "code",
   "execution_count": 129,
   "id": "9b8b7c46-d8ed-491c-80ce-f152f2a53c34",
   "metadata": {},
   "outputs": [
    {
     "data": {
      "image/svg+xml": [
       "<?xml version=\"1.0\" encoding=\"UTF-8\" standalone=\"no\"?>\n",
       "<!DOCTYPE svg PUBLIC \"-//W3C//DTD SVG 1.1//EN\"\n",
       " \"http://www.w3.org/Graphics/SVG/1.1/DTD/svg11.dtd\">\n",
       "<!-- Generated by graphviz version 8.1.0 (0)\n",
       " -->\n",
       "<!-- Title: G Pages: 1 -->\n",
       "<svg width=\"720pt\" height=\"211pt\"\n",
       " viewBox=\"0.00 0.00 720.00 211.40\" xmlns=\"http://www.w3.org/2000/svg\" xmlns:xlink=\"http://www.w3.org/1999/xlink\">\n",
       "<g id=\"graph0\" class=\"graph\" transform=\"scale(0.403664 0.403664) rotate(0) translate(36 487.7)\">\n",
       "<title>G</title>\n",
       "<polygon fill=\"white\" stroke=\"none\" points=\"-36,36 -36,-487.7 1747.66,-487.7 1747.66,36 -36,36\"/>\n",
       "<!-- Absorb -->\n",
       "<g id=\"node1\" class=\"node\">\n",
       "<title>Absorb</title>\n",
       "<ellipse fill=\"white\" stroke=\"lightgrey\" cx=\"1665.94\" cy=\"-241.2\" rx=\"45.72\" ry=\"18\"/>\n",
       "<text text-anchor=\"middle\" x=\"1665.94\" y=\"-234.25\" font-family=\"Helvetica,Arial,sans-serif\" font-size=\"16.00\">Absorb</text>\n",
       "</g>\n",
       "<!-- IPV -->\n",
       "<g id=\"node2\" class=\"node\">\n",
       "<title>IPV</title>\n",
       "<ellipse fill=\"white\" stroke=\"lightgrey\" cx=\"28.32\" cy=\"-219.2\" rx=\"28.32\" ry=\"18\"/>\n",
       "<text text-anchor=\"middle\" x=\"28.32\" y=\"-212.25\" font-family=\"Helvetica,Arial,sans-serif\" font-size=\"16.00\">IPV</text>\n",
       "</g>\n",
       "<!-- 1 -->\n",
       "<g id=\"node3\" class=\"node\">\n",
       "<title>1</title>\n",
       "<ellipse fill=\"white\" stroke=\"black\" cx=\"219.19\" cy=\"-219.2\" rx=\"81.55\" ry=\"18\"/>\n",
       "<text text-anchor=\"middle\" x=\"219.19\" y=\"-212.25\" font-family=\"Helvetica,Arial,sans-serif\" font-size=\"16.00\">7,0,0,0,0,0,0,0</text>\n",
       "</g>\n",
       "<!-- IPV&#45;&gt;1 -->\n",
       "<g id=\"edge1\" class=\"edge\">\n",
       "<title>IPV&#45;&gt;1</title>\n",
       "<path fill=\"none\" stroke=\"#d36acb\" d=\"M56.78,-219.2C75.31,-219.2 100.93,-219.2 126.31,-219.2\"/>\n",
       "<polygon fill=\"#d36acb\" stroke=\"#d36acb\" points=\"126.14,-222.7 136.14,-219.2 126.14,-215.7 126.14,-222.7\"/>\n",
       "<text text-anchor=\"middle\" x=\"97.14\" y=\"-220.5\" font-family=\"Helvetica,Arial,sans-serif\" font-size=\"16.00\" fill=\"#d36acb\">1</text>\n",
       "</g>\n",
       "<!-- 2 -->\n",
       "<g id=\"node4\" class=\"node\">\n",
       "<title>2</title>\n",
       "<ellipse fill=\"white\" stroke=\"black\" cx=\"472.28\" cy=\"-219.2\" rx=\"81.55\" ry=\"18\"/>\n",
       "<text text-anchor=\"middle\" x=\"472.28\" y=\"-212.25\" font-family=\"Helvetica,Arial,sans-serif\" font-size=\"16.00\">5,1,0,0,0,0,0,0</text>\n",
       "</g>\n",
       "<!-- 1&#45;&gt;2 -->\n",
       "<g id=\"edge2\" class=\"edge\">\n",
       "<title>1&#45;&gt;2</title>\n",
       "<path fill=\"none\" stroke=\"#725963\" d=\"M301.02,-219.2C326.11,-219.2 353.94,-219.2 379.7,-219.2\"/>\n",
       "<polygon fill=\"#725963\" stroke=\"#725963\" points=\"379.61,-222.7 389.61,-219.2 379.61,-215.7 379.61,-222.7\"/>\n",
       "<text text-anchor=\"middle\" x=\"345.74\" y=\"-220.5\" font-family=\"Helvetica,Arial,sans-serif\" font-size=\"16.00\" fill=\"#725963\">21</text>\n",
       "</g>\n",
       "<!-- 3 -->\n",
       "<g id=\"node5\" class=\"node\">\n",
       "<title>3</title>\n",
       "<ellipse fill=\"white\" stroke=\"black\" cx=\"725.38\" cy=\"-277.2\" rx=\"81.55\" ry=\"18\"/>\n",
       "<text text-anchor=\"middle\" x=\"725.38\" y=\"-270.25\" font-family=\"Helvetica,Arial,sans-serif\" font-size=\"16.00\">3,2,0,0,0,0,0,0</text>\n",
       "</g>\n",
       "<!-- 2&#45;&gt;3 -->\n",
       "<g id=\"edge3\" class=\"edge\">\n",
       "<title>2&#45;&gt;3</title>\n",
       "<path fill=\"none\" stroke=\"#38d880\" d=\"M529.95,-232.29C567.71,-241.01 617.51,-252.51 657.26,-261.7\"/>\n",
       "<polygon fill=\"#38d880\" stroke=\"#38d880\" points=\"656.39,-265.32 666.92,-264.16 657.97,-258.5 656.39,-265.32\"/>\n",
       "<text text-anchor=\"middle\" x=\"598.83\" y=\"-251.5\" font-family=\"Helvetica,Arial,sans-serif\" font-size=\"16.00\" fill=\"#38d880\">10</text>\n",
       "</g>\n",
       "<!-- 4 -->\n",
       "<g id=\"node6\" class=\"node\">\n",
       "<title>4</title>\n",
       "<ellipse fill=\"white\" stroke=\"black\" cx=\"725.38\" cy=\"-183.2\" rx=\"81.55\" ry=\"18\"/>\n",
       "<text text-anchor=\"middle\" x=\"725.38\" y=\"-176.25\" font-family=\"Helvetica,Arial,sans-serif\" font-size=\"16.00\">4,0,1,0,0,0,0,0</text>\n",
       "</g>\n",
       "<!-- 2&#45;&gt;4 -->\n",
       "<g id=\"edge4\" class=\"edge\">\n",
       "<title>2&#45;&gt;4</title>\n",
       "<path fill=\"none\" stroke=\"#3a66c2\" d=\"M538.88,-208.46C555.49,-205.83 573.31,-203.08 589.83,-200.7 606.92,-198.23 625.25,-195.74 642.71,-193.45\"/>\n",
       "<polygon fill=\"#3a66c2\" stroke=\"#3a66c2\" points=\"642.99,-196.81 652.45,-192.04 642.08,-189.87 642.99,-196.81\"/>\n",
       "<text text-anchor=\"middle\" x=\"598.83\" y=\"-202.5\" font-family=\"Helvetica,Arial,sans-serif\" font-size=\"16.00\" fill=\"#3a66c2\">5</text>\n",
       "</g>\n",
       "<!-- 5 -->\n",
       "<g id=\"node7\" class=\"node\">\n",
       "<title>5</title>\n",
       "<ellipse fill=\"white\" stroke=\"black\" cx=\"969.48\" cy=\"-357.2\" rx=\"81.55\" ry=\"18\"/>\n",
       "<text text-anchor=\"middle\" x=\"969.48\" y=\"-350.25\" font-family=\"Helvetica,Arial,sans-serif\" font-size=\"16.00\">1,3,0,0,0,0,0,0</text>\n",
       "</g>\n",
       "<!-- 3&#45;&gt;5 -->\n",
       "<g id=\"edge5\" class=\"edge\">\n",
       "<title>3&#45;&gt;5</title>\n",
       "<path fill=\"none\" stroke=\"#257cf6\" d=\"M772.2,-292.34C812.09,-305.52 870.04,-324.67 912.64,-338.75\"/>\n",
       "<polygon fill=\"#257cf6\" stroke=\"#257cf6\" points=\"911.25,-342.3 921.84,-342.12 913.45,-335.66 911.25,-342.3\"/>\n",
       "<text text-anchor=\"middle\" x=\"847.43\" y=\"-318.5\" font-family=\"Helvetica,Arial,sans-serif\" font-size=\"16.00\" fill=\"#257cf6\">3</text>\n",
       "</g>\n",
       "<!-- 6 -->\n",
       "<g id=\"node8\" class=\"node\">\n",
       "<title>6</title>\n",
       "<ellipse fill=\"white\" stroke=\"black\" cx=\"969.48\" cy=\"-219.2\" rx=\"81.55\" ry=\"18\"/>\n",
       "<text text-anchor=\"middle\" x=\"969.48\" y=\"-212.25\" font-family=\"Helvetica,Arial,sans-serif\" font-size=\"16.00\">2,1,1,0,0,0,0,0</text>\n",
       "</g>\n",
       "<!-- 3&#45;&gt;6 -->\n",
       "<g id=\"edge6\" class=\"edge\">\n",
       "<title>3&#45;&gt;6</title>\n",
       "<path fill=\"none\" stroke=\"#11127c\" d=\"M799.19,-269.13C816.59,-266.55 835.02,-263.27 851.93,-259.2 873.98,-253.88 897.75,-246.11 918.04,-238.83\"/>\n",
       "<polygon fill=\"#11127c\" stroke=\"#11127c\" points=\"919.12,-241.8 927.31,-235.08 916.72,-235.22 919.12,-241.8\"/>\n",
       "<text text-anchor=\"middle\" x=\"847.43\" y=\"-262.5\" font-family=\"Helvetica,Arial,sans-serif\" font-size=\"16.00\" fill=\"#11127c\">6</text>\n",
       "</g>\n",
       "<!-- 7 -->\n",
       "<g id=\"node9\" class=\"node\">\n",
       "<title>7</title>\n",
       "<ellipse fill=\"white\" stroke=\"black\" cx=\"969.48\" cy=\"-125.2\" rx=\"81.55\" ry=\"18\"/>\n",
       "<text text-anchor=\"middle\" x=\"969.48\" y=\"-118.25\" font-family=\"Helvetica,Arial,sans-serif\" font-size=\"16.00\">3,0,0,1,0,0,0,0</text>\n",
       "</g>\n",
       "<!-- 3&#45;&gt;7 -->\n",
       "<g id=\"edge7\" class=\"edge\">\n",
       "<title>3&#45;&gt;7</title>\n",
       "<path fill=\"none\" stroke=\"#29b4c5\" d=\"M754.97,-260.26C780.52,-245.04 818.92,-221.94 851.93,-201.2 879.61,-183.8 910.6,-163.56 933.66,-148.34\"/>\n",
       "<polygon fill=\"#29b4c5\" stroke=\"#29b4c5\" points=\"935.3,-150.79 941.71,-142.35 931.44,-144.95 935.3,-150.79\"/>\n",
       "<text text-anchor=\"middle\" x=\"847.43\" y=\"-207.5\" font-family=\"Helvetica,Arial,sans-serif\" font-size=\"16.00\" fill=\"#29b4c5\">1</text>\n",
       "</g>\n",
       "<!-- 4&#45;&gt;6 -->\n",
       "<g id=\"edge8\" class=\"edge\">\n",
       "<title>4&#45;&gt;6</title>\n",
       "<path fill=\"none\" stroke=\"#cd812f\" d=\"M801.72,-176.43C818.34,-176.24 835.79,-177.04 851.93,-179.7 875.19,-183.53 900.06,-191.4 920.82,-199.11\"/>\n",
       "<polygon fill=\"#cd812f\" stroke=\"#cd812f\" points=\"919.37,-202.69 929.96,-202.99 921.87,-196.15 919.37,-202.69\"/>\n",
       "<text text-anchor=\"middle\" x=\"847.43\" y=\"-181.5\" font-family=\"Helvetica,Arial,sans-serif\" font-size=\"16.00\" fill=\"#cd812f\">6</text>\n",
       "</g>\n",
       "<!-- 4&#45;&gt;7 -->\n",
       "<g id=\"edge9\" class=\"edge\">\n",
       "<title>4&#45;&gt;7</title>\n",
       "<path fill=\"none\" stroke=\"#c75d96\" d=\"M779.69,-169.41C799.52,-164.36 822.23,-158.67 842.93,-153.7 861.37,-149.27 881.38,-144.65 899.89,-140.45\"/>\n",
       "<polygon fill=\"#c75d96\" stroke=\"#c75d96\" points=\"900.61,-143.65 909.59,-138.03 899.07,-136.82 900.61,-143.65\"/>\n",
       "<text text-anchor=\"middle\" x=\"847.43\" y=\"-155.5\" font-family=\"Helvetica,Arial,sans-serif\" font-size=\"16.00\" fill=\"#c75d96\">4</text>\n",
       "</g>\n",
       "<!-- 8 -->\n",
       "<g id=\"node10\" class=\"node\">\n",
       "<title>8</title>\n",
       "<ellipse fill=\"white\" stroke=\"black\" cx=\"1213.57\" cy=\"-415.2\" rx=\"81.55\" ry=\"18\"/>\n",
       "<text text-anchor=\"middle\" x=\"1213.57\" y=\"-408.25\" font-family=\"Helvetica,Arial,sans-serif\" font-size=\"16.00\">0,2,1,0,0,0,0,0</text>\n",
       "</g>\n",
       "<!-- 5&#45;&gt;8 -->\n",
       "<g id=\"edge10\" class=\"edge\">\n",
       "<title>5&#45;&gt;8</title>\n",
       "<path fill=\"none\" stroke=\"#9ab159\" d=\"M1026.02,-370.51C1061.87,-379.1 1108.71,-390.31 1146.47,-399.36\"/>\n",
       "<polygon fill=\"#9ab159\" stroke=\"#9ab159\" points=\"1145.33,-402.93 1155.87,-401.85 1146.96,-396.12 1145.33,-402.93\"/>\n",
       "<text text-anchor=\"middle\" x=\"1091.52\" y=\"-387.5\" font-family=\"Helvetica,Arial,sans-serif\" font-size=\"16.00\" fill=\"#9ab159\">3</text>\n",
       "</g>\n",
       "<!-- 10 -->\n",
       "<g id=\"node12\" class=\"node\">\n",
       "<title>10</title>\n",
       "<ellipse fill=\"white\" stroke=\"black\" cx=\"1213.57\" cy=\"-241.2\" rx=\"81.55\" ry=\"18\"/>\n",
       "<text text-anchor=\"middle\" x=\"1213.57\" y=\"-234.25\" font-family=\"Helvetica,Arial,sans-serif\" font-size=\"16.00\">1,1,0,1,0,0,0,0</text>\n",
       "</g>\n",
       "<!-- 5&#45;&gt;10 -->\n",
       "<g id=\"edge11\" class=\"edge\">\n",
       "<title>5&#45;&gt;10</title>\n",
       "<path fill=\"none\" stroke=\"#184663\" d=\"M1024.22,-343.54C1046.91,-336.89 1073.29,-327.99 1096.02,-317.2 1126.52,-302.72 1158.45,-281.41 1181.16,-265.03\"/>\n",
       "<polygon fill=\"#184663\" stroke=\"#184663\" points=\"1182.99,-267.3 1189,-258.57 1178.86,-261.65 1182.99,-267.3\"/>\n",
       "<text text-anchor=\"middle\" x=\"1091.52\" y=\"-320.5\" font-family=\"Helvetica,Arial,sans-serif\" font-size=\"16.00\" fill=\"#184663\">3</text>\n",
       "</g>\n",
       "<!-- 6&#45;&gt;8 -->\n",
       "<g id=\"edge12\" class=\"edge\">\n",
       "<title>6&#45;&gt;8</title>\n",
       "<path fill=\"none\" stroke=\"#edd202\" d=\"M1004.63,-235.84C1030.85,-249.4 1067.32,-269.96 1096.02,-292.7 1132.82,-321.85 1169.13,-362.38 1191.2,-388.7\"/>\n",
       "<polygon fill=\"#edd202\" stroke=\"#edd202\" points=\"1189.04,-390.58 1198.11,-396.05 1194.43,-386.12 1189.04,-390.58\"/>\n",
       "<text text-anchor=\"middle\" x=\"1091.52\" y=\"-293.5\" font-family=\"Helvetica,Arial,sans-serif\" font-size=\"16.00\" fill=\"#edd202\">1</text>\n",
       "</g>\n",
       "<!-- 9 -->\n",
       "<g id=\"node11\" class=\"node\">\n",
       "<title>9</title>\n",
       "<ellipse fill=\"white\" stroke=\"black\" cx=\"1213.57\" cy=\"-169.2\" rx=\"81.55\" ry=\"18\"/>\n",
       "<text text-anchor=\"middle\" x=\"1213.57\" y=\"-162.25\" font-family=\"Helvetica,Arial,sans-serif\" font-size=\"16.00\">1,0,2,0,0,0,0,0</text>\n",
       "</g>\n",
       "<!-- 6&#45;&gt;9 -->\n",
       "<g id=\"edge13\" class=\"edge\">\n",
       "<title>6&#45;&gt;9</title>\n",
       "<path fill=\"none\" stroke=\"#0f8bfc\" d=\"M1030.32,-206.84C1064.2,-199.84 1106.76,-191.05 1142.24,-183.73\"/>\n",
       "<polygon fill=\"#0f8bfc\" stroke=\"#0f8bfc\" points=\"1142.91,-186.95 1152,-181.5 1141.5,-180.1 1142.91,-186.95\"/>\n",
       "<text text-anchor=\"middle\" x=\"1091.52\" y=\"-195.5\" font-family=\"Helvetica,Arial,sans-serif\" font-size=\"16.00\" fill=\"#0f8bfc\">2</text>\n",
       "</g>\n",
       "<!-- 6&#45;&gt;10 -->\n",
       "<g id=\"edge14\" class=\"edge\">\n",
       "<title>6&#45;&gt;10</title>\n",
       "<path fill=\"none\" stroke=\"#51dc0a\" d=\"M1045.42,-226.01C1071.17,-228.35 1100.2,-230.99 1126.75,-233.4\"/>\n",
       "<polygon fill=\"#51dc0a\" stroke=\"#51dc0a\" points=\"1126.29,-236.96 1136.57,-234.38 1126.93,-229.99 1126.29,-236.96\"/>\n",
       "<text text-anchor=\"middle\" x=\"1091.52\" y=\"-231.5\" font-family=\"Helvetica,Arial,sans-serif\" font-size=\"16.00\" fill=\"#51dc0a\">2</text>\n",
       "</g>\n",
       "<!-- 11 -->\n",
       "<g id=\"node13\" class=\"node\">\n",
       "<title>11</title>\n",
       "<ellipse fill=\"white\" stroke=\"black\" cx=\"1213.57\" cy=\"-38.2\" rx=\"81.55\" ry=\"18\"/>\n",
       "<text text-anchor=\"middle\" x=\"1213.57\" y=\"-31.25\" font-family=\"Helvetica,Arial,sans-serif\" font-size=\"16.00\">2,0,0,0,1,0,0,0</text>\n",
       "</g>\n",
       "<!-- 6&#45;&gt;11 -->\n",
       "<g id=\"edge15\" class=\"edge\">\n",
       "<title>6&#45;&gt;11</title>\n",
       "<path fill=\"none\" stroke=\"#fdafd5\" d=\"M994.92,-201.85C1010.95,-190.42 1032.33,-175.04 1051.02,-161.2 1096.73,-127.35 1148.99,-87.32 1181.39,-62.33\"/>\n",
       "<polygon fill=\"#fdafd5\" stroke=\"#fdafd5\" points=\"1183.2,-64.59 1188.98,-55.71 1178.92,-59.04 1183.2,-64.59\"/>\n",
       "<text text-anchor=\"middle\" x=\"1091.52\" y=\"-132.5\" font-family=\"Helvetica,Arial,sans-serif\" font-size=\"16.00\" fill=\"#fdafd5\">1</text>\n",
       "</g>\n",
       "<!-- 7&#45;&gt;10 -->\n",
       "<g id=\"edge16\" class=\"edge\">\n",
       "<title>7&#45;&gt;10</title>\n",
       "<path fill=\"none\" stroke=\"#3b0157\" d=\"M1026.09,-138.48C1048.84,-145.4 1074.76,-155.28 1096.02,-168.7 1115.29,-180.86 1113.3,-192.22 1132.02,-205.2 1140.62,-211.16 1150.36,-216.5 1160.02,-221.13\"/>\n",
       "<polygon fill=\"#3b0157\" stroke=\"#3b0157\" points=\"1158.46,-224.72 1169.01,-225.69 1161.37,-218.35 1158.46,-224.72\"/>\n",
       "<text text-anchor=\"middle\" x=\"1091.52\" y=\"-170.5\" font-family=\"Helvetica,Arial,sans-serif\" font-size=\"16.00\" fill=\"#3b0157\">3</text>\n",
       "</g>\n",
       "<!-- 7&#45;&gt;11 -->\n",
       "<g id=\"edge17\" class=\"edge\">\n",
       "<title>7&#45;&gt;11</title>\n",
       "<path fill=\"none\" stroke=\"#7dba1d\" d=\"M981.29,-107.07C999.18,-79.08 1037.89,-26.41 1087.02,-5.7 1115.6,6.35 1149.76,-3.97 1175.23,-16.08\"/>\n",
       "<polygon fill=\"#7dba1d\" stroke=\"#7dba1d\" points=\"1173.38,-19.57 1183.88,-20.95 1176.53,-13.32 1173.38,-19.57\"/>\n",
       "<text text-anchor=\"middle\" x=\"1091.52\" y=\"-7.5\" font-family=\"Helvetica,Arial,sans-serif\" font-size=\"16.00\" fill=\"#7dba1d\">3</text>\n",
       "</g>\n",
       "<!-- 12 -->\n",
       "<g id=\"node14\" class=\"node\">\n",
       "<title>12</title>\n",
       "<ellipse fill=\"white\" stroke=\"black\" cx=\"1457.67\" cy=\"-335.2\" rx=\"81.55\" ry=\"18\"/>\n",
       "<text text-anchor=\"middle\" x=\"1457.67\" y=\"-328.25\" font-family=\"Helvetica,Arial,sans-serif\" font-size=\"16.00\">0,0,1,1,0,0,0,0</text>\n",
       "</g>\n",
       "<!-- 8&#45;&gt;12 -->\n",
       "<g id=\"edge18\" class=\"edge\">\n",
       "<title>8&#45;&gt;12</title>\n",
       "<path fill=\"none\" stroke=\"#69bde5\" d=\"M1255.76,-430.95C1280.78,-438.13 1313.02,-443.08 1340.12,-433.2 1379.05,-419.01 1414.01,-385.45 1435.25,-361.57\"/>\n",
       "<polygon fill=\"#69bde5\" stroke=\"#69bde5\" points=\"1438.55,-364.11 1442.44,-354.26 1433.25,-359.53 1438.55,-364.11\"/>\n",
       "<text text-anchor=\"middle\" x=\"1335.62\" y=\"-436.5\" font-family=\"Helvetica,Arial,sans-serif\" font-size=\"16.00\" fill=\"#69bde5\">1</text>\n",
       "</g>\n",
       "<!-- 13 -->\n",
       "<g id=\"node15\" class=\"node\">\n",
       "<title>13</title>\n",
       "<ellipse fill=\"white\" stroke=\"black\" cx=\"1457.67\" cy=\"-241.2\" rx=\"81.55\" ry=\"18\"/>\n",
       "<text text-anchor=\"middle\" x=\"1457.67\" y=\"-234.25\" font-family=\"Helvetica,Arial,sans-serif\" font-size=\"16.00\">0,1,0,0,1,0,0,0</text>\n",
       "</g>\n",
       "<!-- 8&#45;&gt;13 -->\n",
       "<g id=\"edge19\" class=\"edge\">\n",
       "<title>8&#45;&gt;13</title>\n",
       "<path fill=\"none\" stroke=\"#69242c\" d=\"M1252.47,-398.96C1278.76,-386.58 1313.67,-367.83 1340.12,-345.2 1359.85,-328.32 1357.4,-317.19 1376.12,-299.2 1389.27,-286.56 1405.31,-274.47 1419.61,-264.62\"/>\n",
       "<polygon fill=\"#69242c\" stroke=\"#69242c\" points=\"1421.37,-266.98 1427.7,-258.49 1417.45,-261.17 1421.37,-266.98\"/>\n",
       "<text text-anchor=\"middle\" x=\"1335.62\" y=\"-350.5\" font-family=\"Helvetica,Arial,sans-serif\" font-size=\"16.00\" fill=\"#69242c\">2</text>\n",
       "</g>\n",
       "<!-- 9&#45;&gt;12 -->\n",
       "<g id=\"edge20\" class=\"edge\">\n",
       "<title>9&#45;&gt;12</title>\n",
       "<path fill=\"none\" stroke=\"#15ecb9\" d=\"M1260.23,-184.31C1272.38,-189.69 1284.94,-196.6 1295.12,-205.2 1317.15,-223.82 1310.28,-239.25 1331.12,-259.2 1354.44,-281.52 1385.42,-300.36 1410.78,-313.7\"/>\n",
       "<polygon fill=\"#15ecb9\" stroke=\"#15ecb9\" points=\"1409.05,-317.26 1419.54,-318.72 1412.25,-311.03 1409.05,-317.26\"/>\n",
       "<text text-anchor=\"middle\" x=\"1335.62\" y=\"-268.5\" font-family=\"Helvetica,Arial,sans-serif\" font-size=\"16.00\" fill=\"#15ecb9\">2</text>\n",
       "</g>\n",
       "<!-- 14 -->\n",
       "<g id=\"node16\" class=\"node\">\n",
       "<title>14</title>\n",
       "<ellipse fill=\"white\" stroke=\"black\" cx=\"1457.67\" cy=\"-118.2\" rx=\"81.55\" ry=\"18\"/>\n",
       "<text text-anchor=\"middle\" x=\"1457.67\" y=\"-111.25\" font-family=\"Helvetica,Arial,sans-serif\" font-size=\"16.00\">1,0,0,0,0,1,0,0</text>\n",
       "</g>\n",
       "<!-- 9&#45;&gt;14 -->\n",
       "<g id=\"edge21\" class=\"edge\">\n",
       "<title>9&#45;&gt;14</title>\n",
       "<path fill=\"none\" stroke=\"#ddaa63\" d=\"M1227.49,-151.08C1246.72,-125.85 1285.54,-81.27 1331.12,-63.7 1365.63,-50.4 1404.59,-73.42 1429.83,-93.51\"/>\n",
       "<polygon fill=\"#ddaa63\" stroke=\"#ddaa63\" points=\"1427.22,-96.73 1437.15,-100.43 1431.7,-91.35 1427.22,-96.73\"/>\n",
       "<text text-anchor=\"middle\" x=\"1335.62\" y=\"-65.5\" font-family=\"Helvetica,Arial,sans-serif\" font-size=\"16.00\" fill=\"#ddaa63\">1</text>\n",
       "</g>\n",
       "<!-- 10&#45;&gt;12 -->\n",
       "<g id=\"edge22\" class=\"edge\">\n",
       "<title>10&#45;&gt;12</title>\n",
       "<path fill=\"none\" stroke=\"#d1f961\" d=\"M1235.36,-258.84C1257.55,-276.64 1294.5,-303.41 1331.12,-317.2 1343.03,-321.68 1355.97,-325.06 1368.86,-327.6\"/>\n",
       "<polygon fill=\"#d1f961\" stroke=\"#d1f961\" points=\"1368.19,-331.22 1378.65,-329.55 1369.43,-324.33 1368.19,-331.22\"/>\n",
       "<text text-anchor=\"middle\" x=\"1335.62\" y=\"-320.5\" font-family=\"Helvetica,Arial,sans-serif\" font-size=\"16.00\" fill=\"#d1f961\">1</text>\n",
       "</g>\n",
       "<!-- 10&#45;&gt;13 -->\n",
       "<g id=\"edge23\" class=\"edge\">\n",
       "<title>10&#45;&gt;13</title>\n",
       "<path fill=\"none\" stroke=\"#85ee6c\" d=\"M1294.5,-238.48C1306.76,-238.16 1319.28,-237.88 1331.12,-237.7 1342.47,-237.53 1354.4,-237.57 1366.2,-237.75\"/>\n",
       "<polygon fill=\"#85ee6c\" stroke=\"#85ee6c\" points=\"1365.91,-241.26 1375.98,-237.95 1366.04,-234.26 1365.91,-241.26\"/>\n",
       "<text text-anchor=\"middle\" x=\"1335.62\" y=\"-239.5\" font-family=\"Helvetica,Arial,sans-serif\" font-size=\"16.00\" fill=\"#85ee6c\">1</text>\n",
       "</g>\n",
       "<!-- 10&#45;&gt;14 -->\n",
       "<g id=\"edge24\" class=\"edge\">\n",
       "<title>10&#45;&gt;14</title>\n",
       "<path fill=\"none\" stroke=\"#7ec2ee\" d=\"M1252.54,-224.92C1266.08,-218.93 1281.38,-211.96 1295.12,-205.2 1337.34,-184.43 1384.63,-158.66 1417.07,-140.58\"/>\n",
       "<polygon fill=\"#7ec2ee\" stroke=\"#7ec2ee\" points=\"1418.63,-143.16 1425.65,-135.23 1415.21,-137.05 1418.63,-143.16\"/>\n",
       "<text text-anchor=\"middle\" x=\"1335.62\" y=\"-186.5\" font-family=\"Helvetica,Arial,sans-serif\" font-size=\"16.00\" fill=\"#7ec2ee\">1</text>\n",
       "</g>\n",
       "<!-- 11&#45;&gt;13 -->\n",
       "<g id=\"edge25\" class=\"edge\">\n",
       "<title>11&#45;&gt;13</title>\n",
       "<path fill=\"none\" stroke=\"#fe7e7e\" d=\"M1235.63,-55.86C1278.83,-92.08 1377.53,-174.84 1427.11,-216.41\"/>\n",
       "<polygon fill=\"#fe7e7e\" stroke=\"#fe7e7e\" points=\"1424.57,-219.69 1434.48,-223.44 1429.07,-214.33 1424.57,-219.69\"/>\n",
       "<text text-anchor=\"middle\" x=\"1335.62\" y=\"-141.5\" font-family=\"Helvetica,Arial,sans-serif\" font-size=\"16.00\" fill=\"#fe7e7e\">1</text>\n",
       "</g>\n",
       "<!-- 11&#45;&gt;14 -->\n",
       "<g id=\"edge26\" class=\"edge\">\n",
       "<title>11&#45;&gt;14</title>\n",
       "<path fill=\"none\" stroke=\"#cb1291\" d=\"M1286.1,-29.62C1304.06,-29.55 1323.07,-31.33 1340.12,-36.7 1375.2,-47.75 1408.92,-73.54 1430.98,-93.17\"/>\n",
       "<polygon fill=\"#cb1291\" stroke=\"#cb1291\" points=\"1428.1,-95.19 1437.85,-99.35 1432.82,-90.02 1428.1,-95.19\"/>\n",
       "<text text-anchor=\"middle\" x=\"1335.62\" y=\"-38.5\" font-family=\"Helvetica,Arial,sans-serif\" font-size=\"16.00\" fill=\"#cb1291\">2</text>\n",
       "</g>\n",
       "<!-- 12&#45;&gt;Absorb -->\n",
       "<g id=\"edge27\" class=\"edge\">\n",
       "<title>12&#45;&gt;Absorb</title>\n",
       "<path fill=\"none\" stroke=\"#43fa37\" d=\"M1494.6,-318.83C1531.15,-302.17 1587.66,-276.42 1625.45,-259.19\"/>\n",
       "<polygon fill=\"#43fa37\" stroke=\"#43fa37\" points=\"1626.46,-262.13 1634.1,-254.8 1623.55,-255.76 1626.46,-262.13\"/>\n",
       "<text text-anchor=\"middle\" x=\"1579.72\" y=\"-280.5\" font-family=\"Helvetica,Arial,sans-serif\" font-size=\"16.00\" fill=\"#43fa37\">1</text>\n",
       "</g>\n",
       "<!-- 13&#45;&gt;Absorb -->\n",
       "<g id=\"edge28\" class=\"edge\">\n",
       "<title>13&#45;&gt;Absorb</title>\n",
       "<path fill=\"none\" stroke=\"#2cfcd0\" d=\"M1539.6,-241.2C1562.86,-241.2 1587.7,-241.2 1609.08,-241.2\"/>\n",
       "<polygon fill=\"#2cfcd0\" stroke=\"#2cfcd0\" points=\"1608.92,-244.7 1618.92,-241.2 1608.92,-237.7 1608.92,-244.7\"/>\n",
       "<text text-anchor=\"middle\" x=\"1579.72\" y=\"-242.5\" font-family=\"Helvetica,Arial,sans-serif\" font-size=\"16.00\" fill=\"#2cfcd0\">1</text>\n",
       "</g>\n",
       "<!-- 14&#45;&gt;Absorb -->\n",
       "<g id=\"edge29\" class=\"edge\">\n",
       "<title>14&#45;&gt;Absorb</title>\n",
       "<path fill=\"none\" stroke=\"#2bfc38\" d=\"M1487.35,-135.3C1524.78,-157.62 1590.22,-196.64 1630.36,-220.58\"/>\n",
       "<polygon fill=\"#2bfc38\" stroke=\"#2bfc38\" points=\"1628.35,-224.05 1638.74,-226.17 1631.94,-218.04 1628.35,-224.05\"/>\n",
       "<text text-anchor=\"middle\" x=\"1579.72\" y=\"-192.5\" font-family=\"Helvetica,Arial,sans-serif\" font-size=\"16.00\" fill=\"#2bfc38\">1</text>\n",
       "</g>\n",
       "</g>\n",
       "</svg>\n"
      ]
     },
     "metadata": {},
     "output_type": "display_data"
    }
   ],
   "source": [
    "plot_graph(graph_as_matrix(graph), size=c(10, 10), align=TRUE, rainbow=TRUE,\n",
    "               fontsize=16, ranksep=1, nodesep=0.5)\n",
    "         "
   ]
  },
  {
   "cell_type": "code",
   "execution_count": 130,
   "id": "88aa3dc6-1f02-472d-93b7-1aad97c00293",
   "metadata": {},
   "outputs": [],
   "source": [
    "residence_times <- function(graph) {\n",
    "    res <- rep(0, vertices_length(graph))\n",
    "    res[1] <- expectation(graph)\n",
    "    sca <- rep(0, vertices_length(graph))\n",
    "    sca[1] <- 1\n",
    "    start_idx <- starting_vertex(graph)$index\n",
    "    for (vertex in vertices(graph)) {\n",
    "        idx <- vertex$index\n",
    "        pushed <- 0\n",
    "        for (edge in edges(vertex)) {\n",
    "            child_idx <- edge$child$index\n",
    "            child_prob <- edge$weight / vertex$rate\n",
    "            wt <- 1/vertex$rate * sca[idx]            \n",
    "            # if (vertex$index == 1) {\n",
    "            if (idx == start_idx) {\n",
    "                wt <- 0\n",
    "            } \n",
    "            if (length(edges(edge$child)) > 0) { # don't push to absorbing\n",
    "                push <- (res[idx] - wt) * child_prob\n",
    "                res[child_idx] <- res[child_idx] + push\n",
    "                sca[child_idx] <- sca[child_idx] + sca[idx] * child_prob\n",
    "                pushed <- pushed + push\n",
    "            }\n",
    "        }\n",
    "        res[idx] <- res[idx] - pushed\n",
    "    }\n",
    "    return(res)\n",
    "}\n",
    "#residence_times(graph)"
   ]
  },
  {
   "cell_type": "markdown",
   "id": "f37bc6eb-2c0d-4b14-9919-e7a13f4c1ecd",
   "metadata": {},
   "source": [
    "---"
   ]
  },
  {
   "cell_type": "code",
   "execution_count": 118,
   "id": "954bffef-a4ec-4cd7-8fb0-aa86e010e9fe",
   "metadata": {},
   "outputs": [
    {
     "name": "stdout",
     "output_type": "stream",
     "text": [
      "  [,1] [,2] [,3] [,4]\n",
      "a    2    1    3    3\n",
      "b    5    3    5    4\n",
      "c    6    5    9    6\n",
      "d    1    3    2    2\n"
     ]
    },
    {
     "data": {
      "text/html": [
       "<table class=\"dataframe\">\n",
       "<caption>A matrix: 4 × 4 of type dbl</caption>\n",
       "<thead>\n",
       "\t<tr><th scope=col>a</th><th scope=col>b</th><th scope=col>c</th><th scope=col>d</th></tr>\n",
       "</thead>\n",
       "<tbody>\n",
       "\t<tr><td>-0.2702703</td><td> 0.56756757</td><td>-0.18918919</td><td>-0.1621622</td></tr>\n",
       "\t<tr><td>-0.3243243</td><td> 0.08108108</td><td>-0.02702703</td><td> 0.4054054</td></tr>\n",
       "\t<tr><td>-0.1621622</td><td>-0.45945946</td><td> 0.48648649</td><td>-0.2972973</td></tr>\n",
       "\t<tr><td> 0.7837838</td><td> 0.05405405</td><td>-0.35135135</td><td> 0.2702703</td></tr>\n",
       "</tbody>\n",
       "</table>\n"
      ],
      "text/latex": [
       "A matrix: 4 × 4 of type dbl\n",
       "\\begin{tabular}{llll}\n",
       " a & b & c & d\\\\\n",
       "\\hline\n",
       "\t -0.2702703 &  0.56756757 & -0.18918919 & -0.1621622\\\\\n",
       "\t -0.3243243 &  0.08108108 & -0.02702703 &  0.4054054\\\\\n",
       "\t -0.1621622 & -0.45945946 &  0.48648649 & -0.2972973\\\\\n",
       "\t  0.7837838 &  0.05405405 & -0.35135135 &  0.2702703\\\\\n",
       "\\end{tabular}\n"
      ],
      "text/markdown": [
       "\n",
       "A matrix: 4 × 4 of type dbl\n",
       "\n",
       "| a | b | c | d |\n",
       "|---|---|---|---|\n",
       "| -0.2702703 |  0.56756757 | -0.18918919 | -0.1621622 |\n",
       "| -0.3243243 |  0.08108108 | -0.02702703 |  0.4054054 |\n",
       "| -0.1621622 | -0.45945946 |  0.48648649 | -0.2972973 |\n",
       "|  0.7837838 |  0.05405405 | -0.35135135 |  0.2702703 |\n",
       "\n"
      ],
      "text/plain": [
       "     a          b           c           d         \n",
       "[1,] -0.2702703  0.56756757 -0.18918919 -0.1621622\n",
       "[2,] -0.3243243  0.08108108 -0.02702703  0.4054054\n",
       "[3,] -0.1621622 -0.45945946  0.48648649 -0.2972973\n",
       "[4,]  0.7837838  0.05405405 -0.35135135  0.2702703"
      ]
     },
     "metadata": {},
     "output_type": "display_data"
    }
   ],
   "source": [
    "# with 4x4 matrix\n",
    "a <- c(2, 1, 3, 3) \n",
    "b <- c(5, 3, 5, 4) \n",
    "c <- c(6, 5, 9, 6)\n",
    "d <- c(1, 3, 2, 2)\n",
    "xyz <- rbind(a, b, c, d) \n",
    "print(xyz)\n",
    "solve(a=xyz) "
   ]
  },
  {
   "cell_type": "code",
   "execution_count": 116,
   "id": "830580ed-0283-489d-9fbf-b42881f9c9dd",
   "metadata": {},
   "outputs": [
    {
     "data": {
      "text/html": [
       "<table class=\"dataframe\">\n",
       "<caption>A matrix: 4 × 4 of type dbl</caption>\n",
       "<tbody>\n",
       "\t<tr><td>-0.2702703</td><td> 0.56756757</td><td>-0.18918919</td><td>-0.1621622</td></tr>\n",
       "\t<tr><td>-0.3243243</td><td> 0.08108108</td><td>-0.02702703</td><td> 0.4054054</td></tr>\n",
       "\t<tr><td>-0.1621622</td><td>-0.45945946</td><td> 0.48648649</td><td>-0.2972973</td></tr>\n",
       "\t<tr><td> 0.7837838</td><td> 0.05405405</td><td>-0.35135135</td><td> 0.2702703</td></tr>\n",
       "</tbody>\n",
       "</table>\n"
      ],
      "text/latex": [
       "A matrix: 4 × 4 of type dbl\n",
       "\\begin{tabular}{llll}\n",
       "\t -0.2702703 &  0.56756757 & -0.18918919 & -0.1621622\\\\\n",
       "\t -0.3243243 &  0.08108108 & -0.02702703 &  0.4054054\\\\\n",
       "\t -0.1621622 & -0.45945946 &  0.48648649 & -0.2972973\\\\\n",
       "\t  0.7837838 &  0.05405405 & -0.35135135 &  0.2702703\\\\\n",
       "\\end{tabular}\n"
      ],
      "text/markdown": [
       "\n",
       "A matrix: 4 × 4 of type dbl\n",
       "\n",
       "| -0.2702703 |  0.56756757 | -0.18918919 | -0.1621622 |\n",
       "| -0.3243243 |  0.08108108 | -0.02702703 |  0.4054054 |\n",
       "| -0.1621622 | -0.45945946 |  0.48648649 | -0.2972973 |\n",
       "|  0.7837838 |  0.05405405 | -0.35135135 |  0.2702703 |\n",
       "\n"
      ],
      "text/plain": [
       "     [,1]       [,2]        [,3]        [,4]      \n",
       "[1,] -0.2702703  0.56756757 -0.18918919 -0.1621622\n",
       "[2,] -0.3243243  0.08108108 -0.02702703  0.4054054\n",
       "[3,] -0.1621622 -0.45945946  0.48648649 -0.2972973\n",
       "[4,]  0.7837838  0.05405405 -0.35135135  0.2702703"
      ]
     },
     "metadata": {},
     "output_type": "display_data"
    }
   ],
   "source": [
    "# with 4x4 matrix\n",
    "a <- c(2, 1, 3, 3) \n",
    "b <- c(5, 3, 5, 4) \n",
    "c <- c(6, 5, 9, 6)\n",
    "d <- c(1, 3, 2, 2)\n",
    "xyz <- rbind(a, b, c, d) \n",
    "m <- matrix(0, nrow=4, ncol=4)\n",
    "diag(m) <- 1\n",
    "solve(a=xyz) %*% m #%*% rep(1, 4)\n"
   ]
  },
  {
   "cell_type": "markdown",
   "id": "3401818f-06a3-4b1d-b5d2-160eb811a3ea",
   "metadata": {},
   "source": [
    "---"
   ]
  },
  {
   "cell_type": "code",
   "execution_count": 138,
   "id": "bd79abd3-30ed-4132-8e6f-9511dcdccd84",
   "metadata": {},
   "outputs": [
    {
     "data": {
      "text/html": [
       "<strong>elapsed:</strong> 0.00300000000424916"
      ],
      "text/latex": [
       "\\textbf{elapsed:} 0.00300000000424916"
      ],
      "text/markdown": [
       "**elapsed:** 0.00300000000424916"
      ],
      "text/plain": [
       "elapsed \n",
       "  0.003 "
      ]
     },
     "metadata": {},
     "output_type": "display_data"
    }
   ],
   "source": [
    "start <- proc.time()[3]\n",
    "v <- residence_times(matrix_as_graph(gam$IPV, gam$SIM))\n",
    "first_row_U_ptd <- v[2:(length(v)-1)]\n",
    "proc.time()[3] - start\n",
    "#first_row_U_ptd"
   ]
  },
  {
   "cell_type": "code",
   "execution_count": 139,
   "id": "c62897eb-1fc6-420a-8f75-704b99a82be6",
   "metadata": {},
   "outputs": [],
   "source": [
    "# start <- proc.time()[3]\n",
    "# v <- accumulated_visiting_time(graph, 100)\n",
    "# #v\n",
    "# first_row_U_ptd_acc <- v[2:(length(v)-1)]\n",
    "# proc.time()[3] - start"
   ]
  },
  {
   "cell_type": "code",
   "execution_count": 140,
   "id": "581fad03-9f05-41aa-a2eb-ab2fd5aef0a8",
   "metadata": {},
   "outputs": [],
   "source": [
    "# (first_row_U_ptd - first_row_U_ptd_acc)/first_row_U_ptd_acc"
   ]
  },
  {
   "cell_type": "code",
   "execution_count": 141,
   "id": "8f5db848-ddb7-4ad4-830b-3a739fcd81e1",
   "metadata": {},
   "outputs": [],
   "source": [
    "# max(abs((first_row_U_ptd - first_row_U_ptd_acc)/first_row_U_ptd_acc))"
   ]
  },
  {
   "cell_type": "code",
   "execution_count": 142,
   "id": "e09db043-83c0-46f5-9388-90bea487cf3c",
   "metadata": {},
   "outputs": [
    {
     "data": {
      "text/html": [
       "<style>\n",
       ".list-inline {list-style: none; margin:0; padding: 0}\n",
       ".list-inline>li {display: inline-block}\n",
       ".list-inline>li:not(:last-child)::after {content: \"\\00b7\"; padding: 0 .5ex}\n",
       "</style>\n",
       "<ol class=list-inline><li>0.0476190476190476</li><li>0.0666666666666667</li><li>0.0666666666666667</li><li>0.0333333333333333</li><li>0.0333333333333333</li><li>0.1</li><li>0.0333333333333333</li><li>0.0666666666666667</li><li>0.0666666666666667</li><li>0.133333333333333</li><li>0.0666666666666667</li><li>0.333333333333333</li><li>0.333333333333333</li><li>0.333333333333333</li></ol>\n"
      ],
      "text/latex": [
       "\\begin{enumerate*}\n",
       "\\item 0.0476190476190476\n",
       "\\item 0.0666666666666667\n",
       "\\item 0.0666666666666667\n",
       "\\item 0.0333333333333333\n",
       "\\item 0.0333333333333333\n",
       "\\item 0.1\n",
       "\\item 0.0333333333333333\n",
       "\\item 0.0666666666666667\n",
       "\\item 0.0666666666666667\n",
       "\\item 0.133333333333333\n",
       "\\item 0.0666666666666667\n",
       "\\item 0.333333333333333\n",
       "\\item 0.333333333333333\n",
       "\\item 0.333333333333333\n",
       "\\end{enumerate*}\n"
      ],
      "text/markdown": [
       "1. 0.0476190476190476\n",
       "2. 0.0666666666666667\n",
       "3. 0.0666666666666667\n",
       "4. 0.0333333333333333\n",
       "5. 0.0333333333333333\n",
       "6. 0.1\n",
       "7. 0.0333333333333333\n",
       "8. 0.0666666666666667\n",
       "9. 0.0666666666666667\n",
       "10. 0.133333333333333\n",
       "11. 0.0666666666666667\n",
       "12. 0.333333333333333\n",
       "13. 0.333333333333333\n",
       "14. 0.333333333333333\n",
       "\n",
       "\n"
      ],
      "text/plain": [
       " [1] 0.04761905 0.06666667 0.06666667 0.03333333 0.03333333 0.10000000\n",
       " [7] 0.03333333 0.06666667 0.06666667 0.13333333 0.06666667 0.33333333\n",
       "[13] 0.33333333 0.33333333"
      ]
     },
     "metadata": {},
     "output_type": "display_data"
    },
    {
     "data": {
      "text/html": [
       "<strong>elapsed:</strong> 0.00600000000122236"
      ],
      "text/latex": [
       "\\textbf{elapsed:} 0.00600000000122236"
      ],
      "text/markdown": [
       "**elapsed:** 0.00600000000122236"
      ],
      "text/plain": [
       "elapsed \n",
       "  0.006 "
      ]
     },
     "metadata": {},
     "output_type": "display_data"
    }
   ],
   "source": [
    "start <- proc.time()[3]\n",
    "first_row_U_solve <- -solve(gam$SIM)[1, ]\n",
    "first_row_U_solve\n",
    "proc.time()[3] - start"
   ]
  },
  {
   "cell_type": "code",
   "execution_count": 143,
   "id": "534e52f8-43f2-4a6d-a581-22340dedd141",
   "metadata": {
    "scrolled": true
   },
   "outputs": [
    {
     "data": {
      "text/html": [
       "<style>\n",
       ".list-inline {list-style: none; margin:0; padding: 0}\n",
       ".list-inline>li {display: inline-block}\n",
       ".list-inline>li:not(:last-child)::after {content: \"\\00b7\"; padding: 0 .5ex}\n",
       "</style>\n",
       "<ol class=list-inline><li>1.16573417585641e-15</li><li>0</li><li>0</li><li>0</li><li>0</li><li>-2.77555756156289e-16</li><li>0</li><li>0</li><li>0</li><li>0</li><li>0</li><li>-3.33066907387547e-16</li><li>-1.66533453693773e-16</li><li>-1.66533453693773e-16</li></ol>\n"
      ],
      "text/latex": [
       "\\begin{enumerate*}\n",
       "\\item 1.16573417585641e-15\n",
       "\\item 0\n",
       "\\item 0\n",
       "\\item 0\n",
       "\\item 0\n",
       "\\item -2.77555756156289e-16\n",
       "\\item 0\n",
       "\\item 0\n",
       "\\item 0\n",
       "\\item 0\n",
       "\\item 0\n",
       "\\item -3.33066907387547e-16\n",
       "\\item -1.66533453693773e-16\n",
       "\\item -1.66533453693773e-16\n",
       "\\end{enumerate*}\n"
      ],
      "text/markdown": [
       "1. 1.16573417585641e-15\n",
       "2. 0\n",
       "3. 0\n",
       "4. 0\n",
       "5. 0\n",
       "6. -2.77555756156289e-16\n",
       "7. 0\n",
       "8. 0\n",
       "9. 0\n",
       "10. 0\n",
       "11. 0\n",
       "12. -3.33066907387547e-16\n",
       "13. -1.66533453693773e-16\n",
       "14. -1.66533453693773e-16\n",
       "\n",
       "\n"
      ],
      "text/plain": [
       " [1]  1.165734e-15  0.000000e+00  0.000000e+00  0.000000e+00  0.000000e+00\n",
       " [6] -2.775558e-16  0.000000e+00  0.000000e+00  0.000000e+00  0.000000e+00\n",
       "[11]  0.000000e+00 -3.330669e-16 -1.665335e-16 -1.665335e-16"
      ]
     },
     "metadata": {},
     "output_type": "display_data"
    }
   ],
   "source": [
    "(first_row_U_ptd - first_row_U_solve)/first_row_U_solve"
   ]
  },
  {
   "cell_type": "code",
   "execution_count": 144,
   "id": "aa1cfd40-ada9-4bd0-9711-ca7eb1cf252c",
   "metadata": {},
   "outputs": [
    {
     "data": {
      "text/html": [
       "1.16573417585641e-15"
      ],
      "text/latex": [
       "1.16573417585641e-15"
      ],
      "text/markdown": [
       "1.16573417585641e-15"
      ],
      "text/plain": [
       "[1] 1.165734e-15"
      ]
     },
     "metadata": {},
     "output_type": "display_data"
    }
   ],
   "source": [
    "max(abs((first_row_U_ptd - first_row_U_solve)/first_row_U_solve))"
   ]
  }
 ],
 "metadata": {
  "kernelspec": {
   "display_name": "R",
   "language": "R",
   "name": "ir"
  },
  "language_info": {
   "codemirror_mode": "r",
   "file_extension": ".r",
   "mimetype": "text/x-r-source",
   "name": "R",
   "pygments_lexer": "r",
   "version": "4.3.1"
  }
 },
 "nbformat": 4,
 "nbformat_minor": 5
}
