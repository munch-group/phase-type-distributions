{
 "cells": [
  {
   "cell_type": "markdown",
   "id": "f504cce5-5180-45cd-b158-491e3c08d575",
   "metadata": {
    "tags": []
   },
   "source": [
    "# Showcase for ptdalgorithms"
   ]
  },
  {
   "cell_type": "markdown",
   "id": "3228f4ed-b4db-4872-9ddc-82f0294b2cba",
   "metadata": {},
   "source": [
    "Python header:"
   ]
  },
  {
   "cell_type": "code",
   "execution_count": 1,
   "id": "9801ed3e",
   "metadata": {},
   "outputs": [],
   "source": [
    "%load_ext rpy2.ipython\n",
    "\n",
    "from IPython.display import Image\n",
    "from graphviz import Digraph\n",
    "import numpy as np\n",
    "import pandas as pd\n",
    "import matplotlib.pyplot as plt\n",
    "import seaborn as sns\n",
    "sns.set()\n",
    "sns.set_style('ticks')\n",
    "from matplotlib_inline.backend_inline import set_matplotlib_formats\n",
    "set_matplotlib_formats('retina', 'png')\n",
    "\n",
    "def plot_graph(gam, constrained=True, size='10'):\n",
    "\n",
    "    constrained = constrained and 'true' or 'false'\n",
    "    \n",
    "    states, sim, ipv = np.array(gam[0]), np.array(gam[1]), np.array(gam[2])\n",
    "\n",
    "    states = np.array(states)\n",
    "    states = np.append(states, np.array([[9]*states.shape[1]]), axis=0)\n",
    "\n",
    "    # add the missing row and col to SIM\n",
    "    rates = np.r_[np.c_[sim, -sim.sum(axis=1)], np.zeros((1, len(sim)+1))]\n",
    "    \n",
    "    dot = Digraph()\n",
    "    dot.node('Start', 'Start')\n",
    "    dot.node(str(len(states)-1), 'Absorbing')    \n",
    "    for i in range(0, len(states)-1):\n",
    "        dot.node(str(i), str(states[i]))\n",
    "    for i in range(len(ipv)):\n",
    "        if ipv[i]:\n",
    "            dot.edge('Start', str(i), constraint=constrained, label=str(ipv[i]))\n",
    "    for i in range(len(states)):\n",
    "        for j in range(len(states)):\n",
    "            if i != j and rates[i, j] > 0:\n",
    "                dot.edge(str(i), str(j), constraint=constrained, label=str(rates[i, j]))\n",
    "    dot.graph_attr['size'] = size                \n",
    "    return dot\n"
   ]
  },
  {
   "cell_type": "markdown",
   "id": "2d85b518-c7a8-4e9b-a93f-c9fa651ab72e",
   "metadata": {},
   "source": [
    "R header:"
   ]
  },
  {
   "cell_type": "code",
   "execution_count": 2,
   "id": "37fc70fa",
   "metadata": {
    "tags": []
   },
   "outputs": [
    {
     "name": "stderr",
     "output_type": "stream",
     "text": [
      "R[write to console]: Indlæser krævet pakke: usethis\n",
      "\n",
      "R[write to console]: Skipping install of 'ptdalgorithms' from a github remote, the SHA1 (29809aeb) has not changed since last install.\n",
      "  Use `force = TRUE` to force installation\n",
      "\n"
     ]
    }
   ],
   "source": [
    "%%R\n",
    "#library(tidyverse)\n",
    "library(devtools)\n",
    "#remove.packages(\"ptdalgorithms\")\n",
    "devtools::install_github(\"TobiasRoikjer/PtDAlgorithms\")\n",
    "library(ptdalgorithms)"
   ]
  },
  {
   "cell_type": "code",
   "execution_count": 3,
   "id": "695e54bf-3d9a-4cc4-bc65-43bb400d50a4",
   "metadata": {},
   "outputs": [],
   "source": [
    "# %%R\n",
    "# remove.packages(\"ptdalgorithms\")"
   ]
  },
  {
   "cell_type": "code",
   "execution_count": 4,
   "id": "69796c9d-976c-4169-8ce8-16a036c4f5c5",
   "metadata": {},
   "outputs": [],
   "source": [
    "# %%R\n",
    "# install.packages(\"remotes\")\n",
    "# remotes::install_github(\"Thell/RcppMP\")"
   ]
  },
  {
   "cell_type": "code",
   "execution_count": 5,
   "id": "3c737854-59f8-472c-8693-2ff23b63fa19",
   "metadata": {},
   "outputs": [],
   "source": [
    "\n",
    "# # GNUMPLIB\n",
    "# ./configure --prefix=$CONDA_PREFIX --enable-cxx\n"
   ]
  },
  {
   "cell_type": "code",
   "execution_count": 6,
   "id": "5d3da91f-f5d3-4fd9-8536-c3a9d133992d",
   "metadata": {},
   "outputs": [],
   "source": [
    "\n",
    "# !export LIBS=\"-L/Users/kmt/miniconda3/envs/phasetype/lib\"\n",
    "# !export CPPFLAGS=\"-I/Users/kmt/miniconda3/envs/phasetype/include\""
   ]
  },
  {
   "cell_type": "code",
   "execution_count": 7,
   "id": "91471179-2835-4926-a1f4-a621907a89f4",
   "metadata": {},
   "outputs": [
    {
     "name": "stderr",
     "output_type": "stream",
     "text": [
      "ld: warning: directory not found for option '-L/Users/runner/miniforge3/conda-bld/r-base-split_1642327617770/_build_env/lib'\n",
      "ld: warning: -pie being ignored. It is only used when linking a main executable\n"
     ]
    }
   ],
   "source": [
    "%%R\n",
    "Rcpp::sourceCpp(\"./coalescent.cpp\")"
   ]
  },
  {
   "cell_type": "code",
   "execution_count": 25,
   "id": "8d0184a0-1d92-47c4-b190-5b598b630b7e",
   "metadata": {
    "tags": []
   },
   "outputs": [
    {
     "name": "stdout",
     "output_type": "stream",
     "text": [
      "[1] 51\n"
     ]
    },
    {
     "name": "stderr",
     "output_type": "stream",
     "text": [
      "bin 1\n",
      "bin 3\n",
      "bin 5\n",
      "bin 7\n",
      "bin 9\n",
      "bin 11\n",
      "bin 13\n",
      "bin 15\n",
      "bin 17\n",
      "bin 19\n"
     ]
    }
   ],
   "source": [
    "%%R\n",
    "graph <- construct_coalescent_selection_graph(4, 0, 20, 10, 0)\n",
    "vertices_length(graph)"
   ]
  },
  {
   "cell_type": "code",
   "execution_count": 24,
   "id": "9587ed44-66f5-4cfa-9df2-aced94f9871d",
   "metadata": {},
   "outputs": [
    {
     "name": "stdout",
     "output_type": "stream",
     "text": [
      "[1] 1.5\n"
     ]
    },
    {
     "name": "stderr",
     "output_type": "stream",
     "text": [
      "INFO: building reward compute graph...\n"
     ]
    }
   ],
   "source": [
    "%%R\n",
    "expectation(graph)"
   ]
  },
  {
   "cell_type": "code",
   "execution_count": 13,
   "id": "4d221277-bafa-4f69-81a9-27d96446d70e",
   "metadata": {
    "tags": []
   },
   "outputs": [
    {
     "name": "stdout",
     "output_type": "stream",
     "text": [
      "[1] 21\n"
     ]
    }
   ],
   "source": [
    "%%R -o gam\n",
    "gam <- graph_as_matrix(graph)\n",
    "vertices_length(graph)"
   ]
  },
  {
   "cell_type": "code",
   "execution_count": 14,
   "id": "db1dda6c-3e0c-4d38-906a-539f4b20a4f7",
   "metadata": {
    "tags": []
   },
   "outputs": [],
   "source": [
    "%%R\n",
    "x <- gam$IPV / sum(gam$IPV)\n"
   ]
  },
  {
   "cell_type": "code",
   "execution_count": 15,
   "id": "4bb2104c-68ef-4938-b5f8-97c3db3e0ef5",
   "metadata": {},
   "outputs": [
    {
     "name": "stdout",
     "output_type": "stream",
     "text": [
      " [1] 4.916863e-35 1.348438e-05 0.000000e+00 9.998364e-01 1.500751e-04\n",
      " [6] 1.909227e-15 0.000000e+00 0.000000e+00 0.000000e+00 0.000000e+00\n",
      "[11] 0.000000e+00 0.000000e+00 0.000000e+00 0.000000e+00 0.000000e+00\n"
     ]
    }
   ],
   "source": [
    "%%R\n",
    "gam$IPV"
   ]
  },
  {
   "cell_type": "code",
   "execution_count": 16,
   "id": "126f8285-3e77-4dd3-826f-daf351b0fbc6",
   "metadata": {},
   "outputs": [
    {
     "data": {
      "image/svg+xml": [
       "<?xml version=\"1.0\" encoding=\"UTF-8\" standalone=\"no\"?>\n",
       "<!DOCTYPE svg PUBLIC \"-//W3C//DTD SVG 1.1//EN\"\n",
       " \"http://www.w3.org/Graphics/SVG/1.1/DTD/svg11.dtd\">\n",
       "<!-- Generated by graphviz version 3.0.0 (0)\n",
       " -->\n",
       "<!-- Pages: 1 -->\n",
       "<svg width=\"720pt\" height=\"399pt\"\n",
       " viewBox=\"0.00 0.00 720.00 399.08\" xmlns=\"http://www.w3.org/2000/svg\" xmlns:xlink=\"http://www.w3.org/1999/xlink\">\n",
       "<g id=\"graph0\" class=\"graph\" transform=\"scale(0.436628 0.436628) rotate(0) translate(4 910)\">\n",
       "<polygon fill=\"white\" stroke=\"transparent\" points=\"-4,4 -4,-910 1645,-910 1645,4 -4,4\"/>\n",
       "<!-- Start -->\n",
       "<g id=\"node1\" class=\"node\">\n",
       "<title>Start</title>\n",
       "<ellipse fill=\"none\" stroke=\"black\" cx=\"891\" cy=\"-888\" rx=\"27.1\" ry=\"18\"/>\n",
       "<text text-anchor=\"middle\" x=\"891\" y=\"-884.3\" font-family=\"Times,serif\" font-size=\"14.00\">Start</text>\n",
       "</g>\n",
       "<!-- 0 -->\n",
       "<g id=\"node3\" class=\"node\">\n",
       "<title>0</title>\n",
       "<ellipse fill=\"none\" stroke=\"black\" cx=\"282\" cy=\"-801\" rx=\"116.18\" ry=\"18\"/>\n",
       "<text text-anchor=\"middle\" x=\"282\" y=\"-797.3\" font-family=\"Times,serif\" font-size=\"14.00\">[0. 1. 0. 0. 0. 0. 3. 0. 0. 0. 0.]</text>\n",
       "</g>\n",
       "<!-- Start&#45;&gt;0 -->\n",
       "<g id=\"edge1\" class=\"edge\">\n",
       "<title>Start&#45;&gt;0</title>\n",
       "<path fill=\"none\" stroke=\"black\" d=\"M863.41,-887.14C767.53,-887.32 449.48,-885.35 354,-852 337.38,-846.2 321.08,-835.43 308.21,-825.37\"/>\n",
       "<polygon fill=\"black\" stroke=\"black\" points=\"310.24,-822.51 300.27,-818.92 305.82,-827.94 310.24,-822.51\"/>\n",
       "<text text-anchor=\"middle\" x=\"422\" y=\"-840.8\" font-family=\"Times,serif\" font-size=\"14.00\">4.916863268010521e&#45;35</text>\n",
       "</g>\n",
       "<!-- 1 -->\n",
       "<g id=\"node4\" class=\"node\">\n",
       "<title>1</title>\n",
       "<ellipse fill=\"none\" stroke=\"black\" cx=\"891\" cy=\"-801\" rx=\"116.18\" ry=\"18\"/>\n",
       "<text text-anchor=\"middle\" x=\"891\" y=\"-797.3\" font-family=\"Times,serif\" font-size=\"14.00\">[0. 1. 0. 0. 0. 0. 3. 0. 0. 0. 4.]</text>\n",
       "</g>\n",
       "<!-- Start&#45;&gt;1 -->\n",
       "<g id=\"edge2\" class=\"edge\">\n",
       "<title>Start&#45;&gt;1</title>\n",
       "<path fill=\"none\" stroke=\"black\" d=\"M891,-869.8C891,-858.16 891,-842.55 891,-829.24\"/>\n",
       "<polygon fill=\"black\" stroke=\"black\" points=\"894.5,-829.18 891,-819.18 887.5,-829.18 894.5,-829.18\"/>\n",
       "<text text-anchor=\"middle\" x=\"962.5\" y=\"-840.8\" font-family=\"Times,serif\" font-size=\"14.00\">1.3484379132388094e&#45;05</text>\n",
       "</g>\n",
       "<!-- 3 -->\n",
       "<g id=\"node6\" class=\"node\">\n",
       "<title>3</title>\n",
       "<ellipse fill=\"none\" stroke=\"black\" cx=\"503\" cy=\"-714\" rx=\"116.18\" ry=\"18\"/>\n",
       "<text text-anchor=\"middle\" x=\"503\" y=\"-710.3\" font-family=\"Times,serif\" font-size=\"14.00\">[0. 1. 0. 0. 0. 0. 3. 0. 0. 0. 3.]</text>\n",
       "</g>\n",
       "<!-- Start&#45;&gt;3 -->\n",
       "<g id=\"edge3\" class=\"edge\">\n",
       "<title>Start&#45;&gt;3</title>\n",
       "<path fill=\"none\" stroke=\"black\" d=\"M864.63,-882.81C818.68,-874.83 721.69,-854.95 647,-819 602.24,-797.45 556.79,-761.84 529.24,-738.4\"/>\n",
       "<polygon fill=\"black\" stroke=\"black\" points=\"531.49,-735.71 521.62,-731.84 526.92,-741.01 531.49,-735.71\"/>\n",
       "<text text-anchor=\"middle\" x=\"706.5\" y=\"-797.3\" font-family=\"Times,serif\" font-size=\"14.00\">0.9998364405279251</text>\n",
       "</g>\n",
       "<!-- 4 -->\n",
       "<g id=\"node7\" class=\"node\">\n",
       "<title>4</title>\n",
       "<ellipse fill=\"none\" stroke=\"black\" cx=\"841\" cy=\"-627\" rx=\"116.18\" ry=\"18\"/>\n",
       "<text text-anchor=\"middle\" x=\"841\" y=\"-623.3\" font-family=\"Times,serif\" font-size=\"14.00\">[0. 1. 0. 0. 0. 0. 3. 0. 0. 0. 2.]</text>\n",
       "</g>\n",
       "<!-- Start&#45;&gt;4 -->\n",
       "<g id=\"edge4\" class=\"edge\">\n",
       "<title>Start&#45;&gt;4</title>\n",
       "<path fill=\"none\" stroke=\"black\" d=\"M917.65,-883.88C955.16,-878.96 1020.88,-868.26 1038,-852 1053.77,-837.02 1103.27,-679.42 1089,-663 1072.29,-643.77 1018.9,-634.81 965.92,-630.75\"/>\n",
       "<polygon fill=\"black\" stroke=\"black\" points=\"965.92,-627.24 955.69,-630.02 965.42,-634.22 965.92,-627.24\"/>\n",
       "<text text-anchor=\"middle\" x=\"1150\" y=\"-753.8\" font-family=\"Times,serif\" font-size=\"14.00\">0.00015007509294057234</text>\n",
       "</g>\n",
       "<!-- 5 -->\n",
       "<g id=\"node8\" class=\"node\">\n",
       "<title>5</title>\n",
       "<ellipse fill=\"none\" stroke=\"black\" cx=\"731\" cy=\"-540\" rx=\"116.18\" ry=\"18\"/>\n",
       "<text text-anchor=\"middle\" x=\"731\" y=\"-536.3\" font-family=\"Times,serif\" font-size=\"14.00\">[0. 1. 0. 0. 0. 0. 3. 0. 0. 0. 1.]</text>\n",
       "</g>\n",
       "<!-- Start&#45;&gt;5 -->\n",
       "<g id=\"edge5\" class=\"edge\">\n",
       "<title>Start&#45;&gt;5</title>\n",
       "<path fill=\"none\" stroke=\"black\" d=\"M918.12,-885.74C1012.26,-880.42 1314.59,-854.95 1227,-750 1198.34,-715.67 1159.88,-763.36 1128,-732 1077.61,-682.42 1149.96,-622.82 1097,-576 1076.55,-557.92 879.14,-560.9 852,-558 842.11,-556.94 831.79,-555.7 821.52,-554.38\"/>\n",
       "<polygon fill=\"black\" stroke=\"black\" points=\"821.66,-550.87 811.29,-553.04 820.75,-557.81 821.66,-550.87\"/>\n",
       "<text text-anchor=\"middle\" x=\"1196\" y=\"-710.3\" font-family=\"Times,serif\" font-size=\"14.00\">1.909226920718455e&#45;15</text>\n",
       "</g>\n",
       "<!-- 15 -->\n",
       "<g id=\"node2\" class=\"node\">\n",
       "<title>15</title>\n",
       "<ellipse fill=\"none\" stroke=\"black\" cx=\"490\" cy=\"-18\" rx=\"48.19\" ry=\"18\"/>\n",
       "<text text-anchor=\"middle\" x=\"490\" y=\"-14.3\" font-family=\"Times,serif\" font-size=\"14.00\">Absorbing</text>\n",
       "</g>\n",
       "<!-- 0&#45;&gt;15 -->\n",
       "<g id=\"edge10\" class=\"edge\">\n",
       "<title>0&#45;&gt;15</title>\n",
       "<path fill=\"none\" stroke=\"black\" d=\"M189.66,-789.93C107.42,-778.31 0,-755.4 0,-715 0,-715 0,-715 0,-104 0,-60.5 303.7,-32.81 432.91,-23\"/>\n",
       "<polygon fill=\"black\" stroke=\"black\" points=\"433.31,-26.48 443.02,-22.24 432.78,-19.5 433.31,-26.48\"/>\n",
       "<text text-anchor=\"middle\" x=\"71.5\" y=\"-405.8\" font-family=\"Times,serif\" font-size=\"14.00\">1.0187095850038019e&#45;16</text>\n",
       "</g>\n",
       "<!-- 2 -->\n",
       "<g id=\"node5\" class=\"node\">\n",
       "<title>2</title>\n",
       "<ellipse fill=\"none\" stroke=\"black\" cx=\"164\" cy=\"-627\" rx=\"116.18\" ry=\"18\"/>\n",
       "<text text-anchor=\"middle\" x=\"164\" y=\"-623.3\" font-family=\"Times,serif\" font-size=\"14.00\">[0. 1. 0. 0. 0. 0. 1. 1. 0. 0. 0.]</text>\n",
       "</g>\n",
       "<!-- 0&#45;&gt;2 -->\n",
       "<g id=\"edge6\" class=\"edge\">\n",
       "<title>0&#45;&gt;2</title>\n",
       "<path fill=\"none\" stroke=\"black\" d=\"M236.31,-784.43C224.78,-779.28 212.88,-772.82 203,-765 188.57,-753.58 185.01,-749.01 178,-732 167.84,-707.36 164.72,-676.92 163.91,-655.36\"/>\n",
       "<polygon fill=\"black\" stroke=\"black\" points=\"167.41,-655.17 163.68,-645.26 160.41,-655.34 167.41,-655.17\"/>\n",
       "<text text-anchor=\"middle\" x=\"190.5\" y=\"-710.3\" font-family=\"Times,serif\" font-size=\"14.00\">30.0</text>\n",
       "</g>\n",
       "<!-- 0&#45;&gt;3 -->\n",
       "<g id=\"edge7\" class=\"edge\">\n",
       "<title>0&#45;&gt;3</title>\n",
       "<path fill=\"none\" stroke=\"black\" d=\"M301.86,-783.13C315.67,-772.2 334.95,-758.48 354,-750 373.28,-741.42 394.94,-734.79 415.64,-729.73\"/>\n",
       "<polygon fill=\"black\" stroke=\"black\" points=\"416.46,-733.14 425.4,-727.45 414.86,-726.32 416.46,-733.14\"/>\n",
       "<text text-anchor=\"middle\" x=\"422\" y=\"-753.8\" font-family=\"Times,serif\" font-size=\"14.00\">9.442414880029547e&#45;44</text>\n",
       "</g>\n",
       "<!-- 0&#45;&gt;4 -->\n",
       "<g id=\"edge8\" class=\"edge\">\n",
       "<title>0&#45;&gt;4</title>\n",
       "<path fill=\"none\" stroke=\"black\" d=\"M392.21,-795.13C500.24,-789.56 652.12,-779.34 676,-765 707.39,-746.15 690.45,-716.18 721,-696 759.41,-670.63 787.79,-707.65 823,-678 829.82,-672.25 834.06,-663.72 836.69,-655.31\"/>\n",
       "<polygon fill=\"black\" stroke=\"black\" points=\"840.16,-655.88 839.17,-645.33 833.36,-654.19 840.16,-655.88\"/>\n",
       "<text text-anchor=\"middle\" x=\"789\" y=\"-710.3\" font-family=\"Times,serif\" font-size=\"14.00\">3.943198436594489e&#45;21</text>\n",
       "</g>\n",
       "<!-- 0&#45;&gt;5 -->\n",
       "<g id=\"edge9\" class=\"edge\">\n",
       "<title>0&#45;&gt;5</title>\n",
       "<path fill=\"none\" stroke=\"black\" d=\"M274.79,-782.9C264.4,-755.39 248.89,-700.58 272,-663 294.43,-626.51 402.93,-588.17 444,-576 515.15,-554.91 536.36,-567.16 610,-558 619.45,-556.82 629.31,-555.54 639.14,-554.22\"/>\n",
       "<polygon fill=\"black\" stroke=\"black\" points=\"639.92,-557.64 649.36,-552.83 638.98,-550.71 639.92,-557.64\"/>\n",
       "<text text-anchor=\"middle\" x=\"343.5\" y=\"-666.8\" font-family=\"Times,serif\" font-size=\"14.00\">1.3956722902617446e&#45;05</text>\n",
       "</g>\n",
       "<!-- 1&#45;&gt;3 -->\n",
       "<g id=\"edge11\" class=\"edge\">\n",
       "<title>1&#45;&gt;3</title>\n",
       "<path fill=\"none\" stroke=\"black\" d=\"M819.43,-786.72C786.63,-780.44 747.27,-772.66 712,-765 664.85,-754.75 611.99,-742.1 571.23,-732.08\"/>\n",
       "<polygon fill=\"black\" stroke=\"black\" points=\"571.96,-728.66 561.41,-729.66 570.28,-735.45 571.96,-728.66\"/>\n",
       "<text text-anchor=\"middle\" x=\"780\" y=\"-753.8\" font-family=\"Times,serif\" font-size=\"14.00\">1.395672290261705e&#45;05</text>\n",
       "</g>\n",
       "<!-- 1&#45;&gt;4 -->\n",
       "<g id=\"edge12\" class=\"edge\">\n",
       "<title>1&#45;&gt;4</title>\n",
       "<path fill=\"none\" stroke=\"black\" d=\"M886.02,-782.88C877.3,-752.87 859.19,-690.58 848.79,-654.81\"/>\n",
       "<polygon fill=\"black\" stroke=\"black\" points=\"852.11,-653.68 845.96,-645.05 845.39,-655.63 852.11,-653.68\"/>\n",
       "<text text-anchor=\"middle\" x=\"935\" y=\"-710.3\" font-family=\"Times,serif\" font-size=\"14.00\">3.94319843659418e&#45;21</text>\n",
       "</g>\n",
       "<!-- 1&#45;&gt;5 -->\n",
       "<g id=\"edge13\" class=\"edge\">\n",
       "<title>1&#45;&gt;5</title>\n",
       "<path fill=\"none\" stroke=\"black\" d=\"M938.13,-784.5C962.43,-773.85 989.86,-757.01 1004,-732 1011.87,-718.07 1011.43,-710.17 1004,-696 997.48,-683.55 984.52,-690.45 978,-678 974.91,-672.09 974.95,-668.93 978,-663 1005.13,-610.33 1119.2,-619.52 1079,-576 1061.83,-557.42 877.15,-560.76 852,-558 842.19,-556.92 831.96,-555.68 821.77,-554.36\"/>\n",
       "<polygon fill=\"black\" stroke=\"black\" points=\"821.99,-550.86 811.62,-553.02 821.08,-557.8 821.99,-550.86\"/>\n",
       "<text text-anchor=\"middle\" x=\"1046\" y=\"-666.8\" font-family=\"Times,serif\" font-size=\"14.00\">9.442414880028474e&#45;44</text>\n",
       "</g>\n",
       "<!-- 6 -->\n",
       "<g id=\"node9\" class=\"node\">\n",
       "<title>6</title>\n",
       "<ellipse fill=\"none\" stroke=\"black\" cx=\"1300\" cy=\"-627\" rx=\"116.18\" ry=\"18\"/>\n",
       "<text text-anchor=\"middle\" x=\"1300\" y=\"-623.3\" font-family=\"Times,serif\" font-size=\"14.00\">[0. 1. 0. 0. 0. 0. 1. 1. 0. 0. 4.]</text>\n",
       "</g>\n",
       "<!-- 1&#45;&gt;6 -->\n",
       "<g id=\"edge14\" class=\"edge\">\n",
       "<title>1&#45;&gt;6</title>\n",
       "<path fill=\"none\" stroke=\"black\" d=\"M960.37,-786.51C984.09,-780.98 1010.55,-773.79 1034,-765 1047.59,-759.91 1049.06,-754.04 1063,-750 1106.92,-737.25 1232.44,-760.75 1268,-732 1290.68,-713.67 1297.64,-679.63 1299.6,-655.49\"/>\n",
       "<polygon fill=\"black\" stroke=\"black\" points=\"1303.11,-655.38 1300.18,-645.19 1296.12,-654.98 1303.11,-655.38\"/>\n",
       "<text text-anchor=\"middle\" x=\"1347\" y=\"-710.3\" font-family=\"Times,serif\" font-size=\"14.00\">3.333333333333333</text>\n",
       "</g>\n",
       "<!-- 2&#45;&gt;15 -->\n",
       "<g id=\"edge19\" class=\"edge\">\n",
       "<title>2&#45;&gt;15</title>\n",
       "<path fill=\"none\" stroke=\"black\" d=\"M162.07,-608.77C160.31,-591.61 158,-564.52 158,-541 158,-541 158,-541 158,-104 158,-48.03 337.33,-28.42 432.39,-21.95\"/>\n",
       "<polygon fill=\"black\" stroke=\"black\" points=\"432.68,-25.44 442.43,-21.3 432.23,-18.46 432.68,-25.44\"/>\n",
       "<text text-anchor=\"middle\" x=\"229.5\" y=\"-318.8\" font-family=\"Times,serif\" font-size=\"14.00\">1.0187095850038019e&#45;16</text>\n",
       "</g>\n",
       "<!-- 7 -->\n",
       "<g id=\"node10\" class=\"node\">\n",
       "<title>7</title>\n",
       "<ellipse fill=\"none\" stroke=\"black\" cx=\"341\" cy=\"-366\" rx=\"116.18\" ry=\"18\"/>\n",
       "<text text-anchor=\"middle\" x=\"341\" y=\"-362.3\" font-family=\"Times,serif\" font-size=\"14.00\">[0. 1. 0. 0. 0. 0. 0. 0. 1. 0. 0.]</text>\n",
       "</g>\n",
       "<!-- 2&#45;&gt;7 -->\n",
       "<g id=\"edge15\" class=\"edge\">\n",
       "<title>2&#45;&gt;7</title>\n",
       "<path fill=\"none\" stroke=\"black\" d=\"M168.75,-608.9C177.8,-576.9 197.83,-509.38 211,-489 237.15,-448.54 279.55,-412.19 308.78,-389.9\"/>\n",
       "<polygon fill=\"black\" stroke=\"black\" points=\"311.12,-392.52 317.02,-383.72 306.92,-386.92 311.12,-392.52\"/>\n",
       "<text text-anchor=\"middle\" x=\"223.5\" y=\"-492.8\" font-family=\"Times,serif\" font-size=\"14.00\">10.0</text>\n",
       "</g>\n",
       "<!-- 8 -->\n",
       "<g id=\"node11\" class=\"node\">\n",
       "<title>8</title>\n",
       "<ellipse fill=\"none\" stroke=\"black\" cx=\"1153\" cy=\"-540\" rx=\"116.18\" ry=\"18\"/>\n",
       "<text text-anchor=\"middle\" x=\"1153\" y=\"-536.3\" font-family=\"Times,serif\" font-size=\"14.00\">[0. 1. 0. 0. 0. 0. 1. 1. 0. 0. 2.]</text>\n",
       "</g>\n",
       "<!-- 2&#45;&gt;8 -->\n",
       "<g id=\"edge16\" class=\"edge\">\n",
       "<title>2&#45;&gt;8</title>\n",
       "<path fill=\"none\" stroke=\"black\" d=\"M261.13,-617.04C295.5,-614.12 334.45,-611.09 370,-609 426.49,-605.67 825.88,-610.5 879,-591 889.1,-587.29 888.1,-580.21 898,-576 901.8,-574.38 986.41,-562.94 1057.13,-553.57\"/>\n",
       "<polygon fill=\"black\" stroke=\"black\" points=\"1058,-556.99 1067.45,-552.21 1057.08,-550.05 1058,-556.99\"/>\n",
       "<text text-anchor=\"middle\" x=\"966\" y=\"-579.8\" font-family=\"Times,serif\" font-size=\"14.00\">3.943198436594489e&#45;21</text>\n",
       "</g>\n",
       "<!-- 9 -->\n",
       "<g id=\"node12\" class=\"node\">\n",
       "<title>9</title>\n",
       "<ellipse fill=\"none\" stroke=\"black\" cx=\"702\" cy=\"-453\" rx=\"116.18\" ry=\"18\"/>\n",
       "<text text-anchor=\"middle\" x=\"702\" y=\"-449.3\" font-family=\"Times,serif\" font-size=\"14.00\">[0. 1. 0. 0. 0. 0. 1. 1. 0. 0. 1.]</text>\n",
       "</g>\n",
       "<!-- 2&#45;&gt;9 -->\n",
       "<g id=\"edge17\" class=\"edge\">\n",
       "<title>2&#45;&gt;9</title>\n",
       "<path fill=\"none\" stroke=\"black\" d=\"M211.84,-610.49C245.28,-599.96 291.09,-586.15 332,-576 371.59,-566.17 385.43,-576.07 422,-558 443.74,-547.26 441.71,-533.6 463,-522 510.57,-496.08 568.97,-479.23 616.14,-468.79\"/>\n",
       "<polygon fill=\"black\" stroke=\"black\" points=\"616.99,-472.18 626.03,-466.65 615.51,-465.34 616.99,-472.18\"/>\n",
       "<text text-anchor=\"middle\" x=\"534.5\" y=\"-536.3\" font-family=\"Times,serif\" font-size=\"14.00\">1.3956722902617446e&#45;05</text>\n",
       "</g>\n",
       "<!-- 10 -->\n",
       "<g id=\"node13\" class=\"node\">\n",
       "<title>10</title>\n",
       "<ellipse fill=\"none\" stroke=\"black\" cx=\"757\" cy=\"-366\" rx=\"116.18\" ry=\"18\"/>\n",
       "<text text-anchor=\"middle\" x=\"757\" y=\"-362.3\" font-family=\"Times,serif\" font-size=\"14.00\">[0. 1. 0. 0. 0. 0. 1. 1. 0. 0. 3.]</text>\n",
       "</g>\n",
       "<!-- 2&#45;&gt;10 -->\n",
       "<g id=\"edge18\" class=\"edge\">\n",
       "<title>2&#45;&gt;10</title>\n",
       "<path fill=\"none\" stroke=\"black\" d=\"M176.85,-609.02C181.09,-603.33 185.8,-596.93 190,-591 221.66,-546.35 219.62,-527.01 259,-489 311.44,-438.39 329.01,-425.49 398,-402 440.98,-387.36 550.46,-378.08 637.3,-372.78\"/>\n",
       "<polygon fill=\"black\" stroke=\"black\" points=\"637.74,-376.26 647.51,-372.17 637.32,-369.27 637.74,-376.26\"/>\n",
       "<text text-anchor=\"middle\" x=\"327\" y=\"-492.8\" font-family=\"Times,serif\" font-size=\"14.00\">9.442414880029547e&#45;44</text>\n",
       "</g>\n",
       "<!-- 3&#45;&gt;4 -->\n",
       "<g id=\"edge20\" class=\"edge\">\n",
       "<title>3&#45;&gt;4</title>\n",
       "<path fill=\"none\" stroke=\"black\" d=\"M586.13,-701.4C612.6,-696.1 641.6,-688.56 667,-678 678.27,-673.31 678.77,-667.78 690,-663 709.98,-654.48 732.38,-647.86 753.67,-642.78\"/>\n",
       "<polygon fill=\"black\" stroke=\"black\" points=\"754.73,-646.13 763.69,-640.48 753.17,-639.31 754.73,-646.13\"/>\n",
       "<text text-anchor=\"middle\" x=\"756.5\" y=\"-666.8\" font-family=\"Times,serif\" font-size=\"14.00\">0.015007508773250548</text>\n",
       "</g>\n",
       "<!-- 3&#45;&gt;5 -->\n",
       "<g id=\"edge21\" class=\"edge\">\n",
       "<title>3&#45;&gt;5</title>\n",
       "<path fill=\"none\" stroke=\"black\" d=\"M468.4,-696.67C431.04,-676.82 380.13,-641.9 406,-609 420.47,-590.6 547.39,-568.18 638.25,-554.24\"/>\n",
       "<polygon fill=\"black\" stroke=\"black\" points=\"638.95,-557.68 648.31,-552.71 637.9,-550.76 638.95,-557.68\"/>\n",
       "<text text-anchor=\"middle\" x=\"474\" y=\"-623.3\" font-family=\"Times,serif\" font-size=\"14.00\">1.909226854462414e&#45;13</text>\n",
       "</g>\n",
       "<!-- 3&#45;&gt;10 -->\n",
       "<g id=\"edge22\" class=\"edge\">\n",
       "<title>3&#45;&gt;10</title>\n",
       "<path fill=\"none\" stroke=\"black\" d=\"M453.04,-697.67C440.05,-692.49 426.49,-685.96 415,-678 345.48,-629.83 252.45,-587.47 306,-522 331.55,-490.76 357.04,-517.69 395,-504 485.16,-471.49 494.86,-434.57 585,-402 610.16,-392.91 638.29,-385.94 664.39,-380.7\"/>\n",
       "<polygon fill=\"black\" stroke=\"black\" points=\"665.14,-384.12 674.29,-378.78 663.8,-377.25 665.14,-384.12\"/>\n",
       "<text text-anchor=\"middle\" x=\"362\" y=\"-536.3\" font-family=\"Times,serif\" font-size=\"14.00\">4.285714285714286</text>\n",
       "</g>\n",
       "<!-- 4&#45;&gt;3 -->\n",
       "<g id=\"edge23\" class=\"edge\">\n",
       "<title>4&#45;&gt;3</title>\n",
       "<path fill=\"none\" stroke=\"black\" d=\"M756.43,-639.44C741.31,-641.38 725.7,-643.31 711,-645 670.84,-649.62 563.65,-640.6 530,-663 521.68,-668.54 515.71,-677.53 511.54,-686.37\"/>\n",
       "<polygon fill=\"black\" stroke=\"black\" points=\"508.26,-685.15 507.7,-695.73 514.74,-687.81 508.26,-685.15\"/>\n",
       "<text text-anchor=\"middle\" x=\"596.5\" y=\"-666.8\" font-family=\"Times,serif\" font-size=\"14.00\">0.029095904009940707</text>\n",
       "</g>\n",
       "<!-- 4&#45;&gt;5 -->\n",
       "<g id=\"edge24\" class=\"edge\">\n",
       "<title>4&#45;&gt;5</title>\n",
       "<path fill=\"none\" stroke=\"black\" d=\"M777.26,-611.83C765.66,-606.83 754.55,-600.09 746,-591 740.15,-584.78 736.58,-576.36 734.39,-568.21\"/>\n",
       "<polygon fill=\"black\" stroke=\"black\" points=\"737.77,-567.29 732.31,-558.22 730.92,-568.72 737.77,-567.29\"/>\n",
       "<text text-anchor=\"middle\" x=\"812.5\" y=\"-579.8\" font-family=\"Times,serif\" font-size=\"14.00\">0.029095904009940707</text>\n",
       "</g>\n",
       "<!-- 4&#45;&gt;8 -->\n",
       "<g id=\"edge25\" class=\"edge\">\n",
       "<title>4&#45;&gt;8</title>\n",
       "<path fill=\"none\" stroke=\"black\" d=\"M928.34,-614.99C962.91,-609.46 1002.75,-601.63 1038,-591 1063.24,-583.39 1090.33,-571.79 1111.87,-561.68\"/>\n",
       "<polygon fill=\"black\" stroke=\"black\" points=\"1113.53,-564.77 1121.05,-557.31 1110.52,-558.45 1113.53,-564.77\"/>\n",
       "<text text-anchor=\"middle\" x=\"1085\" y=\"-579.8\" font-family=\"Times,serif\" font-size=\"14.00\">6.0</text>\n",
       "</g>\n",
       "<!-- 5&#45;&gt;3 -->\n",
       "<g id=\"edge26\" class=\"edge\">\n",
       "<title>5&#45;&gt;3</title>\n",
       "<path fill=\"none\" stroke=\"black\" d=\"M643.73,-551.94C624.55,-557.13 605.16,-564.77 589,-576 558.53,-597.17 568.58,-619.11 542,-645 531.4,-655.32 522.45,-650.86 514,-663 509.34,-669.7 506.61,-678.02 505.02,-685.94\"/>\n",
       "<polygon fill=\"black\" stroke=\"black\" points=\"501.54,-685.54 503.53,-695.95 508.46,-686.58 501.54,-685.54\"/>\n",
       "<text text-anchor=\"middle\" x=\"634.5\" y=\"-623.3\" font-family=\"Times,serif\" font-size=\"14.00\">1.9092268544624003e&#45;13</text>\n",
       "</g>\n",
       "<!-- 5&#45;&gt;4 -->\n",
       "<g id=\"edge27\" class=\"edge\">\n",
       "<title>5&#45;&gt;4</title>\n",
       "<path fill=\"none\" stroke=\"black\" d=\"M637.61,-550.81C605.62,-557.91 581.92,-570.11 600,-591 602.5,-593.88 678.79,-604.64 744.87,-613.48\"/>\n",
       "<polygon fill=\"black\" stroke=\"black\" points=\"744.58,-616.97 754.96,-614.82 745.51,-610.03 744.58,-616.97\"/>\n",
       "<text text-anchor=\"middle\" x=\"666.5\" y=\"-579.8\" font-family=\"Times,serif\" font-size=\"14.00\">0.015007508773250388</text>\n",
       "</g>\n",
       "<!-- 5&#45;&gt;9 -->\n",
       "<g id=\"edge28\" class=\"edge\">\n",
       "<title>5&#45;&gt;9</title>\n",
       "<path fill=\"none\" stroke=\"black\" d=\"M699.44,-522.55C692.83,-517.53 686.74,-511.35 683,-504 679.17,-496.47 680.46,-487.97 683.72,-480.15\"/>\n",
       "<polygon fill=\"black\" stroke=\"black\" points=\"686.95,-481.54 688.46,-471.05 680.74,-478.31 686.95,-481.54\"/>\n",
       "<text text-anchor=\"middle\" x=\"695.5\" y=\"-492.8\" font-family=\"Times,serif\" font-size=\"14.00\">10.0</text>\n",
       "</g>\n",
       "<!-- 6&#45;&gt;8 -->\n",
       "<g id=\"edge29\" class=\"edge\">\n",
       "<title>6&#45;&gt;8</title>\n",
       "<path fill=\"none\" stroke=\"black\" d=\"M1219.98,-613.82C1204.51,-608.68 1189.31,-601.37 1177,-591 1169.72,-584.87 1164.49,-576.02 1160.8,-567.47\"/>\n",
       "<polygon fill=\"black\" stroke=\"black\" points=\"1164.08,-566.22 1157.28,-558.1 1157.52,-568.69 1164.08,-566.22\"/>\n",
       "<text text-anchor=\"middle\" x=\"1242\" y=\"-579.8\" font-family=\"Times,serif\" font-size=\"14.00\">3.94319843659418e&#45;21</text>\n",
       "</g>\n",
       "<!-- 6&#45;&gt;9 -->\n",
       "<g id=\"edge30\" class=\"edge\">\n",
       "<title>6&#45;&gt;9</title>\n",
       "<path fill=\"none\" stroke=\"black\" d=\"M1233.82,-612.08C1210.51,-606.45 1184.32,-599.32 1161,-591 1146.21,-585.72 1144.19,-579.99 1129,-576 1077.92,-562.57 940,-580.05 892,-558 871.44,-548.55 876.2,-532.19 856,-522 807.85,-497.71 781.66,-532.7 736,-504 726.8,-498.22 719.48,-488.94 714.03,-479.93\"/>\n",
       "<polygon fill=\"black\" stroke=\"black\" points=\"717.09,-478.23 709.19,-471.16 710.96,-481.61 717.09,-478.23\"/>\n",
       "<text text-anchor=\"middle\" x=\"960\" y=\"-536.3\" font-family=\"Times,serif\" font-size=\"14.00\">9.442414880028474e&#45;44</text>\n",
       "</g>\n",
       "<!-- 6&#45;&gt;10 -->\n",
       "<g id=\"edge31\" class=\"edge\">\n",
       "<title>6&#45;&gt;10</title>\n",
       "<path fill=\"none\" stroke=\"black\" d=\"M1305.65,-608.7C1308.02,-599 1309.67,-586.72 1307,-576 1289.82,-507.13 1289.84,-476.14 1232,-435 1176.78,-395.73 999.93,-378.91 878.33,-371.87\"/>\n",
       "<polygon fill=\"black\" stroke=\"black\" points=\"878.39,-368.36 868.21,-371.29 878,-375.35 878.39,-368.36\"/>\n",
       "<text text-anchor=\"middle\" x=\"1355\" y=\"-492.8\" font-family=\"Times,serif\" font-size=\"14.00\">1.395672290261705e&#45;05</text>\n",
       "</g>\n",
       "<!-- 11 -->\n",
       "<g id=\"node14\" class=\"node\">\n",
       "<title>11</title>\n",
       "<ellipse fill=\"none\" stroke=\"black\" cx=\"1361\" cy=\"-366\" rx=\"116.18\" ry=\"18\"/>\n",
       "<text text-anchor=\"middle\" x=\"1361\" y=\"-362.3\" font-family=\"Times,serif\" font-size=\"14.00\">[0. 1. 0. 0. 0. 0. 0. 0. 1. 0. 4.]</text>\n",
       "</g>\n",
       "<!-- 6&#45;&gt;11 -->\n",
       "<g id=\"edge32\" class=\"edge\">\n",
       "<title>6&#45;&gt;11</title>\n",
       "<path fill=\"none\" stroke=\"black\" d=\"M1336.84,-609.82C1375.14,-590.73 1432.94,-555.01 1458,-504 1479.41,-460.41 1431.85,-415.52 1396.03,-389.49\"/>\n",
       "<polygon fill=\"black\" stroke=\"black\" points=\"1397.88,-386.51 1387.69,-383.61 1393.84,-392.23 1397.88,-386.51\"/>\n",
       "<text text-anchor=\"middle\" x=\"1521.5\" y=\"-492.8\" font-family=\"Times,serif\" font-size=\"14.00\">1.1111111111111112</text>\n",
       "</g>\n",
       "<!-- 7&#45;&gt;15 -->\n",
       "<g id=\"edge36\" class=\"edge\">\n",
       "<title>7&#45;&gt;15</title>\n",
       "<path fill=\"none\" stroke=\"black\" d=\"M332.57,-348.01C321.37,-323.86 303,-277.91 303,-236.5 303,-236.5 303,-236.5 303,-104 303,-46.42 377.38,-27.66 432.32,-21.66\"/>\n",
       "<polygon fill=\"black\" stroke=\"black\" points=\"432.72,-25.14 442.33,-20.68 432.03,-18.17 432.72,-25.14\"/>\n",
       "<text text-anchor=\"middle\" x=\"312\" y=\"-188.3\" font-family=\"Times,serif\" font-size=\"14.00\">1.0</text>\n",
       "</g>\n",
       "<!-- 12 -->\n",
       "<g id=\"node15\" class=\"node\">\n",
       "<title>12</title>\n",
       "<ellipse fill=\"none\" stroke=\"black\" cx=\"757\" cy=\"-279\" rx=\"116.18\" ry=\"18\"/>\n",
       "<text text-anchor=\"middle\" x=\"757\" y=\"-275.3\" font-family=\"Times,serif\" font-size=\"14.00\">[0. 1. 0. 0. 0. 0. 0. 0. 1. 0. 3.]</text>\n",
       "</g>\n",
       "<!-- 7&#45;&gt;12 -->\n",
       "<g id=\"edge33\" class=\"edge\">\n",
       "<title>7&#45;&gt;12</title>\n",
       "<path fill=\"none\" stroke=\"black\" d=\"M358.48,-348.14C372.31,-335.2 390.79,-318.9 400,-315 411.4,-310.17 546.42,-297.84 647.06,-289.18\"/>\n",
       "<polygon fill=\"black\" stroke=\"black\" points=\"647.64,-292.65 657.3,-288.3 647.04,-285.67 647.64,-292.65\"/>\n",
       "<text text-anchor=\"middle\" x=\"468\" y=\"-318.8\" font-family=\"Times,serif\" font-size=\"14.00\">9.442414880029547e&#45;44</text>\n",
       "</g>\n",
       "<!-- 13 -->\n",
       "<g id=\"node16\" class=\"node\">\n",
       "<title>13</title>\n",
       "<ellipse fill=\"none\" stroke=\"black\" cx=\"597\" cy=\"-192\" rx=\"116.18\" ry=\"18\"/>\n",
       "<text text-anchor=\"middle\" x=\"597\" y=\"-188.3\" font-family=\"Times,serif\" font-size=\"14.00\">[0. 1. 0. 0. 0. 0. 0. 0. 1. 0. 1.]</text>\n",
       "</g>\n",
       "<!-- 7&#45;&gt;13 -->\n",
       "<g id=\"edge34\" class=\"edge\">\n",
       "<title>7&#45;&gt;13</title>\n",
       "<path fill=\"none\" stroke=\"black\" d=\"M346.13,-347.65C353.98,-324.21 371.28,-282.87 401,-261 430.35,-239.4 446.34,-254.26 481,-243 505.89,-234.91 532.78,-223.5 554.4,-213.62\"/>\n",
       "<polygon fill=\"black\" stroke=\"black\" points=\"556.02,-216.73 563.63,-209.35 553.08,-210.37 556.02,-216.73\"/>\n",
       "<text text-anchor=\"middle\" x=\"472.5\" y=\"-275.3\" font-family=\"Times,serif\" font-size=\"14.00\">1.3956722902617446e&#45;05</text>\n",
       "</g>\n",
       "<!-- 14 -->\n",
       "<g id=\"node17\" class=\"node\">\n",
       "<title>14</title>\n",
       "<ellipse fill=\"none\" stroke=\"black\" cx=\"833\" cy=\"-105\" rx=\"116.18\" ry=\"18\"/>\n",
       "<text text-anchor=\"middle\" x=\"833\" y=\"-101.3\" font-family=\"Times,serif\" font-size=\"14.00\">[0. 1. 0. 0. 0. 0. 0. 0. 1. 0. 2.]</text>\n",
       "</g>\n",
       "<!-- 7&#45;&gt;14 -->\n",
       "<g id=\"edge35\" class=\"edge\">\n",
       "<title>7&#45;&gt;14</title>\n",
       "<path fill=\"none\" stroke=\"black\" d=\"M335.35,-347.67C327.42,-319.83 316.52,-264.57 341,-228 376.03,-175.67 412.48,-194.58 472,-174 497.53,-165.17 562.57,-146.6 589,-141 635.41,-131.17 687.39,-123.29 731.4,-117.52\"/>\n",
       "<polygon fill=\"black\" stroke=\"black\" points=\"732.07,-120.96 741.54,-116.2 731.17,-114.02 732.07,-120.96\"/>\n",
       "<text text-anchor=\"middle\" x=\"409\" y=\"-231.8\" font-family=\"Times,serif\" font-size=\"14.00\">3.943198436594489e&#45;21</text>\n",
       "</g>\n",
       "<!-- 8&#45;&gt;15 -->\n",
       "<g id=\"edge40\" class=\"edge\">\n",
       "<title>8&#45;&gt;15</title>\n",
       "<path fill=\"none\" stroke=\"black\" d=\"M1195.11,-523.19C1288.54,-487.5 1505,-401.14 1505,-367 1505,-367 1505,-367 1505,-104 1505,-83.29 1463.93,-78.63 1218,-54 969.71,-29.13 671.94,-21.81 548.27,-19.76\"/>\n",
       "<polygon fill=\"black\" stroke=\"black\" points=\"548.31,-16.26 538.26,-19.59 548.2,-23.25 548.31,-16.26\"/>\n",
       "<text text-anchor=\"middle\" x=\"1573\" y=\"-275.3\" font-family=\"Times,serif\" font-size=\"14.00\">4.440892098500626e&#45;16</text>\n",
       "</g>\n",
       "<!-- 8&#45;&gt;9 -->\n",
       "<g id=\"edge37\" class=\"edge\">\n",
       "<title>8&#45;&gt;9</title>\n",
       "<path fill=\"none\" stroke=\"black\" d=\"M1068.4,-527.59C1001.97,-518.49 919.47,-506.82 912,-504 900.58,-499.69 900.33,-493.54 889,-489 862.65,-478.43 832.92,-471.02 805.04,-465.82\"/>\n",
       "<polygon fill=\"black\" stroke=\"black\" points=\"805.33,-462.32 794.87,-464.01 804.1,-469.21 805.33,-462.32\"/>\n",
       "<text text-anchor=\"middle\" x=\"978.5\" y=\"-492.8\" font-family=\"Times,serif\" font-size=\"14.00\">0.029095904009940707</text>\n",
       "</g>\n",
       "<!-- 8&#45;&gt;10 -->\n",
       "<g id=\"edge38\" class=\"edge\">\n",
       "<title>8&#45;&gt;10</title>\n",
       "<path fill=\"none\" stroke=\"black\" d=\"M1114.47,-522.88C1101.22,-517.14 1086.36,-510.49 1073,-504 1060.3,-497.83 1058.39,-493.48 1045,-489 995.52,-472.45 971.91,-500.68 929,-471 900.03,-450.96 917.9,-423.51 890,-402 878.55,-393.17 865.09,-386.57 851.19,-381.62\"/>\n",
       "<polygon fill=\"black\" stroke=\"black\" points=\"852.11,-378.24 841.52,-378.45 849.94,-384.89 852.11,-378.24\"/>\n",
       "<text text-anchor=\"middle\" x=\"995.5\" y=\"-449.3\" font-family=\"Times,serif\" font-size=\"14.00\">0.029095904009940707</text>\n",
       "</g>\n",
       "<!-- 8&#45;&gt;14 -->\n",
       "<g id=\"edge39\" class=\"edge\">\n",
       "<title>8&#45;&gt;14</title>\n",
       "<path fill=\"none\" stroke=\"black\" d=\"M1182.47,-522.32C1200.13,-510.52 1221.03,-492.91 1231,-471 1244.79,-440.69 1215,-197.08 1191,-174 1156.55,-140.88 1038.07,-123.16 946.74,-114.21\"/>\n",
       "<polygon fill=\"black\" stroke=\"black\" points=\"946.88,-110.71 936.59,-113.24 946.21,-117.68 946.88,-110.71\"/>\n",
       "<text text-anchor=\"middle\" x=\"1235\" y=\"-318.8\" font-family=\"Times,serif\" font-size=\"14.00\">2.0</text>\n",
       "</g>\n",
       "<!-- 9&#45;&gt;8 -->\n",
       "<g id=\"edge41\" class=\"edge\">\n",
       "<title>9&#45;&gt;8</title>\n",
       "<path fill=\"none\" stroke=\"black\" d=\"M716.54,-470.92C728.1,-483.9 743.67,-500.22 752,-504 806.96,-528.93 962.94,-516.08 1023,-522 1034.86,-523.17 1047.3,-524.57 1059.59,-526.06\"/>\n",
       "<polygon fill=\"black\" stroke=\"black\" points=\"1059.52,-529.58 1069.87,-527.33 1060.37,-522.63 1059.52,-529.58\"/>\n",
       "<text text-anchor=\"middle\" x=\"818.5\" y=\"-492.8\" font-family=\"Times,serif\" font-size=\"14.00\">0.015007508773250388</text>\n",
       "</g>\n",
       "<!-- 9&#45;&gt;10 -->\n",
       "<g id=\"edge42\" class=\"edge\">\n",
       "<title>9&#45;&gt;10</title>\n",
       "<path fill=\"none\" stroke=\"black\" d=\"M720.05,-435.2C725.3,-429.73 730.76,-423.4 735,-417 739.71,-409.89 743.83,-401.59 747.19,-393.83\"/>\n",
       "<polygon fill=\"black\" stroke=\"black\" points=\"750.5,-394.99 751.03,-384.41 744.02,-392.35 750.5,-394.99\"/>\n",
       "<text text-anchor=\"middle\" x=\"814.5\" y=\"-405.8\" font-family=\"Times,serif\" font-size=\"14.00\">1.9092268544624003e&#45;13</text>\n",
       "</g>\n",
       "<!-- 9&#45;&gt;13 -->\n",
       "<g id=\"edge43\" class=\"edge\">\n",
       "<title>9&#45;&gt;13</title>\n",
       "<path fill=\"none\" stroke=\"black\" d=\"M617.27,-440.6C604.75,-435.3 593.29,-427.74 585,-417 537.72,-355.74 580.33,-320.37 579,-243 578.89,-236.33 577.43,-234.48 579,-228 579.69,-225.14 580.66,-222.24 581.8,-219.41\"/>\n",
       "<polygon fill=\"black\" stroke=\"black\" points=\"585.06,-220.71 586.12,-210.17 578.72,-217.74 585.06,-220.71\"/>\n",
       "<text text-anchor=\"middle\" x=\"627.5\" y=\"-318.8\" font-family=\"Times,serif\" font-size=\"14.00\">3.3333333333333335</text>\n",
       "</g>\n",
       "<!-- 10&#45;&gt;8 -->\n",
       "<g id=\"edge44\" class=\"edge\">\n",
       "<title>10&#45;&gt;8</title>\n",
       "<path fill=\"none\" stroke=\"black\" d=\"M861.49,-374C923.35,-381.96 1001.24,-398.93 1062,-435 1070.86,-440.26 1108.83,-485.32 1132.84,-514.38\"/>\n",
       "<polygon fill=\"black\" stroke=\"black\" points=\"1130.14,-516.61 1139.2,-522.1 1135.54,-512.16 1130.14,-516.61\"/>\n",
       "<text text-anchor=\"middle\" x=\"1161.5\" y=\"-449.3\" font-family=\"Times,serif\" font-size=\"14.00\">0.015007508773250548</text>\n",
       "</g>\n",
       "<!-- 10&#45;&gt;9 -->\n",
       "<g id=\"edge45\" class=\"edge\">\n",
       "<title>10&#45;&gt;9</title>\n",
       "<path fill=\"none\" stroke=\"black\" d=\"M664.31,-376.9C633.44,-382.24 604.49,-390.24 595,-402 582.38,-417.64 595.1,-428.63 615.61,-436.24\"/>\n",
       "<polygon fill=\"black\" stroke=\"black\" points=\"614.58,-439.59 625.17,-439.4 616.78,-432.94 614.58,-439.59\"/>\n",
       "<text text-anchor=\"middle\" x=\"663\" y=\"-405.8\" font-family=\"Times,serif\" font-size=\"14.00\">1.909226854462414e&#45;13</text>\n",
       "</g>\n",
       "<!-- 10&#45;&gt;12 -->\n",
       "<g id=\"edge46\" class=\"edge\">\n",
       "<title>10&#45;&gt;12</title>\n",
       "<path fill=\"none\" stroke=\"black\" d=\"M757,-347.8C757,-336.16 757,-320.55 757,-307.24\"/>\n",
       "<polygon fill=\"black\" stroke=\"black\" points=\"760.5,-307.18 757,-297.18 753.5,-307.18 760.5,-307.18\"/>\n",
       "<text text-anchor=\"middle\" x=\"816.5\" y=\"-318.8\" font-family=\"Times,serif\" font-size=\"14.00\">1.4285714285714286</text>\n",
       "</g>\n",
       "<!-- 11&#45;&gt;15 -->\n",
       "<g id=\"edge50\" class=\"edge\">\n",
       "<title>11&#45;&gt;15</title>\n",
       "<path fill=\"none\" stroke=\"black\" d=\"M1381.97,-348.14C1398.93,-332.48 1420,-307.48 1420,-280 1420,-280 1420,-280 1420,-104 1420,-60 751.16,-29.5 547.89,-21.24\"/>\n",
       "<polygon fill=\"black\" stroke=\"black\" points=\"547.85,-17.74 537.72,-20.83 547.57,-24.73 547.85,-17.74\"/>\n",
       "<text text-anchor=\"middle\" x=\"1429\" y=\"-188.3\" font-family=\"Times,serif\" font-size=\"14.00\">1.0</text>\n",
       "</g>\n",
       "<!-- 11&#45;&gt;12 -->\n",
       "<g id=\"edge47\" class=\"edge\">\n",
       "<title>11&#45;&gt;12</title>\n",
       "<path fill=\"none\" stroke=\"black\" d=\"M1266.99,-355.3C1207.31,-348.84 1128.52,-339.78 1059,-330 984.6,-319.54 900.27,-305.38 839.66,-294.8\"/>\n",
       "<polygon fill=\"black\" stroke=\"black\" points=\"840.22,-291.35 829.77,-293.07 839.02,-298.24 840.22,-291.35\"/>\n",
       "<text text-anchor=\"middle\" x=\"1127\" y=\"-318.8\" font-family=\"Times,serif\" font-size=\"14.00\">1.395672290261705e&#45;05</text>\n",
       "</g>\n",
       "<!-- 11&#45;&gt;13 -->\n",
       "<g id=\"edge48\" class=\"edge\">\n",
       "<title>11&#45;&gt;13</title>\n",
       "<path fill=\"none\" stroke=\"black\" d=\"M1313.58,-349.44C1297.63,-343.8 1279.86,-337.07 1264,-330 1251.1,-324.26 1249.37,-319.53 1236,-315 1188.66,-298.98 1173.77,-307.92 1125,-297 1016.7,-272.74 993.77,-250.1 885,-228 826.92,-216.2 761.39,-207.85 707.52,-202.28\"/>\n",
       "<polygon fill=\"black\" stroke=\"black\" points=\"707.56,-198.76 697.26,-201.23 706.85,-205.73 707.56,-198.76\"/>\n",
       "<text text-anchor=\"middle\" x=\"1193\" y=\"-275.3\" font-family=\"Times,serif\" font-size=\"14.00\">9.442414880028474e&#45;44</text>\n",
       "</g>\n",
       "<!-- 11&#45;&gt;14 -->\n",
       "<g id=\"edge49\" class=\"edge\">\n",
       "<title>11&#45;&gt;14</title>\n",
       "<path fill=\"none\" stroke=\"black\" d=\"M1346.12,-348.07C1327.12,-325.58 1294.5,-283.93 1276,-243 1256.78,-200.47 1286.49,-171.32 1251,-141 1228.93,-122.15 1072.21,-113.2 957.13,-109.13\"/>\n",
       "<polygon fill=\"black\" stroke=\"black\" points=\"956.94,-105.63 946.83,-108.78 956.7,-112.62 956.94,-105.63\"/>\n",
       "<text text-anchor=\"middle\" x=\"1341\" y=\"-231.8\" font-family=\"Times,serif\" font-size=\"14.00\">3.94319843659418e&#45;21</text>\n",
       "</g>\n",
       "<!-- 12&#45;&gt;15 -->\n",
       "<g id=\"edge53\" class=\"edge\">\n",
       "<title>12&#45;&gt;15</title>\n",
       "<path fill=\"none\" stroke=\"black\" d=\"M673.84,-266.41C601.13,-254.82 502.54,-235.13 472,-210 446.31,-188.86 436.92,-173.7 443,-141 449.42,-106.48 465.24,-69.13 476.76,-44.98\"/>\n",
       "<polygon fill=\"black\" stroke=\"black\" points=\"480,-46.31 481.24,-35.79 473.71,-43.24 480,-46.31\"/>\n",
       "<text text-anchor=\"middle\" x=\"502.5\" y=\"-144.8\" font-family=\"Times,serif\" font-size=\"14.00\">0.9999999999999999</text>\n",
       "</g>\n",
       "<!-- 12&#45;&gt;13 -->\n",
       "<g id=\"edge51\" class=\"edge\">\n",
       "<title>12&#45;&gt;13</title>\n",
       "<path fill=\"none\" stroke=\"black\" d=\"M753.52,-260.83C750.44,-249.92 744.85,-236.33 735,-228 723.96,-218.66 710.76,-211.76 696.97,-206.67\"/>\n",
       "<polygon fill=\"black\" stroke=\"black\" points=\"697.93,-203.31 687.34,-203.43 695.7,-209.94 697.93,-203.31\"/>\n",
       "<text text-anchor=\"middle\" x=\"813\" y=\"-231.8\" font-family=\"Times,serif\" font-size=\"14.00\">1.909226854462414e&#45;13</text>\n",
       "</g>\n",
       "<!-- 12&#45;&gt;14 -->\n",
       "<g id=\"edge52\" class=\"edge\">\n",
       "<title>12&#45;&gt;14</title>\n",
       "<path fill=\"none\" stroke=\"black\" d=\"M848.37,-267.79C862.39,-262.38 875.38,-254.47 885,-243 914.22,-208.16 915.65,-180.43 893,-141 890.18,-136.1 886.39,-131.82 882.07,-128.1\"/>\n",
       "<polygon fill=\"black\" stroke=\"black\" points=\"883.93,-125.12 873.81,-121.99 879.77,-130.75 883.93,-125.12\"/>\n",
       "<text text-anchor=\"middle\" x=\"974.5\" y=\"-188.3\" font-family=\"Times,serif\" font-size=\"14.00\">0.015007508773250548</text>\n",
       "</g>\n",
       "<!-- 13&#45;&gt;15 -->\n",
       "<g id=\"edge56\" class=\"edge\">\n",
       "<title>13&#45;&gt;15</title>\n",
       "<path fill=\"none\" stroke=\"black\" d=\"M586.35,-173.88C567.47,-143.54 528.06,-80.18 505.94,-44.62\"/>\n",
       "<polygon fill=\"black\" stroke=\"black\" points=\"508.7,-42.44 500.45,-35.8 502.76,-46.14 508.7,-42.44\"/>\n",
       "<text text-anchor=\"middle\" x=\"563\" y=\"-101.3\" font-family=\"Times,serif\" font-size=\"14.00\">1.0</text>\n",
       "</g>\n",
       "<!-- 13&#45;&gt;12 -->\n",
       "<g id=\"edge54\" class=\"edge\">\n",
       "<title>13&#45;&gt;12</title>\n",
       "<path fill=\"none\" stroke=\"black\" d=\"M587.73,-210C583.35,-220.56 580.54,-233.83 588,-243 596.97,-254.02 622.48,-261.67 651.05,-266.95\"/>\n",
       "<polygon fill=\"black\" stroke=\"black\" points=\"650.81,-270.46 661.26,-268.72 652,-263.56 650.81,-270.46\"/>\n",
       "<text text-anchor=\"middle\" x=\"659.5\" y=\"-231.8\" font-family=\"Times,serif\" font-size=\"14.00\">1.9092268544624003e&#45;13</text>\n",
       "</g>\n",
       "<!-- 13&#45;&gt;14 -->\n",
       "<g id=\"edge55\" class=\"edge\">\n",
       "<title>13&#45;&gt;14</title>\n",
       "<path fill=\"none\" stroke=\"black\" d=\"M669.02,-177.83C691.33,-172.49 715.64,-165.32 737,-156 748.19,-151.12 749.36,-146.98 760,-141 768.82,-136.04 778.45,-131.1 787.74,-126.56\"/>\n",
       "<polygon fill=\"black\" stroke=\"black\" points=\"789.38,-129.66 796.88,-122.17 786.35,-123.35 789.38,-129.66\"/>\n",
       "<text text-anchor=\"middle\" x=\"826.5\" y=\"-144.8\" font-family=\"Times,serif\" font-size=\"14.00\">0.015007508773250388</text>\n",
       "</g>\n",
       "<!-- 14&#45;&gt;15 -->\n",
       "<g id=\"edge59\" class=\"edge\">\n",
       "<title>14&#45;&gt;15</title>\n",
       "<path fill=\"none\" stroke=\"black\" d=\"M774.04,-89.39C707.63,-72.93 600.92,-46.49 538.94,-31.13\"/>\n",
       "<polygon fill=\"black\" stroke=\"black\" points=\"539.56,-27.68 529.02,-28.67 537.88,-34.47 539.56,-27.68\"/>\n",
       "<text text-anchor=\"middle\" x=\"741.5\" y=\"-57.8\" font-family=\"Times,serif\" font-size=\"14.00\">0.9999999999999999</text>\n",
       "</g>\n",
       "<!-- 14&#45;&gt;12 -->\n",
       "<g id=\"edge57\" class=\"edge\">\n",
       "<title>14&#45;&gt;12</title>\n",
       "<path fill=\"none\" stroke=\"black\" d=\"M917.96,-117.33C993.3,-130.97 1085.58,-158.73 1045,-210 1022.09,-238.95 934.11,-256.83 861.36,-266.94\"/>\n",
       "<polygon fill=\"black\" stroke=\"black\" points=\"860.64,-263.51 851.2,-268.32 861.58,-270.44 860.64,-263.51\"/>\n",
       "<text text-anchor=\"middle\" x=\"1120.5\" y=\"-188.3\" font-family=\"Times,serif\" font-size=\"14.00\">0.029095904009940707</text>\n",
       "</g>\n",
       "<!-- 14&#45;&gt;13 -->\n",
       "<g id=\"edge58\" class=\"edge\">\n",
       "<title>14&#45;&gt;13</title>\n",
       "<path fill=\"none\" stroke=\"black\" d=\"M720.57,-109.72C669.45,-113.96 616.67,-122.78 600,-141 594.47,-147.05 592.6,-155.41 592.45,-163.58\"/>\n",
       "<polygon fill=\"black\" stroke=\"black\" points=\"588.96,-163.83 593.04,-173.62 595.95,-163.43 588.96,-163.83\"/>\n",
       "<text text-anchor=\"middle\" x=\"666.5\" y=\"-144.8\" font-family=\"Times,serif\" font-size=\"14.00\">0.029095904009940707</text>\n",
       "</g>\n",
       "</g>\n",
       "</svg>\n"
      ],
      "text/plain": [
       "<graphviz.graphs.Digraph at 0x1665b28c0>"
      ]
     },
     "execution_count": 16,
     "metadata": {},
     "output_type": "execute_result"
    }
   ],
   "source": [
    "plot_graph(gam)"
   ]
  },
  {
   "cell_type": "markdown",
   "id": "567bcaf7-1205-4669-afdf-484e9d78fe08",
   "metadata": {},
   "source": [
    "## Standard coalescent"
   ]
  },
  {
   "cell_type": "markdown",
   "id": "a334681e-1f9f-48da-b964-f1346d2100f8",
   "metadata": {},
   "source": [
    "If you already have the subintensity matrix and initial probability vector:"
   ]
  },
  {
   "cell_type": "code",
   "execution_count": 86,
   "id": "7a7b48b2",
   "metadata": {},
   "outputs": [
    {
     "name": "stdout",
     "output_type": "stream",
     "text": [
      "     [,1] [,2] [,3] [,4]\n",
      "[1,]   -6    6    0    0\n",
      "[2,]    0   -3    1    2\n",
      "[3,]    0    0   -1    0\n",
      "[4,]    0    0    0   -1\n"
     ]
    }
   ],
   "source": [
    "%%R -o sim -o ipv\n",
    "sim = matrix(c(-6, 6, 0, 0, \n",
    "               0, -3, 1, 2,\n",
    "               0, 0, -1, 0,\n",
    "               0, 0, 0, -1), nrow=4, ncol=4, byrow = TRUE)\n",
    "ipv = c(1, 0, 0, 0)\n",
    "sim"
   ]
  },
  {
   "cell_type": "code",
   "execution_count": 4,
   "id": "c30d455a",
   "metadata": {},
   "outputs": [],
   "source": [
    "%%R \n",
    "graph <- matrix_as_graph(ipv, sim)"
   ]
  },
  {
   "cell_type": "markdown",
   "id": "087fbed3-4976-4dc3-aa68-14182cb07504",
   "metadata": {},
   "source": [
    "Note that the state vectors are ofcause undefined (all zero) when constructing the graph this way:"
   ]
  },
  {
   "cell_type": "code",
   "execution_count": 5,
   "id": "0814e96e",
   "metadata": {},
   "outputs": [
    {
     "name": "stdout",
     "output_type": "stream",
     "text": [
      "$states\n",
      "     [,1]\n",
      "[1,]    0\n",
      "[2,]    0\n",
      "[3,]    0\n",
      "[4,]    0\n",
      "\n",
      "$SIM\n",
      "     [,1] [,2] [,3] [,4]\n",
      "[1,]   -6    6    0    0\n",
      "[2,]    0   -3    1    2\n",
      "[3,]    0    0   -1    0\n",
      "[4,]    0    0    0   -1\n",
      "\n",
      "$IPV\n",
      "[1] 1 0 0 0\n",
      "\n"
     ]
    }
   ],
   "source": [
    "%%R\n",
    "graph_as_matrix(graph)"
   ]
  },
  {
   "cell_type": "code",
   "execution_count": 6,
   "id": "141ca6ef",
   "metadata": {},
   "outputs": [
    {
     "name": "stdout",
     "output_type": "stream",
     "text": [
      "[1] 0.5362689\n"
     ]
    }
   ],
   "source": [
    "%%R\n",
    "dph(0.9, graph)"
   ]
  },
  {
   "cell_type": "markdown",
   "id": "8c810757-e200-4693-83ba-e9d3164c5af4",
   "metadata": {},
   "source": [
    "If you want to generate the state space:"
   ]
  },
  {
   "cell_type": "code",
   "execution_count": 7,
   "id": "67315ff9",
   "metadata": {},
   "outputs": [
    {
     "name": "stdout",
     "output_type": "stream",
     "text": [
      "[1] 6\n"
     ]
    }
   ],
   "source": [
    "%%R -o gam -o n -o graph\n",
    "n <- 4\n",
    "  \n",
    "state_vector_length <- n\n",
    "graph <- create_graph(state_vector_length)\n",
    "starting_vertex <- vertex_at(graph, 1)\n",
    "initial_state <- rep(0, n)\n",
    "initial_state[1] <- n\n",
    "\n",
    "add_edge(\n",
    "  starting_vertex,\n",
    "  create_vertex(graph, initial_state),\n",
    "  1\n",
    ")\n",
    "index <- 2\n",
    "\n",
    "while (index <= vertices_length(graph)) {\n",
    "  vertex <- vertex_at(graph, index)\n",
    "  \n",
    "  # loop over all classes of lineages\n",
    "  for (i in 1:n) {\n",
    "    for (j in i:n) {\n",
    "      state <- vertex$state\n",
    "      \n",
    "      # if same class, there need to be at least two to coalesce\n",
    "      if (i == j) {\n",
    "        if (state[i] < 2) {\n",
    "          next;\n",
    "        }\n",
    "        # coal rate\n",
    "        rate <- state[i] * (state[i] - 1) / 2\n",
    "      } else {\n",
    "        # else at least one in each class to coalesce\n",
    "        if (state[i] < 1 || state[j] < 1) {\n",
    "          next;\n",
    "        }\n",
    "        # number of combinations\n",
    "        rate <- state[i] * state[j]\n",
    "      }\n",
    "      \n",
    "      # copy state\n",
    "      child_state <- state\n",
    "      # update child state\n",
    "      child_state[i] <- child_state[i] - 1\n",
    "      child_state[j] <- child_state[j] - 1\n",
    "      child_state[i+j] <- child_state[i+j] + 1\n",
    "      \n",
    "      add_edge(\n",
    "          vertex,\n",
    "          find_or_create_vertex(graph, child_state),\n",
    "          rate, c(rate)\n",
    "        )\n",
    "    }\n",
    "  }\n",
    "      \n",
    "  index <- index + 1\n",
    "}\n",
    "\n",
    "# states <- t(sapply(1:vertices_length(graph), function(index) vertex_at(graph, index)$state ))\n",
    "# ipv <- graph_as_matrix(graph)$IPV\n",
    "# sim <- graph_as_matrix(graph)$SIM\n",
    "\n",
    "gam <- graph_as_matrix(graph)\n",
    "vertices_length(graph)"
   ]
  },
  {
   "cell_type": "code",
   "execution_count": 8,
   "id": "2a36bd85",
   "metadata": {},
   "outputs": [
    {
     "data": {
      "image/svg+xml": [
       "<?xml version=\"1.0\" encoding=\"UTF-8\" standalone=\"no\"?>\n",
       "<!DOCTYPE svg PUBLIC \"-//W3C//DTD SVG 1.1//EN\"\n",
       " \"http://www.w3.org/Graphics/SVG/1.1/DTD/svg11.dtd\">\n",
       "<!-- Generated by graphviz version 3.0.0 (0)\n",
       " -->\n",
       "<!-- Pages: 1 -->\n",
       "<svg width=\"232pt\" height=\"392pt\"\n",
       " viewBox=\"0.00 0.00 231.69 392.00\" xmlns=\"http://www.w3.org/2000/svg\" xmlns:xlink=\"http://www.w3.org/1999/xlink\">\n",
       "<g id=\"graph0\" class=\"graph\" transform=\"scale(1 1) rotate(0) translate(4 388)\">\n",
       "<polygon fill=\"white\" stroke=\"transparent\" points=\"-4,4 -4,-388 227.69,-388 227.69,4 -4,4\"/>\n",
       "<!-- S -->\n",
       "<g id=\"node1\" class=\"node\">\n",
       "<title>S</title>\n",
       "<ellipse fill=\"none\" stroke=\"black\" cx=\"111.35\" cy=\"-366\" rx=\"27\" ry=\"18\"/>\n",
       "<text text-anchor=\"middle\" x=\"111.35\" y=\"-362.3\" font-family=\"Times,serif\" font-size=\"14.00\">S</text>\n",
       "</g>\n",
       "<!-- 0 -->\n",
       "<g id=\"node3\" class=\"node\">\n",
       "<title>0</title>\n",
       "<ellipse fill=\"none\" stroke=\"black\" cx=\"111.35\" cy=\"-279\" rx=\"51.19\" ry=\"18\"/>\n",
       "<text text-anchor=\"middle\" x=\"111.35\" y=\"-275.3\" font-family=\"Times,serif\" font-size=\"14.00\">[4. 0. 0. 0.]</text>\n",
       "</g>\n",
       "<!-- S&#45;&gt;0 -->\n",
       "<g id=\"edge1\" class=\"edge\">\n",
       "<title>S&#45;&gt;0</title>\n",
       "<path fill=\"none\" stroke=\"black\" d=\"M111.35,-347.8C111.35,-336.16 111.35,-320.55 111.35,-307.24\"/>\n",
       "<polygon fill=\"black\" stroke=\"black\" points=\"114.85,-307.18 111.35,-297.18 107.85,-307.18 114.85,-307.18\"/>\n",
       "<text text-anchor=\"middle\" x=\"120.35\" y=\"-318.8\" font-family=\"Times,serif\" font-size=\"14.00\">1.0</text>\n",
       "</g>\n",
       "<!-- 4 -->\n",
       "<g id=\"node2\" class=\"node\">\n",
       "<title>4</title>\n",
       "<ellipse fill=\"none\" stroke=\"black\" cx=\"111.35\" cy=\"-18\" rx=\"48.19\" ry=\"18\"/>\n",
       "<text text-anchor=\"middle\" x=\"111.35\" y=\"-14.3\" font-family=\"Times,serif\" font-size=\"14.00\">Absorbing</text>\n",
       "</g>\n",
       "<!-- 1 -->\n",
       "<g id=\"node4\" class=\"node\">\n",
       "<title>1</title>\n",
       "<ellipse fill=\"none\" stroke=\"black\" cx=\"111.35\" cy=\"-192\" rx=\"51.19\" ry=\"18\"/>\n",
       "<text text-anchor=\"middle\" x=\"111.35\" y=\"-188.3\" font-family=\"Times,serif\" font-size=\"14.00\">[2. 1. 0. 0.]</text>\n",
       "</g>\n",
       "<!-- 0&#45;&gt;1 -->\n",
       "<g id=\"edge2\" class=\"edge\">\n",
       "<title>0&#45;&gt;1</title>\n",
       "<path fill=\"none\" stroke=\"black\" d=\"M111.35,-260.8C111.35,-249.16 111.35,-233.55 111.35,-220.24\"/>\n",
       "<polygon fill=\"black\" stroke=\"black\" points=\"114.85,-220.18 111.35,-210.18 107.85,-220.18 114.85,-220.18\"/>\n",
       "<text text-anchor=\"middle\" x=\"120.35\" y=\"-231.8\" font-family=\"Times,serif\" font-size=\"14.00\">6.0</text>\n",
       "</g>\n",
       "<!-- 2 -->\n",
       "<g id=\"node5\" class=\"node\">\n",
       "<title>2</title>\n",
       "<ellipse fill=\"none\" stroke=\"black\" cx=\"51.35\" cy=\"-105\" rx=\"51.19\" ry=\"18\"/>\n",
       "<text text-anchor=\"middle\" x=\"51.35\" y=\"-101.3\" font-family=\"Times,serif\" font-size=\"14.00\">[0. 2. 0. 0.]</text>\n",
       "</g>\n",
       "<!-- 1&#45;&gt;2 -->\n",
       "<g id=\"edge3\" class=\"edge\">\n",
       "<title>1&#45;&gt;2</title>\n",
       "<path fill=\"none\" stroke=\"black\" d=\"M99.49,-174.21C90.78,-161.87 78.8,-144.89 68.97,-130.97\"/>\n",
       "<polygon fill=\"black\" stroke=\"black\" points=\"71.8,-128.91 63.17,-122.76 66.08,-132.95 71.8,-128.91\"/>\n",
       "<text text-anchor=\"middle\" x=\"94.35\" y=\"-144.8\" font-family=\"Times,serif\" font-size=\"14.00\">1.0</text>\n",
       "</g>\n",
       "<!-- 3 -->\n",
       "<g id=\"node6\" class=\"node\">\n",
       "<title>3</title>\n",
       "<ellipse fill=\"none\" stroke=\"black\" cx=\"172.35\" cy=\"-105\" rx=\"51.19\" ry=\"18\"/>\n",
       "<text text-anchor=\"middle\" x=\"172.35\" y=\"-101.3\" font-family=\"Times,serif\" font-size=\"14.00\">[1. 0. 1. 0.]</text>\n",
       "</g>\n",
       "<!-- 1&#45;&gt;3 -->\n",
       "<g id=\"edge4\" class=\"edge\">\n",
       "<title>1&#45;&gt;3</title>\n",
       "<path fill=\"none\" stroke=\"black\" d=\"M123.4,-174.21C132.25,-161.87 144.43,-144.89 154.43,-130.97\"/>\n",
       "<polygon fill=\"black\" stroke=\"black\" points=\"157.33,-132.92 160.32,-122.76 151.64,-128.84 157.33,-132.92\"/>\n",
       "<text text-anchor=\"middle\" x=\"155.35\" y=\"-144.8\" font-family=\"Times,serif\" font-size=\"14.00\">2.0</text>\n",
       "</g>\n",
       "<!-- 2&#45;&gt;4 -->\n",
       "<g id=\"edge5\" class=\"edge\">\n",
       "<title>2&#45;&gt;4</title>\n",
       "<path fill=\"none\" stroke=\"black\" d=\"M63.2,-87.21C71.97,-74.79 84.05,-57.67 93.91,-43.7\"/>\n",
       "<polygon fill=\"black\" stroke=\"black\" points=\"96.81,-45.66 99.72,-35.47 91.09,-41.62 96.81,-45.66\"/>\n",
       "<text text-anchor=\"middle\" x=\"94.35\" y=\"-57.8\" font-family=\"Times,serif\" font-size=\"14.00\">1.0</text>\n",
       "</g>\n",
       "<!-- 3&#45;&gt;4 -->\n",
       "<g id=\"edge6\" class=\"edge\">\n",
       "<title>3&#45;&gt;4</title>\n",
       "<path fill=\"none\" stroke=\"black\" d=\"M160.29,-87.21C151.38,-74.79 139.1,-57.67 129.07,-43.7\"/>\n",
       "<polygon fill=\"black\" stroke=\"black\" points=\"131.84,-41.55 123.16,-35.47 126.15,-45.63 131.84,-41.55\"/>\n",
       "<text text-anchor=\"middle\" x=\"155.35\" y=\"-57.8\" font-family=\"Times,serif\" font-size=\"14.00\">1.0</text>\n",
       "</g>\n",
       "</g>\n",
       "</svg>\n"
      ],
      "text/plain": [
       "<graphviz.graphs.Digraph at 0x15c6b0fa0>"
      ]
     },
     "execution_count": 8,
     "metadata": {},
     "output_type": "execute_result"
    }
   ],
   "source": [
    "plot_graph(gam)"
   ]
  },
  {
   "cell_type": "markdown",
   "id": "27b6ec64-1c55-4c87-9484-2be04ddbbe21",
   "metadata": {},
   "source": [
    "As matrices:"
   ]
  },
  {
   "cell_type": "code",
   "execution_count": 9,
   "id": "8fa9bf2f",
   "metadata": {},
   "outputs": [
    {
     "name": "stdout",
     "output_type": "stream",
     "text": [
      "$states\n",
      "     [,1] [,2] [,3] [,4]\n",
      "[1,]    4    0    0    0\n",
      "[2,]    2    1    0    0\n",
      "[3,]    0    2    0    0\n",
      "[4,]    1    0    1    0\n",
      "\n",
      "$SIM\n",
      "     [,1] [,2] [,3] [,4]\n",
      "[1,]   -6    6    0    0\n",
      "[2,]    0   -3    1    2\n",
      "[3,]    0    0   -1    0\n",
      "[4,]    0    0    0   -1\n",
      "\n",
      "$IPV\n",
      "[1] 1 0 0 0\n",
      "\n"
     ]
    }
   ],
   "source": [
    "%%R -o states -o sim\n",
    "matrices <- graph_as_matrix(graph)\n",
    "states <- matrices$states\n",
    "sim <- matrices$SIM\n",
    "matrices"
   ]
  },
  {
   "cell_type": "markdown",
   "id": "9541f0db-3498-461a-80ba-1cc12c8369e1",
   "metadata": {},
   "source": [
    "Invert subintensity matrix to get Green matrix:"
   ]
  },
  {
   "cell_type": "code",
   "execution_count": 10,
   "id": "7789df73",
   "metadata": {},
   "outputs": [
    {
     "name": "stdout",
     "output_type": "stream",
     "text": [
      "          [,1]      [,2]      [,3]      [,4]\n",
      "[1,] 0.1666667 0.3333333 0.3333333 0.6666667\n",
      "[2,] 0.0000000 0.3333333 0.3333333 0.6666667\n",
      "[3,] 0.0000000 0.0000000 1.0000000 0.0000000\n",
      "[4,] 0.0000000 0.0000000 0.0000000 1.0000000\n"
     ]
    }
   ],
   "source": [
    "%%R\n",
    "U <- -solve(matrices$SIM)\n",
    "U"
   ]
  },
  {
   "cell_type": "markdown",
   "id": "cf06c988-4fff-4fb9-989a-4a788e1a26bd",
   "metadata": {},
   "source": [
    "Compute expectation from matrices:"
   ]
  },
  {
   "cell_type": "code",
   "execution_count": 11,
   "id": "ba176207",
   "metadata": {},
   "outputs": [
    {
     "name": "stdout",
     "output_type": "stream",
     "text": [
      "     [,1]\n",
      "[1,]  1.5\n"
     ]
    }
   ],
   "source": [
    "%%R\n",
    "matrices$IPV %*% U %*% rep(1, length(matrices$IPV))"
   ]
  },
  {
   "cell_type": "markdown",
   "id": "54e43d91-660c-456a-bfd7-1cb6461a5c79",
   "metadata": {},
   "source": [
    "Compute moments:"
   ]
  },
  {
   "cell_type": "code",
   "execution_count": 47,
   "id": "4081ad04",
   "metadata": {},
   "outputs": [
    {
     "name": "stdout",
     "output_type": "stream",
     "text": [
      "[1] 6\n"
     ]
    },
    {
     "name": "stderr",
     "output_type": "stream",
     "text": [
      "INFO: building reward compute graph...\n"
     ]
    }
   ],
   "source": [
    "%%R\n",
    "expectation(graph)"
   ]
  },
  {
   "cell_type": "code",
   "execution_count": 13,
   "id": "52d44d84",
   "metadata": {},
   "outputs": [
    {
     "name": "stdout",
     "output_type": "stream",
     "text": [
      "[1] 1.500000 1.500000 1.333333 1.000000 1.000000 0.000000\n"
     ]
    }
   ],
   "source": [
    "%%R\n",
    "expected_waiting_time(graph)"
   ]
  },
  {
   "cell_type": "code",
   "execution_count": 14,
   "id": "feac38a7",
   "metadata": {},
   "outputs": [
    {
     "name": "stdout",
     "output_type": "stream",
     "text": [
      "[1] 1.138889\n"
     ]
    }
   ],
   "source": [
    "%%R\n",
    "variance(graph)"
   ]
  },
  {
   "cell_type": "code",
   "execution_count": 15,
   "id": "bcf3655a",
   "metadata": {},
   "outputs": [
    {
     "name": "stdout",
     "output_type": "stream",
     "text": [
      "[1] 1.138889 1.138889 1.111111 1.000000 1.000000 0.000000\n"
     ]
    }
   ],
   "source": [
    "%%R\n",
    "2 * expected_waiting_time(graph, expected_waiting_time(graph)) - expected_waiting_time(graph) * expected_waiting_time(graph)"
   ]
  },
  {
   "cell_type": "code",
   "execution_count": 16,
   "id": "6a431795",
   "metadata": {},
   "outputs": [
    {
     "name": "stdout",
     "output_type": "stream",
     "text": [
      "[1]  1.500000  3.388889 10.583333 42.907407\n"
     ]
    }
   ],
   "source": [
    "%%R\n",
    "moments(graph, 4)"
   ]
  },
  {
   "cell_type": "markdown",
   "id": "9f77497d-af60-44ab-ae97-1feec3ad41a2",
   "metadata": {},
   "source": [
    "Marginal expectations using rewards:"
   ]
  },
  {
   "cell_type": "code",
   "execution_count": 17,
   "id": "8018e9af",
   "metadata": {},
   "outputs": [
    {
     "name": "stdout",
     "output_type": "stream",
     "text": [
      "     [,1] [,2] [,3] [,4] [,5] [,6]\n",
      "[1,]    0    4    2    0    1    0\n",
      "[2,]    0    0    1    2    0    0\n",
      "[3,]    0    0    0    0    1    0\n",
      "[4,]    0    0    0    0    0    1\n"
     ]
    }
   ],
   "source": [
    "%%R\n",
    "state_matrix <- sapply(1:vertices_length(graph), function(index) vertex_at(graph, index)$state )\n",
    "state_matrix"
   ]
  },
  {
   "cell_type": "markdown",
   "id": "aa942d51-32fc-44c4-b8c5-90f5ef0269c8",
   "metadata": {},
   "source": [
    "Rows happens to be our reward vectors. E.g. singleton rewards:"
   ]
  },
  {
   "cell_type": "code",
   "execution_count": 18,
   "id": "303e4276",
   "metadata": {},
   "outputs": [
    {
     "name": "stdout",
     "output_type": "stream",
     "text": [
      "[1] 0 4 2 0 1 0\n"
     ]
    }
   ],
   "source": [
    "%%R\n",
    "rewards <- sapply(1:vertices_length(graph), function(index) vertex_at(graph, index)$state )\n",
    "singletons <- rewards[1,]\n",
    "doubletons <- rewards[2,]\n",
    "tripletons <- rewards[3,]\n",
    "singletons"
   ]
  },
  {
   "cell_type": "markdown",
   "id": "9828ace7-29c6-427a-917b-09f86fbcdc97",
   "metadata": {},
   "source": [
    "Expected tripleton branch length:"
   ]
  },
  {
   "cell_type": "code",
   "execution_count": 19,
   "id": "93c7bc1f",
   "metadata": {},
   "outputs": [
    {
     "name": "stdout",
     "output_type": "stream",
     "text": [
      "[1] 0.6666667\n"
     ]
    }
   ],
   "source": [
    "%%R\n",
    "expectation(graph, tripletons)"
   ]
  },
  {
   "cell_type": "markdown",
   "id": "0502ab22-4fbb-44f3-ad54-95d0682c76db",
   "metadata": {},
   "source": [
    "SFS:"
   ]
  },
  {
   "cell_type": "code",
   "execution_count": 20,
   "id": "aab5692f",
   "metadata": {},
   "outputs": [
    {
     "name": "stdout",
     "output_type": "stream",
     "text": [
      "[1] 2.0000000 1.0000000 0.6666667\n"
     ]
    }
   ],
   "source": [
    "%%R -o sfs\n",
    "sfs <- sapply(1:(dim(rewards)[1]-1), function(i) expectation(graph, rewards[i,]))\n",
    "sfs"
   ]
  },
  {
   "cell_type": "code",
   "execution_count": 21,
   "id": "1074eb69",
   "metadata": {},
   "outputs": [
    {
     "data": {
      "image/png": "[encoded data removed]",
      "text/plain": [
       "<Figure size 432x288 with 1 Axes>"
      ]
     },
     "metadata": {
      "image/png": {
       "height": 251,
       "width": 380
      }
     },
     "output_type": "display_data"
    }
   ],
   "source": [
    "sns.barplot(x=list(range(1, len(sfs)+1)), y=sfs)\n",
    "sns.despine()"
   ]
  },
  {
   "cell_type": "code",
   "execution_count": null,
   "id": "6804856c-10b3-4191-acbd-2af5cef4658b",
   "metadata": {},
   "outputs": [],
   "source": []
  },
  {
   "cell_type": "markdown",
   "id": "34da7327",
   "metadata": {},
   "source": [
    "Covariance:"
   ]
  },
  {
   "cell_type": "code",
   "execution_count": 22,
   "id": "33738e0e",
   "metadata": {},
   "outputs": [
    {
     "name": "stdout",
     "output_type": "stream",
     "text": [
      "[1] -0.2222222\n"
     ]
    }
   ],
   "source": [
    "%%R\n",
    "covariance(graph, singletons, doubletons)"
   ]
  },
  {
   "cell_type": "code",
   "execution_count": 23,
   "id": "9ea697d8",
   "metadata": {
    "tags": []
   },
   "outputs": [
    {
     "name": "stdout",
     "output_type": "stream",
     "text": [
      "[1] 0.8888889\n"
     ]
    }
   ],
   "source": [
    "%%R\n",
    "covariance(graph, singletons, tripletons)"
   ]
  },
  {
   "cell_type": "markdown",
   "id": "8c16bc4f-fbd7-4493-97d4-262fbd0891b6",
   "metadata": {},
   "source": [
    "Covariane between \"ton\" branch length:"
   ]
  },
  {
   "cell_type": "code",
   "execution_count": 24,
   "id": "16a84314-669c-43d8-861d-98ce8844795a",
   "metadata": {},
   "outputs": [],
   "source": [
    "%%R -o cov_mat\n",
    "cov_mat <- matrix(nrow=n-1,ncol=n-1)\n",
    "\n",
    "for (i in 1:(n-1)) {\n",
    "    for (j in 1:(n-1)) {\n",
    "        cov_mat[i, j] <- covariance(graph, rewards[i,], rewards[j,])\n",
    "    }\n",
    "}"
   ]
  },
  {
   "cell_type": "code",
   "execution_count": 25,
   "id": "0abbd20d-e6e7-42ea-a110-394c144fc4a5",
   "metadata": {},
   "outputs": [
    {
     "data": {
      "image/png": "[encoded data removed]",
      "text/plain": [
       "<Figure size 504x360 with 2 Axes>"
      ]
     },
     "metadata": {
      "image/png": {
       "height": 305,
       "width": 404
      }
     },
     "output_type": "display_data"
    }
   ],
   "source": [
    "plt.subplots(1, 1, figsize=(7, 5))\n",
    "ticks = list(range(1,int(n)))\n",
    "ax = sns.heatmap(cov_mat, cmap=\"PiYG\", \n",
    "                annot=True,\n",
    "                center=0,\n",
    "                yticklabels=ticks,\n",
    "                xticklabels=ticks\n",
    "                )\n",
    "ax.invert_yaxis()"
   ]
  },
  {
   "cell_type": "markdown",
   "id": "96a62864",
   "metadata": {},
   "source": [
    "Distributions of each \"ton\" branch length:"
   ]
  },
  {
   "cell_type": "code",
   "execution_count": 26,
   "id": "3e385fc3",
   "metadata": {},
   "outputs": [],
   "source": [
    "%%R -o result\n",
    "\n",
    "result = data.frame()\n",
    "for (i in 1:(dim(rewards)[1]-1)) {\n",
    "    x <- seq(from = 0, to = 4, by = 0.01)\n",
    "    pdf <- dph(x, reward_transform(graph, rewards[i, ]))\n",
    "    df <- data.frame(prob = pdf, t=x, ton=i)\n",
    "    result <- rbind(result, df)\n",
    "}\n",
    "#result %>% ggplot(aes(y=prob, x=t, color=ton, group=ton)) + geom_line(size=1)"
   ]
  },
  {
   "cell_type": "code",
   "execution_count": 27,
   "id": "54057173",
   "metadata": {
    "tags": []
   },
   "outputs": [
    {
     "data": {
      "image/png": "[encoded data removed]",
      "text/plain": [
       "<Figure size 432x288 with 1 Axes>"
      ]
     },
     "metadata": {
      "image/png": {
       "height": 266,
       "width": 395
      }
     },
     "output_type": "display_data"
    }
   ],
   "source": [
    "sns.lineplot(data=result, y='prob', x='t', hue='ton', palette='Set1')\n",
    "sns.despine()"
   ]
  },
  {
   "cell_type": "markdown",
   "id": "3c01ea98",
   "metadata": {},
   "source": [
    "Compute expectations from the distributions:"
   ]
  },
  {
   "cell_type": "code",
   "execution_count": 28,
   "id": "41b8900d",
   "metadata": {},
   "outputs": [
    {
     "name": "stdout",
     "output_type": "stream",
     "text": [
      "[1] 1.9993341 0.9993341 0.6660008\n"
     ]
    }
   ],
   "source": [
    "%%R -o sfs\n",
    "ctx <- distribution_context(graph,1000)\n",
    "prev_size <- 0\n",
    "while (distribution_context_state(ctx)$cdf < 0.999) { \n",
    "    distribution_context_step(ctx)\n",
    "}\n",
    "expected_visits <- distribution_context_accumulated_visiting_time(ctx)\n",
    "sfs <- sapply(1:(dim(rewards)[1]-1), function(i) sum(expected_visits * rewards[i,]))\n",
    "sfs"
   ]
  },
  {
   "cell_type": "code",
   "execution_count": 29,
   "id": "0c2508d2",
   "metadata": {
    "tags": []
   },
   "outputs": [
    {
     "data": {
      "image/png": "[encoded data removed]",
      "text/plain": [
       "<Figure size 432x288 with 1 Axes>"
      ]
     },
     "metadata": {
      "image/png": {
       "height": 251,
       "width": 380
      }
     },
     "output_type": "display_data"
    }
   ],
   "source": [
    "sns.barplot(x=list(range(1, len(sfs)+1)), y=sfs)\n",
    "sns.despine()"
   ]
  },
  {
   "cell_type": "markdown",
   "id": "365467a2",
   "metadata": {},
   "source": [
    "Changing rates (edge weights) using parametrization:"
   ]
  },
  {
   "cell_type": "code",
   "execution_count": 30,
   "id": "0f280429",
   "metadata": {},
   "outputs": [],
   "source": [
    "%%R -o gam\n",
    "\n",
    "graph_update_weights_parameterized(graph, c(2))\n",
    "\n",
    "# states <- t(sapply(1:vertices_length(graph), function(index) vertex_at(graph, index)$state ))\n",
    "# ipv <- graph_as_matrix(graph)$IPV\n",
    "# sim <- graph_as_matrix(graph)$SIM\n",
    "gam <- graph_as_matrix(graph)"
   ]
  },
  {
   "cell_type": "markdown",
   "id": "82540f06",
   "metadata": {},
   "source": [
    "Change rates back to normal:"
   ]
  },
  {
   "cell_type": "code",
   "execution_count": 31,
   "id": "e29a2c07",
   "metadata": {
    "tags": []
   },
   "outputs": [
    {
     "data": {
      "image/svg+xml": [
       "<?xml version=\"1.0\" encoding=\"UTF-8\" standalone=\"no\"?>\n",
       "<!DOCTYPE svg PUBLIC \"-//W3C//DTD SVG 1.1//EN\"\n",
       " \"http://www.w3.org/Graphics/SVG/1.1/DTD/svg11.dtd\">\n",
       "<!-- Generated by graphviz version 3.0.0 (0)\n",
       " -->\n",
       "<!-- Pages: 1 -->\n",
       "<svg width=\"232pt\" height=\"392pt\"\n",
       " viewBox=\"0.00 0.00 231.69 392.00\" xmlns=\"http://www.w3.org/2000/svg\" xmlns:xlink=\"http://www.w3.org/1999/xlink\">\n",
       "<g id=\"graph0\" class=\"graph\" transform=\"scale(1 1) rotate(0) translate(4 388)\">\n",
       "<polygon fill=\"white\" stroke=\"transparent\" points=\"-4,4 -4,-388 227.69,-388 227.69,4 -4,4\"/>\n",
       "<!-- S -->\n",
       "<g id=\"node1\" class=\"node\">\n",
       "<title>S</title>\n",
       "<ellipse fill=\"none\" stroke=\"black\" cx=\"111.35\" cy=\"-366\" rx=\"27\" ry=\"18\"/>\n",
       "<text text-anchor=\"middle\" x=\"111.35\" y=\"-362.3\" font-family=\"Times,serif\" font-size=\"14.00\">S</text>\n",
       "</g>\n",
       "<!-- 0 -->\n",
       "<g id=\"node3\" class=\"node\">\n",
       "<title>0</title>\n",
       "<ellipse fill=\"none\" stroke=\"black\" cx=\"111.35\" cy=\"-279\" rx=\"51.19\" ry=\"18\"/>\n",
       "<text text-anchor=\"middle\" x=\"111.35\" y=\"-275.3\" font-family=\"Times,serif\" font-size=\"14.00\">[4. 0. 0. 0.]</text>\n",
       "</g>\n",
       "<!-- S&#45;&gt;0 -->\n",
       "<g id=\"edge1\" class=\"edge\">\n",
       "<title>S&#45;&gt;0</title>\n",
       "<path fill=\"none\" stroke=\"black\" d=\"M111.35,-347.8C111.35,-336.16 111.35,-320.55 111.35,-307.24\"/>\n",
       "<polygon fill=\"black\" stroke=\"black\" points=\"114.85,-307.18 111.35,-297.18 107.85,-307.18 114.85,-307.18\"/>\n",
       "<text text-anchor=\"middle\" x=\"120.35\" y=\"-318.8\" font-family=\"Times,serif\" font-size=\"14.00\">1.0</text>\n",
       "</g>\n",
       "<!-- 4 -->\n",
       "<g id=\"node2\" class=\"node\">\n",
       "<title>4</title>\n",
       "<ellipse fill=\"none\" stroke=\"black\" cx=\"111.35\" cy=\"-18\" rx=\"48.19\" ry=\"18\"/>\n",
       "<text text-anchor=\"middle\" x=\"111.35\" y=\"-14.3\" font-family=\"Times,serif\" font-size=\"14.00\">Absorbing</text>\n",
       "</g>\n",
       "<!-- 1 -->\n",
       "<g id=\"node4\" class=\"node\">\n",
       "<title>1</title>\n",
       "<ellipse fill=\"none\" stroke=\"black\" cx=\"111.35\" cy=\"-192\" rx=\"51.19\" ry=\"18\"/>\n",
       "<text text-anchor=\"middle\" x=\"111.35\" y=\"-188.3\" font-family=\"Times,serif\" font-size=\"14.00\">[2. 1. 0. 0.]</text>\n",
       "</g>\n",
       "<!-- 0&#45;&gt;1 -->\n",
       "<g id=\"edge2\" class=\"edge\">\n",
       "<title>0&#45;&gt;1</title>\n",
       "<path fill=\"none\" stroke=\"black\" d=\"M111.35,-260.8C111.35,-249.16 111.35,-233.55 111.35,-220.24\"/>\n",
       "<polygon fill=\"black\" stroke=\"black\" points=\"114.85,-220.18 111.35,-210.18 107.85,-220.18 114.85,-220.18\"/>\n",
       "<text text-anchor=\"middle\" x=\"123.85\" y=\"-231.8\" font-family=\"Times,serif\" font-size=\"14.00\">12.0</text>\n",
       "</g>\n",
       "<!-- 2 -->\n",
       "<g id=\"node5\" class=\"node\">\n",
       "<title>2</title>\n",
       "<ellipse fill=\"none\" stroke=\"black\" cx=\"51.35\" cy=\"-105\" rx=\"51.19\" ry=\"18\"/>\n",
       "<text text-anchor=\"middle\" x=\"51.35\" y=\"-101.3\" font-family=\"Times,serif\" font-size=\"14.00\">[0. 2. 0. 0.]</text>\n",
       "</g>\n",
       "<!-- 1&#45;&gt;2 -->\n",
       "<g id=\"edge3\" class=\"edge\">\n",
       "<title>1&#45;&gt;2</title>\n",
       "<path fill=\"none\" stroke=\"black\" d=\"M99.49,-174.21C90.78,-161.87 78.8,-144.89 68.97,-130.97\"/>\n",
       "<polygon fill=\"black\" stroke=\"black\" points=\"71.8,-128.91 63.17,-122.76 66.08,-132.95 71.8,-128.91\"/>\n",
       "<text text-anchor=\"middle\" x=\"94.35\" y=\"-144.8\" font-family=\"Times,serif\" font-size=\"14.00\">2.0</text>\n",
       "</g>\n",
       "<!-- 3 -->\n",
       "<g id=\"node6\" class=\"node\">\n",
       "<title>3</title>\n",
       "<ellipse fill=\"none\" stroke=\"black\" cx=\"172.35\" cy=\"-105\" rx=\"51.19\" ry=\"18\"/>\n",
       "<text text-anchor=\"middle\" x=\"172.35\" y=\"-101.3\" font-family=\"Times,serif\" font-size=\"14.00\">[1. 0. 1. 0.]</text>\n",
       "</g>\n",
       "<!-- 1&#45;&gt;3 -->\n",
       "<g id=\"edge4\" class=\"edge\">\n",
       "<title>1&#45;&gt;3</title>\n",
       "<path fill=\"none\" stroke=\"black\" d=\"M123.4,-174.21C132.25,-161.87 144.43,-144.89 154.43,-130.97\"/>\n",
       "<polygon fill=\"black\" stroke=\"black\" points=\"157.33,-132.92 160.32,-122.76 151.64,-128.84 157.33,-132.92\"/>\n",
       "<text text-anchor=\"middle\" x=\"155.35\" y=\"-144.8\" font-family=\"Times,serif\" font-size=\"14.00\">4.0</text>\n",
       "</g>\n",
       "<!-- 2&#45;&gt;4 -->\n",
       "<g id=\"edge5\" class=\"edge\">\n",
       "<title>2&#45;&gt;4</title>\n",
       "<path fill=\"none\" stroke=\"black\" d=\"M63.2,-87.21C71.97,-74.79 84.05,-57.67 93.91,-43.7\"/>\n",
       "<polygon fill=\"black\" stroke=\"black\" points=\"96.81,-45.66 99.72,-35.47 91.09,-41.62 96.81,-45.66\"/>\n",
       "<text text-anchor=\"middle\" x=\"94.35\" y=\"-57.8\" font-family=\"Times,serif\" font-size=\"14.00\">2.0</text>\n",
       "</g>\n",
       "<!-- 3&#45;&gt;4 -->\n",
       "<g id=\"edge6\" class=\"edge\">\n",
       "<title>3&#45;&gt;4</title>\n",
       "<path fill=\"none\" stroke=\"black\" d=\"M160.29,-87.21C151.38,-74.79 139.1,-57.67 129.07,-43.7\"/>\n",
       "<polygon fill=\"black\" stroke=\"black\" points=\"131.84,-41.55 123.16,-35.47 126.15,-45.63 131.84,-41.55\"/>\n",
       "<text text-anchor=\"middle\" x=\"155.35\" y=\"-57.8\" font-family=\"Times,serif\" font-size=\"14.00\">2.0</text>\n",
       "</g>\n",
       "</g>\n",
       "</svg>\n"
      ],
      "text/plain": [
       "<graphviz.graphs.Digraph at 0x161748880>"
      ]
     },
     "execution_count": 31,
     "metadata": {},
     "output_type": "execute_result"
    }
   ],
   "source": [
    "plot_graph(gam)"
   ]
  },
  {
   "cell_type": "code",
   "execution_count": 32,
   "id": "3d0813d3",
   "metadata": {},
   "outputs": [],
   "source": [
    "%%R -o gam\n",
    "\n",
    "graph_update_weights_parameterized(graph, c(1))\n",
    "\n",
    "states <- t(sapply(1:vertices_length(graph), function(index) vertex_at(graph, index)$state ))\n",
    "ipv <- graph_as_matrix(graph)$IPV\n",
    "sim <- graph_as_matrix(graph)$SIM"
   ]
  },
  {
   "cell_type": "code",
   "execution_count": 33,
   "id": "0d5d4690",
   "metadata": {},
   "outputs": [
    {
     "data": {
      "image/svg+xml": [
       "<?xml version=\"1.0\" encoding=\"UTF-8\" standalone=\"no\"?>\n",
       "<!DOCTYPE svg PUBLIC \"-//W3C//DTD SVG 1.1//EN\"\n",
       " \"http://www.w3.org/Graphics/SVG/1.1/DTD/svg11.dtd\">\n",
       "<!-- Generated by graphviz version 3.0.0 (0)\n",
       " -->\n",
       "<!-- Pages: 1 -->\n",
       "<svg width=\"232pt\" height=\"392pt\"\n",
       " viewBox=\"0.00 0.00 231.69 392.00\" xmlns=\"http://www.w3.org/2000/svg\" xmlns:xlink=\"http://www.w3.org/1999/xlink\">\n",
       "<g id=\"graph0\" class=\"graph\" transform=\"scale(1 1) rotate(0) translate(4 388)\">\n",
       "<polygon fill=\"white\" stroke=\"transparent\" points=\"-4,4 -4,-388 227.69,-388 227.69,4 -4,4\"/>\n",
       "<!-- S -->\n",
       "<g id=\"node1\" class=\"node\">\n",
       "<title>S</title>\n",
       "<ellipse fill=\"none\" stroke=\"black\" cx=\"111.35\" cy=\"-366\" rx=\"27\" ry=\"18\"/>\n",
       "<text text-anchor=\"middle\" x=\"111.35\" y=\"-362.3\" font-family=\"Times,serif\" font-size=\"14.00\">S</text>\n",
       "</g>\n",
       "<!-- 0 -->\n",
       "<g id=\"node3\" class=\"node\">\n",
       "<title>0</title>\n",
       "<ellipse fill=\"none\" stroke=\"black\" cx=\"111.35\" cy=\"-279\" rx=\"51.19\" ry=\"18\"/>\n",
       "<text text-anchor=\"middle\" x=\"111.35\" y=\"-275.3\" font-family=\"Times,serif\" font-size=\"14.00\">[4. 0. 0. 0.]</text>\n",
       "</g>\n",
       "<!-- S&#45;&gt;0 -->\n",
       "<g id=\"edge1\" class=\"edge\">\n",
       "<title>S&#45;&gt;0</title>\n",
       "<path fill=\"none\" stroke=\"black\" d=\"M111.35,-347.8C111.35,-336.16 111.35,-320.55 111.35,-307.24\"/>\n",
       "<polygon fill=\"black\" stroke=\"black\" points=\"114.85,-307.18 111.35,-297.18 107.85,-307.18 114.85,-307.18\"/>\n",
       "<text text-anchor=\"middle\" x=\"120.35\" y=\"-318.8\" font-family=\"Times,serif\" font-size=\"14.00\">1.0</text>\n",
       "</g>\n",
       "<!-- 4 -->\n",
       "<g id=\"node2\" class=\"node\">\n",
       "<title>4</title>\n",
       "<ellipse fill=\"none\" stroke=\"black\" cx=\"111.35\" cy=\"-18\" rx=\"48.19\" ry=\"18\"/>\n",
       "<text text-anchor=\"middle\" x=\"111.35\" y=\"-14.3\" font-family=\"Times,serif\" font-size=\"14.00\">Absorbing</text>\n",
       "</g>\n",
       "<!-- 1 -->\n",
       "<g id=\"node4\" class=\"node\">\n",
       "<title>1</title>\n",
       "<ellipse fill=\"none\" stroke=\"black\" cx=\"111.35\" cy=\"-192\" rx=\"51.19\" ry=\"18\"/>\n",
       "<text text-anchor=\"middle\" x=\"111.35\" y=\"-188.3\" font-family=\"Times,serif\" font-size=\"14.00\">[2. 1. 0. 0.]</text>\n",
       "</g>\n",
       "<!-- 0&#45;&gt;1 -->\n",
       "<g id=\"edge2\" class=\"edge\">\n",
       "<title>0&#45;&gt;1</title>\n",
       "<path fill=\"none\" stroke=\"black\" d=\"M111.35,-260.8C111.35,-249.16 111.35,-233.55 111.35,-220.24\"/>\n",
       "<polygon fill=\"black\" stroke=\"black\" points=\"114.85,-220.18 111.35,-210.18 107.85,-220.18 114.85,-220.18\"/>\n",
       "<text text-anchor=\"middle\" x=\"123.85\" y=\"-231.8\" font-family=\"Times,serif\" font-size=\"14.00\">12.0</text>\n",
       "</g>\n",
       "<!-- 2 -->\n",
       "<g id=\"node5\" class=\"node\">\n",
       "<title>2</title>\n",
       "<ellipse fill=\"none\" stroke=\"black\" cx=\"51.35\" cy=\"-105\" rx=\"51.19\" ry=\"18\"/>\n",
       "<text text-anchor=\"middle\" x=\"51.35\" y=\"-101.3\" font-family=\"Times,serif\" font-size=\"14.00\">[0. 2. 0. 0.]</text>\n",
       "</g>\n",
       "<!-- 1&#45;&gt;2 -->\n",
       "<g id=\"edge3\" class=\"edge\">\n",
       "<title>1&#45;&gt;2</title>\n",
       "<path fill=\"none\" stroke=\"black\" d=\"M99.49,-174.21C90.78,-161.87 78.8,-144.89 68.97,-130.97\"/>\n",
       "<polygon fill=\"black\" stroke=\"black\" points=\"71.8,-128.91 63.17,-122.76 66.08,-132.95 71.8,-128.91\"/>\n",
       "<text text-anchor=\"middle\" x=\"94.35\" y=\"-144.8\" font-family=\"Times,serif\" font-size=\"14.00\">2.0</text>\n",
       "</g>\n",
       "<!-- 3 -->\n",
       "<g id=\"node6\" class=\"node\">\n",
       "<title>3</title>\n",
       "<ellipse fill=\"none\" stroke=\"black\" cx=\"172.35\" cy=\"-105\" rx=\"51.19\" ry=\"18\"/>\n",
       "<text text-anchor=\"middle\" x=\"172.35\" y=\"-101.3\" font-family=\"Times,serif\" font-size=\"14.00\">[1. 0. 1. 0.]</text>\n",
       "</g>\n",
       "<!-- 1&#45;&gt;3 -->\n",
       "<g id=\"edge4\" class=\"edge\">\n",
       "<title>1&#45;&gt;3</title>\n",
       "<path fill=\"none\" stroke=\"black\" d=\"M123.4,-174.21C132.25,-161.87 144.43,-144.89 154.43,-130.97\"/>\n",
       "<polygon fill=\"black\" stroke=\"black\" points=\"157.33,-132.92 160.32,-122.76 151.64,-128.84 157.33,-132.92\"/>\n",
       "<text text-anchor=\"middle\" x=\"155.35\" y=\"-144.8\" font-family=\"Times,serif\" font-size=\"14.00\">4.0</text>\n",
       "</g>\n",
       "<!-- 2&#45;&gt;4 -->\n",
       "<g id=\"edge5\" class=\"edge\">\n",
       "<title>2&#45;&gt;4</title>\n",
       "<path fill=\"none\" stroke=\"black\" d=\"M63.2,-87.21C71.97,-74.79 84.05,-57.67 93.91,-43.7\"/>\n",
       "<polygon fill=\"black\" stroke=\"black\" points=\"96.81,-45.66 99.72,-35.47 91.09,-41.62 96.81,-45.66\"/>\n",
       "<text text-anchor=\"middle\" x=\"94.35\" y=\"-57.8\" font-family=\"Times,serif\" font-size=\"14.00\">2.0</text>\n",
       "</g>\n",
       "<!-- 3&#45;&gt;4 -->\n",
       "<g id=\"edge6\" class=\"edge\">\n",
       "<title>3&#45;&gt;4</title>\n",
       "<path fill=\"none\" stroke=\"black\" d=\"M160.29,-87.21C151.38,-74.79 139.1,-57.67 129.07,-43.7\"/>\n",
       "<polygon fill=\"black\" stroke=\"black\" points=\"131.84,-41.55 123.16,-35.47 126.15,-45.63 131.84,-41.55\"/>\n",
       "<text text-anchor=\"middle\" x=\"155.35\" y=\"-57.8\" font-family=\"Times,serif\" font-size=\"14.00\">2.0</text>\n",
       "</g>\n",
       "</g>\n",
       "</svg>\n"
      ],
      "text/plain": [
       "<graphviz.graphs.Digraph at 0x16174a1d0>"
      ]
     },
     "execution_count": 33,
     "metadata": {},
     "output_type": "execute_result"
    }
   ],
   "source": [
    "plot_graph(gam)"
   ]
  },
  {
   "cell_type": "markdown",
   "id": "35d995a2",
   "metadata": {
    "tags": []
   },
   "source": [
    "## Time-inhomgeneous coalescent"
   ]
  },
  {
   "cell_type": "markdown",
   "id": "03469a55",
   "metadata": {},
   "source": [
    "The distribution context is always made on the graph without rewards transformation. You can then:\n",
    "\n",
    "- Get the distribution (and from that all moments) of time to absorbtion. Note that you cannot use dph for this as this assumes the current edge-weights and not seqentially updated ones in the distribution context.\n",
    "- Get the marginal exepectations by summing over the products of the expected accumulated visiting times and rewards.\n"
   ]
  },
  {
   "cell_type": "code",
   "execution_count": 34,
   "id": "f05d5aed",
   "metadata": {},
   "outputs": [],
   "source": [
    "%%R -o cdf1 -o cdf2 -o cdf3\n",
    "\n",
    "cdf_timeinhom <- function(graph, eqopues, sizes) {\n",
    "\n",
    "    tmrca_pdf <- c()\n",
    "    time <- c()\n",
    "    \n",
    "    ctx <- distribution_context(graph, 1000)\n",
    "    prev_size <- 0\n",
    "    while (distribution_context_state(ctx)$cdf < 0.999) { \n",
    "        tmrca_pdf[[(length(tmrca_pdf) + 1)]] <- distribution_context_state(ctx)$cdf\n",
    "        time[[(length(time) + 1)]] <- distribution_context_state(ctx)$time\n",
    "        \n",
    "        size <- sizes[findInterval(distribution_context_state(ctx)$time, epoques)]\n",
    "        if (size != prev_size) {\n",
    "            graph_update_weights_parameterized(graph, c(1/size))\n",
    "        }\n",
    "        prev_size <- size\n",
    "        distribution_context_step(ctx)\n",
    "    }\n",
    "\n",
    "    return(data.frame(prob = unlist(tmrca_pdf), t=unlist(time)))\n",
    "\n",
    "}\n",
    "\n",
    "epoques = c(0, 1, 2, 3, 4)\n",
    "cdf1 <- cdf_timeinhom(graph, epoques, c(1, 1, 1, 1, 1))\n",
    "cdf2 <- cdf_timeinhom(graph, epoques, c(1, 2, 4, 8, 16))\n",
    "cdf3 <- cdf_timeinhom(graph, epoques, c(16, 8, 4, 2, 1))"
   ]
  },
  {
   "cell_type": "code",
   "execution_count": 35,
   "id": "228f1a79",
   "metadata": {},
   "outputs": [
    {
     "data": {
      "image/png": "[encoded data removed]",
      "text/plain": [
       "<Figure size 864x288 with 3 Axes>"
      ]
     },
     "metadata": {
      "image/png": {
       "height": 251,
       "width": 708
      }
     },
     "output_type": "display_data"
    }
   ],
   "source": [
    "fig, axes = plt.subplots(1, 3, figsize=(12, 4))\n",
    "axes[0].plot(cdf1.t, cdf1.prob)\n",
    "axes[1].plot(cdf2.t, cdf2.prob)\n",
    "axes[2].plot(cdf3.t, cdf3.prob)\n",
    "sns.despine()"
   ]
  },
  {
   "cell_type": "code",
   "execution_count": 36,
   "id": "30e2247f",
   "metadata": {},
   "outputs": [],
   "source": [
    "%%R -o sfs1 -o sfs2 -o sfs3\n",
    "\n",
    "sfs_timeinhom <- function(graph, eqopues, sizes) {\n",
    "\n",
    "    tmrca_pdf <- c()\n",
    "    time <- c()\n",
    "    \n",
    "    ctx <- distribution_context(graph, 1000)\n",
    "    prev_size <- 0\n",
    "    while (distribution_context_state(ctx)$cdf < 0.999) { \n",
    "        # tmrca_pdf <- c(tmrca_pdf, distribution_context_state(ctx)$pdf)\n",
    "        # time <- c(time, distribution_context_state(ctx)$time)\n",
    "        tmrca_pdf[[(length(tmrca_pdf) + 1)]] <- distribution_context_state(ctx)$pdf\n",
    "        time[[(length(time) + 1)]] <- distribution_context_state(ctx)$time\n",
    "        \n",
    "        size <- sizes[findInterval(distribution_context_state(ctx)$time, epoques)]\n",
    "        if (size != prev_size) {\n",
    "            graph_update_weights_parameterized(graph, c(1/size))\n",
    "        }\n",
    "        prev_size <- size\n",
    "        distribution_context_step(ctx)\n",
    "    }\n",
    "    expected_visits <- distribution_context_accumulated_visiting_time(ctx)\n",
    "    \n",
    "    sfs <- c()\n",
    "    for (i in 1:(dim(rewards)[1]-1)) {\n",
    "        sfs <- c(sfs, sum(expected_visits * rewards[i, ]))\n",
    "    }\n",
    "    return(sfs)\n",
    "}\n",
    "\n",
    "epoques = c(0, 1, 2, 3, 4)\n",
    "sfs1 <- sfs_timeinhom(graph, epoques, c(1, 1, 1, 1, 1))\n",
    "sfs2 <- sfs_timeinhom(graph, epoques, c(1, 2, 4, 8, 16))\n",
    "sfs3 <- sfs_timeinhom(graph, epoques, c(16, 8, 4, 2, 1))"
   ]
  },
  {
   "cell_type": "code",
   "execution_count": 37,
   "id": "351e10e1",
   "metadata": {},
   "outputs": [
    {
     "data": {
      "image/png": "[encoded data removed]",
      "text/plain": [
       "<Figure size 864x288 with 3 Axes>"
      ]
     },
     "metadata": {
      "image/png": {
       "height": 266,
       "width": 714
      }
     },
     "output_type": "display_data"
    }
   ],
   "source": [
    "fig, axes = plt.subplots(1, 3, figsize=(12, 4))\n",
    "sns.barplot(x=list(range(1, len(sfs1)+1)), y=sfs1, ax=axes[0]).set_title(\"Constant 1\")\n",
    "sns.barplot(x=list(range(1, len(sfs2)+1)), y=sfs2, ax=axes[1]).set_title(\"Exp growth from 1\")\n",
    "sns.barplot(x=list(range(1, len(sfs3)+1)), y=sfs3, ax=axes[2]).set_title(\"Exp decline to 1\")\n",
    "sns.despine()"
   ]
  },
  {
   "cell_type": "markdown",
   "id": "3ae694fc-88c2-466a-8daa-a5e760bceaf7",
   "metadata": {},
   "source": [
    "# Discrete phase-type distribution"
   ]
  },
  {
   "cell_type": "markdown",
   "id": "558308b6-2944-4ce0-a554-ca93b0880dcd",
   "metadata": {},
   "source": [
    "First build representation of the continuous phase-type distribution for the coalescent:"
   ]
  },
  {
   "cell_type": "code",
   "execution_count": 38,
   "id": "32cd9c31-4311-4185-9394-f3586f867e3e",
   "metadata": {},
   "outputs": [
    {
     "name": "stdout",
     "output_type": "stream",
     "text": [
      "[1] 6\n"
     ]
    }
   ],
   "source": [
    "%%R -o n -o gam\n",
    "n <- 4\n",
    "  \n",
    "state_vector_length <- n\n",
    "graph <- create_graph(state_vector_length)\n",
    "starting_vertex <- vertex_at(graph, 1)\n",
    "initial_state <- rep(0, n)\n",
    "initial_state[1] <- n\n",
    "\n",
    "add_edge(\n",
    "  starting_vertex,\n",
    "  create_vertex(graph, initial_state),\n",
    "  1\n",
    ")\n",
    "index <- 2\n",
    "\n",
    "while (index <= vertices_length(graph)) {\n",
    "  vertex <- vertex_at(graph, index)\n",
    "  \n",
    "  # loop over all classes of lineages\n",
    "  for (i in 1:n) {\n",
    "    for (j in i:n) {\n",
    "      state <- vertex$state\n",
    "      \n",
    "      # if same class, there need to be at least two to coalesce\n",
    "      if (i == j) {\n",
    "        if (state[i] < 2) {\n",
    "          next;\n",
    "        }\n",
    "        # coal rate\n",
    "        rate <- state[i] * (state[i] - 1) / 2\n",
    "      } else {\n",
    "        # else at least one in each class to coalesce\n",
    "        if (state[i] < 1 || state[j] < 1) {\n",
    "          next;\n",
    "        }\n",
    "        # number of combinations\n",
    "        rate <- state[i] * state[j]\n",
    "      }\n",
    "      \n",
    "      # copy state\n",
    "      child_state <- state\n",
    "      # update child state\n",
    "      child_state[i] <- child_state[i] - 1\n",
    "      child_state[j] <- child_state[j] - 1\n",
    "      child_state[i+j] <- child_state[i+j] + 1\n",
    "      \n",
    "      add_edge(\n",
    "          vertex,\n",
    "          find_or_create_vertex(graph, child_state),\n",
    "          rate\n",
    "        )\n",
    "    }\n",
    "  }\n",
    "      \n",
    "  index <- index + 1\n",
    "}\n",
    "\n",
    "gam <- graph_as_matrix(graph)\n",
    "vertices_length(graph)"
   ]
  },
  {
   "cell_type": "code",
   "execution_count": 39,
   "id": "fa216be9-cb6d-4a58-b204-299e775392d7",
   "metadata": {},
   "outputs": [
    {
     "data": {
      "image/svg+xml": [
       "<?xml version=\"1.0\" encoding=\"UTF-8\" standalone=\"no\"?>\n",
       "<!DOCTYPE svg PUBLIC \"-//W3C//DTD SVG 1.1//EN\"\n",
       " \"http://www.w3.org/Graphics/SVG/1.1/DTD/svg11.dtd\">\n",
       "<!-- Generated by graphviz version 3.0.0 (0)\n",
       " -->\n",
       "<!-- Pages: 1 -->\n",
       "<svg width=\"232pt\" height=\"392pt\"\n",
       " viewBox=\"0.00 0.00 231.69 392.00\" xmlns=\"http://www.w3.org/2000/svg\" xmlns:xlink=\"http://www.w3.org/1999/xlink\">\n",
       "<g id=\"graph0\" class=\"graph\" transform=\"scale(1 1) rotate(0) translate(4 388)\">\n",
       "<polygon fill=\"white\" stroke=\"transparent\" points=\"-4,4 -4,-388 227.69,-388 227.69,4 -4,4\"/>\n",
       "<!-- S -->\n",
       "<g id=\"node1\" class=\"node\">\n",
       "<title>S</title>\n",
       "<ellipse fill=\"none\" stroke=\"black\" cx=\"111.35\" cy=\"-366\" rx=\"27\" ry=\"18\"/>\n",
       "<text text-anchor=\"middle\" x=\"111.35\" y=\"-362.3\" font-family=\"Times,serif\" font-size=\"14.00\">S</text>\n",
       "</g>\n",
       "<!-- 0 -->\n",
       "<g id=\"node3\" class=\"node\">\n",
       "<title>0</title>\n",
       "<ellipse fill=\"none\" stroke=\"black\" cx=\"111.35\" cy=\"-279\" rx=\"51.19\" ry=\"18\"/>\n",
       "<text text-anchor=\"middle\" x=\"111.35\" y=\"-275.3\" font-family=\"Times,serif\" font-size=\"14.00\">[4. 0. 0. 0.]</text>\n",
       "</g>\n",
       "<!-- S&#45;&gt;0 -->\n",
       "<g id=\"edge1\" class=\"edge\">\n",
       "<title>S&#45;&gt;0</title>\n",
       "<path fill=\"none\" stroke=\"black\" d=\"M111.35,-347.8C111.35,-336.16 111.35,-320.55 111.35,-307.24\"/>\n",
       "<polygon fill=\"black\" stroke=\"black\" points=\"114.85,-307.18 111.35,-297.18 107.85,-307.18 114.85,-307.18\"/>\n",
       "<text text-anchor=\"middle\" x=\"120.35\" y=\"-318.8\" font-family=\"Times,serif\" font-size=\"14.00\">1.0</text>\n",
       "</g>\n",
       "<!-- 4 -->\n",
       "<g id=\"node2\" class=\"node\">\n",
       "<title>4</title>\n",
       "<ellipse fill=\"none\" stroke=\"black\" cx=\"111.35\" cy=\"-18\" rx=\"48.19\" ry=\"18\"/>\n",
       "<text text-anchor=\"middle\" x=\"111.35\" y=\"-14.3\" font-family=\"Times,serif\" font-size=\"14.00\">Absorbing</text>\n",
       "</g>\n",
       "<!-- 1 -->\n",
       "<g id=\"node4\" class=\"node\">\n",
       "<title>1</title>\n",
       "<ellipse fill=\"none\" stroke=\"black\" cx=\"111.35\" cy=\"-192\" rx=\"51.19\" ry=\"18\"/>\n",
       "<text text-anchor=\"middle\" x=\"111.35\" y=\"-188.3\" font-family=\"Times,serif\" font-size=\"14.00\">[2. 1. 0. 0.]</text>\n",
       "</g>\n",
       "<!-- 0&#45;&gt;1 -->\n",
       "<g id=\"edge2\" class=\"edge\">\n",
       "<title>0&#45;&gt;1</title>\n",
       "<path fill=\"none\" stroke=\"black\" d=\"M111.35,-260.8C111.35,-249.16 111.35,-233.55 111.35,-220.24\"/>\n",
       "<polygon fill=\"black\" stroke=\"black\" points=\"114.85,-220.18 111.35,-210.18 107.85,-220.18 114.85,-220.18\"/>\n",
       "<text text-anchor=\"middle\" x=\"120.35\" y=\"-231.8\" font-family=\"Times,serif\" font-size=\"14.00\">6.0</text>\n",
       "</g>\n",
       "<!-- 2 -->\n",
       "<g id=\"node5\" class=\"node\">\n",
       "<title>2</title>\n",
       "<ellipse fill=\"none\" stroke=\"black\" cx=\"51.35\" cy=\"-105\" rx=\"51.19\" ry=\"18\"/>\n",
       "<text text-anchor=\"middle\" x=\"51.35\" y=\"-101.3\" font-family=\"Times,serif\" font-size=\"14.00\">[0. 2. 0. 0.]</text>\n",
       "</g>\n",
       "<!-- 1&#45;&gt;2 -->\n",
       "<g id=\"edge3\" class=\"edge\">\n",
       "<title>1&#45;&gt;2</title>\n",
       "<path fill=\"none\" stroke=\"black\" d=\"M99.49,-174.21C90.78,-161.87 78.8,-144.89 68.97,-130.97\"/>\n",
       "<polygon fill=\"black\" stroke=\"black\" points=\"71.8,-128.91 63.17,-122.76 66.08,-132.95 71.8,-128.91\"/>\n",
       "<text text-anchor=\"middle\" x=\"94.35\" y=\"-144.8\" font-family=\"Times,serif\" font-size=\"14.00\">1.0</text>\n",
       "</g>\n",
       "<!-- 3 -->\n",
       "<g id=\"node6\" class=\"node\">\n",
       "<title>3</title>\n",
       "<ellipse fill=\"none\" stroke=\"black\" cx=\"172.35\" cy=\"-105\" rx=\"51.19\" ry=\"18\"/>\n",
       "<text text-anchor=\"middle\" x=\"172.35\" y=\"-101.3\" font-family=\"Times,serif\" font-size=\"14.00\">[1. 0. 1. 0.]</text>\n",
       "</g>\n",
       "<!-- 1&#45;&gt;3 -->\n",
       "<g id=\"edge4\" class=\"edge\">\n",
       "<title>1&#45;&gt;3</title>\n",
       "<path fill=\"none\" stroke=\"black\" d=\"M123.4,-174.21C132.25,-161.87 144.43,-144.89 154.43,-130.97\"/>\n",
       "<polygon fill=\"black\" stroke=\"black\" points=\"157.33,-132.92 160.32,-122.76 151.64,-128.84 157.33,-132.92\"/>\n",
       "<text text-anchor=\"middle\" x=\"155.35\" y=\"-144.8\" font-family=\"Times,serif\" font-size=\"14.00\">2.0</text>\n",
       "</g>\n",
       "<!-- 2&#45;&gt;4 -->\n",
       "<g id=\"edge5\" class=\"edge\">\n",
       "<title>2&#45;&gt;4</title>\n",
       "<path fill=\"none\" stroke=\"black\" d=\"M63.2,-87.21C71.97,-74.79 84.05,-57.67 93.91,-43.7\"/>\n",
       "<polygon fill=\"black\" stroke=\"black\" points=\"96.81,-45.66 99.72,-35.47 91.09,-41.62 96.81,-45.66\"/>\n",
       "<text text-anchor=\"middle\" x=\"94.35\" y=\"-57.8\" font-family=\"Times,serif\" font-size=\"14.00\">1.0</text>\n",
       "</g>\n",
       "<!-- 3&#45;&gt;4 -->\n",
       "<g id=\"edge6\" class=\"edge\">\n",
       "<title>3&#45;&gt;4</title>\n",
       "<path fill=\"none\" stroke=\"black\" d=\"M160.29,-87.21C151.38,-74.79 139.1,-57.67 129.07,-43.7\"/>\n",
       "<polygon fill=\"black\" stroke=\"black\" points=\"131.84,-41.55 123.16,-35.47 126.15,-45.63 131.84,-41.55\"/>\n",
       "<text text-anchor=\"middle\" x=\"155.35\" y=\"-57.8\" font-family=\"Times,serif\" font-size=\"14.00\">1.0</text>\n",
       "</g>\n",
       "</g>\n",
       "</svg>\n"
      ],
      "text/plain": [
       "<graphviz.graphs.Digraph at 0x161e8e170>"
      ]
     },
     "execution_count": 39,
     "metadata": {},
     "output_type": "execute_result"
    }
   ],
   "source": [
    "plot_graph(gam)"
   ]
  },
  {
   "cell_type": "markdown",
   "id": "4ce7eb33-b21c-443e-8f91-4d8e19f82b64",
   "metadata": {},
   "source": [
    "Then turn it into a descrete phase-type distribution:"
   ]
  },
  {
   "cell_type": "code",
   "execution_count": 52,
   "id": "89185f5f-2dfa-4f99-a2e6-a3b160d478fb",
   "metadata": {},
   "outputs": [],
   "source": [
    "%%R -o gam\n",
    "\n",
    "make_discrete <- function(mutation_graph, mutation_rate) {\n",
    "    # Takes a graph for a continuous distribution and turns\n",
    "    # it into a descrete one (inplace). Returns a matrix of\n",
    "    # rewards for computing marginal moments\n",
    "\n",
    "    # current nr of states in graph\n",
    "    vlength <- vertices_length(mutation_graph)\n",
    "\n",
    "    # number of fields in state vector (assumes all are the same length)\n",
    "    state_vector_length <- length(vertex_at(mutation_graph, 1)$state)\n",
    "\n",
    "    # list state vector fields to reward at each auxiliary node\n",
    "    rewarded_state_vector_indexes <- vector(mode = \"list\", length = state_vector_length)\n",
    "\n",
    "    # loop all but starting node\n",
    "    for (i in 2:vlength) {\n",
    "        vertex <- vertex_at(mutation_graph,i)\n",
    "        if (vertex$rate > 0) { # not absorbing\n",
    "            for (j in 1:length(vertex$state)) {\n",
    "                val <- vertex$state[j]\n",
    "                if (val > 0) { # only ones we may reward\n",
    "                    # add auxilliary node\n",
    "                    mutation_vertex <- create_vertex(mutation_graph, rep(0, state_vector_length))\n",
    "                    add_edge(mutation_vertex, vertex, 1)\n",
    "                    add_edge(vertex, mutation_vertex, mutation_rate*val)\n",
    "\n",
    "                    rewarded_state_vector_indexes[[mutation_vertex$index]] <- c(rewarded_state_vector_indexes[[j]], j)\n",
    "                }\n",
    "            }\n",
    "        }\n",
    "    }\n",
    "    # normalize graph\n",
    "    weights_were_multiplied_with <- normalize_graph(mutation_graph)\n",
    "\n",
    "    # build reward matrix\n",
    "    rewards <- matrix(nrow=vertices_length(mutation_graph),ncol=state_vector_length, 0)\n",
    "    for (state in seq_along(rewarded_state_vector_indexes)) {\n",
    "        for (i in rewarded_state_vector_indexes[[state]]) {\n",
    "            rewards[state, i] <- 1\n",
    "        }\n",
    "    }\n",
    "    rewards = t(rewards)\n",
    "    return(rewards)\n",
    "}\n",
    "\n",
    "# self-transition rate:\n",
    "mutation_rate <- 1\n",
    "\n",
    "# clone graph to get one to modify:\n",
    "mutation_graph <- clone_graph(graph)\n",
    "\n",
    "# add auxilliary states, normalize and return reward matrix:\n",
    "rewards <- make_discrete(mutation_graph, mutation_rate)\n",
    "\n",
    "# for plotting the new graph\n",
    "gam <- graph_as_matrix(mutation_graph)"
   ]
  },
  {
   "cell_type": "code",
   "execution_count": 41,
   "id": "cfffe131-ebc8-4e79-9c24-4ad87100c924",
   "metadata": {},
   "outputs": [
    {
     "data": {
      "image/svg+xml": [
       "<?xml version=\"1.0\" encoding=\"UTF-8\" standalone=\"no\"?>\n",
       "<!DOCTYPE svg PUBLIC \"-//W3C//DTD SVG 1.1//EN\"\n",
       " \"http://www.w3.org/Graphics/SVG/1.1/DTD/svg11.dtd\">\n",
       "<!-- Generated by graphviz version 3.0.0 (0)\n",
       " -->\n",
       "<!-- Pages: 1 -->\n",
       "<svg width=\"720pt\" height=\"279pt\"\n",
       " viewBox=\"0.00 0.00 720.00 278.85\" xmlns=\"http://www.w3.org/2000/svg\" xmlns:xlink=\"http://www.w3.org/1999/xlink\">\n",
       "<g id=\"graph0\" class=\"graph\" transform=\"scale(0.71135 0.71135) rotate(0) translate(4 388)\">\n",
       "<polygon fill=\"white\" stroke=\"transparent\" points=\"-4,4 -4,-388 1008.16,-388 1008.16,4 -4,4\"/>\n",
       "<!-- S -->\n",
       "<g id=\"node1\" class=\"node\">\n",
       "<title>S</title>\n",
       "<ellipse fill=\"none\" stroke=\"black\" cx=\"185.16\" cy=\"-366\" rx=\"27\" ry=\"18\"/>\n",
       "<text text-anchor=\"middle\" x=\"185.16\" y=\"-362.3\" font-family=\"Times,serif\" font-size=\"14.00\">S</text>\n",
       "</g>\n",
       "<!-- 1 -->\n",
       "<g id=\"node4\" class=\"node\">\n",
       "<title>1</title>\n",
       "<ellipse fill=\"none\" stroke=\"black\" cx=\"185.16\" cy=\"-279\" rx=\"51.19\" ry=\"18\"/>\n",
       "<text text-anchor=\"middle\" x=\"185.16\" y=\"-275.3\" font-family=\"Times,serif\" font-size=\"14.00\">[4. 0. 0. 0.]</text>\n",
       "</g>\n",
       "<!-- S&#45;&gt;1 -->\n",
       "<g id=\"edge1\" class=\"edge\">\n",
       "<title>S&#45;&gt;1</title>\n",
       "<path fill=\"none\" stroke=\"black\" d=\"M185.16,-347.8C185.16,-336.16 185.16,-320.55 185.16,-307.24\"/>\n",
       "<polygon fill=\"black\" stroke=\"black\" points=\"188.66,-307.18 185.16,-297.18 181.66,-307.18 188.66,-307.18\"/>\n",
       "<text text-anchor=\"middle\" x=\"194.16\" y=\"-318.8\" font-family=\"Times,serif\" font-size=\"14.00\">1.0</text>\n",
       "</g>\n",
       "<!-- 10 -->\n",
       "<g id=\"node2\" class=\"node\">\n",
       "<title>10</title>\n",
       "<ellipse fill=\"none\" stroke=\"black\" cx=\"436.16\" cy=\"-18\" rx=\"48.19\" ry=\"18\"/>\n",
       "<text text-anchor=\"middle\" x=\"436.16\" y=\"-14.3\" font-family=\"Times,serif\" font-size=\"14.00\">Absorbing</text>\n",
       "</g>\n",
       "<!-- 0 -->\n",
       "<g id=\"node3\" class=\"node\">\n",
       "<title>0</title>\n",
       "<ellipse fill=\"none\" stroke=\"black\" cx=\"144.16\" cy=\"-192\" rx=\"51.19\" ry=\"18\"/>\n",
       "<text text-anchor=\"middle\" x=\"144.16\" y=\"-188.3\" font-family=\"Times,serif\" font-size=\"14.00\">[0. 0. 0. 0.]</text>\n",
       "</g>\n",
       "<!-- 0&#45;&gt;1 -->\n",
       "<g id=\"edge2\" class=\"edge\">\n",
       "<title>0&#45;&gt;1</title>\n",
       "<path fill=\"none\" stroke=\"black\" d=\"M153.72,-209.94C156.84,-215.63 160.24,-222.04 163.16,-228 166.86,-235.54 170.63,-243.85 173.99,-251.5\"/>\n",
       "<polygon fill=\"black\" stroke=\"black\" points=\"170.79,-252.93 177.97,-260.71 177.22,-250.15 170.79,-252.93\"/>\n",
       "<text text-anchor=\"middle\" x=\"180.16\" y=\"-231.8\" font-family=\"Times,serif\" font-size=\"14.00\">1.0</text>\n",
       "</g>\n",
       "<!-- 1&#45;&gt;0 -->\n",
       "<g id=\"edge3\" class=\"edge\">\n",
       "<title>1&#45;&gt;0</title>\n",
       "<path fill=\"none\" stroke=\"black\" d=\"M158.93,-263.27C151.84,-257.88 145.06,-251.09 141.16,-243 137.78,-236 137.13,-227.79 137.71,-220.08\"/>\n",
       "<polygon fill=\"black\" stroke=\"black\" points=\"141.2,-220.4 139.13,-210.01 134.27,-219.43 141.2,-220.4\"/>\n",
       "<text text-anchor=\"middle\" x=\"150.16\" y=\"-231.8\" font-family=\"Times,serif\" font-size=\"14.00\">0.4</text>\n",
       "</g>\n",
       "<!-- 4 -->\n",
       "<g id=\"node7\" class=\"node\">\n",
       "<title>4</title>\n",
       "<ellipse fill=\"none\" stroke=\"black\" cx=\"265.16\" cy=\"-192\" rx=\"51.19\" ry=\"18\"/>\n",
       "<text text-anchor=\"middle\" x=\"265.16\" y=\"-188.3\" font-family=\"Times,serif\" font-size=\"14.00\">[2. 1. 0. 0.]</text>\n",
       "</g>\n",
       "<!-- 1&#45;&gt;4 -->\n",
       "<g id=\"edge4\" class=\"edge\">\n",
       "<title>1&#45;&gt;4</title>\n",
       "<path fill=\"none\" stroke=\"black\" d=\"M200.59,-261.61C212.54,-248.91 229.27,-231.13 242.71,-216.86\"/>\n",
       "<polygon fill=\"black\" stroke=\"black\" points=\"245.48,-219.02 249.78,-209.34 240.38,-214.22 245.48,-219.02\"/>\n",
       "<text text-anchor=\"middle\" x=\"239.16\" y=\"-231.8\" font-family=\"Times,serif\" font-size=\"14.00\">0.6</text>\n",
       "</g>\n",
       "<!-- 2 -->\n",
       "<g id=\"node5\" class=\"node\">\n",
       "<title>2</title>\n",
       "<ellipse fill=\"none\" stroke=\"black\" cx=\"54.16\" cy=\"-105\" rx=\"51.19\" ry=\"18\"/>\n",
       "<text text-anchor=\"middle\" x=\"54.16\" y=\"-101.3\" font-family=\"Times,serif\" font-size=\"14.00\">[0. 0. 0. 0.]</text>\n",
       "</g>\n",
       "<!-- 2&#45;&gt;4 -->\n",
       "<g id=\"edge5\" class=\"edge\">\n",
       "<title>2&#45;&gt;4</title>\n",
       "<path fill=\"none\" stroke=\"black\" d=\"M84.23,-119.75C111.78,-132.29 150.59,-149.78 166.16,-156 183.43,-162.89 202.65,-169.85 219.53,-175.72\"/>\n",
       "<polygon fill=\"black\" stroke=\"black\" points=\"218.57,-179.09 229.16,-179.05 220.85,-172.48 218.57,-179.09\"/>\n",
       "<text text-anchor=\"middle\" x=\"175.16\" y=\"-144.8\" font-family=\"Times,serif\" font-size=\"14.00\">1.0</text>\n",
       "</g>\n",
       "<!-- 3 -->\n",
       "<g id=\"node6\" class=\"node\">\n",
       "<title>3</title>\n",
       "<ellipse fill=\"none\" stroke=\"black\" cx=\"209.16\" cy=\"-105\" rx=\"51.19\" ry=\"18\"/>\n",
       "<text text-anchor=\"middle\" x=\"209.16\" y=\"-101.3\" font-family=\"Times,serif\" font-size=\"14.00\">[0. 0. 0. 0.]</text>\n",
       "</g>\n",
       "<!-- 3&#45;&gt;4 -->\n",
       "<g id=\"edge6\" class=\"edge\">\n",
       "<title>3&#45;&gt;4</title>\n",
       "<path fill=\"none\" stroke=\"black\" d=\"M258.69,-110.01C279.32,-114.42 301.41,-123.31 314.16,-141 321.96,-151.82 314.07,-162.54 302.52,-171.27\"/>\n",
       "<polygon fill=\"black\" stroke=\"black\" points=\"300.41,-168.47 294.08,-176.97 304.33,-174.27 300.41,-168.47\"/>\n",
       "<text text-anchor=\"middle\" x=\"327.16\" y=\"-144.8\" font-family=\"Times,serif\" font-size=\"14.00\">1.0</text>\n",
       "</g>\n",
       "<!-- 4&#45;&gt;2 -->\n",
       "<g id=\"edge7\" class=\"edge\">\n",
       "<title>4&#45;&gt;2</title>\n",
       "<path fill=\"none\" stroke=\"black\" d=\"M227.99,-179.48C220.18,-177.39 211.95,-175.42 204.16,-174 182.21,-169.99 19.21,-172.47 4.16,-156 -5.37,-145.57 3.78,-134.41 16.73,-125.29\"/>\n",
       "<polygon fill=\"black\" stroke=\"black\" points=\"18.62,-128.23 25.16,-119.89 14.85,-122.34 18.62,-128.23\"/>\n",
       "<text text-anchor=\"middle\" x=\"67.16\" y=\"-144.8\" font-family=\"Times,serif\" font-size=\"14.00\">0.16666666666666666</text>\n",
       "</g>\n",
       "<!-- 4&#45;&gt;3 -->\n",
       "<g id=\"edge8\" class=\"edge\">\n",
       "<title>4&#45;&gt;3</title>\n",
       "<path fill=\"none\" stroke=\"black\" d=\"M224.29,-181.07C211.46,-175.81 198.69,-167.89 191.16,-156 186.43,-148.52 187.77,-139.63 191.29,-131.43\"/>\n",
       "<polygon fill=\"black\" stroke=\"black\" points=\"194.39,-133.06 196,-122.59 188.21,-129.77 194.39,-133.06\"/>\n",
       "<text text-anchor=\"middle\" x=\"250.66\" y=\"-144.8\" font-family=\"Times,serif\" font-size=\"14.00\">0.3333333333333333</text>\n",
       "</g>\n",
       "<!-- 6 -->\n",
       "<g id=\"node9\" class=\"node\">\n",
       "<title>6</title>\n",
       "<ellipse fill=\"none\" stroke=\"black\" cx=\"361.16\" cy=\"-105\" rx=\"51.19\" ry=\"18\"/>\n",
       "<text text-anchor=\"middle\" x=\"361.16\" y=\"-101.3\" font-family=\"Times,serif\" font-size=\"14.00\">[0. 2. 0. 0.]</text>\n",
       "</g>\n",
       "<!-- 4&#45;&gt;6 -->\n",
       "<g id=\"edge9\" class=\"edge\">\n",
       "<title>4&#45;&gt;6</title>\n",
       "<path fill=\"none\" stroke=\"black\" d=\"M302.9,-179.71C316.03,-174.27 330,-166.56 340.16,-156 346.38,-149.54 350.88,-140.96 354.07,-132.74\"/>\n",
       "<polygon fill=\"black\" stroke=\"black\" points=\"357.46,-133.64 357.36,-123.05 350.83,-131.4 357.46,-133.64\"/>\n",
       "<text text-anchor=\"middle\" x=\"413.16\" y=\"-144.8\" font-family=\"Times,serif\" font-size=\"14.00\">0.16666666666666666</text>\n",
       "</g>\n",
       "<!-- 9 -->\n",
       "<g id=\"node12\" class=\"node\">\n",
       "<title>9</title>\n",
       "<ellipse fill=\"none\" stroke=\"black\" cx=\"751.16\" cy=\"-105\" rx=\"51.19\" ry=\"18\"/>\n",
       "<text text-anchor=\"middle\" x=\"751.16\" y=\"-101.3\" font-family=\"Times,serif\" font-size=\"14.00\">[1. 0. 1. 0.]</text>\n",
       "</g>\n",
       "<!-- 4&#45;&gt;9 -->\n",
       "<g id=\"edge10\" class=\"edge\">\n",
       "<title>4&#45;&gt;9</title>\n",
       "<path fill=\"none\" stroke=\"black\" d=\"M310.92,-183.84C354.48,-176.95 421.85,-166.12 480.16,-156 555.44,-142.93 642.27,-126.71 696.93,-116.35\"/>\n",
       "<polygon fill=\"black\" stroke=\"black\" points=\"697.92,-119.73 707.09,-114.43 696.61,-112.85 697.92,-119.73\"/>\n",
       "<text text-anchor=\"middle\" x=\"622.66\" y=\"-144.8\" font-family=\"Times,serif\" font-size=\"14.00\">0.3333333333333333</text>\n",
       "</g>\n",
       "<!-- 5 -->\n",
       "<g id=\"node8\" class=\"node\">\n",
       "<title>5</title>\n",
       "<ellipse fill=\"none\" stroke=\"black\" cx=\"286.16\" cy=\"-18\" rx=\"51.19\" ry=\"18\"/>\n",
       "<text text-anchor=\"middle\" x=\"286.16\" y=\"-14.3\" font-family=\"Times,serif\" font-size=\"14.00\">[0. 0. 0. 0.]</text>\n",
       "</g>\n",
       "<!-- 5&#45;&gt;6 -->\n",
       "<g id=\"edge11\" class=\"edge\">\n",
       "<title>5&#45;&gt;6</title>\n",
       "<path fill=\"none\" stroke=\"black\" d=\"M301.8,-35.2C307.36,-41.06 313.61,-47.76 319.16,-54 326.51,-62.26 334.35,-71.48 341.25,-79.73\"/>\n",
       "<polygon fill=\"black\" stroke=\"black\" points=\"338.69,-82.13 347.77,-87.59 344.08,-77.66 338.69,-82.13\"/>\n",
       "<text text-anchor=\"middle\" x=\"341.16\" y=\"-57.8\" font-family=\"Times,serif\" font-size=\"14.00\">1.0</text>\n",
       "</g>\n",
       "<!-- 6&#45;&gt;10 -->\n",
       "<g id=\"edge13\" class=\"edge\">\n",
       "<title>6&#45;&gt;10</title>\n",
       "<path fill=\"none\" stroke=\"black\" d=\"M365.96,-86.91C369.49,-76.56 375.09,-63.57 383.16,-54 388,-48.26 394.01,-43.1 400.23,-38.62\"/>\n",
       "<polygon fill=\"black\" stroke=\"black\" points=\"402.38,-41.39 408.75,-32.93 398.49,-35.57 402.38,-41.39\"/>\n",
       "<text text-anchor=\"middle\" x=\"446.16\" y=\"-57.8\" font-family=\"Times,serif\" font-size=\"14.00\">0.33333333333333337</text>\n",
       "</g>\n",
       "<!-- 6&#45;&gt;5 -->\n",
       "<g id=\"edge12\" class=\"edge\">\n",
       "<title>6&#45;&gt;5</title>\n",
       "<path fill=\"none\" stroke=\"black\" d=\"M316.59,-95.97C269.05,-87.2 200.01,-73.75 196.16,-69 181.43,-50.82 205.3,-38.15 232.15,-30.12\"/>\n",
       "<polygon fill=\"black\" stroke=\"black\" points=\"233.4,-33.41 242.11,-27.37 231.54,-26.66 233.4,-33.41\"/>\n",
       "<text text-anchor=\"middle\" x=\"255.66\" y=\"-57.8\" font-family=\"Times,serif\" font-size=\"14.00\">0.6666666666666666</text>\n",
       "</g>\n",
       "<!-- 7 -->\n",
       "<g id=\"node10\" class=\"node\">\n",
       "<title>7</title>\n",
       "<ellipse fill=\"none\" stroke=\"black\" cx=\"711.16\" cy=\"-18\" rx=\"51.19\" ry=\"18\"/>\n",
       "<text text-anchor=\"middle\" x=\"711.16\" y=\"-14.3\" font-family=\"Times,serif\" font-size=\"14.00\">[0. 0. 0. 0.]</text>\n",
       "</g>\n",
       "<!-- 7&#45;&gt;9 -->\n",
       "<g id=\"edge14\" class=\"edge\">\n",
       "<title>7&#45;&gt;9</title>\n",
       "<path fill=\"none\" stroke=\"black\" d=\"M757.28,-26.13C773.61,-31.12 790.34,-39.59 800.16,-54 807.61,-64.94 799.86,-75.61 788.49,-84.27\"/>\n",
       "<polygon fill=\"black\" stroke=\"black\" points=\"786.48,-81.41 780.19,-89.93 790.42,-87.19 786.48,-81.41\"/>\n",
       "<text text-anchor=\"middle\" x=\"812.16\" y=\"-57.8\" font-family=\"Times,serif\" font-size=\"14.00\">1.0</text>\n",
       "</g>\n",
       "<!-- 8 -->\n",
       "<g id=\"node11\" class=\"node\">\n",
       "<title>8</title>\n",
       "<ellipse fill=\"none\" stroke=\"black\" cx=\"934.16\" cy=\"-18\" rx=\"51.19\" ry=\"18\"/>\n",
       "<text text-anchor=\"middle\" x=\"934.16\" y=\"-14.3\" font-family=\"Times,serif\" font-size=\"14.00\">[0. 0. 0. 0.]</text>\n",
       "</g>\n",
       "<!-- 8&#45;&gt;9 -->\n",
       "<g id=\"edge15\" class=\"edge\">\n",
       "<title>8&#45;&gt;9</title>\n",
       "<path fill=\"none\" stroke=\"black\" d=\"M962.77,-32.97C979.01,-42.75 994.1,-56.29 983.16,-69 961.59,-94.07 874.07,-101.42 812.92,-103.44\"/>\n",
       "<polygon fill=\"black\" stroke=\"black\" points=\"812.48,-99.95 802.59,-103.74 812.69,-106.95 812.48,-99.95\"/>\n",
       "<text text-anchor=\"middle\" x=\"995.16\" y=\"-57.8\" font-family=\"Times,serif\" font-size=\"14.00\">1.0</text>\n",
       "</g>\n",
       "<!-- 9&#45;&gt;10 -->\n",
       "<g id=\"edge18\" class=\"edge\">\n",
       "<title>9&#45;&gt;10</title>\n",
       "<path fill=\"none\" stroke=\"black\" d=\"M702.04,-99.31C659.77,-94.42 597.5,-85.15 545.16,-69 537.81,-66.73 502.62,-50.42 474.18,-37.03\"/>\n",
       "<polygon fill=\"black\" stroke=\"black\" points=\"475.38,-33.73 464.84,-32.63 472.4,-40.06 475.38,-33.73\"/>\n",
       "<text text-anchor=\"middle\" x=\"608.16\" y=\"-57.8\" font-family=\"Times,serif\" font-size=\"14.00\">0.33333333333333337</text>\n",
       "</g>\n",
       "<!-- 9&#45;&gt;7 -->\n",
       "<g id=\"edge16\" class=\"edge\">\n",
       "<title>9&#45;&gt;7</title>\n",
       "<path fill=\"none\" stroke=\"black\" d=\"M710.29,-94.07C697.46,-88.81 684.69,-80.89 677.16,-69 671.48,-60.04 675.59,-50.36 682.64,-41.93\"/>\n",
       "<polygon fill=\"black\" stroke=\"black\" points=\"685.3,-44.21 689.74,-34.59 680.27,-39.34 685.3,-44.21\"/>\n",
       "<text text-anchor=\"middle\" x=\"736.66\" y=\"-57.8\" font-family=\"Times,serif\" font-size=\"14.00\">0.3333333333333333</text>\n",
       "</g>\n",
       "<!-- 9&#45;&gt;8 -->\n",
       "<g id=\"edge17\" class=\"edge\">\n",
       "<title>9&#45;&gt;8</title>\n",
       "<path fill=\"none\" stroke=\"black\" d=\"M780.97,-90.15C812.08,-75.71 860.98,-52.99 895.15,-37.12\"/>\n",
       "<polygon fill=\"black\" stroke=\"black\" points=\"896.77,-40.23 904.36,-32.84 893.82,-33.88 896.77,-40.23\"/>\n",
       "<text text-anchor=\"middle\" x=\"913.66\" y=\"-57.8\" font-family=\"Times,serif\" font-size=\"14.00\">0.3333333333333333</text>\n",
       "</g>\n",
       "</g>\n",
       "</svg>\n"
      ],
      "text/plain": [
       "<graphviz.graphs.Digraph at 0x161e8f040>"
      ]
     },
     "execution_count": 41,
     "metadata": {},
     "output_type": "execute_result"
    }
   ],
   "source": [
    "plot_graph(gam)"
   ]
  },
  {
   "cell_type": "code",
   "execution_count": 53,
   "id": "1d1db932-04b0-4bec-82b1-8b1281c77806",
   "metadata": {},
   "outputs": [
    {
     "name": "stdout",
     "output_type": "stream",
     "text": [
      "[1] 2.0000000 1.0000000 0.6666667\n"
     ]
    },
    {
     "name": "stderr",
     "output_type": "stream",
     "text": [
      "INFO: building reward compute graph...\n"
     ]
    }
   ],
   "source": [
    "%%R\n",
    "sfs <- sapply(1:(n-1), function(i) expectation(mutation_graph, rewards[i,]))\n",
    "sfs"
   ]
  },
  {
   "cell_type": "code",
   "execution_count": 54,
   "id": "ede9f3ae-d152-483d-8c37-e07373d95a89",
   "metadata": {},
   "outputs": [
    {
     "data": {
      "image/png": "[encoded data removed]",
      "text/plain": [
       "<Figure size 432x288 with 1 Axes>"
      ]
     },
     "metadata": {
      "image/png": {
       "height": 251,
       "width": 380
      }
     },
     "output_type": "display_data"
    }
   ],
   "source": [
    "sns.barplot(x=list(range(1, len(sfs)+1)), y=sfs)\n",
    "sns.despine()"
   ]
  },
  {
   "cell_type": "markdown",
   "id": "f0845381-40e6-4fed-9d2d-df76721b7719",
   "metadata": {},
   "source": [
    "Covariance:"
   ]
  },
  {
   "cell_type": "code",
   "execution_count": 47,
   "id": "ffe2bfff-957d-4df3-a595-a72f9755edf7",
   "metadata": {},
   "outputs": [
    {
     "name": "stdout",
     "output_type": "stream",
     "text": [
      "[1] -0.2222222\n"
     ]
    }
   ],
   "source": [
    "%%R\n",
    "covariance(mutation_graph, rewards[1,], rewards[2,])"
   ]
  },
  {
   "cell_type": "code",
   "execution_count": 55,
   "id": "00a9b67e-7185-4760-b1fa-ff4922e1635b",
   "metadata": {
    "tags": []
   },
   "outputs": [
    {
     "name": "stdout",
     "output_type": "stream",
     "text": [
      "[1] 0.8888889\n"
     ]
    }
   ],
   "source": [
    "%%R\n",
    "covariance(mutation_graph, rewards[1,], rewards[3,])"
   ]
  },
  {
   "cell_type": "markdown",
   "id": "2e166395-063f-487a-95d7-7b5c2536c47e",
   "metadata": {},
   "source": [
    "Covariane between \"ton\" branch length:"
   ]
  },
  {
   "cell_type": "code",
   "execution_count": 56,
   "id": "3825b510-d083-4818-a92a-45c291c0caaa",
   "metadata": {},
   "outputs": [],
   "source": [
    "%%R -o cov_mat\n",
    "cov_mat <- matrix(nrow=n-1,ncol=n-1)\n",
    "\n",
    "for (i in 1:(n-1)) {\n",
    "    for (j in 1:(n-1)) {\n",
    "        cov_mat[i, j] <- covariance(mutation_graph, rewards[i,], rewards[j,])\n",
    "    }\n",
    "}"
   ]
  },
  {
   "cell_type": "code",
   "execution_count": 57,
   "id": "89002602-148d-4926-a63b-a0c3ebe41ebc",
   "metadata": {},
   "outputs": [
    {
     "data": {
      "image/png": "[encoded data removed]",
      "text/plain": [
       "<Figure size 504x360 with 2 Axes>"
      ]
     },
     "metadata": {
      "image/png": {
       "height": 305,
       "width": 395
      }
     },
     "output_type": "display_data"
    }
   ],
   "source": [
    "plt.subplots(1, 1, figsize=(7, 5))\n",
    "ticks = list(range(1,int(n)))\n",
    "ax = sns.heatmap(cov_mat, cmap=\"PiYG\", \n",
    "                annot=True,\n",
    "                center=0,\n",
    "                yticklabels=ticks,\n",
    "                xticklabels=ticks\n",
    "                )\n",
    "ax.invert_yaxis()"
   ]
  },
  {
   "cell_type": "markdown",
   "id": "36d74219-cefe-4156-8948-46523474de62",
   "metadata": {},
   "source": [
    "In the discrete version, the covariances between tons are the same, but the variance with the same ton between loci (diagonal) is different. The reason must be that the ton variance is much bigger in the discrete version, and the between-locus same-ton variance is almost the same as the ton variance. But still, the part covaries is the same. "
   ]
  },
  {
   "cell_type": "markdown",
   "id": "6c47e147-ca57-45c4-bde2-310db9611c9e",
   "metadata": {},
   "source": [
    "Distributions of each \"ton\":"
   ]
  },
  {
   "cell_type": "code",
   "execution_count": 68,
   "id": "ffe78c0f-4df3-44ba-bc7a-03ae04a61daf",
   "metadata": {},
   "outputs": [],
   "source": [
    "%%R -o result\n",
    "\n",
    "result = data.frame()\n",
    "for (i in 1:(dim(rewards)[1]-1)) {\n",
    "    x <- seq(from = 0, to = 4, by = 0.01)\n",
    "    pdf <- dph(x, reward_transform(mutation_graph, rewards[i, ]))\n",
    "    df <- data.frame(prob = pdf, t=x, ton=i)\n",
    "    result <- rbind(result, df)\n",
    "}\n",
    "#result %>% ggplot(aes(y=prob, x=t, color=ton, group=ton)) + geom_line(size=1)"
   ]
  },
  {
   "cell_type": "code",
   "execution_count": 69,
   "id": "42ba3c7f-f2e7-4a50-884d-17aae59c8969",
   "metadata": {
    "tags": []
   },
   "outputs": [
    {
     "data": {
      "image/png": "[encoded data removed]",
      "text/plain": [
       "<Figure size 432x288 with 1 Axes>"
      ]
     },
     "metadata": {
      "image/png": {
       "height": 266,
       "width": 395
      }
     },
     "output_type": "display_data"
    }
   ],
   "source": [
    "sns.lineplot(data=result, y='prob', x='t', hue='ton', palette='Set1')\n",
    "sns.despine()"
   ]
  },
  {
   "cell_type": "markdown",
   "id": "7ed6b0b0-2550-4e3d-aa5f-8860ea3509dc",
   "metadata": {},
   "source": [
    "Compute expectations from the distributions:"
   ]
  },
  {
   "cell_type": "code",
   "execution_count": 62,
   "id": "9a6d558f-76e5-4828-9766-b8d350f65a57",
   "metadata": {},
   "outputs": [
    {
     "name": "stdout",
     "output_type": "stream",
     "text": [
      "[1] 1.9991789 0.9991819 0.6658514\n"
     ]
    }
   ],
   "source": [
    "%%R -o sfs\n",
    "ctx <- distribution_context(mutation_graph,1000)\n",
    "prev_size <- 0\n",
    "while (distribution_context_state(ctx)$cdf < 0.999) { \n",
    "    distribution_context_step(ctx)\n",
    "}\n",
    "expected_visits <- distribution_context_accumulated_visiting_time(ctx)\n",
    "sfs <- sapply(1:(dim(rewards)[1]-1), function(i) sum(expected_visits * rewards[i,]))\n",
    "sfs"
   ]
  },
  {
   "cell_type": "code",
   "execution_count": 63,
   "id": "62f2e89b-e294-4025-9135-41765a6034dc",
   "metadata": {
    "tags": []
   },
   "outputs": [
    {
     "data": {
      "image/png": "[encoded data removed]",
      "text/plain": [
       "<Figure size 432x288 with 1 Axes>"
      ]
     },
     "metadata": {
      "image/png": {
       "height": 251,
       "width": 380
      }
     },
     "output_type": "display_data"
    }
   ],
   "source": [
    "sns.barplot(x=list(range(1, len(sfs)+1)), y=sfs)\n",
    "sns.despine()"
   ]
  },
  {
   "cell_type": "code",
   "execution_count": null,
   "id": "253f4a91-fc6f-4f4d-9157-934e0a41d28f",
   "metadata": {},
   "outputs": [],
   "source": []
  }
 ],
 "metadata": {
  "kernelspec": {
   "display_name": "Python 3 (ipykernel)",
   "language": "python",
   "name": "python3"
  },
  "language_info": {
   "codemirror_mode": {
    "name": "ipython",
    "version": 3
   },
   "file_extension": ".py",
   "mimetype": "text/x-python",
   "name": "python",
   "nbconvert_exporter": "python",
   "pygments_lexer": "ipython3",
   "version": "3.10.2"
  }
 },
 "nbformat": 4,
 "nbformat_minor": 5
}
