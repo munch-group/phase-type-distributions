{
 "cells": [
  {
   "cell_type": "markdown",
   "id": "157621e5",
   "metadata": {
    "tags": []
   },
   "source": [
    "# Showcase for ptdalgorithms"
   ]
  },
  {
   "cell_type": "markdown",
   "id": "d969eb05",
   "metadata": {},
   "source": [
    "Python header:"
   ]
  },
  {
   "cell_type": "code",
   "execution_count": 363,
   "id": "9801ed3e",
   "metadata": {},
   "outputs": [
    {
     "name": "stdout",
     "output_type": "stream",
     "text": [
      "The rpy2.ipython extension is already loaded. To reload it, use:\n",
      "  %reload_ext rpy2.ipython\n"
     ]
    }
   ],
   "source": [
    "%load_ext rpy2.ipython\n",
    "\n",
    "from IPython.display import Image\n",
    "from graphviz import Digraph\n",
    "import numpy as np\n",
    "import pandas as pd\n",
    "import matplotlib.pyplot as plt\n",
    "import seaborn as sns\n",
    "sns.set()\n",
    "sns.set_style('ticks')\n",
    "from matplotlib_inline.backend_inline import set_matplotlib_formats\n",
    "set_matplotlib_formats('retina', 'png')\n",
    "\n",
    "def plot_graph(gam, constrained=True, size='10'):\n",
    "\n",
    "    constrained = constrained and 'true' or 'false'\n",
    "    \n",
    "    states, sim, ipv = np.array(gam[0]), np.array(gam[1]), np.array(gam[2])\n",
    "\n",
    "    states = np.array(states)\n",
    "    states = np.append(states, np.array([[9]*len(ipv)]), axis=0)\n",
    "    \n",
    "    # add the missing row and col to SIM\n",
    "    rates = np.r_[np.c_[sim, -sim.sum(axis=1)], np.zeros((1, len(sim)+1))]\n",
    "    \n",
    "    dot = Digraph()\n",
    "    dot.node('S', 'S')\n",
    "    dot.node(str(len(states)-1), 'Absorbing')    \n",
    "    for i in range(0, len(states)-1):\n",
    "        dot.node(str(i), str(states[i]))\n",
    "    for i in range(len(ipv)):\n",
    "        if ipv[i]:\n",
    "            dot.edge('S', str(i), constraint=constrained, label=str(ipv[i]))\n",
    "    for i in range(len(states)):\n",
    "        for j in range(len(states)):\n",
    "            if i != j and rates[i, j] > 0:\n",
    "                dot.edge(str(i), str(j), constraint=constrained, label=str(rates[i, j]))\n",
    "    dot.graph_attr['size'] = size                \n",
    "    return dot\n"
   ]
  },
  {
   "cell_type": "markdown",
   "id": "70b957d4",
   "metadata": {},
   "source": [
    "R header:"
   ]
  },
  {
   "cell_type": "code",
   "execution_count": 364,
   "id": "37fc70fa",
   "metadata": {
    "tags": []
   },
   "outputs": [
    {
     "name": "stderr",
     "output_type": "stream",
     "text": [
      "R[write to console]: Skipping install of 'ptdalgorithms' from a github remote, the SHA1 (0c1be222) has not changed since last install.\n",
      "  Use `force = TRUE` to force installation\n",
      "\n"
     ]
    }
   ],
   "source": [
    "%%R\n",
    "library(tidyverse)\n",
    "library(devtools)\n",
    "#remove.packages(\"ptdalgorithms\")\n",
    "devtools::install_github(\"TobiasRoikjer/PtDAlgorithms\")\n",
    "library(ptdalgorithms)"
   ]
  },
  {
   "cell_type": "markdown",
   "id": "453ec6af",
   "metadata": {},
   "source": [
    "## Standard coalescent"
   ]
  },
  {
   "cell_type": "markdown",
   "id": "eab62366",
   "metadata": {},
   "source": [
    "If you already have the subintensity matrix and initial probability vector:"
   ]
  },
  {
   "cell_type": "code",
   "execution_count": 365,
   "id": "7a7b48b2",
   "metadata": {},
   "outputs": [
    {
     "name": "stdout",
     "output_type": "stream",
     "text": [
      "     [,1] [,2] [,3] [,4]\n",
      "[1,]   -6    6    0    0\n",
      "[2,]    0   -3    1    2\n",
      "[3,]    0    0   -1    0\n",
      "[4,]    0    0    0   -1\n"
     ]
    }
   ],
   "source": [
    "%%R -o sim -o ipv\n",
    "sim = matrix(c(-6, 6, 0, 0, \n",
    "               0, -3, 1, 2,\n",
    "               0, 0, -1, 0,\n",
    "               0, 0, 0, -1), nrow=4, ncol=4, byrow = TRUE)\n",
    "ipv = c(1, 0, 0, 0)\n",
    "sim"
   ]
  },
  {
   "cell_type": "code",
   "execution_count": 366,
   "id": "c30d455a",
   "metadata": {},
   "outputs": [],
   "source": [
    "%%R \n",
    "graph <- matrix_as_graph(ipv, sim)"
   ]
  },
  {
   "cell_type": "markdown",
   "id": "146d52a9",
   "metadata": {},
   "source": [
    "Note that the state vectors are ofcause undefined (all zero) when constructing the graph this way:"
   ]
  },
  {
   "cell_type": "code",
   "execution_count": 367,
   "id": "0814e96e",
   "metadata": {},
   "outputs": [
    {
     "name": "stdout",
     "output_type": "stream",
     "text": [
      "$states\n",
      "     [,1]\n",
      "[1,]    0\n",
      "[2,]    0\n",
      "[3,]    0\n",
      "[4,]    0\n",
      "\n",
      "$SIM\n",
      "     [,1] [,2] [,3] [,4]\n",
      "[1,]   -6    6    0    0\n",
      "[2,]    0   -3    1    2\n",
      "[3,]    0    0   -1    0\n",
      "[4,]    0    0    0   -1\n",
      "\n",
      "$IPV\n",
      "[1] 1 0 0 0\n",
      "\n"
     ]
    }
   ],
   "source": [
    "%%R\n",
    "graph_as_matrix(graph)"
   ]
  },
  {
   "cell_type": "code",
   "execution_count": 368,
   "id": "141ca6ef",
   "metadata": {},
   "outputs": [
    {
     "name": "stdout",
     "output_type": "stream",
     "text": [
      "[1] 0.5362689\n"
     ]
    }
   ],
   "source": [
    "%%R\n",
    "dph(0.9, graph)"
   ]
  },
  {
   "cell_type": "markdown",
   "id": "b673299e",
   "metadata": {},
   "source": [
    "If you want to generate the state space:"
   ]
  },
  {
   "cell_type": "code",
   "execution_count": 369,
   "id": "67315ff9",
   "metadata": {},
   "outputs": [
    {
     "name": "stdout",
     "output_type": "stream",
     "text": [
      "[1] 6\n"
     ]
    }
   ],
   "source": [
    "%%R -o gam -o n -o graph\n",
    "n <- 4\n",
    "  \n",
    "state_vector_length <- n\n",
    "graph <- create_graph(state_vector_length)\n",
    "starting_vertex <- vertex_at(graph, 1)\n",
    "initial_state <- rep(0, n)\n",
    "initial_state[1] <- n\n",
    "\n",
    "add_edge(\n",
    "  starting_vertex,\n",
    "  create_vertex(graph, initial_state),\n",
    "  1\n",
    ")\n",
    "index <- 2\n",
    "\n",
    "while (index <= vertices_length(graph)) {\n",
    "  vertex <- vertex_at(graph, index)\n",
    "  \n",
    "  # loop over all classes of lineages\n",
    "  for (i in 1:n) {\n",
    "    for (j in i:n) {\n",
    "      state <- vertex$state\n",
    "      \n",
    "      # if same class, there need to be at least two to coalesce\n",
    "      if (i == j) {\n",
    "        if (state[i] < 2) {\n",
    "          next;\n",
    "        }\n",
    "        # coal rate\n",
    "        rate <- state[i] * (state[i] - 1) / 2\n",
    "      } else {\n",
    "        # else at least one in each class to coalesce\n",
    "        if (state[i] < 1 || state[j] < 1) {\n",
    "          next;\n",
    "        }\n",
    "        # number of combinations\n",
    "        rate <- state[i] * state[j]\n",
    "      }\n",
    "      \n",
    "      # copy state\n",
    "      child_state <- state\n",
    "      # update child state\n",
    "      child_state[i] <- child_state[i] - 1\n",
    "      child_state[j] <- child_state[j] - 1\n",
    "      child_state[i+j] <- child_state[i+j] + 1\n",
    "      \n",
    "      add_edge(\n",
    "          vertex,\n",
    "          find_or_create_vertex(graph, child_state),\n",
    "          rate, c(rate)\n",
    "        )\n",
    "    }\n",
    "  }\n",
    "      \n",
    "  index <- index + 1\n",
    "}\n",
    "\n",
    "# states <- t(sapply(1:vertices_length(graph), function(index) vertex_at(graph, index)$state ))\n",
    "# ipv <- graph_as_matrix(graph)$IPV\n",
    "# sim <- graph_as_matrix(graph)$SIM\n",
    "\n",
    "gam <- graph_as_matrix(graph)\n",
    "vertices_length(graph)"
   ]
  },
  {
   "cell_type": "code",
   "execution_count": 370,
   "id": "2a36bd85",
   "metadata": {},
   "outputs": [
    {
     "data": {
      "image/svg+xml": [
       "<?xml version=\"1.0\" encoding=\"UTF-8\" standalone=\"no\"?>\n",
       "<!DOCTYPE svg PUBLIC \"-//W3C//DTD SVG 1.1//EN\"\n",
       " \"http://www.w3.org/Graphics/SVG/1.1/DTD/svg11.dtd\">\n",
       "<!-- Generated by graphviz version 3.0.0 (0)\n",
       " -->\n",
       "<!-- Pages: 1 -->\n",
       "<svg width=\"232pt\" height=\"392pt\"\n",
       " viewBox=\"0.00 0.00 231.69 392.00\" xmlns=\"http://www.w3.org/2000/svg\" xmlns:xlink=\"http://www.w3.org/1999/xlink\">\n",
       "<g id=\"graph0\" class=\"graph\" transform=\"scale(1 1) rotate(0) translate(4 388)\">\n",
       "<polygon fill=\"white\" stroke=\"transparent\" points=\"-4,4 -4,-388 227.69,-388 227.69,4 -4,4\"/>\n",
       "<!-- S -->\n",
       "<g id=\"node1\" class=\"node\">\n",
       "<title>S</title>\n",
       "<ellipse fill=\"none\" stroke=\"black\" cx=\"111.35\" cy=\"-366\" rx=\"27\" ry=\"18\"/>\n",
       "<text text-anchor=\"middle\" x=\"111.35\" y=\"-362.3\" font-family=\"Times,serif\" font-size=\"14.00\">S</text>\n",
       "</g>\n",
       "<!-- 0 -->\n",
       "<g id=\"node3\" class=\"node\">\n",
       "<title>0</title>\n",
       "<ellipse fill=\"none\" stroke=\"black\" cx=\"111.35\" cy=\"-279\" rx=\"51.19\" ry=\"18\"/>\n",
       "<text text-anchor=\"middle\" x=\"111.35\" y=\"-275.3\" font-family=\"Times,serif\" font-size=\"14.00\">[4. 0. 0. 0.]</text>\n",
       "</g>\n",
       "<!-- S&#45;&gt;0 -->\n",
       "<g id=\"edge1\" class=\"edge\">\n",
       "<title>S&#45;&gt;0</title>\n",
       "<path fill=\"none\" stroke=\"black\" d=\"M111.35,-347.8C111.35,-336.16 111.35,-320.55 111.35,-307.24\"/>\n",
       "<polygon fill=\"black\" stroke=\"black\" points=\"114.85,-307.18 111.35,-297.18 107.85,-307.18 114.85,-307.18\"/>\n",
       "<text text-anchor=\"middle\" x=\"120.35\" y=\"-318.8\" font-family=\"Times,serif\" font-size=\"14.00\">1.0</text>\n",
       "</g>\n",
       "<!-- 4 -->\n",
       "<g id=\"node2\" class=\"node\">\n",
       "<title>4</title>\n",
       "<ellipse fill=\"none\" stroke=\"black\" cx=\"111.35\" cy=\"-18\" rx=\"48.19\" ry=\"18\"/>\n",
       "<text text-anchor=\"middle\" x=\"111.35\" y=\"-14.3\" font-family=\"Times,serif\" font-size=\"14.00\">Absorbing</text>\n",
       "</g>\n",
       "<!-- 1 -->\n",
       "<g id=\"node4\" class=\"node\">\n",
       "<title>1</title>\n",
       "<ellipse fill=\"none\" stroke=\"black\" cx=\"111.35\" cy=\"-192\" rx=\"51.19\" ry=\"18\"/>\n",
       "<text text-anchor=\"middle\" x=\"111.35\" y=\"-188.3\" font-family=\"Times,serif\" font-size=\"14.00\">[2. 1. 0. 0.]</text>\n",
       "</g>\n",
       "<!-- 0&#45;&gt;1 -->\n",
       "<g id=\"edge2\" class=\"edge\">\n",
       "<title>0&#45;&gt;1</title>\n",
       "<path fill=\"none\" stroke=\"black\" d=\"M111.35,-260.8C111.35,-249.16 111.35,-233.55 111.35,-220.24\"/>\n",
       "<polygon fill=\"black\" stroke=\"black\" points=\"114.85,-220.18 111.35,-210.18 107.85,-220.18 114.85,-220.18\"/>\n",
       "<text text-anchor=\"middle\" x=\"120.35\" y=\"-231.8\" font-family=\"Times,serif\" font-size=\"14.00\">6.0</text>\n",
       "</g>\n",
       "<!-- 2 -->\n",
       "<g id=\"node5\" class=\"node\">\n",
       "<title>2</title>\n",
       "<ellipse fill=\"none\" stroke=\"black\" cx=\"51.35\" cy=\"-105\" rx=\"51.19\" ry=\"18\"/>\n",
       "<text text-anchor=\"middle\" x=\"51.35\" y=\"-101.3\" font-family=\"Times,serif\" font-size=\"14.00\">[0. 2. 0. 0.]</text>\n",
       "</g>\n",
       "<!-- 1&#45;&gt;2 -->\n",
       "<g id=\"edge3\" class=\"edge\">\n",
       "<title>1&#45;&gt;2</title>\n",
       "<path fill=\"none\" stroke=\"black\" d=\"M99.49,-174.21C90.78,-161.87 78.8,-144.89 68.97,-130.97\"/>\n",
       "<polygon fill=\"black\" stroke=\"black\" points=\"71.8,-128.91 63.17,-122.76 66.08,-132.95 71.8,-128.91\"/>\n",
       "<text text-anchor=\"middle\" x=\"94.35\" y=\"-144.8\" font-family=\"Times,serif\" font-size=\"14.00\">1.0</text>\n",
       "</g>\n",
       "<!-- 3 -->\n",
       "<g id=\"node6\" class=\"node\">\n",
       "<title>3</title>\n",
       "<ellipse fill=\"none\" stroke=\"black\" cx=\"172.35\" cy=\"-105\" rx=\"51.19\" ry=\"18\"/>\n",
       "<text text-anchor=\"middle\" x=\"172.35\" y=\"-101.3\" font-family=\"Times,serif\" font-size=\"14.00\">[1. 0. 1. 0.]</text>\n",
       "</g>\n",
       "<!-- 1&#45;&gt;3 -->\n",
       "<g id=\"edge4\" class=\"edge\">\n",
       "<title>1&#45;&gt;3</title>\n",
       "<path fill=\"none\" stroke=\"black\" d=\"M123.4,-174.21C132.25,-161.87 144.43,-144.89 154.43,-130.97\"/>\n",
       "<polygon fill=\"black\" stroke=\"black\" points=\"157.33,-132.92 160.32,-122.76 151.64,-128.84 157.33,-132.92\"/>\n",
       "<text text-anchor=\"middle\" x=\"155.35\" y=\"-144.8\" font-family=\"Times,serif\" font-size=\"14.00\">2.0</text>\n",
       "</g>\n",
       "<!-- 2&#45;&gt;4 -->\n",
       "<g id=\"edge5\" class=\"edge\">\n",
       "<title>2&#45;&gt;4</title>\n",
       "<path fill=\"none\" stroke=\"black\" d=\"M63.2,-87.21C71.97,-74.79 84.05,-57.67 93.91,-43.7\"/>\n",
       "<polygon fill=\"black\" stroke=\"black\" points=\"96.81,-45.66 99.72,-35.47 91.09,-41.62 96.81,-45.66\"/>\n",
       "<text text-anchor=\"middle\" x=\"94.35\" y=\"-57.8\" font-family=\"Times,serif\" font-size=\"14.00\">1.0</text>\n",
       "</g>\n",
       "<!-- 3&#45;&gt;4 -->\n",
       "<g id=\"edge6\" class=\"edge\">\n",
       "<title>3&#45;&gt;4</title>\n",
       "<path fill=\"none\" stroke=\"black\" d=\"M160.29,-87.21C151.38,-74.79 139.1,-57.67 129.07,-43.7\"/>\n",
       "<polygon fill=\"black\" stroke=\"black\" points=\"131.84,-41.55 123.16,-35.47 126.15,-45.63 131.84,-41.55\"/>\n",
       "<text text-anchor=\"middle\" x=\"155.35\" y=\"-57.8\" font-family=\"Times,serif\" font-size=\"14.00\">1.0</text>\n",
       "</g>\n",
       "</g>\n",
       "</svg>\n"
      ],
      "text/plain": [
       "<graphviz.graphs.Digraph at 0x16c721d50>"
      ]
     },
     "execution_count": 370,
     "metadata": {},
     "output_type": "execute_result"
    }
   ],
   "source": [
    "plot_graph(gam)"
   ]
  },
  {
   "cell_type": "markdown",
   "id": "7cc09561",
   "metadata": {},
   "source": [
    "As matrices:"
   ]
  },
  {
   "cell_type": "code",
   "execution_count": 371,
   "id": "8fa9bf2f",
   "metadata": {},
   "outputs": [
    {
     "name": "stdout",
     "output_type": "stream",
     "text": [
      "$states\n",
      "     [,1] [,2] [,3] [,4]\n",
      "[1,]    4    0    0    0\n",
      "[2,]    2    1    0    0\n",
      "[3,]    0    2    0    0\n",
      "[4,]    1    0    1    0\n",
      "\n",
      "$SIM\n",
      "     [,1] [,2] [,3] [,4]\n",
      "[1,]   -6    6    0    0\n",
      "[2,]    0   -3    1    2\n",
      "[3,]    0    0   -1    0\n",
      "[4,]    0    0    0   -1\n",
      "\n",
      "$IPV\n",
      "[1] 1 0 0 0\n",
      "\n"
     ]
    }
   ],
   "source": [
    "%%R -o states -o sim\n",
    "matrices <- graph_as_matrix(graph)\n",
    "states <- matrices$states\n",
    "sim <- matrices$SIM\n",
    "matrices"
   ]
  },
  {
   "cell_type": "markdown",
   "id": "5491c137",
   "metadata": {},
   "source": [
    "Invert subintensity matrix to get Green matrix:"
   ]
  },
  {
   "cell_type": "code",
   "execution_count": 372,
   "id": "7789df73",
   "metadata": {},
   "outputs": [
    {
     "name": "stdout",
     "output_type": "stream",
     "text": [
      "          [,1]      [,2]      [,3]      [,4]\n",
      "[1,] 0.1666667 0.3333333 0.3333333 0.6666667\n",
      "[2,] 0.0000000 0.3333333 0.3333333 0.6666667\n",
      "[3,] 0.0000000 0.0000000 1.0000000 0.0000000\n",
      "[4,] 0.0000000 0.0000000 0.0000000 1.0000000\n"
     ]
    }
   ],
   "source": [
    "%%R\n",
    "U <- -solve(matrices$SIM)\n",
    "U"
   ]
  },
  {
   "cell_type": "markdown",
   "id": "a06dcb53",
   "metadata": {},
   "source": [
    "Compute expectation from matrices:"
   ]
  },
  {
   "cell_type": "code",
   "execution_count": 373,
   "id": "ba176207",
   "metadata": {},
   "outputs": [
    {
     "name": "stdout",
     "output_type": "stream",
     "text": [
      "     [,1]\n",
      "[1,]  1.5\n"
     ]
    }
   ],
   "source": [
    "%%R\n",
    "matrices$IPV %*% U %*% rep(1, length(matrices$IPV))"
   ]
  },
  {
   "cell_type": "markdown",
   "id": "b366d929",
   "metadata": {},
   "source": [
    "Compute moments:"
   ]
  },
  {
   "cell_type": "code",
   "execution_count": 374,
   "id": "4081ad04",
   "metadata": {},
   "outputs": [
    {
     "name": "stdout",
     "output_type": "stream",
     "text": [
      "[1] 1.5\n"
     ]
    },
    {
     "name": "stderr",
     "output_type": "stream",
     "text": [
      "INFO: building reward compute graph...\n"
     ]
    }
   ],
   "source": [
    "%%R\n",
    "expectation(graph)"
   ]
  },
  {
   "cell_type": "code",
   "execution_count": 375,
   "id": "52d44d84",
   "metadata": {},
   "outputs": [
    {
     "name": "stdout",
     "output_type": "stream",
     "text": [
      "[1] 1.500000 1.500000 1.333333 1.000000 1.000000 0.000000\n"
     ]
    }
   ],
   "source": [
    "%%R\n",
    "expected_waiting_time(graph)"
   ]
  },
  {
   "cell_type": "code",
   "execution_count": 376,
   "id": "feac38a7",
   "metadata": {},
   "outputs": [
    {
     "name": "stdout",
     "output_type": "stream",
     "text": [
      "[1] 1.138889\n"
     ]
    }
   ],
   "source": [
    "%%R\n",
    "variance(graph)"
   ]
  },
  {
   "cell_type": "code",
   "execution_count": 377,
   "id": "bcf3655a",
   "metadata": {},
   "outputs": [
    {
     "name": "stdout",
     "output_type": "stream",
     "text": [
      "[1] 1.138889 1.138889 1.111111 1.000000 1.000000 0.000000\n"
     ]
    }
   ],
   "source": [
    "%%R\n",
    "2 * expected_waiting_time(graph, expected_waiting_time(graph)) - expected_waiting_time(graph) * expected_waiting_time(graph)"
   ]
  },
  {
   "cell_type": "code",
   "execution_count": 378,
   "id": "6a431795",
   "metadata": {},
   "outputs": [
    {
     "name": "stdout",
     "output_type": "stream",
     "text": [
      "[1]  1.500000  3.388889 10.583333 42.907407\n"
     ]
    }
   ],
   "source": [
    "%%R\n",
    "moments(graph, 4)"
   ]
  },
  {
   "cell_type": "markdown",
   "id": "4629d902",
   "metadata": {},
   "source": [
    "Marginal expectations using rewards:"
   ]
  },
  {
   "cell_type": "code",
   "execution_count": 379,
   "id": "8018e9af",
   "metadata": {},
   "outputs": [
    {
     "name": "stdout",
     "output_type": "stream",
     "text": [
      "     [,1] [,2] [,3] [,4] [,5] [,6]\n",
      "[1,]    0    4    2    0    1    0\n",
      "[2,]    0    0    1    2    0    0\n",
      "[3,]    0    0    0    0    1    0\n",
      "[4,]    0    0    0    0    0    1\n"
     ]
    }
   ],
   "source": [
    "%%R\n",
    "state_matrix <- sapply(1:vertices_length(graph), function(index) vertex_at(graph, index)$state )\n",
    "state_matrix"
   ]
  },
  {
   "cell_type": "markdown",
   "id": "10636a91",
   "metadata": {},
   "source": [
    "Rows happens to be our reward vectors. E.g. singleton rewards:"
   ]
  },
  {
   "cell_type": "code",
   "execution_count": 380,
   "id": "303e4276",
   "metadata": {},
   "outputs": [
    {
     "name": "stdout",
     "output_type": "stream",
     "text": [
      "[1] 0 4 2 0 1 0\n"
     ]
    }
   ],
   "source": [
    "%%R\n",
    "rewards <- sapply(1:vertices_length(graph), function(index) vertex_at(graph, index)$state )\n",
    "singletons <- rewards[1,]\n",
    "doubletons <- rewards[2,]\n",
    "tripletons <- rewards[3,]\n",
    "singletons"
   ]
  },
  {
   "cell_type": "markdown",
   "id": "381b7cdf",
   "metadata": {},
   "source": [
    "Expected tripleton branch length:"
   ]
  },
  {
   "cell_type": "code",
   "execution_count": 381,
   "id": "93c7bc1f",
   "metadata": {},
   "outputs": [
    {
     "name": "stdout",
     "output_type": "stream",
     "text": [
      "[1] 0.6666667\n"
     ]
    }
   ],
   "source": [
    "%%R\n",
    "expectation(graph, tripletons)"
   ]
  },
  {
   "cell_type": "markdown",
   "id": "f8ffaa4f",
   "metadata": {},
   "source": [
    "SFS:"
   ]
  },
  {
   "cell_type": "code",
   "execution_count": 382,
   "id": "aab5692f",
   "metadata": {},
   "outputs": [
    {
     "name": "stdout",
     "output_type": "stream",
     "text": [
      "[1] 2.0000000 1.0000000 0.6666667\n"
     ]
    }
   ],
   "source": [
    "%%R -o sfs\n",
    "sfs <- sapply(1:(dim(rewards)[1]-1), function(i) expectation(graph, rewards[i,]))\n",
    "sfs"
   ]
  },
  {
   "cell_type": "code",
   "execution_count": 383,
   "id": "1074eb69",
   "metadata": {},
   "outputs": [
    {
     "data": {
      "image/png": "[encoded data removed]",
      "text/plain": [
       "<Figure size 432x288 with 1 Axes>"
      ]
     },
     "metadata": {
      "image/png": {
       "height": 251,
       "width": 380
      }
     },
     "output_type": "display_data"
    }
   ],
   "source": [
    "sns.barplot(x=list(range(1, len(sfs)+1)), y=sfs)\n",
    "sns.despine()"
   ]
  },
  {
   "cell_type": "code",
   "execution_count": 384,
   "id": "37a31acc-8bc7-44f9-a93e-f5a36ac457c0",
   "metadata": {},
   "outputs": [
    {
     "data": {
      "image/svg+xml": [
       "<?xml version=\"1.0\" encoding=\"UTF-8\" standalone=\"no\"?>\n",
       "<!DOCTYPE svg PUBLIC \"-//W3C//DTD SVG 1.1//EN\"\n",
       " \"http://www.w3.org/Graphics/SVG/1.1/DTD/svg11.dtd\">\n",
       "<!-- Generated by graphviz version 3.0.0 (0)\n",
       " -->\n",
       "<!-- Pages: 1 -->\n",
       "<svg width=\"232pt\" height=\"392pt\"\n",
       " viewBox=\"0.00 0.00 231.69 392.00\" xmlns=\"http://www.w3.org/2000/svg\" xmlns:xlink=\"http://www.w3.org/1999/xlink\">\n",
       "<g id=\"graph0\" class=\"graph\" transform=\"scale(1 1) rotate(0) translate(4 388)\">\n",
       "<polygon fill=\"white\" stroke=\"transparent\" points=\"-4,4 -4,-388 227.69,-388 227.69,4 -4,4\"/>\n",
       "<!-- S -->\n",
       "<g id=\"node1\" class=\"node\">\n",
       "<title>S</title>\n",
       "<ellipse fill=\"none\" stroke=\"black\" cx=\"111.35\" cy=\"-366\" rx=\"27\" ry=\"18\"/>\n",
       "<text text-anchor=\"middle\" x=\"111.35\" y=\"-362.3\" font-family=\"Times,serif\" font-size=\"14.00\">S</text>\n",
       "</g>\n",
       "<!-- 0 -->\n",
       "<g id=\"node3\" class=\"node\">\n",
       "<title>0</title>\n",
       "<ellipse fill=\"none\" stroke=\"black\" cx=\"111.35\" cy=\"-279\" rx=\"51.19\" ry=\"18\"/>\n",
       "<text text-anchor=\"middle\" x=\"111.35\" y=\"-275.3\" font-family=\"Times,serif\" font-size=\"14.00\">[4. 0. 0. 0.]</text>\n",
       "</g>\n",
       "<!-- S&#45;&gt;0 -->\n",
       "<g id=\"edge1\" class=\"edge\">\n",
       "<title>S&#45;&gt;0</title>\n",
       "<path fill=\"none\" stroke=\"black\" d=\"M111.35,-347.8C111.35,-336.16 111.35,-320.55 111.35,-307.24\"/>\n",
       "<polygon fill=\"black\" stroke=\"black\" points=\"114.85,-307.18 111.35,-297.18 107.85,-307.18 114.85,-307.18\"/>\n",
       "<text text-anchor=\"middle\" x=\"120.35\" y=\"-318.8\" font-family=\"Times,serif\" font-size=\"14.00\">1.0</text>\n",
       "</g>\n",
       "<!-- 4 -->\n",
       "<g id=\"node2\" class=\"node\">\n",
       "<title>4</title>\n",
       "<ellipse fill=\"none\" stroke=\"black\" cx=\"111.35\" cy=\"-18\" rx=\"48.19\" ry=\"18\"/>\n",
       "<text text-anchor=\"middle\" x=\"111.35\" y=\"-14.3\" font-family=\"Times,serif\" font-size=\"14.00\">Absorbing</text>\n",
       "</g>\n",
       "<!-- 1 -->\n",
       "<g id=\"node4\" class=\"node\">\n",
       "<title>1</title>\n",
       "<ellipse fill=\"none\" stroke=\"black\" cx=\"111.35\" cy=\"-192\" rx=\"51.19\" ry=\"18\"/>\n",
       "<text text-anchor=\"middle\" x=\"111.35\" y=\"-188.3\" font-family=\"Times,serif\" font-size=\"14.00\">[2. 1. 0. 0.]</text>\n",
       "</g>\n",
       "<!-- 0&#45;&gt;1 -->\n",
       "<g id=\"edge2\" class=\"edge\">\n",
       "<title>0&#45;&gt;1</title>\n",
       "<path fill=\"none\" stroke=\"black\" d=\"M111.35,-260.8C111.35,-249.16 111.35,-233.55 111.35,-220.24\"/>\n",
       "<polygon fill=\"black\" stroke=\"black\" points=\"114.85,-220.18 111.35,-210.18 107.85,-220.18 114.85,-220.18\"/>\n",
       "<text text-anchor=\"middle\" x=\"120.35\" y=\"-231.8\" font-family=\"Times,serif\" font-size=\"14.00\">6.0</text>\n",
       "</g>\n",
       "<!-- 2 -->\n",
       "<g id=\"node5\" class=\"node\">\n",
       "<title>2</title>\n",
       "<ellipse fill=\"none\" stroke=\"black\" cx=\"51.35\" cy=\"-105\" rx=\"51.19\" ry=\"18\"/>\n",
       "<text text-anchor=\"middle\" x=\"51.35\" y=\"-101.3\" font-family=\"Times,serif\" font-size=\"14.00\">[0. 2. 0. 0.]</text>\n",
       "</g>\n",
       "<!-- 1&#45;&gt;2 -->\n",
       "<g id=\"edge3\" class=\"edge\">\n",
       "<title>1&#45;&gt;2</title>\n",
       "<path fill=\"none\" stroke=\"black\" d=\"M99.49,-174.21C90.78,-161.87 78.8,-144.89 68.97,-130.97\"/>\n",
       "<polygon fill=\"black\" stroke=\"black\" points=\"71.8,-128.91 63.17,-122.76 66.08,-132.95 71.8,-128.91\"/>\n",
       "<text text-anchor=\"middle\" x=\"94.35\" y=\"-144.8\" font-family=\"Times,serif\" font-size=\"14.00\">1.0</text>\n",
       "</g>\n",
       "<!-- 3 -->\n",
       "<g id=\"node6\" class=\"node\">\n",
       "<title>3</title>\n",
       "<ellipse fill=\"none\" stroke=\"black\" cx=\"172.35\" cy=\"-105\" rx=\"51.19\" ry=\"18\"/>\n",
       "<text text-anchor=\"middle\" x=\"172.35\" y=\"-101.3\" font-family=\"Times,serif\" font-size=\"14.00\">[1. 0. 1. 0.]</text>\n",
       "</g>\n",
       "<!-- 1&#45;&gt;3 -->\n",
       "<g id=\"edge4\" class=\"edge\">\n",
       "<title>1&#45;&gt;3</title>\n",
       "<path fill=\"none\" stroke=\"black\" d=\"M123.4,-174.21C132.25,-161.87 144.43,-144.89 154.43,-130.97\"/>\n",
       "<polygon fill=\"black\" stroke=\"black\" points=\"157.33,-132.92 160.32,-122.76 151.64,-128.84 157.33,-132.92\"/>\n",
       "<text text-anchor=\"middle\" x=\"155.35\" y=\"-144.8\" font-family=\"Times,serif\" font-size=\"14.00\">2.0</text>\n",
       "</g>\n",
       "<!-- 2&#45;&gt;4 -->\n",
       "<g id=\"edge5\" class=\"edge\">\n",
       "<title>2&#45;&gt;4</title>\n",
       "<path fill=\"none\" stroke=\"black\" d=\"M63.2,-87.21C71.97,-74.79 84.05,-57.67 93.91,-43.7\"/>\n",
       "<polygon fill=\"black\" stroke=\"black\" points=\"96.81,-45.66 99.72,-35.47 91.09,-41.62 96.81,-45.66\"/>\n",
       "<text text-anchor=\"middle\" x=\"94.35\" y=\"-57.8\" font-family=\"Times,serif\" font-size=\"14.00\">1.0</text>\n",
       "</g>\n",
       "<!-- 3&#45;&gt;4 -->\n",
       "<g id=\"edge6\" class=\"edge\">\n",
       "<title>3&#45;&gt;4</title>\n",
       "<path fill=\"none\" stroke=\"black\" d=\"M160.29,-87.21C151.38,-74.79 139.1,-57.67 129.07,-43.7\"/>\n",
       "<polygon fill=\"black\" stroke=\"black\" points=\"131.84,-41.55 123.16,-35.47 126.15,-45.63 131.84,-41.55\"/>\n",
       "<text text-anchor=\"middle\" x=\"155.35\" y=\"-57.8\" font-family=\"Times,serif\" font-size=\"14.00\">1.0</text>\n",
       "</g>\n",
       "</g>\n",
       "</svg>\n"
      ],
      "text/plain": [
       "<graphviz.graphs.Digraph at 0x16c723190>"
      ]
     },
     "execution_count": 384,
     "metadata": {},
     "output_type": "execute_result"
    }
   ],
   "source": [
    "\n",
    "\n",
    "plot_graph(gam)"
   ]
  },
  {
   "cell_type": "markdown",
   "id": "393b3b50-a399-4afe-be7e-19ffe65dd06e",
   "metadata": {},
   "source": [
    "# Discrete phase-type distribution"
   ]
  },
  {
   "cell_type": "code",
   "execution_count": 385,
   "id": "71e376a8-f1e3-464f-83ed-ea2cb4ddecae",
   "metadata": {},
   "outputs": [
    {
     "name": "stdout",
     "output_type": "stream",
     "text": [
      "[1] 136\n"
     ]
    }
   ],
   "source": [
    "%%R -o n -o graph\n",
    "n <- 14\n",
    "  \n",
    "state_vector_length <- n\n",
    "graph <- create_graph(state_vector_length)\n",
    "starting_vertex <- vertex_at(graph, 1)\n",
    "initial_state <- rep(0, n)\n",
    "initial_state[1] <- n\n",
    "\n",
    "add_edge(\n",
    "  starting_vertex,\n",
    "  create_vertex(graph, initial_state),\n",
    "  1\n",
    ")\n",
    "index <- 2\n",
    "\n",
    "while (index <= vertices_length(graph)) {\n",
    "  vertex <- vertex_at(graph, index)\n",
    "  \n",
    "  # loop over all classes of lineages\n",
    "  for (i in 1:n) {\n",
    "    for (j in i:n) {\n",
    "      state <- vertex$state\n",
    "      \n",
    "      # if same class, there need to be at least two to coalesce\n",
    "      if (i == j) {\n",
    "        if (state[i] < 2) {\n",
    "          next;\n",
    "        }\n",
    "        # coal rate\n",
    "        rate <- state[i] * (state[i] - 1) / 2\n",
    "      } else {\n",
    "        # else at least one in each class to coalesce\n",
    "        if (state[i] < 1 || state[j] < 1) {\n",
    "          next;\n",
    "        }\n",
    "        # number of combinations\n",
    "        rate <- state[i] * state[j]\n",
    "      }\n",
    "      \n",
    "      # copy state\n",
    "      child_state <- state\n",
    "      # update child state\n",
    "      child_state[i] <- child_state[i] - 1\n",
    "      child_state[j] <- child_state[j] - 1\n",
    "      child_state[i+j] <- child_state[i+j] + 1\n",
    "      \n",
    "      add_edge(\n",
    "          vertex,\n",
    "          find_or_create_vertex(graph, child_state),\n",
    "          rate\n",
    "        )\n",
    "    }\n",
    "  }\n",
    "      \n",
    "  index <- index + 1\n",
    "}\n",
    "\n",
    "vertices_length(graph)"
   ]
  },
  {
   "cell_type": "code",
   "execution_count": 386,
   "id": "ffdefb1c-dc9f-4f04-bf18-4ccdb1182ed6",
   "metadata": {},
   "outputs": [
    {
     "name": "stdout",
     "output_type": "stream",
     "text": [
      " [1] 2.0000000 1.0000000 0.6666667 0.5000000 0.4000000 0.3333333 0.2857143\n",
      " [8] 0.2500000 0.2222222 0.2000000 0.1818182 0.1666667 0.1538462\n"
     ]
    },
    {
     "name": "stderr",
     "output_type": "stream",
     "text": [
      "INFO: building reward compute graph...\n"
     ]
    }
   ],
   "source": [
    "%%R -o sfs\n",
    "\n",
    "\n",
    "make_discrete <- function(mutation_graph, mutation_rate) {\n",
    "\n",
    "    # current nr of states in graph\n",
    "    vlength <- vertices_length(mutation_graph)\n",
    "\n",
    "    # number of fields in state vector (assumes all are the same length)\n",
    "    state_vector_length <- length(vertex_at(graph, 1)$state)\n",
    "\n",
    "    # list state vector fields to reward at each auxiliary node\n",
    "    rewarded_state_vector_indexes <- vector(mode = \"list\", length = state_vector_length)\n",
    "\n",
    "    # loop all but starting node\n",
    "    for (i in 2:vlength) {\n",
    "        vertex <- vertex_at(mutation_graph,i)\n",
    "        if (vertex$rate > 0) { # not absorbing\n",
    "            for (j in 1:length(vertex$state)) {\n",
    "                val <- vertex$state[j]\n",
    "                if (val > 0) { # only ones we may reward\n",
    "                    # add auxilliary node\n",
    "                    mutation_vertex <- create_vertex(mutation_graph, rep(0, state_vector_length))\n",
    "                    add_edge(mutation_vertex, vertex, 1)\n",
    "                    add_edge(vertex, mutation_vertex, mutation_rate*val)\n",
    "\n",
    "                    rewarded_state_vector_indexes[[mutation_vertex$index]] <- c(rewarded_state_vector_indexes[[j]], j)\n",
    "                }\n",
    "            }\n",
    "        }\n",
    "    }\n",
    "    # normalize graph\n",
    "    weights_were_multiplied_with <- normalize_graph(mutation_graph)\n",
    "\n",
    "    # build reward matrix\n",
    "    rewards <- matrix(nrow=vertices_length(mutation_graph),ncol=state_vector_length, 0)\n",
    "    for (state in seq_along(rewarded_state_vector_indexes)) {\n",
    "        for (i in rewarded_state_vector_indexes[[state]]) {\n",
    "            rewards[state, i] <- 1\n",
    "        }\n",
    "    }\n",
    "    return(rewards)\n",
    "}\n",
    "\n",
    "mutation_rate <- 1\n",
    "\n",
    "mutation_graph <- clone_graph(graph)\n",
    "\n",
    "rewards <- make_discrete(mutation_graph, mutation_rate)\n",
    "\n",
    "sfs <- sapply(1:(n-1), function(i) expectation(mutation_graph, rewards[,i]))\n",
    "sfs"
   ]
  },
  {
   "cell_type": "code",
   "execution_count": 387,
   "id": "e1759bfb-dfc6-4d99-a011-26627dccbe60",
   "metadata": {},
   "outputs": [
    {
     "data": {
      "image/png": "[encoded data removed]",
      "text/plain": [
       "<Figure size 432x288 with 1 Axes>"
      ]
     },
     "metadata": {
      "image/png": {
       "height": 251,
       "width": 380
      }
     },
     "output_type": "display_data"
    }
   ],
   "source": [
    "sns.barplot(x=list(range(1, len(sfs)+1)), y=sfs)\n",
    "sns.despine()"
   ]
  },
  {
   "cell_type": "code",
   "execution_count": null,
   "id": "7c516ec3-f603-4d9a-995e-b68ef140c0be",
   "metadata": {},
   "outputs": [],
   "source": []
  }
 ],
 "metadata": {
  "kernelspec": {
   "display_name": "Python 3 (ipykernel)",
   "language": "python",
   "name": "python3"
  },
  "language_info": {
   "codemirror_mode": {
    "name": "ipython",
    "version": 3
   },
   "file_extension": ".py",
   "mimetype": "text/x-python",
   "name": "python",
   "nbconvert_exporter": "python",
   "pygments_lexer": "ipython3",
   "version": "3.8.13"
  }
 },
 "nbformat": 4,
 "nbformat_minor": 5
}
