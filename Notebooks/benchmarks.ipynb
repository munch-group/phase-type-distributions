{
 "cells": [
  {
   "cell_type": "markdown",
   "id": "334da31b-abe5-4ba2-927b-c02218964442",
   "metadata": {
    "tags": []
   },
   "source": [
    "# Benchmarks\n",
    "\n",
    "Timings reported in paper"
   ]
  },
  {
   "cell_type": "code",
   "execution_count": 1,
   "id": "38af35be-092c-425f-a6e4-016c691f3c22",
   "metadata": {},
   "outputs": [
    {
     "name": "stdout",
     "output_type": "stream",
     "text": [
      "env: http_proxy=http://proxyserv:3128\n",
      "env: https_proxy=http://proxyserv:3128\n"
     ]
    }
   ],
   "source": [
    "%env http_proxy=http://proxyserv:3128\n",
    "%env https_proxy=http://proxyserv:3128"
   ]
  },
  {
   "cell_type": "code",
   "execution_count": 2,
   "id": "e81a5486-e00c-4342-9d3c-cf6e1bb25eea",
   "metadata": {},
   "outputs": [],
   "source": [
    "%load_ext rpy2.ipython\n",
    "\n",
    "from IPython.display import Image\n",
    "from graphviz import Digraph\n",
    "import numpy as np\n",
    "import pandas as pd\n",
    "import matplotlib.pyplot as plt\n",
    "import seaborn as sns\n",
    "sns.set()\n",
    "sns.set_style('ticks')\n",
    "from matplotlib_inline.backend_inline import set_matplotlib_formats\n",
    "set_matplotlib_formats('retina', 'png')"
   ]
  },
  {
   "cell_type": "code",
   "execution_count": 3,
   "id": "677c2558-d781-4f45-94fa-46d8bd8ce7b0",
   "metadata": {
    "tags": []
   },
   "outputs": [
    {
     "name": "stdout",
     "output_type": "stream",
     "text": [
      "NULL\n"
     ]
    }
   ],
   "source": [
    "%%R\n",
    "# install.packages(\"matrixdist\")\n",
    "# install.packages(\"expm\")"
   ]
  },
  {
   "cell_type": "code",
   "execution_count": 4,
   "id": "8bab6f87-4ef4-4e3a-8a19-36a5c9d6d610",
   "metadata": {
    "tags": []
   },
   "outputs": [
    {
     "name": "stdout",
     "output_type": "stream",
     "text": [
      "NULL\n"
     ]
    }
   ],
   "source": [
    "%%R\n",
    "# remove.packages(\"PhaseTypeR\")\n",
    "# install.packages(\"PhaseTypeR\")"
   ]
  },
  {
   "cell_type": "code",
   "execution_count": 5,
   "id": "5e8d686c-8b15-4486-8c0f-16cffe51e493",
   "metadata": {},
   "outputs": [
    {
     "name": "stdout",
     "output_type": "stream",
     "text": [
      "NULL\n"
     ]
    }
   ],
   "source": [
    "%%R\n",
    "#remove.packages(\"PhaseTypeR\")\n",
    "#devtools::install_github(\"kaspermunch/PhaseTypeR\")"
   ]
  },
  {
   "cell_type": "code",
   "execution_count": 6,
   "id": "65a1ca3b-6eef-446b-b97b-b4028284325b",
   "metadata": {},
   "outputs": [
    {
     "name": "stderr",
     "output_type": "stream",
     "text": [
      "R[write to console]: Skipping install of 'ptdalgorithms' from a github remote, the SHA1 (29809aeb) has not changed since last install.\n",
      "  Use `force = TRUE` to force installation\n",
      "\n"
     ]
    }
   ],
   "source": [
    "%%R\n",
    "devtools::install_github(\"TobiasRoikjer/PtDAlgorithms\")\n",
    "library(ptdalgorithms)\n",
    "\n",
    "set.seed(7)"
   ]
  },
  {
   "cell_type": "code",
   "execution_count": 7,
   "id": "9bf04fbd-11d9-4c1d-bc13-1c11143c3403",
   "metadata": {
    "scrolled": true,
    "tags": []
   },
   "outputs": [
    {
     "name": "stderr",
     "output_type": "stream",
     "text": [
      "R[write to console]: Indlæser krævet pakke: expm\n",
      "\n",
      "R[write to console]: Indlæser krævet pakke: Matrix\n",
      "\n",
      "R[write to console]: \n",
      "Vedhæfter pakke: ‘expm’\n",
      "\n",
      "\n",
      "R[write to console]: Det følgende objekt er maskeret fra ‘package:Matrix’:\n",
      "\n",
      "    expm\n",
      "\n",
      "\n",
      "R[write to console]: Indlæser krævet pakke: matrixdist\n",
      "\n",
      "R[write to console]: Indlæser krævet pakke: igraph\n",
      "\n",
      "R[write to console]: \n",
      "Vedhæfter pakke: ‘igraph’\n",
      "\n",
      "\n",
      "R[write to console]: De følgende objekter er maskerede fra ‘package:ptdalgorithms’:\n",
      "\n",
      "    edges, vertices\n",
      "\n",
      "\n",
      "R[write to console]: De følgende objekter er maskerede fra ‘package:stats’:\n",
      "\n",
      "    decompose, spectrum\n",
      "\n",
      "\n",
      "R[write to console]: Det følgende objekt er maskeret fra ‘package:base’:\n",
      "\n",
      "    union\n",
      "\n",
      "\n",
      "R[write to console]: \n",
      "Vedhæfter pakke: ‘PhaseTypeR’\n",
      "\n",
      "\n",
      "R[write to console]: Det følgende objekt er maskeret fra ‘package:Matrix’:\n",
      "\n",
      "    mean\n",
      "\n",
      "\n",
      "R[write to console]: Det følgende objekt er maskeret fra ‘package:stats’:\n",
      "\n",
      "    var\n",
      "\n",
      "\n",
      "R[write to console]: Det følgende objekt er maskeret fra ‘package:base’:\n",
      "\n",
      "    mean\n",
      "\n",
      "\n"
     ]
    }
   ],
   "source": [
    "%%R\n",
    "library(ptdalgorithms)\n",
    "library(PhaseTypeR)\n",
    "library(matrixdist)\n",
    "library(expm)\n",
    "# library(ggplot2)"
   ]
  },
  {
   "cell_type": "markdown",
   "id": "29b4a8c6-d329-464d-87b6-d511c861d5c2",
   "metadata": {},
   "source": [
    "Function for plotting running times:"
   ]
  },
  {
   "cell_type": "code",
   "execution_count": 8,
   "id": "279437c2-3f47-4076-83f6-fe9425a0b565",
   "metadata": {},
   "outputs": [],
   "source": [
    "def runtime_plot(plot_df, x_labels, y_label, hue_label, \n",
    "                 colors=['#FF0000', '#2901F7', '#05BFC0'], \n",
    "                 legend=True, legend_title=True):\n",
    "    # with sns.color_palette(colors):\n",
    "    with sns.color_palette(\"Set1\"):\n",
    "        gs_kw = dict(height_ratios=[50] + [1]*(len(x_labels)-1))\n",
    "        fig, axes = plt.subplots(len(x_labels), 1, figsize=(5, 5), gridspec_kw=gs_kw)\n",
    "\n",
    "        sns.scatterplot(data=plot_df, x=x_labels[0], y=y_label, hue=hue_label, legend=False, ax=axes[0])    \n",
    "        ax = sns.lineplot(data=plot_df, x=x_labels[0], y='seconds', hue=hue_label, ax=axes[0])\n",
    "        # ax.set_yscale('log')\n",
    "\n",
    "        if not legend_title:\n",
    "            legend = axes[0].legend()\n",
    "            legend.set_title(\"\")\n",
    "        \n",
    "        leg = ax.get_legend()\n",
    "        leg.get_frame().set_linewidth(0.0)\n",
    "        \n",
    "        if not legend:\n",
    "            axes[0].get_legend().remove()\n",
    "\n",
    "        sns.despine()\n",
    "\n",
    "        for i in range(1, len(x_labels)):\n",
    "            ax = sns.scatterplot(data=plot_df, x=x_labels[i], y=y_label, hue=hue_label, legend=False, ax=axes[i], alpha=0) \n",
    "            axes[i].get_yaxis().set_visible(False)\n",
    "        plt.tight_layout()\n",
    "    return fig, axes"
   ]
  },
  {
   "cell_type": "markdown",
   "id": "3fb452c2-4523-44f7-ba47-d90ae3747d01",
   "metadata": {},
   "source": [
    "Function for parallel computing:"
   ]
  },
  {
   "cell_type": "code",
   "execution_count": 9,
   "id": "a0b3b9cb-0705-44a7-af78-ff5fa15b046b",
   "metadata": {},
   "outputs": [
    {
     "name": "stdout",
     "output_type": "stream",
     "text": [
      "[1] 1\n"
     ]
    }
   ],
   "source": [
    "%%R \n",
    "\n",
    "library(parallel)\n",
    "\n",
    "#cores = 4L\n",
    "cores = strtoi(Sys.getenv(\"SLURM_CPUS_PER_TASK\"))\n",
    "print(cores)\n",
    "# # producing a matrix\n",
    "# apply_grid <- function(fun, a, b) {\n",
    "#     named_params <- expand.grid(a, b)\n",
    "#     param_list <- split(named_params, seq(nrow(named_params)))    \n",
    "#     result_list <- mclapply(param_list, function(x) do.call(fun, as.list(as.vector(unlist(x)))), mc.cores=cores)\n",
    "#     mat <- array(unlist(result_list), dim = c(2, length(a),length(b)))\n",
    "#     return(mat)\n",
    "# }\n",
    "# fun <- function(i, var) {    \n",
    "#     return(c(i, var))\n",
    "# }\n",
    "\n",
    "# # producing a dataframe\n",
    "# apply_grid <- function(fun, a, b) {\n",
    "#     named_params <- expand.grid(a, b)\n",
    "#     param_list <- split(named_params, seq(nrow(named_params)))    \n",
    "#     result_list <- mclapply(param_list, function(x) do.call(fun, as.list(as.vector(unlist(x)))), mc.cores=cores)\n",
    "#     return(do.call(rbind, result_list))\n",
    "# }\n",
    "\n",
    "# serial version with lapply \n",
    "apply_grid <- function(fun, a, b) {\n",
    "    named_params <- expand.grid(a, b)\n",
    "    param_list <- split(named_params, seq(nrow(named_params)))    \n",
    "    result_list <- lapply(param_list, function(x) do.call(fun, as.list(as.vector(unlist(x)))))\n",
    "    return(do.call(rbind, result_list))\n",
    "}\n",
    "\n",
    "\n",
    "# fun <- function(i, var) {    \n",
    "#     return(as.data.frame(cbind(k=i, munch=var)))\n",
    "# }\n"
   ]
  },
  {
   "cell_type": "markdown",
   "id": "c803d2fe-7aa6-4f10-87a2-0c3e5e75ec44",
   "metadata": {
    "tags": []
   },
   "source": [
    "# Parameters"
   ]
  },
  {
   "cell_type": "code",
   "execution_count": 10,
   "id": "22bf23d3-e0b1-431a-85fa-1cc0a0d27ef4",
   "metadata": {},
   "outputs": [],
   "source": [
    "%run benchmarks_rabbits_params.ipy\n",
    "# %run benchmarks_kingman_params.ipy\n",
    "# %run benchmarks_coxian_params.ipy"
   ]
  },
  {
   "cell_type": "markdown",
   "id": "5ef78983-2979-4494-9531-a79d9a5ad9ef",
   "metadata": {},
   "source": [
    "# Construction time"
   ]
  },
  {
   "cell_type": "markdown",
   "id": "751d93c4-04d6-4a55-983c-baea8f64902b",
   "metadata": {},
   "source": [
    "## Construction functions"
   ]
  },
  {
   "cell_type": "markdown",
   "id": "55ce0d60-a44f-4c1c-966d-512cef1dd726",
   "metadata": {},
   "source": [
    "### Rabbits"
   ]
  },
  {
   "cell_type": "markdown",
   "id": "7286bb3a-3fbd-4348-9eab-52c56a5524cf",
   "metadata": {},
   "source": [
    "Compile function for constructing rabbit model in C:"
   ]
  },
  {
   "cell_type": "code",
   "execution_count": 11,
   "id": "0f79f246-800e-4baa-8cd8-bd307b4f19ca",
   "metadata": {},
   "outputs": [],
   "source": [
    "%%R\n",
    "Rcpp::sourceCpp(\"rabbit_construction.cpp\")"
   ]
  },
  {
   "cell_type": "markdown",
   "id": "bc8875e0-80e9-49de-ae20-8490bb96cb3b",
   "metadata": {},
   "source": [
    "R version:"
   ]
  },
  {
   "cell_type": "code",
   "execution_count": 12,
   "id": "fe01f54f-b5d7-4378-9fb8-d4ce3cf6174f",
   "metadata": {},
   "outputs": [],
   "source": [
    "%%R\n",
    "construct_rabbit_graph_R <- function(number_of_rabbits, flooding_rate_l, flooding_rate_r) {\n",
    "    # We represent the vector as two integers, the number of rabbits on the left and right island\n",
    "    state_vector_length <- 2\n",
    "    graph <- create_graph(state_vector_length)\n",
    "    initial_state <- c(number_of_rabbits, 0)\n",
    "    # The initial state is the only starting state, with 100% starting probability\n",
    "    add_edge(\n",
    "      starting_vertex(graph),\n",
    "      find_or_create_vertex(graph, initial_state),\n",
    "      1\n",
    "    )\n",
    "    index <- 2\n",
    "    # Iterate over all unvisited vertices\n",
    "    while (index <= vertices_length(graph)) {\n",
    "      vertex <- vertex_at(graph, index)\n",
    "      state <- vertex$state\n",
    "      if (state[1] > 0) {\n",
    "        # Rabbit jump left to right\n",
    "        child_state <- c(state[1] - 1, state[2] + 1)\n",
    "        add_edge(\n",
    "          vertex,\n",
    "          find_or_create_vertex(graph, child_state),\n",
    "          1\n",
    "        )\n",
    "\n",
    "        # Left island flooding\n",
    "        child_state <- c(0, state[2])\n",
    "        add_edge(\n",
    "          vertex,\n",
    "          find_or_create_vertex(graph, child_state),\n",
    "          flooding_rate_l\n",
    "        )\n",
    "      }\n",
    "\n",
    "      if (state[2] > 0) {\n",
    "        # Rabbit jump right to left\n",
    "        child_state <- c(state[1] + 1, state[2] - 1)\n",
    "        add_edge(\n",
    "          vertex,\n",
    "          find_or_create_vertex(graph, child_state),\n",
    "          1\n",
    "        )\n",
    "        # Right island flooding with rate of 4\n",
    "        child_state <- c(state[1], 0)\n",
    "        add_edge(\n",
    "          vertex,\n",
    "          find_or_create_vertex(graph, child_state),\n",
    "          flooding_rate_r\n",
    "        )\n",
    "      }\n",
    "      index <- index + 1\n",
    "    }\n",
    "    return(graph)\n",
    "}\n"
   ]
  },
  {
   "cell_type": "markdown",
   "id": "7f7dfaaa-7bea-4560-9be0-35ad2fd727ee",
   "metadata": {},
   "source": [
    "### Kingman"
   ]
  },
  {
   "cell_type": "markdown",
   "id": "24940e5f-e541-45a8-bbc4-d50faf320a1e",
   "metadata": {
    "tags": []
   },
   "source": [
    "Compile function for constructing the coalescent in C:"
   ]
  },
  {
   "cell_type": "code",
   "execution_count": 13,
   "id": "b6a3a7e8-c9f1-4b9f-8a87-8648d40a9ce9",
   "metadata": {},
   "outputs": [],
   "source": [
    "%%R\n",
    "Rcpp::sourceCpp(\"kingman.cpp\")"
   ]
  },
  {
   "cell_type": "markdown",
   "id": "5db241e2-366f-43f7-8a10-c9d85fc3084d",
   "metadata": {},
   "source": [
    "R version:"
   ]
  },
  {
   "cell_type": "code",
   "execution_count": 14,
   "id": "9599201b-88b7-4c72-a69e-c33669799477",
   "metadata": {},
   "outputs": [],
   "source": [
    "%%R \n",
    "construct_kingman_graph_R <- function(n) {\n",
    "  \n",
    "    state_vector_length <- n\n",
    "    graph <- create_graph(state_vector_length)\n",
    "    starting_vertex <- vertex_at(graph, 1)\n",
    "    initial_state <- rep(0, n)\n",
    "    initial_state[1] <- n\n",
    "\n",
    "    add_edge(\n",
    "      starting_vertex,\n",
    "      create_vertex(graph, initial_state),\n",
    "      1\n",
    "    )\n",
    "    index <- 2\n",
    "\n",
    "    while (index <= vertices_length(graph)) {\n",
    "      vertex <- vertex_at(graph, index)\n",
    "\n",
    "      # loop over all classes of lineages\n",
    "      for (i in 1:n) {\n",
    "        for (j in i:n) {\n",
    "          state <- vertex$state\n",
    "\n",
    "          # if same class, there need to be at least two to coalesce\n",
    "          if (i == j) {\n",
    "            if (state[i] < 2) {\n",
    "              next;\n",
    "            }\n",
    "            # coal rate\n",
    "            rate <- state[i] * (state[i] - 1) / 2\n",
    "          } else {\n",
    "            # else at least one in each class to coalesce\n",
    "            if (state[i] < 1 || state[j] < 1) {\n",
    "              next;\n",
    "            }\n",
    "            # number of combinations\n",
    "            rate <- state[i] * state[j]\n",
    "          }\n",
    "\n",
    "          # copy state\n",
    "          child_state <- state\n",
    "          # update child state\n",
    "          child_state[i] <- child_state[i] - 1\n",
    "          child_state[j] <- child_state[j] - 1\n",
    "          child_state[i+j] <- child_state[i+j] + 1\n",
    "\n",
    "          add_edge(\n",
    "              vertex,\n",
    "              find_or_create_vertex(graph, child_state),\n",
    "              rate, c(rate)\n",
    "            )\n",
    "        }\n",
    "      }\n",
    "\n",
    "      index <- index + 1\n",
    "    }\n",
    "\n",
    "    return(graph)\n",
    "}"
   ]
  },
  {
   "cell_type": "markdown",
   "id": "c4bb3498-97f4-4673-8193-522037b3ee2a",
   "metadata": {},
   "source": [
    "## Time construction"
   ]
  },
  {
   "cell_type": "code",
   "execution_count": 15,
   "id": "74d572de-cf80-421f-a074-79b509740f5c",
   "metadata": {
    "tags": []
   },
   "outputs": [],
   "source": [
    "# %%R -o construction_df\n",
    "\n",
    "# construction_df <- data.frame()\n",
    "        \n",
    "# for (i in 1:1) { # change this back to 1:10\n",
    "    \n",
    "#     for (val in construction_values) {\n",
    "#         time_R <- NA\n",
    "#         if (val <= max_construction_values_for_R) {\n",
    "#             start <- proc.time()[3]            \n",
    "#             construction_fun_R(val)\n",
    "#             end <- proc.time()[3]\n",
    "#             time_R <- end-start\n",
    "#         } \n",
    "        \n",
    "#         start <- proc.time()[3]\n",
    "#         graph <- construction_fun(val)\n",
    "#         end <- proc.time()[3]\n",
    "#         time_c = end-start\n",
    "        \n",
    "#         time_from_matrix <- NA\n",
    "#         if (val <= max_construction_values_for_matrix) {\n",
    "#             M <- graph_as_matrix(graph)\n",
    "#             start <- proc.time()[3]\n",
    "#             mat <- matrix_as_graph(M$IPV, M$SIM)\n",
    "#             end <- proc.time()[3]\n",
    "#             time_from_matrix = end-start\n",
    "#         }\n",
    "\n",
    "#         construction_df <- rbind(construction_df, list(val=val, \n",
    "#                                                        time_c=time_c, \n",
    "#                                                        time_R=time_R, \n",
    "#                                                        time_from_matrix=time_from_matrix,\n",
    "#                                                        vertices=vertices_length(graph), \n",
    "#                                                        edges=number_of_edges(graph)))\n",
    "#     }\n",
    "# }"
   ]
  },
  {
   "cell_type": "code",
   "execution_count": null,
   "id": "be52e80a-604a-473c-b43e-d9efbbb13286",
   "metadata": {},
   "outputs": [],
   "source": [
    "%%R -o construction_df\n",
    "construction_times_fun <- function(i, val) {\n",
    "    time_R <- NA\n",
    "    if (val <= max_construction_values_for_R) {\n",
    "        start <- proc.time()[3]            \n",
    "        construction_fun_R(val)\n",
    "        end <- proc.time()[3]\n",
    "        time_R <- end-start\n",
    "    } \n",
    "\n",
    "    start <- proc.time()[3]\n",
    "    graph <- construction_fun(val)\n",
    "    end <- proc.time()[3]\n",
    "    time_c = end-start\n",
    "\n",
    "    time_from_matrix <- NA\n",
    "    if (val <= max_construction_values_for_matrix) {\n",
    "        M <- graph_as_matrix(graph)\n",
    "        start <- proc.time()[3]\n",
    "        mat <- matrix_as_graph(M$IPV, M$SIM)\n",
    "        end <- proc.time()[3]\n",
    "        time_from_matrix = end-start\n",
    "    }\n",
    "    df <- as.data.frame(cbind(val=val, \n",
    "                          time_R=time_R, \n",
    "                          time_c=time_c,\n",
    "                          time_from_matrix=time_from_matrix,\n",
    "                          vertices=vertices_length(graph), \n",
    "                          edges=number_of_edges(graph)))\n",
    "    return(df)\n",
    "}\n",
    "construction_df <- apply_grid(construction_times_fun, 1:10, construction_values)"
   ]
  },
  {
   "cell_type": "code",
   "execution_count": null,
   "id": "b57f86ed-4812-4c18-9d21-aec440569e5f",
   "metadata": {},
   "outputs": [],
   "source": [
    "plot_df = (construction_df.groupby(['val', 'vertices', 'edges'])\n",
    " .agg('mean') \n",
    " .reset_index()\n",
    " .rename(columns={'val': str(units[0]), 'time_c': 'C API', 'time_R': 'R API', 'time_from_matrix': 'From R matrix'})\n",
    " .melt(id_vars=['rabbits', 'vertices', 'edges'], value_name='seconds', var_name='API')\n",
    ")\n",
    "\n",
    "runtime_plot(plot_df, [str(units[0]), 'vertices', 'edges'], 'seconds', 'API', \n",
    "            legend_title=False)\n",
    "plt.savefig(f'figures/{str(label[0])}_construction.pdf')"
   ]
  },
  {
   "cell_type": "markdown",
   "id": "8a0d1498-26f9-4886-8a6c-645adfa92b21",
   "metadata": {},
   "source": [
    "# Computation"
   ]
  },
  {
   "cell_type": "code",
   "execution_count": null,
   "id": "1119f6cd-50ad-478d-a716-433eac43bc53",
   "metadata": {},
   "outputs": [],
   "source": [
    "# %%R -o units -o label -o expectation_max_construction_values_for_matrix -o moments100_max_construction_values_for_matrix -o cdf100_max_construction_values_for_matrix\n",
    "# construction_fun <- function(x) {\n",
    "#     return(construct_rabbit_graph(x, 2, 4))\n",
    "# }\n",
    "# units <- \"rabbits\"\n",
    "# label <- \"rabbits\"\n",
    "# expectation_construction_values <- c(10, 20, 30, 40)#, 50, 60, 70, 80, 90, 100, 150, 200, 250, 300, 400, 500)\n",
    "# expectation_max_construction_values_for_matrix <- 100\n",
    "# moments100_construction_values <- c(10, 20, 30, 40, 50, 60, 70, 80, 90, 100, 150, 200, 250, 300, 400, 500)\n",
    "# moments100_max_construction_values_for_matrix <- 100\n",
    "# cdf100_construction_values <- c(10, 20, 30, 40, 50, 60, 70, 80, 90, 100, 150, 200, 250, 300)\n",
    "# cdf100_max_construction_values_for_matrix <- 60"
   ]
  },
  {
   "cell_type": "code",
   "execution_count": null,
   "id": "25d6098a-92e5-4501-aa65-4d97cd693fcd",
   "metadata": {},
   "outputs": [],
   "source": [
    "# %%R -o units -o label -o expectation_max_construction_values_for_matrix -o moments100_max_construction_values_for_matrix -o cdf100_max_construction_values_for_matrix\n",
    "# construction_fun <- function(x) {\n",
    "#     return(generate_kingman_graph(x, x))\n",
    "# }\n",
    "# units <- \"samples\"\n",
    "# label <- \"coalescent\"\n",
    "# expectation_construction_values <- seq(4, 60, 2)\n",
    "# expectation_max_construction_values_for_matrix <- 30\n",
    "# moments100_construction_values <- seq(4, 40, 2)\n",
    "# moments100_max_construction_values_for_matrix <- 20\n",
    "# cdf100_construction_values <- seq(4, 40, 2)\n",
    "# cdf100_max_construction_values_for_matrix <- 22"
   ]
  },
  {
   "cell_type": "code",
   "execution_count": null,
   "id": "c0cc0c55-fc4a-4011-a42d-e450577708b7",
   "metadata": {},
   "outputs": [],
   "source": [
    "# %%R -o units -o label -o expectation_max_construction_values_for_matrix -o moments100_max_construction_values_for_matrix -o cdf100_max_construction_values_for_matrix\n",
    "# construction_fun <- function(x) {\n",
    "#     graph <- create_graph(1)\n",
    "#     s <- create_vertex(graph,1)\n",
    "#     a <- create_vertex(graph,1)\n",
    "#     add_edge(starting_vertex(graph),s , 1)\n",
    "#     set.seed(1234)\n",
    "#     for (i in 1:x) {\n",
    "#         n <- create_vertex(graph, 1); \n",
    "#         k <- runif(1); \n",
    "#         l <- runif(1) * k; \n",
    "#         add_edge(n,s,k); \n",
    "#         add_edge(n,a,l);\n",
    "#         s <- n\n",
    "#     }\n",
    "#     return(graph)\n",
    "# }\n",
    "# units <- \"dimension\"\n",
    "# label <- \"coxian\"\n",
    "# expectation_construction_values <- seq(4, 40, 2)\n",
    "# expectation_max_construction_values_for_matrix <- 20\n",
    "# moments100_construction_values <- seq(4, 40, 2)\n",
    "# moments100_max_construction_values_for_matrix <- 20\n",
    "# cdf100_construction_values <- seq(4, 40, 2)\n",
    "# cdf100_max_construction_values_for_matrix <- 22"
   ]
  },
  {
   "cell_type": "code",
   "execution_count": null,
   "id": "bb5d71f4-8d66-45ef-b638-f62eebd5dbaf",
   "metadata": {},
   "outputs": [],
   "source": [
    "# %%R\n",
    "# dim <- 30\n",
    "# graph <- construction_fun(dim)\n",
    "# mat <- graph_as_matrix(graph)\n",
    "# graph <- matrix_as_graph(c(1,rep(0, dim-1)), mat$SIM)\n",
    "# mat <- graph_as_matrix(graph)\n",
    "# #mat"
   ]
  },
  {
   "cell_type": "code",
   "execution_count": null,
   "id": "fb5c2225-ceeb-4332-8914-5e427f49be69",
   "metadata": {},
   "outputs": [],
   "source": [
    "# %%R\n",
    "# system.time(expectation(graph))"
   ]
  },
  {
   "cell_type": "code",
   "execution_count": null,
   "id": "7a81e74a-9017-4bcf-b9c9-9db537b74bb5",
   "metadata": {},
   "outputs": [],
   "source": [
    "# %%R\n",
    "# # matrixdist_ph <- matrixdist::ph(alpha=mat$IPV, S=mat$SIM, structure=\"coxian\",dimension=dim)\n",
    "# matrixdist_ph <- matrixdist::ph(alpha=mat$IPV, S=mat$SIM)\n",
    "# system.time(matrixdist::moment(matrixdist_ph, 1))"
   ]
  },
  {
   "cell_type": "code",
   "execution_count": null,
   "id": "d40ff7db-06de-47a9-b00a-e99068e1a62f",
   "metadata": {},
   "outputs": [],
   "source": [
    "%%R\n",
    "graph <- construction_fun(500)\n",
    "system.time(ptdalgorithms::expectation(graph))"
   ]
  },
  {
   "cell_type": "code",
   "execution_count": null,
   "id": "97bcbdc6-78cf-46f1-8930-caa4890288e2",
   "metadata": {},
   "outputs": [],
   "source": [
    "%%R\n",
    "graph <- construction_fun(100)\n",
    "M <- graph_as_matrix(graph)\n",
    "Y <- PhaseTypeR::PH(M$SIM, M$IPV)            \n",
    "system.time(PhaseTypeR::mean(Y))"
   ]
  },
  {
   "cell_type": "markdown",
   "id": "3c4fe53c-9e04-45f0-aad1-4e9430bb7d5e",
   "metadata": {},
   "source": [
    "----"
   ]
  },
  {
   "cell_type": "markdown",
   "id": "c0737dd2-c221-47e4-aaf9-c9aad5e9bb19",
   "metadata": {},
   "source": [
    "Make python string vars:"
   ]
  },
  {
   "cell_type": "code",
   "execution_count": null,
   "id": "2a654438-79c3-4149-b2e8-e6c0d2a3d092",
   "metadata": {},
   "outputs": [],
   "source": [
    "# things = str(units[0])\n",
    "# label = str(label[0])"
   ]
  },
  {
   "cell_type": "markdown",
   "id": "d77e94d5-3afb-47d2-b0e0-786b2f329fdb",
   "metadata": {},
   "source": [
    "## Compare base::solve() against matrixdist:::matrix_inverse()"
   ]
  },
  {
   "cell_type": "code",
   "execution_count": null,
   "id": "47a67b57-8644-4ab9-b79c-5b8e925a4bad",
   "metadata": {},
   "outputs": [],
   "source": [
    "%%R -o base_times -o matrixdist_times\n",
    "base_times <- c()\n",
    "matrixdist_times <- c()\n",
    "for (val in expectation_construction_values) {\n",
    "    if (val <= expectation_max_construction_values_for_matrix) {\n",
    "        graph <- construction_fun(val)\n",
    "        mat <- graph_as_matrix(graph)$SIM\n",
    "        base_times <- c(base_times, system.time(MI1 <- base::solve(mat))[3])\n",
    "        matrixdist_times <- c(matrixdist_times, system.time(MI2 <- matrixdist:::matrix_inverse(mat))[3])\n",
    "    }\n",
    "}"
   ]
  },
  {
   "cell_type": "code",
   "execution_count": null,
   "id": "342fe76a-84c7-4292-b266-8f60816f067e",
   "metadata": {},
   "outputs": [],
   "source": [
    "def abline(slope, intercept, ax=None):\n",
    "    \"Add a straight line through the plot\"\n",
    "    if ax is None:\n",
    "        ax = plt.gca()\n",
    "    x_vals = np.array(ax.get_xlim())\n",
    "    y_vals = intercept + slope * x_vals\n",
    "    ax.plot(x_vals, y_vals, '--', color='grey')\n",
    "    \n",
    "plt.scatter(base_times, matrixdist_times)\n",
    "plt.xlabel('base::solve()')\n",
    "plt.ylabel('matrixdist:::matrix_inverse()')\n",
    "abline(1, 0)\n",
    "plt.savefig(f'figures/inversion_test_{str(label[0])}.pdf')   "
   ]
  },
  {
   "cell_type": "markdown",
   "id": "3b03add4-185f-4f19-acf7-b32d9559cdf7",
   "metadata": {},
   "source": [
    "## Test methods for exponentiation with expm()"
   ]
  },
  {
   "cell_type": "code",
   "execution_count": null,
   "id": "c18fbb0f-3723-48a1-87fa-bb9813ea98cc",
   "metadata": {},
   "outputs": [],
   "source": [
    "%%R -o expm_tests_all_methods\n",
    "#EXPM  tests, ALL methods!\n",
    "\n",
    "results <- data.frame()\n",
    "for (val in expectation_construction_values){\n",
    "    if (val <= expectation_max_construction_values_for_matrix) {\n",
    "        for (method in c(\"Higham08.b\", \"Higham08\", \"AlMohy-Hi09\", \"Ward77\", \"PadeRBS\", \n",
    "                         # \"Pade\", \"PadeO\", \"TaylorO\", .. the slowest ones\n",
    "                         # \"R_Eigen\",   ... does not work with rabbits\n",
    "                         \"Taylor\", \"R_Pade\", \"R_Ward77\", \"hybrid_Eigen_Ward\")) {\n",
    "\n",
    "            graph <- construction_fun(val)\n",
    "            mat <- graph_as_matrix(graph)$SIM\n",
    "            start <- proc.time()[3]\n",
    "            expm::expm(mat, method=method)\n",
    "            stop <- proc.time()[3]\n",
    "            time_spent_exp <- stop - start\n",
    "\n",
    "            results <- rbind(results, data.frame(val=val,\n",
    "                                                 vertices=vertices_length(graph),\n",
    "                                                 edges=number_of_edges(graph),\n",
    "                                                 time_spent_exp=time_spent_exp,\n",
    "                                                 method=method))\n",
    "        }\n",
    "    }\n",
    "}\n",
    "\n",
    "expm_tests_all_methods <- results"
   ]
  },
  {
   "cell_type": "code",
   "execution_count": null,
   "id": "448666cd-e8d6-4016-ae61-914eb37bd2f1",
   "metadata": {},
   "outputs": [],
   "source": [
    "plot_df = (expm_tests_all_methods.groupby(['val', 'vertices', 'edges', 'method'])\n",
    " .agg('mean') \n",
    " .reset_index()\n",
    " .rename(columns={'time_spent_exp': 'seconds', 'val': str(units[0])})\n",
    ")\n",
    "fig, axes = runtime_plot(plot_df, [str(units[0]), 'vertices', 'edges'], 'seconds', 'method')\n",
    "axes[0].legend(ncol=2, loc=\"upper left\", framealpha=0)\n",
    "#axes[0].set_yscale('log')\n",
    "plt.savefig(f'figures/expm_tests_all_methods_{str(label[0])}.pdf')   "
   ]
  },
  {
   "cell_type": "markdown",
   "id": "b60ddf73-790f-413c-8b3b-dfd3a3fe735e",
   "metadata": {},
   "source": [
    "# Expectation\n",
    "\n",
    "Comparing phasetyper, matrixdist ptdalgorithms.\n",
    "\n",
    "PhaseTyper uses base::solve() for inversion\n",
    "\n",
    "Reviewer two says matrixdist::matrix_inverse() is much faster for sparse matrices. However, only some phase-type distributions fit coxian or erlang forms and our tool is a general one. For the phase-type distributions used as mdoels here matrixdist is not faster:\n",
    "\n"
   ]
  },
  {
   "cell_type": "code",
   "execution_count": null,
   "id": "1e2b44e0-cf85-4371-b1a5-9b3ed04c7a1b",
   "metadata": {},
   "outputs": [],
   "source": [
    "%%R \n",
    "\n",
    "expectation_fun <- function(i, val) {\n",
    "    graph <- construction_fun(val)\n",
    "    M <- graph_as_matrix(graph)\n",
    "    phasetyper_time <- NA\n",
    "    ptdalgorithms_time <- NA\n",
    "    if (val <= expectation_max_construction_values_for_matrix) {\n",
    "        Y <- PH(M$SIM, M$IPV)            \n",
    "        start <- proc.time()[3]\n",
    "        PhaseTypeR::mean(Y)\n",
    "        end <- proc.time()[3]\n",
    "        phasetyper_time <- end - start\n",
    "    }\n",
    "    start <- proc.time()[3]\n",
    "    ptdalgorithms::expectation(graph)\n",
    "    end <- proc.time()[3]\n",
    "    ptdalgorithms_time = end-start\n",
    "    df <- as.data.frame(cbind(val=val, \n",
    "                              ptdalgorithms_time=ptdalgorithms_time, \n",
    "                              phasetyper_time=phasetyper_time,\n",
    "                              vertices=vertices_length(graph), \n",
    "                              edges=number_of_edges(graph)))\n",
    "    return(df)\n",
    "}\n",
    "\n",
    "moments100_fun <- function(i, val) {\n",
    "    graph <- construction_fun(val)\n",
    "    M <- graph_as_matrix(graph)\n",
    "    phasetyper_time <- NA\n",
    "    ptdalgorithms_time <- NA\n",
    "    if (val <= moments100_max_construction_values_for_matrix) {\n",
    "        Y <- PH(M$SIM, M$IPV)            \n",
    "        rewards <- rep(1, length(M$IPV))\n",
    "        start <- proc.time()[3]\n",
    "        for (i in 1:100) {\n",
    "           Y <- PhaseTypeR::reward_phase_type(Y, rewards)\n",
    "           PhaseTypeR::mean(Y)\n",
    "        }\n",
    "        end <- proc.time()[3]\n",
    "        phasetyper_time <- end - start                     \n",
    "    }\n",
    "    start <- proc.time()[3]\n",
    "    rewards <- rep(1, length(rowSums(states(graph))))\n",
    "    for (i in 1:100) {\n",
    "       graph <- reward_transform(graph, rewards)\n",
    "       expectation(graph)\n",
    "    }\n",
    "    end <- proc.time()[3]\n",
    "    ptdalgorithms_time = end-start\n",
    "    df <- as.data.frame(cbind(val=val, \n",
    "                              ptdalgorithms_time=ptdalgorithms_time, \n",
    "                              phasetyper_time=phasetyper_time,\n",
    "                              vertices=vertices_length(graph), \n",
    "                              edges=number_of_edges(graph)))\n",
    "    return(df)\n",
    "}\n",
    "\n",
    "cdf100_fun <- function(i, val) {\n",
    "    graph <- construction_fun(val)\n",
    "    phasetyper_time <- NA\n",
    "    ptdalgorithm_time <- NA\n",
    "    start <- proc.time()[3]\n",
    "    ptdcdf <- ptdalgorithms::pph(cdf_vals, graph)\n",
    "    stop <- proc.time()[3]\n",
    "    ptdalgorithm_time <- stop - start\n",
    "    if (val <= cdf100_max_construction_values_for_matrix) {\n",
    "         M <- graph_as_matrix(graph)\n",
    "        start <- proc.time()[3]\n",
    "        Y <- PhaseTypeR::PH(M$SIM, M$IPV)\n",
    "        PhaseTypeR::pPH(cdf_vals, Y)\n",
    "        stop <- proc.time()[3]\n",
    "        phasetyper_time <- stop - start\n",
    "    }\n",
    "    df <- as.data.frame(cbind(val=val, \n",
    "                              ptdalgorithms_time=ptdalgorithms_time, \n",
    "                              phasetyper_time=phasetyper_time,\n",
    "                              vertices=vertices_length(graph), \n",
    "                              edges=number_of_edges(graph)))\n",
    "    return(df) \n",
    "}\n"
   ]
  },
  {
   "cell_type": "code",
   "execution_count": null,
   "id": "5b2f805f-e10c-4d2d-b043-086243282777",
   "metadata": {},
   "outputs": [],
   "source": [
    "%%R -o expectation_df\n",
    "expectation_df <- apply_grid(expectation_fun, 1:2, expectation_construction_values)"
   ]
  },
  {
   "cell_type": "code",
   "execution_count": null,
   "id": "0f3e6272-a446-4a6a-a335-f64603a00066",
   "metadata": {
    "scrolled": true,
    "tags": []
   },
   "outputs": [],
   "source": [
    "%%R -o moments100_df\n",
    "moments100_df <- apply_grid(moments100_fun, 1:2, moments100_construction_values)"
   ]
  },
  {
   "cell_type": "code",
   "execution_count": null,
   "id": "5b23c134-29bd-4e0c-be77-3f3ba57470b1",
   "metadata": {},
   "outputs": [],
   "source": [
    "%%R -o cdf100_df\n",
    "cdf100_df <- apply_grid(cdf100_fun, 1:2, cdf100_construction_values)"
   ]
  },
  {
   "cell_type": "code",
   "execution_count": null,
   "id": "07f8094c-bdee-42db-931b-72d51210909c",
   "metadata": {},
   "outputs": [],
   "source": [
    "plot_df = (expectation_df.groupby(['val', 'vertices', 'edges'])\n",
    " .agg('mean') \n",
    " .reset_index()\n",
    " .rename(columns={'val': str(units[0]),\n",
    "                  'ptdalgorithms_time': 'ptdalgorithms:expectation()', \n",
    "                  'phasetyper_time': 'phasetyper::mean()',\n",
    "                  'matrixdist_time': 'matrixdist::moment()',\n",
    "                  'matrixdist_inverse_time': 'matrixdist::inverse_matrix()',\n",
    "                  'solve_time': 'base::solve()'\n",
    "                 })\n",
    " .melt(id_vars=[things, 'vertices', 'edges'], \n",
    "       value_name='seconds', var_name='Method')\n",
    ")\n",
    "fig, axes = runtime_plot(plot_df, [str(units[0]), 'vertices', 'edges'],\n",
    "                         'seconds', 'Method', legend_title=False)\n",
    "for ax in axes:\n",
    "    ax.set_xlim(left=0)\n",
    "plt.savefig(f'figures/expectation_{str(label[0])}.pdf')"
   ]
  },
  {
   "cell_type": "code",
   "execution_count": null,
   "id": "3070a28d-2210-4dc2-a57a-8816087ab485",
   "metadata": {},
   "outputs": [],
   "source": [
    "plot_df = (moments100_df.groupby(['val', 'vertices', 'edges'])\n",
    " .agg('mean') \n",
    " .reset_index()\n",
    " .rename(columns={'val': str(units[0]),\n",
    "                  'ptdalgorithms_time': 'ptdalgorithms:expectation()', \n",
    "                  'phasetyper_time': 'phasetyper::mean()',\n",
    "                  'matrixdist_time': 'matrixdist::moment()',\n",
    "                  'matrixdist_inverse_time': 'matrixdist::inverse_matrix()',\n",
    "                  'solve_time': 'base::solve()'\n",
    "                 })\n",
    " .melt(id_vars=[things, 'vertices', 'edges'], \n",
    "       value_name='seconds', var_name='Method')\n",
    ")\n",
    "fig, axes = runtime_plot(plot_df, [str(units[0]), 'vertices', 'edges'],\n",
    "                         'seconds', 'Method', legend_title=False)\n",
    "for ax in axes:\n",
    "    ax.set_xlim(left=0)\n",
    "plt.savefig(f'figures/moments_100_{str(label[0])}.pdf')"
   ]
  },
  {
   "cell_type": "code",
   "execution_count": null,
   "id": "13ba13ec-83f2-43a6-841e-fde73aeddf9c",
   "metadata": {},
   "outputs": [],
   "source": [
    "plot_df = (cdf100_df.groupby(['val', 'vertices', 'edges'])\n",
    " .agg('mean') \n",
    " .reset_index()\n",
    " .rename(columns={'val': str(units[0]),\n",
    "                  'ptdalgorithms_time': 'ptdalgorithms:expectation()', \n",
    "                  'phasetyper_time': 'phasetyper::mean()'})\n",
    " .melt(id_vars=[things, 'vertices', 'edges'], \n",
    "       value_name='seconds', var_name='Method')\n",
    ")\n",
    "fig, axes = runtime_plot(plot_df, [str(units[0]), 'vertices', 'edges'],\n",
    "                         'seconds', 'Method', legend_title=False)\n",
    "for ax in axes:\n",
    "    ax.set_xlim(left=0)\n",
    "#plt.savefig(f'figures/both_distribution_functions_{label}.pdf')"
   ]
  },
  {
   "cell_type": "markdown",
   "id": "71830570-9377-4480-829d-9eaf86a69917",
   "metadata": {},
   "source": [
    "# OLD STUFF"
   ]
  },
  {
   "cell_type": "code",
   "execution_count": null,
   "id": "556b6415-dd2c-499e-a5ab-76a909d6bcee",
   "metadata": {
    "scrolled": true,
    "tags": []
   },
   "outputs": [],
   "source": [
    "%%R -o expectation_df\n",
    "\n",
    "expectation_df <- data.frame()\n",
    "\n",
    "for (i in 1:1) {   # PUT THIS BACK TO 1:10.......\n",
    "    for (val in expectation_construction_values) {\n",
    "        graph <- construction_fun(val)\n",
    "        M <- graph_as_matrix(graph)\n",
    "\n",
    "        solve_time <- NA\n",
    "        matrixdist_inverse_time <- NA\n",
    "        phasetyper_time <- NA\n",
    "        matrixdist_time <- NA\n",
    "        ptdalgorithms_time <- NA\n",
    "        \n",
    "        if (val <= expectation_max_construction_values_for_matrix) {\n",
    "            \n",
    "            # # base solve\n",
    "            # start <- proc.time()[3]\n",
    "            # base::solve(M$SIM)\n",
    "            # end <- proc.time()[3]\n",
    "            # solve_time <- end - start\n",
    "\n",
    "            # # matrix inversion from matrixdist\n",
    "            # start <- proc.time()[3]\n",
    "            # matrixdist:::matrix_inverse(M$SIM)\n",
    "            # end <- proc.time()[3]\n",
    "            # matrixdist_inverse_time <- end - start\n",
    "\n",
    "            # phasetyper\n",
    "            Y <- PH(M$SIM, M$IPV)            \n",
    "            start <- proc.time()[3]\n",
    "            PhaseTypeR::mean(Y)\n",
    "            end <- proc.time()[3]\n",
    "            phasetyper_time <- end - start\n",
    "            \n",
    "            # # matrixdist\n",
    "            # matrixdist_ph <- matrixdist::ph(M$IPV, M$SIM)\n",
    "            # start <- proc.time()[3]\n",
    "            # matrixdist::moment(matrixdist_ph, 1)\n",
    "            # stop <- proc.time()[3]\n",
    "            # matrixdist_time <- stop-start            \n",
    "        }\n",
    "        # ptdalgorithms\n",
    "        start <- proc.time()[3]\n",
    "        ptdalgorithms::expectation(graph)\n",
    "        end <- proc.time()[3]\n",
    "        ptdalgorithms_time = end-start\n",
    "        expectation_df <- rbind(expectation_df, list(val=val, \n",
    "                                                     ptdalgorithms_time=ptdalgorithms_time, \n",
    "                                                     # solve_time=solve_time,\n",
    "                                                     # matrixdist_inverse_time=matrixdist_inverse_time,\n",
    "                                                     phasetyper_time=phasetyper_time,\n",
    "                                                     # matrixdist_time=matrixdist_time,\n",
    "                                                     vertices=vertices_length(graph), \n",
    "                                                     edges=number_of_edges(graph)))\n",
    "    }\n",
    "}"
   ]
  },
  {
   "cell_type": "code",
   "execution_count": null,
   "id": "f4f9a8dc-e56e-437d-8307-2753fc52dfe3",
   "metadata": {},
   "outputs": [],
   "source": [
    "plot_df = (expectation_df.groupby(['val', 'vertices', 'edges'])\n",
    " .agg('mean') \n",
    " .reset_index()\n",
    " .rename(columns={'val': str(units[0]),\n",
    "                  'ptdalgorithms_time': 'ptdalgorithms:expectation()', \n",
    "                  'phasetyper_time': 'phasetyper::mean()',\n",
    "                  'matrixdist_time': 'matrixdist::moment()',\n",
    "                  'matrixdist_inverse_time': 'matrixdist::inverse_matrix()',\n",
    "                  'solve_time': 'base::solve()'\n",
    "                 })\n",
    " .melt(id_vars=[things, 'vertices', 'edges'], \n",
    "       value_name='seconds', var_name='Method')\n",
    ")\n",
    "fig, axes = runtime_plot(plot_df, [str(units[0]), 'vertices', 'edges'],\n",
    "                         'seconds', 'Method', legend_title=False)\n",
    "for ax in axes:\n",
    "    ax.set_xlim(left=0)\n",
    "plt.savefig(f'figures/expectation_{str(label[0])}.pdf')"
   ]
  },
  {
   "cell_type": "markdown",
   "id": "6bad5feb-a258-4c9f-a06d-b076e14fdfae",
   "metadata": {},
   "source": [
    "# 100 marginal expecations (phasetyper, ptdalgorithms)\n",
    "\n",
    "We agree that matrixdist::inverse_matrix is a bit faster than base:solve on the examples used. This means that phasetyper (which uses base solve) could gain some speed by using matrixdist::inverse_matrix.\n",
    "\n",
    "We compare to phasetyper below  as it offers the same same functionality as ptdalgoritms."
   ]
  },
  {
   "cell_type": "raw",
   "id": "22bffe8a-0868-45bd-8b29-1e1fcfb03c47",
   "metadata": {
    "tags": []
   },
   "source": [
    "%%R -o moments_100_df\n",
    "\n",
    "moments_100_df <- data.frame()\n",
    "\n",
    "for (i in 1:1) {   # PUT THIS BACK TO 1:10.......\n",
    "    for (val in moments100_construction_values) {\n",
    "        graph <- construction_fun(val)\n",
    "        M <- graph_as_matrix(graph)\n",
    "                \n",
    "        phasetyper_time <- NA\n",
    "        ptdalgorithms_time <- NA\n",
    "        if (val <= moments100_max_construction_values_for_matrix) {\n",
    "\n",
    "            # phasetyper\n",
    "            Y <- PH(M$SIM, M$IPV)            \n",
    "            rewards <- rep(1, length(M$IPV))\n",
    "            start <- proc.time()[3]\n",
    "            for (i in 1:100) {\n",
    "               Y <- PhaseTypeR::reward_phase_type(Y, rewards)\n",
    "               PhaseTypeR::mean(Y)\n",
    "            }\n",
    "            end <- proc.time()[3]\n",
    "            phasetyper_time <- end - start                     \n",
    "        }\n",
    "        \n",
    "        start <- proc.time()[3]\n",
    "        rewards <- rep(1, length(rowSums(states(graph))))\n",
    "        for (i in 1:100) {\n",
    "           graph <- reward_transform(graph, rewards)\n",
    "           expectation(graph)\n",
    "        }\n",
    "        end <- proc.time()[3]\n",
    "        ptdalgorithms_time = end-start\n",
    "        moments_100_df <- rbind(moments_100_df, list(val=val, \n",
    "                                                     ptdalgorithms_time=ptdalgorithms_time, \n",
    "                                                     phasetyper_time=phasetyper_time,\n",
    "                                                     vertices=vertices_length(graph), \n",
    "                                                     edges=number_of_edges(graph)))\n",
    "    }\n",
    "}"
   ]
  },
  {
   "cell_type": "raw",
   "id": "1880d381-50c7-4523-a376-cab27c5192d4",
   "metadata": {},
   "source": [
    "plot_df = (moments_100_df.groupby(['val', 'vertices', 'edges'])\n",
    " .agg('mean') \n",
    " .reset_index()\n",
    " .rename(columns={'val': str(units[0]),\n",
    "                  'ptdalgorithms_time': 'ptdalgorithms:expectation()', \n",
    "                  'phasetyper_time': 'phasetyper::mean()',\n",
    "                  'matrixdist_time': 'matrixdist::moment()',\n",
    "                  'matrixdist_inverse_time': 'matrixdist::inverse_matrix()',\n",
    "                  'solve_time': 'base::solve()'\n",
    "                 })\n",
    " .melt(id_vars=[things, 'vertices', 'edges'], \n",
    "       value_name='seconds', var_name='Method')\n",
    ")\n",
    "fig, axes = runtime_plot(plot_df, [str(units[0]), 'vertices', 'edges'],\n",
    "                         'seconds', 'Method', legend_title=False)\n",
    "for ax in axes:\n",
    "    ax.set_xlim(left=0)\n",
    "plt.savefig(f'figures/moments_100_{str(label[0])}.pdf')"
   ]
  },
  {
   "cell_type": "markdown",
   "id": "e94689cc-c51b-4be0-bba6-092bb0adb356",
   "metadata": {},
   "source": [
    "# Distribution (CDF 100 vals)"
   ]
  },
  {
   "cell_type": "raw",
   "id": "e0125ace-71c7-42fd-80a7-c940f08baf89",
   "metadata": {},
   "source": [
    "%%R -o both_distribution_functions\n",
    "\n",
    "cdf_vals <- seq(from = 0.1, to = 10, by = 0.1)\n",
    "\n",
    "\n",
    "results <- data.frame()\n",
    "for (i in 1:1) {   # PUT THIS BACK TO 1:10.......\n",
    "    for (val in cdf100_construction_values){\n",
    "        \n",
    "            phasetyper_time <- NA\n",
    "            ptdalgorithm_time <- NA\n",
    "        \n",
    "            graph <- construction_fun(val)\n",
    "            start <- proc.time()[3]\n",
    "            ptdcdf <- ptdalgorithms::pph(cdf_vals, graph)\n",
    "            stop <- proc.time()[3]\n",
    "            ptdalgorithm_time <- stop - start\n",
    "        \n",
    "            if (val <= cdf100_max_construction_values_for_matrix) {\n",
    "                 M <- graph_as_matrix(graph)\n",
    "\n",
    "                start <- proc.time()[3]\n",
    "                Y <- PhaseTypeR::PH(M$SIM, M$IPV)\n",
    "                PhaseTypeR::pPH(cdf_vals, Y)\n",
    "                stop <- proc.time()[3]\n",
    "                phasetyper_time <- stop - start\n",
    "\n",
    "                # matrixdist_ph <- ph(M$IPV, M$SIM)\n",
    "                # start <- proc.time()[3]\n",
    "                # mdcdf <- matrixdist::cdf(matrixdist_ph, cdf_vals)\n",
    "                # stop <- proc.time()[3]\n",
    "                # matrixdist_time <- stop - start\n",
    "\n",
    "                # SIM <- M$SIM\n",
    "                # start <- proc.time()[3]\n",
    "                # expm::expm(SIM, method=\"Higham08.b\")\n",
    "                # stop <- proc.time()[3]\n",
    "                # expm_time <- stop - start           \n",
    "            }\n",
    "\n",
    "\n",
    "            results <- rbind(results, list(val=val, \n",
    "                                                     ptdalgorithm_time=ptdalgorithm_time,\n",
    "                                                     phasetyper_time=phasetyper_time,\n",
    "                                                     # matrixdist_time=matrixdist_time,\n",
    "                                                     # expm_time=expm_time,\n",
    "                                                     vertices=vertices_length(graph), \n",
    "                                                     edges=number_of_edges(graph)))\n",
    "    }\n",
    "}\n",
    "both_distribution_functions <- results"
   ]
  },
  {
   "cell_type": "raw",
   "id": "d93ee4eb-a4fd-400b-897b-2d819e9f79a5",
   "metadata": {},
   "source": [
    "plot_df = (both_distribution_functions.groupby(['val', 'vertices', 'edges'])\n",
    " .agg('mean') \n",
    " .reset_index()\n",
    " .rename(columns={'val': str(units[0]),\n",
    "                  'ptdalgorithms_time': 'ptdalgorithms:expectation()', \n",
    "                  'phasetyper_time': 'phasetyper::mean()'})\n",
    " .melt(id_vars=[things, 'vertices', 'edges'], \n",
    "       value_name='seconds', var_name='Method')\n",
    ")\n",
    "fig, axes = runtime_plot(plot_df, [str(units[0]), 'vertices', 'edges'],\n",
    "                         'seconds', 'Method', legend_title=False)\n",
    "for ax in axes:\n",
    "    ax.set_xlim(left=0)\n",
    "#plt.savefig(f'figures/both_distribution_functions_{label}.pdf')"
   ]
  },
  {
   "cell_type": "code",
   "execution_count": null,
   "id": "0e61deab-6b72-4f6c-ad95-435f22acee16",
   "metadata": {},
   "outputs": [],
   "source": []
  },
  {
   "cell_type": "raw",
   "id": "b0c9b696-9a91-41f8-b2b7-f085c001fcb3",
   "metadata": {},
   "source": [
    "%%R\n",
    "rabbits <- 10\n",
    "graph <- construct_rabbit_graph(rabbits, 2, 4)\n",
    "x <- seq(from = 0.1, to = 10, by = 0.1)\n",
    "ptdcdf <- ptdalgorithms::pph(x, graph)\n",
    "qplot(x, ptdcdf)"
   ]
  },
  {
   "cell_type": "code",
   "execution_count": null,
   "id": "febe5956-f620-4adb-866b-f75cfd89437e",
   "metadata": {},
   "outputs": [],
   "source": []
  }
 ],
 "metadata": {
  "kernelspec": {
   "display_name": "Python 3 (ipykernel)",
   "language": "python",
   "name": "python3"
  },
  "language_info": {
   "codemirror_mode": {
    "name": "ipython",
    "version": 3
   },
   "file_extension": ".py",
   "mimetype": "text/x-python",
   "name": "python",
   "nbconvert_exporter": "python",
   "pygments_lexer": "ipython3",
   "version": "3.8.13"
  }
 },
 "nbformat": 4,
 "nbformat_minor": 5
}
